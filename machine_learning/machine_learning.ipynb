{
 "cells": [
  {
   "cell_type": "markdown",
   "metadata": {},
   "source": [
    "Входные данные - данные с параметрами добычи и очистки\n",
    "**Описание данных**\n",
    "\n",
    "**Технологический процесс**\n",
    "\n",
    "Rougher feed — исходное сырье\n",
    "\n",
    "Rougher additions (или reagent additions) — флотационные реагенты: Xanthate, Sulphate, Depressant\n",
    "\n",
    "Xanthate — ксантогенат (промотер, или активатор флотации);\n",
    "\n",
    "Sulphate — сульфат (на данном производстве сульфид натрия);\n",
    "\n",
    "Depressant — депрессант (силикат натрия).\n",
    "\n",
    "Rougher process (англ. «грубый процесс») — флотация\n",
    "\n",
    "Rougher tails — отвальные хвосты\n",
    "\n",
    "Float banks — флотационная установка\n",
    "\n",
    "Cleaner process — очистка\n",
    "\n",
    "Rougher Au — черновой концентрат золота\n",
    "\n",
    "Final Au — финальный концентрат золота\n",
    "\n",
    "**Параметры этапов**\n",
    "\n",
    "air amount — объём воздуха\n",
    "\n",
    "fluid levels — уровень жидкости\n",
    "\n",
    "feed size — размер гранул сырья\n",
    "\n",
    "feed rate — скорость подачи\n",
    "\n",
    "**Наименование признаков**\n",
    "\n",
    "Наименование признаков должно быть такое:\n",
    "[этап].[тип_параметра].[название_параметра]\n",
    "\n",
    "*Пример: rougher.input.feed_ag*\n",
    " \n",
    "**Возможные значения для блока [этап]:**\n",
    "\n",
    "rougher — флотация\n",
    "\n",
    "primary_cleaner — первичная очистка\n",
    "\n",
    "secondary_cleaner — вторичная очистка\n",
    "\n",
    "final — финальные характеристики\n",
    "\n",
    "**Возможные значения для блока [тип_параметра]:**\n",
    "\n",
    "input — параметры сырья\n",
    "\n",
    "output — параметры продукта\n",
    "\n",
    "state — параметры, характеризующие текущее состояние этапа\n",
    "\n",
    "calculation — расчётные характеристики"
   ]
  },
  {
   "cell_type": "markdown",
   "metadata": {},
   "source": [
    "## Подготовка данных"
   ]
  },
  {
   "cell_type": "code",
   "execution_count": 1,
   "metadata": {},
   "outputs": [],
   "source": [
    "import pandas as pd\n",
    "import matplotlib.pyplot as plt\n",
    "from sklearn.linear_model import LinearRegression\n",
    "from sklearn.ensemble import RandomForestRegressor\n",
    "from sklearn.model_selection import cross_val_score\n",
    "from sklearn.model_selection import GridSearchCV\n",
    "from sklearn.metrics import make_scorer\n",
    "from sklearn.metrics import mean_absolute_error\n",
    "from sklearn.dummy import DummyRegressor\n",
    "pd.set_option('display.max_columns', 100)\n",
    "pd.set_option('display.max_rows', 100)"
   ]
  },
  {
   "cell_type": "code",
   "execution_count": 2,
   "metadata": {},
   "outputs": [],
   "source": [
    "train = pd.read_csv('/datasets/gold_recovery_train_new.csv')"
   ]
  },
  {
   "cell_type": "code",
   "execution_count": 3,
   "metadata": {},
   "outputs": [
    {
     "data": {
      "text/html": [
       "<div>\n",
       "<style scoped>\n",
       "    .dataframe tbody tr th:only-of-type {\n",
       "        vertical-align: middle;\n",
       "    }\n",
       "\n",
       "    .dataframe tbody tr th {\n",
       "        vertical-align: top;\n",
       "    }\n",
       "\n",
       "    .dataframe thead th {\n",
       "        text-align: right;\n",
       "    }\n",
       "</style>\n",
       "<table border=\"1\" class=\"dataframe\">\n",
       "  <thead>\n",
       "    <tr style=\"text-align: right;\">\n",
       "      <th></th>\n",
       "      <th>date</th>\n",
       "      <th>final.output.concentrate_ag</th>\n",
       "      <th>final.output.concentrate_pb</th>\n",
       "      <th>final.output.concentrate_sol</th>\n",
       "      <th>final.output.concentrate_au</th>\n",
       "      <th>final.output.recovery</th>\n",
       "      <th>final.output.tail_ag</th>\n",
       "      <th>final.output.tail_pb</th>\n",
       "      <th>final.output.tail_sol</th>\n",
       "      <th>final.output.tail_au</th>\n",
       "      <th>primary_cleaner.input.sulfate</th>\n",
       "      <th>primary_cleaner.input.depressant</th>\n",
       "      <th>primary_cleaner.input.feed_size</th>\n",
       "      <th>primary_cleaner.input.xanthate</th>\n",
       "      <th>primary_cleaner.output.concentrate_ag</th>\n",
       "      <th>primary_cleaner.output.concentrate_pb</th>\n",
       "      <th>primary_cleaner.output.concentrate_sol</th>\n",
       "      <th>primary_cleaner.output.concentrate_au</th>\n",
       "      <th>primary_cleaner.output.tail_ag</th>\n",
       "      <th>primary_cleaner.output.tail_pb</th>\n",
       "      <th>primary_cleaner.output.tail_sol</th>\n",
       "      <th>primary_cleaner.output.tail_au</th>\n",
       "      <th>primary_cleaner.state.floatbank8_a_air</th>\n",
       "      <th>primary_cleaner.state.floatbank8_a_level</th>\n",
       "      <th>primary_cleaner.state.floatbank8_b_air</th>\n",
       "      <th>primary_cleaner.state.floatbank8_b_level</th>\n",
       "      <th>primary_cleaner.state.floatbank8_c_air</th>\n",
       "      <th>primary_cleaner.state.floatbank8_c_level</th>\n",
       "      <th>primary_cleaner.state.floatbank8_d_air</th>\n",
       "      <th>primary_cleaner.state.floatbank8_d_level</th>\n",
       "      <th>rougher.calculation.sulfate_to_au_concentrate</th>\n",
       "      <th>rougher.calculation.floatbank10_sulfate_to_au_feed</th>\n",
       "      <th>rougher.calculation.floatbank11_sulfate_to_au_feed</th>\n",
       "      <th>rougher.calculation.au_pb_ratio</th>\n",
       "      <th>rougher.input.feed_ag</th>\n",
       "      <th>rougher.input.feed_pb</th>\n",
       "      <th>rougher.input.feed_rate</th>\n",
       "      <th>rougher.input.feed_size</th>\n",
       "      <th>rougher.input.feed_sol</th>\n",
       "      <th>rougher.input.feed_au</th>\n",
       "      <th>rougher.input.floatbank10_sulfate</th>\n",
       "      <th>rougher.input.floatbank10_xanthate</th>\n",
       "      <th>rougher.input.floatbank11_sulfate</th>\n",
       "      <th>rougher.input.floatbank11_xanthate</th>\n",
       "      <th>rougher.output.concentrate_ag</th>\n",
       "      <th>rougher.output.concentrate_pb</th>\n",
       "      <th>rougher.output.concentrate_sol</th>\n",
       "      <th>rougher.output.concentrate_au</th>\n",
       "      <th>rougher.output.recovery</th>\n",
       "      <th>rougher.output.tail_ag</th>\n",
       "      <th>rougher.output.tail_pb</th>\n",
       "      <th>rougher.output.tail_sol</th>\n",
       "      <th>rougher.output.tail_au</th>\n",
       "      <th>rougher.state.floatbank10_a_air</th>\n",
       "      <th>rougher.state.floatbank10_a_level</th>\n",
       "      <th>rougher.state.floatbank10_b_air</th>\n",
       "      <th>rougher.state.floatbank10_b_level</th>\n",
       "      <th>rougher.state.floatbank10_c_air</th>\n",
       "      <th>rougher.state.floatbank10_c_level</th>\n",
       "      <th>rougher.state.floatbank10_d_air</th>\n",
       "      <th>rougher.state.floatbank10_d_level</th>\n",
       "      <th>rougher.state.floatbank10_e_air</th>\n",
       "      <th>rougher.state.floatbank10_e_level</th>\n",
       "      <th>rougher.state.floatbank10_f_air</th>\n",
       "      <th>rougher.state.floatbank10_f_level</th>\n",
       "      <th>secondary_cleaner.output.tail_ag</th>\n",
       "      <th>secondary_cleaner.output.tail_pb</th>\n",
       "      <th>secondary_cleaner.output.tail_sol</th>\n",
       "      <th>secondary_cleaner.output.tail_au</th>\n",
       "      <th>secondary_cleaner.state.floatbank2_a_air</th>\n",
       "      <th>secondary_cleaner.state.floatbank2_a_level</th>\n",
       "      <th>secondary_cleaner.state.floatbank2_b_air</th>\n",
       "      <th>secondary_cleaner.state.floatbank2_b_level</th>\n",
       "      <th>secondary_cleaner.state.floatbank3_a_air</th>\n",
       "      <th>secondary_cleaner.state.floatbank3_a_level</th>\n",
       "      <th>secondary_cleaner.state.floatbank3_b_air</th>\n",
       "      <th>secondary_cleaner.state.floatbank3_b_level</th>\n",
       "      <th>secondary_cleaner.state.floatbank4_a_air</th>\n",
       "      <th>secondary_cleaner.state.floatbank4_a_level</th>\n",
       "      <th>secondary_cleaner.state.floatbank4_b_air</th>\n",
       "      <th>secondary_cleaner.state.floatbank4_b_level</th>\n",
       "      <th>secondary_cleaner.state.floatbank5_a_air</th>\n",
       "      <th>secondary_cleaner.state.floatbank5_a_level</th>\n",
       "      <th>secondary_cleaner.state.floatbank5_b_air</th>\n",
       "      <th>secondary_cleaner.state.floatbank5_b_level</th>\n",
       "      <th>secondary_cleaner.state.floatbank6_a_air</th>\n",
       "      <th>secondary_cleaner.state.floatbank6_a_level</th>\n",
       "    </tr>\n",
       "  </thead>\n",
       "  <tbody>\n",
       "    <tr>\n",
       "      <td>0</td>\n",
       "      <td>2016-01-15 00:00:00</td>\n",
       "      <td>6.055403</td>\n",
       "      <td>9.889648</td>\n",
       "      <td>5.507324</td>\n",
       "      <td>42.192020</td>\n",
       "      <td>70.541216</td>\n",
       "      <td>10.411962</td>\n",
       "      <td>0.895447</td>\n",
       "      <td>16.904297</td>\n",
       "      <td>2.143149</td>\n",
       "      <td>127.092003</td>\n",
       "      <td>10.128295</td>\n",
       "      <td>7.25</td>\n",
       "      <td>0.988759</td>\n",
       "      <td>8.547551</td>\n",
       "      <td>10.389648</td>\n",
       "      <td>19.529297</td>\n",
       "      <td>34.174427</td>\n",
       "      <td>14.936526</td>\n",
       "      <td>2.534912</td>\n",
       "      <td>7.476074</td>\n",
       "      <td>2.106679</td>\n",
       "      <td>1549.775757</td>\n",
       "      <td>-498.912140</td>\n",
       "      <td>1551.434204</td>\n",
       "      <td>-516.403442</td>\n",
       "      <td>1549.873901</td>\n",
       "      <td>-498.666595</td>\n",
       "      <td>1554.367432</td>\n",
       "      <td>-493.428131</td>\n",
       "      <td>41885.707031</td>\n",
       "      <td>3481.779053</td>\n",
       "      <td>3520.337158</td>\n",
       "      <td>2.838687</td>\n",
       "      <td>6.100378</td>\n",
       "      <td>2.284912</td>\n",
       "      <td>523.546326</td>\n",
       "      <td>55.486599</td>\n",
       "      <td>36.808594</td>\n",
       "      <td>6.486150</td>\n",
       "      <td>11.986616</td>\n",
       "      <td>6.007990</td>\n",
       "      <td>11.836743</td>\n",
       "      <td>6.005818</td>\n",
       "      <td>11.500771</td>\n",
       "      <td>7.101074</td>\n",
       "      <td>28.029297</td>\n",
       "      <td>19.793808</td>\n",
       "      <td>87.107763</td>\n",
       "      <td>5.008018</td>\n",
       "      <td>0.508728</td>\n",
       "      <td>19.154297</td>\n",
       "      <td>1.170244</td>\n",
       "      <td>999.706909</td>\n",
       "      <td>-404.066986</td>\n",
       "      <td>1603.011353</td>\n",
       "      <td>-434.715027</td>\n",
       "      <td>1602.375000</td>\n",
       "      <td>-442.204468</td>\n",
       "      <td>1598.937256</td>\n",
       "      <td>-451.294128</td>\n",
       "      <td>1404.472046</td>\n",
       "      <td>-455.462982</td>\n",
       "      <td>1416.354980</td>\n",
       "      <td>-451.939636</td>\n",
       "      <td>14.500184</td>\n",
       "      <td>4.694824</td>\n",
       "      <td>8.764648</td>\n",
       "      <td>2.606185</td>\n",
       "      <td>25.853109</td>\n",
       "      <td>-498.526489</td>\n",
       "      <td>23.893660</td>\n",
       "      <td>-501.406281</td>\n",
       "      <td>23.961798</td>\n",
       "      <td>-495.262817</td>\n",
       "      <td>21.940409</td>\n",
       "      <td>-499.340973</td>\n",
       "      <td>14.016835</td>\n",
       "      <td>-502.488007</td>\n",
       "      <td>12.099931</td>\n",
       "      <td>-504.715942</td>\n",
       "      <td>9.925633</td>\n",
       "      <td>-498.310211</td>\n",
       "      <td>8.079666</td>\n",
       "      <td>-500.470978</td>\n",
       "      <td>14.151341</td>\n",
       "      <td>-605.841980</td>\n",
       "    </tr>\n",
       "    <tr>\n",
       "      <td>1</td>\n",
       "      <td>2016-01-15 01:00:00</td>\n",
       "      <td>6.029369</td>\n",
       "      <td>9.968944</td>\n",
       "      <td>5.257781</td>\n",
       "      <td>42.701629</td>\n",
       "      <td>69.266198</td>\n",
       "      <td>10.462676</td>\n",
       "      <td>0.927452</td>\n",
       "      <td>16.634514</td>\n",
       "      <td>2.224930</td>\n",
       "      <td>125.629232</td>\n",
       "      <td>10.296251</td>\n",
       "      <td>7.25</td>\n",
       "      <td>1.002663</td>\n",
       "      <td>8.558743</td>\n",
       "      <td>10.497069</td>\n",
       "      <td>19.369147</td>\n",
       "      <td>34.118526</td>\n",
       "      <td>16.250511</td>\n",
       "      <td>3.049646</td>\n",
       "      <td>6.733907</td>\n",
       "      <td>2.353017</td>\n",
       "      <td>1576.166671</td>\n",
       "      <td>-500.904965</td>\n",
       "      <td>1575.950626</td>\n",
       "      <td>-499.865889</td>\n",
       "      <td>1575.994189</td>\n",
       "      <td>-499.315107</td>\n",
       "      <td>1574.479259</td>\n",
       "      <td>-498.931665</td>\n",
       "      <td>42050.861809</td>\n",
       "      <td>3498.370979</td>\n",
       "      <td>3489.981857</td>\n",
       "      <td>2.858998</td>\n",
       "      <td>6.161113</td>\n",
       "      <td>2.266033</td>\n",
       "      <td>525.290581</td>\n",
       "      <td>57.278666</td>\n",
       "      <td>35.753385</td>\n",
       "      <td>6.478583</td>\n",
       "      <td>11.971193</td>\n",
       "      <td>6.005766</td>\n",
       "      <td>11.996163</td>\n",
       "      <td>6.012594</td>\n",
       "      <td>11.615865</td>\n",
       "      <td>7.278807</td>\n",
       "      <td>28.067063</td>\n",
       "      <td>20.050975</td>\n",
       "      <td>86.843261</td>\n",
       "      <td>4.955378</td>\n",
       "      <td>0.536689</td>\n",
       "      <td>18.965234</td>\n",
       "      <td>1.184827</td>\n",
       "      <td>1000.286398</td>\n",
       "      <td>-400.065196</td>\n",
       "      <td>1600.754587</td>\n",
       "      <td>-449.953435</td>\n",
       "      <td>1600.479580</td>\n",
       "      <td>-449.830646</td>\n",
       "      <td>1600.527589</td>\n",
       "      <td>-449.953649</td>\n",
       "      <td>1399.227084</td>\n",
       "      <td>-450.869848</td>\n",
       "      <td>1399.719514</td>\n",
       "      <td>-450.119001</td>\n",
       "      <td>14.265474</td>\n",
       "      <td>4.592547</td>\n",
       "      <td>9.001494</td>\n",
       "      <td>2.488248</td>\n",
       "      <td>25.880539</td>\n",
       "      <td>-499.989656</td>\n",
       "      <td>23.889530</td>\n",
       "      <td>-500.372428</td>\n",
       "      <td>23.970550</td>\n",
       "      <td>-500.085473</td>\n",
       "      <td>22.085714</td>\n",
       "      <td>-499.446897</td>\n",
       "      <td>13.992281</td>\n",
       "      <td>-505.503262</td>\n",
       "      <td>11.950531</td>\n",
       "      <td>-501.331529</td>\n",
       "      <td>10.039245</td>\n",
       "      <td>-500.169983</td>\n",
       "      <td>7.984757</td>\n",
       "      <td>-500.582168</td>\n",
       "      <td>13.998353</td>\n",
       "      <td>-599.787184</td>\n",
       "    </tr>\n",
       "    <tr>\n",
       "      <td>2</td>\n",
       "      <td>2016-01-15 02:00:00</td>\n",
       "      <td>6.055926</td>\n",
       "      <td>10.213995</td>\n",
       "      <td>5.383759</td>\n",
       "      <td>42.657501</td>\n",
       "      <td>68.116445</td>\n",
       "      <td>10.507046</td>\n",
       "      <td>0.953716</td>\n",
       "      <td>16.208849</td>\n",
       "      <td>2.257889</td>\n",
       "      <td>123.819808</td>\n",
       "      <td>11.316280</td>\n",
       "      <td>7.25</td>\n",
       "      <td>0.991265</td>\n",
       "      <td>8.603505</td>\n",
       "      <td>10.354494</td>\n",
       "      <td>19.167579</td>\n",
       "      <td>33.969464</td>\n",
       "      <td>16.491823</td>\n",
       "      <td>3.124664</td>\n",
       "      <td>6.471768</td>\n",
       "      <td>2.416800</td>\n",
       "      <td>1601.556163</td>\n",
       "      <td>-499.997791</td>\n",
       "      <td>1600.386685</td>\n",
       "      <td>-500.607762</td>\n",
       "      <td>1602.003542</td>\n",
       "      <td>-500.870069</td>\n",
       "      <td>1599.541515</td>\n",
       "      <td>-499.827444</td>\n",
       "      <td>42018.101184</td>\n",
       "      <td>3495.348910</td>\n",
       "      <td>3502.359819</td>\n",
       "      <td>2.945989</td>\n",
       "      <td>6.116455</td>\n",
       "      <td>2.159622</td>\n",
       "      <td>530.026610</td>\n",
       "      <td>57.510649</td>\n",
       "      <td>35.971630</td>\n",
       "      <td>6.362222</td>\n",
       "      <td>11.920603</td>\n",
       "      <td>6.197377</td>\n",
       "      <td>11.920305</td>\n",
       "      <td>6.204633</td>\n",
       "      <td>11.695753</td>\n",
       "      <td>7.216833</td>\n",
       "      <td>27.454037</td>\n",
       "      <td>19.737170</td>\n",
       "      <td>86.842308</td>\n",
       "      <td>4.843460</td>\n",
       "      <td>0.546416</td>\n",
       "      <td>18.808533</td>\n",
       "      <td>1.162562</td>\n",
       "      <td>999.719565</td>\n",
       "      <td>-400.074028</td>\n",
       "      <td>1599.337330</td>\n",
       "      <td>-450.008530</td>\n",
       "      <td>1599.672797</td>\n",
       "      <td>-449.954491</td>\n",
       "      <td>1599.849325</td>\n",
       "      <td>-449.954185</td>\n",
       "      <td>1399.180945</td>\n",
       "      <td>-449.937588</td>\n",
       "      <td>1400.316682</td>\n",
       "      <td>-450.527147</td>\n",
       "      <td>14.115662</td>\n",
       "      <td>4.624775</td>\n",
       "      <td>8.842896</td>\n",
       "      <td>2.458187</td>\n",
       "      <td>26.005245</td>\n",
       "      <td>-499.929616</td>\n",
       "      <td>23.886657</td>\n",
       "      <td>-499.951928</td>\n",
       "      <td>23.913535</td>\n",
       "      <td>-499.442343</td>\n",
       "      <td>23.957717</td>\n",
       "      <td>-499.901982</td>\n",
       "      <td>14.015015</td>\n",
       "      <td>-502.520901</td>\n",
       "      <td>11.912783</td>\n",
       "      <td>-501.133383</td>\n",
       "      <td>10.070913</td>\n",
       "      <td>-500.129135</td>\n",
       "      <td>8.013877</td>\n",
       "      <td>-500.517572</td>\n",
       "      <td>14.028663</td>\n",
       "      <td>-601.427363</td>\n",
       "    </tr>\n",
       "    <tr>\n",
       "      <td>3</td>\n",
       "      <td>2016-01-15 03:00:00</td>\n",
       "      <td>6.047977</td>\n",
       "      <td>9.977019</td>\n",
       "      <td>4.858634</td>\n",
       "      <td>42.689819</td>\n",
       "      <td>68.347543</td>\n",
       "      <td>10.422762</td>\n",
       "      <td>0.883763</td>\n",
       "      <td>16.532835</td>\n",
       "      <td>2.146849</td>\n",
       "      <td>122.270188</td>\n",
       "      <td>11.322140</td>\n",
       "      <td>7.25</td>\n",
       "      <td>0.996739</td>\n",
       "      <td>7.221879</td>\n",
       "      <td>8.496563</td>\n",
       "      <td>15.978538</td>\n",
       "      <td>28.260743</td>\n",
       "      <td>16.024359</td>\n",
       "      <td>2.960362</td>\n",
       "      <td>6.843791</td>\n",
       "      <td>2.262051</td>\n",
       "      <td>1599.968720</td>\n",
       "      <td>-500.951778</td>\n",
       "      <td>1600.659236</td>\n",
       "      <td>-499.677094</td>\n",
       "      <td>1600.304144</td>\n",
       "      <td>-500.727997</td>\n",
       "      <td>1600.449520</td>\n",
       "      <td>-500.052575</td>\n",
       "      <td>42029.447991</td>\n",
       "      <td>3498.578313</td>\n",
       "      <td>3499.162912</td>\n",
       "      <td>3.002340</td>\n",
       "      <td>6.043309</td>\n",
       "      <td>2.037807</td>\n",
       "      <td>542.590390</td>\n",
       "      <td>57.792734</td>\n",
       "      <td>36.862241</td>\n",
       "      <td>6.118189</td>\n",
       "      <td>11.630094</td>\n",
       "      <td>6.203177</td>\n",
       "      <td>11.692450</td>\n",
       "      <td>6.196578</td>\n",
       "      <td>11.915047</td>\n",
       "      <td>7.175616</td>\n",
       "      <td>27.341277</td>\n",
       "      <td>19.320810</td>\n",
       "      <td>87.226430</td>\n",
       "      <td>4.655288</td>\n",
       "      <td>0.542525</td>\n",
       "      <td>19.330200</td>\n",
       "      <td>1.079755</td>\n",
       "      <td>999.814770</td>\n",
       "      <td>-400.200179</td>\n",
       "      <td>1600.059442</td>\n",
       "      <td>-450.619948</td>\n",
       "      <td>1600.012842</td>\n",
       "      <td>-449.910497</td>\n",
       "      <td>1597.725177</td>\n",
       "      <td>-450.130127</td>\n",
       "      <td>1400.943157</td>\n",
       "      <td>-450.030142</td>\n",
       "      <td>1400.234743</td>\n",
       "      <td>-449.790835</td>\n",
       "      <td>13.732071</td>\n",
       "      <td>4.482453</td>\n",
       "      <td>9.122857</td>\n",
       "      <td>2.322062</td>\n",
       "      <td>25.942508</td>\n",
       "      <td>-499.176749</td>\n",
       "      <td>23.955516</td>\n",
       "      <td>-499.848796</td>\n",
       "      <td>23.966838</td>\n",
       "      <td>-500.008812</td>\n",
       "      <td>23.954443</td>\n",
       "      <td>-499.944710</td>\n",
       "      <td>14.036510</td>\n",
       "      <td>-500.857308</td>\n",
       "      <td>11.999550</td>\n",
       "      <td>-501.193686</td>\n",
       "      <td>9.970366</td>\n",
       "      <td>-499.201640</td>\n",
       "      <td>7.977324</td>\n",
       "      <td>-500.255908</td>\n",
       "      <td>14.005551</td>\n",
       "      <td>-599.996129</td>\n",
       "    </tr>\n",
       "    <tr>\n",
       "      <td>4</td>\n",
       "      <td>2016-01-15 04:00:00</td>\n",
       "      <td>6.148599</td>\n",
       "      <td>10.142511</td>\n",
       "      <td>4.939416</td>\n",
       "      <td>42.774141</td>\n",
       "      <td>66.927016</td>\n",
       "      <td>10.360302</td>\n",
       "      <td>0.792826</td>\n",
       "      <td>16.525686</td>\n",
       "      <td>2.055292</td>\n",
       "      <td>117.988169</td>\n",
       "      <td>11.913613</td>\n",
       "      <td>7.25</td>\n",
       "      <td>1.009869</td>\n",
       "      <td>9.089428</td>\n",
       "      <td>9.986786</td>\n",
       "      <td>19.199864</td>\n",
       "      <td>33.044932</td>\n",
       "      <td>16.480185</td>\n",
       "      <td>3.112100</td>\n",
       "      <td>6.550154</td>\n",
       "      <td>2.277073</td>\n",
       "      <td>1601.339707</td>\n",
       "      <td>-498.975456</td>\n",
       "      <td>1601.437854</td>\n",
       "      <td>-500.323246</td>\n",
       "      <td>1599.581894</td>\n",
       "      <td>-500.888152</td>\n",
       "      <td>1602.649541</td>\n",
       "      <td>-500.593010</td>\n",
       "      <td>42125.354245</td>\n",
       "      <td>3494.800771</td>\n",
       "      <td>3506.679315</td>\n",
       "      <td>3.169615</td>\n",
       "      <td>6.060915</td>\n",
       "      <td>1.786875</td>\n",
       "      <td>540.531893</td>\n",
       "      <td>56.047189</td>\n",
       "      <td>34.347666</td>\n",
       "      <td>5.663707</td>\n",
       "      <td>10.957755</td>\n",
       "      <td>6.198826</td>\n",
       "      <td>10.960521</td>\n",
       "      <td>6.194897</td>\n",
       "      <td>12.411054</td>\n",
       "      <td>7.240205</td>\n",
       "      <td>27.041023</td>\n",
       "      <td>19.216101</td>\n",
       "      <td>86.688794</td>\n",
       "      <td>4.552800</td>\n",
       "      <td>0.515438</td>\n",
       "      <td>19.267422</td>\n",
       "      <td>1.012642</td>\n",
       "      <td>999.678690</td>\n",
       "      <td>-399.752729</td>\n",
       "      <td>1600.208824</td>\n",
       "      <td>-449.599614</td>\n",
       "      <td>1600.357732</td>\n",
       "      <td>-450.034364</td>\n",
       "      <td>1599.759049</td>\n",
       "      <td>-449.909799</td>\n",
       "      <td>1401.560902</td>\n",
       "      <td>-448.877187</td>\n",
       "      <td>1401.160227</td>\n",
       "      <td>-450.407128</td>\n",
       "      <td>14.079996</td>\n",
       "      <td>4.470737</td>\n",
       "      <td>8.871028</td>\n",
       "      <td>2.330448</td>\n",
       "      <td>26.024787</td>\n",
       "      <td>-500.279091</td>\n",
       "      <td>23.955345</td>\n",
       "      <td>-500.593614</td>\n",
       "      <td>23.985703</td>\n",
       "      <td>-500.083811</td>\n",
       "      <td>23.958945</td>\n",
       "      <td>-499.990309</td>\n",
       "      <td>14.027298</td>\n",
       "      <td>-499.838632</td>\n",
       "      <td>11.953070</td>\n",
       "      <td>-501.053894</td>\n",
       "      <td>9.925709</td>\n",
       "      <td>-501.686727</td>\n",
       "      <td>7.894242</td>\n",
       "      <td>-500.356035</td>\n",
       "      <td>13.996647</td>\n",
       "      <td>-601.496691</td>\n",
       "    </tr>\n",
       "  </tbody>\n",
       "</table>\n",
       "</div>"
      ],
      "text/plain": [
       "                  date  final.output.concentrate_ag  \\\n",
       "0  2016-01-15 00:00:00                     6.055403   \n",
       "1  2016-01-15 01:00:00                     6.029369   \n",
       "2  2016-01-15 02:00:00                     6.055926   \n",
       "3  2016-01-15 03:00:00                     6.047977   \n",
       "4  2016-01-15 04:00:00                     6.148599   \n",
       "\n",
       "   final.output.concentrate_pb  final.output.concentrate_sol  \\\n",
       "0                     9.889648                      5.507324   \n",
       "1                     9.968944                      5.257781   \n",
       "2                    10.213995                      5.383759   \n",
       "3                     9.977019                      4.858634   \n",
       "4                    10.142511                      4.939416   \n",
       "\n",
       "   final.output.concentrate_au  final.output.recovery  final.output.tail_ag  \\\n",
       "0                    42.192020              70.541216             10.411962   \n",
       "1                    42.701629              69.266198             10.462676   \n",
       "2                    42.657501              68.116445             10.507046   \n",
       "3                    42.689819              68.347543             10.422762   \n",
       "4                    42.774141              66.927016             10.360302   \n",
       "\n",
       "   final.output.tail_pb  final.output.tail_sol  final.output.tail_au  \\\n",
       "0              0.895447              16.904297              2.143149   \n",
       "1              0.927452              16.634514              2.224930   \n",
       "2              0.953716              16.208849              2.257889   \n",
       "3              0.883763              16.532835              2.146849   \n",
       "4              0.792826              16.525686              2.055292   \n",
       "\n",
       "   primary_cleaner.input.sulfate  primary_cleaner.input.depressant  \\\n",
       "0                     127.092003                         10.128295   \n",
       "1                     125.629232                         10.296251   \n",
       "2                     123.819808                         11.316280   \n",
       "3                     122.270188                         11.322140   \n",
       "4                     117.988169                         11.913613   \n",
       "\n",
       "   primary_cleaner.input.feed_size  primary_cleaner.input.xanthate  \\\n",
       "0                             7.25                        0.988759   \n",
       "1                             7.25                        1.002663   \n",
       "2                             7.25                        0.991265   \n",
       "3                             7.25                        0.996739   \n",
       "4                             7.25                        1.009869   \n",
       "\n",
       "   primary_cleaner.output.concentrate_ag  \\\n",
       "0                               8.547551   \n",
       "1                               8.558743   \n",
       "2                               8.603505   \n",
       "3                               7.221879   \n",
       "4                               9.089428   \n",
       "\n",
       "   primary_cleaner.output.concentrate_pb  \\\n",
       "0                              10.389648   \n",
       "1                              10.497069   \n",
       "2                              10.354494   \n",
       "3                               8.496563   \n",
       "4                               9.986786   \n",
       "\n",
       "   primary_cleaner.output.concentrate_sol  \\\n",
       "0                               19.529297   \n",
       "1                               19.369147   \n",
       "2                               19.167579   \n",
       "3                               15.978538   \n",
       "4                               19.199864   \n",
       "\n",
       "   primary_cleaner.output.concentrate_au  primary_cleaner.output.tail_ag  \\\n",
       "0                              34.174427                       14.936526   \n",
       "1                              34.118526                       16.250511   \n",
       "2                              33.969464                       16.491823   \n",
       "3                              28.260743                       16.024359   \n",
       "4                              33.044932                       16.480185   \n",
       "\n",
       "   primary_cleaner.output.tail_pb  primary_cleaner.output.tail_sol  \\\n",
       "0                        2.534912                         7.476074   \n",
       "1                        3.049646                         6.733907   \n",
       "2                        3.124664                         6.471768   \n",
       "3                        2.960362                         6.843791   \n",
       "4                        3.112100                         6.550154   \n",
       "\n",
       "   primary_cleaner.output.tail_au  primary_cleaner.state.floatbank8_a_air  \\\n",
       "0                        2.106679                             1549.775757   \n",
       "1                        2.353017                             1576.166671   \n",
       "2                        2.416800                             1601.556163   \n",
       "3                        2.262051                             1599.968720   \n",
       "4                        2.277073                             1601.339707   \n",
       "\n",
       "   primary_cleaner.state.floatbank8_a_level  \\\n",
       "0                               -498.912140   \n",
       "1                               -500.904965   \n",
       "2                               -499.997791   \n",
       "3                               -500.951778   \n",
       "4                               -498.975456   \n",
       "\n",
       "   primary_cleaner.state.floatbank8_b_air  \\\n",
       "0                             1551.434204   \n",
       "1                             1575.950626   \n",
       "2                             1600.386685   \n",
       "3                             1600.659236   \n",
       "4                             1601.437854   \n",
       "\n",
       "   primary_cleaner.state.floatbank8_b_level  \\\n",
       "0                               -516.403442   \n",
       "1                               -499.865889   \n",
       "2                               -500.607762   \n",
       "3                               -499.677094   \n",
       "4                               -500.323246   \n",
       "\n",
       "   primary_cleaner.state.floatbank8_c_air  \\\n",
       "0                             1549.873901   \n",
       "1                             1575.994189   \n",
       "2                             1602.003542   \n",
       "3                             1600.304144   \n",
       "4                             1599.581894   \n",
       "\n",
       "   primary_cleaner.state.floatbank8_c_level  \\\n",
       "0                               -498.666595   \n",
       "1                               -499.315107   \n",
       "2                               -500.870069   \n",
       "3                               -500.727997   \n",
       "4                               -500.888152   \n",
       "\n",
       "   primary_cleaner.state.floatbank8_d_air  \\\n",
       "0                             1554.367432   \n",
       "1                             1574.479259   \n",
       "2                             1599.541515   \n",
       "3                             1600.449520   \n",
       "4                             1602.649541   \n",
       "\n",
       "   primary_cleaner.state.floatbank8_d_level  \\\n",
       "0                               -493.428131   \n",
       "1                               -498.931665   \n",
       "2                               -499.827444   \n",
       "3                               -500.052575   \n",
       "4                               -500.593010   \n",
       "\n",
       "   rougher.calculation.sulfate_to_au_concentrate  \\\n",
       "0                                   41885.707031   \n",
       "1                                   42050.861809   \n",
       "2                                   42018.101184   \n",
       "3                                   42029.447991   \n",
       "4                                   42125.354245   \n",
       "\n",
       "   rougher.calculation.floatbank10_sulfate_to_au_feed  \\\n",
       "0                                        3481.779053    \n",
       "1                                        3498.370979    \n",
       "2                                        3495.348910    \n",
       "3                                        3498.578313    \n",
       "4                                        3494.800771    \n",
       "\n",
       "   rougher.calculation.floatbank11_sulfate_to_au_feed  \\\n",
       "0                                        3520.337158    \n",
       "1                                        3489.981857    \n",
       "2                                        3502.359819    \n",
       "3                                        3499.162912    \n",
       "4                                        3506.679315    \n",
       "\n",
       "   rougher.calculation.au_pb_ratio  rougher.input.feed_ag  \\\n",
       "0                         2.838687               6.100378   \n",
       "1                         2.858998               6.161113   \n",
       "2                         2.945989               6.116455   \n",
       "3                         3.002340               6.043309   \n",
       "4                         3.169615               6.060915   \n",
       "\n",
       "   rougher.input.feed_pb  rougher.input.feed_rate  rougher.input.feed_size  \\\n",
       "0               2.284912               523.546326                55.486599   \n",
       "1               2.266033               525.290581                57.278666   \n",
       "2               2.159622               530.026610                57.510649   \n",
       "3               2.037807               542.590390                57.792734   \n",
       "4               1.786875               540.531893                56.047189   \n",
       "\n",
       "   rougher.input.feed_sol  rougher.input.feed_au  \\\n",
       "0               36.808594               6.486150   \n",
       "1               35.753385               6.478583   \n",
       "2               35.971630               6.362222   \n",
       "3               36.862241               6.118189   \n",
       "4               34.347666               5.663707   \n",
       "\n",
       "   rougher.input.floatbank10_sulfate  rougher.input.floatbank10_xanthate  \\\n",
       "0                          11.986616                            6.007990   \n",
       "1                          11.971193                            6.005766   \n",
       "2                          11.920603                            6.197377   \n",
       "3                          11.630094                            6.203177   \n",
       "4                          10.957755                            6.198826   \n",
       "\n",
       "   rougher.input.floatbank11_sulfate  rougher.input.floatbank11_xanthate  \\\n",
       "0                          11.836743                            6.005818   \n",
       "1                          11.996163                            6.012594   \n",
       "2                          11.920305                            6.204633   \n",
       "3                          11.692450                            6.196578   \n",
       "4                          10.960521                            6.194897   \n",
       "\n",
       "   rougher.output.concentrate_ag  rougher.output.concentrate_pb  \\\n",
       "0                      11.500771                       7.101074   \n",
       "1                      11.615865                       7.278807   \n",
       "2                      11.695753                       7.216833   \n",
       "3                      11.915047                       7.175616   \n",
       "4                      12.411054                       7.240205   \n",
       "\n",
       "   rougher.output.concentrate_sol  rougher.output.concentrate_au  \\\n",
       "0                       28.029297                      19.793808   \n",
       "1                       28.067063                      20.050975   \n",
       "2                       27.454037                      19.737170   \n",
       "3                       27.341277                      19.320810   \n",
       "4                       27.041023                      19.216101   \n",
       "\n",
       "   rougher.output.recovery  rougher.output.tail_ag  rougher.output.tail_pb  \\\n",
       "0                87.107763                5.008018                0.508728   \n",
       "1                86.843261                4.955378                0.536689   \n",
       "2                86.842308                4.843460                0.546416   \n",
       "3                87.226430                4.655288                0.542525   \n",
       "4                86.688794                4.552800                0.515438   \n",
       "\n",
       "   rougher.output.tail_sol  rougher.output.tail_au  \\\n",
       "0                19.154297                1.170244   \n",
       "1                18.965234                1.184827   \n",
       "2                18.808533                1.162562   \n",
       "3                19.330200                1.079755   \n",
       "4                19.267422                1.012642   \n",
       "\n",
       "   rougher.state.floatbank10_a_air  rougher.state.floatbank10_a_level  \\\n",
       "0                       999.706909                        -404.066986   \n",
       "1                      1000.286398                        -400.065196   \n",
       "2                       999.719565                        -400.074028   \n",
       "3                       999.814770                        -400.200179   \n",
       "4                       999.678690                        -399.752729   \n",
       "\n",
       "   rougher.state.floatbank10_b_air  rougher.state.floatbank10_b_level  \\\n",
       "0                      1603.011353                        -434.715027   \n",
       "1                      1600.754587                        -449.953435   \n",
       "2                      1599.337330                        -450.008530   \n",
       "3                      1600.059442                        -450.619948   \n",
       "4                      1600.208824                        -449.599614   \n",
       "\n",
       "   rougher.state.floatbank10_c_air  rougher.state.floatbank10_c_level  \\\n",
       "0                      1602.375000                        -442.204468   \n",
       "1                      1600.479580                        -449.830646   \n",
       "2                      1599.672797                        -449.954491   \n",
       "3                      1600.012842                        -449.910497   \n",
       "4                      1600.357732                        -450.034364   \n",
       "\n",
       "   rougher.state.floatbank10_d_air  rougher.state.floatbank10_d_level  \\\n",
       "0                      1598.937256                        -451.294128   \n",
       "1                      1600.527589                        -449.953649   \n",
       "2                      1599.849325                        -449.954185   \n",
       "3                      1597.725177                        -450.130127   \n",
       "4                      1599.759049                        -449.909799   \n",
       "\n",
       "   rougher.state.floatbank10_e_air  rougher.state.floatbank10_e_level  \\\n",
       "0                      1404.472046                        -455.462982   \n",
       "1                      1399.227084                        -450.869848   \n",
       "2                      1399.180945                        -449.937588   \n",
       "3                      1400.943157                        -450.030142   \n",
       "4                      1401.560902                        -448.877187   \n",
       "\n",
       "   rougher.state.floatbank10_f_air  rougher.state.floatbank10_f_level  \\\n",
       "0                      1416.354980                        -451.939636   \n",
       "1                      1399.719514                        -450.119001   \n",
       "2                      1400.316682                        -450.527147   \n",
       "3                      1400.234743                        -449.790835   \n",
       "4                      1401.160227                        -450.407128   \n",
       "\n",
       "   secondary_cleaner.output.tail_ag  secondary_cleaner.output.tail_pb  \\\n",
       "0                         14.500184                          4.694824   \n",
       "1                         14.265474                          4.592547   \n",
       "2                         14.115662                          4.624775   \n",
       "3                         13.732071                          4.482453   \n",
       "4                         14.079996                          4.470737   \n",
       "\n",
       "   secondary_cleaner.output.tail_sol  secondary_cleaner.output.tail_au  \\\n",
       "0                           8.764648                          2.606185   \n",
       "1                           9.001494                          2.488248   \n",
       "2                           8.842896                          2.458187   \n",
       "3                           9.122857                          2.322062   \n",
       "4                           8.871028                          2.330448   \n",
       "\n",
       "   secondary_cleaner.state.floatbank2_a_air  \\\n",
       "0                                 25.853109   \n",
       "1                                 25.880539   \n",
       "2                                 26.005245   \n",
       "3                                 25.942508   \n",
       "4                                 26.024787   \n",
       "\n",
       "   secondary_cleaner.state.floatbank2_a_level  \\\n",
       "0                                 -498.526489   \n",
       "1                                 -499.989656   \n",
       "2                                 -499.929616   \n",
       "3                                 -499.176749   \n",
       "4                                 -500.279091   \n",
       "\n",
       "   secondary_cleaner.state.floatbank2_b_air  \\\n",
       "0                                 23.893660   \n",
       "1                                 23.889530   \n",
       "2                                 23.886657   \n",
       "3                                 23.955516   \n",
       "4                                 23.955345   \n",
       "\n",
       "   secondary_cleaner.state.floatbank2_b_level  \\\n",
       "0                                 -501.406281   \n",
       "1                                 -500.372428   \n",
       "2                                 -499.951928   \n",
       "3                                 -499.848796   \n",
       "4                                 -500.593614   \n",
       "\n",
       "   secondary_cleaner.state.floatbank3_a_air  \\\n",
       "0                                 23.961798   \n",
       "1                                 23.970550   \n",
       "2                                 23.913535   \n",
       "3                                 23.966838   \n",
       "4                                 23.985703   \n",
       "\n",
       "   secondary_cleaner.state.floatbank3_a_level  \\\n",
       "0                                 -495.262817   \n",
       "1                                 -500.085473   \n",
       "2                                 -499.442343   \n",
       "3                                 -500.008812   \n",
       "4                                 -500.083811   \n",
       "\n",
       "   secondary_cleaner.state.floatbank3_b_air  \\\n",
       "0                                 21.940409   \n",
       "1                                 22.085714   \n",
       "2                                 23.957717   \n",
       "3                                 23.954443   \n",
       "4                                 23.958945   \n",
       "\n",
       "   secondary_cleaner.state.floatbank3_b_level  \\\n",
       "0                                 -499.340973   \n",
       "1                                 -499.446897   \n",
       "2                                 -499.901982   \n",
       "3                                 -499.944710   \n",
       "4                                 -499.990309   \n",
       "\n",
       "   secondary_cleaner.state.floatbank4_a_air  \\\n",
       "0                                 14.016835   \n",
       "1                                 13.992281   \n",
       "2                                 14.015015   \n",
       "3                                 14.036510   \n",
       "4                                 14.027298   \n",
       "\n",
       "   secondary_cleaner.state.floatbank4_a_level  \\\n",
       "0                                 -502.488007   \n",
       "1                                 -505.503262   \n",
       "2                                 -502.520901   \n",
       "3                                 -500.857308   \n",
       "4                                 -499.838632   \n",
       "\n",
       "   secondary_cleaner.state.floatbank4_b_air  \\\n",
       "0                                 12.099931   \n",
       "1                                 11.950531   \n",
       "2                                 11.912783   \n",
       "3                                 11.999550   \n",
       "4                                 11.953070   \n",
       "\n",
       "   secondary_cleaner.state.floatbank4_b_level  \\\n",
       "0                                 -504.715942   \n",
       "1                                 -501.331529   \n",
       "2                                 -501.133383   \n",
       "3                                 -501.193686   \n",
       "4                                 -501.053894   \n",
       "\n",
       "   secondary_cleaner.state.floatbank5_a_air  \\\n",
       "0                                  9.925633   \n",
       "1                                 10.039245   \n",
       "2                                 10.070913   \n",
       "3                                  9.970366   \n",
       "4                                  9.925709   \n",
       "\n",
       "   secondary_cleaner.state.floatbank5_a_level  \\\n",
       "0                                 -498.310211   \n",
       "1                                 -500.169983   \n",
       "2                                 -500.129135   \n",
       "3                                 -499.201640   \n",
       "4                                 -501.686727   \n",
       "\n",
       "   secondary_cleaner.state.floatbank5_b_air  \\\n",
       "0                                  8.079666   \n",
       "1                                  7.984757   \n",
       "2                                  8.013877   \n",
       "3                                  7.977324   \n",
       "4                                  7.894242   \n",
       "\n",
       "   secondary_cleaner.state.floatbank5_b_level  \\\n",
       "0                                 -500.470978   \n",
       "1                                 -500.582168   \n",
       "2                                 -500.517572   \n",
       "3                                 -500.255908   \n",
       "4                                 -500.356035   \n",
       "\n",
       "   secondary_cleaner.state.floatbank6_a_air  \\\n",
       "0                                 14.151341   \n",
       "1                                 13.998353   \n",
       "2                                 14.028663   \n",
       "3                                 14.005551   \n",
       "4                                 13.996647   \n",
       "\n",
       "   secondary_cleaner.state.floatbank6_a_level  \n",
       "0                                 -605.841980  \n",
       "1                                 -599.787184  \n",
       "2                                 -601.427363  \n",
       "3                                 -599.996129  \n",
       "4                                 -601.496691  "
      ]
     },
     "execution_count": 3,
     "metadata": {},
     "output_type": "execute_result"
    }
   ],
   "source": [
    "train.head()"
   ]
  },
  {
   "cell_type": "code",
   "execution_count": 4,
   "metadata": {},
   "outputs": [
    {
     "name": "stdout",
     "output_type": "stream",
     "text": [
      "<class 'pandas.core.frame.DataFrame'>\n",
      "RangeIndex: 14149 entries, 0 to 14148\n",
      "Data columns (total 87 columns):\n",
      "date                                                  14149 non-null object\n",
      "final.output.concentrate_ag                           14148 non-null float64\n",
      "final.output.concentrate_pb                           14148 non-null float64\n",
      "final.output.concentrate_sol                          13938 non-null float64\n",
      "final.output.concentrate_au                           14149 non-null float64\n",
      "final.output.recovery                                 14149 non-null float64\n",
      "final.output.tail_ag                                  14149 non-null float64\n",
      "final.output.tail_pb                                  14049 non-null float64\n",
      "final.output.tail_sol                                 14144 non-null float64\n",
      "final.output.tail_au                                  14149 non-null float64\n",
      "primary_cleaner.input.sulfate                         14129 non-null float64\n",
      "primary_cleaner.input.depressant                      14117 non-null float64\n",
      "primary_cleaner.input.feed_size                       14149 non-null float64\n",
      "primary_cleaner.input.xanthate                        14049 non-null float64\n",
      "primary_cleaner.output.concentrate_ag                 14149 non-null float64\n",
      "primary_cleaner.output.concentrate_pb                 14063 non-null float64\n",
      "primary_cleaner.output.concentrate_sol                13863 non-null float64\n",
      "primary_cleaner.output.concentrate_au                 14149 non-null float64\n",
      "primary_cleaner.output.tail_ag                        14148 non-null float64\n",
      "primary_cleaner.output.tail_pb                        14134 non-null float64\n",
      "primary_cleaner.output.tail_sol                       14103 non-null float64\n",
      "primary_cleaner.output.tail_au                        14149 non-null float64\n",
      "primary_cleaner.state.floatbank8_a_air                14145 non-null float64\n",
      "primary_cleaner.state.floatbank8_a_level              14148 non-null float64\n",
      "primary_cleaner.state.floatbank8_b_air                14145 non-null float64\n",
      "primary_cleaner.state.floatbank8_b_level              14148 non-null float64\n",
      "primary_cleaner.state.floatbank8_c_air                14147 non-null float64\n",
      "primary_cleaner.state.floatbank8_c_level              14148 non-null float64\n",
      "primary_cleaner.state.floatbank8_d_air                14146 non-null float64\n",
      "primary_cleaner.state.floatbank8_d_level              14148 non-null float64\n",
      "rougher.calculation.sulfate_to_au_concentrate         14148 non-null float64\n",
      "rougher.calculation.floatbank10_sulfate_to_au_feed    14148 non-null float64\n",
      "rougher.calculation.floatbank11_sulfate_to_au_feed    14148 non-null float64\n",
      "rougher.calculation.au_pb_ratio                       14149 non-null float64\n",
      "rougher.input.feed_ag                                 14149 non-null float64\n",
      "rougher.input.feed_pb                                 14049 non-null float64\n",
      "rougher.input.feed_rate                               14141 non-null float64\n",
      "rougher.input.feed_size                               14005 non-null float64\n",
      "rougher.input.feed_sol                                14071 non-null float64\n",
      "rougher.input.feed_au                                 14149 non-null float64\n",
      "rougher.input.floatbank10_sulfate                     14120 non-null float64\n",
      "rougher.input.floatbank10_xanthate                    14141 non-null float64\n",
      "rougher.input.floatbank11_sulfate                     14113 non-null float64\n",
      "rougher.input.floatbank11_xanthate                    13721 non-null float64\n",
      "rougher.output.concentrate_ag                         14149 non-null float64\n",
      "rougher.output.concentrate_pb                         14149 non-null float64\n",
      "rougher.output.concentrate_sol                        14127 non-null float64\n",
      "rougher.output.concentrate_au                         14149 non-null float64\n",
      "rougher.output.recovery                               14149 non-null float64\n",
      "rougher.output.tail_ag                                14148 non-null float64\n",
      "rougher.output.tail_pb                                14149 non-null float64\n",
      "rougher.output.tail_sol                               14149 non-null float64\n",
      "rougher.output.tail_au                                14149 non-null float64\n",
      "rougher.state.floatbank10_a_air                       14148 non-null float64\n",
      "rougher.state.floatbank10_a_level                     14148 non-null float64\n",
      "rougher.state.floatbank10_b_air                       14148 non-null float64\n",
      "rougher.state.floatbank10_b_level                     14148 non-null float64\n",
      "rougher.state.floatbank10_c_air                       14148 non-null float64\n",
      "rougher.state.floatbank10_c_level                     14148 non-null float64\n",
      "rougher.state.floatbank10_d_air                       14149 non-null float64\n",
      "rougher.state.floatbank10_d_level                     14149 non-null float64\n",
      "rougher.state.floatbank10_e_air                       13713 non-null float64\n",
      "rougher.state.floatbank10_e_level                     14149 non-null float64\n",
      "rougher.state.floatbank10_f_air                       14149 non-null float64\n",
      "rougher.state.floatbank10_f_level                     14149 non-null float64\n",
      "secondary_cleaner.output.tail_ag                      14147 non-null float64\n",
      "secondary_cleaner.output.tail_pb                      14139 non-null float64\n",
      "secondary_cleaner.output.tail_sol                     12544 non-null float64\n",
      "secondary_cleaner.output.tail_au                      14149 non-null float64\n",
      "secondary_cleaner.state.floatbank2_a_air              13932 non-null float64\n",
      "secondary_cleaner.state.floatbank2_a_level            14148 non-null float64\n",
      "secondary_cleaner.state.floatbank2_b_air              14128 non-null float64\n",
      "secondary_cleaner.state.floatbank2_b_level            14148 non-null float64\n",
      "secondary_cleaner.state.floatbank3_a_air              14145 non-null float64\n",
      "secondary_cleaner.state.floatbank3_a_level            14148 non-null float64\n",
      "secondary_cleaner.state.floatbank3_b_air              14148 non-null float64\n",
      "secondary_cleaner.state.floatbank3_b_level            14148 non-null float64\n",
      "secondary_cleaner.state.floatbank4_a_air              14143 non-null float64\n",
      "secondary_cleaner.state.floatbank4_a_level            14148 non-null float64\n",
      "secondary_cleaner.state.floatbank4_b_air              14148 non-null float64\n",
      "secondary_cleaner.state.floatbank4_b_level            14148 non-null float64\n",
      "secondary_cleaner.state.floatbank5_a_air              14148 non-null float64\n",
      "secondary_cleaner.state.floatbank5_a_level            14148 non-null float64\n",
      "secondary_cleaner.state.floatbank5_b_air              14148 non-null float64\n",
      "secondary_cleaner.state.floatbank5_b_level            14148 non-null float64\n",
      "secondary_cleaner.state.floatbank6_a_air              14147 non-null float64\n",
      "secondary_cleaner.state.floatbank6_a_level            14148 non-null float64\n",
      "dtypes: float64(86), object(1)\n",
      "memory usage: 9.4+ MB\n"
     ]
    }
   ],
   "source": [
    "train.info()"
   ]
  },
  {
   "cell_type": "code",
   "execution_count": 5,
   "metadata": {},
   "outputs": [],
   "source": [
    "test = pd.read_csv('/datasets/gold_recovery_test_new.csv')"
   ]
  },
  {
   "cell_type": "code",
   "execution_count": 6,
   "metadata": {},
   "outputs": [
    {
     "data": {
      "text/html": [
       "<div>\n",
       "<style scoped>\n",
       "    .dataframe tbody tr th:only-of-type {\n",
       "        vertical-align: middle;\n",
       "    }\n",
       "\n",
       "    .dataframe tbody tr th {\n",
       "        vertical-align: top;\n",
       "    }\n",
       "\n",
       "    .dataframe thead th {\n",
       "        text-align: right;\n",
       "    }\n",
       "</style>\n",
       "<table border=\"1\" class=\"dataframe\">\n",
       "  <thead>\n",
       "    <tr style=\"text-align: right;\">\n",
       "      <th></th>\n",
       "      <th>date</th>\n",
       "      <th>primary_cleaner.input.sulfate</th>\n",
       "      <th>primary_cleaner.input.depressant</th>\n",
       "      <th>primary_cleaner.input.feed_size</th>\n",
       "      <th>primary_cleaner.input.xanthate</th>\n",
       "      <th>primary_cleaner.state.floatbank8_a_air</th>\n",
       "      <th>primary_cleaner.state.floatbank8_a_level</th>\n",
       "      <th>primary_cleaner.state.floatbank8_b_air</th>\n",
       "      <th>primary_cleaner.state.floatbank8_b_level</th>\n",
       "      <th>primary_cleaner.state.floatbank8_c_air</th>\n",
       "      <th>primary_cleaner.state.floatbank8_c_level</th>\n",
       "      <th>primary_cleaner.state.floatbank8_d_air</th>\n",
       "      <th>primary_cleaner.state.floatbank8_d_level</th>\n",
       "      <th>rougher.input.feed_ag</th>\n",
       "      <th>rougher.input.feed_pb</th>\n",
       "      <th>rougher.input.feed_rate</th>\n",
       "      <th>rougher.input.feed_size</th>\n",
       "      <th>rougher.input.feed_sol</th>\n",
       "      <th>rougher.input.feed_au</th>\n",
       "      <th>rougher.input.floatbank10_sulfate</th>\n",
       "      <th>rougher.input.floatbank10_xanthate</th>\n",
       "      <th>rougher.input.floatbank11_sulfate</th>\n",
       "      <th>rougher.input.floatbank11_xanthate</th>\n",
       "      <th>rougher.state.floatbank10_a_air</th>\n",
       "      <th>rougher.state.floatbank10_a_level</th>\n",
       "      <th>rougher.state.floatbank10_b_air</th>\n",
       "      <th>rougher.state.floatbank10_b_level</th>\n",
       "      <th>rougher.state.floatbank10_c_air</th>\n",
       "      <th>rougher.state.floatbank10_c_level</th>\n",
       "      <th>rougher.state.floatbank10_d_air</th>\n",
       "      <th>rougher.state.floatbank10_d_level</th>\n",
       "      <th>rougher.state.floatbank10_e_air</th>\n",
       "      <th>rougher.state.floatbank10_e_level</th>\n",
       "      <th>rougher.state.floatbank10_f_air</th>\n",
       "      <th>rougher.state.floatbank10_f_level</th>\n",
       "      <th>secondary_cleaner.state.floatbank2_a_air</th>\n",
       "      <th>secondary_cleaner.state.floatbank2_a_level</th>\n",
       "      <th>secondary_cleaner.state.floatbank2_b_air</th>\n",
       "      <th>secondary_cleaner.state.floatbank2_b_level</th>\n",
       "      <th>secondary_cleaner.state.floatbank3_a_air</th>\n",
       "      <th>secondary_cleaner.state.floatbank3_a_level</th>\n",
       "      <th>secondary_cleaner.state.floatbank3_b_air</th>\n",
       "      <th>secondary_cleaner.state.floatbank3_b_level</th>\n",
       "      <th>secondary_cleaner.state.floatbank4_a_air</th>\n",
       "      <th>secondary_cleaner.state.floatbank4_a_level</th>\n",
       "      <th>secondary_cleaner.state.floatbank4_b_air</th>\n",
       "      <th>secondary_cleaner.state.floatbank4_b_level</th>\n",
       "      <th>secondary_cleaner.state.floatbank5_a_air</th>\n",
       "      <th>secondary_cleaner.state.floatbank5_a_level</th>\n",
       "      <th>secondary_cleaner.state.floatbank5_b_air</th>\n",
       "      <th>secondary_cleaner.state.floatbank5_b_level</th>\n",
       "      <th>secondary_cleaner.state.floatbank6_a_air</th>\n",
       "      <th>secondary_cleaner.state.floatbank6_a_level</th>\n",
       "    </tr>\n",
       "  </thead>\n",
       "  <tbody>\n",
       "    <tr>\n",
       "      <td>0</td>\n",
       "      <td>2016-09-01 00:59:59</td>\n",
       "      <td>210.800909</td>\n",
       "      <td>14.993118</td>\n",
       "      <td>8.080000</td>\n",
       "      <td>1.005021</td>\n",
       "      <td>1398.981301</td>\n",
       "      <td>-500.225577</td>\n",
       "      <td>1399.144926</td>\n",
       "      <td>-499.919735</td>\n",
       "      <td>1400.102998</td>\n",
       "      <td>-500.704369</td>\n",
       "      <td>1399.001695</td>\n",
       "      <td>-499.485144</td>\n",
       "      <td>13.128569</td>\n",
       "      <td>5.636710</td>\n",
       "      <td>489.793655</td>\n",
       "      <td>62.710452</td>\n",
       "      <td>42.022440</td>\n",
       "      <td>12.084103</td>\n",
       "      <td>16.922877</td>\n",
       "      <td>6.153479</td>\n",
       "      <td>16.867518</td>\n",
       "      <td>6.150709</td>\n",
       "      <td>1001.849317</td>\n",
       "      <td>-350.301265</td>\n",
       "      <td>1249.738612</td>\n",
       "      <td>-399.107531</td>\n",
       "      <td>1249.750520</td>\n",
       "      <td>-399.396730</td>\n",
       "      <td>1198.287855</td>\n",
       "      <td>-399.488594</td>\n",
       "      <td>999.472250</td>\n",
       "      <td>-399.530962</td>\n",
       "      <td>949.566189</td>\n",
       "      <td>-398.180807</td>\n",
       "      <td>24.938200</td>\n",
       "      <td>-500.490963</td>\n",
       "      <td>14.947607</td>\n",
       "      <td>-500.013837</td>\n",
       "      <td>20.018166</td>\n",
       "      <td>-450.395995</td>\n",
       "      <td>13.987058</td>\n",
       "      <td>-449.831513</td>\n",
       "      <td>12.023554</td>\n",
       "      <td>-497.795834</td>\n",
       "      <td>8.016656</td>\n",
       "      <td>-501.289139</td>\n",
       "      <td>7.946562</td>\n",
       "      <td>-432.317850</td>\n",
       "      <td>4.872511</td>\n",
       "      <td>-500.037437</td>\n",
       "      <td>26.705889</td>\n",
       "      <td>-499.709414</td>\n",
       "    </tr>\n",
       "    <tr>\n",
       "      <td>1</td>\n",
       "      <td>2016-09-01 01:59:59</td>\n",
       "      <td>215.392455</td>\n",
       "      <td>14.987471</td>\n",
       "      <td>8.080000</td>\n",
       "      <td>0.990469</td>\n",
       "      <td>1398.777912</td>\n",
       "      <td>-500.057435</td>\n",
       "      <td>1398.055362</td>\n",
       "      <td>-499.778182</td>\n",
       "      <td>1396.151033</td>\n",
       "      <td>-499.240168</td>\n",
       "      <td>1399.508091</td>\n",
       "      <td>-500.416324</td>\n",
       "      <td>13.036280</td>\n",
       "      <td>5.526065</td>\n",
       "      <td>490.104534</td>\n",
       "      <td>61.961163</td>\n",
       "      <td>41.187903</td>\n",
       "      <td>11.918977</td>\n",
       "      <td>17.002532</td>\n",
       "      <td>5.999043</td>\n",
       "      <td>16.996063</td>\n",
       "      <td>6.002315</td>\n",
       "      <td>998.690785</td>\n",
       "      <td>-350.425704</td>\n",
       "      <td>1248.395457</td>\n",
       "      <td>-399.946025</td>\n",
       "      <td>1249.514451</td>\n",
       "      <td>-399.630810</td>\n",
       "      <td>1200.506459</td>\n",
       "      <td>-399.942434</td>\n",
       "      <td>1000.002114</td>\n",
       "      <td>-399.491528</td>\n",
       "      <td>950.200009</td>\n",
       "      <td>-405.787514</td>\n",
       "      <td>24.923466</td>\n",
       "      <td>-499.813963</td>\n",
       "      <td>14.930873</td>\n",
       "      <td>-500.764452</td>\n",
       "      <td>19.988503</td>\n",
       "      <td>-450.114024</td>\n",
       "      <td>14.092981</td>\n",
       "      <td>-450.059163</td>\n",
       "      <td>12.058140</td>\n",
       "      <td>-498.695773</td>\n",
       "      <td>8.130979</td>\n",
       "      <td>-499.634209</td>\n",
       "      <td>7.958270</td>\n",
       "      <td>-525.839648</td>\n",
       "      <td>4.878850</td>\n",
       "      <td>-500.162375</td>\n",
       "      <td>25.019940</td>\n",
       "      <td>-499.819438</td>\n",
       "    </tr>\n",
       "    <tr>\n",
       "      <td>2</td>\n",
       "      <td>2016-09-01 02:59:59</td>\n",
       "      <td>215.259946</td>\n",
       "      <td>12.884934</td>\n",
       "      <td>7.786667</td>\n",
       "      <td>0.996043</td>\n",
       "      <td>1398.493666</td>\n",
       "      <td>-500.868360</td>\n",
       "      <td>1398.860436</td>\n",
       "      <td>-499.764529</td>\n",
       "      <td>1398.075709</td>\n",
       "      <td>-502.151509</td>\n",
       "      <td>1399.497088</td>\n",
       "      <td>-499.715479</td>\n",
       "      <td>13.138412</td>\n",
       "      <td>5.426561</td>\n",
       "      <td>489.617969</td>\n",
       "      <td>66.903807</td>\n",
       "      <td>42.546294</td>\n",
       "      <td>12.091332</td>\n",
       "      <td>16.992520</td>\n",
       "      <td>5.850632</td>\n",
       "      <td>16.982096</td>\n",
       "      <td>5.853594</td>\n",
       "      <td>998.516720</td>\n",
       "      <td>-349.783538</td>\n",
       "      <td>1247.440748</td>\n",
       "      <td>-400.264330</td>\n",
       "      <td>1248.207204</td>\n",
       "      <td>-401.074405</td>\n",
       "      <td>1199.770026</td>\n",
       "      <td>-400.790582</td>\n",
       "      <td>999.925519</td>\n",
       "      <td>-399.236999</td>\n",
       "      <td>950.320481</td>\n",
       "      <td>-400.864340</td>\n",
       "      <td>24.908732</td>\n",
       "      <td>-500.304035</td>\n",
       "      <td>14.996511</td>\n",
       "      <td>-500.993821</td>\n",
       "      <td>20.039689</td>\n",
       "      <td>-450.263164</td>\n",
       "      <td>14.077881</td>\n",
       "      <td>-449.660997</td>\n",
       "      <td>11.962366</td>\n",
       "      <td>-498.767484</td>\n",
       "      <td>8.096893</td>\n",
       "      <td>-500.827423</td>\n",
       "      <td>8.071056</td>\n",
       "      <td>-500.801673</td>\n",
       "      <td>4.905125</td>\n",
       "      <td>-499.828510</td>\n",
       "      <td>24.994862</td>\n",
       "      <td>-500.622559</td>\n",
       "    </tr>\n",
       "    <tr>\n",
       "      <td>3</td>\n",
       "      <td>2016-09-01 03:59:59</td>\n",
       "      <td>215.336236</td>\n",
       "      <td>12.006805</td>\n",
       "      <td>7.640000</td>\n",
       "      <td>0.863514</td>\n",
       "      <td>1399.618111</td>\n",
       "      <td>-498.863574</td>\n",
       "      <td>1397.440120</td>\n",
       "      <td>-499.211024</td>\n",
       "      <td>1400.129303</td>\n",
       "      <td>-498.355873</td>\n",
       "      <td>1401.065165</td>\n",
       "      <td>-501.038738</td>\n",
       "      <td>12.400507</td>\n",
       "      <td>5.114758</td>\n",
       "      <td>476.618130</td>\n",
       "      <td>59.865919</td>\n",
       "      <td>41.060195</td>\n",
       "      <td>12.181597</td>\n",
       "      <td>16.532144</td>\n",
       "      <td>5.801935</td>\n",
       "      <td>16.515277</td>\n",
       "      <td>5.803657</td>\n",
       "      <td>1000.276604</td>\n",
       "      <td>-350.172597</td>\n",
       "      <td>1251.322675</td>\n",
       "      <td>-398.655289</td>\n",
       "      <td>1250.493702</td>\n",
       "      <td>-399.746728</td>\n",
       "      <td>1199.398691</td>\n",
       "      <td>-397.503052</td>\n",
       "      <td>1001.930679</td>\n",
       "      <td>-400.437573</td>\n",
       "      <td>950.735324</td>\n",
       "      <td>-399.802986</td>\n",
       "      <td>24.893998</td>\n",
       "      <td>-499.382374</td>\n",
       "      <td>14.916674</td>\n",
       "      <td>-499.862299</td>\n",
       "      <td>20.031100</td>\n",
       "      <td>-449.372570</td>\n",
       "      <td>14.013968</td>\n",
       "      <td>-449.526900</td>\n",
       "      <td>12.033091</td>\n",
       "      <td>-498.350935</td>\n",
       "      <td>8.074946</td>\n",
       "      <td>-499.474407</td>\n",
       "      <td>7.897085</td>\n",
       "      <td>-500.868509</td>\n",
       "      <td>4.931400</td>\n",
       "      <td>-499.963623</td>\n",
       "      <td>24.948919</td>\n",
       "      <td>-498.709987</td>\n",
       "    </tr>\n",
       "    <tr>\n",
       "      <td>4</td>\n",
       "      <td>2016-09-01 04:59:59</td>\n",
       "      <td>199.099327</td>\n",
       "      <td>10.682530</td>\n",
       "      <td>7.530000</td>\n",
       "      <td>0.805575</td>\n",
       "      <td>1401.268123</td>\n",
       "      <td>-500.808305</td>\n",
       "      <td>1398.128818</td>\n",
       "      <td>-499.504543</td>\n",
       "      <td>1402.172226</td>\n",
       "      <td>-500.810606</td>\n",
       "      <td>1399.480508</td>\n",
       "      <td>-499.374053</td>\n",
       "      <td>11.327427</td>\n",
       "      <td>4.767383</td>\n",
       "      <td>488.248117</td>\n",
       "      <td>63.315324</td>\n",
       "      <td>41.269161</td>\n",
       "      <td>11.290425</td>\n",
       "      <td>13.607257</td>\n",
       "      <td>5.738081</td>\n",
       "      <td>13.650053</td>\n",
       "      <td>5.739634</td>\n",
       "      <td>996.541302</td>\n",
       "      <td>-350.562517</td>\n",
       "      <td>1304.658848</td>\n",
       "      <td>-399.511519</td>\n",
       "      <td>1306.455515</td>\n",
       "      <td>-399.050685</td>\n",
       "      <td>1248.699349</td>\n",
       "      <td>-400.876894</td>\n",
       "      <td>1058.839106</td>\n",
       "      <td>-398.988239</td>\n",
       "      <td>949.645313</td>\n",
       "      <td>-399.277632</td>\n",
       "      <td>24.886905</td>\n",
       "      <td>-499.357375</td>\n",
       "      <td>14.979233</td>\n",
       "      <td>-500.186804</td>\n",
       "      <td>19.962364</td>\n",
       "      <td>-450.638828</td>\n",
       "      <td>14.009245</td>\n",
       "      <td>-450.022259</td>\n",
       "      <td>12.025367</td>\n",
       "      <td>-500.786497</td>\n",
       "      <td>8.054678</td>\n",
       "      <td>-500.397500</td>\n",
       "      <td>8.107890</td>\n",
       "      <td>-509.526725</td>\n",
       "      <td>4.957674</td>\n",
       "      <td>-500.360026</td>\n",
       "      <td>25.003331</td>\n",
       "      <td>-500.856333</td>\n",
       "    </tr>\n",
       "  </tbody>\n",
       "</table>\n",
       "</div>"
      ],
      "text/plain": [
       "                  date  primary_cleaner.input.sulfate  \\\n",
       "0  2016-09-01 00:59:59                     210.800909   \n",
       "1  2016-09-01 01:59:59                     215.392455   \n",
       "2  2016-09-01 02:59:59                     215.259946   \n",
       "3  2016-09-01 03:59:59                     215.336236   \n",
       "4  2016-09-01 04:59:59                     199.099327   \n",
       "\n",
       "   primary_cleaner.input.depressant  primary_cleaner.input.feed_size  \\\n",
       "0                         14.993118                         8.080000   \n",
       "1                         14.987471                         8.080000   \n",
       "2                         12.884934                         7.786667   \n",
       "3                         12.006805                         7.640000   \n",
       "4                         10.682530                         7.530000   \n",
       "\n",
       "   primary_cleaner.input.xanthate  primary_cleaner.state.floatbank8_a_air  \\\n",
       "0                        1.005021                             1398.981301   \n",
       "1                        0.990469                             1398.777912   \n",
       "2                        0.996043                             1398.493666   \n",
       "3                        0.863514                             1399.618111   \n",
       "4                        0.805575                             1401.268123   \n",
       "\n",
       "   primary_cleaner.state.floatbank8_a_level  \\\n",
       "0                               -500.225577   \n",
       "1                               -500.057435   \n",
       "2                               -500.868360   \n",
       "3                               -498.863574   \n",
       "4                               -500.808305   \n",
       "\n",
       "   primary_cleaner.state.floatbank8_b_air  \\\n",
       "0                             1399.144926   \n",
       "1                             1398.055362   \n",
       "2                             1398.860436   \n",
       "3                             1397.440120   \n",
       "4                             1398.128818   \n",
       "\n",
       "   primary_cleaner.state.floatbank8_b_level  \\\n",
       "0                               -499.919735   \n",
       "1                               -499.778182   \n",
       "2                               -499.764529   \n",
       "3                               -499.211024   \n",
       "4                               -499.504543   \n",
       "\n",
       "   primary_cleaner.state.floatbank8_c_air  \\\n",
       "0                             1400.102998   \n",
       "1                             1396.151033   \n",
       "2                             1398.075709   \n",
       "3                             1400.129303   \n",
       "4                             1402.172226   \n",
       "\n",
       "   primary_cleaner.state.floatbank8_c_level  \\\n",
       "0                               -500.704369   \n",
       "1                               -499.240168   \n",
       "2                               -502.151509   \n",
       "3                               -498.355873   \n",
       "4                               -500.810606   \n",
       "\n",
       "   primary_cleaner.state.floatbank8_d_air  \\\n",
       "0                             1399.001695   \n",
       "1                             1399.508091   \n",
       "2                             1399.497088   \n",
       "3                             1401.065165   \n",
       "4                             1399.480508   \n",
       "\n",
       "   primary_cleaner.state.floatbank8_d_level  rougher.input.feed_ag  \\\n",
       "0                               -499.485144              13.128569   \n",
       "1                               -500.416324              13.036280   \n",
       "2                               -499.715479              13.138412   \n",
       "3                               -501.038738              12.400507   \n",
       "4                               -499.374053              11.327427   \n",
       "\n",
       "   rougher.input.feed_pb  rougher.input.feed_rate  rougher.input.feed_size  \\\n",
       "0               5.636710               489.793655                62.710452   \n",
       "1               5.526065               490.104534                61.961163   \n",
       "2               5.426561               489.617969                66.903807   \n",
       "3               5.114758               476.618130                59.865919   \n",
       "4               4.767383               488.248117                63.315324   \n",
       "\n",
       "   rougher.input.feed_sol  rougher.input.feed_au  \\\n",
       "0               42.022440              12.084103   \n",
       "1               41.187903              11.918977   \n",
       "2               42.546294              12.091332   \n",
       "3               41.060195              12.181597   \n",
       "4               41.269161              11.290425   \n",
       "\n",
       "   rougher.input.floatbank10_sulfate  rougher.input.floatbank10_xanthate  \\\n",
       "0                          16.922877                            6.153479   \n",
       "1                          17.002532                            5.999043   \n",
       "2                          16.992520                            5.850632   \n",
       "3                          16.532144                            5.801935   \n",
       "4                          13.607257                            5.738081   \n",
       "\n",
       "   rougher.input.floatbank11_sulfate  rougher.input.floatbank11_xanthate  \\\n",
       "0                          16.867518                            6.150709   \n",
       "1                          16.996063                            6.002315   \n",
       "2                          16.982096                            5.853594   \n",
       "3                          16.515277                            5.803657   \n",
       "4                          13.650053                            5.739634   \n",
       "\n",
       "   rougher.state.floatbank10_a_air  rougher.state.floatbank10_a_level  \\\n",
       "0                      1001.849317                        -350.301265   \n",
       "1                       998.690785                        -350.425704   \n",
       "2                       998.516720                        -349.783538   \n",
       "3                      1000.276604                        -350.172597   \n",
       "4                       996.541302                        -350.562517   \n",
       "\n",
       "   rougher.state.floatbank10_b_air  rougher.state.floatbank10_b_level  \\\n",
       "0                      1249.738612                        -399.107531   \n",
       "1                      1248.395457                        -399.946025   \n",
       "2                      1247.440748                        -400.264330   \n",
       "3                      1251.322675                        -398.655289   \n",
       "4                      1304.658848                        -399.511519   \n",
       "\n",
       "   rougher.state.floatbank10_c_air  rougher.state.floatbank10_c_level  \\\n",
       "0                      1249.750520                        -399.396730   \n",
       "1                      1249.514451                        -399.630810   \n",
       "2                      1248.207204                        -401.074405   \n",
       "3                      1250.493702                        -399.746728   \n",
       "4                      1306.455515                        -399.050685   \n",
       "\n",
       "   rougher.state.floatbank10_d_air  rougher.state.floatbank10_d_level  \\\n",
       "0                      1198.287855                        -399.488594   \n",
       "1                      1200.506459                        -399.942434   \n",
       "2                      1199.770026                        -400.790582   \n",
       "3                      1199.398691                        -397.503052   \n",
       "4                      1248.699349                        -400.876894   \n",
       "\n",
       "   rougher.state.floatbank10_e_air  rougher.state.floatbank10_e_level  \\\n",
       "0                       999.472250                        -399.530962   \n",
       "1                      1000.002114                        -399.491528   \n",
       "2                       999.925519                        -399.236999   \n",
       "3                      1001.930679                        -400.437573   \n",
       "4                      1058.839106                        -398.988239   \n",
       "\n",
       "   rougher.state.floatbank10_f_air  rougher.state.floatbank10_f_level  \\\n",
       "0                       949.566189                        -398.180807   \n",
       "1                       950.200009                        -405.787514   \n",
       "2                       950.320481                        -400.864340   \n",
       "3                       950.735324                        -399.802986   \n",
       "4                       949.645313                        -399.277632   \n",
       "\n",
       "   secondary_cleaner.state.floatbank2_a_air  \\\n",
       "0                                 24.938200   \n",
       "1                                 24.923466   \n",
       "2                                 24.908732   \n",
       "3                                 24.893998   \n",
       "4                                 24.886905   \n",
       "\n",
       "   secondary_cleaner.state.floatbank2_a_level  \\\n",
       "0                                 -500.490963   \n",
       "1                                 -499.813963   \n",
       "2                                 -500.304035   \n",
       "3                                 -499.382374   \n",
       "4                                 -499.357375   \n",
       "\n",
       "   secondary_cleaner.state.floatbank2_b_air  \\\n",
       "0                                 14.947607   \n",
       "1                                 14.930873   \n",
       "2                                 14.996511   \n",
       "3                                 14.916674   \n",
       "4                                 14.979233   \n",
       "\n",
       "   secondary_cleaner.state.floatbank2_b_level  \\\n",
       "0                                 -500.013837   \n",
       "1                                 -500.764452   \n",
       "2                                 -500.993821   \n",
       "3                                 -499.862299   \n",
       "4                                 -500.186804   \n",
       "\n",
       "   secondary_cleaner.state.floatbank3_a_air  \\\n",
       "0                                 20.018166   \n",
       "1                                 19.988503   \n",
       "2                                 20.039689   \n",
       "3                                 20.031100   \n",
       "4                                 19.962364   \n",
       "\n",
       "   secondary_cleaner.state.floatbank3_a_level  \\\n",
       "0                                 -450.395995   \n",
       "1                                 -450.114024   \n",
       "2                                 -450.263164   \n",
       "3                                 -449.372570   \n",
       "4                                 -450.638828   \n",
       "\n",
       "   secondary_cleaner.state.floatbank3_b_air  \\\n",
       "0                                 13.987058   \n",
       "1                                 14.092981   \n",
       "2                                 14.077881   \n",
       "3                                 14.013968   \n",
       "4                                 14.009245   \n",
       "\n",
       "   secondary_cleaner.state.floatbank3_b_level  \\\n",
       "0                                 -449.831513   \n",
       "1                                 -450.059163   \n",
       "2                                 -449.660997   \n",
       "3                                 -449.526900   \n",
       "4                                 -450.022259   \n",
       "\n",
       "   secondary_cleaner.state.floatbank4_a_air  \\\n",
       "0                                 12.023554   \n",
       "1                                 12.058140   \n",
       "2                                 11.962366   \n",
       "3                                 12.033091   \n",
       "4                                 12.025367   \n",
       "\n",
       "   secondary_cleaner.state.floatbank4_a_level  \\\n",
       "0                                 -497.795834   \n",
       "1                                 -498.695773   \n",
       "2                                 -498.767484   \n",
       "3                                 -498.350935   \n",
       "4                                 -500.786497   \n",
       "\n",
       "   secondary_cleaner.state.floatbank4_b_air  \\\n",
       "0                                  8.016656   \n",
       "1                                  8.130979   \n",
       "2                                  8.096893   \n",
       "3                                  8.074946   \n",
       "4                                  8.054678   \n",
       "\n",
       "   secondary_cleaner.state.floatbank4_b_level  \\\n",
       "0                                 -501.289139   \n",
       "1                                 -499.634209   \n",
       "2                                 -500.827423   \n",
       "3                                 -499.474407   \n",
       "4                                 -500.397500   \n",
       "\n",
       "   secondary_cleaner.state.floatbank5_a_air  \\\n",
       "0                                  7.946562   \n",
       "1                                  7.958270   \n",
       "2                                  8.071056   \n",
       "3                                  7.897085   \n",
       "4                                  8.107890   \n",
       "\n",
       "   secondary_cleaner.state.floatbank5_a_level  \\\n",
       "0                                 -432.317850   \n",
       "1                                 -525.839648   \n",
       "2                                 -500.801673   \n",
       "3                                 -500.868509   \n",
       "4                                 -509.526725   \n",
       "\n",
       "   secondary_cleaner.state.floatbank5_b_air  \\\n",
       "0                                  4.872511   \n",
       "1                                  4.878850   \n",
       "2                                  4.905125   \n",
       "3                                  4.931400   \n",
       "4                                  4.957674   \n",
       "\n",
       "   secondary_cleaner.state.floatbank5_b_level  \\\n",
       "0                                 -500.037437   \n",
       "1                                 -500.162375   \n",
       "2                                 -499.828510   \n",
       "3                                 -499.963623   \n",
       "4                                 -500.360026   \n",
       "\n",
       "   secondary_cleaner.state.floatbank6_a_air  \\\n",
       "0                                 26.705889   \n",
       "1                                 25.019940   \n",
       "2                                 24.994862   \n",
       "3                                 24.948919   \n",
       "4                                 25.003331   \n",
       "\n",
       "   secondary_cleaner.state.floatbank6_a_level  \n",
       "0                                 -499.709414  \n",
       "1                                 -499.819438  \n",
       "2                                 -500.622559  \n",
       "3                                 -498.709987  \n",
       "4                                 -500.856333  "
      ]
     },
     "execution_count": 6,
     "metadata": {},
     "output_type": "execute_result"
    }
   ],
   "source": [
    "test.head()"
   ]
  },
  {
   "cell_type": "code",
   "execution_count": 7,
   "metadata": {},
   "outputs": [
    {
     "name": "stdout",
     "output_type": "stream",
     "text": [
      "<class 'pandas.core.frame.DataFrame'>\n",
      "RangeIndex: 5290 entries, 0 to 5289\n",
      "Data columns (total 53 columns):\n",
      "date                                          5290 non-null object\n",
      "primary_cleaner.input.sulfate                 5286 non-null float64\n",
      "primary_cleaner.input.depressant              5285 non-null float64\n",
      "primary_cleaner.input.feed_size               5290 non-null float64\n",
      "primary_cleaner.input.xanthate                5286 non-null float64\n",
      "primary_cleaner.state.floatbank8_a_air        5290 non-null float64\n",
      "primary_cleaner.state.floatbank8_a_level      5290 non-null float64\n",
      "primary_cleaner.state.floatbank8_b_air        5290 non-null float64\n",
      "primary_cleaner.state.floatbank8_b_level      5290 non-null float64\n",
      "primary_cleaner.state.floatbank8_c_air        5290 non-null float64\n",
      "primary_cleaner.state.floatbank8_c_level      5290 non-null float64\n",
      "primary_cleaner.state.floatbank8_d_air        5290 non-null float64\n",
      "primary_cleaner.state.floatbank8_d_level      5290 non-null float64\n",
      "rougher.input.feed_ag                         5290 non-null float64\n",
      "rougher.input.feed_pb                         5290 non-null float64\n",
      "rougher.input.feed_rate                       5287 non-null float64\n",
      "rougher.input.feed_size                       5289 non-null float64\n",
      "rougher.input.feed_sol                        5269 non-null float64\n",
      "rougher.input.feed_au                         5290 non-null float64\n",
      "rougher.input.floatbank10_sulfate             5285 non-null float64\n",
      "rougher.input.floatbank10_xanthate            5290 non-null float64\n",
      "rougher.input.floatbank11_sulfate             5282 non-null float64\n",
      "rougher.input.floatbank11_xanthate            5265 non-null float64\n",
      "rougher.state.floatbank10_a_air               5290 non-null float64\n",
      "rougher.state.floatbank10_a_level             5290 non-null float64\n",
      "rougher.state.floatbank10_b_air               5290 non-null float64\n",
      "rougher.state.floatbank10_b_level             5290 non-null float64\n",
      "rougher.state.floatbank10_c_air               5290 non-null float64\n",
      "rougher.state.floatbank10_c_level             5290 non-null float64\n",
      "rougher.state.floatbank10_d_air               5290 non-null float64\n",
      "rougher.state.floatbank10_d_level             5290 non-null float64\n",
      "rougher.state.floatbank10_e_air               5290 non-null float64\n",
      "rougher.state.floatbank10_e_level             5290 non-null float64\n",
      "rougher.state.floatbank10_f_air               5290 non-null float64\n",
      "rougher.state.floatbank10_f_level             5290 non-null float64\n",
      "secondary_cleaner.state.floatbank2_a_air      5287 non-null float64\n",
      "secondary_cleaner.state.floatbank2_a_level    5290 non-null float64\n",
      "secondary_cleaner.state.floatbank2_b_air      5288 non-null float64\n",
      "secondary_cleaner.state.floatbank2_b_level    5290 non-null float64\n",
      "secondary_cleaner.state.floatbank3_a_air      5281 non-null float64\n",
      "secondary_cleaner.state.floatbank3_a_level    5290 non-null float64\n",
      "secondary_cleaner.state.floatbank3_b_air      5290 non-null float64\n",
      "secondary_cleaner.state.floatbank3_b_level    5290 non-null float64\n",
      "secondary_cleaner.state.floatbank4_a_air      5290 non-null float64\n",
      "secondary_cleaner.state.floatbank4_a_level    5290 non-null float64\n",
      "secondary_cleaner.state.floatbank4_b_air      5290 non-null float64\n",
      "secondary_cleaner.state.floatbank4_b_level    5290 non-null float64\n",
      "secondary_cleaner.state.floatbank5_a_air      5290 non-null float64\n",
      "secondary_cleaner.state.floatbank5_a_level    5290 non-null float64\n",
      "secondary_cleaner.state.floatbank5_b_air      5290 non-null float64\n",
      "secondary_cleaner.state.floatbank5_b_level    5290 non-null float64\n",
      "secondary_cleaner.state.floatbank6_a_air      5290 non-null float64\n",
      "secondary_cleaner.state.floatbank6_a_level    5290 non-null float64\n",
      "dtypes: float64(52), object(1)\n",
      "memory usage: 2.1+ MB\n"
     ]
    }
   ],
   "source": [
    "test.info()"
   ]
  },
  {
   "cell_type": "code",
   "execution_count": 8,
   "metadata": {},
   "outputs": [],
   "source": [
    "full = pd.read_csv('/datasets/gold_recovery_full_new.csv')"
   ]
  },
  {
   "cell_type": "code",
   "execution_count": 9,
   "metadata": {},
   "outputs": [
    {
     "data": {
      "text/html": [
       "<div>\n",
       "<style scoped>\n",
       "    .dataframe tbody tr th:only-of-type {\n",
       "        vertical-align: middle;\n",
       "    }\n",
       "\n",
       "    .dataframe tbody tr th {\n",
       "        vertical-align: top;\n",
       "    }\n",
       "\n",
       "    .dataframe thead th {\n",
       "        text-align: right;\n",
       "    }\n",
       "</style>\n",
       "<table border=\"1\" class=\"dataframe\">\n",
       "  <thead>\n",
       "    <tr style=\"text-align: right;\">\n",
       "      <th></th>\n",
       "      <th>date</th>\n",
       "      <th>final.output.concentrate_ag</th>\n",
       "      <th>final.output.concentrate_pb</th>\n",
       "      <th>final.output.concentrate_sol</th>\n",
       "      <th>final.output.concentrate_au</th>\n",
       "      <th>final.output.recovery</th>\n",
       "      <th>final.output.tail_ag</th>\n",
       "      <th>final.output.tail_pb</th>\n",
       "      <th>final.output.tail_sol</th>\n",
       "      <th>final.output.tail_au</th>\n",
       "      <th>primary_cleaner.input.sulfate</th>\n",
       "      <th>primary_cleaner.input.depressant</th>\n",
       "      <th>primary_cleaner.input.feed_size</th>\n",
       "      <th>primary_cleaner.input.xanthate</th>\n",
       "      <th>primary_cleaner.output.concentrate_ag</th>\n",
       "      <th>primary_cleaner.output.concentrate_pb</th>\n",
       "      <th>primary_cleaner.output.concentrate_sol</th>\n",
       "      <th>primary_cleaner.output.concentrate_au</th>\n",
       "      <th>primary_cleaner.output.tail_ag</th>\n",
       "      <th>primary_cleaner.output.tail_pb</th>\n",
       "      <th>primary_cleaner.output.tail_sol</th>\n",
       "      <th>primary_cleaner.output.tail_au</th>\n",
       "      <th>primary_cleaner.state.floatbank8_a_air</th>\n",
       "      <th>primary_cleaner.state.floatbank8_a_level</th>\n",
       "      <th>primary_cleaner.state.floatbank8_b_air</th>\n",
       "      <th>primary_cleaner.state.floatbank8_b_level</th>\n",
       "      <th>primary_cleaner.state.floatbank8_c_air</th>\n",
       "      <th>primary_cleaner.state.floatbank8_c_level</th>\n",
       "      <th>primary_cleaner.state.floatbank8_d_air</th>\n",
       "      <th>primary_cleaner.state.floatbank8_d_level</th>\n",
       "      <th>rougher.calculation.sulfate_to_au_concentrate</th>\n",
       "      <th>rougher.calculation.floatbank10_sulfate_to_au_feed</th>\n",
       "      <th>rougher.calculation.floatbank11_sulfate_to_au_feed</th>\n",
       "      <th>rougher.calculation.au_pb_ratio</th>\n",
       "      <th>rougher.input.feed_ag</th>\n",
       "      <th>rougher.input.feed_pb</th>\n",
       "      <th>rougher.input.feed_rate</th>\n",
       "      <th>rougher.input.feed_size</th>\n",
       "      <th>rougher.input.feed_sol</th>\n",
       "      <th>rougher.input.feed_au</th>\n",
       "      <th>rougher.input.floatbank10_sulfate</th>\n",
       "      <th>rougher.input.floatbank10_xanthate</th>\n",
       "      <th>rougher.input.floatbank11_sulfate</th>\n",
       "      <th>rougher.input.floatbank11_xanthate</th>\n",
       "      <th>rougher.output.concentrate_ag</th>\n",
       "      <th>rougher.output.concentrate_pb</th>\n",
       "      <th>rougher.output.concentrate_sol</th>\n",
       "      <th>rougher.output.concentrate_au</th>\n",
       "      <th>rougher.output.recovery</th>\n",
       "      <th>rougher.output.tail_ag</th>\n",
       "      <th>rougher.output.tail_pb</th>\n",
       "      <th>rougher.output.tail_sol</th>\n",
       "      <th>rougher.output.tail_au</th>\n",
       "      <th>rougher.state.floatbank10_a_air</th>\n",
       "      <th>rougher.state.floatbank10_a_level</th>\n",
       "      <th>rougher.state.floatbank10_b_air</th>\n",
       "      <th>rougher.state.floatbank10_b_level</th>\n",
       "      <th>rougher.state.floatbank10_c_air</th>\n",
       "      <th>rougher.state.floatbank10_c_level</th>\n",
       "      <th>rougher.state.floatbank10_d_air</th>\n",
       "      <th>rougher.state.floatbank10_d_level</th>\n",
       "      <th>rougher.state.floatbank10_e_air</th>\n",
       "      <th>rougher.state.floatbank10_e_level</th>\n",
       "      <th>rougher.state.floatbank10_f_air</th>\n",
       "      <th>rougher.state.floatbank10_f_level</th>\n",
       "      <th>secondary_cleaner.output.tail_ag</th>\n",
       "      <th>secondary_cleaner.output.tail_pb</th>\n",
       "      <th>secondary_cleaner.output.tail_sol</th>\n",
       "      <th>secondary_cleaner.output.tail_au</th>\n",
       "      <th>secondary_cleaner.state.floatbank2_a_air</th>\n",
       "      <th>secondary_cleaner.state.floatbank2_a_level</th>\n",
       "      <th>secondary_cleaner.state.floatbank2_b_air</th>\n",
       "      <th>secondary_cleaner.state.floatbank2_b_level</th>\n",
       "      <th>secondary_cleaner.state.floatbank3_a_air</th>\n",
       "      <th>secondary_cleaner.state.floatbank3_a_level</th>\n",
       "      <th>secondary_cleaner.state.floatbank3_b_air</th>\n",
       "      <th>secondary_cleaner.state.floatbank3_b_level</th>\n",
       "      <th>secondary_cleaner.state.floatbank4_a_air</th>\n",
       "      <th>secondary_cleaner.state.floatbank4_a_level</th>\n",
       "      <th>secondary_cleaner.state.floatbank4_b_air</th>\n",
       "      <th>secondary_cleaner.state.floatbank4_b_level</th>\n",
       "      <th>secondary_cleaner.state.floatbank5_a_air</th>\n",
       "      <th>secondary_cleaner.state.floatbank5_a_level</th>\n",
       "      <th>secondary_cleaner.state.floatbank5_b_air</th>\n",
       "      <th>secondary_cleaner.state.floatbank5_b_level</th>\n",
       "      <th>secondary_cleaner.state.floatbank6_a_air</th>\n",
       "      <th>secondary_cleaner.state.floatbank6_a_level</th>\n",
       "    </tr>\n",
       "  </thead>\n",
       "  <tbody>\n",
       "    <tr>\n",
       "      <td>0</td>\n",
       "      <td>2016-01-15 00:00:00</td>\n",
       "      <td>6.055403</td>\n",
       "      <td>9.889648</td>\n",
       "      <td>5.507324</td>\n",
       "      <td>42.192020</td>\n",
       "      <td>70.541216</td>\n",
       "      <td>10.411962</td>\n",
       "      <td>0.895447</td>\n",
       "      <td>16.904297</td>\n",
       "      <td>2.143149</td>\n",
       "      <td>127.092003</td>\n",
       "      <td>10.128295</td>\n",
       "      <td>7.25</td>\n",
       "      <td>0.988759</td>\n",
       "      <td>8.547551</td>\n",
       "      <td>10.389648</td>\n",
       "      <td>19.529297</td>\n",
       "      <td>34.174427</td>\n",
       "      <td>14.936526</td>\n",
       "      <td>2.534912</td>\n",
       "      <td>7.476074</td>\n",
       "      <td>2.106679</td>\n",
       "      <td>1549.775757</td>\n",
       "      <td>-498.912140</td>\n",
       "      <td>1551.434204</td>\n",
       "      <td>-516.403442</td>\n",
       "      <td>1549.873901</td>\n",
       "      <td>-498.666595</td>\n",
       "      <td>1554.367432</td>\n",
       "      <td>-493.428131</td>\n",
       "      <td>41885.707031</td>\n",
       "      <td>3481.779053</td>\n",
       "      <td>3520.337158</td>\n",
       "      <td>2.838687</td>\n",
       "      <td>6.100378</td>\n",
       "      <td>2.284912</td>\n",
       "      <td>523.546326</td>\n",
       "      <td>55.486599</td>\n",
       "      <td>36.808594</td>\n",
       "      <td>6.486150</td>\n",
       "      <td>11.986616</td>\n",
       "      <td>6.007990</td>\n",
       "      <td>11.836743</td>\n",
       "      <td>6.005818</td>\n",
       "      <td>11.500771</td>\n",
       "      <td>7.101074</td>\n",
       "      <td>28.029297</td>\n",
       "      <td>19.793808</td>\n",
       "      <td>87.107763</td>\n",
       "      <td>5.008018</td>\n",
       "      <td>0.508728</td>\n",
       "      <td>19.154297</td>\n",
       "      <td>1.170244</td>\n",
       "      <td>999.706909</td>\n",
       "      <td>-404.066986</td>\n",
       "      <td>1603.011353</td>\n",
       "      <td>-434.715027</td>\n",
       "      <td>1602.375000</td>\n",
       "      <td>-442.204468</td>\n",
       "      <td>1598.937256</td>\n",
       "      <td>-451.294128</td>\n",
       "      <td>1404.472046</td>\n",
       "      <td>-455.462982</td>\n",
       "      <td>1416.354980</td>\n",
       "      <td>-451.939636</td>\n",
       "      <td>14.500184</td>\n",
       "      <td>4.694824</td>\n",
       "      <td>8.764648</td>\n",
       "      <td>2.606185</td>\n",
       "      <td>25.853109</td>\n",
       "      <td>-498.526489</td>\n",
       "      <td>23.893660</td>\n",
       "      <td>-501.406281</td>\n",
       "      <td>23.961798</td>\n",
       "      <td>-495.262817</td>\n",
       "      <td>21.940409</td>\n",
       "      <td>-499.340973</td>\n",
       "      <td>14.016835</td>\n",
       "      <td>-502.488007</td>\n",
       "      <td>12.099931</td>\n",
       "      <td>-504.715942</td>\n",
       "      <td>9.925633</td>\n",
       "      <td>-498.310211</td>\n",
       "      <td>8.079666</td>\n",
       "      <td>-500.470978</td>\n",
       "      <td>14.151341</td>\n",
       "      <td>-605.841980</td>\n",
       "    </tr>\n",
       "    <tr>\n",
       "      <td>1</td>\n",
       "      <td>2016-01-15 01:00:00</td>\n",
       "      <td>6.029369</td>\n",
       "      <td>9.968944</td>\n",
       "      <td>5.257781</td>\n",
       "      <td>42.701629</td>\n",
       "      <td>69.266198</td>\n",
       "      <td>10.462676</td>\n",
       "      <td>0.927452</td>\n",
       "      <td>16.634514</td>\n",
       "      <td>2.224930</td>\n",
       "      <td>125.629232</td>\n",
       "      <td>10.296251</td>\n",
       "      <td>7.25</td>\n",
       "      <td>1.002663</td>\n",
       "      <td>8.558743</td>\n",
       "      <td>10.497069</td>\n",
       "      <td>19.369147</td>\n",
       "      <td>34.118526</td>\n",
       "      <td>16.250511</td>\n",
       "      <td>3.049646</td>\n",
       "      <td>6.733907</td>\n",
       "      <td>2.353017</td>\n",
       "      <td>1576.166671</td>\n",
       "      <td>-500.904965</td>\n",
       "      <td>1575.950626</td>\n",
       "      <td>-499.865889</td>\n",
       "      <td>1575.994189</td>\n",
       "      <td>-499.315107</td>\n",
       "      <td>1574.479259</td>\n",
       "      <td>-498.931665</td>\n",
       "      <td>42050.861809</td>\n",
       "      <td>3498.370979</td>\n",
       "      <td>3489.981857</td>\n",
       "      <td>2.858998</td>\n",
       "      <td>6.161113</td>\n",
       "      <td>2.266033</td>\n",
       "      <td>525.290581</td>\n",
       "      <td>57.278666</td>\n",
       "      <td>35.753385</td>\n",
       "      <td>6.478583</td>\n",
       "      <td>11.971193</td>\n",
       "      <td>6.005766</td>\n",
       "      <td>11.996163</td>\n",
       "      <td>6.012594</td>\n",
       "      <td>11.615865</td>\n",
       "      <td>7.278807</td>\n",
       "      <td>28.067063</td>\n",
       "      <td>20.050975</td>\n",
       "      <td>86.843261</td>\n",
       "      <td>4.955378</td>\n",
       "      <td>0.536689</td>\n",
       "      <td>18.965234</td>\n",
       "      <td>1.184827</td>\n",
       "      <td>1000.286398</td>\n",
       "      <td>-400.065196</td>\n",
       "      <td>1600.754587</td>\n",
       "      <td>-449.953435</td>\n",
       "      <td>1600.479580</td>\n",
       "      <td>-449.830646</td>\n",
       "      <td>1600.527589</td>\n",
       "      <td>-449.953649</td>\n",
       "      <td>1399.227084</td>\n",
       "      <td>-450.869848</td>\n",
       "      <td>1399.719514</td>\n",
       "      <td>-450.119001</td>\n",
       "      <td>14.265474</td>\n",
       "      <td>4.592547</td>\n",
       "      <td>9.001494</td>\n",
       "      <td>2.488248</td>\n",
       "      <td>25.880539</td>\n",
       "      <td>-499.989656</td>\n",
       "      <td>23.889530</td>\n",
       "      <td>-500.372428</td>\n",
       "      <td>23.970550</td>\n",
       "      <td>-500.085473</td>\n",
       "      <td>22.085714</td>\n",
       "      <td>-499.446897</td>\n",
       "      <td>13.992281</td>\n",
       "      <td>-505.503262</td>\n",
       "      <td>11.950531</td>\n",
       "      <td>-501.331529</td>\n",
       "      <td>10.039245</td>\n",
       "      <td>-500.169983</td>\n",
       "      <td>7.984757</td>\n",
       "      <td>-500.582168</td>\n",
       "      <td>13.998353</td>\n",
       "      <td>-599.787184</td>\n",
       "    </tr>\n",
       "    <tr>\n",
       "      <td>2</td>\n",
       "      <td>2016-01-15 02:00:00</td>\n",
       "      <td>6.055926</td>\n",
       "      <td>10.213995</td>\n",
       "      <td>5.383759</td>\n",
       "      <td>42.657501</td>\n",
       "      <td>68.116445</td>\n",
       "      <td>10.507046</td>\n",
       "      <td>0.953716</td>\n",
       "      <td>16.208849</td>\n",
       "      <td>2.257889</td>\n",
       "      <td>123.819808</td>\n",
       "      <td>11.316280</td>\n",
       "      <td>7.25</td>\n",
       "      <td>0.991265</td>\n",
       "      <td>8.603505</td>\n",
       "      <td>10.354494</td>\n",
       "      <td>19.167579</td>\n",
       "      <td>33.969464</td>\n",
       "      <td>16.491823</td>\n",
       "      <td>3.124664</td>\n",
       "      <td>6.471768</td>\n",
       "      <td>2.416800</td>\n",
       "      <td>1601.556163</td>\n",
       "      <td>-499.997791</td>\n",
       "      <td>1600.386685</td>\n",
       "      <td>-500.607762</td>\n",
       "      <td>1602.003542</td>\n",
       "      <td>-500.870069</td>\n",
       "      <td>1599.541515</td>\n",
       "      <td>-499.827444</td>\n",
       "      <td>42018.101184</td>\n",
       "      <td>3495.348910</td>\n",
       "      <td>3502.359819</td>\n",
       "      <td>2.945989</td>\n",
       "      <td>6.116455</td>\n",
       "      <td>2.159622</td>\n",
       "      <td>530.026610</td>\n",
       "      <td>57.510649</td>\n",
       "      <td>35.971630</td>\n",
       "      <td>6.362222</td>\n",
       "      <td>11.920603</td>\n",
       "      <td>6.197377</td>\n",
       "      <td>11.920305</td>\n",
       "      <td>6.204633</td>\n",
       "      <td>11.695753</td>\n",
       "      <td>7.216833</td>\n",
       "      <td>27.454037</td>\n",
       "      <td>19.737170</td>\n",
       "      <td>86.842308</td>\n",
       "      <td>4.843460</td>\n",
       "      <td>0.546416</td>\n",
       "      <td>18.808533</td>\n",
       "      <td>1.162562</td>\n",
       "      <td>999.719565</td>\n",
       "      <td>-400.074028</td>\n",
       "      <td>1599.337330</td>\n",
       "      <td>-450.008530</td>\n",
       "      <td>1599.672797</td>\n",
       "      <td>-449.954491</td>\n",
       "      <td>1599.849325</td>\n",
       "      <td>-449.954185</td>\n",
       "      <td>1399.180945</td>\n",
       "      <td>-449.937588</td>\n",
       "      <td>1400.316682</td>\n",
       "      <td>-450.527147</td>\n",
       "      <td>14.115662</td>\n",
       "      <td>4.624775</td>\n",
       "      <td>8.842896</td>\n",
       "      <td>2.458187</td>\n",
       "      <td>26.005245</td>\n",
       "      <td>-499.929616</td>\n",
       "      <td>23.886657</td>\n",
       "      <td>-499.951928</td>\n",
       "      <td>23.913535</td>\n",
       "      <td>-499.442343</td>\n",
       "      <td>23.957717</td>\n",
       "      <td>-499.901982</td>\n",
       "      <td>14.015015</td>\n",
       "      <td>-502.520901</td>\n",
       "      <td>11.912783</td>\n",
       "      <td>-501.133383</td>\n",
       "      <td>10.070913</td>\n",
       "      <td>-500.129135</td>\n",
       "      <td>8.013877</td>\n",
       "      <td>-500.517572</td>\n",
       "      <td>14.028663</td>\n",
       "      <td>-601.427363</td>\n",
       "    </tr>\n",
       "    <tr>\n",
       "      <td>3</td>\n",
       "      <td>2016-01-15 03:00:00</td>\n",
       "      <td>6.047977</td>\n",
       "      <td>9.977019</td>\n",
       "      <td>4.858634</td>\n",
       "      <td>42.689819</td>\n",
       "      <td>68.347543</td>\n",
       "      <td>10.422762</td>\n",
       "      <td>0.883763</td>\n",
       "      <td>16.532835</td>\n",
       "      <td>2.146849</td>\n",
       "      <td>122.270188</td>\n",
       "      <td>11.322140</td>\n",
       "      <td>7.25</td>\n",
       "      <td>0.996739</td>\n",
       "      <td>7.221879</td>\n",
       "      <td>8.496563</td>\n",
       "      <td>15.978538</td>\n",
       "      <td>28.260743</td>\n",
       "      <td>16.024359</td>\n",
       "      <td>2.960362</td>\n",
       "      <td>6.843791</td>\n",
       "      <td>2.262051</td>\n",
       "      <td>1599.968720</td>\n",
       "      <td>-500.951778</td>\n",
       "      <td>1600.659236</td>\n",
       "      <td>-499.677094</td>\n",
       "      <td>1600.304144</td>\n",
       "      <td>-500.727997</td>\n",
       "      <td>1600.449520</td>\n",
       "      <td>-500.052575</td>\n",
       "      <td>42029.447991</td>\n",
       "      <td>3498.578313</td>\n",
       "      <td>3499.162912</td>\n",
       "      <td>3.002340</td>\n",
       "      <td>6.043309</td>\n",
       "      <td>2.037807</td>\n",
       "      <td>542.590390</td>\n",
       "      <td>57.792734</td>\n",
       "      <td>36.862241</td>\n",
       "      <td>6.118189</td>\n",
       "      <td>11.630094</td>\n",
       "      <td>6.203177</td>\n",
       "      <td>11.692450</td>\n",
       "      <td>6.196578</td>\n",
       "      <td>11.915047</td>\n",
       "      <td>7.175616</td>\n",
       "      <td>27.341277</td>\n",
       "      <td>19.320810</td>\n",
       "      <td>87.226430</td>\n",
       "      <td>4.655288</td>\n",
       "      <td>0.542525</td>\n",
       "      <td>19.330200</td>\n",
       "      <td>1.079755</td>\n",
       "      <td>999.814770</td>\n",
       "      <td>-400.200179</td>\n",
       "      <td>1600.059442</td>\n",
       "      <td>-450.619948</td>\n",
       "      <td>1600.012842</td>\n",
       "      <td>-449.910497</td>\n",
       "      <td>1597.725177</td>\n",
       "      <td>-450.130127</td>\n",
       "      <td>1400.943157</td>\n",
       "      <td>-450.030142</td>\n",
       "      <td>1400.234743</td>\n",
       "      <td>-449.790835</td>\n",
       "      <td>13.732071</td>\n",
       "      <td>4.482453</td>\n",
       "      <td>9.122857</td>\n",
       "      <td>2.322062</td>\n",
       "      <td>25.942508</td>\n",
       "      <td>-499.176749</td>\n",
       "      <td>23.955516</td>\n",
       "      <td>-499.848796</td>\n",
       "      <td>23.966838</td>\n",
       "      <td>-500.008812</td>\n",
       "      <td>23.954443</td>\n",
       "      <td>-499.944710</td>\n",
       "      <td>14.036510</td>\n",
       "      <td>-500.857308</td>\n",
       "      <td>11.999550</td>\n",
       "      <td>-501.193686</td>\n",
       "      <td>9.970366</td>\n",
       "      <td>-499.201640</td>\n",
       "      <td>7.977324</td>\n",
       "      <td>-500.255908</td>\n",
       "      <td>14.005551</td>\n",
       "      <td>-599.996129</td>\n",
       "    </tr>\n",
       "    <tr>\n",
       "      <td>4</td>\n",
       "      <td>2016-01-15 04:00:00</td>\n",
       "      <td>6.148599</td>\n",
       "      <td>10.142511</td>\n",
       "      <td>4.939416</td>\n",
       "      <td>42.774141</td>\n",
       "      <td>66.927016</td>\n",
       "      <td>10.360302</td>\n",
       "      <td>0.792826</td>\n",
       "      <td>16.525686</td>\n",
       "      <td>2.055292</td>\n",
       "      <td>117.988169</td>\n",
       "      <td>11.913613</td>\n",
       "      <td>7.25</td>\n",
       "      <td>1.009869</td>\n",
       "      <td>9.089428</td>\n",
       "      <td>9.986786</td>\n",
       "      <td>19.199864</td>\n",
       "      <td>33.044932</td>\n",
       "      <td>16.480185</td>\n",
       "      <td>3.112100</td>\n",
       "      <td>6.550154</td>\n",
       "      <td>2.277073</td>\n",
       "      <td>1601.339707</td>\n",
       "      <td>-498.975456</td>\n",
       "      <td>1601.437854</td>\n",
       "      <td>-500.323246</td>\n",
       "      <td>1599.581894</td>\n",
       "      <td>-500.888152</td>\n",
       "      <td>1602.649541</td>\n",
       "      <td>-500.593010</td>\n",
       "      <td>42125.354245</td>\n",
       "      <td>3494.800771</td>\n",
       "      <td>3506.679315</td>\n",
       "      <td>3.169615</td>\n",
       "      <td>6.060915</td>\n",
       "      <td>1.786875</td>\n",
       "      <td>540.531893</td>\n",
       "      <td>56.047189</td>\n",
       "      <td>34.347666</td>\n",
       "      <td>5.663707</td>\n",
       "      <td>10.957755</td>\n",
       "      <td>6.198826</td>\n",
       "      <td>10.960521</td>\n",
       "      <td>6.194897</td>\n",
       "      <td>12.411054</td>\n",
       "      <td>7.240205</td>\n",
       "      <td>27.041023</td>\n",
       "      <td>19.216101</td>\n",
       "      <td>86.688794</td>\n",
       "      <td>4.552800</td>\n",
       "      <td>0.515438</td>\n",
       "      <td>19.267422</td>\n",
       "      <td>1.012642</td>\n",
       "      <td>999.678690</td>\n",
       "      <td>-399.752729</td>\n",
       "      <td>1600.208824</td>\n",
       "      <td>-449.599614</td>\n",
       "      <td>1600.357732</td>\n",
       "      <td>-450.034364</td>\n",
       "      <td>1599.759049</td>\n",
       "      <td>-449.909799</td>\n",
       "      <td>1401.560902</td>\n",
       "      <td>-448.877187</td>\n",
       "      <td>1401.160227</td>\n",
       "      <td>-450.407128</td>\n",
       "      <td>14.079996</td>\n",
       "      <td>4.470737</td>\n",
       "      <td>8.871028</td>\n",
       "      <td>2.330448</td>\n",
       "      <td>26.024787</td>\n",
       "      <td>-500.279091</td>\n",
       "      <td>23.955345</td>\n",
       "      <td>-500.593614</td>\n",
       "      <td>23.985703</td>\n",
       "      <td>-500.083811</td>\n",
       "      <td>23.958945</td>\n",
       "      <td>-499.990309</td>\n",
       "      <td>14.027298</td>\n",
       "      <td>-499.838632</td>\n",
       "      <td>11.953070</td>\n",
       "      <td>-501.053894</td>\n",
       "      <td>9.925709</td>\n",
       "      <td>-501.686727</td>\n",
       "      <td>7.894242</td>\n",
       "      <td>-500.356035</td>\n",
       "      <td>13.996647</td>\n",
       "      <td>-601.496691</td>\n",
       "    </tr>\n",
       "  </tbody>\n",
       "</table>\n",
       "</div>"
      ],
      "text/plain": [
       "                  date  final.output.concentrate_ag  \\\n",
       "0  2016-01-15 00:00:00                     6.055403   \n",
       "1  2016-01-15 01:00:00                     6.029369   \n",
       "2  2016-01-15 02:00:00                     6.055926   \n",
       "3  2016-01-15 03:00:00                     6.047977   \n",
       "4  2016-01-15 04:00:00                     6.148599   \n",
       "\n",
       "   final.output.concentrate_pb  final.output.concentrate_sol  \\\n",
       "0                     9.889648                      5.507324   \n",
       "1                     9.968944                      5.257781   \n",
       "2                    10.213995                      5.383759   \n",
       "3                     9.977019                      4.858634   \n",
       "4                    10.142511                      4.939416   \n",
       "\n",
       "   final.output.concentrate_au  final.output.recovery  final.output.tail_ag  \\\n",
       "0                    42.192020              70.541216             10.411962   \n",
       "1                    42.701629              69.266198             10.462676   \n",
       "2                    42.657501              68.116445             10.507046   \n",
       "3                    42.689819              68.347543             10.422762   \n",
       "4                    42.774141              66.927016             10.360302   \n",
       "\n",
       "   final.output.tail_pb  final.output.tail_sol  final.output.tail_au  \\\n",
       "0              0.895447              16.904297              2.143149   \n",
       "1              0.927452              16.634514              2.224930   \n",
       "2              0.953716              16.208849              2.257889   \n",
       "3              0.883763              16.532835              2.146849   \n",
       "4              0.792826              16.525686              2.055292   \n",
       "\n",
       "   primary_cleaner.input.sulfate  primary_cleaner.input.depressant  \\\n",
       "0                     127.092003                         10.128295   \n",
       "1                     125.629232                         10.296251   \n",
       "2                     123.819808                         11.316280   \n",
       "3                     122.270188                         11.322140   \n",
       "4                     117.988169                         11.913613   \n",
       "\n",
       "   primary_cleaner.input.feed_size  primary_cleaner.input.xanthate  \\\n",
       "0                             7.25                        0.988759   \n",
       "1                             7.25                        1.002663   \n",
       "2                             7.25                        0.991265   \n",
       "3                             7.25                        0.996739   \n",
       "4                             7.25                        1.009869   \n",
       "\n",
       "   primary_cleaner.output.concentrate_ag  \\\n",
       "0                               8.547551   \n",
       "1                               8.558743   \n",
       "2                               8.603505   \n",
       "3                               7.221879   \n",
       "4                               9.089428   \n",
       "\n",
       "   primary_cleaner.output.concentrate_pb  \\\n",
       "0                              10.389648   \n",
       "1                              10.497069   \n",
       "2                              10.354494   \n",
       "3                               8.496563   \n",
       "4                               9.986786   \n",
       "\n",
       "   primary_cleaner.output.concentrate_sol  \\\n",
       "0                               19.529297   \n",
       "1                               19.369147   \n",
       "2                               19.167579   \n",
       "3                               15.978538   \n",
       "4                               19.199864   \n",
       "\n",
       "   primary_cleaner.output.concentrate_au  primary_cleaner.output.tail_ag  \\\n",
       "0                              34.174427                       14.936526   \n",
       "1                              34.118526                       16.250511   \n",
       "2                              33.969464                       16.491823   \n",
       "3                              28.260743                       16.024359   \n",
       "4                              33.044932                       16.480185   \n",
       "\n",
       "   primary_cleaner.output.tail_pb  primary_cleaner.output.tail_sol  \\\n",
       "0                        2.534912                         7.476074   \n",
       "1                        3.049646                         6.733907   \n",
       "2                        3.124664                         6.471768   \n",
       "3                        2.960362                         6.843791   \n",
       "4                        3.112100                         6.550154   \n",
       "\n",
       "   primary_cleaner.output.tail_au  primary_cleaner.state.floatbank8_a_air  \\\n",
       "0                        2.106679                             1549.775757   \n",
       "1                        2.353017                             1576.166671   \n",
       "2                        2.416800                             1601.556163   \n",
       "3                        2.262051                             1599.968720   \n",
       "4                        2.277073                             1601.339707   \n",
       "\n",
       "   primary_cleaner.state.floatbank8_a_level  \\\n",
       "0                               -498.912140   \n",
       "1                               -500.904965   \n",
       "2                               -499.997791   \n",
       "3                               -500.951778   \n",
       "4                               -498.975456   \n",
       "\n",
       "   primary_cleaner.state.floatbank8_b_air  \\\n",
       "0                             1551.434204   \n",
       "1                             1575.950626   \n",
       "2                             1600.386685   \n",
       "3                             1600.659236   \n",
       "4                             1601.437854   \n",
       "\n",
       "   primary_cleaner.state.floatbank8_b_level  \\\n",
       "0                               -516.403442   \n",
       "1                               -499.865889   \n",
       "2                               -500.607762   \n",
       "3                               -499.677094   \n",
       "4                               -500.323246   \n",
       "\n",
       "   primary_cleaner.state.floatbank8_c_air  \\\n",
       "0                             1549.873901   \n",
       "1                             1575.994189   \n",
       "2                             1602.003542   \n",
       "3                             1600.304144   \n",
       "4                             1599.581894   \n",
       "\n",
       "   primary_cleaner.state.floatbank8_c_level  \\\n",
       "0                               -498.666595   \n",
       "1                               -499.315107   \n",
       "2                               -500.870069   \n",
       "3                               -500.727997   \n",
       "4                               -500.888152   \n",
       "\n",
       "   primary_cleaner.state.floatbank8_d_air  \\\n",
       "0                             1554.367432   \n",
       "1                             1574.479259   \n",
       "2                             1599.541515   \n",
       "3                             1600.449520   \n",
       "4                             1602.649541   \n",
       "\n",
       "   primary_cleaner.state.floatbank8_d_level  \\\n",
       "0                               -493.428131   \n",
       "1                               -498.931665   \n",
       "2                               -499.827444   \n",
       "3                               -500.052575   \n",
       "4                               -500.593010   \n",
       "\n",
       "   rougher.calculation.sulfate_to_au_concentrate  \\\n",
       "0                                   41885.707031   \n",
       "1                                   42050.861809   \n",
       "2                                   42018.101184   \n",
       "3                                   42029.447991   \n",
       "4                                   42125.354245   \n",
       "\n",
       "   rougher.calculation.floatbank10_sulfate_to_au_feed  \\\n",
       "0                                        3481.779053    \n",
       "1                                        3498.370979    \n",
       "2                                        3495.348910    \n",
       "3                                        3498.578313    \n",
       "4                                        3494.800771    \n",
       "\n",
       "   rougher.calculation.floatbank11_sulfate_to_au_feed  \\\n",
       "0                                        3520.337158    \n",
       "1                                        3489.981857    \n",
       "2                                        3502.359819    \n",
       "3                                        3499.162912    \n",
       "4                                        3506.679315    \n",
       "\n",
       "   rougher.calculation.au_pb_ratio  rougher.input.feed_ag  \\\n",
       "0                         2.838687               6.100378   \n",
       "1                         2.858998               6.161113   \n",
       "2                         2.945989               6.116455   \n",
       "3                         3.002340               6.043309   \n",
       "4                         3.169615               6.060915   \n",
       "\n",
       "   rougher.input.feed_pb  rougher.input.feed_rate  rougher.input.feed_size  \\\n",
       "0               2.284912               523.546326                55.486599   \n",
       "1               2.266033               525.290581                57.278666   \n",
       "2               2.159622               530.026610                57.510649   \n",
       "3               2.037807               542.590390                57.792734   \n",
       "4               1.786875               540.531893                56.047189   \n",
       "\n",
       "   rougher.input.feed_sol  rougher.input.feed_au  \\\n",
       "0               36.808594               6.486150   \n",
       "1               35.753385               6.478583   \n",
       "2               35.971630               6.362222   \n",
       "3               36.862241               6.118189   \n",
       "4               34.347666               5.663707   \n",
       "\n",
       "   rougher.input.floatbank10_sulfate  rougher.input.floatbank10_xanthate  \\\n",
       "0                          11.986616                            6.007990   \n",
       "1                          11.971193                            6.005766   \n",
       "2                          11.920603                            6.197377   \n",
       "3                          11.630094                            6.203177   \n",
       "4                          10.957755                            6.198826   \n",
       "\n",
       "   rougher.input.floatbank11_sulfate  rougher.input.floatbank11_xanthate  \\\n",
       "0                          11.836743                            6.005818   \n",
       "1                          11.996163                            6.012594   \n",
       "2                          11.920305                            6.204633   \n",
       "3                          11.692450                            6.196578   \n",
       "4                          10.960521                            6.194897   \n",
       "\n",
       "   rougher.output.concentrate_ag  rougher.output.concentrate_pb  \\\n",
       "0                      11.500771                       7.101074   \n",
       "1                      11.615865                       7.278807   \n",
       "2                      11.695753                       7.216833   \n",
       "3                      11.915047                       7.175616   \n",
       "4                      12.411054                       7.240205   \n",
       "\n",
       "   rougher.output.concentrate_sol  rougher.output.concentrate_au  \\\n",
       "0                       28.029297                      19.793808   \n",
       "1                       28.067063                      20.050975   \n",
       "2                       27.454037                      19.737170   \n",
       "3                       27.341277                      19.320810   \n",
       "4                       27.041023                      19.216101   \n",
       "\n",
       "   rougher.output.recovery  rougher.output.tail_ag  rougher.output.tail_pb  \\\n",
       "0                87.107763                5.008018                0.508728   \n",
       "1                86.843261                4.955378                0.536689   \n",
       "2                86.842308                4.843460                0.546416   \n",
       "3                87.226430                4.655288                0.542525   \n",
       "4                86.688794                4.552800                0.515438   \n",
       "\n",
       "   rougher.output.tail_sol  rougher.output.tail_au  \\\n",
       "0                19.154297                1.170244   \n",
       "1                18.965234                1.184827   \n",
       "2                18.808533                1.162562   \n",
       "3                19.330200                1.079755   \n",
       "4                19.267422                1.012642   \n",
       "\n",
       "   rougher.state.floatbank10_a_air  rougher.state.floatbank10_a_level  \\\n",
       "0                       999.706909                        -404.066986   \n",
       "1                      1000.286398                        -400.065196   \n",
       "2                       999.719565                        -400.074028   \n",
       "3                       999.814770                        -400.200179   \n",
       "4                       999.678690                        -399.752729   \n",
       "\n",
       "   rougher.state.floatbank10_b_air  rougher.state.floatbank10_b_level  \\\n",
       "0                      1603.011353                        -434.715027   \n",
       "1                      1600.754587                        -449.953435   \n",
       "2                      1599.337330                        -450.008530   \n",
       "3                      1600.059442                        -450.619948   \n",
       "4                      1600.208824                        -449.599614   \n",
       "\n",
       "   rougher.state.floatbank10_c_air  rougher.state.floatbank10_c_level  \\\n",
       "0                      1602.375000                        -442.204468   \n",
       "1                      1600.479580                        -449.830646   \n",
       "2                      1599.672797                        -449.954491   \n",
       "3                      1600.012842                        -449.910497   \n",
       "4                      1600.357732                        -450.034364   \n",
       "\n",
       "   rougher.state.floatbank10_d_air  rougher.state.floatbank10_d_level  \\\n",
       "0                      1598.937256                        -451.294128   \n",
       "1                      1600.527589                        -449.953649   \n",
       "2                      1599.849325                        -449.954185   \n",
       "3                      1597.725177                        -450.130127   \n",
       "4                      1599.759049                        -449.909799   \n",
       "\n",
       "   rougher.state.floatbank10_e_air  rougher.state.floatbank10_e_level  \\\n",
       "0                      1404.472046                        -455.462982   \n",
       "1                      1399.227084                        -450.869848   \n",
       "2                      1399.180945                        -449.937588   \n",
       "3                      1400.943157                        -450.030142   \n",
       "4                      1401.560902                        -448.877187   \n",
       "\n",
       "   rougher.state.floatbank10_f_air  rougher.state.floatbank10_f_level  \\\n",
       "0                      1416.354980                        -451.939636   \n",
       "1                      1399.719514                        -450.119001   \n",
       "2                      1400.316682                        -450.527147   \n",
       "3                      1400.234743                        -449.790835   \n",
       "4                      1401.160227                        -450.407128   \n",
       "\n",
       "   secondary_cleaner.output.tail_ag  secondary_cleaner.output.tail_pb  \\\n",
       "0                         14.500184                          4.694824   \n",
       "1                         14.265474                          4.592547   \n",
       "2                         14.115662                          4.624775   \n",
       "3                         13.732071                          4.482453   \n",
       "4                         14.079996                          4.470737   \n",
       "\n",
       "   secondary_cleaner.output.tail_sol  secondary_cleaner.output.tail_au  \\\n",
       "0                           8.764648                          2.606185   \n",
       "1                           9.001494                          2.488248   \n",
       "2                           8.842896                          2.458187   \n",
       "3                           9.122857                          2.322062   \n",
       "4                           8.871028                          2.330448   \n",
       "\n",
       "   secondary_cleaner.state.floatbank2_a_air  \\\n",
       "0                                 25.853109   \n",
       "1                                 25.880539   \n",
       "2                                 26.005245   \n",
       "3                                 25.942508   \n",
       "4                                 26.024787   \n",
       "\n",
       "   secondary_cleaner.state.floatbank2_a_level  \\\n",
       "0                                 -498.526489   \n",
       "1                                 -499.989656   \n",
       "2                                 -499.929616   \n",
       "3                                 -499.176749   \n",
       "4                                 -500.279091   \n",
       "\n",
       "   secondary_cleaner.state.floatbank2_b_air  \\\n",
       "0                                 23.893660   \n",
       "1                                 23.889530   \n",
       "2                                 23.886657   \n",
       "3                                 23.955516   \n",
       "4                                 23.955345   \n",
       "\n",
       "   secondary_cleaner.state.floatbank2_b_level  \\\n",
       "0                                 -501.406281   \n",
       "1                                 -500.372428   \n",
       "2                                 -499.951928   \n",
       "3                                 -499.848796   \n",
       "4                                 -500.593614   \n",
       "\n",
       "   secondary_cleaner.state.floatbank3_a_air  \\\n",
       "0                                 23.961798   \n",
       "1                                 23.970550   \n",
       "2                                 23.913535   \n",
       "3                                 23.966838   \n",
       "4                                 23.985703   \n",
       "\n",
       "   secondary_cleaner.state.floatbank3_a_level  \\\n",
       "0                                 -495.262817   \n",
       "1                                 -500.085473   \n",
       "2                                 -499.442343   \n",
       "3                                 -500.008812   \n",
       "4                                 -500.083811   \n",
       "\n",
       "   secondary_cleaner.state.floatbank3_b_air  \\\n",
       "0                                 21.940409   \n",
       "1                                 22.085714   \n",
       "2                                 23.957717   \n",
       "3                                 23.954443   \n",
       "4                                 23.958945   \n",
       "\n",
       "   secondary_cleaner.state.floatbank3_b_level  \\\n",
       "0                                 -499.340973   \n",
       "1                                 -499.446897   \n",
       "2                                 -499.901982   \n",
       "3                                 -499.944710   \n",
       "4                                 -499.990309   \n",
       "\n",
       "   secondary_cleaner.state.floatbank4_a_air  \\\n",
       "0                                 14.016835   \n",
       "1                                 13.992281   \n",
       "2                                 14.015015   \n",
       "3                                 14.036510   \n",
       "4                                 14.027298   \n",
       "\n",
       "   secondary_cleaner.state.floatbank4_a_level  \\\n",
       "0                                 -502.488007   \n",
       "1                                 -505.503262   \n",
       "2                                 -502.520901   \n",
       "3                                 -500.857308   \n",
       "4                                 -499.838632   \n",
       "\n",
       "   secondary_cleaner.state.floatbank4_b_air  \\\n",
       "0                                 12.099931   \n",
       "1                                 11.950531   \n",
       "2                                 11.912783   \n",
       "3                                 11.999550   \n",
       "4                                 11.953070   \n",
       "\n",
       "   secondary_cleaner.state.floatbank4_b_level  \\\n",
       "0                                 -504.715942   \n",
       "1                                 -501.331529   \n",
       "2                                 -501.133383   \n",
       "3                                 -501.193686   \n",
       "4                                 -501.053894   \n",
       "\n",
       "   secondary_cleaner.state.floatbank5_a_air  \\\n",
       "0                                  9.925633   \n",
       "1                                 10.039245   \n",
       "2                                 10.070913   \n",
       "3                                  9.970366   \n",
       "4                                  9.925709   \n",
       "\n",
       "   secondary_cleaner.state.floatbank5_a_level  \\\n",
       "0                                 -498.310211   \n",
       "1                                 -500.169983   \n",
       "2                                 -500.129135   \n",
       "3                                 -499.201640   \n",
       "4                                 -501.686727   \n",
       "\n",
       "   secondary_cleaner.state.floatbank5_b_air  \\\n",
       "0                                  8.079666   \n",
       "1                                  7.984757   \n",
       "2                                  8.013877   \n",
       "3                                  7.977324   \n",
       "4                                  7.894242   \n",
       "\n",
       "   secondary_cleaner.state.floatbank5_b_level  \\\n",
       "0                                 -500.470978   \n",
       "1                                 -500.582168   \n",
       "2                                 -500.517572   \n",
       "3                                 -500.255908   \n",
       "4                                 -500.356035   \n",
       "\n",
       "   secondary_cleaner.state.floatbank6_a_air  \\\n",
       "0                                 14.151341   \n",
       "1                                 13.998353   \n",
       "2                                 14.028663   \n",
       "3                                 14.005551   \n",
       "4                                 13.996647   \n",
       "\n",
       "   secondary_cleaner.state.floatbank6_a_level  \n",
       "0                                 -605.841980  \n",
       "1                                 -599.787184  \n",
       "2                                 -601.427363  \n",
       "3                                 -599.996129  \n",
       "4                                 -601.496691  "
      ]
     },
     "execution_count": 9,
     "metadata": {},
     "output_type": "execute_result"
    }
   ],
   "source": [
    "full.head()"
   ]
  },
  {
   "cell_type": "code",
   "execution_count": 10,
   "metadata": {},
   "outputs": [
    {
     "name": "stdout",
     "output_type": "stream",
     "text": [
      "<class 'pandas.core.frame.DataFrame'>\n",
      "RangeIndex: 19439 entries, 0 to 19438\n",
      "Data columns (total 87 columns):\n",
      "date                                                  19439 non-null object\n",
      "final.output.concentrate_ag                           19438 non-null float64\n",
      "final.output.concentrate_pb                           19438 non-null float64\n",
      "final.output.concentrate_sol                          19228 non-null float64\n",
      "final.output.concentrate_au                           19439 non-null float64\n",
      "final.output.recovery                                 19439 non-null float64\n",
      "final.output.tail_ag                                  19438 non-null float64\n",
      "final.output.tail_pb                                  19338 non-null float64\n",
      "final.output.tail_sol                                 19433 non-null float64\n",
      "final.output.tail_au                                  19439 non-null float64\n",
      "primary_cleaner.input.sulfate                         19415 non-null float64\n",
      "primary_cleaner.input.depressant                      19402 non-null float64\n",
      "primary_cleaner.input.feed_size                       19439 non-null float64\n",
      "primary_cleaner.input.xanthate                        19335 non-null float64\n",
      "primary_cleaner.output.concentrate_ag                 19439 non-null float64\n",
      "primary_cleaner.output.concentrate_pb                 19323 non-null float64\n",
      "primary_cleaner.output.concentrate_sol                19069 non-null float64\n",
      "primary_cleaner.output.concentrate_au                 19439 non-null float64\n",
      "primary_cleaner.output.tail_ag                        19435 non-null float64\n",
      "primary_cleaner.output.tail_pb                        19418 non-null float64\n",
      "primary_cleaner.output.tail_sol                       19377 non-null float64\n",
      "primary_cleaner.output.tail_au                        19439 non-null float64\n",
      "primary_cleaner.state.floatbank8_a_air                19435 non-null float64\n",
      "primary_cleaner.state.floatbank8_a_level              19438 non-null float64\n",
      "primary_cleaner.state.floatbank8_b_air                19435 non-null float64\n",
      "primary_cleaner.state.floatbank8_b_level              19438 non-null float64\n",
      "primary_cleaner.state.floatbank8_c_air                19437 non-null float64\n",
      "primary_cleaner.state.floatbank8_c_level              19438 non-null float64\n",
      "primary_cleaner.state.floatbank8_d_air                19436 non-null float64\n",
      "primary_cleaner.state.floatbank8_d_level              19438 non-null float64\n",
      "rougher.calculation.sulfate_to_au_concentrate         19437 non-null float64\n",
      "rougher.calculation.floatbank10_sulfate_to_au_feed    19437 non-null float64\n",
      "rougher.calculation.floatbank11_sulfate_to_au_feed    19437 non-null float64\n",
      "rougher.calculation.au_pb_ratio                       19439 non-null float64\n",
      "rougher.input.feed_ag                                 19439 non-null float64\n",
      "rougher.input.feed_pb                                 19339 non-null float64\n",
      "rougher.input.feed_rate                               19428 non-null float64\n",
      "rougher.input.feed_size                               19294 non-null float64\n",
      "rougher.input.feed_sol                                19340 non-null float64\n",
      "rougher.input.feed_au                                 19439 non-null float64\n",
      "rougher.input.floatbank10_sulfate                     19405 non-null float64\n",
      "rougher.input.floatbank10_xanthate                    19431 non-null float64\n",
      "rougher.input.floatbank11_sulfate                     19395 non-null float64\n",
      "rougher.input.floatbank11_xanthate                    18986 non-null float64\n",
      "rougher.output.concentrate_ag                         19439 non-null float64\n",
      "rougher.output.concentrate_pb                         19439 non-null float64\n",
      "rougher.output.concentrate_sol                        19416 non-null float64\n",
      "rougher.output.concentrate_au                         19439 non-null float64\n",
      "rougher.output.recovery                               19439 non-null float64\n",
      "rougher.output.tail_ag                                19438 non-null float64\n",
      "rougher.output.tail_pb                                19439 non-null float64\n",
      "rougher.output.tail_sol                               19439 non-null float64\n",
      "rougher.output.tail_au                                19439 non-null float64\n",
      "rougher.state.floatbank10_a_air                       19438 non-null float64\n",
      "rougher.state.floatbank10_a_level                     19438 non-null float64\n",
      "rougher.state.floatbank10_b_air                       19438 non-null float64\n",
      "rougher.state.floatbank10_b_level                     19438 non-null float64\n",
      "rougher.state.floatbank10_c_air                       19438 non-null float64\n",
      "rougher.state.floatbank10_c_level                     19438 non-null float64\n",
      "rougher.state.floatbank10_d_air                       19439 non-null float64\n",
      "rougher.state.floatbank10_d_level                     19439 non-null float64\n",
      "rougher.state.floatbank10_e_air                       19003 non-null float64\n",
      "rougher.state.floatbank10_e_level                     19439 non-null float64\n",
      "rougher.state.floatbank10_f_air                       19439 non-null float64\n",
      "rougher.state.floatbank10_f_level                     19439 non-null float64\n",
      "secondary_cleaner.output.tail_ag                      19437 non-null float64\n",
      "secondary_cleaner.output.tail_pb                      19427 non-null float64\n",
      "secondary_cleaner.output.tail_sol                     17691 non-null float64\n",
      "secondary_cleaner.output.tail_au                      19439 non-null float64\n",
      "secondary_cleaner.state.floatbank2_a_air              19219 non-null float64\n",
      "secondary_cleaner.state.floatbank2_a_level            19438 non-null float64\n",
      "secondary_cleaner.state.floatbank2_b_air              19416 non-null float64\n",
      "secondary_cleaner.state.floatbank2_b_level            19438 non-null float64\n",
      "secondary_cleaner.state.floatbank3_a_air              19426 non-null float64\n",
      "secondary_cleaner.state.floatbank3_a_level            19438 non-null float64\n",
      "secondary_cleaner.state.floatbank3_b_air              19438 non-null float64\n",
      "secondary_cleaner.state.floatbank3_b_level            19438 non-null float64\n",
      "secondary_cleaner.state.floatbank4_a_air              19433 non-null float64\n",
      "secondary_cleaner.state.floatbank4_a_level            19438 non-null float64\n",
      "secondary_cleaner.state.floatbank4_b_air              19438 non-null float64\n",
      "secondary_cleaner.state.floatbank4_b_level            19438 non-null float64\n",
      "secondary_cleaner.state.floatbank5_a_air              19438 non-null float64\n",
      "secondary_cleaner.state.floatbank5_a_level            19438 non-null float64\n",
      "secondary_cleaner.state.floatbank5_b_air              19438 non-null float64\n",
      "secondary_cleaner.state.floatbank5_b_level            19438 non-null float64\n",
      "secondary_cleaner.state.floatbank6_a_air              19437 non-null float64\n",
      "secondary_cleaner.state.floatbank6_a_level            19438 non-null float64\n",
      "dtypes: float64(86), object(1)\n",
      "memory usage: 12.9+ MB\n"
     ]
    }
   ],
   "source": [
    "full.info()"
   ]
  },
  {
   "cell_type": "markdown",
   "metadata": {},
   "source": [
    "Создадим копию обучающей выборки:"
   ]
  },
  {
   "cell_type": "code",
   "execution_count": 11,
   "metadata": {},
   "outputs": [],
   "source": [
    "df = train.copy()"
   ]
  },
  {
   "cell_type": "markdown",
   "metadata": {},
   "source": [
    "Удалим пропуски:"
   ]
  },
  {
   "cell_type": "code",
   "execution_count": 12,
   "metadata": {},
   "outputs": [],
   "source": [
    "df = df.dropna().reset_index(drop=True)"
   ]
  },
  {
   "cell_type": "markdown",
   "metadata": {},
   "source": [
    "Напишем функцию для расчета эффективности обогащения концентрата:"
   ]
  },
  {
   "cell_type": "code",
   "execution_count": 13,
   "metadata": {},
   "outputs": [],
   "source": [
    "def recovery(row):\n",
    "    C = row['rougher.output.concentrate_au']\n",
    "    F = row['rougher.input.feed_au']\n",
    "    T = row['rougher.output.tail_au']\n",
    "    recovery = (C * (F - T)) / (F * (C - T)) * 100\n",
    "    return recovery"
   ]
  },
  {
   "cell_type": "markdown",
   "metadata": {},
   "source": [
    "Рассчитаем эффективность по данным обучающей выборки:"
   ]
  },
  {
   "cell_type": "code",
   "execution_count": 14,
   "metadata": {},
   "outputs": [],
   "source": [
    "df['recovery'] = df.apply(recovery, axis=1)"
   ]
  },
  {
   "cell_type": "markdown",
   "metadata": {},
   "source": [
    "Рассчитаем среднее абсолютное отклонение:"
   ]
  },
  {
   "cell_type": "code",
   "execution_count": 15,
   "metadata": {},
   "outputs": [
    {
     "data": {
      "text/plain": [
       "9.739730529255835e-15"
      ]
     },
     "execution_count": 15,
     "metadata": {},
     "output_type": "execute_result"
    }
   ],
   "source": [
    "mean_absolute_error(df['recovery'], df['rougher.output.recovery'])"
   ]
  },
  {
   "cell_type": "markdown",
   "metadata": {},
   "source": [
    "Посмотрим признаки, которых нет в тестовой выборке:"
   ]
  },
  {
   "cell_type": "code",
   "execution_count": 16,
   "metadata": {},
   "outputs": [
    {
     "data": {
      "text/plain": [
       "{'final.output.concentrate_ag',\n",
       " 'final.output.concentrate_au',\n",
       " 'final.output.concentrate_pb',\n",
       " 'final.output.concentrate_sol',\n",
       " 'final.output.recovery',\n",
       " 'final.output.tail_ag',\n",
       " 'final.output.tail_au',\n",
       " 'final.output.tail_pb',\n",
       " 'final.output.tail_sol',\n",
       " 'primary_cleaner.output.concentrate_ag',\n",
       " 'primary_cleaner.output.concentrate_au',\n",
       " 'primary_cleaner.output.concentrate_pb',\n",
       " 'primary_cleaner.output.concentrate_sol',\n",
       " 'primary_cleaner.output.tail_ag',\n",
       " 'primary_cleaner.output.tail_au',\n",
       " 'primary_cleaner.output.tail_pb',\n",
       " 'primary_cleaner.output.tail_sol',\n",
       " 'rougher.calculation.au_pb_ratio',\n",
       " 'rougher.calculation.floatbank10_sulfate_to_au_feed',\n",
       " 'rougher.calculation.floatbank11_sulfate_to_au_feed',\n",
       " 'rougher.calculation.sulfate_to_au_concentrate',\n",
       " 'rougher.output.concentrate_ag',\n",
       " 'rougher.output.concentrate_au',\n",
       " 'rougher.output.concentrate_pb',\n",
       " 'rougher.output.concentrate_sol',\n",
       " 'rougher.output.recovery',\n",
       " 'rougher.output.tail_ag',\n",
       " 'rougher.output.tail_au',\n",
       " 'rougher.output.tail_pb',\n",
       " 'rougher.output.tail_sol',\n",
       " 'secondary_cleaner.output.tail_ag',\n",
       " 'secondary_cleaner.output.tail_au',\n",
       " 'secondary_cleaner.output.tail_pb',\n",
       " 'secondary_cleaner.output.tail_sol'}"
      ]
     },
     "execution_count": 16,
     "metadata": {},
     "output_type": "execute_result"
    }
   ],
   "source": [
    "set(train) - set(test)"
   ]
  },
  {
   "cell_type": "markdown",
   "metadata": {},
   "source": [
    "Посмотрим долю пропусков в обучающем наборе данных:"
   ]
  },
  {
   "cell_type": "code",
   "execution_count": 17,
   "metadata": {},
   "outputs": [
    {
     "data": {
      "text/plain": [
       "date                                                  0.000000\n",
       "final.output.concentrate_ag                           0.000071\n",
       "final.output.concentrate_pb                           0.000071\n",
       "final.output.concentrate_sol                          0.014913\n",
       "final.output.concentrate_au                           0.000000\n",
       "final.output.recovery                                 0.000000\n",
       "final.output.tail_ag                                  0.000000\n",
       "final.output.tail_pb                                  0.007068\n",
       "final.output.tail_sol                                 0.000353\n",
       "final.output.tail_au                                  0.000000\n",
       "primary_cleaner.input.sulfate                         0.001414\n",
       "primary_cleaner.input.depressant                      0.002262\n",
       "primary_cleaner.input.feed_size                       0.000000\n",
       "primary_cleaner.input.xanthate                        0.007068\n",
       "primary_cleaner.output.concentrate_ag                 0.000000\n",
       "primary_cleaner.output.concentrate_pb                 0.006078\n",
       "primary_cleaner.output.concentrate_sol                0.020213\n",
       "primary_cleaner.output.concentrate_au                 0.000000\n",
       "primary_cleaner.output.tail_ag                        0.000071\n",
       "primary_cleaner.output.tail_pb                        0.001060\n",
       "primary_cleaner.output.tail_sol                       0.003251\n",
       "primary_cleaner.output.tail_au                        0.000000\n",
       "primary_cleaner.state.floatbank8_a_air                0.000283\n",
       "primary_cleaner.state.floatbank8_a_level              0.000071\n",
       "primary_cleaner.state.floatbank8_b_air                0.000283\n",
       "primary_cleaner.state.floatbank8_b_level              0.000071\n",
       "primary_cleaner.state.floatbank8_c_air                0.000141\n",
       "primary_cleaner.state.floatbank8_c_level              0.000071\n",
       "primary_cleaner.state.floatbank8_d_air                0.000212\n",
       "primary_cleaner.state.floatbank8_d_level              0.000071\n",
       "rougher.calculation.sulfate_to_au_concentrate         0.000071\n",
       "rougher.calculation.floatbank10_sulfate_to_au_feed    0.000071\n",
       "rougher.calculation.floatbank11_sulfate_to_au_feed    0.000071\n",
       "rougher.calculation.au_pb_ratio                       0.000000\n",
       "rougher.input.feed_ag                                 0.000000\n",
       "rougher.input.feed_pb                                 0.007068\n",
       "rougher.input.feed_rate                               0.000565\n",
       "rougher.input.feed_size                               0.010177\n",
       "rougher.input.feed_sol                                0.005513\n",
       "rougher.input.feed_au                                 0.000000\n",
       "rougher.input.floatbank10_sulfate                     0.002050\n",
       "rougher.input.floatbank10_xanthate                    0.000565\n",
       "rougher.input.floatbank11_sulfate                     0.002544\n",
       "rougher.input.floatbank11_xanthate                    0.030249\n",
       "rougher.output.concentrate_ag                         0.000000\n",
       "rougher.output.concentrate_pb                         0.000000\n",
       "rougher.output.concentrate_sol                        0.001555\n",
       "rougher.output.concentrate_au                         0.000000\n",
       "rougher.output.recovery                               0.000000\n",
       "rougher.output.tail_ag                                0.000071\n",
       "rougher.output.tail_pb                                0.000000\n",
       "rougher.output.tail_sol                               0.000000\n",
       "rougher.output.tail_au                                0.000000\n",
       "rougher.state.floatbank10_a_air                       0.000071\n",
       "rougher.state.floatbank10_a_level                     0.000071\n",
       "rougher.state.floatbank10_b_air                       0.000071\n",
       "rougher.state.floatbank10_b_level                     0.000071\n",
       "rougher.state.floatbank10_c_air                       0.000071\n",
       "rougher.state.floatbank10_c_level                     0.000071\n",
       "rougher.state.floatbank10_d_air                       0.000000\n",
       "rougher.state.floatbank10_d_level                     0.000000\n",
       "rougher.state.floatbank10_e_air                       0.030815\n",
       "rougher.state.floatbank10_e_level                     0.000000\n",
       "rougher.state.floatbank10_f_air                       0.000000\n",
       "rougher.state.floatbank10_f_level                     0.000000\n",
       "secondary_cleaner.output.tail_ag                      0.000141\n",
       "secondary_cleaner.output.tail_pb                      0.000707\n",
       "secondary_cleaner.output.tail_sol                     0.113436\n",
       "secondary_cleaner.output.tail_au                      0.000000\n",
       "secondary_cleaner.state.floatbank2_a_air              0.015337\n",
       "secondary_cleaner.state.floatbank2_a_level            0.000071\n",
       "secondary_cleaner.state.floatbank2_b_air              0.001484\n",
       "secondary_cleaner.state.floatbank2_b_level            0.000071\n",
       "secondary_cleaner.state.floatbank3_a_air              0.000283\n",
       "secondary_cleaner.state.floatbank3_a_level            0.000071\n",
       "secondary_cleaner.state.floatbank3_b_air              0.000071\n",
       "secondary_cleaner.state.floatbank3_b_level            0.000071\n",
       "secondary_cleaner.state.floatbank4_a_air              0.000424\n",
       "secondary_cleaner.state.floatbank4_a_level            0.000071\n",
       "secondary_cleaner.state.floatbank4_b_air              0.000071\n",
       "secondary_cleaner.state.floatbank4_b_level            0.000071\n",
       "secondary_cleaner.state.floatbank5_a_air              0.000071\n",
       "secondary_cleaner.state.floatbank5_a_level            0.000071\n",
       "secondary_cleaner.state.floatbank5_b_air              0.000071\n",
       "secondary_cleaner.state.floatbank5_b_level            0.000071\n",
       "secondary_cleaner.state.floatbank6_a_air              0.000141\n",
       "secondary_cleaner.state.floatbank6_a_level            0.000071\n",
       "dtype: float64"
      ]
     },
     "execution_count": 17,
     "metadata": {},
     "output_type": "execute_result"
    }
   ],
   "source": [
    "train.isna().mean()"
   ]
  },
  {
   "cell_type": "markdown",
   "metadata": {},
   "source": [
    "Изменим тип данных 'object' на 'datetime' в столбце 'date':"
   ]
  },
  {
   "cell_type": "code",
   "execution_count": 18,
   "metadata": {},
   "outputs": [],
   "source": [
    "train['date'] = pd.to_datetime(train['date'], format='%Y-%m-%dT%H:%M:%S')"
   ]
  },
  {
   "cell_type": "markdown",
   "metadata": {},
   "source": [
    "Отсортируем датасет по возрастанию значений даты и времени:"
   ]
  },
  {
   "cell_type": "code",
   "execution_count": 19,
   "metadata": {},
   "outputs": [],
   "source": [
    "train = train.sort_values(by='date')"
   ]
  },
  {
   "cell_type": "markdown",
   "metadata": {},
   "source": [
    "Заполним пропуски ближайшими по времени значениями:"
   ]
  },
  {
   "cell_type": "code",
   "execution_count": 20,
   "metadata": {},
   "outputs": [],
   "source": [
    "train = train.fillna(method='ffill')"
   ]
  },
  {
   "cell_type": "markdown",
   "metadata": {},
   "source": [
    "Посмотрим, что получилось:"
   ]
  },
  {
   "cell_type": "code",
   "execution_count": 21,
   "metadata": {},
   "outputs": [
    {
     "data": {
      "text/html": [
       "<div>\n",
       "<style scoped>\n",
       "    .dataframe tbody tr th:only-of-type {\n",
       "        vertical-align: middle;\n",
       "    }\n",
       "\n",
       "    .dataframe tbody tr th {\n",
       "        vertical-align: top;\n",
       "    }\n",
       "\n",
       "    .dataframe thead th {\n",
       "        text-align: right;\n",
       "    }\n",
       "</style>\n",
       "<table border=\"1\" class=\"dataframe\">\n",
       "  <thead>\n",
       "    <tr style=\"text-align: right;\">\n",
       "      <th></th>\n",
       "      <th>date</th>\n",
       "      <th>final.output.concentrate_ag</th>\n",
       "      <th>final.output.concentrate_pb</th>\n",
       "      <th>final.output.concentrate_sol</th>\n",
       "      <th>final.output.concentrate_au</th>\n",
       "      <th>final.output.recovery</th>\n",
       "      <th>final.output.tail_ag</th>\n",
       "      <th>final.output.tail_pb</th>\n",
       "      <th>final.output.tail_sol</th>\n",
       "      <th>final.output.tail_au</th>\n",
       "      <th>primary_cleaner.input.sulfate</th>\n",
       "      <th>primary_cleaner.input.depressant</th>\n",
       "      <th>primary_cleaner.input.feed_size</th>\n",
       "      <th>primary_cleaner.input.xanthate</th>\n",
       "      <th>primary_cleaner.output.concentrate_ag</th>\n",
       "      <th>primary_cleaner.output.concentrate_pb</th>\n",
       "      <th>primary_cleaner.output.concentrate_sol</th>\n",
       "      <th>primary_cleaner.output.concentrate_au</th>\n",
       "      <th>primary_cleaner.output.tail_ag</th>\n",
       "      <th>primary_cleaner.output.tail_pb</th>\n",
       "      <th>primary_cleaner.output.tail_sol</th>\n",
       "      <th>primary_cleaner.output.tail_au</th>\n",
       "      <th>primary_cleaner.state.floatbank8_a_air</th>\n",
       "      <th>primary_cleaner.state.floatbank8_a_level</th>\n",
       "      <th>primary_cleaner.state.floatbank8_b_air</th>\n",
       "      <th>primary_cleaner.state.floatbank8_b_level</th>\n",
       "      <th>primary_cleaner.state.floatbank8_c_air</th>\n",
       "      <th>primary_cleaner.state.floatbank8_c_level</th>\n",
       "      <th>primary_cleaner.state.floatbank8_d_air</th>\n",
       "      <th>primary_cleaner.state.floatbank8_d_level</th>\n",
       "      <th>rougher.calculation.sulfate_to_au_concentrate</th>\n",
       "      <th>rougher.calculation.floatbank10_sulfate_to_au_feed</th>\n",
       "      <th>rougher.calculation.floatbank11_sulfate_to_au_feed</th>\n",
       "      <th>rougher.calculation.au_pb_ratio</th>\n",
       "      <th>rougher.input.feed_ag</th>\n",
       "      <th>rougher.input.feed_pb</th>\n",
       "      <th>rougher.input.feed_rate</th>\n",
       "      <th>rougher.input.feed_size</th>\n",
       "      <th>rougher.input.feed_sol</th>\n",
       "      <th>rougher.input.feed_au</th>\n",
       "      <th>rougher.input.floatbank10_sulfate</th>\n",
       "      <th>rougher.input.floatbank10_xanthate</th>\n",
       "      <th>rougher.input.floatbank11_sulfate</th>\n",
       "      <th>rougher.input.floatbank11_xanthate</th>\n",
       "      <th>rougher.output.concentrate_ag</th>\n",
       "      <th>rougher.output.concentrate_pb</th>\n",
       "      <th>rougher.output.concentrate_sol</th>\n",
       "      <th>rougher.output.concentrate_au</th>\n",
       "      <th>rougher.output.recovery</th>\n",
       "      <th>rougher.output.tail_ag</th>\n",
       "      <th>rougher.output.tail_pb</th>\n",
       "      <th>rougher.output.tail_sol</th>\n",
       "      <th>rougher.output.tail_au</th>\n",
       "      <th>rougher.state.floatbank10_a_air</th>\n",
       "      <th>rougher.state.floatbank10_a_level</th>\n",
       "      <th>rougher.state.floatbank10_b_air</th>\n",
       "      <th>rougher.state.floatbank10_b_level</th>\n",
       "      <th>rougher.state.floatbank10_c_air</th>\n",
       "      <th>rougher.state.floatbank10_c_level</th>\n",
       "      <th>rougher.state.floatbank10_d_air</th>\n",
       "      <th>rougher.state.floatbank10_d_level</th>\n",
       "      <th>rougher.state.floatbank10_e_air</th>\n",
       "      <th>rougher.state.floatbank10_e_level</th>\n",
       "      <th>rougher.state.floatbank10_f_air</th>\n",
       "      <th>rougher.state.floatbank10_f_level</th>\n",
       "      <th>secondary_cleaner.output.tail_ag</th>\n",
       "      <th>secondary_cleaner.output.tail_pb</th>\n",
       "      <th>secondary_cleaner.output.tail_sol</th>\n",
       "      <th>secondary_cleaner.output.tail_au</th>\n",
       "      <th>secondary_cleaner.state.floatbank2_a_air</th>\n",
       "      <th>secondary_cleaner.state.floatbank2_a_level</th>\n",
       "      <th>secondary_cleaner.state.floatbank2_b_air</th>\n",
       "      <th>secondary_cleaner.state.floatbank2_b_level</th>\n",
       "      <th>secondary_cleaner.state.floatbank3_a_air</th>\n",
       "      <th>secondary_cleaner.state.floatbank3_a_level</th>\n",
       "      <th>secondary_cleaner.state.floatbank3_b_air</th>\n",
       "      <th>secondary_cleaner.state.floatbank3_b_level</th>\n",
       "      <th>secondary_cleaner.state.floatbank4_a_air</th>\n",
       "      <th>secondary_cleaner.state.floatbank4_a_level</th>\n",
       "      <th>secondary_cleaner.state.floatbank4_b_air</th>\n",
       "      <th>secondary_cleaner.state.floatbank4_b_level</th>\n",
       "      <th>secondary_cleaner.state.floatbank5_a_air</th>\n",
       "      <th>secondary_cleaner.state.floatbank5_a_level</th>\n",
       "      <th>secondary_cleaner.state.floatbank5_b_air</th>\n",
       "      <th>secondary_cleaner.state.floatbank5_b_level</th>\n",
       "      <th>secondary_cleaner.state.floatbank6_a_air</th>\n",
       "      <th>secondary_cleaner.state.floatbank6_a_level</th>\n",
       "    </tr>\n",
       "  </thead>\n",
       "  <tbody>\n",
       "    <tr>\n",
       "      <td>0</td>\n",
       "      <td>2016-01-15 00:00:00</td>\n",
       "      <td>6.055403</td>\n",
       "      <td>9.889648</td>\n",
       "      <td>5.507324</td>\n",
       "      <td>42.192020</td>\n",
       "      <td>70.541216</td>\n",
       "      <td>10.411962</td>\n",
       "      <td>0.895447</td>\n",
       "      <td>16.904297</td>\n",
       "      <td>2.143149</td>\n",
       "      <td>127.092003</td>\n",
       "      <td>10.128295</td>\n",
       "      <td>7.25</td>\n",
       "      <td>0.988759</td>\n",
       "      <td>8.547551</td>\n",
       "      <td>10.389648</td>\n",
       "      <td>19.529297</td>\n",
       "      <td>34.174427</td>\n",
       "      <td>14.936526</td>\n",
       "      <td>2.534912</td>\n",
       "      <td>7.476074</td>\n",
       "      <td>2.106679</td>\n",
       "      <td>1549.775757</td>\n",
       "      <td>-498.912140</td>\n",
       "      <td>1551.434204</td>\n",
       "      <td>-516.403442</td>\n",
       "      <td>1549.873901</td>\n",
       "      <td>-498.666595</td>\n",
       "      <td>1554.367432</td>\n",
       "      <td>-493.428131</td>\n",
       "      <td>41885.707031</td>\n",
       "      <td>3481.779053</td>\n",
       "      <td>3520.337158</td>\n",
       "      <td>2.838687</td>\n",
       "      <td>6.100378</td>\n",
       "      <td>2.284912</td>\n",
       "      <td>523.546326</td>\n",
       "      <td>55.486599</td>\n",
       "      <td>36.808594</td>\n",
       "      <td>6.486150</td>\n",
       "      <td>11.986616</td>\n",
       "      <td>6.007990</td>\n",
       "      <td>11.836743</td>\n",
       "      <td>6.005818</td>\n",
       "      <td>11.500771</td>\n",
       "      <td>7.101074</td>\n",
       "      <td>28.029297</td>\n",
       "      <td>19.793808</td>\n",
       "      <td>87.107763</td>\n",
       "      <td>5.008018</td>\n",
       "      <td>0.508728</td>\n",
       "      <td>19.154297</td>\n",
       "      <td>1.170244</td>\n",
       "      <td>999.706909</td>\n",
       "      <td>-404.066986</td>\n",
       "      <td>1603.011353</td>\n",
       "      <td>-434.715027</td>\n",
       "      <td>1602.375000</td>\n",
       "      <td>-442.204468</td>\n",
       "      <td>1598.937256</td>\n",
       "      <td>-451.294128</td>\n",
       "      <td>1404.472046</td>\n",
       "      <td>-455.462982</td>\n",
       "      <td>1416.354980</td>\n",
       "      <td>-451.939636</td>\n",
       "      <td>14.500184</td>\n",
       "      <td>4.694824</td>\n",
       "      <td>8.764648</td>\n",
       "      <td>2.606185</td>\n",
       "      <td>25.853109</td>\n",
       "      <td>-498.526489</td>\n",
       "      <td>23.893660</td>\n",
       "      <td>-501.406281</td>\n",
       "      <td>23.961798</td>\n",
       "      <td>-495.262817</td>\n",
       "      <td>21.940409</td>\n",
       "      <td>-499.340973</td>\n",
       "      <td>14.016835</td>\n",
       "      <td>-502.488007</td>\n",
       "      <td>12.099931</td>\n",
       "      <td>-504.715942</td>\n",
       "      <td>9.925633</td>\n",
       "      <td>-498.310211</td>\n",
       "      <td>8.079666</td>\n",
       "      <td>-500.470978</td>\n",
       "      <td>14.151341</td>\n",
       "      <td>-605.841980</td>\n",
       "    </tr>\n",
       "    <tr>\n",
       "      <td>1</td>\n",
       "      <td>2016-01-15 01:00:00</td>\n",
       "      <td>6.029369</td>\n",
       "      <td>9.968944</td>\n",
       "      <td>5.257781</td>\n",
       "      <td>42.701629</td>\n",
       "      <td>69.266198</td>\n",
       "      <td>10.462676</td>\n",
       "      <td>0.927452</td>\n",
       "      <td>16.634514</td>\n",
       "      <td>2.224930</td>\n",
       "      <td>125.629232</td>\n",
       "      <td>10.296251</td>\n",
       "      <td>7.25</td>\n",
       "      <td>1.002663</td>\n",
       "      <td>8.558743</td>\n",
       "      <td>10.497069</td>\n",
       "      <td>19.369147</td>\n",
       "      <td>34.118526</td>\n",
       "      <td>16.250511</td>\n",
       "      <td>3.049646</td>\n",
       "      <td>6.733907</td>\n",
       "      <td>2.353017</td>\n",
       "      <td>1576.166671</td>\n",
       "      <td>-500.904965</td>\n",
       "      <td>1575.950626</td>\n",
       "      <td>-499.865889</td>\n",
       "      <td>1575.994189</td>\n",
       "      <td>-499.315107</td>\n",
       "      <td>1574.479259</td>\n",
       "      <td>-498.931665</td>\n",
       "      <td>42050.861809</td>\n",
       "      <td>3498.370979</td>\n",
       "      <td>3489.981857</td>\n",
       "      <td>2.858998</td>\n",
       "      <td>6.161113</td>\n",
       "      <td>2.266033</td>\n",
       "      <td>525.290581</td>\n",
       "      <td>57.278666</td>\n",
       "      <td>35.753385</td>\n",
       "      <td>6.478583</td>\n",
       "      <td>11.971193</td>\n",
       "      <td>6.005766</td>\n",
       "      <td>11.996163</td>\n",
       "      <td>6.012594</td>\n",
       "      <td>11.615865</td>\n",
       "      <td>7.278807</td>\n",
       "      <td>28.067063</td>\n",
       "      <td>20.050975</td>\n",
       "      <td>86.843261</td>\n",
       "      <td>4.955378</td>\n",
       "      <td>0.536689</td>\n",
       "      <td>18.965234</td>\n",
       "      <td>1.184827</td>\n",
       "      <td>1000.286398</td>\n",
       "      <td>-400.065196</td>\n",
       "      <td>1600.754587</td>\n",
       "      <td>-449.953435</td>\n",
       "      <td>1600.479580</td>\n",
       "      <td>-449.830646</td>\n",
       "      <td>1600.527589</td>\n",
       "      <td>-449.953649</td>\n",
       "      <td>1399.227084</td>\n",
       "      <td>-450.869848</td>\n",
       "      <td>1399.719514</td>\n",
       "      <td>-450.119001</td>\n",
       "      <td>14.265474</td>\n",
       "      <td>4.592547</td>\n",
       "      <td>9.001494</td>\n",
       "      <td>2.488248</td>\n",
       "      <td>25.880539</td>\n",
       "      <td>-499.989656</td>\n",
       "      <td>23.889530</td>\n",
       "      <td>-500.372428</td>\n",
       "      <td>23.970550</td>\n",
       "      <td>-500.085473</td>\n",
       "      <td>22.085714</td>\n",
       "      <td>-499.446897</td>\n",
       "      <td>13.992281</td>\n",
       "      <td>-505.503262</td>\n",
       "      <td>11.950531</td>\n",
       "      <td>-501.331529</td>\n",
       "      <td>10.039245</td>\n",
       "      <td>-500.169983</td>\n",
       "      <td>7.984757</td>\n",
       "      <td>-500.582168</td>\n",
       "      <td>13.998353</td>\n",
       "      <td>-599.787184</td>\n",
       "    </tr>\n",
       "    <tr>\n",
       "      <td>2</td>\n",
       "      <td>2016-01-15 02:00:00</td>\n",
       "      <td>6.055926</td>\n",
       "      <td>10.213995</td>\n",
       "      <td>5.383759</td>\n",
       "      <td>42.657501</td>\n",
       "      <td>68.116445</td>\n",
       "      <td>10.507046</td>\n",
       "      <td>0.953716</td>\n",
       "      <td>16.208849</td>\n",
       "      <td>2.257889</td>\n",
       "      <td>123.819808</td>\n",
       "      <td>11.316280</td>\n",
       "      <td>7.25</td>\n",
       "      <td>0.991265</td>\n",
       "      <td>8.603505</td>\n",
       "      <td>10.354494</td>\n",
       "      <td>19.167579</td>\n",
       "      <td>33.969464</td>\n",
       "      <td>16.491823</td>\n",
       "      <td>3.124664</td>\n",
       "      <td>6.471768</td>\n",
       "      <td>2.416800</td>\n",
       "      <td>1601.556163</td>\n",
       "      <td>-499.997791</td>\n",
       "      <td>1600.386685</td>\n",
       "      <td>-500.607762</td>\n",
       "      <td>1602.003542</td>\n",
       "      <td>-500.870069</td>\n",
       "      <td>1599.541515</td>\n",
       "      <td>-499.827444</td>\n",
       "      <td>42018.101184</td>\n",
       "      <td>3495.348910</td>\n",
       "      <td>3502.359819</td>\n",
       "      <td>2.945989</td>\n",
       "      <td>6.116455</td>\n",
       "      <td>2.159622</td>\n",
       "      <td>530.026610</td>\n",
       "      <td>57.510649</td>\n",
       "      <td>35.971630</td>\n",
       "      <td>6.362222</td>\n",
       "      <td>11.920603</td>\n",
       "      <td>6.197377</td>\n",
       "      <td>11.920305</td>\n",
       "      <td>6.204633</td>\n",
       "      <td>11.695753</td>\n",
       "      <td>7.216833</td>\n",
       "      <td>27.454037</td>\n",
       "      <td>19.737170</td>\n",
       "      <td>86.842308</td>\n",
       "      <td>4.843460</td>\n",
       "      <td>0.546416</td>\n",
       "      <td>18.808533</td>\n",
       "      <td>1.162562</td>\n",
       "      <td>999.719565</td>\n",
       "      <td>-400.074028</td>\n",
       "      <td>1599.337330</td>\n",
       "      <td>-450.008530</td>\n",
       "      <td>1599.672797</td>\n",
       "      <td>-449.954491</td>\n",
       "      <td>1599.849325</td>\n",
       "      <td>-449.954185</td>\n",
       "      <td>1399.180945</td>\n",
       "      <td>-449.937588</td>\n",
       "      <td>1400.316682</td>\n",
       "      <td>-450.527147</td>\n",
       "      <td>14.115662</td>\n",
       "      <td>4.624775</td>\n",
       "      <td>8.842896</td>\n",
       "      <td>2.458187</td>\n",
       "      <td>26.005245</td>\n",
       "      <td>-499.929616</td>\n",
       "      <td>23.886657</td>\n",
       "      <td>-499.951928</td>\n",
       "      <td>23.913535</td>\n",
       "      <td>-499.442343</td>\n",
       "      <td>23.957717</td>\n",
       "      <td>-499.901982</td>\n",
       "      <td>14.015015</td>\n",
       "      <td>-502.520901</td>\n",
       "      <td>11.912783</td>\n",
       "      <td>-501.133383</td>\n",
       "      <td>10.070913</td>\n",
       "      <td>-500.129135</td>\n",
       "      <td>8.013877</td>\n",
       "      <td>-500.517572</td>\n",
       "      <td>14.028663</td>\n",
       "      <td>-601.427363</td>\n",
       "    </tr>\n",
       "    <tr>\n",
       "      <td>3</td>\n",
       "      <td>2016-01-15 03:00:00</td>\n",
       "      <td>6.047977</td>\n",
       "      <td>9.977019</td>\n",
       "      <td>4.858634</td>\n",
       "      <td>42.689819</td>\n",
       "      <td>68.347543</td>\n",
       "      <td>10.422762</td>\n",
       "      <td>0.883763</td>\n",
       "      <td>16.532835</td>\n",
       "      <td>2.146849</td>\n",
       "      <td>122.270188</td>\n",
       "      <td>11.322140</td>\n",
       "      <td>7.25</td>\n",
       "      <td>0.996739</td>\n",
       "      <td>7.221879</td>\n",
       "      <td>8.496563</td>\n",
       "      <td>15.978538</td>\n",
       "      <td>28.260743</td>\n",
       "      <td>16.024359</td>\n",
       "      <td>2.960362</td>\n",
       "      <td>6.843791</td>\n",
       "      <td>2.262051</td>\n",
       "      <td>1599.968720</td>\n",
       "      <td>-500.951778</td>\n",
       "      <td>1600.659236</td>\n",
       "      <td>-499.677094</td>\n",
       "      <td>1600.304144</td>\n",
       "      <td>-500.727997</td>\n",
       "      <td>1600.449520</td>\n",
       "      <td>-500.052575</td>\n",
       "      <td>42029.447991</td>\n",
       "      <td>3498.578313</td>\n",
       "      <td>3499.162912</td>\n",
       "      <td>3.002340</td>\n",
       "      <td>6.043309</td>\n",
       "      <td>2.037807</td>\n",
       "      <td>542.590390</td>\n",
       "      <td>57.792734</td>\n",
       "      <td>36.862241</td>\n",
       "      <td>6.118189</td>\n",
       "      <td>11.630094</td>\n",
       "      <td>6.203177</td>\n",
       "      <td>11.692450</td>\n",
       "      <td>6.196578</td>\n",
       "      <td>11.915047</td>\n",
       "      <td>7.175616</td>\n",
       "      <td>27.341277</td>\n",
       "      <td>19.320810</td>\n",
       "      <td>87.226430</td>\n",
       "      <td>4.655288</td>\n",
       "      <td>0.542525</td>\n",
       "      <td>19.330200</td>\n",
       "      <td>1.079755</td>\n",
       "      <td>999.814770</td>\n",
       "      <td>-400.200179</td>\n",
       "      <td>1600.059442</td>\n",
       "      <td>-450.619948</td>\n",
       "      <td>1600.012842</td>\n",
       "      <td>-449.910497</td>\n",
       "      <td>1597.725177</td>\n",
       "      <td>-450.130127</td>\n",
       "      <td>1400.943157</td>\n",
       "      <td>-450.030142</td>\n",
       "      <td>1400.234743</td>\n",
       "      <td>-449.790835</td>\n",
       "      <td>13.732071</td>\n",
       "      <td>4.482453</td>\n",
       "      <td>9.122857</td>\n",
       "      <td>2.322062</td>\n",
       "      <td>25.942508</td>\n",
       "      <td>-499.176749</td>\n",
       "      <td>23.955516</td>\n",
       "      <td>-499.848796</td>\n",
       "      <td>23.966838</td>\n",
       "      <td>-500.008812</td>\n",
       "      <td>23.954443</td>\n",
       "      <td>-499.944710</td>\n",
       "      <td>14.036510</td>\n",
       "      <td>-500.857308</td>\n",
       "      <td>11.999550</td>\n",
       "      <td>-501.193686</td>\n",
       "      <td>9.970366</td>\n",
       "      <td>-499.201640</td>\n",
       "      <td>7.977324</td>\n",
       "      <td>-500.255908</td>\n",
       "      <td>14.005551</td>\n",
       "      <td>-599.996129</td>\n",
       "    </tr>\n",
       "    <tr>\n",
       "      <td>4</td>\n",
       "      <td>2016-01-15 04:00:00</td>\n",
       "      <td>6.148599</td>\n",
       "      <td>10.142511</td>\n",
       "      <td>4.939416</td>\n",
       "      <td>42.774141</td>\n",
       "      <td>66.927016</td>\n",
       "      <td>10.360302</td>\n",
       "      <td>0.792826</td>\n",
       "      <td>16.525686</td>\n",
       "      <td>2.055292</td>\n",
       "      <td>117.988169</td>\n",
       "      <td>11.913613</td>\n",
       "      <td>7.25</td>\n",
       "      <td>1.009869</td>\n",
       "      <td>9.089428</td>\n",
       "      <td>9.986786</td>\n",
       "      <td>19.199864</td>\n",
       "      <td>33.044932</td>\n",
       "      <td>16.480185</td>\n",
       "      <td>3.112100</td>\n",
       "      <td>6.550154</td>\n",
       "      <td>2.277073</td>\n",
       "      <td>1601.339707</td>\n",
       "      <td>-498.975456</td>\n",
       "      <td>1601.437854</td>\n",
       "      <td>-500.323246</td>\n",
       "      <td>1599.581894</td>\n",
       "      <td>-500.888152</td>\n",
       "      <td>1602.649541</td>\n",
       "      <td>-500.593010</td>\n",
       "      <td>42125.354245</td>\n",
       "      <td>3494.800771</td>\n",
       "      <td>3506.679315</td>\n",
       "      <td>3.169615</td>\n",
       "      <td>6.060915</td>\n",
       "      <td>1.786875</td>\n",
       "      <td>540.531893</td>\n",
       "      <td>56.047189</td>\n",
       "      <td>34.347666</td>\n",
       "      <td>5.663707</td>\n",
       "      <td>10.957755</td>\n",
       "      <td>6.198826</td>\n",
       "      <td>10.960521</td>\n",
       "      <td>6.194897</td>\n",
       "      <td>12.411054</td>\n",
       "      <td>7.240205</td>\n",
       "      <td>27.041023</td>\n",
       "      <td>19.216101</td>\n",
       "      <td>86.688794</td>\n",
       "      <td>4.552800</td>\n",
       "      <td>0.515438</td>\n",
       "      <td>19.267422</td>\n",
       "      <td>1.012642</td>\n",
       "      <td>999.678690</td>\n",
       "      <td>-399.752729</td>\n",
       "      <td>1600.208824</td>\n",
       "      <td>-449.599614</td>\n",
       "      <td>1600.357732</td>\n",
       "      <td>-450.034364</td>\n",
       "      <td>1599.759049</td>\n",
       "      <td>-449.909799</td>\n",
       "      <td>1401.560902</td>\n",
       "      <td>-448.877187</td>\n",
       "      <td>1401.160227</td>\n",
       "      <td>-450.407128</td>\n",
       "      <td>14.079996</td>\n",
       "      <td>4.470737</td>\n",
       "      <td>8.871028</td>\n",
       "      <td>2.330448</td>\n",
       "      <td>26.024787</td>\n",
       "      <td>-500.279091</td>\n",
       "      <td>23.955345</td>\n",
       "      <td>-500.593614</td>\n",
       "      <td>23.985703</td>\n",
       "      <td>-500.083811</td>\n",
       "      <td>23.958945</td>\n",
       "      <td>-499.990309</td>\n",
       "      <td>14.027298</td>\n",
       "      <td>-499.838632</td>\n",
       "      <td>11.953070</td>\n",
       "      <td>-501.053894</td>\n",
       "      <td>9.925709</td>\n",
       "      <td>-501.686727</td>\n",
       "      <td>7.894242</td>\n",
       "      <td>-500.356035</td>\n",
       "      <td>13.996647</td>\n",
       "      <td>-601.496691</td>\n",
       "    </tr>\n",
       "  </tbody>\n",
       "</table>\n",
       "</div>"
      ],
      "text/plain": [
       "                 date  final.output.concentrate_ag  \\\n",
       "0 2016-01-15 00:00:00                     6.055403   \n",
       "1 2016-01-15 01:00:00                     6.029369   \n",
       "2 2016-01-15 02:00:00                     6.055926   \n",
       "3 2016-01-15 03:00:00                     6.047977   \n",
       "4 2016-01-15 04:00:00                     6.148599   \n",
       "\n",
       "   final.output.concentrate_pb  final.output.concentrate_sol  \\\n",
       "0                     9.889648                      5.507324   \n",
       "1                     9.968944                      5.257781   \n",
       "2                    10.213995                      5.383759   \n",
       "3                     9.977019                      4.858634   \n",
       "4                    10.142511                      4.939416   \n",
       "\n",
       "   final.output.concentrate_au  final.output.recovery  final.output.tail_ag  \\\n",
       "0                    42.192020              70.541216             10.411962   \n",
       "1                    42.701629              69.266198             10.462676   \n",
       "2                    42.657501              68.116445             10.507046   \n",
       "3                    42.689819              68.347543             10.422762   \n",
       "4                    42.774141              66.927016             10.360302   \n",
       "\n",
       "   final.output.tail_pb  final.output.tail_sol  final.output.tail_au  \\\n",
       "0              0.895447              16.904297              2.143149   \n",
       "1              0.927452              16.634514              2.224930   \n",
       "2              0.953716              16.208849              2.257889   \n",
       "3              0.883763              16.532835              2.146849   \n",
       "4              0.792826              16.525686              2.055292   \n",
       "\n",
       "   primary_cleaner.input.sulfate  primary_cleaner.input.depressant  \\\n",
       "0                     127.092003                         10.128295   \n",
       "1                     125.629232                         10.296251   \n",
       "2                     123.819808                         11.316280   \n",
       "3                     122.270188                         11.322140   \n",
       "4                     117.988169                         11.913613   \n",
       "\n",
       "   primary_cleaner.input.feed_size  primary_cleaner.input.xanthate  \\\n",
       "0                             7.25                        0.988759   \n",
       "1                             7.25                        1.002663   \n",
       "2                             7.25                        0.991265   \n",
       "3                             7.25                        0.996739   \n",
       "4                             7.25                        1.009869   \n",
       "\n",
       "   primary_cleaner.output.concentrate_ag  \\\n",
       "0                               8.547551   \n",
       "1                               8.558743   \n",
       "2                               8.603505   \n",
       "3                               7.221879   \n",
       "4                               9.089428   \n",
       "\n",
       "   primary_cleaner.output.concentrate_pb  \\\n",
       "0                              10.389648   \n",
       "1                              10.497069   \n",
       "2                              10.354494   \n",
       "3                               8.496563   \n",
       "4                               9.986786   \n",
       "\n",
       "   primary_cleaner.output.concentrate_sol  \\\n",
       "0                               19.529297   \n",
       "1                               19.369147   \n",
       "2                               19.167579   \n",
       "3                               15.978538   \n",
       "4                               19.199864   \n",
       "\n",
       "   primary_cleaner.output.concentrate_au  primary_cleaner.output.tail_ag  \\\n",
       "0                              34.174427                       14.936526   \n",
       "1                              34.118526                       16.250511   \n",
       "2                              33.969464                       16.491823   \n",
       "3                              28.260743                       16.024359   \n",
       "4                              33.044932                       16.480185   \n",
       "\n",
       "   primary_cleaner.output.tail_pb  primary_cleaner.output.tail_sol  \\\n",
       "0                        2.534912                         7.476074   \n",
       "1                        3.049646                         6.733907   \n",
       "2                        3.124664                         6.471768   \n",
       "3                        2.960362                         6.843791   \n",
       "4                        3.112100                         6.550154   \n",
       "\n",
       "   primary_cleaner.output.tail_au  primary_cleaner.state.floatbank8_a_air  \\\n",
       "0                        2.106679                             1549.775757   \n",
       "1                        2.353017                             1576.166671   \n",
       "2                        2.416800                             1601.556163   \n",
       "3                        2.262051                             1599.968720   \n",
       "4                        2.277073                             1601.339707   \n",
       "\n",
       "   primary_cleaner.state.floatbank8_a_level  \\\n",
       "0                               -498.912140   \n",
       "1                               -500.904965   \n",
       "2                               -499.997791   \n",
       "3                               -500.951778   \n",
       "4                               -498.975456   \n",
       "\n",
       "   primary_cleaner.state.floatbank8_b_air  \\\n",
       "0                             1551.434204   \n",
       "1                             1575.950626   \n",
       "2                             1600.386685   \n",
       "3                             1600.659236   \n",
       "4                             1601.437854   \n",
       "\n",
       "   primary_cleaner.state.floatbank8_b_level  \\\n",
       "0                               -516.403442   \n",
       "1                               -499.865889   \n",
       "2                               -500.607762   \n",
       "3                               -499.677094   \n",
       "4                               -500.323246   \n",
       "\n",
       "   primary_cleaner.state.floatbank8_c_air  \\\n",
       "0                             1549.873901   \n",
       "1                             1575.994189   \n",
       "2                             1602.003542   \n",
       "3                             1600.304144   \n",
       "4                             1599.581894   \n",
       "\n",
       "   primary_cleaner.state.floatbank8_c_level  \\\n",
       "0                               -498.666595   \n",
       "1                               -499.315107   \n",
       "2                               -500.870069   \n",
       "3                               -500.727997   \n",
       "4                               -500.888152   \n",
       "\n",
       "   primary_cleaner.state.floatbank8_d_air  \\\n",
       "0                             1554.367432   \n",
       "1                             1574.479259   \n",
       "2                             1599.541515   \n",
       "3                             1600.449520   \n",
       "4                             1602.649541   \n",
       "\n",
       "   primary_cleaner.state.floatbank8_d_level  \\\n",
       "0                               -493.428131   \n",
       "1                               -498.931665   \n",
       "2                               -499.827444   \n",
       "3                               -500.052575   \n",
       "4                               -500.593010   \n",
       "\n",
       "   rougher.calculation.sulfate_to_au_concentrate  \\\n",
       "0                                   41885.707031   \n",
       "1                                   42050.861809   \n",
       "2                                   42018.101184   \n",
       "3                                   42029.447991   \n",
       "4                                   42125.354245   \n",
       "\n",
       "   rougher.calculation.floatbank10_sulfate_to_au_feed  \\\n",
       "0                                        3481.779053    \n",
       "1                                        3498.370979    \n",
       "2                                        3495.348910    \n",
       "3                                        3498.578313    \n",
       "4                                        3494.800771    \n",
       "\n",
       "   rougher.calculation.floatbank11_sulfate_to_au_feed  \\\n",
       "0                                        3520.337158    \n",
       "1                                        3489.981857    \n",
       "2                                        3502.359819    \n",
       "3                                        3499.162912    \n",
       "4                                        3506.679315    \n",
       "\n",
       "   rougher.calculation.au_pb_ratio  rougher.input.feed_ag  \\\n",
       "0                         2.838687               6.100378   \n",
       "1                         2.858998               6.161113   \n",
       "2                         2.945989               6.116455   \n",
       "3                         3.002340               6.043309   \n",
       "4                         3.169615               6.060915   \n",
       "\n",
       "   rougher.input.feed_pb  rougher.input.feed_rate  rougher.input.feed_size  \\\n",
       "0               2.284912               523.546326                55.486599   \n",
       "1               2.266033               525.290581                57.278666   \n",
       "2               2.159622               530.026610                57.510649   \n",
       "3               2.037807               542.590390                57.792734   \n",
       "4               1.786875               540.531893                56.047189   \n",
       "\n",
       "   rougher.input.feed_sol  rougher.input.feed_au  \\\n",
       "0               36.808594               6.486150   \n",
       "1               35.753385               6.478583   \n",
       "2               35.971630               6.362222   \n",
       "3               36.862241               6.118189   \n",
       "4               34.347666               5.663707   \n",
       "\n",
       "   rougher.input.floatbank10_sulfate  rougher.input.floatbank10_xanthate  \\\n",
       "0                          11.986616                            6.007990   \n",
       "1                          11.971193                            6.005766   \n",
       "2                          11.920603                            6.197377   \n",
       "3                          11.630094                            6.203177   \n",
       "4                          10.957755                            6.198826   \n",
       "\n",
       "   rougher.input.floatbank11_sulfate  rougher.input.floatbank11_xanthate  \\\n",
       "0                          11.836743                            6.005818   \n",
       "1                          11.996163                            6.012594   \n",
       "2                          11.920305                            6.204633   \n",
       "3                          11.692450                            6.196578   \n",
       "4                          10.960521                            6.194897   \n",
       "\n",
       "   rougher.output.concentrate_ag  rougher.output.concentrate_pb  \\\n",
       "0                      11.500771                       7.101074   \n",
       "1                      11.615865                       7.278807   \n",
       "2                      11.695753                       7.216833   \n",
       "3                      11.915047                       7.175616   \n",
       "4                      12.411054                       7.240205   \n",
       "\n",
       "   rougher.output.concentrate_sol  rougher.output.concentrate_au  \\\n",
       "0                       28.029297                      19.793808   \n",
       "1                       28.067063                      20.050975   \n",
       "2                       27.454037                      19.737170   \n",
       "3                       27.341277                      19.320810   \n",
       "4                       27.041023                      19.216101   \n",
       "\n",
       "   rougher.output.recovery  rougher.output.tail_ag  rougher.output.tail_pb  \\\n",
       "0                87.107763                5.008018                0.508728   \n",
       "1                86.843261                4.955378                0.536689   \n",
       "2                86.842308                4.843460                0.546416   \n",
       "3                87.226430                4.655288                0.542525   \n",
       "4                86.688794                4.552800                0.515438   \n",
       "\n",
       "   rougher.output.tail_sol  rougher.output.tail_au  \\\n",
       "0                19.154297                1.170244   \n",
       "1                18.965234                1.184827   \n",
       "2                18.808533                1.162562   \n",
       "3                19.330200                1.079755   \n",
       "4                19.267422                1.012642   \n",
       "\n",
       "   rougher.state.floatbank10_a_air  rougher.state.floatbank10_a_level  \\\n",
       "0                       999.706909                        -404.066986   \n",
       "1                      1000.286398                        -400.065196   \n",
       "2                       999.719565                        -400.074028   \n",
       "3                       999.814770                        -400.200179   \n",
       "4                       999.678690                        -399.752729   \n",
       "\n",
       "   rougher.state.floatbank10_b_air  rougher.state.floatbank10_b_level  \\\n",
       "0                      1603.011353                        -434.715027   \n",
       "1                      1600.754587                        -449.953435   \n",
       "2                      1599.337330                        -450.008530   \n",
       "3                      1600.059442                        -450.619948   \n",
       "4                      1600.208824                        -449.599614   \n",
       "\n",
       "   rougher.state.floatbank10_c_air  rougher.state.floatbank10_c_level  \\\n",
       "0                      1602.375000                        -442.204468   \n",
       "1                      1600.479580                        -449.830646   \n",
       "2                      1599.672797                        -449.954491   \n",
       "3                      1600.012842                        -449.910497   \n",
       "4                      1600.357732                        -450.034364   \n",
       "\n",
       "   rougher.state.floatbank10_d_air  rougher.state.floatbank10_d_level  \\\n",
       "0                      1598.937256                        -451.294128   \n",
       "1                      1600.527589                        -449.953649   \n",
       "2                      1599.849325                        -449.954185   \n",
       "3                      1597.725177                        -450.130127   \n",
       "4                      1599.759049                        -449.909799   \n",
       "\n",
       "   rougher.state.floatbank10_e_air  rougher.state.floatbank10_e_level  \\\n",
       "0                      1404.472046                        -455.462982   \n",
       "1                      1399.227084                        -450.869848   \n",
       "2                      1399.180945                        -449.937588   \n",
       "3                      1400.943157                        -450.030142   \n",
       "4                      1401.560902                        -448.877187   \n",
       "\n",
       "   rougher.state.floatbank10_f_air  rougher.state.floatbank10_f_level  \\\n",
       "0                      1416.354980                        -451.939636   \n",
       "1                      1399.719514                        -450.119001   \n",
       "2                      1400.316682                        -450.527147   \n",
       "3                      1400.234743                        -449.790835   \n",
       "4                      1401.160227                        -450.407128   \n",
       "\n",
       "   secondary_cleaner.output.tail_ag  secondary_cleaner.output.tail_pb  \\\n",
       "0                         14.500184                          4.694824   \n",
       "1                         14.265474                          4.592547   \n",
       "2                         14.115662                          4.624775   \n",
       "3                         13.732071                          4.482453   \n",
       "4                         14.079996                          4.470737   \n",
       "\n",
       "   secondary_cleaner.output.tail_sol  secondary_cleaner.output.tail_au  \\\n",
       "0                           8.764648                          2.606185   \n",
       "1                           9.001494                          2.488248   \n",
       "2                           8.842896                          2.458187   \n",
       "3                           9.122857                          2.322062   \n",
       "4                           8.871028                          2.330448   \n",
       "\n",
       "   secondary_cleaner.state.floatbank2_a_air  \\\n",
       "0                                 25.853109   \n",
       "1                                 25.880539   \n",
       "2                                 26.005245   \n",
       "3                                 25.942508   \n",
       "4                                 26.024787   \n",
       "\n",
       "   secondary_cleaner.state.floatbank2_a_level  \\\n",
       "0                                 -498.526489   \n",
       "1                                 -499.989656   \n",
       "2                                 -499.929616   \n",
       "3                                 -499.176749   \n",
       "4                                 -500.279091   \n",
       "\n",
       "   secondary_cleaner.state.floatbank2_b_air  \\\n",
       "0                                 23.893660   \n",
       "1                                 23.889530   \n",
       "2                                 23.886657   \n",
       "3                                 23.955516   \n",
       "4                                 23.955345   \n",
       "\n",
       "   secondary_cleaner.state.floatbank2_b_level  \\\n",
       "0                                 -501.406281   \n",
       "1                                 -500.372428   \n",
       "2                                 -499.951928   \n",
       "3                                 -499.848796   \n",
       "4                                 -500.593614   \n",
       "\n",
       "   secondary_cleaner.state.floatbank3_a_air  \\\n",
       "0                                 23.961798   \n",
       "1                                 23.970550   \n",
       "2                                 23.913535   \n",
       "3                                 23.966838   \n",
       "4                                 23.985703   \n",
       "\n",
       "   secondary_cleaner.state.floatbank3_a_level  \\\n",
       "0                                 -495.262817   \n",
       "1                                 -500.085473   \n",
       "2                                 -499.442343   \n",
       "3                                 -500.008812   \n",
       "4                                 -500.083811   \n",
       "\n",
       "   secondary_cleaner.state.floatbank3_b_air  \\\n",
       "0                                 21.940409   \n",
       "1                                 22.085714   \n",
       "2                                 23.957717   \n",
       "3                                 23.954443   \n",
       "4                                 23.958945   \n",
       "\n",
       "   secondary_cleaner.state.floatbank3_b_level  \\\n",
       "0                                 -499.340973   \n",
       "1                                 -499.446897   \n",
       "2                                 -499.901982   \n",
       "3                                 -499.944710   \n",
       "4                                 -499.990309   \n",
       "\n",
       "   secondary_cleaner.state.floatbank4_a_air  \\\n",
       "0                                 14.016835   \n",
       "1                                 13.992281   \n",
       "2                                 14.015015   \n",
       "3                                 14.036510   \n",
       "4                                 14.027298   \n",
       "\n",
       "   secondary_cleaner.state.floatbank4_a_level  \\\n",
       "0                                 -502.488007   \n",
       "1                                 -505.503262   \n",
       "2                                 -502.520901   \n",
       "3                                 -500.857308   \n",
       "4                                 -499.838632   \n",
       "\n",
       "   secondary_cleaner.state.floatbank4_b_air  \\\n",
       "0                                 12.099931   \n",
       "1                                 11.950531   \n",
       "2                                 11.912783   \n",
       "3                                 11.999550   \n",
       "4                                 11.953070   \n",
       "\n",
       "   secondary_cleaner.state.floatbank4_b_level  \\\n",
       "0                                 -504.715942   \n",
       "1                                 -501.331529   \n",
       "2                                 -501.133383   \n",
       "3                                 -501.193686   \n",
       "4                                 -501.053894   \n",
       "\n",
       "   secondary_cleaner.state.floatbank5_a_air  \\\n",
       "0                                  9.925633   \n",
       "1                                 10.039245   \n",
       "2                                 10.070913   \n",
       "3                                  9.970366   \n",
       "4                                  9.925709   \n",
       "\n",
       "   secondary_cleaner.state.floatbank5_a_level  \\\n",
       "0                                 -498.310211   \n",
       "1                                 -500.169983   \n",
       "2                                 -500.129135   \n",
       "3                                 -499.201640   \n",
       "4                                 -501.686727   \n",
       "\n",
       "   secondary_cleaner.state.floatbank5_b_air  \\\n",
       "0                                  8.079666   \n",
       "1                                  7.984757   \n",
       "2                                  8.013877   \n",
       "3                                  7.977324   \n",
       "4                                  7.894242   \n",
       "\n",
       "   secondary_cleaner.state.floatbank5_b_level  \\\n",
       "0                                 -500.470978   \n",
       "1                                 -500.582168   \n",
       "2                                 -500.517572   \n",
       "3                                 -500.255908   \n",
       "4                                 -500.356035   \n",
       "\n",
       "   secondary_cleaner.state.floatbank6_a_air  \\\n",
       "0                                 14.151341   \n",
       "1                                 13.998353   \n",
       "2                                 14.028663   \n",
       "3                                 14.005551   \n",
       "4                                 13.996647   \n",
       "\n",
       "   secondary_cleaner.state.floatbank6_a_level  \n",
       "0                                 -605.841980  \n",
       "1                                 -599.787184  \n",
       "2                                 -601.427363  \n",
       "3                                 -599.996129  \n",
       "4                                 -601.496691  "
      ]
     },
     "execution_count": 21,
     "metadata": {},
     "output_type": "execute_result"
    }
   ],
   "source": [
    "train.head()"
   ]
  },
  {
   "cell_type": "code",
   "execution_count": 22,
   "metadata": {},
   "outputs": [
    {
     "name": "stdout",
     "output_type": "stream",
     "text": [
      "<class 'pandas.core.frame.DataFrame'>\n",
      "Int64Index: 14149 entries, 0 to 14148\n",
      "Data columns (total 87 columns):\n",
      "date                                                  14149 non-null datetime64[ns]\n",
      "final.output.concentrate_ag                           14149 non-null float64\n",
      "final.output.concentrate_pb                           14149 non-null float64\n",
      "final.output.concentrate_sol                          14149 non-null float64\n",
      "final.output.concentrate_au                           14149 non-null float64\n",
      "final.output.recovery                                 14149 non-null float64\n",
      "final.output.tail_ag                                  14149 non-null float64\n",
      "final.output.tail_pb                                  14149 non-null float64\n",
      "final.output.tail_sol                                 14149 non-null float64\n",
      "final.output.tail_au                                  14149 non-null float64\n",
      "primary_cleaner.input.sulfate                         14149 non-null float64\n",
      "primary_cleaner.input.depressant                      14149 non-null float64\n",
      "primary_cleaner.input.feed_size                       14149 non-null float64\n",
      "primary_cleaner.input.xanthate                        14149 non-null float64\n",
      "primary_cleaner.output.concentrate_ag                 14149 non-null float64\n",
      "primary_cleaner.output.concentrate_pb                 14149 non-null float64\n",
      "primary_cleaner.output.concentrate_sol                14149 non-null float64\n",
      "primary_cleaner.output.concentrate_au                 14149 non-null float64\n",
      "primary_cleaner.output.tail_ag                        14149 non-null float64\n",
      "primary_cleaner.output.tail_pb                        14149 non-null float64\n",
      "primary_cleaner.output.tail_sol                       14149 non-null float64\n",
      "primary_cleaner.output.tail_au                        14149 non-null float64\n",
      "primary_cleaner.state.floatbank8_a_air                14149 non-null float64\n",
      "primary_cleaner.state.floatbank8_a_level              14149 non-null float64\n",
      "primary_cleaner.state.floatbank8_b_air                14149 non-null float64\n",
      "primary_cleaner.state.floatbank8_b_level              14149 non-null float64\n",
      "primary_cleaner.state.floatbank8_c_air                14149 non-null float64\n",
      "primary_cleaner.state.floatbank8_c_level              14149 non-null float64\n",
      "primary_cleaner.state.floatbank8_d_air                14149 non-null float64\n",
      "primary_cleaner.state.floatbank8_d_level              14149 non-null float64\n",
      "rougher.calculation.sulfate_to_au_concentrate         14149 non-null float64\n",
      "rougher.calculation.floatbank10_sulfate_to_au_feed    14149 non-null float64\n",
      "rougher.calculation.floatbank11_sulfate_to_au_feed    14149 non-null float64\n",
      "rougher.calculation.au_pb_ratio                       14149 non-null float64\n",
      "rougher.input.feed_ag                                 14149 non-null float64\n",
      "rougher.input.feed_pb                                 14149 non-null float64\n",
      "rougher.input.feed_rate                               14149 non-null float64\n",
      "rougher.input.feed_size                               14149 non-null float64\n",
      "rougher.input.feed_sol                                14149 non-null float64\n",
      "rougher.input.feed_au                                 14149 non-null float64\n",
      "rougher.input.floatbank10_sulfate                     14149 non-null float64\n",
      "rougher.input.floatbank10_xanthate                    14149 non-null float64\n",
      "rougher.input.floatbank11_sulfate                     14149 non-null float64\n",
      "rougher.input.floatbank11_xanthate                    14149 non-null float64\n",
      "rougher.output.concentrate_ag                         14149 non-null float64\n",
      "rougher.output.concentrate_pb                         14149 non-null float64\n",
      "rougher.output.concentrate_sol                        14149 non-null float64\n",
      "rougher.output.concentrate_au                         14149 non-null float64\n",
      "rougher.output.recovery                               14149 non-null float64\n",
      "rougher.output.tail_ag                                14149 non-null float64\n",
      "rougher.output.tail_pb                                14149 non-null float64\n",
      "rougher.output.tail_sol                               14149 non-null float64\n",
      "rougher.output.tail_au                                14149 non-null float64\n",
      "rougher.state.floatbank10_a_air                       14149 non-null float64\n",
      "rougher.state.floatbank10_a_level                     14149 non-null float64\n",
      "rougher.state.floatbank10_b_air                       14149 non-null float64\n",
      "rougher.state.floatbank10_b_level                     14149 non-null float64\n",
      "rougher.state.floatbank10_c_air                       14149 non-null float64\n",
      "rougher.state.floatbank10_c_level                     14149 non-null float64\n",
      "rougher.state.floatbank10_d_air                       14149 non-null float64\n",
      "rougher.state.floatbank10_d_level                     14149 non-null float64\n",
      "rougher.state.floatbank10_e_air                       14149 non-null float64\n",
      "rougher.state.floatbank10_e_level                     14149 non-null float64\n",
      "rougher.state.floatbank10_f_air                       14149 non-null float64\n",
      "rougher.state.floatbank10_f_level                     14149 non-null float64\n",
      "secondary_cleaner.output.tail_ag                      14149 non-null float64\n",
      "secondary_cleaner.output.tail_pb                      14149 non-null float64\n",
      "secondary_cleaner.output.tail_sol                     14149 non-null float64\n",
      "secondary_cleaner.output.tail_au                      14149 non-null float64\n",
      "secondary_cleaner.state.floatbank2_a_air              14149 non-null float64\n",
      "secondary_cleaner.state.floatbank2_a_level            14149 non-null float64\n",
      "secondary_cleaner.state.floatbank2_b_air              14149 non-null float64\n",
      "secondary_cleaner.state.floatbank2_b_level            14149 non-null float64\n",
      "secondary_cleaner.state.floatbank3_a_air              14149 non-null float64\n",
      "secondary_cleaner.state.floatbank3_a_level            14149 non-null float64\n",
      "secondary_cleaner.state.floatbank3_b_air              14149 non-null float64\n",
      "secondary_cleaner.state.floatbank3_b_level            14149 non-null float64\n",
      "secondary_cleaner.state.floatbank4_a_air              14149 non-null float64\n",
      "secondary_cleaner.state.floatbank4_a_level            14149 non-null float64\n",
      "secondary_cleaner.state.floatbank4_b_air              14149 non-null float64\n",
      "secondary_cleaner.state.floatbank4_b_level            14149 non-null float64\n",
      "secondary_cleaner.state.floatbank5_a_air              14149 non-null float64\n",
      "secondary_cleaner.state.floatbank5_a_level            14149 non-null float64\n",
      "secondary_cleaner.state.floatbank5_b_air              14149 non-null float64\n",
      "secondary_cleaner.state.floatbank5_b_level            14149 non-null float64\n",
      "secondary_cleaner.state.floatbank6_a_air              14149 non-null float64\n",
      "secondary_cleaner.state.floatbank6_a_level            14149 non-null float64\n",
      "dtypes: datetime64[ns](1), float64(86)\n",
      "memory usage: 9.5 MB\n"
     ]
    }
   ],
   "source": [
    "train.info()"
   ]
  },
  {
   "cell_type": "markdown",
   "metadata": {},
   "source": [
    "Проверим данные на наличие дубликатов:"
   ]
  },
  {
   "cell_type": "code",
   "execution_count": 23,
   "metadata": {},
   "outputs": [
    {
     "data": {
      "text/plain": [
       "0"
      ]
     },
     "execution_count": 23,
     "metadata": {},
     "output_type": "execute_result"
    }
   ],
   "source": [
    "train.duplicated().sum()"
   ]
  },
  {
   "cell_type": "markdown",
   "metadata": {},
   "source": [
    "### Вывод"
   ]
  },
  {
   "cell_type": "markdown",
   "metadata": {},
   "source": [
    "Эффективность обогащения концентрата в данных рассчитана корректно, MAE между расчетными и исходными обучающими данными 9.7e-15.\n",
    "\n",
    "В тестовой выборке на всех этапах технологического процесса отсутствуют параметры продукта и расчетные характеристики, т.е. заключительные этапы всех процессов.\n",
    "\n",
    "В обучающем наборе данных доля пропусков около 10%, пропуски заменим ближайшими по времени значениями. Дубликатов в данных нет."
   ]
  },
  {
   "cell_type": "markdown",
   "metadata": {},
   "source": [
    "## Анализ данных"
   ]
  },
  {
   "cell_type": "markdown",
   "metadata": {},
   "source": [
    "Посмотрим распределение концентрации металлов на этапе флотации:"
   ]
  },
  {
   "cell_type": "code",
   "execution_count": 24,
   "metadata": {},
   "outputs": [
    {
     "data": {
      "image/png": "[encoded data removed]",
      "text/plain": [
       "<Figure size 864x432 with 1 Axes>"
      ]
     },
     "metadata": {
      "needs_background": "light"
     },
     "output_type": "display_data"
    }
   ],
   "source": [
    "plt.figure(figsize=(12,6))\n",
    "plt.hist(train['rougher.output.concentrate_ag'], alpha = 0.5, label='Серебро')\n",
    "plt.hist(train['rougher.output.concentrate_pb'], alpha = 0.5, label='Свинец')\n",
    "plt.hist(train['rougher.output.concentrate_sol'], alpha = 0.5, label='Соли')\n",
    "plt.hist(train['rougher.output.concentrate_au'], alpha = 0.5, label='Золото')\n",
    "plt.xlabel('Концентрация металлов')\n",
    "plt.ylabel('Частота значений')\n",
    "plt.title('Распределение концентрации металлов на этапе флотации')\n",
    "plt.legend()\n",
    "plt.grid(True)\n",
    "plt.show()"
   ]
  },
  {
   "cell_type": "markdown",
   "metadata": {},
   "source": [
    "Посмотрим распределение концентрации металлов на этапе очистки:"
   ]
  },
  {
   "cell_type": "code",
   "execution_count": 25,
   "metadata": {},
   "outputs": [
    {
     "data": {
      "image/png": "[encoded data removed]",
      "text/plain": [
       "<Figure size 864x432 with 1 Axes>"
      ]
     },
     "metadata": {
      "needs_background": "light"
     },
     "output_type": "display_data"
    }
   ],
   "source": [
    "plt.figure(figsize=(12,6))\n",
    "plt.hist(train['primary_cleaner.output.concentrate_ag'], alpha = 0.5, label='Серебро')\n",
    "plt.hist(train['primary_cleaner.output.concentrate_pb'], alpha = 0.5, label='Свинец')\n",
    "plt.hist(train['primary_cleaner.output.concentrate_sol'], alpha = 0.5, label='Соли')\n",
    "plt.hist(train['primary_cleaner.output.concentrate_au'], alpha = 0.5, label='Золото')\n",
    "plt.xlabel('Концентрация металлов')\n",
    "plt.ylabel('Частота значений')\n",
    "plt.title('Распределение концентрации металлов на этапе очистки')\n",
    "plt.legend()\n",
    "plt.grid(True)\n",
    "plt.show()"
   ]
  },
  {
   "cell_type": "markdown",
   "metadata": {},
   "source": [
    "Посмотрим распределение финальной концентрации металлов:"
   ]
  },
  {
   "cell_type": "code",
   "execution_count": 26,
   "metadata": {},
   "outputs": [
    {
     "data": {
      "image/png": "[encoded data removed]",
      "text/plain": [
       "<Figure size 864x432 with 1 Axes>"
      ]
     },
     "metadata": {
      "needs_background": "light"
     },
     "output_type": "display_data"
    }
   ],
   "source": [
    "plt.figure(figsize=(12,6))\n",
    "plt.hist(train['final.output.concentrate_ag'], alpha = 0.5, label='Серебро')\n",
    "plt.hist(train['final.output.concentrate_pb'], alpha = 0.5, label='Свинец')\n",
    "plt.hist(train['final.output.concentrate_sol'], alpha = 0.5, label='Соли')\n",
    "plt.hist(train['final.output.concentrate_au'], alpha = 0.5, label='Золото')\n",
    "plt.xlabel('Концентрация металлов')\n",
    "plt.ylabel('Частота значений')\n",
    "plt.title('Распределение финальной концентрации металлов')\n",
    "plt.legend()\n",
    "plt.grid(True)\n",
    "plt.show()"
   ]
  },
  {
   "cell_type": "markdown",
   "metadata": {},
   "source": [
    "Посмотрим распределение гранул сырья по выборкам:"
   ]
  },
  {
   "cell_type": "code",
   "execution_count": 27,
   "metadata": {},
   "outputs": [
    {
     "data": {
      "image/png": "[encoded data removed]",
      "text/plain": [
       "<Figure size 864x432 with 1 Axes>"
      ]
     },
     "metadata": {
      "needs_background": "light"
     },
     "output_type": "display_data"
    }
   ],
   "source": [
    "plt.figure(figsize=(12,6))\n",
    "plt.hist(train['rougher.input.feed_size'], alpha = 0.5, label='Обучающая выборка')\n",
    "plt.hist(test['rougher.input.feed_size'], alpha = 0.5, label='Тестовая выборка')\n",
    "plt.xlabel('Размер гранул')\n",
    "plt.ylabel('Частота значений')\n",
    "plt.title('Распределение размеров гранул сырья по выборкам')\n",
    "plt.legend()\n",
    "plt.grid(True)\n",
    "plt.show()"
   ]
  },
  {
   "cell_type": "markdown",
   "metadata": {},
   "source": [
    "Посмотрим распределение суммарной концентрации металлов по этапам обработки:"
   ]
  },
  {
   "cell_type": "code",
   "execution_count": 28,
   "metadata": {},
   "outputs": [
    {
     "data": {
      "image/png": "[encoded data removed]",
      "text/plain": [
       "<Figure size 864x432 with 1 Axes>"
      ]
     },
     "metadata": {
      "needs_background": "light"
     },
     "output_type": "display_data"
    }
   ],
   "source": [
    "plt.figure(figsize=(12,6))\n",
    "plt.hist((\n",
    "    train['rougher.input.feed_ag'] +\n",
    "    train['rougher.input.feed_pb'] +\n",
    "    train['rougher.input.feed_sol'] +\n",
    "    train['rougher.input.feed_ag']\n",
    "),\n",
    "    alpha = 0.5,\n",
    "    label='Сырье')\n",
    "plt.hist((\n",
    "    train['rougher.output.concentrate_ag'] +\n",
    "    train['rougher.output.concentrate_pb'] +\n",
    "    train['rougher.output.concentrate_sol'] +\n",
    "    train['rougher.output.concentrate_au']\n",
    "),\n",
    "    alpha = 0.5,\n",
    "    label='Черновой концентрат на этапе флотации')\n",
    "plt.hist((\n",
    "    train['primary_cleaner.output.concentrate_ag'] +\n",
    "    train['primary_cleaner.output.concentrate_pb'] +\n",
    "    train['primary_cleaner.output.concentrate_sol'] +\n",
    "    train['primary_cleaner.output.concentrate_au']\n",
    "),\n",
    "    alpha = 0.5,\n",
    "    label='Черновой концентрат на этапе очистки')\n",
    "plt.hist((\n",
    "    train['final.output.concentrate_ag'] +\n",
    "    train['final.output.concentrate_pb'] +\n",
    "    train['final.output.concentrate_sol'] +\n",
    "    train['final.output.concentrate_au']\n",
    "),\n",
    "    alpha = 0.5,\n",
    "    label='Финальный концентрат')\n",
    "plt.xlabel('Суммарная концентрация металлов')\n",
    "plt.ylabel('Частота значений')\n",
    "plt.title('Распределение суммарной концентрации металлов по этапам обработки')\n",
    "plt.legend()\n",
    "plt.grid(True)\n",
    "plt.show()"
   ]
  },
  {
   "cell_type": "markdown",
   "metadata": {},
   "source": [
    "Запишем суммарные концентрации металлов по этапам обработки в переменные:"
   ]
  },
  {
   "cell_type": "code",
   "execution_count": 29,
   "metadata": {},
   "outputs": [],
   "source": [
    "rougher_input_feed = (\n",
    "    train['rougher.input.feed_ag'] +\n",
    "    train['rougher.input.feed_pb'] +\n",
    "    train['rougher.input.feed_sol'] +\n",
    "    train['rougher.input.feed_ag']\n",
    ")"
   ]
  },
  {
   "cell_type": "code",
   "execution_count": 30,
   "metadata": {},
   "outputs": [],
   "source": [
    "rougher_output_concentrate = (\n",
    "    train['rougher.output.concentrate_ag'] +\n",
    "    train['rougher.output.concentrate_pb'] +\n",
    "    train['rougher.output.concentrate_sol'] +\n",
    "    train['rougher.output.concentrate_au']\n",
    ")"
   ]
  },
  {
   "cell_type": "code",
   "execution_count": 31,
   "metadata": {},
   "outputs": [],
   "source": [
    "primary_cleaner_output_concentrate = (\n",
    "    train['primary_cleaner.output.concentrate_ag'] +\n",
    "    train['primary_cleaner.output.concentrate_pb'] +\n",
    "    train['primary_cleaner.output.concentrate_sol'] +\n",
    "    train['primary_cleaner.output.concentrate_au']\n",
    ")"
   ]
  },
  {
   "cell_type": "code",
   "execution_count": 32,
   "metadata": {},
   "outputs": [],
   "source": [
    "final_output_concentrate = (\n",
    "    train['final.output.concentrate_ag'] +\n",
    "    train['final.output.concentrate_pb'] +\n",
    "    train['final.output.concentrate_sol'] +\n",
    "    train['final.output.concentrate_au']\n",
    ")"
   ]
  },
  {
   "cell_type": "markdown",
   "metadata": {},
   "source": [
    "Отфильтруем датасет так, чтобы убрать нулевые значения суммарной концентрации металлов:"
   ]
  },
  {
   "cell_type": "code",
   "execution_count": 33,
   "metadata": {},
   "outputs": [],
   "source": [
    "train = (train\n",
    "         .query('@rougher_input_feed != 0')\n",
    "         .query('@rougher_output_concentrate != 0')\n",
    "         .query('@primary_cleaner_output_concentrate != 0')\n",
    "         .query('@final_output_concentrate != 0')\n",
    "        )"
   ]
  },
  {
   "cell_type": "markdown",
   "metadata": {},
   "source": [
    "Посмотрим, как изменились размеры данных:"
   ]
  },
  {
   "cell_type": "code",
   "execution_count": 34,
   "metadata": {},
   "outputs": [
    {
     "data": {
      "text/plain": [
       "(13725, 87)"
      ]
     },
     "execution_count": 34,
     "metadata": {},
     "output_type": "execute_result"
    }
   ],
   "source": [
    "train.shape"
   ]
  },
  {
   "cell_type": "markdown",
   "metadata": {},
   "source": [
    "Посмотрим распределение суммарной концентрации после удаления аномальных значений:"
   ]
  },
  {
   "cell_type": "code",
   "execution_count": 35,
   "metadata": {},
   "outputs": [
    {
     "data": {
      "image/png": "[encoded data removed]",
      "text/plain": [
       "<Figure size 864x432 with 1 Axes>"
      ]
     },
     "metadata": {
      "needs_background": "light"
     },
     "output_type": "display_data"
    }
   ],
   "source": [
    "plt.figure(figsize=(12,6))\n",
    "plt.hist(rougher_input_feed,\n",
    "         alpha = 0.5,\n",
    "         label='Сырье')\n",
    "plt.hist(rougher_output_concentrate,\n",
    "         alpha = 0.5,\n",
    "         label='Черновой концентрат на этапе флотации')\n",
    "plt.hist(primary_cleaner_output_concentrate,\n",
    "         alpha = 0.5,\n",
    "         label='Черновой концентрат на этапе очистки')\n",
    "plt.hist(final_output_concentrate,\n",
    "         alpha = 0.5,\n",
    "         label='Финальный концентрат')\n",
    "plt.xlabel('Суммарная концентрация металлов')\n",
    "plt.ylabel('Частота значений')\n",
    "plt.title('Распределение суммарной концентрации металлов по этапам обработки')\n",
    "plt.legend()\n",
    "plt.grid(True)\n",
    "plt.show()"
   ]
  },
  {
   "cell_type": "markdown",
   "metadata": {},
   "source": [
    "### Вывод"
   ]
  },
  {
   "cell_type": "markdown",
   "metadata": {},
   "source": [
    "На этапе флотации наблюдаем примерно равное количество всех веществ разной концентрации, по мере завершения процесса обогащения количество и концентарция золота в продукте значительно возрастает, концентрация других веществ снижается, что соответствует ожидаемым стадиям технологического процесса.\n",
    "\n",
    "Размеры гранул сырья на обучающей и тестовой выборках примерно равны, что позволит сделать более точные предсказания модели.\n",
    "\n",
    "Суммарная концентрация металлов значительно возрастает на завершающем этапе процесса обогащения, что так же соответствует ожидаемым стадиям технологического процесса. На всех этапах обработки в суммарной концентрации есть аномальные нулевые значения, удалим их. После обработки данных всплеск значений около нуля остался, возможно это близкие к нулю значения."
   ]
  },
  {
   "cell_type": "markdown",
   "metadata": {},
   "source": [
    "## Модель"
   ]
  },
  {
   "cell_type": "markdown",
   "metadata": {},
   "source": [
    "Получим список признаков тестовой выборки:"
   ]
  },
  {
   "cell_type": "code",
   "execution_count": 36,
   "metadata": {},
   "outputs": [],
   "source": [
    "test_columns = test.columns.drop('date')"
   ]
  },
  {
   "cell_type": "markdown",
   "metadata": {},
   "source": [
    "Определим признаки:"
   ]
  },
  {
   "cell_type": "code",
   "execution_count": 37,
   "metadata": {},
   "outputs": [],
   "source": [
    "features = train[test_columns]"
   ]
  },
  {
   "cell_type": "markdown",
   "metadata": {},
   "source": [
    "Определим целевые признаки:"
   ]
  },
  {
   "cell_type": "code",
   "execution_count": 38,
   "metadata": {},
   "outputs": [],
   "source": [
    "target = train[['rougher.output.recovery', 'final.output.recovery']]"
   ]
  },
  {
   "cell_type": "markdown",
   "metadata": {},
   "source": [
    "Напишем функцию для вычисления итоговой метрики:"
   ]
  },
  {
   "cell_type": "code",
   "execution_count": 39,
   "metadata": {},
   "outputs": [],
   "source": [
    "def smape (target, predictions):\n",
    "    target_rougher = target['rougher.output.recovery']\n",
    "    predictions_rougher = predictions[:,0]\n",
    "    target_final = target['final.output.recovery']\n",
    "    predictions_final = predictions[:,1]\n",
    "    rougher = (\n",
    "        abs(target_rougher - predictions_rougher) / ((abs(target_rougher) + abs(predictions_rougher)) / 2)\n",
    "    ).mean() * 100\n",
    "    final = (\n",
    "        abs(target_final - predictions_final) / ((abs(target_final) + abs(predictions_final)) / 2)\n",
    "    ).mean() * 100\n",
    "    smape = 0.25 * rougher + 0.75 * final\n",
    "    return smape"
   ]
  },
  {
   "cell_type": "markdown",
   "metadata": {},
   "source": [
    "Создадим метрику для оценки качества модели:"
   ]
  },
  {
   "cell_type": "code",
   "execution_count": 40,
   "metadata": {},
   "outputs": [],
   "source": [
    "smape_score = make_scorer(smape, greater_is_better=False)"
   ]
  },
  {
   "cell_type": "markdown",
   "metadata": {},
   "source": [
    "Создадим модель линейной регрессии:"
   ]
  },
  {
   "cell_type": "code",
   "execution_count": 41,
   "metadata": {},
   "outputs": [],
   "source": [
    "lr = LinearRegression()"
   ]
  },
  {
   "cell_type": "markdown",
   "metadata": {},
   "source": [
    "Оценим качество модели методом кросс-валидации:"
   ]
  },
  {
   "cell_type": "code",
   "execution_count": 42,
   "metadata": {},
   "outputs": [],
   "source": [
    "scores = cross_val_score(lr, features, target, scoring=smape_score, cv=5)"
   ]
  },
  {
   "cell_type": "markdown",
   "metadata": {},
   "source": [
    "Посмотрим список оценок:"
   ]
  },
  {
   "cell_type": "code",
   "execution_count": 43,
   "metadata": {},
   "outputs": [
    {
     "data": {
      "text/plain": [
       "array([-12.46236043,  -9.09435781,  -8.34308575,  -8.02982535,\n",
       "       -12.21698759])"
      ]
     },
     "execution_count": 43,
     "metadata": {},
     "output_type": "execute_result"
    }
   ],
   "source": [
    "scores"
   ]
  },
  {
   "cell_type": "markdown",
   "metadata": {},
   "source": [
    "Рассчитаем значение средней метрики:"
   ]
  },
  {
   "cell_type": "code",
   "execution_count": 44,
   "metadata": {},
   "outputs": [
    {
     "data": {
      "text/plain": [
       "-10.029323387636314"
      ]
     },
     "execution_count": 44,
     "metadata": {},
     "output_type": "execute_result"
    }
   ],
   "source": [
    "scores.mean()"
   ]
  },
  {
   "cell_type": "markdown",
   "metadata": {},
   "source": [
    "Создадим модель случайного леса:"
   ]
  },
  {
   "cell_type": "code",
   "execution_count": 45,
   "metadata": {},
   "outputs": [],
   "source": [
    "rfr = RandomForestRegressor(random_state=42)"
   ]
  },
  {
   "cell_type": "markdown",
   "metadata": {},
   "source": [
    "Настроим подбор гиперпараметров (для экономии времени количество деревьев переберём вручную):"
   ]
  },
  {
   "cell_type": "code",
   "execution_count": 46,
   "metadata": {},
   "outputs": [],
   "source": [
    "params = {'n_estimators' : [80],\n",
    "             'max_depth' : range(1, 15)}"
   ]
  },
  {
   "cell_type": "markdown",
   "metadata": {},
   "source": [
    "Создадим модуль GridSearchCV:"
   ]
  },
  {
   "cell_type": "code",
   "execution_count": 47,
   "metadata": {},
   "outputs": [],
   "source": [
    "grid = GridSearchCV(rfr, params, scoring=smape_score, cv=5)"
   ]
  },
  {
   "cell_type": "markdown",
   "metadata": {},
   "source": [
    "Обучим его:"
   ]
  },
  {
   "cell_type": "code",
   "execution_count": 48,
   "metadata": {},
   "outputs": [
    {
     "name": "stdout",
     "output_type": "stream",
     "text": [
      "CPU times: user 28min 55s, sys: 793 ms, total: 28min 56s\n",
      "Wall time: 1h 11min 26s\n"
     ]
    },
    {
     "data": {
      "text/plain": [
       "GridSearchCV(cv=5, error_score='raise-deprecating',\n",
       "             estimator=RandomForestRegressor(bootstrap=True, criterion='mse',\n",
       "                                             max_depth=None,\n",
       "                                             max_features='auto',\n",
       "                                             max_leaf_nodes=None,\n",
       "                                             min_impurity_decrease=0.0,\n",
       "                                             min_impurity_split=None,\n",
       "                                             min_samples_leaf=1,\n",
       "                                             min_samples_split=2,\n",
       "                                             min_weight_fraction_leaf=0.0,\n",
       "                                             n_estimators='warn', n_jobs=None,\n",
       "                                             oob_score=False, random_state=42,\n",
       "                                             verbose=0, warm_start=False),\n",
       "             iid='warn', n_jobs=None,\n",
       "             param_grid={'max_depth': range(1, 15), 'n_estimators': [80]},\n",
       "             pre_dispatch='2*n_jobs', refit=True, return_train_score=False,\n",
       "             scoring=make_scorer(smape, greater_is_better=False), verbose=0)"
      ]
     },
     "execution_count": 48,
     "metadata": {},
     "output_type": "execute_result"
    }
   ],
   "source": [
    "%%time\n",
    "grid.fit(features, target)"
   ]
  },
  {
   "cell_type": "markdown",
   "metadata": {},
   "source": [
    "Посмотрим лучшие параметры:"
   ]
  },
  {
   "cell_type": "code",
   "execution_count": 49,
   "metadata": {},
   "outputs": [
    {
     "data": {
      "text/plain": [
       "{'max_depth': 3, 'n_estimators': 80}"
      ]
     },
     "execution_count": 49,
     "metadata": {},
     "output_type": "execute_result"
    }
   ],
   "source": [
    "grid.best_params_"
   ]
  },
  {
   "cell_type": "markdown",
   "metadata": {},
   "source": [
    "Посмотрим лучшую метрику:"
   ]
  },
  {
   "cell_type": "code",
   "execution_count": 50,
   "metadata": {},
   "outputs": [
    {
     "data": {
      "text/plain": [
       "-8.647497122706572"
      ]
     },
     "execution_count": 50,
     "metadata": {},
     "output_type": "execute_result"
    }
   ],
   "source": [
    "grid.best_score_"
   ]
  },
  {
   "cell_type": "markdown",
   "metadata": {},
   "source": [
    "Сохраним лучшую модель:"
   ]
  },
  {
   "cell_type": "code",
   "execution_count": 51,
   "metadata": {},
   "outputs": [],
   "source": [
    "model = grid.best_estimator_"
   ]
  },
  {
   "cell_type": "markdown",
   "metadata": {},
   "source": [
    "Дополним тестовую выборку целевым признаком:"
   ]
  },
  {
   "cell_type": "code",
   "execution_count": 52,
   "metadata": {},
   "outputs": [],
   "source": [
    "test = test.merge(full[['date', 'rougher.output.recovery', 'final.output.recovery']], on=['date'], how='left')"
   ]
  },
  {
   "cell_type": "markdown",
   "metadata": {},
   "source": [
    "Посмотрим, что получилось:"
   ]
  },
  {
   "cell_type": "code",
   "execution_count": 53,
   "metadata": {
    "scrolled": true
   },
   "outputs": [
    {
     "data": {
      "text/html": [
       "<div>\n",
       "<style scoped>\n",
       "    .dataframe tbody tr th:only-of-type {\n",
       "        vertical-align: middle;\n",
       "    }\n",
       "\n",
       "    .dataframe tbody tr th {\n",
       "        vertical-align: top;\n",
       "    }\n",
       "\n",
       "    .dataframe thead th {\n",
       "        text-align: right;\n",
       "    }\n",
       "</style>\n",
       "<table border=\"1\" class=\"dataframe\">\n",
       "  <thead>\n",
       "    <tr style=\"text-align: right;\">\n",
       "      <th></th>\n",
       "      <th>date</th>\n",
       "      <th>primary_cleaner.input.sulfate</th>\n",
       "      <th>primary_cleaner.input.depressant</th>\n",
       "      <th>primary_cleaner.input.feed_size</th>\n",
       "      <th>primary_cleaner.input.xanthate</th>\n",
       "      <th>primary_cleaner.state.floatbank8_a_air</th>\n",
       "      <th>primary_cleaner.state.floatbank8_a_level</th>\n",
       "      <th>primary_cleaner.state.floatbank8_b_air</th>\n",
       "      <th>primary_cleaner.state.floatbank8_b_level</th>\n",
       "      <th>primary_cleaner.state.floatbank8_c_air</th>\n",
       "      <th>primary_cleaner.state.floatbank8_c_level</th>\n",
       "      <th>primary_cleaner.state.floatbank8_d_air</th>\n",
       "      <th>primary_cleaner.state.floatbank8_d_level</th>\n",
       "      <th>rougher.input.feed_ag</th>\n",
       "      <th>rougher.input.feed_pb</th>\n",
       "      <th>rougher.input.feed_rate</th>\n",
       "      <th>rougher.input.feed_size</th>\n",
       "      <th>rougher.input.feed_sol</th>\n",
       "      <th>rougher.input.feed_au</th>\n",
       "      <th>rougher.input.floatbank10_sulfate</th>\n",
       "      <th>rougher.input.floatbank10_xanthate</th>\n",
       "      <th>rougher.input.floatbank11_sulfate</th>\n",
       "      <th>rougher.input.floatbank11_xanthate</th>\n",
       "      <th>rougher.state.floatbank10_a_air</th>\n",
       "      <th>rougher.state.floatbank10_a_level</th>\n",
       "      <th>rougher.state.floatbank10_b_air</th>\n",
       "      <th>rougher.state.floatbank10_b_level</th>\n",
       "      <th>rougher.state.floatbank10_c_air</th>\n",
       "      <th>rougher.state.floatbank10_c_level</th>\n",
       "      <th>rougher.state.floatbank10_d_air</th>\n",
       "      <th>rougher.state.floatbank10_d_level</th>\n",
       "      <th>rougher.state.floatbank10_e_air</th>\n",
       "      <th>rougher.state.floatbank10_e_level</th>\n",
       "      <th>rougher.state.floatbank10_f_air</th>\n",
       "      <th>rougher.state.floatbank10_f_level</th>\n",
       "      <th>secondary_cleaner.state.floatbank2_a_air</th>\n",
       "      <th>secondary_cleaner.state.floatbank2_a_level</th>\n",
       "      <th>secondary_cleaner.state.floatbank2_b_air</th>\n",
       "      <th>secondary_cleaner.state.floatbank2_b_level</th>\n",
       "      <th>secondary_cleaner.state.floatbank3_a_air</th>\n",
       "      <th>secondary_cleaner.state.floatbank3_a_level</th>\n",
       "      <th>secondary_cleaner.state.floatbank3_b_air</th>\n",
       "      <th>secondary_cleaner.state.floatbank3_b_level</th>\n",
       "      <th>secondary_cleaner.state.floatbank4_a_air</th>\n",
       "      <th>secondary_cleaner.state.floatbank4_a_level</th>\n",
       "      <th>secondary_cleaner.state.floatbank4_b_air</th>\n",
       "      <th>secondary_cleaner.state.floatbank4_b_level</th>\n",
       "      <th>secondary_cleaner.state.floatbank5_a_air</th>\n",
       "      <th>secondary_cleaner.state.floatbank5_a_level</th>\n",
       "      <th>secondary_cleaner.state.floatbank5_b_air</th>\n",
       "      <th>secondary_cleaner.state.floatbank5_b_level</th>\n",
       "      <th>secondary_cleaner.state.floatbank6_a_air</th>\n",
       "      <th>secondary_cleaner.state.floatbank6_a_level</th>\n",
       "      <th>rougher.output.recovery</th>\n",
       "      <th>final.output.recovery</th>\n",
       "    </tr>\n",
       "  </thead>\n",
       "  <tbody>\n",
       "    <tr>\n",
       "      <td>0</td>\n",
       "      <td>2016-09-01 00:59:59</td>\n",
       "      <td>210.800909</td>\n",
       "      <td>14.993118</td>\n",
       "      <td>8.080000</td>\n",
       "      <td>1.005021</td>\n",
       "      <td>1398.981301</td>\n",
       "      <td>-500.225577</td>\n",
       "      <td>1399.144926</td>\n",
       "      <td>-499.919735</td>\n",
       "      <td>1400.102998</td>\n",
       "      <td>-500.704369</td>\n",
       "      <td>1399.001695</td>\n",
       "      <td>-499.485144</td>\n",
       "      <td>13.128569</td>\n",
       "      <td>5.636710</td>\n",
       "      <td>489.793655</td>\n",
       "      <td>62.710452</td>\n",
       "      <td>42.022440</td>\n",
       "      <td>12.084103</td>\n",
       "      <td>16.922877</td>\n",
       "      <td>6.153479</td>\n",
       "      <td>16.867518</td>\n",
       "      <td>6.150709</td>\n",
       "      <td>1001.849317</td>\n",
       "      <td>-350.301265</td>\n",
       "      <td>1249.738612</td>\n",
       "      <td>-399.107531</td>\n",
       "      <td>1249.750520</td>\n",
       "      <td>-399.396730</td>\n",
       "      <td>1198.287855</td>\n",
       "      <td>-399.488594</td>\n",
       "      <td>999.472250</td>\n",
       "      <td>-399.530962</td>\n",
       "      <td>949.566189</td>\n",
       "      <td>-398.180807</td>\n",
       "      <td>24.938200</td>\n",
       "      <td>-500.490963</td>\n",
       "      <td>14.947607</td>\n",
       "      <td>-500.013837</td>\n",
       "      <td>20.018166</td>\n",
       "      <td>-450.395995</td>\n",
       "      <td>13.987058</td>\n",
       "      <td>-449.831513</td>\n",
       "      <td>12.023554</td>\n",
       "      <td>-497.795834</td>\n",
       "      <td>8.016656</td>\n",
       "      <td>-501.289139</td>\n",
       "      <td>7.946562</td>\n",
       "      <td>-432.317850</td>\n",
       "      <td>4.872511</td>\n",
       "      <td>-500.037437</td>\n",
       "      <td>26.705889</td>\n",
       "      <td>-499.709414</td>\n",
       "      <td>89.993421</td>\n",
       "      <td>70.273583</td>\n",
       "    </tr>\n",
       "    <tr>\n",
       "      <td>1</td>\n",
       "      <td>2016-09-01 01:59:59</td>\n",
       "      <td>215.392455</td>\n",
       "      <td>14.987471</td>\n",
       "      <td>8.080000</td>\n",
       "      <td>0.990469</td>\n",
       "      <td>1398.777912</td>\n",
       "      <td>-500.057435</td>\n",
       "      <td>1398.055362</td>\n",
       "      <td>-499.778182</td>\n",
       "      <td>1396.151033</td>\n",
       "      <td>-499.240168</td>\n",
       "      <td>1399.508091</td>\n",
       "      <td>-500.416324</td>\n",
       "      <td>13.036280</td>\n",
       "      <td>5.526065</td>\n",
       "      <td>490.104534</td>\n",
       "      <td>61.961163</td>\n",
       "      <td>41.187903</td>\n",
       "      <td>11.918977</td>\n",
       "      <td>17.002532</td>\n",
       "      <td>5.999043</td>\n",
       "      <td>16.996063</td>\n",
       "      <td>6.002315</td>\n",
       "      <td>998.690785</td>\n",
       "      <td>-350.425704</td>\n",
       "      <td>1248.395457</td>\n",
       "      <td>-399.946025</td>\n",
       "      <td>1249.514451</td>\n",
       "      <td>-399.630810</td>\n",
       "      <td>1200.506459</td>\n",
       "      <td>-399.942434</td>\n",
       "      <td>1000.002114</td>\n",
       "      <td>-399.491528</td>\n",
       "      <td>950.200009</td>\n",
       "      <td>-405.787514</td>\n",
       "      <td>24.923466</td>\n",
       "      <td>-499.813963</td>\n",
       "      <td>14.930873</td>\n",
       "      <td>-500.764452</td>\n",
       "      <td>19.988503</td>\n",
       "      <td>-450.114024</td>\n",
       "      <td>14.092981</td>\n",
       "      <td>-450.059163</td>\n",
       "      <td>12.058140</td>\n",
       "      <td>-498.695773</td>\n",
       "      <td>8.130979</td>\n",
       "      <td>-499.634209</td>\n",
       "      <td>7.958270</td>\n",
       "      <td>-525.839648</td>\n",
       "      <td>4.878850</td>\n",
       "      <td>-500.162375</td>\n",
       "      <td>25.019940</td>\n",
       "      <td>-499.819438</td>\n",
       "      <td>88.089657</td>\n",
       "      <td>68.910432</td>\n",
       "    </tr>\n",
       "    <tr>\n",
       "      <td>2</td>\n",
       "      <td>2016-09-01 02:59:59</td>\n",
       "      <td>215.259946</td>\n",
       "      <td>12.884934</td>\n",
       "      <td>7.786667</td>\n",
       "      <td>0.996043</td>\n",
       "      <td>1398.493666</td>\n",
       "      <td>-500.868360</td>\n",
       "      <td>1398.860436</td>\n",
       "      <td>-499.764529</td>\n",
       "      <td>1398.075709</td>\n",
       "      <td>-502.151509</td>\n",
       "      <td>1399.497088</td>\n",
       "      <td>-499.715479</td>\n",
       "      <td>13.138412</td>\n",
       "      <td>5.426561</td>\n",
       "      <td>489.617969</td>\n",
       "      <td>66.903807</td>\n",
       "      <td>42.546294</td>\n",
       "      <td>12.091332</td>\n",
       "      <td>16.992520</td>\n",
       "      <td>5.850632</td>\n",
       "      <td>16.982096</td>\n",
       "      <td>5.853594</td>\n",
       "      <td>998.516720</td>\n",
       "      <td>-349.783538</td>\n",
       "      <td>1247.440748</td>\n",
       "      <td>-400.264330</td>\n",
       "      <td>1248.207204</td>\n",
       "      <td>-401.074405</td>\n",
       "      <td>1199.770026</td>\n",
       "      <td>-400.790582</td>\n",
       "      <td>999.925519</td>\n",
       "      <td>-399.236999</td>\n",
       "      <td>950.320481</td>\n",
       "      <td>-400.864340</td>\n",
       "      <td>24.908732</td>\n",
       "      <td>-500.304035</td>\n",
       "      <td>14.996511</td>\n",
       "      <td>-500.993821</td>\n",
       "      <td>20.039689</td>\n",
       "      <td>-450.263164</td>\n",
       "      <td>14.077881</td>\n",
       "      <td>-449.660997</td>\n",
       "      <td>11.962366</td>\n",
       "      <td>-498.767484</td>\n",
       "      <td>8.096893</td>\n",
       "      <td>-500.827423</td>\n",
       "      <td>8.071056</td>\n",
       "      <td>-500.801673</td>\n",
       "      <td>4.905125</td>\n",
       "      <td>-499.828510</td>\n",
       "      <td>24.994862</td>\n",
       "      <td>-500.622559</td>\n",
       "      <td>88.412756</td>\n",
       "      <td>68.143213</td>\n",
       "    </tr>\n",
       "    <tr>\n",
       "      <td>3</td>\n",
       "      <td>2016-09-01 03:59:59</td>\n",
       "      <td>215.336236</td>\n",
       "      <td>12.006805</td>\n",
       "      <td>7.640000</td>\n",
       "      <td>0.863514</td>\n",
       "      <td>1399.618111</td>\n",
       "      <td>-498.863574</td>\n",
       "      <td>1397.440120</td>\n",
       "      <td>-499.211024</td>\n",
       "      <td>1400.129303</td>\n",
       "      <td>-498.355873</td>\n",
       "      <td>1401.065165</td>\n",
       "      <td>-501.038738</td>\n",
       "      <td>12.400507</td>\n",
       "      <td>5.114758</td>\n",
       "      <td>476.618130</td>\n",
       "      <td>59.865919</td>\n",
       "      <td>41.060195</td>\n",
       "      <td>12.181597</td>\n",
       "      <td>16.532144</td>\n",
       "      <td>5.801935</td>\n",
       "      <td>16.515277</td>\n",
       "      <td>5.803657</td>\n",
       "      <td>1000.276604</td>\n",
       "      <td>-350.172597</td>\n",
       "      <td>1251.322675</td>\n",
       "      <td>-398.655289</td>\n",
       "      <td>1250.493702</td>\n",
       "      <td>-399.746728</td>\n",
       "      <td>1199.398691</td>\n",
       "      <td>-397.503052</td>\n",
       "      <td>1001.930679</td>\n",
       "      <td>-400.437573</td>\n",
       "      <td>950.735324</td>\n",
       "      <td>-399.802986</td>\n",
       "      <td>24.893998</td>\n",
       "      <td>-499.382374</td>\n",
       "      <td>14.916674</td>\n",
       "      <td>-499.862299</td>\n",
       "      <td>20.031100</td>\n",
       "      <td>-449.372570</td>\n",
       "      <td>14.013968</td>\n",
       "      <td>-449.526900</td>\n",
       "      <td>12.033091</td>\n",
       "      <td>-498.350935</td>\n",
       "      <td>8.074946</td>\n",
       "      <td>-499.474407</td>\n",
       "      <td>7.897085</td>\n",
       "      <td>-500.868509</td>\n",
       "      <td>4.931400</td>\n",
       "      <td>-499.963623</td>\n",
       "      <td>24.948919</td>\n",
       "      <td>-498.709987</td>\n",
       "      <td>87.360133</td>\n",
       "      <td>67.776393</td>\n",
       "    </tr>\n",
       "    <tr>\n",
       "      <td>4</td>\n",
       "      <td>2016-09-01 04:59:59</td>\n",
       "      <td>199.099327</td>\n",
       "      <td>10.682530</td>\n",
       "      <td>7.530000</td>\n",
       "      <td>0.805575</td>\n",
       "      <td>1401.268123</td>\n",
       "      <td>-500.808305</td>\n",
       "      <td>1398.128818</td>\n",
       "      <td>-499.504543</td>\n",
       "      <td>1402.172226</td>\n",
       "      <td>-500.810606</td>\n",
       "      <td>1399.480508</td>\n",
       "      <td>-499.374053</td>\n",
       "      <td>11.327427</td>\n",
       "      <td>4.767383</td>\n",
       "      <td>488.248117</td>\n",
       "      <td>63.315324</td>\n",
       "      <td>41.269161</td>\n",
       "      <td>11.290425</td>\n",
       "      <td>13.607257</td>\n",
       "      <td>5.738081</td>\n",
       "      <td>13.650053</td>\n",
       "      <td>5.739634</td>\n",
       "      <td>996.541302</td>\n",
       "      <td>-350.562517</td>\n",
       "      <td>1304.658848</td>\n",
       "      <td>-399.511519</td>\n",
       "      <td>1306.455515</td>\n",
       "      <td>-399.050685</td>\n",
       "      <td>1248.699349</td>\n",
       "      <td>-400.876894</td>\n",
       "      <td>1058.839106</td>\n",
       "      <td>-398.988239</td>\n",
       "      <td>949.645313</td>\n",
       "      <td>-399.277632</td>\n",
       "      <td>24.886905</td>\n",
       "      <td>-499.357375</td>\n",
       "      <td>14.979233</td>\n",
       "      <td>-500.186804</td>\n",
       "      <td>19.962364</td>\n",
       "      <td>-450.638828</td>\n",
       "      <td>14.009245</td>\n",
       "      <td>-450.022259</td>\n",
       "      <td>12.025367</td>\n",
       "      <td>-500.786497</td>\n",
       "      <td>8.054678</td>\n",
       "      <td>-500.397500</td>\n",
       "      <td>8.107890</td>\n",
       "      <td>-509.526725</td>\n",
       "      <td>4.957674</td>\n",
       "      <td>-500.360026</td>\n",
       "      <td>25.003331</td>\n",
       "      <td>-500.856333</td>\n",
       "      <td>83.236367</td>\n",
       "      <td>61.467078</td>\n",
       "    </tr>\n",
       "  </tbody>\n",
       "</table>\n",
       "</div>"
      ],
      "text/plain": [
       "                  date  primary_cleaner.input.sulfate  \\\n",
       "0  2016-09-01 00:59:59                     210.800909   \n",
       "1  2016-09-01 01:59:59                     215.392455   \n",
       "2  2016-09-01 02:59:59                     215.259946   \n",
       "3  2016-09-01 03:59:59                     215.336236   \n",
       "4  2016-09-01 04:59:59                     199.099327   \n",
       "\n",
       "   primary_cleaner.input.depressant  primary_cleaner.input.feed_size  \\\n",
       "0                         14.993118                         8.080000   \n",
       "1                         14.987471                         8.080000   \n",
       "2                         12.884934                         7.786667   \n",
       "3                         12.006805                         7.640000   \n",
       "4                         10.682530                         7.530000   \n",
       "\n",
       "   primary_cleaner.input.xanthate  primary_cleaner.state.floatbank8_a_air  \\\n",
       "0                        1.005021                             1398.981301   \n",
       "1                        0.990469                             1398.777912   \n",
       "2                        0.996043                             1398.493666   \n",
       "3                        0.863514                             1399.618111   \n",
       "4                        0.805575                             1401.268123   \n",
       "\n",
       "   primary_cleaner.state.floatbank8_a_level  \\\n",
       "0                               -500.225577   \n",
       "1                               -500.057435   \n",
       "2                               -500.868360   \n",
       "3                               -498.863574   \n",
       "4                               -500.808305   \n",
       "\n",
       "   primary_cleaner.state.floatbank8_b_air  \\\n",
       "0                             1399.144926   \n",
       "1                             1398.055362   \n",
       "2                             1398.860436   \n",
       "3                             1397.440120   \n",
       "4                             1398.128818   \n",
       "\n",
       "   primary_cleaner.state.floatbank8_b_level  \\\n",
       "0                               -499.919735   \n",
       "1                               -499.778182   \n",
       "2                               -499.764529   \n",
       "3                               -499.211024   \n",
       "4                               -499.504543   \n",
       "\n",
       "   primary_cleaner.state.floatbank8_c_air  \\\n",
       "0                             1400.102998   \n",
       "1                             1396.151033   \n",
       "2                             1398.075709   \n",
       "3                             1400.129303   \n",
       "4                             1402.172226   \n",
       "\n",
       "   primary_cleaner.state.floatbank8_c_level  \\\n",
       "0                               -500.704369   \n",
       "1                               -499.240168   \n",
       "2                               -502.151509   \n",
       "3                               -498.355873   \n",
       "4                               -500.810606   \n",
       "\n",
       "   primary_cleaner.state.floatbank8_d_air  \\\n",
       "0                             1399.001695   \n",
       "1                             1399.508091   \n",
       "2                             1399.497088   \n",
       "3                             1401.065165   \n",
       "4                             1399.480508   \n",
       "\n",
       "   primary_cleaner.state.floatbank8_d_level  rougher.input.feed_ag  \\\n",
       "0                               -499.485144              13.128569   \n",
       "1                               -500.416324              13.036280   \n",
       "2                               -499.715479              13.138412   \n",
       "3                               -501.038738              12.400507   \n",
       "4                               -499.374053              11.327427   \n",
       "\n",
       "   rougher.input.feed_pb  rougher.input.feed_rate  rougher.input.feed_size  \\\n",
       "0               5.636710               489.793655                62.710452   \n",
       "1               5.526065               490.104534                61.961163   \n",
       "2               5.426561               489.617969                66.903807   \n",
       "3               5.114758               476.618130                59.865919   \n",
       "4               4.767383               488.248117                63.315324   \n",
       "\n",
       "   rougher.input.feed_sol  rougher.input.feed_au  \\\n",
       "0               42.022440              12.084103   \n",
       "1               41.187903              11.918977   \n",
       "2               42.546294              12.091332   \n",
       "3               41.060195              12.181597   \n",
       "4               41.269161              11.290425   \n",
       "\n",
       "   rougher.input.floatbank10_sulfate  rougher.input.floatbank10_xanthate  \\\n",
       "0                          16.922877                            6.153479   \n",
       "1                          17.002532                            5.999043   \n",
       "2                          16.992520                            5.850632   \n",
       "3                          16.532144                            5.801935   \n",
       "4                          13.607257                            5.738081   \n",
       "\n",
       "   rougher.input.floatbank11_sulfate  rougher.input.floatbank11_xanthate  \\\n",
       "0                          16.867518                            6.150709   \n",
       "1                          16.996063                            6.002315   \n",
       "2                          16.982096                            5.853594   \n",
       "3                          16.515277                            5.803657   \n",
       "4                          13.650053                            5.739634   \n",
       "\n",
       "   rougher.state.floatbank10_a_air  rougher.state.floatbank10_a_level  \\\n",
       "0                      1001.849317                        -350.301265   \n",
       "1                       998.690785                        -350.425704   \n",
       "2                       998.516720                        -349.783538   \n",
       "3                      1000.276604                        -350.172597   \n",
       "4                       996.541302                        -350.562517   \n",
       "\n",
       "   rougher.state.floatbank10_b_air  rougher.state.floatbank10_b_level  \\\n",
       "0                      1249.738612                        -399.107531   \n",
       "1                      1248.395457                        -399.946025   \n",
       "2                      1247.440748                        -400.264330   \n",
       "3                      1251.322675                        -398.655289   \n",
       "4                      1304.658848                        -399.511519   \n",
       "\n",
       "   rougher.state.floatbank10_c_air  rougher.state.floatbank10_c_level  \\\n",
       "0                      1249.750520                        -399.396730   \n",
       "1                      1249.514451                        -399.630810   \n",
       "2                      1248.207204                        -401.074405   \n",
       "3                      1250.493702                        -399.746728   \n",
       "4                      1306.455515                        -399.050685   \n",
       "\n",
       "   rougher.state.floatbank10_d_air  rougher.state.floatbank10_d_level  \\\n",
       "0                      1198.287855                        -399.488594   \n",
       "1                      1200.506459                        -399.942434   \n",
       "2                      1199.770026                        -400.790582   \n",
       "3                      1199.398691                        -397.503052   \n",
       "4                      1248.699349                        -400.876894   \n",
       "\n",
       "   rougher.state.floatbank10_e_air  rougher.state.floatbank10_e_level  \\\n",
       "0                       999.472250                        -399.530962   \n",
       "1                      1000.002114                        -399.491528   \n",
       "2                       999.925519                        -399.236999   \n",
       "3                      1001.930679                        -400.437573   \n",
       "4                      1058.839106                        -398.988239   \n",
       "\n",
       "   rougher.state.floatbank10_f_air  rougher.state.floatbank10_f_level  \\\n",
       "0                       949.566189                        -398.180807   \n",
       "1                       950.200009                        -405.787514   \n",
       "2                       950.320481                        -400.864340   \n",
       "3                       950.735324                        -399.802986   \n",
       "4                       949.645313                        -399.277632   \n",
       "\n",
       "   secondary_cleaner.state.floatbank2_a_air  \\\n",
       "0                                 24.938200   \n",
       "1                                 24.923466   \n",
       "2                                 24.908732   \n",
       "3                                 24.893998   \n",
       "4                                 24.886905   \n",
       "\n",
       "   secondary_cleaner.state.floatbank2_a_level  \\\n",
       "0                                 -500.490963   \n",
       "1                                 -499.813963   \n",
       "2                                 -500.304035   \n",
       "3                                 -499.382374   \n",
       "4                                 -499.357375   \n",
       "\n",
       "   secondary_cleaner.state.floatbank2_b_air  \\\n",
       "0                                 14.947607   \n",
       "1                                 14.930873   \n",
       "2                                 14.996511   \n",
       "3                                 14.916674   \n",
       "4                                 14.979233   \n",
       "\n",
       "   secondary_cleaner.state.floatbank2_b_level  \\\n",
       "0                                 -500.013837   \n",
       "1                                 -500.764452   \n",
       "2                                 -500.993821   \n",
       "3                                 -499.862299   \n",
       "4                                 -500.186804   \n",
       "\n",
       "   secondary_cleaner.state.floatbank3_a_air  \\\n",
       "0                                 20.018166   \n",
       "1                                 19.988503   \n",
       "2                                 20.039689   \n",
       "3                                 20.031100   \n",
       "4                                 19.962364   \n",
       "\n",
       "   secondary_cleaner.state.floatbank3_a_level  \\\n",
       "0                                 -450.395995   \n",
       "1                                 -450.114024   \n",
       "2                                 -450.263164   \n",
       "3                                 -449.372570   \n",
       "4                                 -450.638828   \n",
       "\n",
       "   secondary_cleaner.state.floatbank3_b_air  \\\n",
       "0                                 13.987058   \n",
       "1                                 14.092981   \n",
       "2                                 14.077881   \n",
       "3                                 14.013968   \n",
       "4                                 14.009245   \n",
       "\n",
       "   secondary_cleaner.state.floatbank3_b_level  \\\n",
       "0                                 -449.831513   \n",
       "1                                 -450.059163   \n",
       "2                                 -449.660997   \n",
       "3                                 -449.526900   \n",
       "4                                 -450.022259   \n",
       "\n",
       "   secondary_cleaner.state.floatbank4_a_air  \\\n",
       "0                                 12.023554   \n",
       "1                                 12.058140   \n",
       "2                                 11.962366   \n",
       "3                                 12.033091   \n",
       "4                                 12.025367   \n",
       "\n",
       "   secondary_cleaner.state.floatbank4_a_level  \\\n",
       "0                                 -497.795834   \n",
       "1                                 -498.695773   \n",
       "2                                 -498.767484   \n",
       "3                                 -498.350935   \n",
       "4                                 -500.786497   \n",
       "\n",
       "   secondary_cleaner.state.floatbank4_b_air  \\\n",
       "0                                  8.016656   \n",
       "1                                  8.130979   \n",
       "2                                  8.096893   \n",
       "3                                  8.074946   \n",
       "4                                  8.054678   \n",
       "\n",
       "   secondary_cleaner.state.floatbank4_b_level  \\\n",
       "0                                 -501.289139   \n",
       "1                                 -499.634209   \n",
       "2                                 -500.827423   \n",
       "3                                 -499.474407   \n",
       "4                                 -500.397500   \n",
       "\n",
       "   secondary_cleaner.state.floatbank5_a_air  \\\n",
       "0                                  7.946562   \n",
       "1                                  7.958270   \n",
       "2                                  8.071056   \n",
       "3                                  7.897085   \n",
       "4                                  8.107890   \n",
       "\n",
       "   secondary_cleaner.state.floatbank5_a_level  \\\n",
       "0                                 -432.317850   \n",
       "1                                 -525.839648   \n",
       "2                                 -500.801673   \n",
       "3                                 -500.868509   \n",
       "4                                 -509.526725   \n",
       "\n",
       "   secondary_cleaner.state.floatbank5_b_air  \\\n",
       "0                                  4.872511   \n",
       "1                                  4.878850   \n",
       "2                                  4.905125   \n",
       "3                                  4.931400   \n",
       "4                                  4.957674   \n",
       "\n",
       "   secondary_cleaner.state.floatbank5_b_level  \\\n",
       "0                                 -500.037437   \n",
       "1                                 -500.162375   \n",
       "2                                 -499.828510   \n",
       "3                                 -499.963623   \n",
       "4                                 -500.360026   \n",
       "\n",
       "   secondary_cleaner.state.floatbank6_a_air  \\\n",
       "0                                 26.705889   \n",
       "1                                 25.019940   \n",
       "2                                 24.994862   \n",
       "3                                 24.948919   \n",
       "4                                 25.003331   \n",
       "\n",
       "   secondary_cleaner.state.floatbank6_a_level  rougher.output.recovery  \\\n",
       "0                                 -499.709414                89.993421   \n",
       "1                                 -499.819438                88.089657   \n",
       "2                                 -500.622559                88.412756   \n",
       "3                                 -498.709987                87.360133   \n",
       "4                                 -500.856333                83.236367   \n",
       "\n",
       "   final.output.recovery  \n",
       "0              70.273583  \n",
       "1              68.910432  \n",
       "2              68.143213  \n",
       "3              67.776393  \n",
       "4              61.467078  "
      ]
     },
     "execution_count": 53,
     "metadata": {},
     "output_type": "execute_result"
    }
   ],
   "source": [
    "test.head()"
   ]
  },
  {
   "cell_type": "markdown",
   "metadata": {},
   "source": [
    "Посмотрим долю пропусков в тестовой выборке:"
   ]
  },
  {
   "cell_type": "code",
   "execution_count": 54,
   "metadata": {},
   "outputs": [
    {
     "data": {
      "text/plain": [
       "date                                          0.000000\n",
       "primary_cleaner.input.sulfate                 0.000756\n",
       "primary_cleaner.input.depressant              0.000945\n",
       "primary_cleaner.input.feed_size               0.000000\n",
       "primary_cleaner.input.xanthate                0.000756\n",
       "primary_cleaner.state.floatbank8_a_air        0.000000\n",
       "primary_cleaner.state.floatbank8_a_level      0.000000\n",
       "primary_cleaner.state.floatbank8_b_air        0.000000\n",
       "primary_cleaner.state.floatbank8_b_level      0.000000\n",
       "primary_cleaner.state.floatbank8_c_air        0.000000\n",
       "primary_cleaner.state.floatbank8_c_level      0.000000\n",
       "primary_cleaner.state.floatbank8_d_air        0.000000\n",
       "primary_cleaner.state.floatbank8_d_level      0.000000\n",
       "rougher.input.feed_ag                         0.000000\n",
       "rougher.input.feed_pb                         0.000000\n",
       "rougher.input.feed_rate                       0.000567\n",
       "rougher.input.feed_size                       0.000189\n",
       "rougher.input.feed_sol                        0.003970\n",
       "rougher.input.feed_au                         0.000000\n",
       "rougher.input.floatbank10_sulfate             0.000945\n",
       "rougher.input.floatbank10_xanthate            0.000000\n",
       "rougher.input.floatbank11_sulfate             0.001512\n",
       "rougher.input.floatbank11_xanthate            0.004726\n",
       "rougher.state.floatbank10_a_air               0.000000\n",
       "rougher.state.floatbank10_a_level             0.000000\n",
       "rougher.state.floatbank10_b_air               0.000000\n",
       "rougher.state.floatbank10_b_level             0.000000\n",
       "rougher.state.floatbank10_c_air               0.000000\n",
       "rougher.state.floatbank10_c_level             0.000000\n",
       "rougher.state.floatbank10_d_air               0.000000\n",
       "rougher.state.floatbank10_d_level             0.000000\n",
       "rougher.state.floatbank10_e_air               0.000000\n",
       "rougher.state.floatbank10_e_level             0.000000\n",
       "rougher.state.floatbank10_f_air               0.000000\n",
       "rougher.state.floatbank10_f_level             0.000000\n",
       "secondary_cleaner.state.floatbank2_a_air      0.000567\n",
       "secondary_cleaner.state.floatbank2_a_level    0.000000\n",
       "secondary_cleaner.state.floatbank2_b_air      0.000378\n",
       "secondary_cleaner.state.floatbank2_b_level    0.000000\n",
       "secondary_cleaner.state.floatbank3_a_air      0.001701\n",
       "secondary_cleaner.state.floatbank3_a_level    0.000000\n",
       "secondary_cleaner.state.floatbank3_b_air      0.000000\n",
       "secondary_cleaner.state.floatbank3_b_level    0.000000\n",
       "secondary_cleaner.state.floatbank4_a_air      0.000000\n",
       "secondary_cleaner.state.floatbank4_a_level    0.000000\n",
       "secondary_cleaner.state.floatbank4_b_air      0.000000\n",
       "secondary_cleaner.state.floatbank4_b_level    0.000000\n",
       "secondary_cleaner.state.floatbank5_a_air      0.000000\n",
       "secondary_cleaner.state.floatbank5_a_level    0.000000\n",
       "secondary_cleaner.state.floatbank5_b_air      0.000000\n",
       "secondary_cleaner.state.floatbank5_b_level    0.000000\n",
       "secondary_cleaner.state.floatbank6_a_air      0.000000\n",
       "secondary_cleaner.state.floatbank6_a_level    0.000000\n",
       "rougher.output.recovery                       0.000000\n",
       "final.output.recovery                         0.000000\n",
       "dtype: float64"
      ]
     },
     "execution_count": 54,
     "metadata": {},
     "output_type": "execute_result"
    }
   ],
   "source": [
    "test.isna().mean()"
   ]
  },
  {
   "cell_type": "markdown",
   "metadata": {},
   "source": [
    "Посмотрим размер тестовой выборки:"
   ]
  },
  {
   "cell_type": "code",
   "execution_count": 55,
   "metadata": {},
   "outputs": [
    {
     "data": {
      "text/plain": [
       "(5290, 55)"
      ]
     },
     "execution_count": 55,
     "metadata": {},
     "output_type": "execute_result"
    }
   ],
   "source": [
    "test.shape"
   ]
  },
  {
   "cell_type": "markdown",
   "metadata": {},
   "source": [
    "Удалим пропуски:"
   ]
  },
  {
   "cell_type": "code",
   "execution_count": 56,
   "metadata": {},
   "outputs": [],
   "source": [
    "test = test.dropna().reset_index(drop=True)"
   ]
  },
  {
   "cell_type": "markdown",
   "metadata": {},
   "source": [
    "Посмотрим, что получилось:"
   ]
  },
  {
   "cell_type": "code",
   "execution_count": 57,
   "metadata": {},
   "outputs": [
    {
     "name": "stdout",
     "output_type": "stream",
     "text": [
      "<class 'pandas.core.frame.DataFrame'>\n",
      "RangeIndex: 5229 entries, 0 to 5228\n",
      "Data columns (total 55 columns):\n",
      "date                                          5229 non-null bool\n",
      "primary_cleaner.input.sulfate                 5229 non-null bool\n",
      "primary_cleaner.input.depressant              5229 non-null bool\n",
      "primary_cleaner.input.feed_size               5229 non-null bool\n",
      "primary_cleaner.input.xanthate                5229 non-null bool\n",
      "primary_cleaner.state.floatbank8_a_air        5229 non-null bool\n",
      "primary_cleaner.state.floatbank8_a_level      5229 non-null bool\n",
      "primary_cleaner.state.floatbank8_b_air        5229 non-null bool\n",
      "primary_cleaner.state.floatbank8_b_level      5229 non-null bool\n",
      "primary_cleaner.state.floatbank8_c_air        5229 non-null bool\n",
      "primary_cleaner.state.floatbank8_c_level      5229 non-null bool\n",
      "primary_cleaner.state.floatbank8_d_air        5229 non-null bool\n",
      "primary_cleaner.state.floatbank8_d_level      5229 non-null bool\n",
      "rougher.input.feed_ag                         5229 non-null bool\n",
      "rougher.input.feed_pb                         5229 non-null bool\n",
      "rougher.input.feed_rate                       5229 non-null bool\n",
      "rougher.input.feed_size                       5229 non-null bool\n",
      "rougher.input.feed_sol                        5229 non-null bool\n",
      "rougher.input.feed_au                         5229 non-null bool\n",
      "rougher.input.floatbank10_sulfate             5229 non-null bool\n",
      "rougher.input.floatbank10_xanthate            5229 non-null bool\n",
      "rougher.input.floatbank11_sulfate             5229 non-null bool\n",
      "rougher.input.floatbank11_xanthate            5229 non-null bool\n",
      "rougher.state.floatbank10_a_air               5229 non-null bool\n",
      "rougher.state.floatbank10_a_level             5229 non-null bool\n",
      "rougher.state.floatbank10_b_air               5229 non-null bool\n",
      "rougher.state.floatbank10_b_level             5229 non-null bool\n",
      "rougher.state.floatbank10_c_air               5229 non-null bool\n",
      "rougher.state.floatbank10_c_level             5229 non-null bool\n",
      "rougher.state.floatbank10_d_air               5229 non-null bool\n",
      "rougher.state.floatbank10_d_level             5229 non-null bool\n",
      "rougher.state.floatbank10_e_air               5229 non-null bool\n",
      "rougher.state.floatbank10_e_level             5229 non-null bool\n",
      "rougher.state.floatbank10_f_air               5229 non-null bool\n",
      "rougher.state.floatbank10_f_level             5229 non-null bool\n",
      "secondary_cleaner.state.floatbank2_a_air      5229 non-null bool\n",
      "secondary_cleaner.state.floatbank2_a_level    5229 non-null bool\n",
      "secondary_cleaner.state.floatbank2_b_air      5229 non-null bool\n",
      "secondary_cleaner.state.floatbank2_b_level    5229 non-null bool\n",
      "secondary_cleaner.state.floatbank3_a_air      5229 non-null bool\n",
      "secondary_cleaner.state.floatbank3_a_level    5229 non-null bool\n",
      "secondary_cleaner.state.floatbank3_b_air      5229 non-null bool\n",
      "secondary_cleaner.state.floatbank3_b_level    5229 non-null bool\n",
      "secondary_cleaner.state.floatbank4_a_air      5229 non-null bool\n",
      "secondary_cleaner.state.floatbank4_a_level    5229 non-null bool\n",
      "secondary_cleaner.state.floatbank4_b_air      5229 non-null bool\n",
      "secondary_cleaner.state.floatbank4_b_level    5229 non-null bool\n",
      "secondary_cleaner.state.floatbank5_a_air      5229 non-null bool\n",
      "secondary_cleaner.state.floatbank5_a_level    5229 non-null bool\n",
      "secondary_cleaner.state.floatbank5_b_air      5229 non-null bool\n",
      "secondary_cleaner.state.floatbank5_b_level    5229 non-null bool\n",
      "secondary_cleaner.state.floatbank6_a_air      5229 non-null bool\n",
      "secondary_cleaner.state.floatbank6_a_level    5229 non-null bool\n",
      "rougher.output.recovery                       5229 non-null bool\n",
      "final.output.recovery                         5229 non-null bool\n",
      "dtypes: bool(55)\n",
      "memory usage: 281.0 KB\n"
     ]
    }
   ],
   "source": [
    "test.isna().info()"
   ]
  },
  {
   "cell_type": "markdown",
   "metadata": {},
   "source": [
    "Определим признаки для тестовой выборки:"
   ]
  },
  {
   "cell_type": "code",
   "execution_count": 58,
   "metadata": {},
   "outputs": [],
   "source": [
    "features_test = test.drop(['date', 'rougher.output.recovery', 'final.output.recovery'], axis=1)"
   ]
  },
  {
   "cell_type": "markdown",
   "metadata": {},
   "source": [
    "Определим целевые признаки:"
   ]
  },
  {
   "cell_type": "code",
   "execution_count": 59,
   "metadata": {},
   "outputs": [],
   "source": [
    "target_test = test[['rougher.output.recovery', 'final.output.recovery']]"
   ]
  },
  {
   "cell_type": "markdown",
   "metadata": {},
   "source": [
    "Получим предсказания лучшей модели на тестовой выборке:"
   ]
  },
  {
   "cell_type": "code",
   "execution_count": 60,
   "metadata": {},
   "outputs": [],
   "source": [
    "predictions_test = model.predict(features_test)"
   ]
  },
  {
   "cell_type": "markdown",
   "metadata": {},
   "source": [
    "Посмотрим метрику:"
   ]
  },
  {
   "cell_type": "code",
   "execution_count": 61,
   "metadata": {},
   "outputs": [
    {
     "data": {
      "text/plain": [
       "8.786241623965761"
      ]
     },
     "execution_count": 61,
     "metadata": {},
     "output_type": "execute_result"
    }
   ],
   "source": [
    "smape(target_test, predictions_test)"
   ]
  },
  {
   "cell_type": "markdown",
   "metadata": {},
   "source": [
    "Посмотрим метрику константной модели:"
   ]
  },
  {
   "cell_type": "code",
   "execution_count": 62,
   "metadata": {},
   "outputs": [],
   "source": [
    "dummy = DummyRegressor(strategy='median')"
   ]
  },
  {
   "cell_type": "code",
   "execution_count": 63,
   "metadata": {},
   "outputs": [
    {
     "data": {
      "text/plain": [
       "DummyRegressor(constant=None, quantile=None, strategy='median')"
      ]
     },
     "execution_count": 63,
     "metadata": {},
     "output_type": "execute_result"
    }
   ],
   "source": [
    "dummy.fit(features, target)"
   ]
  },
  {
   "cell_type": "code",
   "execution_count": 64,
   "metadata": {},
   "outputs": [],
   "source": [
    "predictions_dummy = dummy.predict(features_test)"
   ]
  },
  {
   "cell_type": "code",
   "execution_count": 65,
   "metadata": {},
   "outputs": [
    {
     "data": {
      "text/plain": [
       "9.012702307130947"
      ]
     },
     "execution_count": 65,
     "metadata": {},
     "output_type": "execute_result"
    }
   ],
   "source": [
    "smape(target_test, predictions_dummy)"
   ]
  },
  {
   "cell_type": "markdown",
   "metadata": {},
   "source": [
    "### Вывод"
   ]
  },
  {
   "cell_type": "markdown",
   "metadata": {},
   "source": [
    "Определены признаки и целевой признак. К признакам относятся все признаки тестовой выборки, за исключением 'date', т.к. дата не влияет на эффективность обогащения концентрата и утяжелит обучение модели. Целевых признаков два:\n",
    "\n",
    "* эффективность обогащения чернового концентрата,\n",
    "* эффективность обогащения финального концентрата.\n",
    "\n",
    "На обучающем наборе данных обучены и проверены методом кросс-валидации модели, итоговые метрики sMAPE моделей:\n",
    "\n",
    "* линейная регрессия 10.029,\n",
    "* случайный лес 8.647.\n",
    "\n",
    "Лучшей моделью является случайный лес, итоговая метрика sMAPE на тестовой выборке 8.786."
   ]
  },
  {
   "cell_type": "markdown",
   "metadata": {},
   "source": [
    "## Общий вывод"
   ]
  },
  {
   "cell_type": "markdown",
   "metadata": {},
   "source": [
    "Данные изучены, доля пропусков в данных около 10%, пропуски заполнены ближайшими по времени значениями, дубликатов в данных нет.\n",
    "\n",
    "Проведен исследовательский анализ данных, в ходе анализа выявлены аномальные нулевые значения суммарной концентрации металлов на всех этапах обработки, аномальные значения удалены.\n",
    "\n",
    "В качестве метрики оценки моделей используется sMAPE, т.к. прогнозируем сразу две величины, итогвая sMAPE складываетя из двух соответствующих величин.\n",
    "\n",
    "На обучающем наборе данных обучены и проверены методом кросс-валидации модели, итоговые метрики sMape моделей:\n",
    "\n",
    "* линейная регрессия 10.029,\n",
    "* случайный лес 8.647.\n",
    "\n",
    "Лучшей моделью является случайный лес, итоговая метрика sMAPE на тестовой выборке 8.786."
   ]
  }
 ],
 "metadata": {
  "ExecuteTimeLog": [
   {
    "duration": 851,
    "start_time": "2021-06-28T12:17:04.424Z"
   },
   {
    "duration": 2636,
    "start_time": "2021-06-28T12:17:55.065Z"
   },
   {
    "duration": 2451,
    "start_time": "2021-06-28T12:19:23.877Z"
   },
   {
    "duration": 366,
    "start_time": "2021-06-28T12:19:31.965Z"
   },
   {
    "duration": 42,
    "start_time": "2021-06-28T12:19:42.950Z"
   },
   {
    "duration": 25,
    "start_time": "2021-06-28T12:19:54.315Z"
   },
   {
    "duration": 102,
    "start_time": "2021-06-28T12:21:34.187Z"
   },
   {
    "duration": 34,
    "start_time": "2021-06-28T12:21:45.626Z"
   },
   {
    "duration": 16,
    "start_time": "2021-06-28T12:22:23.983Z"
   },
   {
    "duration": 507,
    "start_time": "2021-06-28T12:22:47.244Z"
   },
   {
    "duration": 30,
    "start_time": "2021-06-28T12:22:55.656Z"
   },
   {
    "duration": 374,
    "start_time": "2021-06-28T12:23:05.849Z"
   },
   {
    "duration": 27,
    "start_time": "2021-06-28T12:23:10.407Z"
   },
   {
    "duration": 800,
    "start_time": "2021-06-28T12:40:34.448Z"
   },
   {
    "duration": 374,
    "start_time": "2021-06-28T12:40:53.754Z"
   },
   {
    "duration": 91,
    "start_time": "2021-06-28T12:41:00.354Z"
   },
   {
    "duration": 58,
    "start_time": "2021-06-28T12:42:38.432Z"
   },
   {
    "duration": 148,
    "start_time": "2021-06-28T12:43:18.418Z"
   },
   {
    "duration": 1547,
    "start_time": "2021-06-28T13:12:44.932Z"
   },
   {
    "duration": 13,
    "start_time": "2021-06-28T13:13:01.858Z"
   },
   {
    "duration": 371,
    "start_time": "2021-06-28T13:16:11.588Z"
   },
   {
    "duration": 386,
    "start_time": "2021-06-28T13:16:16.277Z"
   },
   {
    "duration": 10,
    "start_time": "2021-06-28T13:16:37.214Z"
   },
   {
    "duration": 11,
    "start_time": "2021-06-28T13:16:41.184Z"
   },
   {
    "duration": 13,
    "start_time": "2021-06-28T13:16:50.493Z"
   },
   {
    "duration": 358,
    "start_time": "2021-06-28T13:18:39.068Z"
   },
   {
    "duration": 357,
    "start_time": "2021-06-28T13:19:11.595Z"
   },
   {
    "duration": 5,
    "start_time": "2021-06-28T13:23:58.478Z"
   },
   {
    "duration": 14,
    "start_time": "2021-06-28T13:45:31.755Z"
   },
   {
    "duration": 14,
    "start_time": "2021-06-28T13:46:04.626Z"
   },
   {
    "duration": 288,
    "start_time": "2021-06-30T12:56:58.460Z"
   },
   {
    "duration": 756,
    "start_time": "2021-06-30T12:57:02.534Z"
   },
   {
    "duration": 336,
    "start_time": "2021-06-30T12:57:11.857Z"
   },
   {
    "duration": 97,
    "start_time": "2021-06-30T12:59:04.124Z"
   },
   {
    "duration": 23,
    "start_time": "2021-06-30T12:59:11.270Z"
   },
   {
    "duration": 109,
    "start_time": "2021-06-30T13:02:51.368Z"
   },
   {
    "duration": 59,
    "start_time": "2021-06-30T13:02:52.117Z"
   },
   {
    "duration": 16,
    "start_time": "2021-06-30T13:02:53.392Z"
   },
   {
    "duration": 2953,
    "start_time": "2021-06-30T13:03:06.807Z"
   },
   {
    "duration": 983,
    "start_time": "2021-06-30T13:03:08.780Z"
   },
   {
    "duration": 982,
    "start_time": "2021-06-30T13:03:08.782Z"
   },
   {
    "duration": 460,
    "start_time": "2021-06-30T13:03:17.805Z"
   },
   {
    "duration": 86,
    "start_time": "2021-06-30T13:03:19.099Z"
   },
   {
    "duration": 25,
    "start_time": "2021-06-30T13:03:19.975Z"
   },
   {
    "duration": 8,
    "start_time": "2021-06-30T13:08:22.748Z"
   },
   {
    "duration": 14,
    "start_time": "2021-06-30T13:26:14.039Z"
   },
   {
    "duration": 4,
    "start_time": "2021-06-30T13:26:15.389Z"
   },
   {
    "duration": 495,
    "start_time": "2021-06-30T13:26:16.705Z"
   },
   {
    "duration": 85,
    "start_time": "2021-06-30T13:26:25.951Z"
   },
   {
    "duration": 27,
    "start_time": "2021-06-30T13:29:47.063Z"
   },
   {
    "duration": 10,
    "start_time": "2021-06-30T13:37:58.487Z"
   },
   {
    "duration": 13,
    "start_time": "2021-06-30T13:37:59.943Z"
   },
   {
    "duration": 22,
    "start_time": "2021-06-30T13:38:03.701Z"
   },
   {
    "duration": 4,
    "start_time": "2021-06-30T13:38:21.257Z"
   },
   {
    "duration": 509,
    "start_time": "2021-06-30T13:39:14.893Z"
   },
   {
    "duration": 85,
    "start_time": "2021-06-30T13:39:16.573Z"
   },
   {
    "duration": 22,
    "start_time": "2021-06-30T13:40:06.977Z"
   },
   {
    "duration": 5,
    "start_time": "2021-06-30T13:40:08.325Z"
   },
   {
    "duration": 500,
    "start_time": "2021-06-30T13:40:09.433Z"
   },
   {
    "duration": 86,
    "start_time": "2021-06-30T13:40:10.562Z"
   },
   {
    "duration": 21,
    "start_time": "2021-06-30T13:40:16.099Z"
   },
   {
    "duration": 4,
    "start_time": "2021-06-30T13:42:43.597Z"
   },
   {
    "duration": 472,
    "start_time": "2021-06-30T13:42:44.301Z"
   },
   {
    "duration": 88,
    "start_time": "2021-06-30T13:42:44.970Z"
   },
   {
    "duration": 4,
    "start_time": "2021-06-30T13:43:02.287Z"
   },
   {
    "duration": 495,
    "start_time": "2021-06-30T13:43:02.805Z"
   },
   {
    "duration": 95,
    "start_time": "2021-06-30T13:43:03.307Z"
   },
   {
    "duration": 6,
    "start_time": "2021-06-30T13:43:17.798Z"
   },
   {
    "duration": 479,
    "start_time": "2021-06-30T13:43:18.271Z"
   },
   {
    "duration": 86,
    "start_time": "2021-06-30T13:43:18.755Z"
   },
   {
    "duration": 4,
    "start_time": "2021-06-30T13:43:34.098Z"
   },
   {
    "duration": 548,
    "start_time": "2021-06-30T13:43:34.596Z"
   },
   {
    "duration": 89,
    "start_time": "2021-06-30T13:43:35.147Z"
   },
   {
    "duration": 85,
    "start_time": "2021-06-30T13:51:45.804Z"
   },
   {
    "duration": 4,
    "start_time": "2021-06-30T13:58:42.904Z"
   },
   {
    "duration": 601,
    "start_time": "2021-06-30T13:58:43.545Z"
   },
   {
    "duration": 87,
    "start_time": "2021-06-30T13:58:50.724Z"
   },
   {
    "duration": 4,
    "start_time": "2021-06-30T13:59:13.956Z"
   },
   {
    "duration": 484,
    "start_time": "2021-06-30T13:59:14.408Z"
   },
   {
    "duration": 102,
    "start_time": "2021-06-30T13:59:14.894Z"
   },
   {
    "duration": 6,
    "start_time": "2021-06-30T14:31:05.713Z"
   },
   {
    "duration": 20,
    "start_time": "2021-06-30T14:48:33.673Z"
   },
   {
    "duration": 8,
    "start_time": "2021-06-30T14:49:01.940Z"
   },
   {
    "duration": 8,
    "start_time": "2021-06-30T14:49:10.867Z"
   },
   {
    "duration": 7,
    "start_time": "2021-06-30T14:49:17.728Z"
   },
   {
    "duration": 602,
    "start_time": "2021-06-30T14:59:19.486Z"
   },
   {
    "duration": 7,
    "start_time": "2021-06-30T15:00:38.295Z"
   },
   {
    "duration": 222,
    "start_time": "2021-07-01T12:18:13.175Z"
   },
   {
    "duration": 959,
    "start_time": "2021-07-01T12:18:24.828Z"
   },
   {
    "duration": 353,
    "start_time": "2021-07-01T12:18:25.788Z"
   },
   {
    "duration": 65,
    "start_time": "2021-07-01T12:18:33.359Z"
   },
   {
    "duration": 4728,
    "start_time": "2021-07-01T12:19:12.684Z"
   },
   {
    "duration": -490,
    "start_time": "2021-07-01T12:19:17.904Z"
   },
   {
    "duration": 7,
    "start_time": "2021-07-01T12:19:36.016Z"
   },
   {
    "duration": 55,
    "start_time": "2021-07-01T12:19:37.171Z"
   },
   {
    "duration": 966,
    "start_time": "2021-07-01T12:19:50.525Z"
   },
   {
    "duration": 274,
    "start_time": "2021-07-01T12:19:51.493Z"
   },
   {
    "duration": 67,
    "start_time": "2021-07-01T12:19:51.769Z"
   },
   {
    "duration": 14,
    "start_time": "2021-07-01T12:19:51.838Z"
   },
   {
    "duration": 90,
    "start_time": "2021-07-01T12:19:51.854Z"
   },
   {
    "duration": 46,
    "start_time": "2021-07-01T12:19:51.946Z"
   },
   {
    "duration": 10,
    "start_time": "2021-07-01T12:19:51.993Z"
   },
   {
    "duration": 357,
    "start_time": "2021-07-01T12:19:52.005Z"
   },
   {
    "duration": 61,
    "start_time": "2021-07-01T12:19:52.364Z"
   },
   {
    "duration": 15,
    "start_time": "2021-07-01T12:19:52.427Z"
   },
   {
    "duration": 7,
    "start_time": "2021-07-01T12:19:52.444Z"
   },
   {
    "duration": 43,
    "start_time": "2021-07-01T12:19:52.453Z"
   },
   {
    "duration": 3,
    "start_time": "2021-07-01T12:19:52.498Z"
   },
   {
    "duration": 358,
    "start_time": "2021-07-01T12:19:52.503Z"
   },
   {
    "duration": 5,
    "start_time": "2021-07-01T12:19:52.863Z"
   },
   {
    "duration": 15,
    "start_time": "2021-07-01T12:19:52.870Z"
   },
   {
    "duration": 2,
    "start_time": "2021-07-01T12:19:52.887Z"
   },
   {
    "duration": 56,
    "start_time": "2021-07-01T12:19:52.890Z"
   },
   {
    "duration": 7,
    "start_time": "2021-07-01T12:19:58.545Z"
   },
   {
    "duration": 59,
    "start_time": "2021-07-01T12:20:02.538Z"
   },
   {
    "duration": 7,
    "start_time": "2021-07-01T12:21:28.382Z"
   },
   {
    "duration": 57,
    "start_time": "2021-07-01T12:21:31.622Z"
   },
   {
    "duration": 10,
    "start_time": "2021-07-01T12:28:47.408Z"
   },
   {
    "duration": 58,
    "start_time": "2021-07-01T12:28:49.613Z"
   },
   {
    "duration": 14,
    "start_time": "2021-07-01T12:28:59.571Z"
   },
   {
    "duration": 280,
    "start_time": "2021-07-01T12:42:07.304Z"
   },
   {
    "duration": 89,
    "start_time": "2021-07-01T12:42:14.546Z"
   },
   {
    "duration": 278,
    "start_time": "2021-07-01T12:46:28.909Z"
   },
   {
    "duration": 307,
    "start_time": "2021-07-01T12:46:52.838Z"
   },
   {
    "duration": 312,
    "start_time": "2021-07-01T12:47:46.989Z"
   },
   {
    "duration": 300,
    "start_time": "2021-07-01T12:48:18.238Z"
   },
   {
    "duration": 331,
    "start_time": "2021-07-01T12:48:44.887Z"
   },
   {
    "duration": 323,
    "start_time": "2021-07-01T12:49:04.945Z"
   },
   {
    "duration": 394,
    "start_time": "2021-07-01T12:49:20.226Z"
   },
   {
    "duration": 389,
    "start_time": "2021-07-01T12:50:53.107Z"
   },
   {
    "duration": 371,
    "start_time": "2021-07-01T12:52:07.279Z"
   },
   {
    "duration": 360,
    "start_time": "2021-07-01T12:53:13.969Z"
   },
   {
    "duration": 350,
    "start_time": "2021-07-01T12:53:48.409Z"
   },
   {
    "duration": 335,
    "start_time": "2021-07-01T12:56:11.964Z"
   },
   {
    "duration": 382,
    "start_time": "2021-07-01T12:58:03.002Z"
   },
   {
    "duration": 383,
    "start_time": "2021-07-01T12:58:36.656Z"
   },
   {
    "duration": 379,
    "start_time": "2021-07-01T12:59:09.263Z"
   },
   {
    "duration": 403,
    "start_time": "2021-07-01T12:59:40.748Z"
   },
   {
    "duration": 386,
    "start_time": "2021-07-01T12:59:47.329Z"
   },
   {
    "duration": 498,
    "start_time": "2021-07-01T12:59:53.251Z"
   },
   {
    "duration": 325,
    "start_time": "2021-07-01T13:13:36.544Z"
   },
   {
    "duration": 320,
    "start_time": "2021-07-01T13:15:00.491Z"
   },
   {
    "duration": 317,
    "start_time": "2021-07-01T13:15:29.425Z"
   },
   {
    "duration": 328,
    "start_time": "2021-07-01T13:16:55.498Z"
   },
   {
    "duration": 318,
    "start_time": "2021-07-01T13:17:12.509Z"
   },
   {
    "duration": 240,
    "start_time": "2021-07-01T13:34:42.922Z"
   },
   {
    "duration": 263,
    "start_time": "2021-07-01T13:41:21.134Z"
   },
   {
    "duration": 256,
    "start_time": "2021-07-01T13:41:50.782Z"
   },
   {
    "duration": 259,
    "start_time": "2021-07-01T13:42:03.787Z"
   },
   {
    "duration": 254,
    "start_time": "2021-07-01T13:42:15.367Z"
   },
   {
    "duration": 343,
    "start_time": "2021-07-01T13:42:55.132Z"
   },
   {
    "duration": 264,
    "start_time": "2021-07-01T13:43:09.905Z"
   },
   {
    "duration": 259,
    "start_time": "2021-07-01T13:43:27.550Z"
   },
   {
    "duration": 276,
    "start_time": "2021-07-01T13:48:03.758Z"
   },
   {
    "duration": 311,
    "start_time": "2021-07-01T13:50:11.908Z"
   },
   {
    "duration": 364,
    "start_time": "2021-07-01T13:52:37.471Z"
   },
   {
    "duration": 352,
    "start_time": "2021-07-01T13:53:39.678Z"
   },
   {
    "duration": 356,
    "start_time": "2021-07-01T13:53:53.378Z"
   },
   {
    "duration": 357,
    "start_time": "2021-07-01T13:54:05.665Z"
   },
   {
    "duration": 357,
    "start_time": "2021-07-01T13:54:46.701Z"
   },
   {
    "duration": 357,
    "start_time": "2021-07-01T13:55:54.262Z"
   },
   {
    "duration": 435,
    "start_time": "2021-07-01T13:56:16.508Z"
   },
   {
    "duration": 9,
    "start_time": "2021-07-01T13:57:02.017Z"
   },
   {
    "duration": 12,
    "start_time": "2021-07-01T13:57:18.707Z"
   },
   {
    "duration": 358,
    "start_time": "2021-07-01T13:57:42.227Z"
   },
   {
    "duration": 343,
    "start_time": "2021-07-01T13:57:59.845Z"
   },
   {
    "duration": 288,
    "start_time": "2021-07-01T13:58:31.419Z"
   },
   {
    "duration": 57,
    "start_time": "2021-07-01T16:11:41.363Z"
   },
   {
    "duration": 56,
    "start_time": "2021-07-01T16:12:29.705Z"
   },
   {
    "duration": 5164,
    "start_time": "2021-07-01T16:12:43.539Z"
   },
   {
    "duration": 201,
    "start_time": "2021-07-01T16:13:55.613Z"
   },
   {
    "duration": 8,
    "start_time": "2021-07-01T16:14:32.187Z"
   },
   {
    "duration": 198,
    "start_time": "2021-07-01T16:14:33.148Z"
   },
   {
    "duration": 56,
    "start_time": "2021-07-01T16:14:56.038Z"
   },
   {
    "duration": 248,
    "start_time": "2021-07-01T16:15:23.872Z"
   },
   {
    "duration": 7,
    "start_time": "2021-07-01T16:16:03.545Z"
   },
   {
    "duration": 209,
    "start_time": "2021-07-01T16:16:06.100Z"
   },
   {
    "duration": 7,
    "start_time": "2021-07-01T16:16:34.056Z"
   },
   {
    "duration": 212,
    "start_time": "2021-07-01T16:16:37.459Z"
   },
   {
    "duration": 237,
    "start_time": "2021-07-01T16:17:11.045Z"
   },
   {
    "duration": 6,
    "start_time": "2021-07-01T16:17:33.819Z"
   },
   {
    "duration": 21,
    "start_time": "2021-07-01T16:17:37.931Z"
   },
   {
    "duration": 363,
    "start_time": "2021-07-01T16:18:24.331Z"
   },
   {
    "duration": 259,
    "start_time": "2021-07-01T16:18:40.511Z"
   },
   {
    "duration": 5,
    "start_time": "2021-07-01T16:19:42.589Z"
   },
   {
    "duration": 9,
    "start_time": "2021-07-01T16:20:22.749Z"
   },
   {
    "duration": 1031,
    "start_time": "2021-07-01T16:20:44.183Z"
   },
   {
    "duration": 267,
    "start_time": "2021-07-01T16:20:45.215Z"
   },
   {
    "duration": 59,
    "start_time": "2021-07-01T16:20:45.485Z"
   },
   {
    "duration": 15,
    "start_time": "2021-07-01T16:20:45.546Z"
   },
   {
    "duration": 90,
    "start_time": "2021-07-01T16:20:45.562Z"
   },
   {
    "duration": 39,
    "start_time": "2021-07-01T16:20:45.653Z"
   },
   {
    "duration": 10,
    "start_time": "2021-07-01T16:20:45.694Z"
   },
   {
    "duration": 350,
    "start_time": "2021-07-01T16:20:45.706Z"
   },
   {
    "duration": 59,
    "start_time": "2021-07-01T16:20:46.058Z"
   },
   {
    "duration": 15,
    "start_time": "2021-07-01T16:20:46.119Z"
   },
   {
    "duration": 7,
    "start_time": "2021-07-01T16:20:46.136Z"
   },
   {
    "duration": 40,
    "start_time": "2021-07-01T16:20:46.145Z"
   },
   {
    "duration": 3,
    "start_time": "2021-07-01T16:20:46.186Z"
   },
   {
    "duration": 312,
    "start_time": "2021-07-01T16:20:46.191Z"
   },
   {
    "duration": 5,
    "start_time": "2021-07-01T16:20:46.504Z"
   },
   {
    "duration": 6,
    "start_time": "2021-07-01T16:20:46.510Z"
   },
   {
    "duration": 7,
    "start_time": "2021-07-01T16:20:46.518Z"
   },
   {
    "duration": 6,
    "start_time": "2021-07-01T16:20:46.527Z"
   },
   {
    "duration": 8,
    "start_time": "2021-07-01T16:20:46.535Z"
   },
   {
    "duration": 77,
    "start_time": "2021-07-01T16:20:46.545Z"
   },
   {
    "duration": 13,
    "start_time": "2021-07-01T16:20:46.624Z"
   },
   {
    "duration": 361,
    "start_time": "2021-07-01T16:20:46.639Z"
   },
   {
    "duration": 337,
    "start_time": "2021-07-01T16:20:47.001Z"
   },
   {
    "duration": 325,
    "start_time": "2021-07-01T16:20:47.339Z"
   },
   {
    "duration": 290,
    "start_time": "2021-07-01T16:20:47.666Z"
   },
   {
    "duration": 341,
    "start_time": "2021-07-01T16:20:47.958Z"
   },
   {
    "duration": 8,
    "start_time": "2021-07-01T16:20:48.302Z"
   },
   {
    "duration": 56,
    "start_time": "2021-07-01T16:20:48.311Z"
   },
   {
    "duration": 293,
    "start_time": "2021-07-01T16:20:48.369Z"
   },
   {
    "duration": -136,
    "start_time": "2021-07-01T16:20:48.799Z"
   },
   {
    "duration": 7,
    "start_time": "2021-07-01T16:21:07.877Z"
   },
   {
    "duration": 209,
    "start_time": "2021-07-01T16:21:34.455Z"
   },
   {
    "duration": 177,
    "start_time": "2021-07-01T16:21:48.891Z"
   },
   {
    "duration": 283,
    "start_time": "2021-07-01T16:22:20.955Z"
   },
   {
    "duration": 192,
    "start_time": "2021-07-01T16:23:22.931Z"
   },
   {
    "duration": 198,
    "start_time": "2021-07-01T16:23:33.870Z"
   },
   {
    "duration": 7,
    "start_time": "2021-07-01T16:26:06.656Z"
   },
   {
    "duration": 60,
    "start_time": "2021-07-01T16:26:08.389Z"
   },
   {
    "duration": 114,
    "start_time": "2021-07-01T16:26:42.407Z"
   },
   {
    "duration": 4895,
    "start_time": "2021-07-01T16:29:53.298Z"
   },
   {
    "duration": 1060,
    "start_time": "2021-07-01T16:30:06.625Z"
   },
   {
    "duration": 283,
    "start_time": "2021-07-01T16:30:07.687Z"
   },
   {
    "duration": 67,
    "start_time": "2021-07-01T16:30:07.975Z"
   },
   {
    "duration": 16,
    "start_time": "2021-07-01T16:30:08.043Z"
   },
   {
    "duration": 99,
    "start_time": "2021-07-01T16:30:08.061Z"
   },
   {
    "duration": 45,
    "start_time": "2021-07-01T16:30:08.162Z"
   },
   {
    "duration": 20,
    "start_time": "2021-07-01T16:30:08.209Z"
   },
   {
    "duration": 384,
    "start_time": "2021-07-01T16:30:08.232Z"
   },
   {
    "duration": 56,
    "start_time": "2021-07-01T16:30:08.618Z"
   },
   {
    "duration": 16,
    "start_time": "2021-07-01T16:30:08.684Z"
   },
   {
    "duration": 7,
    "start_time": "2021-07-01T16:30:08.702Z"
   },
   {
    "duration": 20,
    "start_time": "2021-07-01T16:30:08.710Z"
   },
   {
    "duration": 3,
    "start_time": "2021-07-01T16:30:08.732Z"
   },
   {
    "duration": 333,
    "start_time": "2021-07-01T16:30:08.737Z"
   },
   {
    "duration": 6,
    "start_time": "2021-07-01T16:30:09.072Z"
   },
   {
    "duration": 9,
    "start_time": "2021-07-01T16:30:09.085Z"
   },
   {
    "duration": 21,
    "start_time": "2021-07-01T16:30:09.096Z"
   },
   {
    "duration": 12,
    "start_time": "2021-07-01T16:30:09.119Z"
   },
   {
    "duration": 14,
    "start_time": "2021-07-01T16:30:09.133Z"
   },
   {
    "duration": 63,
    "start_time": "2021-07-01T16:30:09.148Z"
   },
   {
    "duration": 14,
    "start_time": "2021-07-01T16:30:09.213Z"
   },
   {
    "duration": 387,
    "start_time": "2021-07-01T16:30:09.229Z"
   },
   {
    "duration": 353,
    "start_time": "2021-07-01T16:30:09.618Z"
   },
   {
    "duration": 353,
    "start_time": "2021-07-01T16:30:09.972Z"
   },
   {
    "duration": 312,
    "start_time": "2021-07-01T16:30:10.327Z"
   },
   {
    "duration": 6,
    "start_time": "2021-07-01T16:30:10.642Z"
   },
   {
    "duration": 373,
    "start_time": "2021-07-01T16:30:10.649Z"
   },
   {
    "duration": 8,
    "start_time": "2021-07-01T16:30:11.024Z"
   },
   {
    "duration": 77,
    "start_time": "2021-07-01T16:30:11.034Z"
   },
   {
    "duration": 64,
    "start_time": "2021-07-01T16:30:11.114Z"
   },
   {
    "duration": -42,
    "start_time": "2021-07-01T16:30:11.222Z"
   },
   {
    "duration": 5,
    "start_time": "2021-07-01T16:31:27.708Z"
   },
   {
    "duration": 5,
    "start_time": "2021-07-01T16:31:39.671Z"
   },
   {
    "duration": 352,
    "start_time": "2021-07-01T16:32:00.438Z"
   },
   {
    "duration": 54,
    "start_time": "2021-07-01T16:34:46.721Z"
   },
   {
    "duration": 55,
    "start_time": "2021-07-01T16:34:55.638Z"
   },
   {
    "duration": 4,
    "start_time": "2021-07-01T16:36:32.469Z"
   },
   {
    "duration": 57,
    "start_time": "2021-07-01T16:36:33.701Z"
   },
   {
    "duration": 296,
    "start_time": "2021-07-01T16:37:38.404Z"
   },
   {
    "duration": 23,
    "start_time": "2021-07-01T16:38:19.783Z"
   },
   {
    "duration": 4926,
    "start_time": "2021-07-01T16:38:56.531Z"
   },
   {
    "duration": 346,
    "start_time": "2021-07-01T16:39:27.468Z"
   },
   {
    "duration": 4469,
    "start_time": "2021-07-01T16:44:21.002Z"
   },
   {
    "duration": 1083,
    "start_time": "2021-07-01T16:44:32.597Z"
   },
   {
    "duration": 290,
    "start_time": "2021-07-01T16:44:33.682Z"
   },
   {
    "duration": 62,
    "start_time": "2021-07-01T16:44:33.984Z"
   },
   {
    "duration": 16,
    "start_time": "2021-07-01T16:44:34.048Z"
   },
   {
    "duration": 88,
    "start_time": "2021-07-01T16:44:34.066Z"
   },
   {
    "duration": 58,
    "start_time": "2021-07-01T16:44:34.156Z"
   },
   {
    "duration": 22,
    "start_time": "2021-07-01T16:44:34.216Z"
   },
   {
    "duration": 363,
    "start_time": "2021-07-01T16:44:34.240Z"
   },
   {
    "duration": 56,
    "start_time": "2021-07-01T16:44:34.604Z"
   },
   {
    "duration": 33,
    "start_time": "2021-07-01T16:44:34.662Z"
   },
   {
    "duration": 6,
    "start_time": "2021-07-01T16:44:34.697Z"
   },
   {
    "duration": 15,
    "start_time": "2021-07-01T16:44:34.705Z"
   },
   {
    "duration": 3,
    "start_time": "2021-07-01T16:44:34.722Z"
   },
   {
    "duration": 314,
    "start_time": "2021-07-01T16:44:34.726Z"
   },
   {
    "duration": 5,
    "start_time": "2021-07-01T16:44:35.041Z"
   },
   {
    "duration": 6,
    "start_time": "2021-07-01T16:44:35.048Z"
   },
   {
    "duration": 8,
    "start_time": "2021-07-01T16:44:35.055Z"
   },
   {
    "duration": 24,
    "start_time": "2021-07-01T16:44:35.065Z"
   },
   {
    "duration": 9,
    "start_time": "2021-07-01T16:44:35.090Z"
   },
   {
    "duration": 52,
    "start_time": "2021-07-01T16:44:35.101Z"
   },
   {
    "duration": 35,
    "start_time": "2021-07-01T16:44:35.154Z"
   },
   {
    "duration": 358,
    "start_time": "2021-07-01T16:44:35.190Z"
   },
   {
    "duration": 338,
    "start_time": "2021-07-01T16:44:35.549Z"
   },
   {
    "duration": 343,
    "start_time": "2021-07-01T16:44:35.888Z"
   },
   {
    "duration": 290,
    "start_time": "2021-07-01T16:44:36.232Z"
   },
   {
    "duration": 343,
    "start_time": "2021-07-01T16:44:36.525Z"
   },
   {
    "duration": 15,
    "start_time": "2021-07-01T16:44:36.870Z"
   },
   {
    "duration": 4,
    "start_time": "2021-07-01T16:44:36.886Z"
   },
   {
    "duration": 53,
    "start_time": "2021-07-01T16:44:36.892Z"
   },
   {
    "duration": 12,
    "start_time": "2021-07-01T16:44:36.947Z"
   },
   {
    "duration": 295,
    "start_time": "2021-07-01T16:44:36.960Z"
   },
   {
    "duration": 377,
    "start_time": "2021-07-01T16:46:49.538Z"
   },
   {
    "duration": 218,
    "start_time": "2021-07-01T16:47:02.670Z"
   },
   {
    "duration": 209,
    "start_time": "2021-07-01T16:49:39.996Z"
   },
   {
    "duration": 210,
    "start_time": "2021-07-01T16:49:54.293Z"
   },
   {
    "duration": 311,
    "start_time": "2021-07-01T16:50:36.430Z"
   },
   {
    "duration": 206,
    "start_time": "2021-07-01T16:51:06.321Z"
   },
   {
    "duration": 1130,
    "start_time": "2021-07-01T16:51:30.880Z"
   },
   {
    "duration": 323,
    "start_time": "2021-07-01T16:51:32.012Z"
   },
   {
    "duration": 87,
    "start_time": "2021-07-01T16:51:32.337Z"
   },
   {
    "duration": 15,
    "start_time": "2021-07-01T16:51:32.426Z"
   },
   {
    "duration": 105,
    "start_time": "2021-07-01T16:51:32.443Z"
   },
   {
    "duration": 41,
    "start_time": "2021-07-01T16:51:32.550Z"
   },
   {
    "duration": 12,
    "start_time": "2021-07-01T16:51:32.593Z"
   },
   {
    "duration": 390,
    "start_time": "2021-07-01T16:51:32.607Z"
   },
   {
    "duration": 61,
    "start_time": "2021-07-01T16:51:33.000Z"
   },
   {
    "duration": 34,
    "start_time": "2021-07-01T16:51:33.063Z"
   },
   {
    "duration": 8,
    "start_time": "2021-07-01T16:51:33.099Z"
   },
   {
    "duration": 18,
    "start_time": "2021-07-01T16:51:33.109Z"
   },
   {
    "duration": 4,
    "start_time": "2021-07-01T16:51:33.129Z"
   },
   {
    "duration": 354,
    "start_time": "2021-07-01T16:51:33.135Z"
   },
   {
    "duration": 9,
    "start_time": "2021-07-01T16:51:33.491Z"
   },
   {
    "duration": 5,
    "start_time": "2021-07-01T16:51:33.502Z"
   },
   {
    "duration": 8,
    "start_time": "2021-07-01T16:51:33.508Z"
   },
   {
    "duration": 6,
    "start_time": "2021-07-01T16:51:33.518Z"
   },
   {
    "duration": 9,
    "start_time": "2021-07-01T16:51:33.526Z"
   },
   {
    "duration": 89,
    "start_time": "2021-07-01T16:51:33.537Z"
   },
   {
    "duration": 14,
    "start_time": "2021-07-01T16:51:33.627Z"
   },
   {
    "duration": 375,
    "start_time": "2021-07-01T16:51:33.642Z"
   },
   {
    "duration": 361,
    "start_time": "2021-07-01T16:51:34.020Z"
   },
   {
    "duration": 339,
    "start_time": "2021-07-01T16:51:34.384Z"
   },
   {
    "duration": 313,
    "start_time": "2021-07-01T16:51:34.725Z"
   },
   {
    "duration": 366,
    "start_time": "2021-07-01T16:51:35.039Z"
   },
   {
    "duration": 6,
    "start_time": "2021-07-01T16:51:35.406Z"
   },
   {
    "duration": 304,
    "start_time": "2021-07-01T16:51:35.414Z"
   },
   {
    "duration": -267,
    "start_time": "2021-07-01T16:51:35.988Z"
   },
   {
    "duration": 209,
    "start_time": "2021-07-01T16:53:58.505Z"
   },
   {
    "duration": 186,
    "start_time": "2021-07-01T16:55:32.981Z"
   },
   {
    "duration": 226,
    "start_time": "2021-07-01T16:55:59.485Z"
   },
   {
    "duration": 217,
    "start_time": "2021-07-01T16:59:33.008Z"
   },
   {
    "duration": 224,
    "start_time": "2021-07-01T17:06:13.526Z"
   },
   {
    "duration": 213,
    "start_time": "2021-07-01T17:11:49.555Z"
   },
   {
    "duration": 1488,
    "start_time": "2021-07-02T10:22:35.866Z"
   },
   {
    "duration": 360,
    "start_time": "2021-07-02T10:22:37.357Z"
   },
   {
    "duration": 111,
    "start_time": "2021-07-02T10:22:37.720Z"
   },
   {
    "duration": 48,
    "start_time": "2021-07-02T10:22:37.834Z"
   },
   {
    "duration": 111,
    "start_time": "2021-07-02T10:22:37.884Z"
   },
   {
    "duration": 59,
    "start_time": "2021-07-02T10:22:37.997Z"
   },
   {
    "duration": 27,
    "start_time": "2021-07-02T10:22:38.058Z"
   },
   {
    "duration": 465,
    "start_time": "2021-07-02T10:22:38.088Z"
   },
   {
    "duration": 91,
    "start_time": "2021-07-02T10:22:38.557Z"
   },
   {
    "duration": 31,
    "start_time": "2021-07-02T10:22:38.666Z"
   },
   {
    "duration": 9,
    "start_time": "2021-07-02T10:22:38.699Z"
   },
   {
    "duration": 60,
    "start_time": "2021-07-02T10:22:38.710Z"
   },
   {
    "duration": 7,
    "start_time": "2021-07-02T10:22:38.774Z"
   },
   {
    "duration": 588,
    "start_time": "2021-07-02T10:22:38.785Z"
   },
   {
    "duration": 9,
    "start_time": "2021-07-02T10:22:39.376Z"
   },
   {
    "duration": 7,
    "start_time": "2021-07-02T10:22:39.388Z"
   },
   {
    "duration": 11,
    "start_time": "2021-07-02T10:22:39.397Z"
   },
   {
    "duration": 10,
    "start_time": "2021-07-02T10:22:39.410Z"
   },
   {
    "duration": 49,
    "start_time": "2021-07-02T10:22:39.423Z"
   },
   {
    "duration": 134,
    "start_time": "2021-07-02T10:22:39.474Z"
   },
   {
    "duration": 29,
    "start_time": "2021-07-02T10:22:39.611Z"
   },
   {
    "duration": 811,
    "start_time": "2021-07-02T10:22:39.643Z"
   },
   {
    "duration": 763,
    "start_time": "2021-07-02T10:22:40.457Z"
   },
   {
    "duration": 769,
    "start_time": "2021-07-02T10:22:41.223Z"
   },
   {
    "duration": 672,
    "start_time": "2021-07-02T10:22:41.995Z"
   },
   {
    "duration": 789,
    "start_time": "2021-07-02T10:22:42.670Z"
   },
   {
    "duration": 13,
    "start_time": "2021-07-02T10:22:43.468Z"
   },
   {
    "duration": 109,
    "start_time": "2021-07-02T10:22:43.483Z"
   },
   {
    "duration": 92,
    "start_time": "2021-07-02T10:22:43.503Z"
   },
   {
    "duration": 532,
    "start_time": "2021-07-02T10:23:16.605Z"
   },
   {
    "duration": 431,
    "start_time": "2021-07-02T10:24:49.252Z"
   },
   {
    "duration": 412,
    "start_time": "2021-07-02T10:25:53.775Z"
   },
   {
    "duration": 354,
    "start_time": "2021-07-02T10:26:10.658Z"
   },
   {
    "duration": 5,
    "start_time": "2021-07-02T10:27:00.252Z"
   },
   {
    "duration": 63,
    "start_time": "2021-07-02T10:27:35.430Z"
   },
   {
    "duration": 201,
    "start_time": "2021-07-02T10:27:46.465Z"
   },
   {
    "duration": 142,
    "start_time": "2021-07-02T10:28:01.069Z"
   },
   {
    "duration": 197,
    "start_time": "2021-07-02T10:29:07.190Z"
   },
   {
    "duration": 62,
    "start_time": "2021-07-02T10:29:10.862Z"
   },
   {
    "duration": 416,
    "start_time": "2021-07-02T10:30:04.406Z"
   },
   {
    "duration": 170,
    "start_time": "2021-07-02T10:30:35.900Z"
   },
   {
    "duration": 401,
    "start_time": "2021-07-02T10:32:02.973Z"
   },
   {
    "duration": 326,
    "start_time": "2021-07-02T10:32:39.954Z"
   },
   {
    "duration": 329,
    "start_time": "2021-07-02T10:35:14.954Z"
   },
   {
    "duration": 135,
    "start_time": "2021-07-02T10:36:44.757Z"
   },
   {
    "duration": 164,
    "start_time": "2021-07-02T10:45:09.110Z"
   },
   {
    "duration": 112,
    "start_time": "2021-07-02T10:45:40.544Z"
   },
   {
    "duration": 1411,
    "start_time": "2021-07-02T10:46:42.331Z"
   },
   {
    "duration": 323,
    "start_time": "2021-07-02T10:46:43.745Z"
   },
   {
    "duration": 136,
    "start_time": "2021-07-02T10:46:44.071Z"
   },
   {
    "duration": 31,
    "start_time": "2021-07-02T10:46:44.210Z"
   },
   {
    "duration": 154,
    "start_time": "2021-07-02T10:46:44.244Z"
   },
   {
    "duration": 71,
    "start_time": "2021-07-02T10:46:44.401Z"
   },
   {
    "duration": 17,
    "start_time": "2021-07-02T10:46:44.475Z"
   },
   {
    "duration": 546,
    "start_time": "2021-07-02T10:46:44.495Z"
   },
   {
    "duration": 98,
    "start_time": "2021-07-02T10:46:45.046Z"
   },
   {
    "duration": 38,
    "start_time": "2021-07-02T10:46:45.148Z"
   },
   {
    "duration": 10,
    "start_time": "2021-07-02T10:46:45.189Z"
   },
   {
    "duration": 22,
    "start_time": "2021-07-02T10:46:45.202Z"
   },
   {
    "duration": 42,
    "start_time": "2021-07-02T10:46:45.227Z"
   },
   {
    "duration": 537,
    "start_time": "2021-07-02T10:46:45.272Z"
   },
   {
    "duration": 8,
    "start_time": "2021-07-02T10:46:45.812Z"
   },
   {
    "duration": 7,
    "start_time": "2021-07-02T10:46:45.823Z"
   },
   {
    "duration": 34,
    "start_time": "2021-07-02T10:46:45.834Z"
   },
   {
    "duration": 11,
    "start_time": "2021-07-02T10:46:45.871Z"
   },
   {
    "duration": 12,
    "start_time": "2021-07-02T10:46:45.885Z"
   },
   {
    "duration": 123,
    "start_time": "2021-07-02T10:46:45.900Z"
   },
   {
    "duration": 41,
    "start_time": "2021-07-02T10:46:46.026Z"
   },
   {
    "duration": 593,
    "start_time": "2021-07-02T10:46:46.070Z"
   },
   {
    "duration": 563,
    "start_time": "2021-07-02T10:46:46.665Z"
   },
   {
    "duration": 743,
    "start_time": "2021-07-02T10:46:47.230Z"
   },
   {
    "duration": 657,
    "start_time": "2021-07-02T10:46:47.976Z"
   },
   {
    "duration": 777,
    "start_time": "2021-07-02T10:46:48.635Z"
   },
   {
    "duration": 10,
    "start_time": "2021-07-02T10:46:49.417Z"
   },
   {
    "duration": 537,
    "start_time": "2021-07-02T10:46:49.430Z"
   },
   {
    "duration": 187,
    "start_time": "2021-07-02T10:46:49.784Z"
   },
   {
    "duration": 183,
    "start_time": "2021-07-02T10:46:49.789Z"
   },
   {
    "duration": 182,
    "start_time": "2021-07-02T10:46:49.792Z"
   },
   {
    "duration": 402,
    "start_time": "2021-07-02T10:47:00.129Z"
   },
   {
    "duration": 337,
    "start_time": "2021-07-02T10:47:18.290Z"
   },
   {
    "duration": 426,
    "start_time": "2021-07-02T10:47:28.678Z"
   },
   {
    "duration": 350,
    "start_time": "2021-07-02T10:49:43.874Z"
   },
   {
    "duration": 121,
    "start_time": "2021-07-02T11:10:58.009Z"
   },
   {
    "duration": 8257,
    "start_time": "2021-07-02T12:48:19.721Z"
   },
   {
    "duration": 1840,
    "start_time": "2021-07-02T12:48:32.221Z"
   },
   {
    "duration": 349,
    "start_time": "2021-07-02T12:48:34.064Z"
   },
   {
    "duration": 114,
    "start_time": "2021-07-02T12:48:34.417Z"
   },
   {
    "duration": 38,
    "start_time": "2021-07-02T12:48:34.534Z"
   },
   {
    "duration": 102,
    "start_time": "2021-07-02T12:48:34.575Z"
   },
   {
    "duration": 61,
    "start_time": "2021-07-02T12:48:34.680Z"
   },
   {
    "duration": 33,
    "start_time": "2021-07-02T12:48:34.744Z"
   },
   {
    "duration": 448,
    "start_time": "2021-07-02T12:48:34.780Z"
   },
   {
    "duration": 110,
    "start_time": "2021-07-02T12:48:35.232Z"
   },
   {
    "duration": 38,
    "start_time": "2021-07-02T12:48:35.346Z"
   },
   {
    "duration": 9,
    "start_time": "2021-07-02T12:48:35.386Z"
   },
   {
    "duration": 21,
    "start_time": "2021-07-02T12:48:35.398Z"
   },
   {
    "duration": 5,
    "start_time": "2021-07-02T12:48:35.421Z"
   },
   {
    "duration": 594,
    "start_time": "2021-07-02T12:48:35.428Z"
   },
   {
    "duration": 7,
    "start_time": "2021-07-02T12:48:36.025Z"
   },
   {
    "duration": 6,
    "start_time": "2021-07-02T12:48:36.034Z"
   },
   {
    "duration": 29,
    "start_time": "2021-07-02T12:48:36.043Z"
   },
   {
    "duration": 15,
    "start_time": "2021-07-02T12:48:36.074Z"
   },
   {
    "duration": 13,
    "start_time": "2021-07-02T12:48:36.091Z"
   },
   {
    "duration": 151,
    "start_time": "2021-07-02T12:48:36.107Z"
   },
   {
    "duration": 43,
    "start_time": "2021-07-02T12:48:36.261Z"
   },
   {
    "duration": 1064,
    "start_time": "2021-07-02T12:48:36.307Z"
   },
   {
    "duration": 678,
    "start_time": "2021-07-02T12:48:37.375Z"
   },
   {
    "duration": 581,
    "start_time": "2021-07-02T12:48:38.056Z"
   },
   {
    "duration": 513,
    "start_time": "2021-07-02T12:48:38.639Z"
   },
   {
    "duration": 20,
    "start_time": "2021-07-02T12:48:39.155Z"
   },
   {
    "duration": 7,
    "start_time": "2021-07-02T12:48:39.180Z"
   },
   {
    "duration": 8,
    "start_time": "2021-07-02T12:48:39.192Z"
   },
   {
    "duration": 8,
    "start_time": "2021-07-02T12:48:39.202Z"
   },
   {
    "duration": 611,
    "start_time": "2021-07-02T12:48:39.213Z"
   },
   {
    "duration": 10,
    "start_time": "2021-07-02T12:48:39.827Z"
   },
   {
    "duration": 241,
    "start_time": "2021-07-02T12:48:39.841Z"
   },
   {
    "duration": 543,
    "start_time": "2021-07-02T12:48:40.085Z"
   },
   {
    "duration": 471,
    "start_time": "2021-07-02T12:48:40.631Z"
   },
   {
    "duration": 8155,
    "start_time": "2021-07-02T12:48:41.105Z"
   },
   {
    "duration": 133,
    "start_time": "2021-07-02T12:51:47.137Z"
   },
   {
    "duration": 64,
    "start_time": "2021-07-02T12:52:18.470Z"
   },
   {
    "duration": 789,
    "start_time": "2021-07-02T12:52:36.100Z"
   },
   {
    "duration": 132,
    "start_time": "2021-07-02T12:54:09.593Z"
   },
   {
    "duration": 608,
    "start_time": "2021-07-02T12:54:10.368Z"
   },
   {
    "duration": 45,
    "start_time": "2021-07-02T12:55:21.800Z"
   },
   {
    "duration": 44,
    "start_time": "2021-07-02T12:55:38.884Z"
   },
   {
    "duration": 42,
    "start_time": "2021-07-02T12:55:53.427Z"
   },
   {
    "duration": 43,
    "start_time": "2021-07-02T12:56:05.026Z"
   },
   {
    "duration": 184,
    "start_time": "2021-07-02T12:56:41.088Z"
   },
   {
    "duration": 97,
    "start_time": "2021-07-02T12:57:00.178Z"
   },
   {
    "duration": 114,
    "start_time": "2021-07-02T12:57:20.619Z"
   },
   {
    "duration": 128,
    "start_time": "2021-07-02T12:57:35.303Z"
   },
   {
    "duration": 46,
    "start_time": "2021-07-02T13:04:03.141Z"
   },
   {
    "duration": 48,
    "start_time": "2021-07-02T13:04:20.211Z"
   },
   {
    "duration": 312,
    "start_time": "2021-07-02T14:36:22.786Z"
   },
   {
    "duration": 364,
    "start_time": "2021-07-02T14:36:50.097Z"
   },
   {
    "duration": 342,
    "start_time": "2021-07-02T14:37:08.361Z"
   },
   {
    "duration": 3,
    "start_time": "2021-07-02T14:37:55.349Z"
   },
   {
    "duration": 6,
    "start_time": "2021-07-02T14:38:04.242Z"
   },
   {
    "duration": 5,
    "start_time": "2021-07-02T14:38:30.610Z"
   },
   {
    "duration": 7,
    "start_time": "2021-07-02T14:38:37.462Z"
   },
   {
    "duration": 331,
    "start_time": "2021-07-02T14:39:10.579Z"
   },
   {
    "duration": 283,
    "start_time": "2021-07-02T14:39:26.269Z"
   },
   {
    "duration": 375,
    "start_time": "2021-07-02T14:39:42.222Z"
   },
   {
    "duration": 6,
    "start_time": "2021-07-02T14:46:21.104Z"
   },
   {
    "duration": 294,
    "start_time": "2021-07-02T14:46:36.655Z"
   },
   {
    "duration": 320,
    "start_time": "2021-07-02T14:48:07.589Z"
   },
   {
    "duration": 1473,
    "start_time": "2021-07-02T14:48:20.955Z"
   },
   {
    "duration": 343,
    "start_time": "2021-07-02T14:48:22.431Z"
   },
   {
    "duration": 109,
    "start_time": "2021-07-02T14:48:22.778Z"
   },
   {
    "duration": 24,
    "start_time": "2021-07-02T14:48:22.889Z"
   },
   {
    "duration": 122,
    "start_time": "2021-07-02T14:48:22.916Z"
   },
   {
    "duration": 69,
    "start_time": "2021-07-02T14:48:23.041Z"
   },
   {
    "duration": 15,
    "start_time": "2021-07-02T14:48:23.113Z"
   },
   {
    "duration": 478,
    "start_time": "2021-07-02T14:48:23.130Z"
   },
   {
    "duration": 104,
    "start_time": "2021-07-02T14:48:23.612Z"
   },
   {
    "duration": 25,
    "start_time": "2021-07-02T14:48:23.718Z"
   },
   {
    "duration": 25,
    "start_time": "2021-07-02T14:48:23.746Z"
   },
   {
    "duration": 25,
    "start_time": "2021-07-02T14:48:23.775Z"
   },
   {
    "duration": 4,
    "start_time": "2021-07-02T14:48:23.803Z"
   },
   {
    "duration": 580,
    "start_time": "2021-07-02T14:48:23.809Z"
   },
   {
    "duration": 6,
    "start_time": "2021-07-02T14:48:24.392Z"
   },
   {
    "duration": 9,
    "start_time": "2021-07-02T14:48:24.400Z"
   },
   {
    "duration": 11,
    "start_time": "2021-07-02T14:48:24.412Z"
   },
   {
    "duration": 43,
    "start_time": "2021-07-02T14:48:24.425Z"
   },
   {
    "duration": 13,
    "start_time": "2021-07-02T14:48:24.471Z"
   },
   {
    "duration": 109,
    "start_time": "2021-07-02T14:48:24.486Z"
   },
   {
    "duration": 23,
    "start_time": "2021-07-02T14:48:24.597Z"
   },
   {
    "duration": 611,
    "start_time": "2021-07-02T14:48:24.622Z"
   },
   {
    "duration": 574,
    "start_time": "2021-07-02T14:48:25.236Z"
   },
   {
    "duration": 573,
    "start_time": "2021-07-02T14:48:25.812Z"
   },
   {
    "duration": 499,
    "start_time": "2021-07-02T14:48:26.387Z"
   },
   {
    "duration": 10,
    "start_time": "2021-07-02T14:48:26.888Z"
   },
   {
    "duration": 6,
    "start_time": "2021-07-02T14:48:26.903Z"
   },
   {
    "duration": 10,
    "start_time": "2021-07-02T14:48:26.912Z"
   },
   {
    "duration": 7,
    "start_time": "2021-07-02T14:48:26.925Z"
   },
   {
    "duration": 599,
    "start_time": "2021-07-02T14:48:26.934Z"
   },
   {
    "duration": 72,
    "start_time": "2021-07-02T14:48:27.535Z"
   },
   {
    "duration": 595,
    "start_time": "2021-07-02T14:48:27.609Z"
   },
   {
    "duration": 3,
    "start_time": "2021-07-02T14:48:28.206Z"
   },
   {
    "duration": 10,
    "start_time": "2021-07-02T14:48:28.211Z"
   },
   {
    "duration": 7,
    "start_time": "2021-07-02T14:48:28.223Z"
   },
   {
    "duration": 8520,
    "start_time": "2021-07-02T14:48:28.233Z"
   },
   {
    "duration": 657,
    "start_time": "2021-07-02T14:48:36.100Z"
   },
   {
    "duration": 8395,
    "start_time": "2021-07-02T14:49:35.595Z"
   },
   {
    "duration": 7,
    "start_time": "2021-07-02T14:50:11.917Z"
   },
   {
    "duration": 4,
    "start_time": "2021-07-02T14:51:38.362Z"
   },
   {
    "duration": 4,
    "start_time": "2021-07-02T14:51:48.000Z"
   },
   {
    "duration": 850,
    "start_time": "2021-07-02T14:52:13.403Z"
   },
   {
    "duration": 13,
    "start_time": "2021-07-02T14:52:25.105Z"
   },
   {
    "duration": 6,
    "start_time": "2021-07-02T14:52:47.627Z"
   },
   {
    "duration": 4,
    "start_time": "2021-07-02T14:56:53.839Z"
   },
   {
    "duration": 4,
    "start_time": "2021-07-02T15:12:53.358Z"
   },
   {
    "duration": 6,
    "start_time": "2021-07-02T15:13:00.435Z"
   },
   {
    "duration": 7,
    "start_time": "2021-07-02T15:13:13.113Z"
   },
   {
    "duration": 6,
    "start_time": "2021-07-02T15:13:30.661Z"
   },
   {
    "duration": 4,
    "start_time": "2021-07-02T15:13:51.923Z"
   },
   {
    "duration": 3,
    "start_time": "2021-07-02T15:13:57.835Z"
   },
   {
    "duration": 295,
    "start_time": "2021-07-02T15:14:08.471Z"
   },
   {
    "duration": 295,
    "start_time": "2021-07-02T15:14:11.407Z"
   },
   {
    "duration": 97,
    "start_time": "2021-07-02T15:14:16.171Z"
   },
   {
    "duration": 7,
    "start_time": "2021-07-02T15:14:25.528Z"
   },
   {
    "duration": 4,
    "start_time": "2021-07-02T15:27:24.635Z"
   },
   {
    "duration": 7,
    "start_time": "2021-07-02T15:27:27.817Z"
   },
   {
    "duration": 6,
    "start_time": "2021-07-02T15:27:37.336Z"
   },
   {
    "duration": 7,
    "start_time": "2021-07-02T15:38:22.484Z"
   },
   {
    "duration": 98,
    "start_time": "2021-07-02T15:55:28.701Z"
   },
   {
    "duration": 102,
    "start_time": "2021-07-02T15:55:53.327Z"
   },
   {
    "duration": 196,
    "start_time": "2021-07-02T15:56:54.899Z"
   },
   {
    "duration": 5,
    "start_time": "2021-07-02T16:33:06.050Z"
   },
   {
    "duration": 108,
    "start_time": "2021-07-02T16:33:24.800Z"
   },
   {
    "duration": 59,
    "start_time": "2021-07-02T16:33:58.212Z"
   },
   {
    "duration": 578,
    "start_time": "2021-07-02T16:34:04.004Z"
   },
   {
    "duration": 572,
    "start_time": "2021-07-02T16:44:23.437Z"
   },
   {
    "duration": 762,
    "start_time": "2021-07-02T16:44:35.799Z"
   },
   {
    "duration": 6,
    "start_time": "2021-07-02T16:44:58.400Z"
   },
   {
    "duration": 574,
    "start_time": "2021-07-02T16:45:01.077Z"
   },
   {
    "duration": 591,
    "start_time": "2021-07-02T16:48:44.439Z"
   },
   {
    "duration": 5,
    "start_time": "2021-07-02T16:48:53.261Z"
   },
   {
    "duration": 5,
    "start_time": "2021-07-02T16:48:53.805Z"
   },
   {
    "duration": 7,
    "start_time": "2021-07-02T16:48:54.347Z"
   },
   {
    "duration": 5,
    "start_time": "2021-07-02T16:48:54.815Z"
   },
   {
    "duration": 43,
    "start_time": "2021-07-02T16:49:06.611Z"
   },
   {
    "duration": 568,
    "start_time": "2021-07-02T16:49:10.107Z"
   },
   {
    "duration": 573,
    "start_time": "2021-07-02T16:51:03.122Z"
   },
   {
    "duration": 601,
    "start_time": "2021-07-02T16:51:29.141Z"
   },
   {
    "duration": 573,
    "start_time": "2021-07-02T16:51:42.105Z"
   },
   {
    "duration": 676,
    "start_time": "2021-07-02T16:52:14.984Z"
   },
   {
    "duration": 660,
    "start_time": "2021-07-02T16:52:26.191Z"
   },
   {
    "duration": 1200,
    "start_time": "2021-07-02T18:15:54.224Z"
   },
   {
    "duration": 1115,
    "start_time": "2021-07-03T08:42:58.776Z"
   },
   {
    "duration": 289,
    "start_time": "2021-07-03T08:42:59.892Z"
   },
   {
    "duration": 59,
    "start_time": "2021-07-03T08:43:00.185Z"
   },
   {
    "duration": 15,
    "start_time": "2021-07-03T08:43:00.246Z"
   },
   {
    "duration": 95,
    "start_time": "2021-07-03T08:43:00.262Z"
   },
   {
    "duration": 41,
    "start_time": "2021-07-03T08:43:00.359Z"
   },
   {
    "duration": 14,
    "start_time": "2021-07-03T08:43:00.402Z"
   },
   {
    "duration": 379,
    "start_time": "2021-07-03T08:43:00.419Z"
   },
   {
    "duration": 54,
    "start_time": "2021-07-03T08:43:00.800Z"
   },
   {
    "duration": 16,
    "start_time": "2021-07-03T08:43:00.855Z"
   },
   {
    "duration": 7,
    "start_time": "2021-07-03T08:43:00.884Z"
   },
   {
    "duration": 19,
    "start_time": "2021-07-03T08:43:00.893Z"
   },
   {
    "duration": 3,
    "start_time": "2021-07-03T08:43:00.914Z"
   },
   {
    "duration": 332,
    "start_time": "2021-07-03T08:43:00.918Z"
   },
   {
    "duration": 5,
    "start_time": "2021-07-03T08:43:01.251Z"
   },
   {
    "duration": 9,
    "start_time": "2021-07-03T08:43:01.257Z"
   },
   {
    "duration": 18,
    "start_time": "2021-07-03T08:43:01.267Z"
   },
   {
    "duration": 7,
    "start_time": "2021-07-03T08:43:01.286Z"
   },
   {
    "duration": 13,
    "start_time": "2021-07-03T08:43:01.294Z"
   },
   {
    "duration": 52,
    "start_time": "2021-07-03T08:43:01.309Z"
   },
   {
    "duration": 31,
    "start_time": "2021-07-03T08:43:01.364Z"
   },
   {
    "duration": 120,
    "start_time": "2021-07-03T08:43:01.397Z"
   },
   {
    "duration": 373,
    "start_time": "2021-07-03T08:43:01.522Z"
   },
   {
    "duration": 336,
    "start_time": "2021-07-03T08:43:01.898Z"
   },
   {
    "duration": 332,
    "start_time": "2021-07-03T08:43:02.235Z"
   },
   {
    "duration": 294,
    "start_time": "2021-07-03T08:43:02.569Z"
   },
   {
    "duration": 346,
    "start_time": "2021-07-03T08:43:02.864Z"
   },
   {
    "duration": 3,
    "start_time": "2021-07-03T08:43:03.212Z"
   },
   {
    "duration": 21,
    "start_time": "2021-07-03T08:43:03.216Z"
   },
   {
    "duration": 16,
    "start_time": "2021-07-03T08:43:03.238Z"
   },
   {
    "duration": 20,
    "start_time": "2021-07-03T08:43:03.255Z"
   },
   {
    "duration": 37,
    "start_time": "2021-07-03T08:43:03.276Z"
   },
   {
    "duration": 4921,
    "start_time": "2021-07-03T08:43:03.314Z"
   },
   {
    "duration": 370,
    "start_time": "2021-07-03T08:43:07.868Z"
   },
   {
    "duration": 368,
    "start_time": "2021-07-03T08:43:07.871Z"
   },
   {
    "duration": 369,
    "start_time": "2021-07-03T08:43:07.872Z"
   },
   {
    "duration": 367,
    "start_time": "2021-07-03T08:43:07.874Z"
   },
   {
    "duration": 481,
    "start_time": "2021-07-03T08:44:33.173Z"
   },
   {
    "duration": 4,
    "start_time": "2021-07-03T08:44:41.624Z"
   },
   {
    "duration": 433,
    "start_time": "2021-07-03T08:44:44.186Z"
   },
   {
    "duration": 1030,
    "start_time": "2021-07-03T08:44:52.051Z"
   },
   {
    "duration": 315,
    "start_time": "2021-07-03T08:44:53.082Z"
   },
   {
    "duration": 55,
    "start_time": "2021-07-03T08:44:53.400Z"
   },
   {
    "duration": 39,
    "start_time": "2021-07-03T08:44:53.457Z"
   },
   {
    "duration": 91,
    "start_time": "2021-07-03T08:44:53.498Z"
   },
   {
    "duration": 38,
    "start_time": "2021-07-03T08:44:53.591Z"
   },
   {
    "duration": 9,
    "start_time": "2021-07-03T08:44:53.631Z"
   },
   {
    "duration": 395,
    "start_time": "2021-07-03T08:44:53.642Z"
   },
   {
    "duration": 68,
    "start_time": "2021-07-03T08:44:54.038Z"
   },
   {
    "duration": 16,
    "start_time": "2021-07-03T08:44:54.107Z"
   },
   {
    "duration": 6,
    "start_time": "2021-07-03T08:44:54.125Z"
   },
   {
    "duration": 16,
    "start_time": "2021-07-03T08:44:54.133Z"
   },
   {
    "duration": 3,
    "start_time": "2021-07-03T08:44:54.151Z"
   },
   {
    "duration": 365,
    "start_time": "2021-07-03T08:44:54.155Z"
   },
   {
    "duration": 5,
    "start_time": "2021-07-03T08:44:54.521Z"
   },
   {
    "duration": 5,
    "start_time": "2021-07-03T08:44:54.528Z"
   },
   {
    "duration": 10,
    "start_time": "2021-07-03T08:44:54.534Z"
   },
   {
    "duration": 5,
    "start_time": "2021-07-03T08:44:54.546Z"
   },
   {
    "duration": 9,
    "start_time": "2021-07-03T08:44:54.553Z"
   },
   {
    "duration": 78,
    "start_time": "2021-07-03T08:44:54.563Z"
   },
   {
    "duration": 14,
    "start_time": "2021-07-03T08:44:54.642Z"
   },
   {
    "duration": 122,
    "start_time": "2021-07-03T08:44:54.658Z"
   },
   {
    "duration": 372,
    "start_time": "2021-07-03T08:44:54.785Z"
   },
   {
    "duration": 363,
    "start_time": "2021-07-03T08:44:55.159Z"
   },
   {
    "duration": 344,
    "start_time": "2021-07-03T08:44:55.523Z"
   },
   {
    "duration": 310,
    "start_time": "2021-07-03T08:44:55.869Z"
   },
   {
    "duration": 362,
    "start_time": "2021-07-03T08:44:56.181Z"
   },
   {
    "duration": 5,
    "start_time": "2021-07-03T08:44:56.545Z"
   },
   {
    "duration": 6,
    "start_time": "2021-07-03T08:44:56.551Z"
   },
   {
    "duration": 6,
    "start_time": "2021-07-03T08:44:56.558Z"
   },
   {
    "duration": 26,
    "start_time": "2021-07-03T08:44:56.566Z"
   },
   {
    "duration": 31,
    "start_time": "2021-07-03T08:44:56.594Z"
   },
   {
    "duration": 354,
    "start_time": "2021-07-03T08:44:56.627Z"
   },
   {
    "duration": 3,
    "start_time": "2021-07-03T08:44:56.990Z"
   },
   {
    "duration": 6,
    "start_time": "2021-07-03T08:44:56.997Z"
   },
   {
    "duration": 5,
    "start_time": "2021-07-03T08:44:57.005Z"
   },
   {
    "duration": 5,
    "start_time": "2021-07-03T08:44:57.012Z"
   },
   {
    "duration": 262,
    "start_time": "2021-07-03T08:59:35.660Z"
   },
   {
    "duration": 8,
    "start_time": "2021-07-03T08:59:41.767Z"
   },
   {
    "duration": 16,
    "start_time": "2021-07-03T09:04:03.398Z"
   },
   {
    "duration": 3,
    "start_time": "2021-07-03T09:04:26.329Z"
   },
   {
    "duration": 4,
    "start_time": "2021-07-03T09:09:27.463Z"
   },
   {
    "duration": 4,
    "start_time": "2021-07-03T09:29:55.943Z"
   },
   {
    "duration": 3,
    "start_time": "2021-07-03T09:29:57.008Z"
   },
   {
    "duration": 181,
    "start_time": "2021-07-03T09:29:58.805Z"
   },
   {
    "duration": 2,
    "start_time": "2021-07-03T09:38:24.427Z"
   },
   {
    "duration": 179,
    "start_time": "2021-07-03T09:38:54.083Z"
   },
   {
    "duration": 187,
    "start_time": "2021-07-03T09:39:36.475Z"
   },
   {
    "duration": 181,
    "start_time": "2021-07-03T09:48:47.777Z"
   },
   {
    "duration": 3,
    "start_time": "2021-07-03T09:56:31.938Z"
   },
   {
    "duration": 3,
    "start_time": "2021-07-03T09:56:33.340Z"
   },
   {
    "duration": 193,
    "start_time": "2021-07-03T09:57:37.080Z"
   },
   {
    "duration": 196,
    "start_time": "2021-07-03T09:59:07.742Z"
   },
   {
    "duration": 5,
    "start_time": "2021-07-03T09:59:21.792Z"
   },
   {
    "duration": 5,
    "start_time": "2021-07-03T10:00:02.057Z"
   },
   {
    "duration": 176,
    "start_time": "2021-07-03T10:01:07.370Z"
   },
   {
    "duration": 3,
    "start_time": "2021-07-03T10:05:38.819Z"
   },
   {
    "duration": 213,
    "start_time": "2021-07-03T10:05:43.820Z"
   },
   {
    "duration": 5,
    "start_time": "2021-07-03T10:06:31.789Z"
   },
   {
    "duration": 181,
    "start_time": "2021-07-03T10:07:10.272Z"
   },
   {
    "duration": 4,
    "start_time": "2021-07-03T10:07:26.198Z"
   },
   {
    "duration": 196,
    "start_time": "2021-07-03T10:13:07.423Z"
   },
   {
    "duration": 4,
    "start_time": "2021-07-03T10:13:13.561Z"
   },
   {
    "duration": 4,
    "start_time": "2021-07-03T10:19:35.376Z"
   },
   {
    "duration": 177,
    "start_time": "2021-07-03T10:19:42.627Z"
   },
   {
    "duration": 4,
    "start_time": "2021-07-03T10:19:47.290Z"
   },
   {
    "duration": 186,
    "start_time": "2021-07-03T10:19:48.584Z"
   },
   {
    "duration": 3,
    "start_time": "2021-07-03T10:20:16.930Z"
   },
   {
    "duration": 175,
    "start_time": "2021-07-03T10:20:17.905Z"
   },
   {
    "duration": 52,
    "start_time": "2021-07-03T10:20:29.127Z"
   },
   {
    "duration": 176,
    "start_time": "2021-07-03T10:21:07.924Z"
   },
   {
    "duration": 360,
    "start_time": "2021-07-03T10:21:25.873Z"
   },
   {
    "duration": 2,
    "start_time": "2021-07-03T10:21:49.758Z"
   },
   {
    "duration": 3,
    "start_time": "2021-07-03T10:21:50.674Z"
   },
   {
    "duration": 82,
    "start_time": "2021-07-03T10:21:51.446Z"
   },
   {
    "duration": 180,
    "start_time": "2021-07-03T10:28:02.998Z"
   },
   {
    "duration": 4,
    "start_time": "2021-07-03T10:28:09.274Z"
   },
   {
    "duration": 64,
    "start_time": "2021-07-03T10:29:47.643Z"
   },
   {
    "duration": 3,
    "start_time": "2021-07-03T10:30:04.081Z"
   },
   {
    "duration": 1607,
    "start_time": "2021-07-03T10:30:09.466Z"
   },
   {
    "duration": 99,
    "start_time": "2021-07-03T10:46:07.430Z"
   },
   {
    "duration": 60,
    "start_time": "2021-07-03T10:51:25.269Z"
   },
   {
    "duration": 180,
    "start_time": "2021-07-03T10:52:36.552Z"
   },
   {
    "duration": 1576,
    "start_time": "2021-07-03T10:52:48.461Z"
   },
   {
    "duration": 3,
    "start_time": "2021-07-03T10:53:03.886Z"
   },
   {
    "duration": 201,
    "start_time": "2021-07-03T10:53:06.437Z"
   },
   {
    "duration": 179,
    "start_time": "2021-07-03T10:57:41.689Z"
   },
   {
    "duration": 177,
    "start_time": "2021-07-03T10:58:08.077Z"
   },
   {
    "duration": 194,
    "start_time": "2021-07-03T10:58:15.361Z"
   },
   {
    "duration": 176,
    "start_time": "2021-07-03T10:58:57.618Z"
   },
   {
    "duration": 4,
    "start_time": "2021-07-03T11:01:15.097Z"
   },
   {
    "duration": 4,
    "start_time": "2021-07-03T11:01:57.253Z"
   },
   {
    "duration": 4,
    "start_time": "2021-07-03T11:02:24.716Z"
   },
   {
    "duration": 3,
    "start_time": "2021-07-03T11:07:08.495Z"
   },
   {
    "duration": 4,
    "start_time": "2021-07-03T11:07:28.263Z"
   },
   {
    "duration": 179,
    "start_time": "2021-07-03T11:10:26.730Z"
   },
   {
    "duration": 2,
    "start_time": "2021-07-03T11:10:30.220Z"
   },
   {
    "duration": 184,
    "start_time": "2021-07-03T11:10:31.548Z"
   },
   {
    "duration": 210,
    "start_time": "2021-07-03T11:10:52.446Z"
   },
   {
    "duration": 3,
    "start_time": "2021-07-03T11:11:00.174Z"
   },
   {
    "duration": 172,
    "start_time": "2021-07-03T11:11:01.631Z"
   },
   {
    "duration": 3,
    "start_time": "2021-07-03T11:11:11.550Z"
   },
   {
    "duration": 171,
    "start_time": "2021-07-03T11:11:12.859Z"
   },
   {
    "duration": 3,
    "start_time": "2021-07-03T11:11:43.472Z"
   },
   {
    "duration": 3,
    "start_time": "2021-07-03T11:13:11.900Z"
   },
   {
    "duration": 173,
    "start_time": "2021-07-03T11:13:13.056Z"
   },
   {
    "duration": 1099,
    "start_time": "2021-07-03T11:13:23.133Z"
   },
   {
    "duration": 300,
    "start_time": "2021-07-03T11:13:24.234Z"
   },
   {
    "duration": 69,
    "start_time": "2021-07-03T11:13:24.536Z"
   },
   {
    "duration": 17,
    "start_time": "2021-07-03T11:13:24.607Z"
   },
   {
    "duration": 91,
    "start_time": "2021-07-03T11:13:24.626Z"
   },
   {
    "duration": 38,
    "start_time": "2021-07-03T11:13:24.718Z"
   },
   {
    "duration": 31,
    "start_time": "2021-07-03T11:13:24.759Z"
   },
   {
    "duration": 376,
    "start_time": "2021-07-03T11:13:24.793Z"
   },
   {
    "duration": 59,
    "start_time": "2021-07-03T11:13:25.172Z"
   },
   {
    "duration": 18,
    "start_time": "2021-07-03T11:13:25.234Z"
   },
   {
    "duration": 8,
    "start_time": "2021-07-03T11:13:25.254Z"
   },
   {
    "duration": 39,
    "start_time": "2021-07-03T11:13:25.263Z"
   },
   {
    "duration": 4,
    "start_time": "2021-07-03T11:13:25.304Z"
   },
   {
    "duration": 331,
    "start_time": "2021-07-03T11:13:25.310Z"
   },
   {
    "duration": 7,
    "start_time": "2021-07-03T11:13:25.642Z"
   },
   {
    "duration": 6,
    "start_time": "2021-07-03T11:13:25.651Z"
   },
   {
    "duration": 31,
    "start_time": "2021-07-03T11:13:25.659Z"
   },
   {
    "duration": 8,
    "start_time": "2021-07-03T11:13:25.692Z"
   },
   {
    "duration": 12,
    "start_time": "2021-07-03T11:13:25.701Z"
   },
   {
    "duration": 73,
    "start_time": "2021-07-03T11:13:25.715Z"
   },
   {
    "duration": 16,
    "start_time": "2021-07-03T11:13:25.790Z"
   },
   {
    "duration": 127,
    "start_time": "2021-07-03T11:13:25.808Z"
   },
   {
    "duration": 372,
    "start_time": "2021-07-03T11:13:25.939Z"
   },
   {
    "duration": 357,
    "start_time": "2021-07-03T11:13:26.314Z"
   },
   {
    "duration": 341,
    "start_time": "2021-07-03T11:13:26.674Z"
   },
   {
    "duration": 305,
    "start_time": "2021-07-03T11:13:27.017Z"
   },
   {
    "duration": 351,
    "start_time": "2021-07-03T11:13:27.324Z"
   },
   {
    "duration": 10,
    "start_time": "2021-07-03T11:13:27.676Z"
   },
   {
    "duration": 10,
    "start_time": "2021-07-03T11:13:27.687Z"
   },
   {
    "duration": 6,
    "start_time": "2021-07-03T11:13:27.699Z"
   },
   {
    "duration": 8,
    "start_time": "2021-07-03T11:13:27.707Z"
   },
   {
    "duration": 113,
    "start_time": "2021-07-03T11:13:27.717Z"
   },
   {
    "duration": 348,
    "start_time": "2021-07-03T11:13:27.834Z"
   },
   {
    "duration": 2,
    "start_time": "2021-07-03T11:13:28.184Z"
   },
   {
    "duration": 9,
    "start_time": "2021-07-03T11:13:28.188Z"
   },
   {
    "duration": 7,
    "start_time": "2021-07-03T11:13:28.198Z"
   },
   {
    "duration": 5,
    "start_time": "2021-07-03T11:13:28.207Z"
   },
   {
    "duration": 6,
    "start_time": "2021-07-03T11:13:28.213Z"
   },
   {
    "duration": 5,
    "start_time": "2021-07-03T11:13:28.221Z"
   },
   {
    "duration": 5,
    "start_time": "2021-07-03T11:13:28.227Z"
   },
   {
    "duration": 286,
    "start_time": "2021-07-03T11:13:28.233Z"
   },
   {
    "duration": 357,
    "start_time": "2021-07-03T11:13:28.164Z"
   },
   {
    "duration": 3,
    "start_time": "2021-07-03T11:14:23.410Z"
   },
   {
    "duration": 4,
    "start_time": "2021-07-03T11:15:08.829Z"
   },
   {
    "duration": 1820,
    "start_time": "2021-07-03T11:15:35.376Z"
   },
   {
    "duration": 7,
    "start_time": "2021-07-03T11:16:07.991Z"
   },
   {
    "duration": 6,
    "start_time": "2021-07-03T11:16:18.189Z"
   },
   {
    "duration": 1742,
    "start_time": "2021-07-03T11:17:35.142Z"
   },
   {
    "duration": 1134,
    "start_time": "2021-07-03T11:19:20.501Z"
   },
   {
    "duration": 298,
    "start_time": "2021-07-03T11:19:21.637Z"
   },
   {
    "duration": 69,
    "start_time": "2021-07-03T11:19:21.938Z"
   },
   {
    "duration": 20,
    "start_time": "2021-07-03T11:19:22.009Z"
   },
   {
    "duration": 96,
    "start_time": "2021-07-03T11:19:22.030Z"
   },
   {
    "duration": 37,
    "start_time": "2021-07-03T11:19:22.128Z"
   },
   {
    "duration": 22,
    "start_time": "2021-07-03T11:19:22.167Z"
   },
   {
    "duration": 384,
    "start_time": "2021-07-03T11:19:22.192Z"
   },
   {
    "duration": 63,
    "start_time": "2021-07-03T11:19:22.578Z"
   },
   {
    "duration": 17,
    "start_time": "2021-07-03T11:19:22.643Z"
   },
   {
    "duration": 27,
    "start_time": "2021-07-03T11:19:22.662Z"
   },
   {
    "duration": 18,
    "start_time": "2021-07-03T11:19:22.691Z"
   },
   {
    "duration": 3,
    "start_time": "2021-07-03T11:19:22.711Z"
   },
   {
    "duration": 348,
    "start_time": "2021-07-03T11:19:22.716Z"
   },
   {
    "duration": 5,
    "start_time": "2021-07-03T11:19:23.066Z"
   },
   {
    "duration": 12,
    "start_time": "2021-07-03T11:19:23.073Z"
   },
   {
    "duration": 9,
    "start_time": "2021-07-03T11:19:23.087Z"
   },
   {
    "duration": 7,
    "start_time": "2021-07-03T11:19:23.099Z"
   },
   {
    "duration": 10,
    "start_time": "2021-07-03T11:19:23.108Z"
   },
   {
    "duration": 96,
    "start_time": "2021-07-03T11:19:23.119Z"
   },
   {
    "duration": 17,
    "start_time": "2021-07-03T11:19:23.217Z"
   },
   {
    "duration": 128,
    "start_time": "2021-07-03T11:19:23.236Z"
   },
   {
    "duration": 394,
    "start_time": "2021-07-03T11:19:23.367Z"
   },
   {
    "duration": 390,
    "start_time": "2021-07-03T11:19:23.770Z"
   },
   {
    "duration": 370,
    "start_time": "2021-07-03T11:19:24.162Z"
   },
   {
    "duration": 323,
    "start_time": "2021-07-03T11:19:24.534Z"
   },
   {
    "duration": 368,
    "start_time": "2021-07-03T11:19:24.858Z"
   },
   {
    "duration": 4,
    "start_time": "2021-07-03T11:19:25.228Z"
   },
   {
    "duration": 7,
    "start_time": "2021-07-03T11:19:25.233Z"
   },
   {
    "duration": 6,
    "start_time": "2021-07-03T11:19:25.241Z"
   },
   {
    "duration": 10,
    "start_time": "2021-07-03T11:19:25.249Z"
   },
   {
    "duration": 110,
    "start_time": "2021-07-03T11:19:25.261Z"
   },
   {
    "duration": 352,
    "start_time": "2021-07-03T11:19:25.373Z"
   },
   {
    "duration": 3,
    "start_time": "2021-07-03T11:19:25.726Z"
   },
   {
    "duration": 9,
    "start_time": "2021-07-03T11:19:25.730Z"
   },
   {
    "duration": 6,
    "start_time": "2021-07-03T11:19:25.741Z"
   },
   {
    "duration": 6,
    "start_time": "2021-07-03T11:19:25.748Z"
   },
   {
    "duration": 7,
    "start_time": "2021-07-03T11:19:25.755Z"
   },
   {
    "duration": 4,
    "start_time": "2021-07-03T11:19:25.764Z"
   },
   {
    "duration": 2,
    "start_time": "2021-07-03T11:19:25.785Z"
   },
   {
    "duration": 5,
    "start_time": "2021-07-03T11:19:25.789Z"
   },
   {
    "duration": 1833,
    "start_time": "2021-07-03T11:19:25.796Z"
   },
   {
    "duration": 191,
    "start_time": "2021-07-03T11:21:49.778Z"
   },
   {
    "duration": 10,
    "start_time": "2021-07-03T11:21:53.774Z"
   },
   {
    "duration": 3,
    "start_time": "2021-07-03T11:25:34.447Z"
   },
   {
    "duration": 35,
    "start_time": "2021-07-03T11:25:54.851Z"
   },
   {
    "duration": 183,
    "start_time": "2021-07-03T11:49:34.828Z"
   },
   {
    "duration": 172,
    "start_time": "2021-07-03T11:49:38.718Z"
   },
   {
    "duration": 8,
    "start_time": "2021-07-03T11:49:51.870Z"
   },
   {
    "duration": 5,
    "start_time": "2021-07-03T11:49:53.210Z"
   },
   {
    "duration": 192,
    "start_time": "2021-07-03T11:50:11.482Z"
   },
   {
    "duration": 1384,
    "start_time": "2021-07-03T11:50:19.282Z"
   },
   {
    "duration": 4,
    "start_time": "2021-07-03T11:52:16.540Z"
   },
   {
    "duration": 5,
    "start_time": "2021-07-03T11:52:23.211Z"
   },
   {
    "duration": 5,
    "start_time": "2021-07-03T11:58:03.098Z"
   },
   {
    "duration": 6,
    "start_time": "2021-07-03T11:59:07.867Z"
   },
   {
    "duration": 5,
    "start_time": "2021-07-03T11:59:15.473Z"
   },
   {
    "duration": 5,
    "start_time": "2021-07-03T11:59:39.744Z"
   },
   {
    "duration": 9,
    "start_time": "2021-07-03T12:00:07.285Z"
   },
   {
    "duration": 7,
    "start_time": "2021-07-03T12:00:18.151Z"
   },
   {
    "duration": 179,
    "start_time": "2021-07-03T12:00:32.799Z"
   },
   {
    "duration": 3,
    "start_time": "2021-07-03T12:01:25.611Z"
   },
   {
    "duration": 10,
    "start_time": "2021-07-03T12:01:27.966Z"
   },
   {
    "duration": 10,
    "start_time": "2021-07-03T12:51:09.114Z"
   },
   {
    "duration": 191,
    "start_time": "2021-07-03T12:51:25.180Z"
   },
   {
    "duration": 62,
    "start_time": "2021-07-03T12:51:59.392Z"
   },
   {
    "duration": 1249,
    "start_time": "2021-07-03T12:52:07.195Z"
   },
   {
    "duration": 6,
    "start_time": "2021-07-03T12:53:44.739Z"
   },
   {
    "duration": 1223,
    "start_time": "2021-07-03T12:54:07.873Z"
   },
   {
    "duration": 1213,
    "start_time": "2021-07-03T12:54:42.017Z"
   },
   {
    "duration": 3,
    "start_time": "2021-07-03T12:54:56.998Z"
   },
   {
    "duration": 10,
    "start_time": "2021-07-03T12:55:02.919Z"
   },
   {
    "duration": 1251,
    "start_time": "2021-07-03T12:55:25.056Z"
   },
   {
    "duration": 4402,
    "start_time": "2021-07-03T12:55:42.550Z"
   },
   {
    "duration": 1540,
    "start_time": "2021-07-03T12:55:57.821Z"
   },
   {
    "duration": 1273,
    "start_time": "2021-07-03T12:57:23.797Z"
   },
   {
    "duration": 6,
    "start_time": "2021-07-03T12:57:40.365Z"
   },
   {
    "duration": 4,
    "start_time": "2021-07-03T12:58:32.175Z"
   },
   {
    "duration": 4,
    "start_time": "2021-07-03T12:59:06.705Z"
   },
   {
    "duration": 2,
    "start_time": "2021-07-03T12:59:16.058Z"
   },
   {
    "duration": 80,
    "start_time": "2021-07-03T12:59:17.406Z"
   },
   {
    "duration": 6,
    "start_time": "2021-07-03T12:59:19.584Z"
   },
   {
    "duration": 398,
    "start_time": "2021-07-03T12:59:29.759Z"
   },
   {
    "duration": 5,
    "start_time": "2021-07-03T12:59:48.253Z"
   },
   {
    "duration": 184,
    "start_time": "2021-07-03T13:00:02.620Z"
   },
   {
    "duration": 4,
    "start_time": "2021-07-03T13:00:31.623Z"
   },
   {
    "duration": 3,
    "start_time": "2021-07-03T13:00:37.416Z"
   },
   {
    "duration": 44,
    "start_time": "2021-07-03T13:00:38.342Z"
   },
   {
    "duration": 6,
    "start_time": "2021-07-03T13:00:39.408Z"
   },
   {
    "duration": 5,
    "start_time": "2021-07-03T13:00:46.490Z"
   },
   {
    "duration": 358,
    "start_time": "2021-07-03T13:00:49.229Z"
   },
   {
    "duration": 4,
    "start_time": "2021-07-03T13:01:06.106Z"
   },
   {
    "duration": 2,
    "start_time": "2021-07-03T13:01:09.713Z"
   },
   {
    "duration": 105,
    "start_time": "2021-07-03T13:01:11.680Z"
   },
   {
    "duration": 6,
    "start_time": "2021-07-03T13:01:13.040Z"
   },
   {
    "duration": 4,
    "start_time": "2021-07-03T13:01:15.437Z"
   },
   {
    "duration": 367,
    "start_time": "2021-07-03T13:01:17.046Z"
   },
   {
    "duration": 5,
    "start_time": "2021-07-03T13:01:26.254Z"
   },
   {
    "duration": 2,
    "start_time": "2021-07-03T13:01:32.529Z"
   },
   {
    "duration": 97,
    "start_time": "2021-07-03T13:01:33.290Z"
   },
   {
    "duration": 6,
    "start_time": "2021-07-03T13:01:35.650Z"
   },
   {
    "duration": 4,
    "start_time": "2021-07-03T13:01:36.307Z"
   },
   {
    "duration": 8,
    "start_time": "2021-07-03T13:01:38.406Z"
   },
   {
    "duration": 9,
    "start_time": "2021-07-03T13:02:24.185Z"
   },
   {
    "duration": 8,
    "start_time": "2021-07-03T13:02:41.966Z"
   },
   {
    "duration": 4,
    "start_time": "2021-07-03T13:04:59.500Z"
   },
   {
    "duration": 7,
    "start_time": "2021-07-03T13:05:07.292Z"
   },
   {
    "duration": 3,
    "start_time": "2021-07-03T13:05:17.821Z"
   },
   {
    "duration": 7,
    "start_time": "2021-07-03T13:05:19.197Z"
   },
   {
    "duration": 3,
    "start_time": "2021-07-03T13:05:51.465Z"
   },
   {
    "duration": 8,
    "start_time": "2021-07-03T13:06:00.733Z"
   },
   {
    "duration": 1622,
    "start_time": "2021-07-03T13:06:22.407Z"
   },
   {
    "duration": 4,
    "start_time": "2021-07-03T13:07:05.261Z"
   },
   {
    "duration": 3,
    "start_time": "2021-07-03T13:07:07.504Z"
   },
   {
    "duration": 3,
    "start_time": "2021-07-03T13:07:08.406Z"
   },
   {
    "duration": 8,
    "start_time": "2021-07-03T13:07:09.187Z"
   },
   {
    "duration": 7,
    "start_time": "2021-07-03T13:07:10.611Z"
   },
   {
    "duration": 6,
    "start_time": "2021-07-03T13:07:11.678Z"
   },
   {
    "duration": 3,
    "start_time": "2021-07-03T13:07:32.826Z"
   },
   {
    "duration": 5,
    "start_time": "2021-07-03T13:07:35.196Z"
   },
   {
    "duration": 4,
    "start_time": "2021-07-03T13:07:53.949Z"
   },
   {
    "duration": 6,
    "start_time": "2021-07-03T13:07:59.955Z"
   },
   {
    "duration": 4,
    "start_time": "2021-07-03T13:09:16.620Z"
   },
   {
    "duration": 7,
    "start_time": "2021-07-03T13:09:21.619Z"
   },
   {
    "duration": 5,
    "start_time": "2021-07-03T13:15:50.247Z"
   },
   {
    "duration": 384,
    "start_time": "2021-07-03T13:15:54.553Z"
   },
   {
    "duration": 4,
    "start_time": "2021-07-03T13:17:07.515Z"
   },
   {
    "duration": 6,
    "start_time": "2021-07-03T13:17:11.982Z"
   },
   {
    "duration": 8,
    "start_time": "2021-07-03T13:17:22.022Z"
   },
   {
    "duration": 3,
    "start_time": "2021-07-03T13:20:06.818Z"
   },
   {
    "duration": 3,
    "start_time": "2021-07-03T13:20:13.029Z"
   },
   {
    "duration": 3,
    "start_time": "2021-07-03T13:20:15.144Z"
   },
   {
    "duration": 1799,
    "start_time": "2021-07-03T13:20:22.585Z"
   },
   {
    "duration": 1813,
    "start_time": "2021-07-03T13:21:28.089Z"
   },
   {
    "duration": 3,
    "start_time": "2021-07-03T13:21:45.847Z"
   },
   {
    "duration": 1770,
    "start_time": "2021-07-03T13:21:50.780Z"
   },
   {
    "duration": 3,
    "start_time": "2021-07-03T13:22:02.839Z"
   },
   {
    "duration": 97,
    "start_time": "2021-07-03T13:22:03.990Z"
   },
   {
    "duration": 6,
    "start_time": "2021-07-03T13:22:20.563Z"
   },
   {
    "duration": 10,
    "start_time": "2021-07-03T13:22:25.755Z"
   },
   {
    "duration": 4,
    "start_time": "2021-07-03T15:24:56.554Z"
   },
   {
    "duration": 1451,
    "start_time": "2021-07-03T15:27:02.633Z"
   },
   {
    "duration": 1534,
    "start_time": "2021-07-03T15:27:40.851Z"
   },
   {
    "duration": 4,
    "start_time": "2021-07-03T15:28:12.248Z"
   },
   {
    "duration": 5,
    "start_time": "2021-07-03T15:31:51.127Z"
   },
   {
    "duration": 3,
    "start_time": "2021-07-03T15:43:19.481Z"
   },
   {
    "duration": 2,
    "start_time": "2021-07-03T15:43:31.709Z"
   },
   {
    "duration": 3,
    "start_time": "2021-07-03T15:43:41.979Z"
   },
   {
    "duration": 6816967,
    "start_time": "2021-07-03T15:43:46.911Z"
   },
   {
    "duration": 463,
    "start_time": "2021-07-03T17:37:23.417Z"
   },
   {
    "duration": 1120,
    "start_time": "2021-07-03T17:37:35.105Z"
   },
   {
    "duration": 272,
    "start_time": "2021-07-03T17:37:36.227Z"
   },
   {
    "duration": 60,
    "start_time": "2021-07-03T17:37:36.501Z"
   },
   {
    "duration": 29,
    "start_time": "2021-07-03T17:37:36.562Z"
   },
   {
    "duration": 92,
    "start_time": "2021-07-03T17:37:36.593Z"
   },
   {
    "duration": 35,
    "start_time": "2021-07-03T17:37:36.687Z"
   },
   {
    "duration": 13,
    "start_time": "2021-07-03T17:37:36.724Z"
   },
   {
    "duration": 357,
    "start_time": "2021-07-03T17:37:36.739Z"
   },
   {
    "duration": 57,
    "start_time": "2021-07-03T17:37:37.098Z"
   },
   {
    "duration": 29,
    "start_time": "2021-07-03T17:37:37.156Z"
   },
   {
    "duration": 8,
    "start_time": "2021-07-03T17:37:37.187Z"
   },
   {
    "duration": 19,
    "start_time": "2021-07-03T17:37:37.197Z"
   },
   {
    "duration": 4,
    "start_time": "2021-07-03T17:37:37.217Z"
   },
   {
    "duration": 344,
    "start_time": "2021-07-03T17:37:37.223Z"
   },
   {
    "duration": 7,
    "start_time": "2021-07-03T17:37:37.568Z"
   },
   {
    "duration": 11,
    "start_time": "2021-07-03T17:37:37.576Z"
   },
   {
    "duration": 8,
    "start_time": "2021-07-03T17:37:37.589Z"
   },
   {
    "duration": 7,
    "start_time": "2021-07-03T17:37:37.599Z"
   },
   {
    "duration": 9,
    "start_time": "2021-07-03T17:37:37.608Z"
   },
   {
    "duration": 86,
    "start_time": "2021-07-03T17:37:37.619Z"
   },
   {
    "duration": 15,
    "start_time": "2021-07-03T17:37:37.707Z"
   },
   {
    "duration": 115,
    "start_time": "2021-07-03T17:37:37.724Z"
   },
   {
    "duration": 360,
    "start_time": "2021-07-03T17:37:37.842Z"
   },
   {
    "duration": 362,
    "start_time": "2021-07-03T17:37:38.204Z"
   },
   {
    "duration": 339,
    "start_time": "2021-07-03T17:37:38.568Z"
   },
   {
    "duration": 295,
    "start_time": "2021-07-03T17:37:38.908Z"
   },
   {
    "duration": 356,
    "start_time": "2021-07-03T17:37:39.205Z"
   },
   {
    "duration": 4,
    "start_time": "2021-07-03T17:37:39.563Z"
   },
   {
    "duration": 17,
    "start_time": "2021-07-03T17:37:39.568Z"
   },
   {
    "duration": 3,
    "start_time": "2021-07-03T17:37:39.586Z"
   },
   {
    "duration": 9,
    "start_time": "2021-07-03T17:37:39.591Z"
   },
   {
    "duration": 111,
    "start_time": "2021-07-03T17:37:39.602Z"
   },
   {
    "duration": 354,
    "start_time": "2021-07-03T17:37:39.714Z"
   },
   {
    "duration": 3,
    "start_time": "2021-07-03T17:37:40.069Z"
   },
   {
    "duration": 11,
    "start_time": "2021-07-03T17:37:40.074Z"
   },
   {
    "duration": 8,
    "start_time": "2021-07-03T17:37:40.087Z"
   },
   {
    "duration": 6,
    "start_time": "2021-07-03T17:37:40.097Z"
   },
   {
    "duration": 6,
    "start_time": "2021-07-03T17:37:40.105Z"
   },
   {
    "duration": 4,
    "start_time": "2021-07-03T17:37:40.113Z"
   },
   {
    "duration": 1468,
    "start_time": "2021-07-03T17:37:40.118Z"
   },
   {
    "duration": 96,
    "start_time": "2021-07-03T17:37:41.590Z"
   },
   {
    "duration": 4,
    "start_time": "2021-07-03T17:37:41.688Z"
   },
   {
    "duration": 7,
    "start_time": "2021-07-03T17:37:41.693Z"
   },
   {
    "duration": 6,
    "start_time": "2021-07-03T17:37:41.701Z"
   },
   {
    "duration": 272,
    "start_time": "2021-07-03T17:37:41.708Z"
   },
   {
    "duration": 680,
    "start_time": "2021-07-03T17:37:41.302Z"
   },
   {
    "duration": 663,
    "start_time": "2021-07-03T17:37:41.320Z"
   },
   {
    "duration": 192,
    "start_time": "2021-07-03T17:37:45.922Z"
   },
   {
    "duration": 6,
    "start_time": "2021-07-03T17:37:52.046Z"
   },
   {
    "duration": 188,
    "start_time": "2021-07-03T17:37:55.082Z"
   },
   {
    "duration": 668,
    "start_time": "2021-07-03T17:38:13.757Z"
   },
   {
    "duration": 664,
    "start_time": "2021-07-03T17:39:30.094Z"
   },
   {
    "duration": 3,
    "start_time": "2021-07-03T17:41:42.934Z"
   },
   {
    "duration": 176,
    "start_time": "2021-07-03T17:41:44.755Z"
   },
   {
    "duration": 3,
    "start_time": "2021-07-03T17:42:23.811Z"
   },
   {
    "duration": 3,
    "start_time": "2021-07-03T17:42:24.619Z"
   },
   {
    "duration": 553,
    "start_time": "2021-07-03T17:42:55.146Z"
   },
   {
    "duration": 1135,
    "start_time": "2021-07-03T17:43:24.980Z"
   },
   {
    "duration": 272,
    "start_time": "2021-07-03T17:43:26.117Z"
   },
   {
    "duration": 58,
    "start_time": "2021-07-03T17:43:26.393Z"
   },
   {
    "duration": 33,
    "start_time": "2021-07-03T17:43:26.452Z"
   },
   {
    "duration": 83,
    "start_time": "2021-07-03T17:43:26.487Z"
   },
   {
    "duration": 38,
    "start_time": "2021-07-03T17:43:26.571Z"
   },
   {
    "duration": 10,
    "start_time": "2021-07-03T17:43:26.611Z"
   },
   {
    "duration": 358,
    "start_time": "2021-07-03T17:43:26.623Z"
   },
   {
    "duration": 54,
    "start_time": "2021-07-03T17:43:26.985Z"
   },
   {
    "duration": 16,
    "start_time": "2021-07-03T17:43:27.040Z"
   },
   {
    "duration": 6,
    "start_time": "2021-07-03T17:43:27.058Z"
   },
   {
    "duration": 16,
    "start_time": "2021-07-03T17:43:27.084Z"
   },
   {
    "duration": 3,
    "start_time": "2021-07-03T17:43:27.101Z"
   },
   {
    "duration": 316,
    "start_time": "2021-07-03T17:43:27.105Z"
   },
   {
    "duration": 5,
    "start_time": "2021-07-03T17:43:27.423Z"
   },
   {
    "duration": 8,
    "start_time": "2021-07-03T17:43:27.429Z"
   },
   {
    "duration": 7,
    "start_time": "2021-07-03T17:43:27.439Z"
   },
   {
    "duration": 7,
    "start_time": "2021-07-03T17:43:27.448Z"
   },
   {
    "duration": 30,
    "start_time": "2021-07-03T17:43:27.456Z"
   },
   {
    "duration": 53,
    "start_time": "2021-07-03T17:43:27.488Z"
   },
   {
    "duration": 15,
    "start_time": "2021-07-03T17:43:27.543Z"
   },
   {
    "duration": 108,
    "start_time": "2021-07-03T17:43:27.585Z"
   },
   {
    "duration": 358,
    "start_time": "2021-07-03T17:43:27.695Z"
   },
   {
    "duration": 348,
    "start_time": "2021-07-03T17:43:28.055Z"
   },
   {
    "duration": 342,
    "start_time": "2021-07-03T17:43:28.404Z"
   },
   {
    "duration": 297,
    "start_time": "2021-07-03T17:43:28.747Z"
   },
   {
    "duration": 350,
    "start_time": "2021-07-03T17:43:29.045Z"
   },
   {
    "duration": 4,
    "start_time": "2021-07-03T17:43:29.396Z"
   },
   {
    "duration": 5,
    "start_time": "2021-07-03T17:43:29.402Z"
   },
   {
    "duration": 5,
    "start_time": "2021-07-03T17:43:29.409Z"
   },
   {
    "duration": 7,
    "start_time": "2021-07-03T17:43:29.415Z"
   },
   {
    "duration": 122,
    "start_time": "2021-07-03T17:43:29.423Z"
   },
   {
    "duration": 377,
    "start_time": "2021-07-03T17:43:29.547Z"
   },
   {
    "duration": 4,
    "start_time": "2021-07-03T17:43:29.926Z"
   },
   {
    "duration": 8,
    "start_time": "2021-07-03T17:43:29.931Z"
   },
   {
    "duration": 5,
    "start_time": "2021-07-03T17:43:29.940Z"
   },
   {
    "duration": 4,
    "start_time": "2021-07-03T17:43:29.947Z"
   },
   {
    "duration": 7,
    "start_time": "2021-07-03T17:43:29.952Z"
   },
   {
    "duration": 5,
    "start_time": "2021-07-03T17:43:29.960Z"
   },
   {
    "duration": 1401,
    "start_time": "2021-07-03T17:43:29.985Z"
   },
   {
    "duration": 6,
    "start_time": "2021-07-03T17:43:31.388Z"
   },
   {
    "duration": 5,
    "start_time": "2021-07-03T17:43:31.485Z"
   },
   {
    "duration": 7,
    "start_time": "2021-07-03T17:43:31.491Z"
   },
   {
    "duration": 12,
    "start_time": "2021-07-03T17:43:31.500Z"
   },
   {
    "duration": 153607,
    "start_time": "2021-07-03T17:43:31.513Z"
   },
   {
    "duration": 6,
    "start_time": "2021-07-03T17:46:05.121Z"
   },
   {
    "duration": 829,
    "start_time": "2021-07-03T17:46:05.129Z"
   },
   {
    "duration": 4,
    "start_time": "2021-07-03T17:46:39.647Z"
   },
   {
    "duration": 177,
    "start_time": "2021-07-03T17:46:58.903Z"
   },
   {
    "duration": 178,
    "start_time": "2021-07-03T17:47:08.401Z"
   },
   {
    "duration": 4,
    "start_time": "2021-07-03T17:50:10.039Z"
   },
   {
    "duration": 3,
    "start_time": "2021-07-03T17:50:32.021Z"
   },
   {
    "duration": 3,
    "start_time": "2021-07-03T17:50:33.502Z"
   },
   {
    "duration": 310884,
    "start_time": "2021-07-03T17:50:35.120Z"
   },
   {
    "duration": 4,
    "start_time": "2021-07-03T17:56:25.725Z"
   },
   {
    "duration": 4,
    "start_time": "2021-07-03T17:56:28.098Z"
   },
   {
    "duration": 3,
    "start_time": "2021-07-03T17:57:06.207Z"
   },
   {
    "duration": 3,
    "start_time": "2021-07-03T17:57:07.814Z"
   },
   {
    "duration": 466139,
    "start_time": "2021-07-03T17:57:09.363Z"
   },
   {
    "duration": 4,
    "start_time": "2021-07-03T18:05:57.844Z"
   },
   {
    "duration": 4,
    "start_time": "2021-07-03T18:06:00.838Z"
   },
   {
    "duration": 3,
    "start_time": "2021-07-03T18:06:26.626Z"
   },
   {
    "duration": 3,
    "start_time": "2021-07-03T18:06:27.932Z"
   },
   {
    "duration": 616248,
    "start_time": "2021-07-03T18:06:29.012Z"
   },
   {
    "duration": 4,
    "start_time": "2021-07-03T18:21:20.231Z"
   },
   {
    "duration": 4,
    "start_time": "2021-07-03T18:21:22.420Z"
   },
   {
    "duration": 3,
    "start_time": "2021-07-03T18:21:42.626Z"
   },
   {
    "duration": 3,
    "start_time": "2021-07-03T18:21:43.757Z"
   },
   {
    "duration": 766060,
    "start_time": "2021-07-03T18:21:45.509Z"
   },
   {
    "duration": 4,
    "start_time": "2021-07-03T18:37:53.505Z"
   },
   {
    "duration": 3,
    "start_time": "2021-07-03T18:37:55.029Z"
   },
   {
    "duration": 4,
    "start_time": "2021-07-03T18:39:08.098Z"
   },
   {
    "duration": 4,
    "start_time": "2021-07-03T18:39:17.622Z"
   },
   {
    "duration": 2,
    "start_time": "2021-07-03T18:39:20.430Z"
   },
   {
    "duration": 2,
    "start_time": "2021-07-03T18:39:27.944Z"
   },
   {
    "duration": 2,
    "start_time": "2021-07-03T18:39:29.090Z"
   },
   {
    "duration": 916423,
    "start_time": "2021-07-03T18:39:29.952Z"
   },
   {
    "duration": 4,
    "start_time": "2021-07-03T18:56:11.007Z"
   },
   {
    "duration": 3,
    "start_time": "2021-07-03T18:56:12.262Z"
   },
   {
    "duration": 2,
    "start_time": "2021-07-03T18:57:48.044Z"
   },
   {
    "duration": 3,
    "start_time": "2021-07-03T18:58:12.119Z"
   },
   {
    "duration": 1078524,
    "start_time": "2021-07-03T18:58:13.427Z"
   },
   {
    "duration": 4,
    "start_time": "2021-07-03T19:16:23.280Z"
   },
   {
    "duration": 5,
    "start_time": "2021-07-03T19:16:24.229Z"
   },
   {
    "duration": 4,
    "start_time": "2021-07-03T19:16:41.372Z"
   },
   {
    "duration": 3,
    "start_time": "2021-07-03T19:16:42.223Z"
   },
   {
    "duration": 1238833,
    "start_time": "2021-07-03T19:16:43.070Z"
   },
   {
    "duration": 6,
    "start_time": "2021-07-03T19:41:48.233Z"
   },
   {
    "duration": 4,
    "start_time": "2021-07-03T19:41:49.533Z"
   },
   {
    "duration": 3,
    "start_time": "2021-07-03T19:42:05.752Z"
   },
   {
    "duration": 3,
    "start_time": "2021-07-03T19:42:06.533Z"
   },
   {
    "duration": 1400925,
    "start_time": "2021-07-03T19:42:07.283Z"
   },
   {
    "duration": 4,
    "start_time": "2021-07-03T20:05:46.622Z"
   },
   {
    "duration": 4,
    "start_time": "2021-07-03T20:05:48.121Z"
   },
   {
    "duration": 3,
    "start_time": "2021-07-03T20:06:13.884Z"
   },
   {
    "duration": 3,
    "start_time": "2021-07-03T20:06:15.358Z"
   },
   {
    "duration": 3,
    "start_time": "2021-07-03T20:06:16.420Z"
   },
   {
    "duration": 1546713,
    "start_time": "2021-07-03T20:06:17.380Z"
   },
   {
    "duration": 3,
    "start_time": "2021-07-03T20:32:13.688Z"
   },
   {
    "duration": 4,
    "start_time": "2021-07-03T20:32:15.048Z"
   },
   {
    "duration": 5,
    "start_time": "2021-07-03T20:33:23.121Z"
   },
   {
    "duration": 5,
    "start_time": "2021-07-03T20:35:15.866Z"
   },
   {
    "duration": 3,
    "start_time": "2021-07-03T20:35:21.502Z"
   },
   {
    "duration": 3,
    "start_time": "2021-07-03T20:35:22.809Z"
   },
   {
    "duration": 1521,
    "start_time": "2021-07-03T20:35:23.864Z"
   },
   {
    "duration": 4,
    "start_time": "2021-07-03T20:35:31.060Z"
   },
   {
    "duration": 5,
    "start_time": "2021-07-03T20:36:38.226Z"
   },
   {
    "duration": 3,
    "start_time": "2021-07-03T20:36:41.779Z"
   },
   {
    "duration": 3,
    "start_time": "2021-07-03T20:36:42.614Z"
   },
   {
    "duration": 1412,
    "start_time": "2021-07-03T20:36:43.576Z"
   },
   {
    "duration": 4,
    "start_time": "2021-07-03T20:36:48.305Z"
   },
   {
    "duration": 1091,
    "start_time": "2021-07-04T07:04:20.808Z"
   },
   {
    "duration": 251,
    "start_time": "2021-07-04T07:04:21.900Z"
   },
   {
    "duration": 56,
    "start_time": "2021-07-04T07:04:22.153Z"
   },
   {
    "duration": 16,
    "start_time": "2021-07-04T07:04:22.210Z"
   },
   {
    "duration": 80,
    "start_time": "2021-07-04T07:04:22.227Z"
   },
   {
    "duration": 30,
    "start_time": "2021-07-04T07:04:22.309Z"
   },
   {
    "duration": 14,
    "start_time": "2021-07-04T07:04:22.340Z"
   },
   {
    "duration": 336,
    "start_time": "2021-07-04T07:04:22.356Z"
   },
   {
    "duration": 46,
    "start_time": "2021-07-04T07:04:22.694Z"
   },
   {
    "duration": 17,
    "start_time": "2021-07-04T07:04:22.742Z"
   },
   {
    "duration": 6,
    "start_time": "2021-07-04T07:04:22.761Z"
   },
   {
    "duration": 30,
    "start_time": "2021-07-04T07:04:22.768Z"
   },
   {
    "duration": 3,
    "start_time": "2021-07-04T07:04:22.799Z"
   },
   {
    "duration": 302,
    "start_time": "2021-07-04T07:04:22.804Z"
   },
   {
    "duration": 5,
    "start_time": "2021-07-04T07:04:23.108Z"
   },
   {
    "duration": 12,
    "start_time": "2021-07-04T07:04:23.114Z"
   },
   {
    "duration": 10,
    "start_time": "2021-07-04T07:04:23.128Z"
   },
   {
    "duration": 12,
    "start_time": "2021-07-04T07:04:23.139Z"
   },
   {
    "duration": 12,
    "start_time": "2021-07-04T07:04:23.153Z"
   },
   {
    "duration": 49,
    "start_time": "2021-07-04T07:04:23.166Z"
   },
   {
    "duration": 12,
    "start_time": "2021-07-04T07:04:23.217Z"
   },
   {
    "duration": 107,
    "start_time": "2021-07-04T07:04:23.231Z"
   },
   {
    "duration": 311,
    "start_time": "2021-07-04T07:04:23.341Z"
   },
   {
    "duration": 286,
    "start_time": "2021-07-04T07:04:23.654Z"
   },
   {
    "duration": 286,
    "start_time": "2021-07-04T07:04:23.942Z"
   },
   {
    "duration": 255,
    "start_time": "2021-07-04T07:04:24.230Z"
   },
   {
    "duration": 300,
    "start_time": "2021-07-04T07:04:24.491Z"
   },
   {
    "duration": 4,
    "start_time": "2021-07-04T07:04:24.792Z"
   },
   {
    "duration": 10,
    "start_time": "2021-07-04T07:04:24.798Z"
   },
   {
    "duration": 10,
    "start_time": "2021-07-04T07:04:24.809Z"
   },
   {
    "duration": 13,
    "start_time": "2021-07-04T07:04:24.820Z"
   },
   {
    "duration": 103,
    "start_time": "2021-07-04T07:04:24.835Z"
   },
   {
    "duration": 293,
    "start_time": "2021-07-04T07:04:24.939Z"
   },
   {
    "duration": 2,
    "start_time": "2021-07-04T07:04:25.234Z"
   },
   {
    "duration": 10,
    "start_time": "2021-07-04T07:04:25.238Z"
   },
   {
    "duration": 8,
    "start_time": "2021-07-04T07:04:25.250Z"
   },
   {
    "duration": 7,
    "start_time": "2021-07-04T07:04:25.259Z"
   },
   {
    "duration": 9,
    "start_time": "2021-07-04T07:04:25.268Z"
   },
   {
    "duration": 6,
    "start_time": "2021-07-04T07:04:25.279Z"
   },
   {
    "duration": 1206,
    "start_time": "2021-07-04T07:04:25.286Z"
   },
   {
    "duration": 5,
    "start_time": "2021-07-04T07:04:26.494Z"
   },
   {
    "duration": 99,
    "start_time": "2021-07-04T07:04:26.501Z"
   },
   {
    "duration": 6,
    "start_time": "2021-07-04T07:04:26.601Z"
   },
   {
    "duration": 8,
    "start_time": "2021-07-04T07:04:26.608Z"
   },
   {
    "duration": 12,
    "start_time": "2021-07-04T07:04:26.618Z"
   },
   {
    "duration": 1175917,
    "start_time": "2021-07-04T07:04:26.631Z"
   },
   {
    "duration": 3,
    "start_time": "2021-07-04T07:24:02.550Z"
   },
   {
    "duration": 7,
    "start_time": "2021-07-04T07:24:02.555Z"
   },
   {
    "duration": 7,
    "start_time": "2021-07-04T07:24:02.563Z"
   },
   {
    "duration": 5,
    "start_time": "2021-07-04T07:31:56.290Z"
   },
   {
    "duration": 13,
    "start_time": "2021-07-04T07:32:00.413Z"
   },
   {
    "duration": 33,
    "start_time": "2021-07-04T07:32:02.003Z"
   },
   {
    "duration": 11,
    "start_time": "2021-07-04T07:32:42.275Z"
   },
   {
    "duration": 7,
    "start_time": "2021-07-04T07:33:00.194Z"
   },
   {
    "duration": 42,
    "start_time": "2021-07-04T07:33:24.569Z"
   },
   {
    "duration": 7,
    "start_time": "2021-07-04T07:33:35.539Z"
   },
   {
    "duration": 7,
    "start_time": "2021-07-04T07:33:50.727Z"
   },
   {
    "duration": 10,
    "start_time": "2021-07-04T07:34:01.733Z"
   },
   {
    "duration": 325,
    "start_time": "2021-07-04T08:34:01.029Z"
   },
   {
    "duration": 89,
    "start_time": "2021-07-04T08:36:21.203Z"
   },
   {
    "duration": 1461,
    "start_time": "2021-07-04T08:36:25.640Z"
   },
   {
    "duration": 4,
    "start_time": "2021-07-04T08:36:31.659Z"
   },
   {
    "duration": 4,
    "start_time": "2021-07-04T08:36:34.064Z"
   },
   {
    "duration": 8,
    "start_time": "2021-07-04T08:36:38.028Z"
   },
   {
    "duration": 4,
    "start_time": "2021-07-04T08:56:34.880Z"
   },
   {
    "duration": 3,
    "start_time": "2021-07-04T09:01:51.973Z"
   },
   {
    "duration": 259,
    "start_time": "2021-07-04T09:04:11.970Z"
   },
   {
    "duration": 5,
    "start_time": "2021-07-04T09:04:18.831Z"
   },
   {
    "duration": 4,
    "start_time": "2021-07-04T09:04:20.311Z"
   },
   {
    "duration": 13,
    "start_time": "2021-07-04T09:04:21.494Z"
   },
   {
    "duration": 5,
    "start_time": "2021-07-04T09:05:24.627Z"
   },
   {
    "duration": 6,
    "start_time": "2021-07-04T09:05:44.460Z"
   },
   {
    "duration": 51,
    "start_time": "2021-07-04T09:13:26.645Z"
   },
   {
    "duration": 47,
    "start_time": "2021-07-04T09:13:35.569Z"
   },
   {
    "duration": 8,
    "start_time": "2021-07-04T09:29:01.436Z"
   },
   {
    "duration": 245,
    "start_time": "2021-07-04T09:29:14.032Z"
   },
   {
    "duration": 10,
    "start_time": "2021-07-04T09:29:23.736Z"
   },
   {
    "duration": 4,
    "start_time": "2021-07-04T09:40:28.706Z"
   },
   {
    "duration": 29,
    "start_time": "2021-07-04T09:42:06.285Z"
   },
   {
    "duration": 4,
    "start_time": "2021-07-04T09:42:09.581Z"
   },
   {
    "duration": 290,
    "start_time": "2021-07-04T09:42:16.182Z"
   },
   {
    "duration": 297,
    "start_time": "2021-07-04T09:42:27.478Z"
   },
   {
    "duration": 27,
    "start_time": "2021-07-04T09:43:00.702Z"
   },
   {
    "duration": 4,
    "start_time": "2021-07-04T09:43:03.943Z"
   },
   {
    "duration": 284,
    "start_time": "2021-07-04T09:43:13.304Z"
   },
   {
    "duration": 3,
    "start_time": "2021-07-04T09:43:54.096Z"
   },
   {
    "duration": 5,
    "start_time": "2021-07-04T09:43:54.769Z"
   },
   {
    "duration": 4,
    "start_time": "2021-07-04T09:43:55.350Z"
   },
   {
    "duration": 3,
    "start_time": "2021-07-04T09:43:55.979Z"
   },
   {
    "duration": 2,
    "start_time": "2021-07-04T09:43:57.495Z"
   },
   {
    "duration": 2,
    "start_time": "2021-07-04T09:43:58.119Z"
   },
   {
    "duration": 248,
    "start_time": "2021-07-04T09:43:59.380Z"
   },
   {
    "duration": 9,
    "start_time": "2021-07-04T09:44:38.006Z"
   },
   {
    "duration": 1100,
    "start_time": "2021-07-04T09:46:25.899Z"
   },
   {
    "duration": 253,
    "start_time": "2021-07-04T09:46:27.001Z"
   },
   {
    "duration": 54,
    "start_time": "2021-07-04T09:46:27.256Z"
   },
   {
    "duration": 16,
    "start_time": "2021-07-04T09:46:27.312Z"
   },
   {
    "duration": 79,
    "start_time": "2021-07-04T09:46:27.329Z"
   },
   {
    "duration": 30,
    "start_time": "2021-07-04T09:46:27.410Z"
   },
   {
    "duration": 10,
    "start_time": "2021-07-04T09:46:27.442Z"
   },
   {
    "duration": 343,
    "start_time": "2021-07-04T09:46:27.454Z"
   },
   {
    "duration": 49,
    "start_time": "2021-07-04T09:46:27.799Z"
   },
   {
    "duration": 20,
    "start_time": "2021-07-04T09:46:27.849Z"
   },
   {
    "duration": 21,
    "start_time": "2021-07-04T09:46:27.871Z"
   },
   {
    "duration": 14,
    "start_time": "2021-07-04T09:46:27.894Z"
   },
   {
    "duration": 3,
    "start_time": "2021-07-04T09:46:27.909Z"
   },
   {
    "duration": 305,
    "start_time": "2021-07-04T09:46:27.914Z"
   },
   {
    "duration": 4,
    "start_time": "2021-07-04T09:46:28.221Z"
   },
   {
    "duration": 9,
    "start_time": "2021-07-04T09:46:28.227Z"
   },
   {
    "duration": 17,
    "start_time": "2021-07-04T09:46:28.237Z"
   },
   {
    "duration": 8,
    "start_time": "2021-07-04T09:46:28.256Z"
   },
   {
    "duration": 16,
    "start_time": "2021-07-04T09:46:28.265Z"
   },
   {
    "duration": 17,
    "start_time": "2021-07-04T09:46:28.283Z"
   },
   {
    "duration": 49,
    "start_time": "2021-07-04T09:46:28.301Z"
   },
   {
    "duration": 14,
    "start_time": "2021-07-04T09:46:28.351Z"
   },
   {
    "duration": 108,
    "start_time": "2021-07-04T09:46:28.368Z"
   },
   {
    "duration": 313,
    "start_time": "2021-07-04T09:46:28.478Z"
   },
   {
    "duration": 432,
    "start_time": "2021-07-04T09:46:28.793Z"
   },
   {
    "duration": 351,
    "start_time": "2021-07-04T09:46:29.226Z"
   },
   {
    "duration": 259,
    "start_time": "2021-07-04T09:46:29.578Z"
   },
   {
    "duration": 301,
    "start_time": "2021-07-04T09:46:29.839Z"
   },
   {
    "duration": 78,
    "start_time": "2021-07-04T09:46:30.142Z"
   },
   {
    "duration": 704,
    "start_time": "2021-07-04T09:46:29.517Z"
   },
   {
    "duration": 703,
    "start_time": "2021-07-04T09:46:29.519Z"
   },
   {
    "duration": 701,
    "start_time": "2021-07-04T09:46:29.522Z"
   },
   {
    "duration": 701,
    "start_time": "2021-07-04T09:46:29.523Z"
   },
   {
    "duration": 674,
    "start_time": "2021-07-04T09:46:29.551Z"
   },
   {
    "duration": 663,
    "start_time": "2021-07-04T09:46:29.563Z"
   },
   {
    "duration": 649,
    "start_time": "2021-07-04T09:46:29.578Z"
   },
   {
    "duration": 647,
    "start_time": "2021-07-04T09:46:29.581Z"
   },
   {
    "duration": 629,
    "start_time": "2021-07-04T09:46:29.600Z"
   },
   {
    "duration": 611,
    "start_time": "2021-07-04T09:46:29.619Z"
   },
   {
    "duration": 591,
    "start_time": "2021-07-04T09:46:29.640Z"
   },
   {
    "duration": 578,
    "start_time": "2021-07-04T09:46:29.654Z"
   },
   {
    "duration": 562,
    "start_time": "2021-07-04T09:46:29.671Z"
   },
   {
    "duration": 549,
    "start_time": "2021-07-04T09:46:29.685Z"
   },
   {
    "duration": 534,
    "start_time": "2021-07-04T09:46:29.701Z"
   },
   {
    "duration": 521,
    "start_time": "2021-07-04T09:46:29.715Z"
   },
   {
    "duration": 502,
    "start_time": "2021-07-04T09:46:29.735Z"
   },
   {
    "duration": 489,
    "start_time": "2021-07-04T09:46:29.749Z"
   },
   {
    "duration": 474,
    "start_time": "2021-07-04T09:46:29.765Z"
   },
   {
    "duration": 470,
    "start_time": "2021-07-04T09:46:29.770Z"
   },
   {
    "duration": 458,
    "start_time": "2021-07-04T09:46:29.783Z"
   },
   {
    "duration": 454,
    "start_time": "2021-07-04T09:46:29.788Z"
   },
   {
    "duration": 451,
    "start_time": "2021-07-04T09:46:29.792Z"
   },
   {
    "duration": 450,
    "start_time": "2021-07-04T09:46:29.794Z"
   },
   {
    "duration": 448,
    "start_time": "2021-07-04T09:46:29.796Z"
   },
   {
    "duration": 447,
    "start_time": "2021-07-04T09:46:29.798Z"
   },
   {
    "duration": 443,
    "start_time": "2021-07-04T09:46:29.803Z"
   },
   {
    "duration": 441,
    "start_time": "2021-07-04T09:46:29.806Z"
   },
   {
    "duration": 439,
    "start_time": "2021-07-04T09:46:29.809Z"
   },
   {
    "duration": 437,
    "start_time": "2021-07-04T09:46:29.811Z"
   },
   {
    "duration": 434,
    "start_time": "2021-07-04T09:46:29.815Z"
   },
   {
    "duration": 430,
    "start_time": "2021-07-04T09:46:29.820Z"
   },
   {
    "duration": 427,
    "start_time": "2021-07-04T09:46:29.824Z"
   },
   {
    "duration": 427,
    "start_time": "2021-07-04T09:46:29.825Z"
   },
   {
    "duration": 425,
    "start_time": "2021-07-04T09:46:29.828Z"
   },
   {
    "duration": 4,
    "start_time": "2021-07-04T09:47:10.819Z"
   },
   {
    "duration": 4,
    "start_time": "2021-07-04T09:47:11.555Z"
   },
   {
    "duration": 4,
    "start_time": "2021-07-04T09:47:12.165Z"
   },
   {
    "duration": 4,
    "start_time": "2021-07-04T09:47:12.876Z"
   },
   {
    "duration": 99,
    "start_time": "2021-07-04T09:47:13.980Z"
   },
   {
    "duration": 3,
    "start_time": "2021-07-04T09:47:15.502Z"
   },
   {
    "duration": 9,
    "start_time": "2021-07-04T09:47:17.789Z"
   },
   {
    "duration": 294,
    "start_time": "2021-07-04T09:47:23.500Z"
   },
   {
    "duration": 3,
    "start_time": "2021-07-04T09:47:37.820Z"
   },
   {
    "duration": 5,
    "start_time": "2021-07-04T09:47:38.906Z"
   },
   {
    "duration": 4,
    "start_time": "2021-07-04T09:47:39.817Z"
   },
   {
    "duration": 4,
    "start_time": "2021-07-04T09:47:40.650Z"
   },
   {
    "duration": 3,
    "start_time": "2021-07-04T09:47:41.690Z"
   },
   {
    "duration": 2,
    "start_time": "2021-07-04T09:47:42.761Z"
   },
   {
    "duration": 1572,
    "start_time": "2021-07-04T09:47:43.822Z"
   },
   {
    "duration": 4,
    "start_time": "2021-07-04T09:47:46.868Z"
   },
   {
    "duration": 5,
    "start_time": "2021-07-04T09:47:48.267Z"
   },
   {
    "duration": 5,
    "start_time": "2021-07-04T10:41:39.803Z"
   },
   {
    "duration": 63,
    "start_time": "2021-07-04T10:42:59.093Z"
   },
   {
    "duration": 22,
    "start_time": "2021-07-04T10:43:11.684Z"
   },
   {
    "duration": 21,
    "start_time": "2021-07-04T10:43:27.898Z"
   },
   {
    "duration": 21,
    "start_time": "2021-07-04T10:43:40.645Z"
   },
   {
    "duration": 22,
    "start_time": "2021-07-04T10:43:51.186Z"
   },
   {
    "duration": 1039,
    "start_time": "2021-07-04T11:18:48.766Z"
   },
   {
    "duration": 255,
    "start_time": "2021-07-04T11:18:49.807Z"
   },
   {
    "duration": 51,
    "start_time": "2021-07-04T11:18:50.064Z"
   },
   {
    "duration": 16,
    "start_time": "2021-07-04T11:18:50.118Z"
   },
   {
    "duration": 90,
    "start_time": "2021-07-04T11:18:50.136Z"
   },
   {
    "duration": 35,
    "start_time": "2021-07-04T11:18:50.228Z"
   },
   {
    "duration": 15,
    "start_time": "2021-07-04T11:18:50.265Z"
   },
   {
    "duration": 333,
    "start_time": "2021-07-04T11:18:50.292Z"
   },
   {
    "duration": 46,
    "start_time": "2021-07-04T11:18:50.627Z"
   },
   {
    "duration": 27,
    "start_time": "2021-07-04T11:18:50.674Z"
   },
   {
    "duration": 6,
    "start_time": "2021-07-04T11:18:50.702Z"
   },
   {
    "duration": 14,
    "start_time": "2021-07-04T11:18:50.710Z"
   },
   {
    "duration": 3,
    "start_time": "2021-07-04T11:18:50.725Z"
   },
   {
    "duration": 300,
    "start_time": "2021-07-04T11:18:50.730Z"
   },
   {
    "duration": 4,
    "start_time": "2021-07-04T11:18:51.032Z"
   },
   {
    "duration": 9,
    "start_time": "2021-07-04T11:18:51.037Z"
   },
   {
    "duration": 12,
    "start_time": "2021-07-04T11:18:51.047Z"
   },
   {
    "duration": 6,
    "start_time": "2021-07-04T11:18:51.060Z"
   },
   {
    "duration": 13,
    "start_time": "2021-07-04T11:18:51.067Z"
   },
   {
    "duration": 10,
    "start_time": "2021-07-04T11:18:51.091Z"
   },
   {
    "duration": 47,
    "start_time": "2021-07-04T11:18:51.102Z"
   },
   {
    "duration": 13,
    "start_time": "2021-07-04T11:18:51.151Z"
   },
   {
    "duration": 93,
    "start_time": "2021-07-04T11:18:51.191Z"
   },
   {
    "duration": 312,
    "start_time": "2021-07-04T11:18:51.286Z"
   },
   {
    "duration": 298,
    "start_time": "2021-07-04T11:18:51.600Z"
   },
   {
    "duration": 292,
    "start_time": "2021-07-04T11:18:51.900Z"
   },
   {
    "duration": 289,
    "start_time": "2021-07-04T11:18:52.193Z"
   },
   {
    "duration": 342,
    "start_time": "2021-07-04T11:18:52.483Z"
   },
   {
    "duration": 4,
    "start_time": "2021-07-04T11:18:52.827Z"
   },
   {
    "duration": 10,
    "start_time": "2021-07-04T11:18:52.833Z"
   },
   {
    "duration": 7,
    "start_time": "2021-07-04T11:18:52.844Z"
   },
   {
    "duration": 10,
    "start_time": "2021-07-04T11:18:52.853Z"
   },
   {
    "duration": 107,
    "start_time": "2021-07-04T11:18:52.865Z"
   },
   {
    "duration": 4,
    "start_time": "2021-07-04T11:18:52.974Z"
   },
   {
    "duration": 20,
    "start_time": "2021-07-04T11:18:52.979Z"
   },
   {
    "duration": 341,
    "start_time": "2021-07-04T11:18:53.001Z"
   },
   {
    "duration": 3,
    "start_time": "2021-07-04T11:18:53.344Z"
   },
   {
    "duration": 10,
    "start_time": "2021-07-04T11:18:53.349Z"
   },
   {
    "duration": 8,
    "start_time": "2021-07-04T11:18:53.361Z"
   },
   {
    "duration": 8,
    "start_time": "2021-07-04T11:18:53.370Z"
   },
   {
    "duration": 18,
    "start_time": "2021-07-04T11:18:53.379Z"
   },
   {
    "duration": 7,
    "start_time": "2021-07-04T11:18:53.399Z"
   },
   {
    "duration": 984,
    "start_time": "2021-07-04T11:18:53.408Z"
   },
   {
    "duration": 6,
    "start_time": "2021-07-04T11:18:54.394Z"
   },
   {
    "duration": 97,
    "start_time": "2021-07-04T11:18:54.401Z"
   },
   {
    "duration": 10,
    "start_time": "2021-07-04T11:18:54.500Z"
   },
   {
    "duration": 47,
    "start_time": "2021-07-04T11:18:54.512Z"
   },
   {
    "duration": 8,
    "start_time": "2021-07-04T11:18:54.561Z"
   },
   {
    "duration": 1178791,
    "start_time": "2021-07-04T11:18:54.570Z"
   },
   {
    "duration": 3,
    "start_time": "2021-07-04T11:38:33.362Z"
   },
   {
    "duration": 9,
    "start_time": "2021-07-04T11:38:33.367Z"
   },
   {
    "duration": 13,
    "start_time": "2021-07-04T11:38:33.378Z"
   },
   {
    "duration": 12,
    "start_time": "2021-07-04T11:38:33.392Z"
   },
   {
    "duration": 14,
    "start_time": "2021-07-04T11:38:33.405Z"
   },
   {
    "duration": 31,
    "start_time": "2021-07-04T11:38:33.421Z"
   },
   {
    "duration": 6,
    "start_time": "2021-07-04T11:38:33.454Z"
   },
   {
    "duration": 8,
    "start_time": "2021-07-04T11:38:33.461Z"
   },
   {
    "duration": 20,
    "start_time": "2021-07-04T11:38:33.471Z"
   },
   {
    "duration": 9,
    "start_time": "2021-07-04T11:38:33.492Z"
   },
   {
    "duration": 6,
    "start_time": "2021-07-04T11:38:33.503Z"
   },
   {
    "duration": 15,
    "start_time": "2021-07-04T11:38:33.510Z"
   },
   {
    "duration": 24,
    "start_time": "2021-07-04T11:38:33.526Z"
   },
   {
    "duration": 6,
    "start_time": "2021-07-04T11:38:33.551Z"
   },
   {
    "duration": 29,
    "start_time": "2021-07-04T12:02:14.272Z"
   },
   {
    "duration": 4,
    "start_time": "2021-07-04T12:02:15.226Z"
   },
   {
    "duration": 30,
    "start_time": "2021-07-04T12:13:52.439Z"
   },
   {
    "duration": 4,
    "start_time": "2021-07-04T12:13:53.216Z"
   },
   {
    "duration": 5,
    "start_time": "2021-07-04T15:41:04.455Z"
   },
   {
    "duration": 3,
    "start_time": "2021-07-04T15:41:12.692Z"
   },
   {
    "duration": 3,
    "start_time": "2021-07-04T15:41:13.921Z"
   },
   {
    "duration": 871,
    "start_time": "2021-07-04T15:41:15.011Z"
   },
   {
    "duration": 4,
    "start_time": "2021-07-04T15:42:44.916Z"
   },
   {
    "duration": 2,
    "start_time": "2021-07-04T15:42:46.516Z"
   },
   {
    "duration": 3,
    "start_time": "2021-07-04T15:42:48.058Z"
   },
   {
    "duration": 1240,
    "start_time": "2021-07-04T15:42:49.861Z"
   },
   {
    "duration": 5,
    "start_time": "2021-07-04T15:42:57.173Z"
   },
   {
    "duration": 4,
    "start_time": "2021-07-04T15:42:58.268Z"
   },
   {
    "duration": 4,
    "start_time": "2021-07-04T15:56:02.182Z"
   },
   {
    "duration": 255,
    "start_time": "2021-07-04T15:56:30.722Z"
   },
   {
    "duration": 464,
    "start_time": "2021-07-04T15:56:35.642Z"
   },
   {
    "duration": 3,
    "start_time": "2021-07-04T15:56:51.583Z"
   },
   {
    "duration": 478,
    "start_time": "2021-07-04T15:56:52.903Z"
   },
   {
    "duration": 4,
    "start_time": "2021-07-04T15:58:12.801Z"
   },
   {
    "duration": 1885,
    "start_time": "2021-07-04T15:58:14.081Z"
   },
   {
    "duration": 3,
    "start_time": "2021-07-04T15:58:33.222Z"
   },
   {
    "duration": 457,
    "start_time": "2021-07-04T15:58:34.023Z"
   },
   {
    "duration": 3,
    "start_time": "2021-07-04T15:59:07.625Z"
   },
   {
    "duration": 5,
    "start_time": "2021-07-04T15:59:08.244Z"
   },
   {
    "duration": 243,
    "start_time": "2021-07-04T16:30:01.079Z"
   },
   {
    "duration": 14,
    "start_time": "2021-07-04T16:30:34.573Z"
   },
   {
    "duration": 34,
    "start_time": "2021-07-04T16:30:42.418Z"
   },
   {
    "duration": 1066,
    "start_time": "2021-07-04T16:31:20.132Z"
   },
   {
    "duration": 265,
    "start_time": "2021-07-04T16:31:21.199Z"
   },
   {
    "duration": 55,
    "start_time": "2021-07-04T16:31:21.468Z"
   },
   {
    "duration": 15,
    "start_time": "2021-07-04T16:31:21.525Z"
   },
   {
    "duration": 82,
    "start_time": "2021-07-04T16:31:21.541Z"
   },
   {
    "duration": 30,
    "start_time": "2021-07-04T16:31:21.625Z"
   },
   {
    "duration": 15,
    "start_time": "2021-07-04T16:31:21.657Z"
   },
   {
    "duration": 347,
    "start_time": "2021-07-04T16:31:21.674Z"
   },
   {
    "duration": 47,
    "start_time": "2021-07-04T16:31:22.023Z"
   },
   {
    "duration": 31,
    "start_time": "2021-07-04T16:31:22.071Z"
   },
   {
    "duration": 7,
    "start_time": "2021-07-04T16:31:22.104Z"
   },
   {
    "duration": 27,
    "start_time": "2021-07-04T16:31:22.112Z"
   },
   {
    "duration": 3,
    "start_time": "2021-07-04T16:31:22.141Z"
   },
   {
    "duration": 299,
    "start_time": "2021-07-04T16:31:22.145Z"
   },
   {
    "duration": 5,
    "start_time": "2021-07-04T16:31:22.445Z"
   },
   {
    "duration": 13,
    "start_time": "2021-07-04T16:31:22.451Z"
   },
   {
    "duration": 13,
    "start_time": "2021-07-04T16:31:22.466Z"
   },
   {
    "duration": 10,
    "start_time": "2021-07-04T16:31:22.481Z"
   },
   {
    "duration": 8,
    "start_time": "2021-07-04T16:31:22.493Z"
   },
   {
    "duration": 10,
    "start_time": "2021-07-04T16:31:22.502Z"
   },
   {
    "duration": 46,
    "start_time": "2021-07-04T16:31:22.513Z"
   },
   {
    "duration": 32,
    "start_time": "2021-07-04T16:31:22.563Z"
   },
   {
    "duration": 101,
    "start_time": "2021-07-04T16:31:22.597Z"
   },
   {
    "duration": 506,
    "start_time": "2021-07-04T16:31:22.699Z"
   },
   {
    "duration": 294,
    "start_time": "2021-07-04T16:31:23.207Z"
   },
   {
    "duration": 290,
    "start_time": "2021-07-04T16:31:23.503Z"
   },
   {
    "duration": 257,
    "start_time": "2021-07-04T16:31:23.795Z"
   },
   {
    "duration": 295,
    "start_time": "2021-07-04T16:31:24.053Z"
   },
   {
    "duration": 3,
    "start_time": "2021-07-04T16:31:24.350Z"
   },
   {
    "duration": 12,
    "start_time": "2021-07-04T16:31:24.354Z"
   },
   {
    "duration": 11,
    "start_time": "2021-07-04T16:31:24.368Z"
   },
   {
    "duration": 15,
    "start_time": "2021-07-04T16:31:24.380Z"
   },
   {
    "duration": 101,
    "start_time": "2021-07-04T16:31:24.396Z"
   },
   {
    "duration": 4,
    "start_time": "2021-07-04T16:31:24.499Z"
   },
   {
    "duration": 321,
    "start_time": "2021-07-04T16:31:24.504Z"
   },
   {
    "duration": 3,
    "start_time": "2021-07-04T16:31:24.826Z"
   },
   {
    "duration": 9,
    "start_time": "2021-07-04T16:31:24.831Z"
   },
   {
    "duration": 7,
    "start_time": "2021-07-04T16:31:24.841Z"
   },
   {
    "duration": 6,
    "start_time": "2021-07-04T16:31:24.849Z"
   },
   {
    "duration": 9,
    "start_time": "2021-07-04T16:31:24.856Z"
   },
   {
    "duration": 5,
    "start_time": "2021-07-04T16:31:24.867Z"
   },
   {
    "duration": 1220,
    "start_time": "2021-07-04T16:31:24.874Z"
   },
   {
    "duration": 94,
    "start_time": "2021-07-04T16:31:26.100Z"
   },
   {
    "duration": 8,
    "start_time": "2021-07-04T16:31:26.196Z"
   },
   {
    "duration": 6,
    "start_time": "2021-07-04T16:31:26.205Z"
   },
   {
    "duration": 6,
    "start_time": "2021-07-04T16:31:26.212Z"
   },
   {
    "duration": 6,
    "start_time": "2021-07-04T16:31:26.220Z"
   },
   {
    "duration": 1169830,
    "start_time": "2021-07-04T16:31:26.228Z"
   },
   {
    "duration": 3,
    "start_time": "2021-07-04T16:50:56.060Z"
   },
   {
    "duration": 10,
    "start_time": "2021-07-04T16:50:56.064Z"
   },
   {
    "duration": 6,
    "start_time": "2021-07-04T16:50:56.076Z"
   },
   {
    "duration": 14,
    "start_time": "2021-07-04T16:50:56.091Z"
   },
   {
    "duration": 34,
    "start_time": "2021-07-04T16:50:56.107Z"
   },
   {
    "duration": 8,
    "start_time": "2021-07-04T16:50:56.143Z"
   },
   {
    "duration": 4,
    "start_time": "2021-07-04T16:50:56.152Z"
   },
   {
    "duration": 34,
    "start_time": "2021-07-04T16:50:56.157Z"
   },
   {
    "duration": 9,
    "start_time": "2021-07-04T16:50:56.192Z"
   },
   {
    "duration": 3,
    "start_time": "2021-07-04T16:50:56.203Z"
   },
   {
    "duration": 8,
    "start_time": "2021-07-04T16:50:56.208Z"
   },
   {
    "duration": 18,
    "start_time": "2021-07-04T16:50:56.218Z"
   },
   {
    "duration": 6,
    "start_time": "2021-07-04T16:50:56.237Z"
   },
   {
    "duration": 14,
    "start_time": "2021-07-04T17:02:54.450Z"
   },
   {
    "duration": 35,
    "start_time": "2021-07-04T17:02:56.843Z"
   },
   {
    "duration": 309,
    "start_time": "2021-07-04T17:03:25.335Z"
   },
   {
    "duration": 13,
    "start_time": "2021-07-04T17:03:35.423Z"
   },
   {
    "duration": 34,
    "start_time": "2021-07-04T17:03:37.176Z"
   },
   {
    "duration": 1116,
    "start_time": "2021-07-04T17:03:49.999Z"
   },
   {
    "duration": 274,
    "start_time": "2021-07-04T17:03:51.117Z"
   },
   {
    "duration": 52,
    "start_time": "2021-07-04T17:03:51.393Z"
   },
   {
    "duration": 17,
    "start_time": "2021-07-04T17:03:51.446Z"
   },
   {
    "duration": 92,
    "start_time": "2021-07-04T17:03:51.465Z"
   },
   {
    "duration": 39,
    "start_time": "2021-07-04T17:03:51.559Z"
   },
   {
    "duration": 13,
    "start_time": "2021-07-04T17:03:51.599Z"
   },
   {
    "duration": 354,
    "start_time": "2021-07-04T17:03:51.614Z"
   },
   {
    "duration": 51,
    "start_time": "2021-07-04T17:03:51.969Z"
   },
   {
    "duration": 21,
    "start_time": "2021-07-04T17:03:52.021Z"
   },
   {
    "duration": 7,
    "start_time": "2021-07-04T17:03:52.043Z"
   },
   {
    "duration": 16,
    "start_time": "2021-07-04T17:03:52.051Z"
   },
   {
    "duration": 2,
    "start_time": "2021-07-04T17:03:52.069Z"
   },
   {
    "duration": 303,
    "start_time": "2021-07-04T17:03:52.091Z"
   },
   {
    "duration": 5,
    "start_time": "2021-07-04T17:03:52.395Z"
   },
   {
    "duration": 9,
    "start_time": "2021-07-04T17:03:52.401Z"
   },
   {
    "duration": 13,
    "start_time": "2021-07-04T17:03:52.412Z"
   },
   {
    "duration": 7,
    "start_time": "2021-07-04T17:03:52.427Z"
   },
   {
    "duration": 9,
    "start_time": "2021-07-04T17:03:52.436Z"
   },
   {
    "duration": 10,
    "start_time": "2021-07-04T17:03:52.446Z"
   },
   {
    "duration": 75,
    "start_time": "2021-07-04T17:03:52.458Z"
   },
   {
    "duration": 14,
    "start_time": "2021-07-04T17:03:52.535Z"
   },
   {
    "duration": 108,
    "start_time": "2021-07-04T17:03:52.552Z"
   },
   {
    "duration": 320,
    "start_time": "2021-07-04T17:03:52.662Z"
   },
   {
    "duration": 293,
    "start_time": "2021-07-04T17:03:52.991Z"
   },
   {
    "duration": 307,
    "start_time": "2021-07-04T17:03:53.286Z"
   },
   {
    "duration": 264,
    "start_time": "2021-07-04T17:03:53.595Z"
   },
   {
    "duration": 301,
    "start_time": "2021-07-04T17:03:53.860Z"
   },
   {
    "duration": 4,
    "start_time": "2021-07-04T17:03:54.162Z"
   },
   {
    "duration": 13,
    "start_time": "2021-07-04T17:03:54.167Z"
   },
   {
    "duration": 10,
    "start_time": "2021-07-04T17:03:54.181Z"
   },
   {
    "duration": 7,
    "start_time": "2021-07-04T17:03:54.193Z"
   },
   {
    "duration": 203,
    "start_time": "2021-07-04T17:03:54.202Z"
   },
   {
    "duration": 3,
    "start_time": "2021-07-04T17:03:54.407Z"
   },
   {
    "duration": 403,
    "start_time": "2021-07-04T17:03:54.412Z"
   },
   {
    "duration": 3,
    "start_time": "2021-07-04T17:03:54.816Z"
   },
   {
    "duration": 9,
    "start_time": "2021-07-04T17:03:54.821Z"
   },
   {
    "duration": 16,
    "start_time": "2021-07-04T17:03:54.832Z"
   },
   {
    "duration": 15,
    "start_time": "2021-07-04T17:03:54.849Z"
   },
   {
    "duration": 32,
    "start_time": "2021-07-04T17:03:54.865Z"
   },
   {
    "duration": 9,
    "start_time": "2021-07-04T17:03:54.899Z"
   },
   {
    "duration": 1285,
    "start_time": "2021-07-04T17:03:54.909Z"
   },
   {
    "duration": 4,
    "start_time": "2021-07-04T17:03:56.196Z"
   },
   {
    "duration": 92,
    "start_time": "2021-07-04T17:03:56.201Z"
   },
   {
    "duration": 10,
    "start_time": "2021-07-04T17:03:56.295Z"
   },
   {
    "duration": 19,
    "start_time": "2021-07-04T17:03:56.307Z"
   },
   {
    "duration": 5,
    "start_time": "2021-07-04T17:03:56.327Z"
   },
   {
    "duration": 1173800,
    "start_time": "2021-07-04T17:03:56.334Z"
   },
   {
    "duration": 3,
    "start_time": "2021-07-04T17:23:30.136Z"
   },
   {
    "duration": 12,
    "start_time": "2021-07-04T17:23:30.140Z"
   },
   {
    "duration": 15,
    "start_time": "2021-07-04T17:23:30.153Z"
   },
   {
    "duration": 19,
    "start_time": "2021-07-04T17:23:30.170Z"
   },
   {
    "duration": 32,
    "start_time": "2021-07-04T17:23:30.191Z"
   },
   {
    "duration": 7,
    "start_time": "2021-07-04T17:23:30.224Z"
   },
   {
    "duration": 4,
    "start_time": "2021-07-04T17:23:30.233Z"
   },
   {
    "duration": 14,
    "start_time": "2021-07-04T17:23:30.238Z"
   },
   {
    "duration": 16,
    "start_time": "2021-07-04T17:23:30.253Z"
   },
   {
    "duration": 21,
    "start_time": "2021-07-04T17:23:30.271Z"
   },
   {
    "duration": 10,
    "start_time": "2021-07-04T17:23:30.294Z"
   },
   {
    "duration": 20,
    "start_time": "2021-07-04T17:23:30.306Z"
   },
   {
    "duration": 6,
    "start_time": "2021-07-04T17:23:30.328Z"
   },
   {
    "duration": 2528,
    "start_time": "2021-07-04T17:47:32.701Z"
   },
   {
    "duration": 893,
    "start_time": "2021-07-04T17:47:35.232Z"
   },
   {
    "duration": 202,
    "start_time": "2021-07-04T17:47:36.128Z"
   },
   {
    "duration": 89,
    "start_time": "2021-07-04T17:47:36.333Z"
   },
   {
    "duration": 203,
    "start_time": "2021-07-04T17:47:36.425Z"
   },
   {
    "duration": 181,
    "start_time": "2021-07-04T17:47:36.631Z"
   },
   {
    "duration": 24,
    "start_time": "2021-07-04T17:47:36.816Z"
   },
   {
    "duration": 1294,
    "start_time": "2021-07-04T17:47:36.844Z"
   },
   {
    "duration": 292,
    "start_time": "2021-07-04T17:47:38.141Z"
   },
   {
    "duration": 92,
    "start_time": "2021-07-04T17:47:38.435Z"
   },
   {
    "duration": 967,
    "start_time": "2021-07-04T17:48:41.608Z"
   },
   {
    "duration": -752,
    "start_time": "2021-07-04T17:48:43.330Z"
   },
   {
    "duration": 345,
    "start_time": "2021-07-04T17:48:43.815Z"
   },
   {
    "duration": 577,
    "start_time": "2021-07-04T17:48:43.586Z"
   },
   {
    "duration": 558,
    "start_time": "2021-07-04T17:48:43.606Z"
   },
   {
    "duration": 547,
    "start_time": "2021-07-04T17:48:43.619Z"
   },
   {
    "duration": 9,
    "start_time": "2021-07-04T17:48:45.168Z"
   },
   {
    "duration": 9,
    "start_time": "2021-07-04T17:48:45.524Z"
   },
   {
    "duration": 11,
    "start_time": "2021-07-04T17:48:45.831Z"
   },
   {
    "duration": 165,
    "start_time": "2021-07-04T17:48:46.185Z"
   },
   {
    "duration": 23,
    "start_time": "2021-07-04T17:48:46.411Z"
   },
   {
    "duration": 325,
    "start_time": "2021-07-04T17:48:47.614Z"
   },
   {
    "duration": 6,
    "start_time": "2021-07-04T17:49:03.844Z"
   },
   {
    "duration": 22,
    "start_time": "2021-07-04T17:49:07.637Z"
   },
   {
    "duration": 354,
    "start_time": "2021-07-04T17:49:13.285Z"
   },
   {
    "duration": 6,
    "start_time": "2021-07-04T17:49:17.382Z"
   },
   {
    "duration": 1395,
    "start_time": "2021-07-04T17:49:18.725Z"
   },
   {
    "duration": 8,
    "start_time": "2021-07-04T17:49:23.484Z"
   },
   {
    "duration": 6,
    "start_time": "2021-07-04T17:49:25.652Z"
   },
   {
    "duration": 35,
    "start_time": "2021-07-04T17:49:26.474Z"
   },
   {
    "duration": 7,
    "start_time": "2021-07-04T17:49:27.611Z"
   },
   {
    "duration": 9,
    "start_time": "2021-07-04T17:49:28.231Z"
   },
   {
    "duration": 10,
    "start_time": "2021-07-04T17:49:28.765Z"
   },
   {
    "duration": 188,
    "start_time": "2021-07-04T17:49:29.123Z"
   },
   {
    "duration": 63,
    "start_time": "2021-07-04T17:49:29.582Z"
   },
   {
    "duration": 376,
    "start_time": "2021-07-04T17:49:31.464Z"
   },
   {
    "duration": 1114,
    "start_time": "2021-07-04T17:51:42.713Z"
   },
   {
    "duration": 1178,
    "start_time": "2021-07-04T17:51:43.831Z"
   },
   {
    "duration": 1100,
    "start_time": "2021-07-04T17:51:45.012Z"
   },
   {
    "duration": 1306,
    "start_time": "2021-07-04T17:51:46.114Z"
   },
   {
    "duration": 1230,
    "start_time": "2021-07-04T17:51:47.423Z"
   },
   {
    "duration": 6,
    "start_time": "2021-07-04T17:51:48.708Z"
   },
   {
    "duration": 7,
    "start_time": "2021-07-04T17:51:48.716Z"
   },
   {
    "duration": 9,
    "start_time": "2021-07-04T17:51:48.726Z"
   },
   {
    "duration": 72,
    "start_time": "2021-07-04T17:51:48.737Z"
   },
   {
    "duration": 106,
    "start_time": "2021-07-04T17:51:48.812Z"
   },
   {
    "duration": 6,
    "start_time": "2021-07-04T17:51:49.037Z"
   },
   {
    "duration": 1346,
    "start_time": "2021-07-04T17:51:50.293Z"
   },
   {
    "duration": 4,
    "start_time": "2021-07-04T17:53:46.966Z"
   },
   {
    "duration": 8,
    "start_time": "2021-07-04T17:53:48.087Z"
   },
   {
    "duration": 5,
    "start_time": "2021-07-04T17:54:21.447Z"
   },
   {
    "duration": 6,
    "start_time": "2021-07-04T17:54:22.937Z"
   },
   {
    "duration": 4,
    "start_time": "2021-07-04T17:54:47.677Z"
   },
   {
    "duration": 4,
    "start_time": "2021-07-04T17:54:48.627Z"
   },
   {
    "duration": 1662,
    "start_time": "2021-07-04T17:54:49.747Z"
   },
   {
    "duration": 22,
    "start_time": "2021-07-04T17:54:52.987Z"
   },
   {
    "duration": 7,
    "start_time": "2021-07-04T17:54:54.077Z"
   },
   {
    "duration": 4,
    "start_time": "2021-07-04T17:54:54.647Z"
   },
   {
    "duration": 4,
    "start_time": "2021-07-04T17:54:57.137Z"
   },
   {
    "duration": 4,
    "start_time": "2021-07-04T17:54:57.466Z"
   },
   {
    "duration": 1140,
    "start_time": "2021-07-05T11:35:25.040Z"
   },
   {
    "duration": 271,
    "start_time": "2021-07-05T11:35:26.182Z"
   },
   {
    "duration": 52,
    "start_time": "2021-07-05T11:35:26.455Z"
   },
   {
    "duration": 15,
    "start_time": "2021-07-05T11:35:26.509Z"
   },
   {
    "duration": 687,
    "start_time": "2021-07-05T11:35:26.526Z"
   },
   {
    "duration": 35,
    "start_time": "2021-07-05T11:35:27.214Z"
   },
   {
    "duration": 12,
    "start_time": "2021-07-05T11:35:27.252Z"
   },
   {
    "duration": 350,
    "start_time": "2021-07-05T11:35:27.267Z"
   },
   {
    "duration": 54,
    "start_time": "2021-07-05T11:35:27.619Z"
   },
   {
    "duration": 16,
    "start_time": "2021-07-05T11:35:27.675Z"
   },
   {
    "duration": 6,
    "start_time": "2021-07-05T11:35:27.693Z"
   },
   {
    "duration": 20,
    "start_time": "2021-07-05T11:35:27.701Z"
   },
   {
    "duration": 21,
    "start_time": "2021-07-05T11:35:27.722Z"
   },
   {
    "duration": 325,
    "start_time": "2021-07-05T11:35:27.745Z"
   },
   {
    "duration": 5,
    "start_time": "2021-07-05T11:35:28.072Z"
   },
   {
    "duration": 8,
    "start_time": "2021-07-05T11:35:28.079Z"
   },
   {
    "duration": 12,
    "start_time": "2021-07-05T11:35:28.089Z"
   },
   {
    "duration": 6,
    "start_time": "2021-07-05T11:35:28.103Z"
   },
   {
    "duration": 32,
    "start_time": "2021-07-05T11:35:28.110Z"
   },
   {
    "duration": 9,
    "start_time": "2021-07-05T11:35:28.148Z"
   },
   {
    "duration": 48,
    "start_time": "2021-07-05T11:35:28.159Z"
   },
   {
    "duration": 36,
    "start_time": "2021-07-05T11:35:28.208Z"
   },
   {
    "duration": 108,
    "start_time": "2021-07-05T11:35:28.249Z"
   },
   {
    "duration": 336,
    "start_time": "2021-07-05T11:35:28.359Z"
   },
   {
    "duration": 329,
    "start_time": "2021-07-05T11:35:28.696Z"
   },
   {
    "duration": 329,
    "start_time": "2021-07-05T11:35:29.027Z"
   },
   {
    "duration": 287,
    "start_time": "2021-07-05T11:35:29.358Z"
   },
   {
    "duration": 319,
    "start_time": "2021-07-05T11:35:29.647Z"
   },
   {
    "duration": 4,
    "start_time": "2021-07-05T11:35:29.967Z"
   },
   {
    "duration": 24,
    "start_time": "2021-07-05T11:35:29.972Z"
   },
   {
    "duration": 25,
    "start_time": "2021-07-05T11:35:29.997Z"
   },
   {
    "duration": 49,
    "start_time": "2021-07-05T11:35:30.023Z"
   },
   {
    "duration": 110,
    "start_time": "2021-07-05T11:35:30.073Z"
   },
   {
    "duration": 3,
    "start_time": "2021-07-05T11:35:30.185Z"
   },
   {
    "duration": 339,
    "start_time": "2021-07-05T11:35:30.189Z"
   },
   {
    "duration": 2,
    "start_time": "2021-07-05T11:35:30.530Z"
   },
   {
    "duration": 362,
    "start_time": "2021-07-05T11:35:30.534Z"
   },
   {
    "duration": 251,
    "start_time": "2021-07-05T11:35:30.647Z"
   },
   {
    "duration": 246,
    "start_time": "2021-07-05T11:35:30.653Z"
   },
   {
    "duration": 241,
    "start_time": "2021-07-05T11:35:30.659Z"
   },
   {
    "duration": 237,
    "start_time": "2021-07-05T11:35:30.665Z"
   },
   {
    "duration": 233,
    "start_time": "2021-07-05T11:35:30.670Z"
   },
   {
    "duration": 230,
    "start_time": "2021-07-05T11:35:30.674Z"
   },
   {
    "duration": 228,
    "start_time": "2021-07-05T11:35:30.678Z"
   },
   {
    "duration": 226,
    "start_time": "2021-07-05T11:35:30.681Z"
   },
   {
    "duration": 223,
    "start_time": "2021-07-05T11:35:30.685Z"
   },
   {
    "duration": 220,
    "start_time": "2021-07-05T11:35:30.689Z"
   },
   {
    "duration": 218,
    "start_time": "2021-07-05T11:35:30.693Z"
   },
   {
    "duration": 215,
    "start_time": "2021-07-05T11:35:30.697Z"
   },
   {
    "duration": 212,
    "start_time": "2021-07-05T11:35:30.701Z"
   },
   {
    "duration": 211,
    "start_time": "2021-07-05T11:35:30.704Z"
   },
   {
    "duration": 206,
    "start_time": "2021-07-05T11:35:30.710Z"
   },
   {
    "duration": 203,
    "start_time": "2021-07-05T11:35:30.714Z"
   },
   {
    "duration": 195,
    "start_time": "2021-07-05T11:35:30.723Z"
   },
   {
    "duration": 189,
    "start_time": "2021-07-05T11:35:30.730Z"
   },
   {
    "duration": 186,
    "start_time": "2021-07-05T11:35:30.735Z"
   },
   {
    "duration": 181,
    "start_time": "2021-07-05T11:35:30.741Z"
   },
   {
    "duration": 175,
    "start_time": "2021-07-05T11:35:30.748Z"
   },
   {
    "duration": 172,
    "start_time": "2021-07-05T11:35:30.753Z"
   },
   {
    "duration": 165,
    "start_time": "2021-07-05T11:35:30.761Z"
   },
   {
    "duration": 158,
    "start_time": "2021-07-05T11:35:30.769Z"
   },
   {
    "duration": 74,
    "start_time": "2021-07-05T11:48:48.718Z"
   },
   {
    "duration": 39,
    "start_time": "2021-07-05T11:48:50.167Z"
   },
   {
    "duration": 3,
    "start_time": "2021-07-05T11:48:58.723Z"
   },
   {
    "duration": 6,
    "start_time": "2021-07-05T11:49:03.883Z"
   },
   {
    "duration": 4,
    "start_time": "2021-07-05T11:49:10.408Z"
   },
   {
    "duration": 13,
    "start_time": "2021-07-05T11:49:25.618Z"
   },
   {
    "duration": 33,
    "start_time": "2021-07-05T11:49:27.433Z"
   },
   {
    "duration": 8,
    "start_time": "2021-07-05T11:49:32.237Z"
   },
   {
    "duration": 4,
    "start_time": "2021-07-05T11:49:37.186Z"
   },
   {
    "duration": 8,
    "start_time": "2021-07-05T11:49:41.379Z"
   },
   {
    "duration": 10,
    "start_time": "2021-07-05T11:49:42.967Z"
   },
   {
    "duration": 4,
    "start_time": "2021-07-05T11:49:49.963Z"
   },
   {
    "duration": 4,
    "start_time": "2021-07-05T11:49:51.587Z"
   },
   {
    "duration": 2,
    "start_time": "2021-07-05T11:49:57.380Z"
   },
   {
    "duration": 3,
    "start_time": "2021-07-05T11:49:58.326Z"
   },
   {
    "duration": 6,
    "start_time": "2021-07-05T11:49:59.388Z"
   },
   {
    "duration": 3,
    "start_time": "2021-07-05T11:50:03.307Z"
   },
   {
    "duration": 347,
    "start_time": "2021-07-05T11:50:04.763Z"
   },
   {
    "duration": 3,
    "start_time": "2021-07-05T11:50:12.788Z"
   },
   {
    "duration": 311,
    "start_time": "2021-07-05T11:50:18.341Z"
   },
   {
    "duration": 8,
    "start_time": "2021-07-05T11:50:25.588Z"
   },
   {
    "duration": 1125,
    "start_time": "2021-07-05T11:50:49.641Z"
   },
   {
    "duration": 259,
    "start_time": "2021-07-05T11:50:50.769Z"
   },
   {
    "duration": 62,
    "start_time": "2021-07-05T11:50:51.030Z"
   },
   {
    "duration": 15,
    "start_time": "2021-07-05T11:50:51.094Z"
   },
   {
    "duration": 78,
    "start_time": "2021-07-05T11:50:51.110Z"
   },
   {
    "duration": 32,
    "start_time": "2021-07-05T11:50:51.190Z"
   },
   {
    "duration": 19,
    "start_time": "2021-07-05T11:50:51.224Z"
   },
   {
    "duration": 339,
    "start_time": "2021-07-05T11:50:51.246Z"
   },
   {
    "duration": 59,
    "start_time": "2021-07-05T11:50:51.587Z"
   },
   {
    "duration": 16,
    "start_time": "2021-07-05T11:50:51.647Z"
   },
   {
    "duration": 6,
    "start_time": "2021-07-05T11:50:51.665Z"
   },
   {
    "duration": 19,
    "start_time": "2021-07-05T11:50:51.673Z"
   },
   {
    "duration": 4,
    "start_time": "2021-07-05T11:50:51.694Z"
   },
   {
    "duration": 325,
    "start_time": "2021-07-05T11:50:51.700Z"
   },
   {
    "duration": 5,
    "start_time": "2021-07-05T11:50:52.027Z"
   },
   {
    "duration": 4,
    "start_time": "2021-07-05T11:50:52.041Z"
   },
   {
    "duration": 13,
    "start_time": "2021-07-05T11:50:52.047Z"
   },
   {
    "duration": 6,
    "start_time": "2021-07-05T11:50:52.062Z"
   },
   {
    "duration": 19,
    "start_time": "2021-07-05T11:50:52.070Z"
   },
   {
    "duration": 18,
    "start_time": "2021-07-05T11:50:52.091Z"
   },
   {
    "duration": 58,
    "start_time": "2021-07-05T11:50:52.111Z"
   },
   {
    "duration": 20,
    "start_time": "2021-07-05T11:50:52.170Z"
   },
   {
    "duration": 113,
    "start_time": "2021-07-05T11:50:52.194Z"
   },
   {
    "duration": 440,
    "start_time": "2021-07-05T11:50:52.309Z"
   },
   {
    "duration": 351,
    "start_time": "2021-07-05T11:50:52.751Z"
   },
   {
    "duration": 325,
    "start_time": "2021-07-05T11:50:53.104Z"
   },
   {
    "duration": 301,
    "start_time": "2021-07-05T11:50:53.431Z"
   },
   {
    "duration": 500,
    "start_time": "2021-07-05T11:50:53.734Z"
   },
   {
    "duration": 6,
    "start_time": "2021-07-05T11:50:54.236Z"
   },
   {
    "duration": 10,
    "start_time": "2021-07-05T11:50:54.244Z"
   },
   {
    "duration": 15,
    "start_time": "2021-07-05T11:50:54.256Z"
   },
   {
    "duration": 23,
    "start_time": "2021-07-05T11:50:54.273Z"
   },
   {
    "duration": 125,
    "start_time": "2021-07-05T11:50:54.298Z"
   },
   {
    "duration": 4,
    "start_time": "2021-07-05T11:50:54.425Z"
   },
   {
    "duration": 496,
    "start_time": "2021-07-05T11:50:54.430Z"
   },
   {
    "duration": 3,
    "start_time": "2021-07-05T11:50:54.928Z"
   },
   {
    "duration": 6,
    "start_time": "2021-07-05T11:50:54.940Z"
   },
   {
    "duration": 10,
    "start_time": "2021-07-05T11:50:54.948Z"
   },
   {
    "duration": 8,
    "start_time": "2021-07-05T11:50:54.960Z"
   },
   {
    "duration": 9,
    "start_time": "2021-07-05T11:50:54.969Z"
   },
   {
    "duration": 10,
    "start_time": "2021-07-05T11:50:54.980Z"
   },
   {
    "duration": 1649,
    "start_time": "2021-07-05T11:50:54.992Z"
   },
   {
    "duration": 4,
    "start_time": "2021-07-05T11:50:56.643Z"
   },
   {
    "duration": 11,
    "start_time": "2021-07-05T11:50:56.648Z"
   },
   {
    "duration": 87,
    "start_time": "2021-07-05T11:50:56.660Z"
   },
   {
    "duration": 18,
    "start_time": "2021-07-05T11:50:56.749Z"
   },
   {
    "duration": 14,
    "start_time": "2021-07-05T11:50:56.769Z"
   },
   {
    "duration": 1232348,
    "start_time": "2021-07-05T11:50:56.785Z"
   },
   {
    "duration": 7,
    "start_time": "2021-07-05T12:11:29.135Z"
   },
   {
    "duration": 14,
    "start_time": "2021-07-05T12:11:29.143Z"
   },
   {
    "duration": 5,
    "start_time": "2021-07-05T12:11:29.158Z"
   },
   {
    "duration": 16,
    "start_time": "2021-07-05T12:11:29.165Z"
   },
   {
    "duration": 35,
    "start_time": "2021-07-05T12:11:29.183Z"
   },
   {
    "duration": 23,
    "start_time": "2021-07-05T12:11:29.220Z"
   },
   {
    "duration": 4,
    "start_time": "2021-07-05T12:11:29.244Z"
   },
   {
    "duration": 17,
    "start_time": "2021-07-05T12:11:29.249Z"
   },
   {
    "duration": 9,
    "start_time": "2021-07-05T12:11:29.268Z"
   },
   {
    "duration": 4,
    "start_time": "2021-07-05T12:11:29.279Z"
   },
   {
    "duration": 13,
    "start_time": "2021-07-05T12:11:29.285Z"
   },
   {
    "duration": 21,
    "start_time": "2021-07-05T12:11:29.299Z"
   },
   {
    "duration": 6,
    "start_time": "2021-07-05T12:11:29.322Z"
   },
   {
    "duration": 11,
    "start_time": "2021-07-05T12:11:29.330Z"
   },
   {
    "duration": 14,
    "start_time": "2021-07-05T12:11:29.343Z"
   },
   {
    "duration": 10,
    "start_time": "2021-07-05T12:11:29.359Z"
   },
   {
    "duration": 5,
    "start_time": "2021-07-05T12:11:29.371Z"
   },
   {
    "duration": 8,
    "start_time": "2021-07-05T12:11:29.378Z"
   },
   {
    "duration": 370,
    "start_time": "2021-07-05T12:16:11.966Z"
   },
   {
    "duration": 117,
    "start_time": "2021-07-05T12:18:12.544Z"
   },
   {
    "duration": 1087,
    "start_time": "2021-07-05T12:53:06.766Z"
   },
   {
    "duration": 254,
    "start_time": "2021-07-05T12:53:07.855Z"
   },
   {
    "duration": 53,
    "start_time": "2021-07-05T12:53:08.111Z"
   },
   {
    "duration": 14,
    "start_time": "2021-07-05T12:53:08.166Z"
   },
   {
    "duration": 82,
    "start_time": "2021-07-05T12:53:08.182Z"
   },
   {
    "duration": 31,
    "start_time": "2021-07-05T12:53:08.266Z"
   },
   {
    "duration": 13,
    "start_time": "2021-07-05T12:53:08.298Z"
   },
   {
    "duration": 327,
    "start_time": "2021-07-05T12:53:08.314Z"
   },
   {
    "duration": 51,
    "start_time": "2021-07-05T12:53:08.643Z"
   },
   {
    "duration": 16,
    "start_time": "2021-07-05T12:53:08.696Z"
   },
   {
    "duration": 27,
    "start_time": "2021-07-05T12:53:08.714Z"
   },
   {
    "duration": 16,
    "start_time": "2021-07-05T12:53:08.742Z"
   },
   {
    "duration": 4,
    "start_time": "2021-07-05T12:53:08.759Z"
   },
   {
    "duration": 310,
    "start_time": "2021-07-05T12:53:08.764Z"
   },
   {
    "duration": 5,
    "start_time": "2021-07-05T12:53:09.076Z"
   },
   {
    "duration": 19,
    "start_time": "2021-07-05T12:53:09.082Z"
   },
   {
    "duration": 23,
    "start_time": "2021-07-05T12:53:09.102Z"
   },
   {
    "duration": 12,
    "start_time": "2021-07-05T12:53:09.127Z"
   },
   {
    "duration": 14,
    "start_time": "2021-07-05T12:53:09.140Z"
   },
   {
    "duration": 11,
    "start_time": "2021-07-05T12:53:09.156Z"
   },
   {
    "duration": 50,
    "start_time": "2021-07-05T12:53:09.169Z"
   },
   {
    "duration": 23,
    "start_time": "2021-07-05T12:53:09.220Z"
   },
   {
    "duration": 104,
    "start_time": "2021-07-05T12:53:09.246Z"
   },
   {
    "duration": 336,
    "start_time": "2021-07-05T12:53:09.352Z"
   },
   {
    "duration": 315,
    "start_time": "2021-07-05T12:53:09.690Z"
   },
   {
    "duration": 308,
    "start_time": "2021-07-05T12:53:10.007Z"
   },
   {
    "duration": 268,
    "start_time": "2021-07-05T12:53:10.316Z"
   },
   {
    "duration": 325,
    "start_time": "2021-07-05T12:53:10.585Z"
   },
   {
    "duration": 3,
    "start_time": "2021-07-05T12:53:10.912Z"
   },
   {
    "duration": 17,
    "start_time": "2021-07-05T12:53:10.916Z"
   },
   {
    "duration": 22,
    "start_time": "2021-07-05T12:53:10.934Z"
   },
   {
    "duration": 16,
    "start_time": "2021-07-05T12:53:10.957Z"
   },
   {
    "duration": 101,
    "start_time": "2021-07-05T12:53:10.974Z"
   },
   {
    "duration": 3,
    "start_time": "2021-07-05T12:53:11.077Z"
   },
   {
    "duration": 413,
    "start_time": "2021-07-05T12:53:11.082Z"
   },
   {
    "duration": 3,
    "start_time": "2021-07-05T12:53:11.496Z"
   },
   {
    "duration": 13,
    "start_time": "2021-07-05T12:53:11.501Z"
   },
   {
    "duration": 9,
    "start_time": "2021-07-05T12:53:11.516Z"
   },
   {
    "duration": 7,
    "start_time": "2021-07-05T12:53:11.527Z"
   },
   {
    "duration": 17,
    "start_time": "2021-07-05T12:53:11.535Z"
   },
   {
    "duration": 9,
    "start_time": "2021-07-05T12:53:11.553Z"
   },
   {
    "duration": 1078,
    "start_time": "2021-07-05T12:53:11.563Z"
   },
   {
    "duration": 5,
    "start_time": "2021-07-05T12:53:12.644Z"
   },
   {
    "duration": 12,
    "start_time": "2021-07-05T12:53:12.651Z"
   },
   {
    "duration": 7,
    "start_time": "2021-07-05T12:53:12.665Z"
   },
   {
    "duration": 15,
    "start_time": "2021-07-05T12:53:12.674Z"
   },
   {
    "duration": 10,
    "start_time": "2021-07-05T12:53:12.691Z"
   },
   {
    "duration": 1213867,
    "start_time": "2021-07-05T12:53:12.703Z"
   },
   {
    "duration": 4,
    "start_time": "2021-07-05T13:13:26.571Z"
   },
   {
    "duration": 19,
    "start_time": "2021-07-05T13:13:26.576Z"
   },
   {
    "duration": 9,
    "start_time": "2021-07-05T13:13:26.597Z"
   },
   {
    "duration": 20,
    "start_time": "2021-07-05T13:13:26.607Z"
   },
   {
    "duration": 33,
    "start_time": "2021-07-05T13:13:26.629Z"
   },
   {
    "duration": 12,
    "start_time": "2021-07-05T13:13:26.664Z"
   },
   {
    "duration": 8,
    "start_time": "2021-07-05T13:13:26.677Z"
   },
   {
    "duration": 10,
    "start_time": "2021-07-05T13:13:26.687Z"
   },
   {
    "duration": 11,
    "start_time": "2021-07-05T13:13:26.699Z"
   },
   {
    "duration": 3,
    "start_time": "2021-07-05T13:13:26.712Z"
   },
   {
    "duration": 24,
    "start_time": "2021-07-05T13:13:26.717Z"
   },
   {
    "duration": 26,
    "start_time": "2021-07-05T13:13:26.743Z"
   },
   {
    "duration": 6,
    "start_time": "2021-07-05T13:13:26.771Z"
   },
   {
    "duration": 11,
    "start_time": "2021-07-05T13:13:26.778Z"
   },
   {
    "duration": 28,
    "start_time": "2021-07-05T13:13:26.790Z"
   },
   {
    "duration": 14,
    "start_time": "2021-07-05T13:13:26.820Z"
   },
   {
    "duration": 8,
    "start_time": "2021-07-05T13:13:26.836Z"
   },
   {
    "duration": 17,
    "start_time": "2021-07-05T13:13:26.846Z"
   },
   {
    "duration": 348,
    "start_time": "2021-07-06T15:25:22.993Z"
   },
   {
    "duration": 1535,
    "start_time": "2021-07-06T15:29:40.975Z"
   },
   {
    "duration": 371,
    "start_time": "2021-07-06T15:29:42.512Z"
   },
   {
    "duration": 113,
    "start_time": "2021-07-06T15:29:42.886Z"
   },
   {
    "duration": 26,
    "start_time": "2021-07-06T15:29:43.001Z"
   },
   {
    "duration": 598,
    "start_time": "2021-07-06T15:29:43.030Z"
   },
   {
    "duration": 600,
    "start_time": "2021-07-06T15:29:43.034Z"
   },
   {
    "duration": 591,
    "start_time": "2021-07-06T15:29:43.045Z"
   },
   {
    "duration": 588,
    "start_time": "2021-07-06T15:29:43.049Z"
   },
   {
    "duration": 583,
    "start_time": "2021-07-06T15:29:43.055Z"
   },
   {
    "duration": 580,
    "start_time": "2021-07-06T15:29:43.060Z"
   },
   {
    "duration": 577,
    "start_time": "2021-07-06T15:29:43.064Z"
   },
   {
    "duration": 575,
    "start_time": "2021-07-06T15:29:43.067Z"
   },
   {
    "duration": 560,
    "start_time": "2021-07-06T15:29:43.084Z"
   },
   {
    "duration": 553,
    "start_time": "2021-07-06T15:29:43.092Z"
   },
   {
    "duration": 549,
    "start_time": "2021-07-06T15:29:43.097Z"
   },
   {
    "duration": 543,
    "start_time": "2021-07-06T15:29:43.105Z"
   },
   {
    "duration": 539,
    "start_time": "2021-07-06T15:29:43.110Z"
   },
   {
    "duration": 536,
    "start_time": "2021-07-06T15:29:43.115Z"
   },
   {
    "duration": 532,
    "start_time": "2021-07-06T15:29:43.120Z"
   },
   {
    "duration": 529,
    "start_time": "2021-07-06T15:29:43.124Z"
   },
   {
    "duration": 528,
    "start_time": "2021-07-06T15:29:43.127Z"
   },
   {
    "duration": 525,
    "start_time": "2021-07-06T15:29:43.131Z"
   },
   {
    "duration": 514,
    "start_time": "2021-07-06T15:29:43.143Z"
   },
   {
    "duration": 511,
    "start_time": "2021-07-06T15:29:43.148Z"
   },
   {
    "duration": 507,
    "start_time": "2021-07-06T15:29:43.153Z"
   },
   {
    "duration": 505,
    "start_time": "2021-07-06T15:29:43.157Z"
   },
   {
    "duration": 461,
    "start_time": "2021-07-06T15:29:43.202Z"
   },
   {
    "duration": 458,
    "start_time": "2021-07-06T15:29:43.207Z"
   },
   {
    "duration": 455,
    "start_time": "2021-07-06T15:29:43.211Z"
   },
   {
    "duration": 452,
    "start_time": "2021-07-06T15:29:43.215Z"
   },
   {
    "duration": 451,
    "start_time": "2021-07-06T15:29:43.218Z"
   },
   {
    "duration": 448,
    "start_time": "2021-07-06T15:29:43.222Z"
   },
   {
    "duration": 446,
    "start_time": "2021-07-06T15:29:43.225Z"
   },
   {
    "duration": 433,
    "start_time": "2021-07-06T15:29:43.240Z"
   },
   {
    "duration": 432,
    "start_time": "2021-07-06T15:29:43.242Z"
   },
   {
    "duration": 431,
    "start_time": "2021-07-06T15:29:43.245Z"
   },
   {
    "duration": 429,
    "start_time": "2021-07-06T15:29:43.248Z"
   },
   {
    "duration": 427,
    "start_time": "2021-07-06T15:29:43.251Z"
   },
   {
    "duration": 426,
    "start_time": "2021-07-06T15:29:43.254Z"
   },
   {
    "duration": 334,
    "start_time": "2021-07-06T15:29:43.348Z"
   },
   {
    "duration": 332,
    "start_time": "2021-07-06T15:29:43.351Z"
   },
   {
    "duration": 331,
    "start_time": "2021-07-06T15:29:43.354Z"
   },
   {
    "duration": 330,
    "start_time": "2021-07-06T15:29:43.356Z"
   },
   {
    "duration": 328,
    "start_time": "2021-07-06T15:29:43.359Z"
   },
   {
    "duration": 327,
    "start_time": "2021-07-06T15:29:43.362Z"
   },
   {
    "duration": 325,
    "start_time": "2021-07-06T15:29:43.365Z"
   },
   {
    "duration": 323,
    "start_time": "2021-07-06T15:29:43.369Z"
   },
   {
    "duration": 321,
    "start_time": "2021-07-06T15:29:43.372Z"
   },
   {
    "duration": 365,
    "start_time": "2021-07-06T15:29:43.389Z"
   },
   {
    "duration": 364,
    "start_time": "2021-07-06T15:29:43.392Z"
   },
   {
    "duration": 358,
    "start_time": "2021-07-06T15:29:43.400Z"
   },
   {
    "duration": 356,
    "start_time": "2021-07-06T15:29:43.404Z"
   },
   {
    "duration": 354,
    "start_time": "2021-07-06T15:29:43.407Z"
   },
   {
    "duration": 354,
    "start_time": "2021-07-06T15:29:43.409Z"
   },
   {
    "duration": 317,
    "start_time": "2021-07-06T15:29:43.448Z"
   },
   {
    "duration": 316,
    "start_time": "2021-07-06T15:29:43.451Z"
   },
   {
    "duration": 315,
    "start_time": "2021-07-06T15:29:43.454Z"
   },
   {
    "duration": 309,
    "start_time": "2021-07-06T15:29:43.461Z"
   },
   {
    "duration": 271,
    "start_time": "2021-07-06T15:29:43.501Z"
   },
   {
    "duration": 269,
    "start_time": "2021-07-06T15:29:43.504Z"
   },
   {
    "duration": 269,
    "start_time": "2021-07-06T15:29:43.506Z"
   },
   {
    "duration": 267,
    "start_time": "2021-07-06T15:29:43.509Z"
   },
   {
    "duration": 266,
    "start_time": "2021-07-06T15:29:43.512Z"
   },
   {
    "duration": 264,
    "start_time": "2021-07-06T15:29:43.515Z"
   },
   {
    "duration": 258,
    "start_time": "2021-07-06T15:29:43.523Z"
   },
   {
    "duration": 256,
    "start_time": "2021-07-06T15:29:43.527Z"
   },
   {
    "duration": 1617,
    "start_time": "2021-07-06T15:33:32.919Z"
   },
   {
    "duration": 357,
    "start_time": "2021-07-06T15:33:34.539Z"
   },
   {
    "duration": 104,
    "start_time": "2021-07-06T15:33:34.899Z"
   },
   {
    "duration": 27,
    "start_time": "2021-07-06T15:33:35.006Z"
   },
   {
    "duration": 118,
    "start_time": "2021-07-06T15:33:35.036Z"
   },
   {
    "duration": 59,
    "start_time": "2021-07-06T15:33:35.156Z"
   },
   {
    "duration": 16,
    "start_time": "2021-07-06T15:33:35.217Z"
   },
   {
    "duration": 476,
    "start_time": "2021-07-06T15:33:35.236Z"
   },
   {
    "duration": 94,
    "start_time": "2021-07-06T15:33:35.715Z"
   },
   {
    "duration": 47,
    "start_time": "2021-07-06T15:33:35.812Z"
   },
   {
    "duration": 9,
    "start_time": "2021-07-06T15:33:35.862Z"
   },
   {
    "duration": 38,
    "start_time": "2021-07-06T15:33:35.874Z"
   },
   {
    "duration": 5,
    "start_time": "2021-07-06T15:33:35.914Z"
   },
   {
    "duration": 533,
    "start_time": "2021-07-06T15:33:35.921Z"
   },
   {
    "duration": 7,
    "start_time": "2021-07-06T15:33:36.456Z"
   },
   {
    "duration": 31,
    "start_time": "2021-07-06T15:33:36.466Z"
   },
   {
    "duration": 28,
    "start_time": "2021-07-06T15:33:36.499Z"
   },
   {
    "duration": 24,
    "start_time": "2021-07-06T15:33:36.529Z"
   },
   {
    "duration": 29,
    "start_time": "2021-07-06T15:33:36.555Z"
   },
   {
    "duration": 21,
    "start_time": "2021-07-06T15:33:36.587Z"
   },
   {
    "duration": 88,
    "start_time": "2021-07-06T15:33:36.611Z"
   },
   {
    "duration": 24,
    "start_time": "2021-07-06T15:33:36.702Z"
   },
   {
    "duration": 193,
    "start_time": "2021-07-06T15:33:36.733Z"
   },
   {
    "duration": 584,
    "start_time": "2021-07-06T15:33:36.929Z"
   },
   {
    "duration": 558,
    "start_time": "2021-07-06T15:33:37.515Z"
   },
   {
    "duration": 545,
    "start_time": "2021-07-06T15:33:38.075Z"
   },
   {
    "duration": 486,
    "start_time": "2021-07-06T15:33:38.622Z"
   },
   {
    "duration": 655,
    "start_time": "2021-07-06T15:33:39.111Z"
   },
   {
    "duration": 5,
    "start_time": "2021-07-06T15:33:39.768Z"
   },
   {
    "duration": 6,
    "start_time": "2021-07-06T15:33:39.776Z"
   },
   {
    "duration": 37,
    "start_time": "2021-07-06T15:33:39.784Z"
   },
   {
    "duration": 27,
    "start_time": "2021-07-06T15:33:39.824Z"
   },
   {
    "duration": 141,
    "start_time": "2021-07-06T15:33:39.853Z"
   },
   {
    "duration": 4,
    "start_time": "2021-07-06T15:33:39.997Z"
   },
   {
    "duration": 555,
    "start_time": "2021-07-06T15:33:40.003Z"
   },
   {
    "duration": 4,
    "start_time": "2021-07-06T15:33:40.560Z"
   },
   {
    "duration": 15,
    "start_time": "2021-07-06T15:33:40.567Z"
   },
   {
    "duration": 8,
    "start_time": "2021-07-06T15:33:40.584Z"
   },
   {
    "duration": 10,
    "start_time": "2021-07-06T15:33:40.595Z"
   },
   {
    "duration": 11,
    "start_time": "2021-07-06T15:33:40.607Z"
   },
   {
    "duration": 11,
    "start_time": "2021-07-06T15:33:40.620Z"
   },
   {
    "duration": 1421,
    "start_time": "2021-07-06T15:33:40.634Z"
   },
   {
    "duration": 99,
    "start_time": "2021-07-06T15:33:42.058Z"
   },
   {
    "duration": 7,
    "start_time": "2021-07-06T15:33:42.159Z"
   },
   {
    "duration": 6,
    "start_time": "2021-07-06T15:33:42.168Z"
   },
   {
    "duration": 6,
    "start_time": "2021-07-06T15:33:42.177Z"
   },
   {
    "duration": 5,
    "start_time": "2021-07-06T15:33:42.186Z"
   },
   {
    "duration": 1629121,
    "start_time": "2021-07-06T15:33:42.194Z"
   },
   {
    "duration": 5,
    "start_time": "2021-07-06T16:00:51.317Z"
   },
   {
    "duration": 19,
    "start_time": "2021-07-06T16:00:51.324Z"
   },
   {
    "duration": 9,
    "start_time": "2021-07-06T16:00:51.355Z"
   },
   {
    "duration": 43,
    "start_time": "2021-07-06T16:00:51.367Z"
   },
   {
    "duration": 63,
    "start_time": "2021-07-06T16:00:51.413Z"
   },
   {
    "duration": 11,
    "start_time": "2021-07-06T16:00:51.478Z"
   },
   {
    "duration": 14,
    "start_time": "2021-07-06T16:00:51.491Z"
   },
   {
    "duration": 24,
    "start_time": "2021-07-06T16:00:51.508Z"
   },
   {
    "duration": 24,
    "start_time": "2021-07-06T16:00:51.534Z"
   },
   {
    "duration": 15,
    "start_time": "2021-07-06T16:00:51.560Z"
   },
   {
    "duration": 29,
    "start_time": "2021-07-06T16:00:51.578Z"
   },
   {
    "duration": 44,
    "start_time": "2021-07-06T16:00:51.609Z"
   },
   {
    "duration": 13,
    "start_time": "2021-07-06T16:00:51.655Z"
   },
   {
    "duration": 15,
    "start_time": "2021-07-06T16:00:51.670Z"
   },
   {
    "duration": 22,
    "start_time": "2021-07-06T16:00:51.687Z"
   },
   {
    "duration": 36,
    "start_time": "2021-07-06T16:00:51.712Z"
   },
   {
    "duration": 14,
    "start_time": "2021-07-06T16:00:51.751Z"
   },
   {
    "duration": 26,
    "start_time": "2021-07-06T16:00:51.767Z"
   },
   {
    "duration": 16,
    "start_time": "2021-07-06T16:04:23.146Z"
   },
   {
    "duration": 11,
    "start_time": "2021-07-06T16:04:36.550Z"
   },
   {
    "duration": 17,
    "start_time": "2021-07-06T16:04:39.984Z"
   },
   {
    "duration": 1474,
    "start_time": "2021-07-06T16:18:34.016Z"
   },
   {
    "duration": 353,
    "start_time": "2021-07-06T16:18:35.493Z"
   },
   {
    "duration": 107,
    "start_time": "2021-07-06T16:18:35.849Z"
   },
   {
    "duration": 24,
    "start_time": "2021-07-06T16:18:35.958Z"
   },
   {
    "duration": 110,
    "start_time": "2021-07-06T16:18:35.985Z"
   },
   {
    "duration": 73,
    "start_time": "2021-07-06T16:18:36.097Z"
   },
   {
    "duration": 16,
    "start_time": "2021-07-06T16:18:36.173Z"
   },
   {
    "duration": 471,
    "start_time": "2021-07-06T16:18:36.192Z"
   },
   {
    "duration": 98,
    "start_time": "2021-07-06T16:18:36.666Z"
   },
   {
    "duration": 26,
    "start_time": "2021-07-06T16:18:36.767Z"
   },
   {
    "duration": 8,
    "start_time": "2021-07-06T16:18:36.795Z"
   },
   {
    "duration": 53,
    "start_time": "2021-07-06T16:18:36.806Z"
   },
   {
    "duration": 4,
    "start_time": "2021-07-06T16:18:36.861Z"
   },
   {
    "duration": 523,
    "start_time": "2021-07-06T16:18:36.867Z"
   },
   {
    "duration": 7,
    "start_time": "2021-07-06T16:18:37.392Z"
   },
   {
    "duration": 6,
    "start_time": "2021-07-06T16:18:37.401Z"
   },
   {
    "duration": 26,
    "start_time": "2021-07-06T16:18:37.409Z"
   },
   {
    "duration": 10,
    "start_time": "2021-07-06T16:18:37.454Z"
   },
   {
    "duration": 17,
    "start_time": "2021-07-06T16:18:37.466Z"
   },
   {
    "duration": 13,
    "start_time": "2021-07-06T16:18:37.486Z"
   },
   {
    "duration": 117,
    "start_time": "2021-07-06T16:18:37.502Z"
   },
   {
    "duration": 38,
    "start_time": "2021-07-06T16:18:37.621Z"
   },
   {
    "duration": 181,
    "start_time": "2021-07-06T16:18:37.666Z"
   },
   {
    "duration": 586,
    "start_time": "2021-07-06T16:18:37.855Z"
   },
   {
    "duration": 549,
    "start_time": "2021-07-06T16:18:38.443Z"
   },
   {
    "duration": 569,
    "start_time": "2021-07-06T16:18:38.995Z"
   },
   {
    "duration": 590,
    "start_time": "2021-07-06T16:18:39.567Z"
   },
   {
    "duration": 552,
    "start_time": "2021-07-06T16:18:40.160Z"
   },
   {
    "duration": 4,
    "start_time": "2021-07-06T16:18:40.715Z"
   },
   {
    "duration": 9,
    "start_time": "2021-07-06T16:18:40.722Z"
   },
   {
    "duration": 21,
    "start_time": "2021-07-06T16:18:40.733Z"
   },
   {
    "duration": 10,
    "start_time": "2021-07-06T16:18:40.757Z"
   },
   {
    "duration": 132,
    "start_time": "2021-07-06T16:18:40.769Z"
   },
   {
    "duration": 5,
    "start_time": "2021-07-06T16:18:40.903Z"
   },
   {
    "duration": 558,
    "start_time": "2021-07-06T16:18:40.910Z"
   },
   {
    "duration": 4,
    "start_time": "2021-07-06T16:18:41.470Z"
   },
   {
    "duration": 30,
    "start_time": "2021-07-06T16:18:41.476Z"
   },
   {
    "duration": 14,
    "start_time": "2021-07-06T16:18:41.508Z"
   },
   {
    "duration": 15,
    "start_time": "2021-07-06T16:18:41.524Z"
   },
   {
    "duration": 13,
    "start_time": "2021-07-06T16:18:41.542Z"
   },
   {
    "duration": 12,
    "start_time": "2021-07-06T16:18:41.558Z"
   },
   {
    "duration": 1690,
    "start_time": "2021-07-06T16:18:41.573Z"
   },
   {
    "duration": 7,
    "start_time": "2021-07-06T16:18:43.265Z"
   },
   {
    "duration": 82,
    "start_time": "2021-07-06T16:18:43.274Z"
   },
   {
    "duration": 10,
    "start_time": "2021-07-06T16:18:43.359Z"
   },
   {
    "duration": 82,
    "start_time": "2021-07-06T16:18:43.372Z"
   },
   {
    "duration": 4,
    "start_time": "2021-07-06T16:18:43.456Z"
   },
   {
    "duration": 1618502,
    "start_time": "2021-07-06T16:18:43.462Z"
   },
   {
    "duration": 5,
    "start_time": "2021-07-06T16:45:41.966Z"
   },
   {
    "duration": 9,
    "start_time": "2021-07-06T16:45:41.974Z"
   },
   {
    "duration": 11,
    "start_time": "2021-07-06T16:45:41.985Z"
   },
   {
    "duration": 31,
    "start_time": "2021-07-06T16:45:41.998Z"
   },
   {
    "duration": 78,
    "start_time": "2021-07-06T16:45:42.032Z"
   },
   {
    "duration": 10,
    "start_time": "2021-07-06T16:45:42.112Z"
   },
   {
    "duration": 32,
    "start_time": "2021-07-06T16:45:42.125Z"
   },
   {
    "duration": 11,
    "start_time": "2021-07-06T16:45:42.159Z"
   },
   {
    "duration": 21,
    "start_time": "2021-07-06T16:45:42.173Z"
   },
   {
    "duration": 6,
    "start_time": "2021-07-06T16:45:42.196Z"
   },
   {
    "duration": 11,
    "start_time": "2021-07-06T16:45:42.204Z"
   },
   {
    "duration": 64,
    "start_time": "2021-07-06T16:45:42.217Z"
   },
   {
    "duration": 10,
    "start_time": "2021-07-06T16:45:42.283Z"
   },
   {
    "duration": 3,
    "start_time": "2021-07-06T16:45:42.295Z"
   },
   {
    "duration": 7,
    "start_time": "2021-07-06T16:45:42.300Z"
   },
   {
    "duration": 15,
    "start_time": "2021-07-06T16:45:42.309Z"
   },
   {
    "duration": 29,
    "start_time": "2021-07-06T16:45:42.326Z"
   },
   {
    "duration": 11,
    "start_time": "2021-07-06T16:45:42.358Z"
   },
   {
    "duration": 1519,
    "start_time": "2021-07-08T12:55:06.343Z"
   },
   {
    "duration": 349,
    "start_time": "2021-07-08T12:55:11.146Z"
   },
   {
    "duration": 6,
    "start_time": "2021-07-08T12:55:27.692Z"
   },
   {
    "duration": 8,
    "start_time": "2021-07-08T12:56:03.624Z"
   },
   {
    "duration": 6,
    "start_time": "2021-07-08T12:56:13.063Z"
   },
   {
    "duration": 440,
    "start_time": "2021-07-08T12:56:28.797Z"
   },
   {
    "duration": 1727,
    "start_time": "2021-07-08T13:06:02.812Z"
   },
   {
    "duration": 338,
    "start_time": "2021-07-08T13:06:04.541Z"
   },
   {
    "duration": 108,
    "start_time": "2021-07-08T13:06:04.881Z"
   },
   {
    "duration": 23,
    "start_time": "2021-07-08T13:06:04.992Z"
   },
   {
    "duration": 108,
    "start_time": "2021-07-08T13:06:05.017Z"
   },
   {
    "duration": 69,
    "start_time": "2021-07-08T13:06:05.127Z"
   },
   {
    "duration": 22,
    "start_time": "2021-07-08T13:06:05.200Z"
   },
   {
    "duration": 698,
    "start_time": "2021-07-08T13:06:05.227Z"
   },
   {
    "duration": 143,
    "start_time": "2021-07-08T13:06:05.929Z"
   },
   {
    "duration": 35,
    "start_time": "2021-07-08T13:06:06.075Z"
   },
   {
    "duration": 9,
    "start_time": "2021-07-08T13:06:06.112Z"
   },
   {
    "duration": 50,
    "start_time": "2021-07-08T13:06:06.123Z"
   },
   {
    "duration": 5,
    "start_time": "2021-07-08T13:06:06.176Z"
   },
   {
    "duration": 542,
    "start_time": "2021-07-08T13:06:06.184Z"
   },
   {
    "duration": 7,
    "start_time": "2021-07-08T13:06:06.728Z"
   },
   {
    "duration": 25,
    "start_time": "2021-07-08T13:06:06.738Z"
   },
   {
    "duration": 14,
    "start_time": "2021-07-08T13:06:06.766Z"
   },
   {
    "duration": 9,
    "start_time": "2021-07-08T13:06:06.782Z"
   },
   {
    "duration": 14,
    "start_time": "2021-07-08T13:06:06.794Z"
   },
   {
    "duration": 11,
    "start_time": "2021-07-08T13:06:06.811Z"
   },
   {
    "duration": 101,
    "start_time": "2021-07-08T13:06:06.863Z"
   },
   {
    "duration": 31,
    "start_time": "2021-07-08T13:06:06.966Z"
   },
   {
    "duration": 237,
    "start_time": "2021-07-08T13:06:07.006Z"
   },
   {
    "duration": 866,
    "start_time": "2021-07-08T13:06:07.248Z"
   },
   {
    "duration": 805,
    "start_time": "2021-07-08T13:06:08.117Z"
   },
   {
    "duration": 791,
    "start_time": "2021-07-08T13:06:08.925Z"
   },
   {
    "duration": 686,
    "start_time": "2021-07-08T13:06:09.719Z"
   },
   {
    "duration": 811,
    "start_time": "2021-07-08T13:06:10.408Z"
   },
   {
    "duration": 6,
    "start_time": "2021-07-08T13:06:11.222Z"
   },
   {
    "duration": 8,
    "start_time": "2021-07-08T13:06:11.230Z"
   },
   {
    "duration": 24,
    "start_time": "2021-07-08T13:06:11.241Z"
   },
   {
    "duration": 11,
    "start_time": "2021-07-08T13:06:11.267Z"
   },
   {
    "duration": 182,
    "start_time": "2021-07-08T13:06:11.280Z"
   },
   {
    "duration": 5,
    "start_time": "2021-07-08T13:06:11.465Z"
   },
   {
    "duration": 814,
    "start_time": "2021-07-08T13:06:11.473Z"
   },
   {
    "duration": 5,
    "start_time": "2021-07-08T13:06:12.290Z"
   },
   {
    "duration": 12,
    "start_time": "2021-07-08T13:06:12.298Z"
   },
   {
    "duration": 9,
    "start_time": "2021-07-08T13:06:12.313Z"
   },
   {
    "duration": 8,
    "start_time": "2021-07-08T13:06:12.325Z"
   },
   {
    "duration": 4,
    "start_time": "2021-07-08T13:06:12.363Z"
   },
   {
    "duration": 19,
    "start_time": "2021-07-08T13:06:12.371Z"
   },
   {
    "duration": 2269,
    "start_time": "2021-07-08T13:06:12.393Z"
   },
   {
    "duration": 6,
    "start_time": "2021-07-08T13:06:14.664Z"
   },
   {
    "duration": 90,
    "start_time": "2021-07-08T13:06:14.674Z"
   },
   {
    "duration": 4,
    "start_time": "2021-07-08T13:06:14.767Z"
   },
   {
    "duration": 6,
    "start_time": "2021-07-08T13:06:14.774Z"
   },
   {
    "duration": 7,
    "start_time": "2021-07-08T13:06:14.783Z"
   },
   {
    "duration": 1692310,
    "start_time": "2021-07-08T13:06:14.793Z"
   },
   {
    "duration": 5,
    "start_time": "2021-07-08T13:34:27.105Z"
   },
   {
    "duration": 8,
    "start_time": "2021-07-08T13:34:27.112Z"
   },
   {
    "duration": 6,
    "start_time": "2021-07-08T13:34:27.122Z"
   },
   {
    "duration": 47,
    "start_time": "2021-07-08T13:34:27.130Z"
   },
   {
    "duration": 61,
    "start_time": "2021-07-08T13:34:27.179Z"
   },
   {
    "duration": 11,
    "start_time": "2021-07-08T13:34:27.262Z"
   },
   {
    "duration": 6,
    "start_time": "2021-07-08T13:34:27.275Z"
   },
   {
    "duration": 11,
    "start_time": "2021-07-08T13:34:27.283Z"
   },
   {
    "duration": 16,
    "start_time": "2021-07-08T13:34:27.297Z"
   },
   {
    "duration": 46,
    "start_time": "2021-07-08T13:34:27.316Z"
   },
   {
    "duration": 7,
    "start_time": "2021-07-08T13:34:27.365Z"
   },
   {
    "duration": 27,
    "start_time": "2021-07-08T13:34:27.375Z"
   },
   {
    "duration": 12,
    "start_time": "2021-07-08T13:34:27.404Z"
   },
   {
    "duration": 4,
    "start_time": "2021-07-08T13:34:27.419Z"
   },
   {
    "duration": 4,
    "start_time": "2021-07-08T13:34:27.462Z"
   },
   {
    "duration": 16,
    "start_time": "2021-07-08T13:34:27.469Z"
   },
   {
    "duration": 5,
    "start_time": "2021-07-08T13:34:27.488Z"
   },
   {
    "duration": 14,
    "start_time": "2021-07-08T13:34:27.496Z"
   },
   {
    "duration": 6,
    "start_time": "2021-07-08T13:58:43.808Z"
   },
   {
    "duration": 358,
    "start_time": "2021-07-08T13:58:45.209Z"
   },
   {
    "duration": 5,
    "start_time": "2021-07-08T13:59:23.468Z"
   },
   {
    "duration": 6,
    "start_time": "2021-07-08T13:59:37.140Z"
   },
   {
    "duration": 1690,
    "start_time": "2021-07-08T14:00:04.028Z"
   },
   {
    "duration": 2021,
    "start_time": "2021-07-08T14:00:05.721Z"
   },
   {
    "duration": 109,
    "start_time": "2021-07-08T14:00:07.746Z"
   },
   {
    "duration": 34,
    "start_time": "2021-07-08T14:00:07.863Z"
   },
   {
    "duration": 122,
    "start_time": "2021-07-08T14:00:07.900Z"
   },
   {
    "duration": 72,
    "start_time": "2021-07-08T14:00:08.024Z"
   },
   {
    "duration": 16,
    "start_time": "2021-07-08T14:00:08.098Z"
   },
   {
    "duration": 509,
    "start_time": "2021-07-08T14:00:08.116Z"
   },
   {
    "duration": 103,
    "start_time": "2021-07-08T14:00:08.628Z"
   },
   {
    "duration": 52,
    "start_time": "2021-07-08T14:00:08.734Z"
   },
   {
    "duration": 10,
    "start_time": "2021-07-08T14:00:08.789Z"
   },
   {
    "duration": 39,
    "start_time": "2021-07-08T14:00:08.801Z"
   },
   {
    "duration": 21,
    "start_time": "2021-07-08T14:00:08.843Z"
   },
   {
    "duration": 548,
    "start_time": "2021-07-08T14:00:08.866Z"
   },
   {
    "duration": 8,
    "start_time": "2021-07-08T14:00:09.416Z"
   },
   {
    "duration": 23,
    "start_time": "2021-07-08T14:00:09.426Z"
   },
   {
    "duration": 46,
    "start_time": "2021-07-08T14:00:09.452Z"
   },
   {
    "duration": 36,
    "start_time": "2021-07-08T14:00:09.501Z"
   },
   {
    "duration": 36,
    "start_time": "2021-07-08T14:00:09.540Z"
   },
   {
    "duration": 42,
    "start_time": "2021-07-08T14:00:09.579Z"
   },
   {
    "duration": 130,
    "start_time": "2021-07-08T14:00:09.624Z"
   },
   {
    "duration": 28,
    "start_time": "2021-07-08T14:00:09.757Z"
   },
   {
    "duration": 200,
    "start_time": "2021-07-08T14:00:09.788Z"
   },
   {
    "duration": 626,
    "start_time": "2021-07-08T14:00:09.991Z"
   },
   {
    "duration": 607,
    "start_time": "2021-07-08T14:00:10.620Z"
   },
   {
    "duration": 701,
    "start_time": "2021-07-08T14:00:11.230Z"
   },
   {
    "duration": 698,
    "start_time": "2021-07-08T14:00:11.942Z"
   },
   {
    "duration": 745,
    "start_time": "2021-07-08T14:00:12.644Z"
   },
   {
    "duration": 6,
    "start_time": "2021-07-08T14:00:13.392Z"
   },
   {
    "duration": 39,
    "start_time": "2021-07-08T14:00:13.400Z"
   },
   {
    "duration": 39,
    "start_time": "2021-07-08T14:00:13.442Z"
   },
   {
    "duration": 9,
    "start_time": "2021-07-08T14:00:13.484Z"
   },
   {
    "duration": 174,
    "start_time": "2021-07-08T14:00:13.495Z"
   },
   {
    "duration": 11,
    "start_time": "2021-07-08T14:00:13.672Z"
   },
   {
    "duration": 552,
    "start_time": "2021-07-08T14:00:13.686Z"
   },
   {
    "duration": 4,
    "start_time": "2021-07-08T14:00:14.241Z"
   },
   {
    "duration": 22,
    "start_time": "2021-07-08T14:00:14.248Z"
   },
   {
    "duration": 25,
    "start_time": "2021-07-08T14:00:14.272Z"
   },
   {
    "duration": 12,
    "start_time": "2021-07-08T14:00:14.301Z"
   },
   {
    "duration": 27,
    "start_time": "2021-07-08T14:00:14.317Z"
   },
   {
    "duration": 13,
    "start_time": "2021-07-08T14:00:14.347Z"
   },
   {
    "duration": 1998,
    "start_time": "2021-07-08T14:00:14.364Z"
   },
   {
    "duration": 5,
    "start_time": "2021-07-08T14:00:16.365Z"
   },
   {
    "duration": 107,
    "start_time": "2021-07-08T14:00:16.373Z"
   },
   {
    "duration": 17,
    "start_time": "2021-07-08T14:00:16.483Z"
   },
   {
    "duration": 12,
    "start_time": "2021-07-08T14:00:16.503Z"
   },
   {
    "duration": 14,
    "start_time": "2021-07-08T14:00:16.517Z"
   },
   {
    "duration": 1775812,
    "start_time": "2021-07-08T14:00:16.534Z"
   },
   {
    "duration": 16,
    "start_time": "2021-07-08T14:29:52.348Z"
   },
   {
    "duration": 15,
    "start_time": "2021-07-08T14:29:52.366Z"
   },
   {
    "duration": 7,
    "start_time": "2021-07-08T14:29:52.384Z"
   },
   {
    "duration": 28,
    "start_time": "2021-07-08T14:29:52.393Z"
   },
   {
    "duration": 95,
    "start_time": "2021-07-08T14:29:52.424Z"
   },
   {
    "duration": 11,
    "start_time": "2021-07-08T14:29:52.521Z"
   },
   {
    "duration": 31,
    "start_time": "2021-07-08T14:29:52.535Z"
   },
   {
    "duration": 13,
    "start_time": "2021-07-08T14:29:52.569Z"
   },
   {
    "duration": 18,
    "start_time": "2021-07-08T14:29:52.584Z"
   },
   {
    "duration": 8,
    "start_time": "2021-07-08T14:29:52.605Z"
   },
   {
    "duration": 50,
    "start_time": "2021-07-08T14:29:52.616Z"
   },
   {
    "duration": 32,
    "start_time": "2021-07-08T14:29:52.669Z"
   },
   {
    "duration": 8,
    "start_time": "2021-07-08T14:29:52.703Z"
   },
   {
    "duration": 8,
    "start_time": "2021-07-08T14:29:52.714Z"
   },
   {
    "duration": 7,
    "start_time": "2021-07-08T14:29:52.725Z"
   },
   {
    "duration": 12,
    "start_time": "2021-07-08T14:29:52.765Z"
   },
   {
    "duration": 4,
    "start_time": "2021-07-08T14:29:52.780Z"
   },
   {
    "duration": 19,
    "start_time": "2021-07-08T14:29:52.787Z"
   },
   {
    "duration": 4708,
    "start_time": "2021-08-28T11:08:08.273Z"
   },
   {
    "duration": 3297,
    "start_time": "2021-08-28T11:08:13.069Z"
   },
   {
    "duration": 803,
    "start_time": "2021-08-28T11:08:16.370Z"
   },
   {
    "duration": 299,
    "start_time": "2021-08-28T11:08:17.182Z"
   },
   {
    "duration": 909,
    "start_time": "2021-08-28T11:08:17.568Z"
   },
   {
    "duration": 593,
    "start_time": "2021-08-28T11:08:18.482Z"
   },
   {
    "duration": 290,
    "start_time": "2021-08-28T11:08:19.080Z"
   },
   {
    "duration": 3811,
    "start_time": "2021-08-28T11:08:19.373Z"
   },
   {
    "duration": 807,
    "start_time": "2021-08-28T11:08:23.268Z"
   },
   {
    "duration": 292,
    "start_time": "2021-08-28T11:08:24.079Z"
   },
   {
    "duration": 93,
    "start_time": "2021-08-28T11:08:24.373Z"
   },
   {
    "duration": 295,
    "start_time": "2021-08-28T11:08:24.472Z"
   },
   {
    "duration": 7,
    "start_time": "2021-08-28T11:08:24.769Z"
   },
   {
    "duration": 4794,
    "start_time": "2021-08-28T11:08:24.779Z"
   },
   {
    "duration": 95,
    "start_time": "2021-08-28T11:08:29.575Z"
   },
   {
    "duration": 14,
    "start_time": "2021-08-28T11:08:29.673Z"
   },
   {
    "duration": 104,
    "start_time": "2021-08-28T11:08:29.768Z"
   },
   {
    "duration": 195,
    "start_time": "2021-08-28T11:08:29.876Z"
   },
   {
    "duration": 189,
    "start_time": "2021-08-28T11:08:30.077Z"
   },
   {
    "duration": 17,
    "start_time": "2021-08-28T11:08:30.272Z"
   },
   {
    "duration": 895,
    "start_time": "2021-08-28T11:08:30.375Z"
   },
   {
    "duration": 187,
    "start_time": "2021-08-28T11:08:31.284Z"
   },
   {
    "duration": 1591,
    "start_time": "2021-08-28T11:08:31.481Z"
   },
   {
    "duration": 4793,
    "start_time": "2021-08-28T11:08:33.080Z"
   },
   {
    "duration": 4797,
    "start_time": "2021-08-28T11:08:37.875Z"
   },
   {
    "duration": 4596,
    "start_time": "2021-08-28T11:08:42.675Z"
   },
   {
    "duration": 4287,
    "start_time": "2021-08-28T11:08:47.280Z"
   },
   {
    "duration": 4909,
    "start_time": "2021-08-28T11:08:51.574Z"
   },
   {
    "duration": 5,
    "start_time": "2021-08-28T11:08:56.571Z"
   },
   {
    "duration": 96,
    "start_time": "2021-08-28T11:08:56.580Z"
   },
   {
    "duration": 11,
    "start_time": "2021-08-28T11:08:56.770Z"
   },
   {
    "duration": 98,
    "start_time": "2021-08-28T11:08:56.870Z"
   },
   {
    "duration": 997,
    "start_time": "2021-08-28T11:08:56.977Z"
   },
   {
    "duration": 16,
    "start_time": "2021-08-28T11:08:58.067Z"
   },
   {
    "duration": 4710,
    "start_time": "2021-08-28T11:08:58.168Z"
   },
   {
    "duration": 95,
    "start_time": "2021-08-28T11:09:02.881Z"
   },
   {
    "duration": 190,
    "start_time": "2021-08-28T11:09:02.979Z"
   },
   {
    "duration": 99,
    "start_time": "2021-08-28T11:09:03.172Z"
   },
   {
    "duration": 95,
    "start_time": "2021-08-28T11:09:03.274Z"
   },
   {
    "duration": 194,
    "start_time": "2021-08-28T11:09:03.372Z"
   },
   {
    "duration": 90,
    "start_time": "2021-08-28T11:09:03.578Z"
   },
   {
    "duration": 5096,
    "start_time": "2021-08-28T11:09:03.679Z"
   },
   {
    "duration": 189,
    "start_time": "2021-08-28T11:09:08.783Z"
   },
   {
    "duration": 6,
    "start_time": "2021-08-28T11:09:08.975Z"
   },
   {
    "duration": 98,
    "start_time": "2021-08-28T11:09:09.072Z"
   },
   {
    "duration": 11,
    "start_time": "2021-08-28T11:09:09.174Z"
   },
   {
    "duration": 9,
    "start_time": "2021-08-28T11:09:09.270Z"
   },
   {
    "duration": 4286058,
    "start_time": "2021-08-28T11:09:09.366Z"
   },
   {
    "duration": 5,
    "start_time": "2021-08-28T12:20:35.427Z"
   },
   {
    "duration": 6,
    "start_time": "2021-08-28T12:20:35.434Z"
   },
   {
    "duration": 29,
    "start_time": "2021-08-28T12:20:35.442Z"
   },
   {
    "duration": 21,
    "start_time": "2021-08-28T12:20:35.474Z"
   },
   {
    "duration": 79,
    "start_time": "2021-08-28T12:20:35.497Z"
   },
   {
    "duration": 10,
    "start_time": "2021-08-28T12:20:35.579Z"
   },
   {
    "duration": 5,
    "start_time": "2021-08-28T12:20:35.592Z"
   },
   {
    "duration": 13,
    "start_time": "2021-08-28T12:20:35.599Z"
   },
   {
    "duration": 57,
    "start_time": "2021-08-28T12:20:35.615Z"
   },
   {
    "duration": 6,
    "start_time": "2021-08-28T12:20:35.675Z"
   },
   {
    "duration": 9,
    "start_time": "2021-08-28T12:20:35.683Z"
   },
   {
    "duration": 28,
    "start_time": "2021-08-28T12:20:35.695Z"
   },
   {
    "duration": 44,
    "start_time": "2021-08-28T12:20:35.726Z"
   },
   {
    "duration": 4,
    "start_time": "2021-08-28T12:20:35.773Z"
   },
   {
    "duration": 15,
    "start_time": "2021-08-28T12:20:35.780Z"
   },
   {
    "duration": 16,
    "start_time": "2021-08-28T12:20:35.797Z"
   },
   {
    "duration": 16,
    "start_time": "2021-08-28T12:20:35.816Z"
   }
  ],
  "kernelspec": {
   "display_name": "Python 3",
   "language": "python",
   "name": "python3"
  },
  "language_info": {
   "codemirror_mode": {
    "name": "ipython",
    "version": 3
   },
   "file_extension": ".py",
   "mimetype": "text/x-python",
   "name": "python",
   "nbconvert_exporter": "python",
   "pygments_lexer": "ipython3",
   "version": "3.7.8"
  },
  "toc": {
   "base_numbering": 1,
   "nav_menu": {},
   "number_sections": true,
   "sideBar": true,
   "skip_h1_title": true,
   "title_cell": "Содержание",
   "title_sidebar": "Contents",
   "toc_cell": true,
   "toc_position": {
    "height": "calc(100% - 180px)",
    "left": "10px",
    "top": "150px",
    "width": "256px"
   },
   "toc_section_display": true,
   "toc_window_display": false
  }
 },
 "nbformat": 4,
 "nbformat_minor": 2
}
