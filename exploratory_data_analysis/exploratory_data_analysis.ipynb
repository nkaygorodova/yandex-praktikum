{
 "cells": [
  {
   "cell_type": "markdown",
   "metadata": {},
   "source": [
    "Входные данные - исторические данные о продажах игр, оценки пользователей и экспертов, жанры и платформы из открытых источников до 2016 года.\n",
    "\n",
    "**Описание данных**"
   ]
  },
  {
   "cell_type": "markdown",
   "metadata": {},
   "source": [
    "Name — название игры\n",
    "\n",
    "Platform — платформа\n",
    "\n",
    "Year_of_Release — год выпуска\n",
    "\n",
    "Genre — жанр игры\n",
    "\n",
    "NA_sales — продажи в Северной Америке (миллионы проданных копий)\n",
    "\n",
    "EU_sales — продажи в Европе (миллионы проданных копий)\n",
    "\n",
    "JP_sales — продажи в Японии (миллионы проданных копий)\n",
    "\n",
    "Other_sales — продажи в других странах (миллионы проданных копий)\n",
    "\n",
    "Critic_Score — оценка критиков (максимум 100)\n",
    "\n",
    "User_Score — оценка пользователей (максимум 10)\n",
    "\n",
    "Rating — рейтинг от организации ESRB (англ. Entertainment Software Rating Board). Эта ассоциация определяет рейтинг \n",
    "компьютерных игр и присваивает им подходящую возрастную категорию.\n",
    "\n",
    "*Данные за 2016 год могут быть неполными.*"
   ]
  },
  {
   "cell_type": "markdown",
   "metadata": {},
   "source": [
    "## Изучение данных"
   ]
  },
  {
   "cell_type": "code",
   "execution_count": 1,
   "metadata": {},
   "outputs": [],
   "source": [
    "import pandas as pd\n",
    "import numpy as np\n",
    "from scipy import stats as st\n",
    "import matplotlib.pyplot as plt\n",
    "import seaborn as sns"
   ]
  },
  {
   "cell_type": "code",
   "execution_count": 2,
   "metadata": {},
   "outputs": [],
   "source": [
    "df = pd.read_csv('/datasets/games.csv')"
   ]
  },
  {
   "cell_type": "code",
   "execution_count": 3,
   "metadata": {},
   "outputs": [
    {
     "data": {
      "text/html": [
       "<div>\n",
       "<style scoped>\n",
       "    .dataframe tbody tr th:only-of-type {\n",
       "        vertical-align: middle;\n",
       "    }\n",
       "\n",
       "    .dataframe tbody tr th {\n",
       "        vertical-align: top;\n",
       "    }\n",
       "\n",
       "    .dataframe thead th {\n",
       "        text-align: right;\n",
       "    }\n",
       "</style>\n",
       "<table border=\"1\" class=\"dataframe\">\n",
       "  <thead>\n",
       "    <tr style=\"text-align: right;\">\n",
       "      <th></th>\n",
       "      <th>Name</th>\n",
       "      <th>Platform</th>\n",
       "      <th>Year_of_Release</th>\n",
       "      <th>Genre</th>\n",
       "      <th>NA_sales</th>\n",
       "      <th>EU_sales</th>\n",
       "      <th>JP_sales</th>\n",
       "      <th>Other_sales</th>\n",
       "      <th>Critic_Score</th>\n",
       "      <th>User_Score</th>\n",
       "      <th>Rating</th>\n",
       "    </tr>\n",
       "  </thead>\n",
       "  <tbody>\n",
       "    <tr>\n",
       "      <td>0</td>\n",
       "      <td>Wii Sports</td>\n",
       "      <td>Wii</td>\n",
       "      <td>2006.0</td>\n",
       "      <td>Sports</td>\n",
       "      <td>41.36</td>\n",
       "      <td>28.96</td>\n",
       "      <td>3.77</td>\n",
       "      <td>8.45</td>\n",
       "      <td>76.0</td>\n",
       "      <td>8</td>\n",
       "      <td>E</td>\n",
       "    </tr>\n",
       "    <tr>\n",
       "      <td>1</td>\n",
       "      <td>Super Mario Bros.</td>\n",
       "      <td>NES</td>\n",
       "      <td>1985.0</td>\n",
       "      <td>Platform</td>\n",
       "      <td>29.08</td>\n",
       "      <td>3.58</td>\n",
       "      <td>6.81</td>\n",
       "      <td>0.77</td>\n",
       "      <td>NaN</td>\n",
       "      <td>NaN</td>\n",
       "      <td>NaN</td>\n",
       "    </tr>\n",
       "    <tr>\n",
       "      <td>2</td>\n",
       "      <td>Mario Kart Wii</td>\n",
       "      <td>Wii</td>\n",
       "      <td>2008.0</td>\n",
       "      <td>Racing</td>\n",
       "      <td>15.68</td>\n",
       "      <td>12.76</td>\n",
       "      <td>3.79</td>\n",
       "      <td>3.29</td>\n",
       "      <td>82.0</td>\n",
       "      <td>8.3</td>\n",
       "      <td>E</td>\n",
       "    </tr>\n",
       "    <tr>\n",
       "      <td>3</td>\n",
       "      <td>Wii Sports Resort</td>\n",
       "      <td>Wii</td>\n",
       "      <td>2009.0</td>\n",
       "      <td>Sports</td>\n",
       "      <td>15.61</td>\n",
       "      <td>10.93</td>\n",
       "      <td>3.28</td>\n",
       "      <td>2.95</td>\n",
       "      <td>80.0</td>\n",
       "      <td>8</td>\n",
       "      <td>E</td>\n",
       "    </tr>\n",
       "    <tr>\n",
       "      <td>4</td>\n",
       "      <td>Pokemon Red/Pokemon Blue</td>\n",
       "      <td>GB</td>\n",
       "      <td>1996.0</td>\n",
       "      <td>Role-Playing</td>\n",
       "      <td>11.27</td>\n",
       "      <td>8.89</td>\n",
       "      <td>10.22</td>\n",
       "      <td>1.00</td>\n",
       "      <td>NaN</td>\n",
       "      <td>NaN</td>\n",
       "      <td>NaN</td>\n",
       "    </tr>\n",
       "  </tbody>\n",
       "</table>\n",
       "</div>"
      ],
      "text/plain": [
       "                       Name Platform  Year_of_Release         Genre  NA_sales  \\\n",
       "0                Wii Sports      Wii           2006.0        Sports     41.36   \n",
       "1         Super Mario Bros.      NES           1985.0      Platform     29.08   \n",
       "2            Mario Kart Wii      Wii           2008.0        Racing     15.68   \n",
       "3         Wii Sports Resort      Wii           2009.0        Sports     15.61   \n",
       "4  Pokemon Red/Pokemon Blue       GB           1996.0  Role-Playing     11.27   \n",
       "\n",
       "   EU_sales  JP_sales  Other_sales  Critic_Score User_Score Rating  \n",
       "0     28.96      3.77         8.45          76.0          8      E  \n",
       "1      3.58      6.81         0.77           NaN        NaN    NaN  \n",
       "2     12.76      3.79         3.29          82.0        8.3      E  \n",
       "3     10.93      3.28         2.95          80.0          8      E  \n",
       "4      8.89     10.22         1.00           NaN        NaN    NaN  "
      ]
     },
     "execution_count": 3,
     "metadata": {},
     "output_type": "execute_result"
    }
   ],
   "source": [
    "df.head()"
   ]
  },
  {
   "cell_type": "code",
   "execution_count": 4,
   "metadata": {},
   "outputs": [
    {
     "name": "stdout",
     "output_type": "stream",
     "text": [
      "<class 'pandas.core.frame.DataFrame'>\n",
      "RangeIndex: 16715 entries, 0 to 16714\n",
      "Data columns (total 11 columns):\n",
      "Name               16713 non-null object\n",
      "Platform           16715 non-null object\n",
      "Year_of_Release    16446 non-null float64\n",
      "Genre              16713 non-null object\n",
      "NA_sales           16715 non-null float64\n",
      "EU_sales           16715 non-null float64\n",
      "JP_sales           16715 non-null float64\n",
      "Other_sales        16715 non-null float64\n",
      "Critic_Score       8137 non-null float64\n",
      "User_Score         10014 non-null object\n",
      "Rating             9949 non-null object\n",
      "dtypes: float64(6), object(5)\n",
      "memory usage: 1.4+ MB\n"
     ]
    }
   ],
   "source": [
    "df.info()"
   ]
  },
  {
   "cell_type": "markdown",
   "metadata": {},
   "source": [
    "### Вывод"
   ]
  },
  {
   "cell_type": "markdown",
   "metadata": {},
   "source": [
    "Наименования столбцов содержат символы разных регистров.\n",
    "\n",
    "В столбце 'year_of_release' значение года записано как число с плавающей запятой.\n",
    "\n",
    "В столбце 'user_score' числовые значения, которым не соответствует тип данных object.\n",
    "\n",
    "В данных есть пропуски."
   ]
  },
  {
   "cell_type": "markdown",
   "metadata": {},
   "source": [
    "## Предобработка данных"
   ]
  },
  {
   "cell_type": "markdown",
   "metadata": {},
   "source": [
    "Посмотрим на долю пропусков в данных:"
   ]
  },
  {
   "cell_type": "code",
   "execution_count": 5,
   "metadata": {},
   "outputs": [
    {
     "data": {
      "text/plain": [
       "Name               0.000120\n",
       "Platform           0.000000\n",
       "Year_of_Release    0.016093\n",
       "Genre              0.000120\n",
       "NA_sales           0.000000\n",
       "EU_sales           0.000000\n",
       "JP_sales           0.000000\n",
       "Other_sales        0.000000\n",
       "Critic_Score       0.513192\n",
       "User_Score         0.400897\n",
       "Rating             0.404786\n",
       "dtype: float64"
      ]
     },
     "execution_count": 5,
     "metadata": {},
     "output_type": "execute_result"
    }
   ],
   "source": [
    "df.isna().mean()"
   ]
  },
  {
   "cell_type": "markdown",
   "metadata": {},
   "source": [
    "Приведем названия столбцов к нижнему регистру:"
   ]
  },
  {
   "cell_type": "code",
   "execution_count": 6,
   "metadata": {},
   "outputs": [],
   "source": [
    "df.columns = df.columns.str.lower()"
   ]
  },
  {
   "cell_type": "code",
   "execution_count": 7,
   "metadata": {},
   "outputs": [
    {
     "data": {
      "text/html": [
       "<div>\n",
       "<style scoped>\n",
       "    .dataframe tbody tr th:only-of-type {\n",
       "        vertical-align: middle;\n",
       "    }\n",
       "\n",
       "    .dataframe tbody tr th {\n",
       "        vertical-align: top;\n",
       "    }\n",
       "\n",
       "    .dataframe thead th {\n",
       "        text-align: right;\n",
       "    }\n",
       "</style>\n",
       "<table border=\"1\" class=\"dataframe\">\n",
       "  <thead>\n",
       "    <tr style=\"text-align: right;\">\n",
       "      <th></th>\n",
       "      <th>name</th>\n",
       "      <th>platform</th>\n",
       "      <th>year_of_release</th>\n",
       "      <th>genre</th>\n",
       "      <th>na_sales</th>\n",
       "      <th>eu_sales</th>\n",
       "      <th>jp_sales</th>\n",
       "      <th>other_sales</th>\n",
       "      <th>critic_score</th>\n",
       "      <th>user_score</th>\n",
       "      <th>rating</th>\n",
       "    </tr>\n",
       "  </thead>\n",
       "  <tbody>\n",
       "    <tr>\n",
       "      <td>0</td>\n",
       "      <td>Wii Sports</td>\n",
       "      <td>Wii</td>\n",
       "      <td>2006.0</td>\n",
       "      <td>Sports</td>\n",
       "      <td>41.36</td>\n",
       "      <td>28.96</td>\n",
       "      <td>3.77</td>\n",
       "      <td>8.45</td>\n",
       "      <td>76.0</td>\n",
       "      <td>8</td>\n",
       "      <td>E</td>\n",
       "    </tr>\n",
       "    <tr>\n",
       "      <td>1</td>\n",
       "      <td>Super Mario Bros.</td>\n",
       "      <td>NES</td>\n",
       "      <td>1985.0</td>\n",
       "      <td>Platform</td>\n",
       "      <td>29.08</td>\n",
       "      <td>3.58</td>\n",
       "      <td>6.81</td>\n",
       "      <td>0.77</td>\n",
       "      <td>NaN</td>\n",
       "      <td>NaN</td>\n",
       "      <td>NaN</td>\n",
       "    </tr>\n",
       "    <tr>\n",
       "      <td>2</td>\n",
       "      <td>Mario Kart Wii</td>\n",
       "      <td>Wii</td>\n",
       "      <td>2008.0</td>\n",
       "      <td>Racing</td>\n",
       "      <td>15.68</td>\n",
       "      <td>12.76</td>\n",
       "      <td>3.79</td>\n",
       "      <td>3.29</td>\n",
       "      <td>82.0</td>\n",
       "      <td>8.3</td>\n",
       "      <td>E</td>\n",
       "    </tr>\n",
       "    <tr>\n",
       "      <td>3</td>\n",
       "      <td>Wii Sports Resort</td>\n",
       "      <td>Wii</td>\n",
       "      <td>2009.0</td>\n",
       "      <td>Sports</td>\n",
       "      <td>15.61</td>\n",
       "      <td>10.93</td>\n",
       "      <td>3.28</td>\n",
       "      <td>2.95</td>\n",
       "      <td>80.0</td>\n",
       "      <td>8</td>\n",
       "      <td>E</td>\n",
       "    </tr>\n",
       "    <tr>\n",
       "      <td>4</td>\n",
       "      <td>Pokemon Red/Pokemon Blue</td>\n",
       "      <td>GB</td>\n",
       "      <td>1996.0</td>\n",
       "      <td>Role-Playing</td>\n",
       "      <td>11.27</td>\n",
       "      <td>8.89</td>\n",
       "      <td>10.22</td>\n",
       "      <td>1.00</td>\n",
       "      <td>NaN</td>\n",
       "      <td>NaN</td>\n",
       "      <td>NaN</td>\n",
       "    </tr>\n",
       "  </tbody>\n",
       "</table>\n",
       "</div>"
      ],
      "text/plain": [
       "                       name platform  year_of_release         genre  na_sales  \\\n",
       "0                Wii Sports      Wii           2006.0        Sports     41.36   \n",
       "1         Super Mario Bros.      NES           1985.0      Platform     29.08   \n",
       "2            Mario Kart Wii      Wii           2008.0        Racing     15.68   \n",
       "3         Wii Sports Resort      Wii           2009.0        Sports     15.61   \n",
       "4  Pokemon Red/Pokemon Blue       GB           1996.0  Role-Playing     11.27   \n",
       "\n",
       "   eu_sales  jp_sales  other_sales  critic_score user_score rating  \n",
       "0     28.96      3.77         8.45          76.0          8      E  \n",
       "1      3.58      6.81         0.77           NaN        NaN    NaN  \n",
       "2     12.76      3.79         3.29          82.0        8.3      E  \n",
       "3     10.93      3.28         2.95          80.0          8      E  \n",
       "4      8.89     10.22         1.00           NaN        NaN    NaN  "
      ]
     },
     "execution_count": 7,
     "metadata": {},
     "output_type": "execute_result"
    }
   ],
   "source": [
    "df.head()"
   ]
  },
  {
   "cell_type": "markdown",
   "metadata": {},
   "source": [
    "Приведем значения года в столбце 'year_of_release' к целочисленным:"
   ]
  },
  {
   "cell_type": "code",
   "execution_count": 8,
   "metadata": {},
   "outputs": [],
   "source": [
    "df['year_of_release'] = df['year_of_release'].astype('Int64')"
   ]
  },
  {
   "cell_type": "code",
   "execution_count": 9,
   "metadata": {},
   "outputs": [
    {
     "data": {
      "text/html": [
       "<div>\n",
       "<style scoped>\n",
       "    .dataframe tbody tr th:only-of-type {\n",
       "        vertical-align: middle;\n",
       "    }\n",
       "\n",
       "    .dataframe tbody tr th {\n",
       "        vertical-align: top;\n",
       "    }\n",
       "\n",
       "    .dataframe thead th {\n",
       "        text-align: right;\n",
       "    }\n",
       "</style>\n",
       "<table border=\"1\" class=\"dataframe\">\n",
       "  <thead>\n",
       "    <tr style=\"text-align: right;\">\n",
       "      <th></th>\n",
       "      <th>name</th>\n",
       "      <th>platform</th>\n",
       "      <th>year_of_release</th>\n",
       "      <th>genre</th>\n",
       "      <th>na_sales</th>\n",
       "      <th>eu_sales</th>\n",
       "      <th>jp_sales</th>\n",
       "      <th>other_sales</th>\n",
       "      <th>critic_score</th>\n",
       "      <th>user_score</th>\n",
       "      <th>rating</th>\n",
       "    </tr>\n",
       "  </thead>\n",
       "  <tbody>\n",
       "    <tr>\n",
       "      <td>0</td>\n",
       "      <td>Wii Sports</td>\n",
       "      <td>Wii</td>\n",
       "      <td>2006</td>\n",
       "      <td>Sports</td>\n",
       "      <td>41.36</td>\n",
       "      <td>28.96</td>\n",
       "      <td>3.77</td>\n",
       "      <td>8.45</td>\n",
       "      <td>76.0</td>\n",
       "      <td>8</td>\n",
       "      <td>E</td>\n",
       "    </tr>\n",
       "    <tr>\n",
       "      <td>1</td>\n",
       "      <td>Super Mario Bros.</td>\n",
       "      <td>NES</td>\n",
       "      <td>1985</td>\n",
       "      <td>Platform</td>\n",
       "      <td>29.08</td>\n",
       "      <td>3.58</td>\n",
       "      <td>6.81</td>\n",
       "      <td>0.77</td>\n",
       "      <td>NaN</td>\n",
       "      <td>NaN</td>\n",
       "      <td>NaN</td>\n",
       "    </tr>\n",
       "    <tr>\n",
       "      <td>2</td>\n",
       "      <td>Mario Kart Wii</td>\n",
       "      <td>Wii</td>\n",
       "      <td>2008</td>\n",
       "      <td>Racing</td>\n",
       "      <td>15.68</td>\n",
       "      <td>12.76</td>\n",
       "      <td>3.79</td>\n",
       "      <td>3.29</td>\n",
       "      <td>82.0</td>\n",
       "      <td>8.3</td>\n",
       "      <td>E</td>\n",
       "    </tr>\n",
       "    <tr>\n",
       "      <td>3</td>\n",
       "      <td>Wii Sports Resort</td>\n",
       "      <td>Wii</td>\n",
       "      <td>2009</td>\n",
       "      <td>Sports</td>\n",
       "      <td>15.61</td>\n",
       "      <td>10.93</td>\n",
       "      <td>3.28</td>\n",
       "      <td>2.95</td>\n",
       "      <td>80.0</td>\n",
       "      <td>8</td>\n",
       "      <td>E</td>\n",
       "    </tr>\n",
       "    <tr>\n",
       "      <td>4</td>\n",
       "      <td>Pokemon Red/Pokemon Blue</td>\n",
       "      <td>GB</td>\n",
       "      <td>1996</td>\n",
       "      <td>Role-Playing</td>\n",
       "      <td>11.27</td>\n",
       "      <td>8.89</td>\n",
       "      <td>10.22</td>\n",
       "      <td>1.00</td>\n",
       "      <td>NaN</td>\n",
       "      <td>NaN</td>\n",
       "      <td>NaN</td>\n",
       "    </tr>\n",
       "  </tbody>\n",
       "</table>\n",
       "</div>"
      ],
      "text/plain": [
       "                       name platform  year_of_release         genre  na_sales  \\\n",
       "0                Wii Sports      Wii             2006        Sports     41.36   \n",
       "1         Super Mario Bros.      NES             1985      Platform     29.08   \n",
       "2            Mario Kart Wii      Wii             2008        Racing     15.68   \n",
       "3         Wii Sports Resort      Wii             2009        Sports     15.61   \n",
       "4  Pokemon Red/Pokemon Blue       GB             1996  Role-Playing     11.27   \n",
       "\n",
       "   eu_sales  jp_sales  other_sales  critic_score user_score rating  \n",
       "0     28.96      3.77         8.45          76.0          8      E  \n",
       "1      3.58      6.81         0.77           NaN        NaN    NaN  \n",
       "2     12.76      3.79         3.29          82.0        8.3      E  \n",
       "3     10.93      3.28         2.95          80.0          8      E  \n",
       "4      8.89     10.22         1.00           NaN        NaN    NaN  "
      ]
     },
     "execution_count": 9,
     "metadata": {},
     "output_type": "execute_result"
    }
   ],
   "source": [
    "df.head()"
   ]
  },
  {
   "cell_type": "markdown",
   "metadata": {},
   "source": [
    "Заменим тип данных в столбце 'user_score' на float:"
   ]
  },
  {
   "cell_type": "code",
   "execution_count": 10,
   "metadata": {},
   "outputs": [],
   "source": [
    "df['user_score'] = pd.to_numeric(df['user_score'], errors='coerce')"
   ]
  },
  {
   "cell_type": "code",
   "execution_count": 11,
   "metadata": {},
   "outputs": [
    {
     "name": "stdout",
     "output_type": "stream",
     "text": [
      "<class 'pandas.core.frame.DataFrame'>\n",
      "RangeIndex: 16715 entries, 0 to 16714\n",
      "Data columns (total 11 columns):\n",
      "name               16713 non-null object\n",
      "platform           16715 non-null object\n",
      "year_of_release    16446 non-null Int64\n",
      "genre              16713 non-null object\n",
      "na_sales           16715 non-null float64\n",
      "eu_sales           16715 non-null float64\n",
      "jp_sales           16715 non-null float64\n",
      "other_sales        16715 non-null float64\n",
      "critic_score       8137 non-null float64\n",
      "user_score         7590 non-null float64\n",
      "rating             9949 non-null object\n",
      "dtypes: Int64(1), float64(6), object(4)\n",
      "memory usage: 1.4+ MB\n"
     ]
    }
   ],
   "source": [
    "df.info()"
   ]
  },
  {
   "cell_type": "markdown",
   "metadata": {},
   "source": [
    "Посмотрим, за какой период представлены данные, и нет ли в них аномальных значений:"
   ]
  },
  {
   "cell_type": "code",
   "execution_count": 12,
   "metadata": {},
   "outputs": [
    {
     "data": {
      "text/html": [
       "<div>\n",
       "<style scoped>\n",
       "    .dataframe tbody tr th:only-of-type {\n",
       "        vertical-align: middle;\n",
       "    }\n",
       "\n",
       "    .dataframe tbody tr th {\n",
       "        vertical-align: top;\n",
       "    }\n",
       "\n",
       "    .dataframe thead th {\n",
       "        text-align: right;\n",
       "    }\n",
       "</style>\n",
       "<table border=\"1\" class=\"dataframe\">\n",
       "  <thead>\n",
       "    <tr style=\"text-align: right;\">\n",
       "      <th></th>\n",
       "      <th>year_of_release</th>\n",
       "      <th>na_sales</th>\n",
       "      <th>eu_sales</th>\n",
       "      <th>jp_sales</th>\n",
       "      <th>other_sales</th>\n",
       "      <th>critic_score</th>\n",
       "      <th>user_score</th>\n",
       "    </tr>\n",
       "  </thead>\n",
       "  <tbody>\n",
       "    <tr>\n",
       "      <td>count</td>\n",
       "      <td>16446.000000</td>\n",
       "      <td>16715.000000</td>\n",
       "      <td>16715.000000</td>\n",
       "      <td>16715.000000</td>\n",
       "      <td>16715.000000</td>\n",
       "      <td>8137.000000</td>\n",
       "      <td>7590.000000</td>\n",
       "    </tr>\n",
       "    <tr>\n",
       "      <td>mean</td>\n",
       "      <td>2006.484616</td>\n",
       "      <td>0.263377</td>\n",
       "      <td>0.145060</td>\n",
       "      <td>0.077617</td>\n",
       "      <td>0.047342</td>\n",
       "      <td>68.967679</td>\n",
       "      <td>7.125046</td>\n",
       "    </tr>\n",
       "    <tr>\n",
       "      <td>std</td>\n",
       "      <td>5.877050</td>\n",
       "      <td>0.813604</td>\n",
       "      <td>0.503339</td>\n",
       "      <td>0.308853</td>\n",
       "      <td>0.186731</td>\n",
       "      <td>13.938165</td>\n",
       "      <td>1.500006</td>\n",
       "    </tr>\n",
       "    <tr>\n",
       "      <td>min</td>\n",
       "      <td>1980.000000</td>\n",
       "      <td>0.000000</td>\n",
       "      <td>0.000000</td>\n",
       "      <td>0.000000</td>\n",
       "      <td>0.000000</td>\n",
       "      <td>13.000000</td>\n",
       "      <td>0.000000</td>\n",
       "    </tr>\n",
       "    <tr>\n",
       "      <td>25%</td>\n",
       "      <td>2003.000000</td>\n",
       "      <td>0.000000</td>\n",
       "      <td>0.000000</td>\n",
       "      <td>0.000000</td>\n",
       "      <td>0.000000</td>\n",
       "      <td>60.000000</td>\n",
       "      <td>6.400000</td>\n",
       "    </tr>\n",
       "    <tr>\n",
       "      <td>50%</td>\n",
       "      <td>2007.000000</td>\n",
       "      <td>0.080000</td>\n",
       "      <td>0.020000</td>\n",
       "      <td>0.000000</td>\n",
       "      <td>0.010000</td>\n",
       "      <td>71.000000</td>\n",
       "      <td>7.500000</td>\n",
       "    </tr>\n",
       "    <tr>\n",
       "      <td>75%</td>\n",
       "      <td>2010.000000</td>\n",
       "      <td>0.240000</td>\n",
       "      <td>0.110000</td>\n",
       "      <td>0.040000</td>\n",
       "      <td>0.030000</td>\n",
       "      <td>79.000000</td>\n",
       "      <td>8.200000</td>\n",
       "    </tr>\n",
       "    <tr>\n",
       "      <td>max</td>\n",
       "      <td>2016.000000</td>\n",
       "      <td>41.360000</td>\n",
       "      <td>28.960000</td>\n",
       "      <td>10.220000</td>\n",
       "      <td>10.570000</td>\n",
       "      <td>98.000000</td>\n",
       "      <td>9.700000</td>\n",
       "    </tr>\n",
       "  </tbody>\n",
       "</table>\n",
       "</div>"
      ],
      "text/plain": [
       "       year_of_release      na_sales      eu_sales      jp_sales  \\\n",
       "count     16446.000000  16715.000000  16715.000000  16715.000000   \n",
       "mean       2006.484616      0.263377      0.145060      0.077617   \n",
       "std           5.877050      0.813604      0.503339      0.308853   \n",
       "min        1980.000000      0.000000      0.000000      0.000000   \n",
       "25%        2003.000000      0.000000      0.000000      0.000000   \n",
       "50%        2007.000000      0.080000      0.020000      0.000000   \n",
       "75%        2010.000000      0.240000      0.110000      0.040000   \n",
       "max        2016.000000     41.360000     28.960000     10.220000   \n",
       "\n",
       "        other_sales  critic_score   user_score  \n",
       "count  16715.000000   8137.000000  7590.000000  \n",
       "mean       0.047342     68.967679     7.125046  \n",
       "std        0.186731     13.938165     1.500006  \n",
       "min        0.000000     13.000000     0.000000  \n",
       "25%        0.000000     60.000000     6.400000  \n",
       "50%        0.010000     71.000000     7.500000  \n",
       "75%        0.030000     79.000000     8.200000  \n",
       "max       10.570000     98.000000     9.700000  "
      ]
     },
     "execution_count": 12,
     "metadata": {},
     "output_type": "execute_result"
    }
   ],
   "source": [
    "df.describe()"
   ]
  },
  {
   "cell_type": "markdown",
   "metadata": {},
   "source": [
    "С целью исключить появление неявных дубликатов, приведем строки в столбце 'platform' к нижнему регистру:"
   ]
  },
  {
   "cell_type": "code",
   "execution_count": 13,
   "metadata": {},
   "outputs": [],
   "source": [
    "df['platform'] = df['platform'].str.lower()"
   ]
  },
  {
   "cell_type": "markdown",
   "metadata": {},
   "source": [
    "Посмотрим уникальные значения:"
   ]
  },
  {
   "cell_type": "code",
   "execution_count": 14,
   "metadata": {},
   "outputs": [
    {
     "data": {
      "text/plain": [
       "ps2     2161\n",
       "ds      2151\n",
       "ps3     1331\n",
       "wii     1320\n",
       "x360    1262\n",
       "psp     1209\n",
       "ps      1197\n",
       "pc       974\n",
       "xb       824\n",
       "gba      822\n",
       "gc       556\n",
       "3ds      520\n",
       "psv      430\n",
       "ps4      392\n",
       "n64      319\n",
       "xone     247\n",
       "snes     239\n",
       "sat      173\n",
       "wiiu     147\n",
       "2600     133\n",
       "gb        98\n",
       "nes       98\n",
       "dc        52\n",
       "gen       29\n",
       "ng        12\n",
       "ws         6\n",
       "scd        6\n",
       "3do        3\n",
       "tg16       2\n",
       "gg         1\n",
       "pcfx       1\n",
       "Name: platform, dtype: int64"
      ]
     },
     "execution_count": 14,
     "metadata": {},
     "output_type": "execute_result"
    }
   ],
   "source": [
    "df['platform'].value_counts()"
   ]
  },
  {
   "cell_type": "markdown",
   "metadata": {},
   "source": [
    "С целью исключить появление неявных дубликатов, приведем строки в столбце 'genre' к нижнему регистру:"
   ]
  },
  {
   "cell_type": "code",
   "execution_count": 15,
   "metadata": {},
   "outputs": [],
   "source": [
    "df['genre'] = df['genre'].str.lower()"
   ]
  },
  {
   "cell_type": "markdown",
   "metadata": {},
   "source": [
    "Посмотрим уникальные значения:"
   ]
  },
  {
   "cell_type": "code",
   "execution_count": 16,
   "metadata": {},
   "outputs": [
    {
     "data": {
      "text/plain": [
       "action          3369\n",
       "sports          2348\n",
       "misc            1750\n",
       "role-playing    1498\n",
       "shooter         1323\n",
       "adventure       1303\n",
       "racing          1249\n",
       "platform         888\n",
       "simulation       873\n",
       "fighting         849\n",
       "strategy         683\n",
       "puzzle           580\n",
       "Name: genre, dtype: int64"
      ]
     },
     "execution_count": 16,
     "metadata": {},
     "output_type": "execute_result"
    }
   ],
   "source": [
    "df['genre'].value_counts()"
   ]
  },
  {
   "cell_type": "markdown",
   "metadata": {},
   "source": [
    "Посмотрим уникальные значения по столбцу 'rating':"
   ]
  },
  {
   "cell_type": "code",
   "execution_count": 17,
   "metadata": {},
   "outputs": [
    {
     "data": {
      "text/plain": [
       "E       3990\n",
       "T       2961\n",
       "M       1563\n",
       "E10+    1420\n",
       "EC         8\n",
       "K-A        3\n",
       "RP         3\n",
       "AO         1\n",
       "Name: rating, dtype: int64"
      ]
     },
     "execution_count": 17,
     "metadata": {},
     "output_type": "execute_result"
    }
   ],
   "source": [
    "df['rating'].value_counts()"
   ]
  },
  {
   "cell_type": "markdown",
   "metadata": {},
   "source": [
    "Расшифровка значений рейтинга ESRB:"
   ]
  },
  {
   "cell_type": "markdown",
   "metadata": {},
   "source": [
    "E: «Everyone»/«Для всех»\n",
    "\n",
    "T: «Teen»/«Подросткам»\n",
    "\n",
    "M: «Mature»/«Для взрослых»\n",
    "\n",
    "E10+: «Everyone 10 and older»/«Для всех от 10 лет и старше»\n",
    "\n",
    "EC: «Early childhood»/«Для детей младшего возраста»\n",
    "\n",
    "K-A: «for Kids to Adults»/«Для детей и взрослых», этот рейтинг использовался до 1998 года, после был переименован в E\n",
    "\n",
    "RP: «Rating Pending»/«Рейтинг ожидается»\n",
    "\n",
    "AO: «Adults Only 18+»/«Только для взрослых»"
   ]
  },
  {
   "cell_type": "markdown",
   "metadata": {},
   "source": [
    "Проверим наличие дубликатов в данных:"
   ]
  },
  {
   "cell_type": "code",
   "execution_count": 18,
   "metadata": {},
   "outputs": [
    {
     "data": {
      "text/plain": [
       "0"
      ]
     },
     "execution_count": 18,
     "metadata": {},
     "output_type": "execute_result"
    }
   ],
   "source": [
    "df.duplicated().sum()"
   ]
  },
  {
   "cell_type": "markdown",
   "metadata": {},
   "source": [
    "Посчитаем суммарные продажи и добавим их в отдельный столбец:"
   ]
  },
  {
   "cell_type": "code",
   "execution_count": 19,
   "metadata": {},
   "outputs": [],
   "source": [
    "df['all_sales'] = df['na_sales'] + df['eu_sales'] + df['jp_sales'] + df['other_sales']"
   ]
  },
  {
   "cell_type": "markdown",
   "metadata": {},
   "source": [
    "Проверим, что получилось:"
   ]
  },
  {
   "cell_type": "code",
   "execution_count": 20,
   "metadata": {},
   "outputs": [
    {
     "data": {
      "text/html": [
       "<div>\n",
       "<style scoped>\n",
       "    .dataframe tbody tr th:only-of-type {\n",
       "        vertical-align: middle;\n",
       "    }\n",
       "\n",
       "    .dataframe tbody tr th {\n",
       "        vertical-align: top;\n",
       "    }\n",
       "\n",
       "    .dataframe thead th {\n",
       "        text-align: right;\n",
       "    }\n",
       "</style>\n",
       "<table border=\"1\" class=\"dataframe\">\n",
       "  <thead>\n",
       "    <tr style=\"text-align: right;\">\n",
       "      <th></th>\n",
       "      <th>name</th>\n",
       "      <th>platform</th>\n",
       "      <th>year_of_release</th>\n",
       "      <th>genre</th>\n",
       "      <th>na_sales</th>\n",
       "      <th>eu_sales</th>\n",
       "      <th>jp_sales</th>\n",
       "      <th>other_sales</th>\n",
       "      <th>critic_score</th>\n",
       "      <th>user_score</th>\n",
       "      <th>rating</th>\n",
       "      <th>all_sales</th>\n",
       "    </tr>\n",
       "  </thead>\n",
       "  <tbody>\n",
       "    <tr>\n",
       "      <td>0</td>\n",
       "      <td>Wii Sports</td>\n",
       "      <td>wii</td>\n",
       "      <td>2006</td>\n",
       "      <td>sports</td>\n",
       "      <td>41.36</td>\n",
       "      <td>28.96</td>\n",
       "      <td>3.77</td>\n",
       "      <td>8.45</td>\n",
       "      <td>76.0</td>\n",
       "      <td>8.0</td>\n",
       "      <td>E</td>\n",
       "      <td>82.54</td>\n",
       "    </tr>\n",
       "    <tr>\n",
       "      <td>1</td>\n",
       "      <td>Super Mario Bros.</td>\n",
       "      <td>nes</td>\n",
       "      <td>1985</td>\n",
       "      <td>platform</td>\n",
       "      <td>29.08</td>\n",
       "      <td>3.58</td>\n",
       "      <td>6.81</td>\n",
       "      <td>0.77</td>\n",
       "      <td>NaN</td>\n",
       "      <td>NaN</td>\n",
       "      <td>NaN</td>\n",
       "      <td>40.24</td>\n",
       "    </tr>\n",
       "    <tr>\n",
       "      <td>2</td>\n",
       "      <td>Mario Kart Wii</td>\n",
       "      <td>wii</td>\n",
       "      <td>2008</td>\n",
       "      <td>racing</td>\n",
       "      <td>15.68</td>\n",
       "      <td>12.76</td>\n",
       "      <td>3.79</td>\n",
       "      <td>3.29</td>\n",
       "      <td>82.0</td>\n",
       "      <td>8.3</td>\n",
       "      <td>E</td>\n",
       "      <td>35.52</td>\n",
       "    </tr>\n",
       "    <tr>\n",
       "      <td>3</td>\n",
       "      <td>Wii Sports Resort</td>\n",
       "      <td>wii</td>\n",
       "      <td>2009</td>\n",
       "      <td>sports</td>\n",
       "      <td>15.61</td>\n",
       "      <td>10.93</td>\n",
       "      <td>3.28</td>\n",
       "      <td>2.95</td>\n",
       "      <td>80.0</td>\n",
       "      <td>8.0</td>\n",
       "      <td>E</td>\n",
       "      <td>32.77</td>\n",
       "    </tr>\n",
       "    <tr>\n",
       "      <td>4</td>\n",
       "      <td>Pokemon Red/Pokemon Blue</td>\n",
       "      <td>gb</td>\n",
       "      <td>1996</td>\n",
       "      <td>role-playing</td>\n",
       "      <td>11.27</td>\n",
       "      <td>8.89</td>\n",
       "      <td>10.22</td>\n",
       "      <td>1.00</td>\n",
       "      <td>NaN</td>\n",
       "      <td>NaN</td>\n",
       "      <td>NaN</td>\n",
       "      <td>31.38</td>\n",
       "    </tr>\n",
       "  </tbody>\n",
       "</table>\n",
       "</div>"
      ],
      "text/plain": [
       "                       name platform  year_of_release         genre  na_sales  \\\n",
       "0                Wii Sports      wii             2006        sports     41.36   \n",
       "1         Super Mario Bros.      nes             1985      platform     29.08   \n",
       "2            Mario Kart Wii      wii             2008        racing     15.68   \n",
       "3         Wii Sports Resort      wii             2009        sports     15.61   \n",
       "4  Pokemon Red/Pokemon Blue       gb             1996  role-playing     11.27   \n",
       "\n",
       "   eu_sales  jp_sales  other_sales  critic_score  user_score rating  all_sales  \n",
       "0     28.96      3.77         8.45          76.0         8.0      E      82.54  \n",
       "1      3.58      6.81         0.77           NaN         NaN    NaN      40.24  \n",
       "2     12.76      3.79         3.29          82.0         8.3      E      35.52  \n",
       "3     10.93      3.28         2.95          80.0         8.0      E      32.77  \n",
       "4      8.89     10.22         1.00           NaN         NaN    NaN      31.38  "
      ]
     },
     "execution_count": 20,
     "metadata": {},
     "output_type": "execute_result"
    }
   ],
   "source": [
    "df.head()"
   ]
  },
  {
   "cell_type": "code",
   "execution_count": 21,
   "metadata": {},
   "outputs": [
    {
     "name": "stdout",
     "output_type": "stream",
     "text": [
      "<class 'pandas.core.frame.DataFrame'>\n",
      "RangeIndex: 16715 entries, 0 to 16714\n",
      "Data columns (total 12 columns):\n",
      "name               16713 non-null object\n",
      "platform           16715 non-null object\n",
      "year_of_release    16446 non-null Int64\n",
      "genre              16713 non-null object\n",
      "na_sales           16715 non-null float64\n",
      "eu_sales           16715 non-null float64\n",
      "jp_sales           16715 non-null float64\n",
      "other_sales        16715 non-null float64\n",
      "critic_score       8137 non-null float64\n",
      "user_score         7590 non-null float64\n",
      "rating             9949 non-null object\n",
      "all_sales          16715 non-null float64\n",
      "dtypes: Int64(1), float64(7), object(4)\n",
      "memory usage: 1.5+ MB\n"
     ]
    }
   ],
   "source": [
    "df.info()"
   ]
  },
  {
   "cell_type": "markdown",
   "metadata": {},
   "source": [
    "### Вывод"
   ]
  },
  {
   "cell_type": "markdown",
   "metadata": {},
   "source": [
    "Значения года в столбце 'year_of_release' привели к целочисленным методом astype(), так как это универсальный метод, позволяющий преобразовывать тип данных в любой другой.\n",
    "\n",
    "При попытке изменить тип данных в столбце 'user_score' методом astype(), получили ошибку: 'строковое значение \"tbd\"'. tbd - аббревиатура от сокр. 'To Be Determined', что значит \"рейтинг ещё не определен\", поэтому тип данных изменили методом to_numeric(), который позволяет вернуть недопустимые значения как NaN, что соответствует условиям - рейтинга на самом деле ещё нет.\n",
    "\n",
    "В столбцах 'critic_score', 'user_score', 'rating' большая доля пропусков, около 40-50%, оставим их без обработки, так как точных данных о пропущенных значениях нет, а замена на конкретное значение без ссылки на источник может сильно исказить результаты исследования. Пропуски в столбцах 'name', 'year_of_release', 'genre' так же оставим без обработки, так как достоверных данных об этих значениях так же нет, доля пропусков небольшая. Причиной появления такого большого количества пропусков может быть то, что на момент заполнения таблицы данных о рейтингах ещё не было, или они были заполнены в формате, который не удалось преобразовать при выгрузке/загрузке данных.\n",
    "\n",
    "Аномальных значений и дубликатов в данных нет.\n",
    "\n",
    "Суммарные продажи рассчитаны и добавлены в таблицу."
   ]
  },
  {
   "cell_type": "markdown",
   "metadata": {},
   "source": [
    "## Исследовательский анализ данных"
   ]
  },
  {
   "cell_type": "markdown",
   "metadata": {},
   "source": [
    "Посмотрим, сколько игр выпускалось в разные годы:"
   ]
  },
  {
   "cell_type": "code",
   "execution_count": 22,
   "metadata": {},
   "outputs": [
    {
     "data": {
      "image/png": "[encoded data removed]",
      "text/plain": [
       "<Figure size 864x432 with 1 Axes>"
      ]
     },
     "metadata": {
      "needs_background": "light"
     },
     "output_type": "display_data"
    }
   ],
   "source": [
    "(\n",
    "    df\n",
    "    .pivot_table(index='year_of_release',\n",
    "                 values='name',\n",
    "                 aggfunc='count')\n",
    "    .plot(kind='bar',\n",
    "          rot=90,\n",
    "          title='Распределение выпуска игр по годам',\n",
    "          grid=True,\n",
    "          figsize=(12,6),\n",
    "          legend=False)\n",
    "    .set(xlabel='Год выпуска',\n",
    "         ylabel='Количество игр')\n",
    ")\n",
    "plt.show()"
   ]
  },
  {
   "cell_type": "markdown",
   "metadata": {},
   "source": [
    "С начала 90-х гг. рост количества выпускаемых игр, достигает максимальных значений в 2008-2009 гг., затем спад. Так как данные за 2016 г. неполные, можно предположить, что с 2014 г. количество выпускаемых игр снова пошло в рост. Это распределение можно связать с тем, что в 2008 г. дан резкий старт мобильным разработкам, игры постепенно переходят в смартфоны. К 2014 г. насыщение рынка мобильных приложений, те, кто хочет играть, возвращаются к платформам. Кроме того, это распределение можно связать с тем, что разработка самих компьютерных игр так же усложнилась. Нам интересен период, когда разработка игр снова пошла вверх."
   ]
  },
  {
   "cell_type": "markdown",
   "metadata": {},
   "source": [
    "Посмотрим, как меняются продажи по платформам:"
   ]
  },
  {
   "cell_type": "code",
   "execution_count": 23,
   "metadata": {},
   "outputs": [
    {
     "data": {
      "image/png": "[encoded data removed]",
      "text/plain": [
       "<Figure size 864x432 with 1 Axes>"
      ]
     },
     "metadata": {
      "needs_background": "light"
     },
     "output_type": "display_data"
    }
   ],
   "source": [
    "(\n",
    "    df\n",
    "    .pivot_table(index='platform',\n",
    "                 values='all_sales',\n",
    "                 aggfunc='sum')\n",
    "    .sort_values(by='all_sales',\n",
    "                 ascending=False)\n",
    "    .plot(kind='bar',\n",
    "          rot=90,\n",
    "          title='Распределение продаж по платформам',\n",
    "          grid=True,\n",
    "          figsize=(12,6),\n",
    "          legend=False)\n",
    "    .set(xlabel='Платформа',\n",
    "         ylabel='Продажа, млн. копий')\n",
    ")\n",
    "plt.show()"
   ]
  },
  {
   "cell_type": "markdown",
   "metadata": {},
   "source": [
    "Выберем платформы с наибольшими суммарными продажами:"
   ]
  },
  {
   "cell_type": "code",
   "execution_count": 24,
   "metadata": {},
   "outputs": [],
   "source": [
    "max_sales = (df\n",
    "             .pivot_table(index='platform',\n",
    "                          values='all_sales',\n",
    "                          aggfunc='sum')\n",
    "             .sort_values(by='all_sales',\n",
    "                          ascending=False)\n",
    "             .head(6)\n",
    "            )"
   ]
  },
  {
   "cell_type": "markdown",
   "metadata": {},
   "source": [
    "Построим распределение продаж по годам в разрезе платформ с наибольшими суммарными продажами:"
   ]
  },
  {
   "cell_type": "code",
   "execution_count": 25,
   "metadata": {},
   "outputs": [
    {
     "data": {
      "image/png": "[encoded data removed]",
      "text/plain": [
       "<Figure size 864x432 with 1 Axes>"
      ]
     },
     "metadata": {
      "needs_background": "light"
     },
     "output_type": "display_data"
    }
   ],
   "source": [
    "(\n",
    "    df\n",
    "    .query('platform in @max_sales.index')\n",
    "    .pivot_table(index='year_of_release',\n",
    "                 columns='platform',\n",
    "                 values='all_sales',\n",
    "                 aggfunc='sum')\n",
    "    .plot(kind='bar',\n",
    "          stacked=True,\n",
    "          rot=90,\n",
    "          title='Распределение продаж по годам',\n",
    "          grid=True,\n",
    "          figsize=(12,6),\n",
    "          legend=True)\n",
    "    .set(xlabel='Год',\n",
    "         ylabel='Продажа, млн. копий')\n",
    ")\n",
    "plt.show()"
   ]
  },
  {
   "cell_type": "markdown",
   "metadata": {},
   "source": [
    "Из графика видно, что характерный срок, за который появляются новые и исчезают страые платформы, составляет примерно 10 лет. Наибольшую прибыль платформы приносят в первые 5-6 лет своего существования."
   ]
  },
  {
   "cell_type": "markdown",
   "metadata": {},
   "source": [
    "Учитывая:\n",
    "* характреный срок существования платформ 10 лет;\n",
    "* наибольшую прибыльность платформ в первые 5-6 лет;\n",
    "* период, когда продажи игр снова пошли в рост начиная с 2014 г.;\n",
    "* а так же то, что данные за 2016 неполные,\n",
    "\n",
    "актуальный период для исследования определим как период за 2013-2016 гг."
   ]
  },
  {
   "cell_type": "markdown",
   "metadata": {},
   "source": [
    "Получим срез данных и далее будем использовать только его:"
   ]
  },
  {
   "cell_type": "code",
   "execution_count": 26,
   "metadata": {},
   "outputs": [],
   "source": [
    "df = df.query('year_of_release >= 2013')"
   ]
  },
  {
   "cell_type": "markdown",
   "metadata": {},
   "source": [
    "Посмотрим, какие платформы лидируют по продажам в актуальном периоде:"
   ]
  },
  {
   "cell_type": "code",
   "execution_count": 27,
   "metadata": {},
   "outputs": [
    {
     "data": {
      "image/png": "[encoded data removed]",
      "text/plain": [
       "<Figure size 864x432 with 1 Axes>"
      ]
     },
     "metadata": {
      "needs_background": "light"
     },
     "output_type": "display_data"
    }
   ],
   "source": [
    "(\n",
    "    df\n",
    "    .pivot_table(index='platform',\n",
    "                 values='all_sales',\n",
    "                 aggfunc='sum')\n",
    "    .sort_values(by='all_sales',\n",
    "                 ascending=False)\n",
    "    .plot(kind='bar',\n",
    "          rot=90,\n",
    "          title='Распределение продаж по платформам',\n",
    "          grid=True,\n",
    "          figsize=(12,6),\n",
    "          legend=False)\n",
    "    .set(xlabel='Платформа',\n",
    "         ylabel='Продажа, млн. копий')\n",
    ")\n",
    "plt.show()"
   ]
  },
  {
   "cell_type": "markdown",
   "metadata": {},
   "source": [
    "Выберем платформы с наибольшими суммарными продажами:"
   ]
  },
  {
   "cell_type": "code",
   "execution_count": 28,
   "metadata": {},
   "outputs": [],
   "source": [
    "max_sales_actual = (df\n",
    "                    .pivot_table(index='platform',\n",
    "                                 values='all_sales',\n",
    "                                 aggfunc='sum')\n",
    "                    .sort_values(by='all_sales',\n",
    "                                 ascending=False)\n",
    "                    .head()\n",
    "                   )"
   ]
  },
  {
   "cell_type": "markdown",
   "metadata": {},
   "source": [
    "Посмотрим распределение продаж по годам в разрезе платформ:"
   ]
  },
  {
   "cell_type": "code",
   "execution_count": 29,
   "metadata": {},
   "outputs": [
    {
     "data": {
      "image/png": "[encoded data removed]",
      "text/plain": [
       "<Figure size 864x432 with 1 Axes>"
      ]
     },
     "metadata": {
      "needs_background": "light"
     },
     "output_type": "display_data"
    }
   ],
   "source": [
    "(\n",
    "    df\n",
    "    .pivot_table(index='year_of_release',\n",
    "                 columns='platform',\n",
    "                 values='all_sales',\n",
    "                 aggfunc='sum')\n",
    "    .plot(kind='bar',\n",
    "          colormap='tab20',\n",
    "          rot=90,\n",
    "          title='Распределение продаж по годам',\n",
    "          grid=True,\n",
    "          figsize=(12,6),\n",
    "          legend=True)\n",
    "    .set(xlabel='Год',\n",
    "         ylabel='Продажа, млн. копий')\n",
    ")\n",
    "plt.show()"
   ]
  },
  {
   "cell_type": "markdown",
   "metadata": {},
   "source": [
    "Учитывая, что данные за 2016 год неполные, рост показывают PS4 и Xbox One. Будем считать их потенциально прибыльными. PS3, 3DS и Xbox360 показывают снижение. Некоторые платформы показывают завершение цикла, например DS, PSP, Wii."
   ]
  },
  {
   "cell_type": "markdown",
   "metadata": {},
   "source": [
    "Построим диаграмму размаха значений продаж в разрезе платформ с наибольшими суммарными продажами:"
   ]
  },
  {
   "cell_type": "code",
   "execution_count": 30,
   "metadata": {},
   "outputs": [
    {
     "data": {
      "image/png": "[encoded data removed]",
      "text/plain": [
       "<Figure size 864x432 with 1 Axes>"
      ]
     },
     "metadata": {
      "needs_background": "light"
     },
     "output_type": "display_data"
    }
   ],
   "source": [
    "plt.figure(figsize=(12,6))\n",
    "plt.ylim(-0.5,2.5)\n",
    "sns.boxplot(data=df.query('platform in @max_sales_actual.index'),\n",
    "            x='platform',\n",
    "            y='all_sales')\n",
    "plt.xlabel('Платформа')\n",
    "plt.ylabel('Продажа, млн. копий')\n",
    "plt.title('Распределение продаж')\n",
    "plt.grid(True)\n",
    "plt.show()"
   ]
  },
  {
   "cell_type": "markdown",
   "metadata": {},
   "source": [
    "В общем распределения похожи: нижняя граница первого квартиля лежит на 0, все датасеты скошены вправо, везде длинный хвост редких значений. В распределении продаж потенциально прибыльных платформ половина значений лежит в пределах 200-250 тыс. проданных копий, большая часть значений в пределах 750 тыс. проданных копий, диапазон нормальных значений до 1,75 млн. проданных копий PS4 и до 1,6 млн. проданных копий Xbox One. Распределение продаж Xbox360 немного смещено вправо относительно потенциально прибыльных платформ. Распределение продаж PS3 смещено влево относительно потенциально прибыльных платформ, ещё больше влево смещено распределение продаж 3DS. Можно сказать, что PS4 и Xbox One имеют схожее по структуре распределение продаж."
   ]
  },
  {
   "cell_type": "markdown",
   "metadata": {},
   "source": [
    "Построим корреляционную матрицу и посмотрим, как влияют на продажи внутри платформ отзывы пользователей и критиков:"
   ]
  },
  {
   "cell_type": "code",
   "execution_count": 31,
   "metadata": {},
   "outputs": [
    {
     "data": {
      "image/png": "[encoded data removed]",
      "text/plain": [
       "<Figure size 864x432 with 2 Axes>"
      ]
     },
     "metadata": {
      "needs_background": "light"
     },
     "output_type": "display_data"
    }
   ],
   "source": [
    "corr_matrix=(df\n",
    "             .query('platform in @max_sales_actual.index')\n",
    "             .groupby('platform')[['critic_score','user_score','all_sales']]\n",
    "             .corr()\n",
    ")\n",
    "plt.figure(figsize=(12,6))\n",
    "sns.heatmap(corr_matrix, annot=True, linewidths=0.5)\n",
    "plt.yticks(rotation=360)\n",
    "plt.xticks(rotation=90)\n",
    "plt.ylabel('Платформы')\n",
    "plt.title('Корреляционная матрица зависимости продаж от отзывов')\n",
    "plt.show()"
   ]
  },
  {
   "cell_type": "markdown",
   "metadata": {},
   "source": [
    "Отзывы критиков слабо влияют на продажи, отзывы пользователей на продажи почти не влияют."
   ]
  },
  {
   "cell_type": "markdown",
   "metadata": {},
   "source": [
    "Посмотрим на общее распределение игр по жанрам:"
   ]
  },
  {
   "cell_type": "code",
   "execution_count": 32,
   "metadata": {},
   "outputs": [
    {
     "data": {
      "image/png": "[encoded data removed]",
      "text/plain": [
       "<Figure size 864x432 with 1 Axes>"
      ]
     },
     "metadata": {
      "needs_background": "light"
     },
     "output_type": "display_data"
    }
   ],
   "source": [
    "(\n",
    "    df\n",
    "    .pivot_table(index='genre',\n",
    "                 values='name',\n",
    "                 aggfunc='count')\n",
    "    .sort_values(by='name',\n",
    "                 ascending=False)\n",
    "    .plot(kind='bar',\n",
    "          rot=90,\n",
    "          title='Распределение игр по жанрам',\n",
    "          grid=True,\n",
    "          figsize=(12,6),\n",
    "          legend=False)\n",
    "    .set(xlabel='Жанр',\n",
    "         ylabel='Количество игр')\n",
    ")\n",
    "plt.show()"
   ]
  },
  {
   "cell_type": "markdown",
   "metadata": {},
   "source": [
    "Особенно выделяются игры жанра \"Экшен\", их больше всего."
   ]
  },
  {
   "cell_type": "markdown",
   "metadata": {},
   "source": [
    "Посмотрим на распределение продаж по жанрам:"
   ]
  },
  {
   "cell_type": "code",
   "execution_count": 33,
   "metadata": {},
   "outputs": [
    {
     "data": {
      "image/png": "[encoded data removed]",
      "text/plain": [
       "<Figure size 864x432 with 1 Axes>"
      ]
     },
     "metadata": {
      "needs_background": "light"
     },
     "output_type": "display_data"
    }
   ],
   "source": [
    "(\n",
    "    df\n",
    "    .pivot_table(index='genre',\n",
    "                 values='all_sales',\n",
    "                 aggfunc='sum')\n",
    "    .sort_values(by='all_sales',\n",
    "                 ascending=False)\n",
    "    .plot(kind='bar',\n",
    "          rot=90,\n",
    "          title='Распределение продаж по жанрам',\n",
    "          grid=True,\n",
    "          figsize=(12,6),\n",
    "          legend=False)\n",
    "    .set(xlabel='Жанр',\n",
    "         ylabel='Продажа, млн. копий')\n",
    ")\n",
    "plt.show()"
   ]
  },
  {
   "cell_type": "markdown",
   "metadata": {},
   "source": [
    "Наиболее прибыльными можно считать игры жанра Action и Shooter, почти в два раза менее прибыльные Sports и Role-Playing. Наименее прибыльные Strategy и Puzzle. Такую тенденцию так же можно связать с переходом наименее популярных жанров в формат мобильных приложений. "
   ]
  },
  {
   "cell_type": "markdown",
   "metadata": {},
   "source": [
    "### Вывод"
   ]
  },
  {
   "cell_type": "markdown",
   "metadata": {},
   "source": [
    "В ходе анализа установлено:\n",
    "* период, за который появляются и исчезают платформы, составляет около 10 лет;\n",
    "* период, в котором платформы приносят наибольшую прибыль, составляет первые 5-6 лет;\n",
    "* с учетом установленных периодов и распределения выпуска игр по годам, актуальным периодом для проведения исследования является период с 2013 по 2016 гг.\n",
    "\n",
    "Дальнейший анализ выполнен по данным актуального периода, в ходе анализа установлено:\n",
    "* потенциально прибыльными являются платформы PS4 и Xbox One;\n",
    "* платформы Xbox One и PS4 имеют схожее по структуре распределение продаж;\n",
    "* отзывы критиков слабо влияют на продажи, отзывы пользователей на продажи почти не влияют;\n",
    "* наиболее прибыльными являются игры жанров Action и Shooter.\n",
    "\n",
    "Анализ данных выполнен с помощью графиков plot() и коэффициента корреляции Пирсона."
   ]
  },
  {
   "cell_type": "markdown",
   "metadata": {},
   "source": [
    "## Портрет пользователя"
   ]
  },
  {
   "cell_type": "markdown",
   "metadata": {},
   "source": [
    "### Топ-5 популярных платформ"
   ]
  },
  {
   "cell_type": "markdown",
   "metadata": {},
   "source": [
    "Посмотрим популярные платформы в Северной Америке:"
   ]
  },
  {
   "cell_type": "code",
   "execution_count": 34,
   "metadata": {},
   "outputs": [
    {
     "data": {
      "image/png": "[encoded data removed]",
      "text/plain": [
       "<Figure size 864x432 with 1 Axes>"
      ]
     },
     "metadata": {
      "needs_background": "light"
     },
     "output_type": "display_data"
    }
   ],
   "source": [
    "(\n",
    "    df\n",
    "    .pivot_table(index='platform',\n",
    "                 values='na_sales',\n",
    "                 aggfunc='sum')\n",
    "    .sort_values(by='na_sales',\n",
    "                 ascending=False)\n",
    "    .head()\n",
    "    .plot(kind='bar',\n",
    "          rot=90,\n",
    "          title='Распределение продаж по платформам',\n",
    "          grid=True,\n",
    "          figsize=(12,6),\n",
    "          legend=False)\n",
    "    .set(xlabel='Платформа',\n",
    "         ylabel='Продажа, млн. копий')\n",
    ")\n",
    "plt.show()"
   ]
  },
  {
   "cell_type": "markdown",
   "metadata": {},
   "source": [
    "Посмотрим популярные платформы в Европе:"
   ]
  },
  {
   "cell_type": "code",
   "execution_count": 35,
   "metadata": {},
   "outputs": [
    {
     "data": {
      "image/png": "[encoded data removed]",
      "text/plain": [
       "<Figure size 864x432 with 1 Axes>"
      ]
     },
     "metadata": {
      "needs_background": "light"
     },
     "output_type": "display_data"
    }
   ],
   "source": [
    "(\n",
    "    df\n",
    "    .pivot_table(index='platform',\n",
    "                 values='eu_sales',\n",
    "                 aggfunc='sum')\n",
    "    .sort_values(by='eu_sales',\n",
    "                 ascending=False)\n",
    "    .head()\n",
    "    .plot(kind='bar',\n",
    "          rot=90,\n",
    "          title='Распределение продаж по платформам',\n",
    "          grid=True,\n",
    "          figsize=(12,6),\n",
    "          legend=False)\n",
    "    .set(xlabel='Платформа',\n",
    "         ylabel='Продажа, млн. копий')\n",
    ")\n",
    "plt.show()"
   ]
  },
  {
   "cell_type": "markdown",
   "metadata": {},
   "source": [
    "Посмотрим популярные платформы в Японии:"
   ]
  },
  {
   "cell_type": "code",
   "execution_count": 36,
   "metadata": {},
   "outputs": [
    {
     "data": {
      "image/png": "[encoded data removed]",
      "text/plain": [
       "<Figure size 864x432 with 1 Axes>"
      ]
     },
     "metadata": {
      "needs_background": "light"
     },
     "output_type": "display_data"
    }
   ],
   "source": [
    "(\n",
    "    df\n",
    "    .pivot_table(index='platform',\n",
    "                 values='jp_sales',\n",
    "                 aggfunc='sum')\n",
    "    .sort_values(by='jp_sales',\n",
    "                 ascending=False)\n",
    "    .head()\n",
    "    .plot(kind='bar',\n",
    "          rot=90,\n",
    "          title='Распределение продаж по платформам',\n",
    "          grid=True,\n",
    "          figsize=(12,6),\n",
    "          legend=False)\n",
    "    .set(xlabel='Платформа',\n",
    "         ylabel='Продажа, млн. копий')\n",
    ")\n",
    "plt.show()"
   ]
  },
  {
   "cell_type": "markdown",
   "metadata": {},
   "source": [
    "#### Вывод"
   ]
  },
  {
   "cell_type": "markdown",
   "metadata": {},
   "source": [
    "Популярные платформы в Америке и в Европе не отличаются от популярных платформ в общей выборке. Немного смещено распределение продаж по платформам, но наибольшая доля продаж так же принадлежит PS4. Совсем другое распределение в Японии - максимальная доля продаж принадлежит 3DC, кроме PS3 и PS4, так же популярны PSV и WiiU, доля которых в суммарных продажах относительно небольшая. Xbox One и Xbox 360, которые занимают значительную долю продаж в общей выборке, не популярны в Японии и не попали в топ-5."
   ]
  },
  {
   "cell_type": "markdown",
   "metadata": {},
   "source": [
    "### Топ-5 популярных жанров"
   ]
  },
  {
   "cell_type": "markdown",
   "metadata": {},
   "source": [
    "Посмотрим популярные жанры в Америке:"
   ]
  },
  {
   "cell_type": "code",
   "execution_count": 37,
   "metadata": {},
   "outputs": [
    {
     "data": {
      "image/png": "[encoded data removed]",
      "text/plain": [
       "<Figure size 864x432 with 1 Axes>"
      ]
     },
     "metadata": {
      "needs_background": "light"
     },
     "output_type": "display_data"
    }
   ],
   "source": [
    "(\n",
    "    df\n",
    "    .pivot_table(index='genre',\n",
    "                 values='na_sales',\n",
    "                 aggfunc='sum')\n",
    "    .sort_values(by='na_sales',\n",
    "                 ascending=False)\n",
    "    .head()\n",
    "    .plot(kind='bar',\n",
    "          rot=90,\n",
    "          title='Распределение продаж по жанрам',\n",
    "          grid=True,\n",
    "          figsize=(12,6),\n",
    "          legend=False)\n",
    "    .set(xlabel='Жанр',\n",
    "         ylabel='Продажа, млн. копий')\n",
    ")\n",
    "plt.show()"
   ]
  },
  {
   "cell_type": "markdown",
   "metadata": {},
   "source": [
    "Посмотрим популярные жанры в Европе:"
   ]
  },
  {
   "cell_type": "code",
   "execution_count": 38,
   "metadata": {},
   "outputs": [
    {
     "data": {
      "image/png": "[encoded data removed]",
      "text/plain": [
       "<Figure size 864x432 with 1 Axes>"
      ]
     },
     "metadata": {
      "needs_background": "light"
     },
     "output_type": "display_data"
    }
   ],
   "source": [
    "(\n",
    "    df\n",
    "    .pivot_table(index='genre',\n",
    "                 values='eu_sales',\n",
    "                 aggfunc='sum')\n",
    "    .sort_values(by='eu_sales',\n",
    "                 ascending=False)\n",
    "    .head()\n",
    "    .plot(kind='bar',\n",
    "          rot=90,\n",
    "          title='Распределение продаж по жанрам',\n",
    "          grid=True,\n",
    "          figsize=(12,6),\n",
    "          legend=False)\n",
    "    .set(xlabel='Жанр',\n",
    "         ylabel='Продажа, млн. копий')\n",
    ")\n",
    "plt.show()"
   ]
  },
  {
   "cell_type": "markdown",
   "metadata": {},
   "source": [
    "Посмотрим популярные жанры в Японии:"
   ]
  },
  {
   "cell_type": "code",
   "execution_count": 39,
   "metadata": {},
   "outputs": [
    {
     "data": {
      "image/png": "[encoded data removed]",
      "text/plain": [
       "<Figure size 864x432 with 1 Axes>"
      ]
     },
     "metadata": {
      "needs_background": "light"
     },
     "output_type": "display_data"
    }
   ],
   "source": [
    "(\n",
    "    df\n",
    "    .pivot_table(index='genre',\n",
    "                 values='jp_sales',\n",
    "                 aggfunc='sum')\n",
    "    .sort_values(by='jp_sales',\n",
    "                 ascending=False)\n",
    "    .head()\n",
    "    .plot(kind='bar',\n",
    "          rot=90,\n",
    "          title='Распределение продаж по жанрам',\n",
    "          grid=True,\n",
    "          figsize=(12,6),\n",
    "          legend=False)\n",
    "    .set(xlabel='Жанр',\n",
    "         ylabel='Продажа, млн. копий')\n",
    ")\n",
    "plt.show()"
   ]
  },
  {
   "cell_type": "markdown",
   "metadata": {},
   "source": [
    "#### Вывод"
   ]
  },
  {
   "cell_type": "markdown",
   "metadata": {},
   "source": [
    "Популярные жанры в Америке и в Европе не отличаются от популярных жанров в общей выборке, имеют схожее распределение, за исключением того, что в топ-5 Европы вместо Misk вошел Racing. Совсем другое распределение в Японии - максимальная доля продаж принадлежит Role-Playing, чуть менее популярен Action, и на равных меньших долях располагаются Misk, Fighting и Shooter. Это можно объяснить тем, что Япония является страной происхождения поджанра JRPG, который учитывает национальные особенности, за счет чего очень популярен внутри страны и, скорее всего, входит в общий Role-Playing."
   ]
  },
  {
   "cell_type": "markdown",
   "metadata": {},
   "source": [
    "### Зависимость продаж от рейтинга ESRB"
   ]
  },
  {
   "cell_type": "markdown",
   "metadata": {},
   "source": [
    "Посмотрим, влияет ли рейтинг ESRB на продажи в Америке:"
   ]
  },
  {
   "cell_type": "code",
   "execution_count": 40,
   "metadata": {},
   "outputs": [
    {
     "data": {
      "image/png": "[encoded data removed]",
      "text/plain": [
       "<Figure size 864x432 with 1 Axes>"
      ]
     },
     "metadata": {
      "needs_background": "light"
     },
     "output_type": "display_data"
    }
   ],
   "source": [
    "(\n",
    "    df\n",
    "    .pivot_table(index='rating',\n",
    "                 values='na_sales',\n",
    "                 aggfunc='sum')\n",
    "    .sort_values(by='na_sales',\n",
    "                 ascending=False)\n",
    "    .plot(kind='bar',\n",
    "          rot=90,\n",
    "          title='Распределение продаж по рейтингу ESRB',\n",
    "          grid=True,\n",
    "          figsize=(12,6),\n",
    "          legend=False)\n",
    "    .set(xlabel='Рейтинг ESRB',\n",
    "         ylabel='Продажа, млн. копий')\n",
    ")\n",
    "plt.show()"
   ]
  },
  {
   "cell_type": "markdown",
   "metadata": {},
   "source": [
    "Посмотрим, влияет ли рейтинг ESRB на продажи в Европе:"
   ]
  },
  {
   "cell_type": "code",
   "execution_count": 41,
   "metadata": {},
   "outputs": [
    {
     "data": {
      "image/png": "[encoded data removed]",
      "text/plain": [
       "<Figure size 864x432 with 1 Axes>"
      ]
     },
     "metadata": {
      "needs_background": "light"
     },
     "output_type": "display_data"
    }
   ],
   "source": [
    "(\n",
    "    df\n",
    "    .pivot_table(index='rating',\n",
    "                 values='eu_sales',\n",
    "                 aggfunc='sum')\n",
    "    .sort_values(by='eu_sales',\n",
    "                 ascending=False)\n",
    "    .plot(kind='bar',\n",
    "          rot=90,\n",
    "          title='Распределение продаж по рейтингу ESRB',\n",
    "          grid=True,\n",
    "          figsize=(12,6),\n",
    "          legend=False)\n",
    "    .set(xlabel='Рейтинг ESRB',\n",
    "         ylabel='Продажа, млн. копий')\n",
    ")\n",
    "plt.show()"
   ]
  },
  {
   "cell_type": "markdown",
   "metadata": {},
   "source": [
    "Посмотрим, влияет ли рейтинг ESRB на продажи в Японии:"
   ]
  },
  {
   "cell_type": "code",
   "execution_count": 42,
   "metadata": {},
   "outputs": [
    {
     "data": {
      "image/png": "[encoded data removed]",
      "text/plain": [
       "<Figure size 864x432 with 1 Axes>"
      ]
     },
     "metadata": {
      "needs_background": "light"
     },
     "output_type": "display_data"
    }
   ],
   "source": [
    "(\n",
    "    df\n",
    "    .pivot_table(index='rating',\n",
    "                 values='jp_sales',\n",
    "                 aggfunc='sum')\n",
    "    .sort_values(by='jp_sales',\n",
    "                 ascending=False)\n",
    "    .plot(kind='bar',\n",
    "          rot=90,\n",
    "          title='Распределение продаж по рейтингу ESRB',\n",
    "          grid=True,\n",
    "          figsize=(12,6),\n",
    "          legend=False)\n",
    "    .set(xlabel='Рейтинг ESRB',\n",
    "         ylabel='Продажа, млн. копий')\n",
    ")\n",
    "plt.show()"
   ]
  },
  {
   "cell_type": "markdown",
   "metadata": {},
   "source": [
    "#### Вывод"
   ]
  },
  {
   "cell_type": "markdown",
   "metadata": {},
   "source": [
    "Распределение продаж по рейтингу в Америке и в Европе схожее, наибольшую долю продаж занимают игры \"Для взрослых\", в два раза меньше продаж занимают игры \"Для всех\", в два раза меньше почти в равных долях распределены игры \"Для всех от 10 лет и старше\" и \"Подросткам\". В Японии максимальную долю продаж занимают игры \"Подросткам\", чуть меньше в равных долях расположены игры \"Для всех\" и \"Для взрослых\", наименьшую долю продаж имеют игры с рейтингом \"Для всех от 10 лет и старше\". Это распределение можно сравнить с распределением популярных жанров, примерно такие рейтинги и в таких долях и должны иметь соответствующие жанры."
   ]
  },
  {
   "cell_type": "markdown",
   "metadata": {},
   "source": [
    "### Вывод"
   ]
  },
  {
   "cell_type": "markdown",
   "metadata": {},
   "source": [
    "Портреты пользователей из Северной Америки и Европы почти не отличаются от портрета пользователя из общего распределения. Портрет пользователя из Японии имеет некоторые существенные отличия:\n",
    "* наиболее популярная платформа 3DC;\n",
    "* так же популярны платформы PSV и WiiU, доля которых в суммарных продажах относительно небольшая;\n",
    "* совсем не популярны Xbox One и Xbox 360, которые занимают значительную долю в суммарных продажах;\n",
    "* наиболее популярный жанр Role-Playing."
   ]
  },
  {
   "cell_type": "markdown",
   "metadata": {},
   "source": [
    "## Проверка гипотез"
   ]
  },
  {
   "cell_type": "markdown",
   "metadata": {},
   "source": [
    "### Гипотеза: средние пользовательские рейтинги платформ Xbox One и PC одинаковые"
   ]
  },
  {
   "cell_type": "markdown",
   "metadata": {},
   "source": [
    "Получим срез данных по платформе Xbox One:"
   ]
  },
  {
   "cell_type": "code",
   "execution_count": 43,
   "metadata": {},
   "outputs": [],
   "source": [
    "df_xone = df.query('platform == \"xone\"')"
   ]
  },
  {
   "cell_type": "markdown",
   "metadata": {},
   "source": [
    "Получим срез данных по PC:"
   ]
  },
  {
   "cell_type": "code",
   "execution_count": 44,
   "metadata": {},
   "outputs": [],
   "source": [
    "df_pc = df.query('platform == \"pc\"')"
   ]
  },
  {
   "cell_type": "markdown",
   "metadata": {},
   "source": [
    "Сформулируем нулевую гипотезу так: \"средние пользовательские рейтинги платформ Xbox One и PC равны\", тогда альтернативную гипотезу сформулируем так: \"средние пользовательские рейтинги платформ Xbox One и PC различаются\". Зададим уровень значимости 5% и рассчитаем p-value:"
   ]
  },
  {
   "cell_type": "code",
   "execution_count": 45,
   "metadata": {},
   "outputs": [
    {
     "data": {
      "text/plain": [
       "0.1401265840361139"
      ]
     },
     "execution_count": 45,
     "metadata": {},
     "output_type": "execute_result"
    }
   ],
   "source": [
    "alpha = 0.05\n",
    "results = st.ttest_ind(df_xone['user_score'], df_pc['user_score'], nan_policy='omit')\n",
    "results.pvalue"
   ]
  },
  {
   "cell_type": "markdown",
   "metadata": {},
   "source": [
    "Проверим, является ли результат статистически значимым:"
   ]
  },
  {
   "cell_type": "code",
   "execution_count": 46,
   "metadata": {},
   "outputs": [
    {
     "name": "stdout",
     "output_type": "stream",
     "text": [
      "Не получилось отвергнуть нулевую гипотезу\n"
     ]
    }
   ],
   "source": [
    "if results.pvalue < alpha:\n",
    "    print('Отвергаем нулевую гипотезу')\n",
    "else:\n",
    "    print('Не получилось отвергнуть нулевую гипотезу')"
   ]
  },
  {
   "cell_type": "markdown",
   "metadata": {},
   "source": [
    "Рассчитаем средний пользовательский рейтинг платформы Xbox One:"
   ]
  },
  {
   "cell_type": "code",
   "execution_count": 47,
   "metadata": {},
   "outputs": [
    {
     "data": {
      "text/plain": [
       "6.521428571428572"
      ]
     },
     "execution_count": 47,
     "metadata": {},
     "output_type": "execute_result"
    }
   ],
   "source": [
    "df_xone['user_score'].mean()"
   ]
  },
  {
   "cell_type": "markdown",
   "metadata": {},
   "source": [
    "Рассчитаем средний пользовательский рейтинг PC:"
   ]
  },
  {
   "cell_type": "code",
   "execution_count": 48,
   "metadata": {},
   "outputs": [
    {
     "data": {
      "text/plain": [
       "6.269677419354839"
      ]
     },
     "execution_count": 48,
     "metadata": {},
     "output_type": "execute_result"
    }
   ],
   "source": [
    "df_pc['user_score'].mean()"
   ]
  },
  {
   "cell_type": "markdown",
   "metadata": {},
   "source": [
    "Посмотрим распределение пользовательских рейтингов по платформам Xbox One и PC:"
   ]
  },
  {
   "cell_type": "code",
   "execution_count": 49,
   "metadata": {},
   "outputs": [
    {
     "data": {
      "image/png": "[encoded data removed]",
      "text/plain": [
       "<Figure size 864x432 with 1 Axes>"
      ]
     },
     "metadata": {
      "needs_background": "light"
     },
     "output_type": "display_data"
    }
   ],
   "source": [
    "plt.figure(figsize=(12,6))\n",
    "plt.hist(df_xone['user_score'], alpha=1, label='Xbox One')\n",
    "plt.hist(df_pc['user_score'], alpha=0.5, label='PC')\n",
    "plt.axvline(x=df_xone['user_score'].mean(), color='blue', label='Средний рейтинг Xbox One')\n",
    "plt.axvline(x=df_pc['user_score'].mean(), color='red', label='Средний рейтинг PC')\n",
    "plt.xlabel('Рейтинг')\n",
    "plt.ylabel('Частота значений')\n",
    "plt.title('Распределение рейтинга по платформам')\n",
    "plt.legend(loc='upper left')\n",
    "plt.grid(True)\n",
    "plt.show()"
   ]
  },
  {
   "cell_type": "markdown",
   "metadata": {},
   "source": [
    "#### Вывод"
   ]
  },
  {
   "cell_type": "markdown",
   "metadata": {},
   "source": [
    "Для выбранного уровня значимости не получилось отвергнуть нулевую гипотезу. Полученное значение p-value говорит о том, что хотя средний пользовательский рейтинг платформ Xbox One и PC различается, такое или большее различие можно получить случайно с вероятностью 14%, и это слишком большая вероятность, чтобы делать вывод о значимом различии между средними пользовательскими рейтингами. Вывод - средний пользовательский рейтинг платформы Xbox One не отличается от среднего пользовательского рейтинга платформы PC."
   ]
  },
  {
   "cell_type": "markdown",
   "metadata": {},
   "source": [
    "### Гипотеза: средние пользовательские рейтинги жанров Action и Sports разные"
   ]
  },
  {
   "cell_type": "markdown",
   "metadata": {},
   "source": [
    "Получим срез данных по жанру Action:"
   ]
  },
  {
   "cell_type": "code",
   "execution_count": 50,
   "metadata": {},
   "outputs": [],
   "source": [
    "df_action = df.query('genre == \"action\"')"
   ]
  },
  {
   "cell_type": "markdown",
   "metadata": {},
   "source": [
    "Получим срез данных по жанру Sports:"
   ]
  },
  {
   "cell_type": "code",
   "execution_count": 51,
   "metadata": {},
   "outputs": [],
   "source": [
    "df_sports = df.query('genre == \"sports\"')"
   ]
  },
  {
   "cell_type": "markdown",
   "metadata": {},
   "source": [
    "Сформулируем нулевую гипотезу так: \"средние пользовательские рейтинги жанров Action и Sports равны\", тогда альтернативную гипотезу сформулируем так: \"средние пользовательские рейтинги жанров Action и Sports различаются\". Зададим уровень значимости 5% и рассчитаем p-value:"
   ]
  },
  {
   "cell_type": "code",
   "execution_count": 52,
   "metadata": {},
   "outputs": [
    {
     "data": {
      "text/plain": [
       "1.0517832389142297e-27"
      ]
     },
     "execution_count": 52,
     "metadata": {},
     "output_type": "execute_result"
    }
   ],
   "source": [
    "alpha = 0.05\n",
    "results = st.ttest_ind(df_action['user_score'], df_sports['user_score'], nan_policy='omit')\n",
    "results.pvalue"
   ]
  },
  {
   "cell_type": "markdown",
   "metadata": {},
   "source": [
    "Проверим, является ли результат статистически значимым:"
   ]
  },
  {
   "cell_type": "code",
   "execution_count": 53,
   "metadata": {},
   "outputs": [
    {
     "name": "stdout",
     "output_type": "stream",
     "text": [
      "Отвергаем нулевую гипотезу\n"
     ]
    }
   ],
   "source": [
    "if results.pvalue < alpha:\n",
    "    print('Отвергаем нулевую гипотезу')\n",
    "else:\n",
    "    print('Не получилось отвергнуть нулевую гипотезу')"
   ]
  },
  {
   "cell_type": "markdown",
   "metadata": {},
   "source": [
    "Рассчитаем средний пользовательский рейтинг жанра Action:"
   ]
  },
  {
   "cell_type": "code",
   "execution_count": 54,
   "metadata": {},
   "outputs": [
    {
     "data": {
      "text/plain": [
       "6.837532133676093"
      ]
     },
     "execution_count": 54,
     "metadata": {},
     "output_type": "execute_result"
    }
   ],
   "source": [
    "df_action['user_score'].mean()"
   ]
  },
  {
   "cell_type": "markdown",
   "metadata": {},
   "source": [
    "Рассчитаем средний пользовательский рейтинг жанра Sports:"
   ]
  },
  {
   "cell_type": "code",
   "execution_count": 55,
   "metadata": {},
   "outputs": [
    {
     "data": {
      "text/plain": [
       "5.238124999999999"
      ]
     },
     "execution_count": 55,
     "metadata": {},
     "output_type": "execute_result"
    }
   ],
   "source": [
    "df_sports['user_score'].mean()"
   ]
  },
  {
   "cell_type": "markdown",
   "metadata": {},
   "source": [
    "Посмотрим распределение пользовательских рейтингов по жанрам Action и Sports:"
   ]
  },
  {
   "cell_type": "code",
   "execution_count": 56,
   "metadata": {},
   "outputs": [
    {
     "data": {
      "image/png": "[encoded data removed]",
      "text/plain": [
       "<Figure size 864x432 with 1 Axes>"
      ]
     },
     "metadata": {
      "needs_background": "light"
     },
     "output_type": "display_data"
    }
   ],
   "source": [
    "plt.figure(figsize=(12,6))\n",
    "plt.hist(df_action['user_score'], alpha=1, label='Action')\n",
    "plt.hist(df_sports['user_score'], alpha=0.5, label='Sports')\n",
    "plt.axvline(x=df_action['user_score'].mean(), color='blue', label='Средний рейтинг Action')\n",
    "plt.axvline(x=df_sports['user_score'].mean(), color='red', label='Средний рейтинг Sports')\n",
    "plt.xlabel('Рейтинг')\n",
    "plt.ylabel('Частота значений')\n",
    "plt.title('Распределение рейтинга по жанрам')\n",
    "plt.legend(loc='upper left')\n",
    "plt.grid(True)\n",
    "plt.show()"
   ]
  },
  {
   "cell_type": "markdown",
   "metadata": {},
   "source": [
    "#### Вывод"
   ]
  },
  {
   "cell_type": "markdown",
   "metadata": {},
   "source": [
    "Для выбранного уровня значимости отвергаем нулевую гипотезу. Вывод - средний пользовательский рейтинг жанров Action и Sports различается. Исходя из проверки гипотезы, можно сказать только то, что рейтинг различается, так как гипотеза двусторонняя. Однако посчитав средний рейтинг пользователей по жанрам, можно сказать, что средний пользовательский рейтинг жанра Action больше, чем средний пользовательский рейтинг жанра Sports."
   ]
  },
  {
   "cell_type": "markdown",
   "metadata": {},
   "source": [
    "### Вывод"
   ]
  },
  {
   "cell_type": "markdown",
   "metadata": {},
   "source": [
    "Для проведения статистического теста использовали срезы данных и метод ttest_ind() для двух независимых выборок. Так как выборки получены из одной совокупности, параметр equal_var укажем как True и оценим дисперсию каждой выборки по объединенному датасету. Нулевую гипотезу сформулируем так, чтобы использовать знак равенства. Альтернативную гипотезу сформулируем как двустороннюю, т.е. так, что отклонение наблюдаемых значений возможно в обе стороны. Критический уровень статистической значимости принимаем равным стандартным 5%. Результат проверки гипотез:\n",
    "\n",
    "* средний пользовательский рейтинг платформы Xbox One не отличается от среднего пользовательского рейтинга платформы PC;\n",
    "\n",
    "* средний пользовательский рейтинг жанра Action больше, чем средний пользовательский рейтинг жанра Sports."
   ]
  },
  {
   "cell_type": "markdown",
   "metadata": {},
   "source": [
    "## Общий вывод"
   ]
  },
  {
   "cell_type": "markdown",
   "metadata": {},
   "source": [
    "Выполнен анализ данных о компьютерных играх, доступных из открытых источников. В данных по отзывам критиков и пользователей, а так же в данных по рейтингу ESRB около 40-50% пропусков оставлены без обработки, так как заполнение пропущенных значений без ссылки на конкретный источник исказит результаты исследования. С учетом выявленных закономерностей:\n",
    "* рост выпуска игр с 2014г.;\n",
    "* срок, в течение которого появляются и исчезают платформы около 10 лет;\n",
    "* срок, в течение которого платформы приносят наибольшую прибыль первые 5-6 лет,\n",
    "\n",
    "установлен актуальный период для проведения исследования с 2013 по 2016 гг.\n",
    "\n",
    "Анализ данных выполнен с учетом актуального периода.\n",
    "\n",
    "Анализ данных выполнен с помощью графиков plot() и коэффициента корреляции Пирсона.\n",
    "\n",
    "В ходе анализа установлено:\n",
    "* потенциально прибыльными являются платформы PS4 и Xbox One;\n",
    "* платформы PS4 и Xbox One имеют схожее по структуре распределение продаж;\n",
    "* отзывы критиков слабо влияют на продажи, отзывы пользователей на продажи почти не влияют;\n",
    "* наиболее прибыльными являются игры жанров Action и Shooter.\n",
    "\n",
    "Составлен портрет пользователя по основным регионам продаж. Портрет пользователя соответствует закономерностям общей выборки, за исключением пользователей из Японии, их портрет имеет следующие особенности:\n",
    "* наиболее популярная платформа 3DC;\n",
    "* так же популярны платформы PSV и WiiU, доля которых в суммарных продажах относительно небольшая;\n",
    "* совсем не популярны Xbox One и Xbox 360, которые занимают значительную долю в суммарных продажах;\n",
    "* наиболее популярный жанр Role-Playing.\n",
    "\n",
    "Проверены гипотезы, в результате проверки установлено:\n",
    "* средний пользовательский рейтинг платформы Xbox One не отличается от среднего пользовательского рейтинга платформы PC;\n",
    "* средний пользовательский рейтинг жанра Action больше, чем средний пользовательский рейтинг жанра Sports.\n",
    "\n",
    "При планировании рекламных компаний следует учитывать:\n",
    "* потенциально прибыльными являются платформы PS4 и Xbox One;\n",
    "* потенциально популярными являются игры жанров Action и Shooter;\n",
    "* при планировании рекламных компаний в Японии следует учитывать особенности портрета пользователя."
   ]
  }
 ],
 "metadata": {
  "ExecuteTimeLog": [
   {
    "duration": 10398,
    "start_time": "2021-08-28T11:20:34.068Z"
   },
   {
    "duration": 491,
    "start_time": "2021-08-28T11:20:44.476Z"
   },
   {
    "duration": 298,
    "start_time": "2021-08-28T11:20:44.971Z"
   },
   {
    "duration": 202,
    "start_time": "2021-08-28T11:20:45.274Z"
   },
   {
    "duration": 190,
    "start_time": "2021-08-28T11:20:45.479Z"
   },
   {
    "duration": 7,
    "start_time": "2021-08-28T11:20:45.672Z"
   },
   {
    "duration": 288,
    "start_time": "2021-08-28T11:20:45.683Z"
   },
   {
    "duration": 97,
    "start_time": "2021-08-28T11:20:45.975Z"
   },
   {
    "duration": 195,
    "start_time": "2021-08-28T11:20:46.077Z"
   },
   {
    "duration": 197,
    "start_time": "2021-08-28T11:20:46.370Z"
   },
   {
    "duration": 101,
    "start_time": "2021-08-28T11:20:46.574Z"
   },
   {
    "duration": 492,
    "start_time": "2021-08-28T11:20:46.679Z"
   },
   {
    "duration": 102,
    "start_time": "2021-08-28T11:20:47.173Z"
   },
   {
    "duration": 13,
    "start_time": "2021-08-28T11:20:47.368Z"
   },
   {
    "duration": 198,
    "start_time": "2021-08-28T11:20:47.469Z"
   },
   {
    "duration": 98,
    "start_time": "2021-08-28T11:20:47.669Z"
   },
   {
    "duration": 102,
    "start_time": "2021-08-28T11:20:47.770Z"
   },
   {
    "duration": 293,
    "start_time": "2021-08-28T11:20:47.875Z"
   },
   {
    "duration": 98,
    "start_time": "2021-08-28T11:20:48.179Z"
   },
   {
    "duration": 295,
    "start_time": "2021-08-28T11:20:48.371Z"
   },
   {
    "duration": 104,
    "start_time": "2021-08-28T11:20:48.669Z"
   },
   {
    "duration": 5806,
    "start_time": "2021-08-28T11:20:48.869Z"
   },
   {
    "duration": 5204,
    "start_time": "2021-08-28T11:20:54.769Z"
   },
   {
    "duration": 200,
    "start_time": "2021-08-28T11:20:59.976Z"
   },
   {
    "duration": 9295,
    "start_time": "2021-08-28T11:21:00.180Z"
   },
   {
    "duration": 103,
    "start_time": "2021-08-28T11:21:09.572Z"
   },
   {
    "duration": 3202,
    "start_time": "2021-08-28T11:21:09.678Z"
   },
   {
    "duration": 108,
    "start_time": "2021-08-28T11:21:12.969Z"
   },
   {
    "duration": 4895,
    "start_time": "2021-08-28T11:21:13.175Z"
   },
   {
    "duration": 3886,
    "start_time": "2021-08-28T11:21:18.086Z"
   },
   {
    "duration": 6599,
    "start_time": "2021-08-28T11:21:21.976Z"
   },
   {
    "duration": 3909,
    "start_time": "2021-08-28T11:21:28.668Z"
   },
   {
    "duration": 3797,
    "start_time": "2021-08-28T11:21:32.678Z"
   },
   {
    "duration": 3003,
    "start_time": "2021-08-28T11:21:36.478Z"
   },
   {
    "duration": 3204,
    "start_time": "2021-08-28T11:21:39.572Z"
   },
   {
    "duration": 3991,
    "start_time": "2021-08-28T11:21:42.778Z"
   },
   {
    "duration": 2998,
    "start_time": "2021-08-28T11:21:46.772Z"
   },
   {
    "duration": 3201,
    "start_time": "2021-08-28T11:21:49.773Z"
   },
   {
    "duration": 2992,
    "start_time": "2021-08-28T11:21:52.979Z"
   },
   {
    "duration": 2904,
    "start_time": "2021-08-28T11:21:55.974Z"
   },
   {
    "duration": 3105,
    "start_time": "2021-08-28T11:21:58.973Z"
   },
   {
    "duration": 3088,
    "start_time": "2021-08-28T11:22:02.178Z"
   },
   {
    "duration": 8,
    "start_time": "2021-08-28T11:22:05.269Z"
   },
   {
    "duration": 14,
    "start_time": "2021-08-28T11:22:05.367Z"
   },
   {
    "duration": 102,
    "start_time": "2021-08-28T11:22:05.469Z"
   },
   {
    "duration": 94,
    "start_time": "2021-08-28T11:22:05.574Z"
   },
   {
    "duration": 7,
    "start_time": "2021-08-28T11:22:05.671Z"
   },
   {
    "duration": 101,
    "start_time": "2021-08-28T11:22:05.775Z"
   },
   {
    "duration": 4598,
    "start_time": "2021-08-28T11:22:05.879Z"
   },
   {
    "duration": 98,
    "start_time": "2021-08-28T11:22:10.568Z"
   },
   {
    "duration": 105,
    "start_time": "2021-08-28T11:22:10.669Z"
   },
   {
    "duration": 198,
    "start_time": "2021-08-28T11:22:10.874Z"
   },
   {
    "duration": 98,
    "start_time": "2021-08-28T11:22:11.078Z"
   },
   {
    "duration": 93,
    "start_time": "2021-08-28T11:22:11.178Z"
   },
   {
    "duration": 191,
    "start_time": "2021-08-28T11:22:11.275Z"
   },
   {
    "duration": 4107,
    "start_time": "2021-08-28T11:22:11.469Z"
   }
  ],
  "kernelspec": {
   "display_name": "Python 3",
   "language": "python",
   "name": "python3"
  },
  "language_info": {
   "codemirror_mode": {
    "name": "ipython",
    "version": 3
   },
   "file_extension": ".py",
   "mimetype": "text/x-python",
   "name": "python",
   "nbconvert_exporter": "python",
   "pygments_lexer": "ipython3",
   "version": "3.7.8"
  },
  "toc": {
   "base_numbering": 1,
   "nav_menu": {},
   "number_sections": true,
   "sideBar": true,
   "skip_h1_title": true,
   "title_cell": "Содержание",
   "title_sidebar": "Contents",
   "toc_cell": true,
   "toc_position": {
    "height": "calc(100% - 180px)",
    "left": "10px",
    "top": "150px",
    "width": "252px"
   },
   "toc_section_display": true,
   "toc_window_display": false
  }
 },
 "nbformat": 4,
 "nbformat_minor": 2
}
