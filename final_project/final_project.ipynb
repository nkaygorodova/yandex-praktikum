{
 "cells": [
  {
   "cell_type": "markdown",
   "metadata": {},
   "source": [
    "Входные данные - персональные данные о некоторых клиентах, информация об их тарифах и договорах.\n",
    "\n",
    "**Описание услуг**\n",
    "\n",
    "Оператор предоставляет два основных типа услуг: \n",
    "\n",
    "1. Стационарную телефонную связь. Возможно подключение телефонного аппарата к нескольким линиям одновременно.\n",
    "2. Интернет. Подключение может быть двух типов: через телефонную линию (DSL*,* от англ. *digital subscriber line*, «цифровая абонентская линия») или оптоволоконный кабель (*Fiber optic*).  \n",
    "\n",
    "Также доступны такие услуги:\n",
    "\n",
    "- Интернет-безопасность: антивирус (*DeviceProtection*) и блокировка небезопасных сайтов (*OnlineSecurity*);\n",
    "- Выделенная линия технической поддержки (*TechSupport*);\n",
    "- Облачное хранилище файлов для резервного копирования данных (*OnlineBackup*);\n",
    "- Стриминговое телевидение (*StreamingTV*) и каталог фильмов (*StreamingMovies*).\n",
    "\n",
    "За услуги клиенты могут платить каждый месяц или заключить договор на 1–2 года. Доступны различные способы расчёта и возможность получения электронного чека.\n",
    "\n",
    "**Описание данных**\n",
    "\n",
    "Данные состоят из файлов, полученных из разных источников:\n",
    "\n",
    "- `contract.csv` — информация о договоре;\n",
    "- `personal.csv` — персональные данные клиента;\n",
    "- `internet.csv` — информация об интернет-услугах;\n",
    "- `phone.csv` — информация об услугах телефонии.\n",
    "\n",
    "Во всех файлах столбец `customerID` содержит код клиента.\n",
    "\n",
    "Информация о договорах актуальна на 1 февраля 2020."
   ]
  },
  {
   "cell_type": "markdown",
   "metadata": {},
   "source": [
    "# Исследовательский анализ данных"
   ]
  },
  {
   "cell_type": "code",
   "execution_count": 1,
   "metadata": {},
   "outputs": [],
   "source": [
    "import pandas as pd\n",
    "import numpy as np\n",
    "import datetime\n",
    "import matplotlib.pyplot as plt\n",
    "import seaborn as sns\n",
    "from sklearn.model_selection import train_test_split\n",
    "from sklearn.preprocessing import StandardScaler\n",
    "from sklearn.utils import shuffle\n",
    "from catboost import CatBoostClassifier\n",
    "from sklearn.dummy import DummyClassifier\n",
    "from sklearn.metrics import roc_auc_score, roc_curve, accuracy_score, classification_report"
   ]
  },
  {
   "cell_type": "markdown",
   "metadata": {},
   "source": [
    "Информация о договоре:"
   ]
  },
  {
   "cell_type": "code",
   "execution_count": 2,
   "metadata": {},
   "outputs": [],
   "source": [
    "df_contract = pd.read_csv('/datasets/final_provider/contract.csv')"
   ]
  },
  {
   "cell_type": "code",
   "execution_count": 3,
   "metadata": {},
   "outputs": [
    {
     "data": {
      "text/html": [
       "<div>\n",
       "<style scoped>\n",
       "    .dataframe tbody tr th:only-of-type {\n",
       "        vertical-align: middle;\n",
       "    }\n",
       "\n",
       "    .dataframe tbody tr th {\n",
       "        vertical-align: top;\n",
       "    }\n",
       "\n",
       "    .dataframe thead th {\n",
       "        text-align: right;\n",
       "    }\n",
       "</style>\n",
       "<table border=\"1\" class=\"dataframe\">\n",
       "  <thead>\n",
       "    <tr style=\"text-align: right;\">\n",
       "      <th></th>\n",
       "      <th>customerID</th>\n",
       "      <th>BeginDate</th>\n",
       "      <th>EndDate</th>\n",
       "      <th>Type</th>\n",
       "      <th>PaperlessBilling</th>\n",
       "      <th>PaymentMethod</th>\n",
       "      <th>MonthlyCharges</th>\n",
       "      <th>TotalCharges</th>\n",
       "    </tr>\n",
       "  </thead>\n",
       "  <tbody>\n",
       "    <tr>\n",
       "      <td>0</td>\n",
       "      <td>7590-VHVEG</td>\n",
       "      <td>2020-01-01</td>\n",
       "      <td>No</td>\n",
       "      <td>Month-to-month</td>\n",
       "      <td>Yes</td>\n",
       "      <td>Electronic check</td>\n",
       "      <td>29.85</td>\n",
       "      <td>29.85</td>\n",
       "    </tr>\n",
       "    <tr>\n",
       "      <td>1</td>\n",
       "      <td>5575-GNVDE</td>\n",
       "      <td>2017-04-01</td>\n",
       "      <td>No</td>\n",
       "      <td>One year</td>\n",
       "      <td>No</td>\n",
       "      <td>Mailed check</td>\n",
       "      <td>56.95</td>\n",
       "      <td>1889.5</td>\n",
       "    </tr>\n",
       "    <tr>\n",
       "      <td>2</td>\n",
       "      <td>3668-QPYBK</td>\n",
       "      <td>2019-10-01</td>\n",
       "      <td>2019-12-01 00:00:00</td>\n",
       "      <td>Month-to-month</td>\n",
       "      <td>Yes</td>\n",
       "      <td>Mailed check</td>\n",
       "      <td>53.85</td>\n",
       "      <td>108.15</td>\n",
       "    </tr>\n",
       "    <tr>\n",
       "      <td>3</td>\n",
       "      <td>7795-CFOCW</td>\n",
       "      <td>2016-05-01</td>\n",
       "      <td>No</td>\n",
       "      <td>One year</td>\n",
       "      <td>No</td>\n",
       "      <td>Bank transfer (automatic)</td>\n",
       "      <td>42.30</td>\n",
       "      <td>1840.75</td>\n",
       "    </tr>\n",
       "    <tr>\n",
       "      <td>4</td>\n",
       "      <td>9237-HQITU</td>\n",
       "      <td>2019-09-01</td>\n",
       "      <td>2019-11-01 00:00:00</td>\n",
       "      <td>Month-to-month</td>\n",
       "      <td>Yes</td>\n",
       "      <td>Electronic check</td>\n",
       "      <td>70.70</td>\n",
       "      <td>151.65</td>\n",
       "    </tr>\n",
       "  </tbody>\n",
       "</table>\n",
       "</div>"
      ],
      "text/plain": [
       "   customerID   BeginDate              EndDate            Type  \\\n",
       "0  7590-VHVEG  2020-01-01                   No  Month-to-month   \n",
       "1  5575-GNVDE  2017-04-01                   No        One year   \n",
       "2  3668-QPYBK  2019-10-01  2019-12-01 00:00:00  Month-to-month   \n",
       "3  7795-CFOCW  2016-05-01                   No        One year   \n",
       "4  9237-HQITU  2019-09-01  2019-11-01 00:00:00  Month-to-month   \n",
       "\n",
       "  PaperlessBilling              PaymentMethod  MonthlyCharges TotalCharges  \n",
       "0              Yes           Electronic check           29.85        29.85  \n",
       "1               No               Mailed check           56.95       1889.5  \n",
       "2              Yes               Mailed check           53.85       108.15  \n",
       "3               No  Bank transfer (automatic)           42.30      1840.75  \n",
       "4              Yes           Electronic check           70.70       151.65  "
      ]
     },
     "execution_count": 3,
     "metadata": {},
     "output_type": "execute_result"
    }
   ],
   "source": [
    "df_contract.head()"
   ]
  },
  {
   "cell_type": "code",
   "execution_count": 4,
   "metadata": {},
   "outputs": [
    {
     "name": "stdout",
     "output_type": "stream",
     "text": [
      "<class 'pandas.core.frame.DataFrame'>\n",
      "RangeIndex: 7043 entries, 0 to 7042\n",
      "Data columns (total 8 columns):\n",
      "customerID          7043 non-null object\n",
      "BeginDate           7043 non-null object\n",
      "EndDate             7043 non-null object\n",
      "Type                7043 non-null object\n",
      "PaperlessBilling    7043 non-null object\n",
      "PaymentMethod       7043 non-null object\n",
      "MonthlyCharges      7043 non-null float64\n",
      "TotalCharges        7043 non-null object\n",
      "dtypes: float64(1), object(7)\n",
      "memory usage: 440.3+ KB\n"
     ]
    }
   ],
   "source": [
    "df_contract.info()"
   ]
  },
  {
   "cell_type": "markdown",
   "metadata": {},
   "source": [
    "Персональные данные клиента:"
   ]
  },
  {
   "cell_type": "code",
   "execution_count": 5,
   "metadata": {},
   "outputs": [],
   "source": [
    "df_personal = pd.read_csv('/datasets/final_provider/personal.csv')"
   ]
  },
  {
   "cell_type": "code",
   "execution_count": 6,
   "metadata": {},
   "outputs": [
    {
     "data": {
      "text/html": [
       "<div>\n",
       "<style scoped>\n",
       "    .dataframe tbody tr th:only-of-type {\n",
       "        vertical-align: middle;\n",
       "    }\n",
       "\n",
       "    .dataframe tbody tr th {\n",
       "        vertical-align: top;\n",
       "    }\n",
       "\n",
       "    .dataframe thead th {\n",
       "        text-align: right;\n",
       "    }\n",
       "</style>\n",
       "<table border=\"1\" class=\"dataframe\">\n",
       "  <thead>\n",
       "    <tr style=\"text-align: right;\">\n",
       "      <th></th>\n",
       "      <th>customerID</th>\n",
       "      <th>gender</th>\n",
       "      <th>SeniorCitizen</th>\n",
       "      <th>Partner</th>\n",
       "      <th>Dependents</th>\n",
       "    </tr>\n",
       "  </thead>\n",
       "  <tbody>\n",
       "    <tr>\n",
       "      <td>0</td>\n",
       "      <td>7590-VHVEG</td>\n",
       "      <td>Female</td>\n",
       "      <td>0</td>\n",
       "      <td>Yes</td>\n",
       "      <td>No</td>\n",
       "    </tr>\n",
       "    <tr>\n",
       "      <td>1</td>\n",
       "      <td>5575-GNVDE</td>\n",
       "      <td>Male</td>\n",
       "      <td>0</td>\n",
       "      <td>No</td>\n",
       "      <td>No</td>\n",
       "    </tr>\n",
       "    <tr>\n",
       "      <td>2</td>\n",
       "      <td>3668-QPYBK</td>\n",
       "      <td>Male</td>\n",
       "      <td>0</td>\n",
       "      <td>No</td>\n",
       "      <td>No</td>\n",
       "    </tr>\n",
       "    <tr>\n",
       "      <td>3</td>\n",
       "      <td>7795-CFOCW</td>\n",
       "      <td>Male</td>\n",
       "      <td>0</td>\n",
       "      <td>No</td>\n",
       "      <td>No</td>\n",
       "    </tr>\n",
       "    <tr>\n",
       "      <td>4</td>\n",
       "      <td>9237-HQITU</td>\n",
       "      <td>Female</td>\n",
       "      <td>0</td>\n",
       "      <td>No</td>\n",
       "      <td>No</td>\n",
       "    </tr>\n",
       "  </tbody>\n",
       "</table>\n",
       "</div>"
      ],
      "text/plain": [
       "   customerID  gender  SeniorCitizen Partner Dependents\n",
       "0  7590-VHVEG  Female              0     Yes         No\n",
       "1  5575-GNVDE    Male              0      No         No\n",
       "2  3668-QPYBK    Male              0      No         No\n",
       "3  7795-CFOCW    Male              0      No         No\n",
       "4  9237-HQITU  Female              0      No         No"
      ]
     },
     "execution_count": 6,
     "metadata": {},
     "output_type": "execute_result"
    }
   ],
   "source": [
    "df_personal.head()"
   ]
  },
  {
   "cell_type": "code",
   "execution_count": 7,
   "metadata": {},
   "outputs": [
    {
     "name": "stdout",
     "output_type": "stream",
     "text": [
      "<class 'pandas.core.frame.DataFrame'>\n",
      "RangeIndex: 7043 entries, 0 to 7042\n",
      "Data columns (total 5 columns):\n",
      "customerID       7043 non-null object\n",
      "gender           7043 non-null object\n",
      "SeniorCitizen    7043 non-null int64\n",
      "Partner          7043 non-null object\n",
      "Dependents       7043 non-null object\n",
      "dtypes: int64(1), object(4)\n",
      "memory usage: 275.2+ KB\n"
     ]
    }
   ],
   "source": [
    "df_personal.info()"
   ]
  },
  {
   "cell_type": "markdown",
   "metadata": {},
   "source": [
    "Информация об интернет-услугах:"
   ]
  },
  {
   "cell_type": "code",
   "execution_count": 8,
   "metadata": {},
   "outputs": [],
   "source": [
    "df_internet = pd.read_csv('/datasets/final_provider/internet.csv')"
   ]
  },
  {
   "cell_type": "code",
   "execution_count": 9,
   "metadata": {},
   "outputs": [
    {
     "data": {
      "text/html": [
       "<div>\n",
       "<style scoped>\n",
       "    .dataframe tbody tr th:only-of-type {\n",
       "        vertical-align: middle;\n",
       "    }\n",
       "\n",
       "    .dataframe tbody tr th {\n",
       "        vertical-align: top;\n",
       "    }\n",
       "\n",
       "    .dataframe thead th {\n",
       "        text-align: right;\n",
       "    }\n",
       "</style>\n",
       "<table border=\"1\" class=\"dataframe\">\n",
       "  <thead>\n",
       "    <tr style=\"text-align: right;\">\n",
       "      <th></th>\n",
       "      <th>customerID</th>\n",
       "      <th>InternetService</th>\n",
       "      <th>OnlineSecurity</th>\n",
       "      <th>OnlineBackup</th>\n",
       "      <th>DeviceProtection</th>\n",
       "      <th>TechSupport</th>\n",
       "      <th>StreamingTV</th>\n",
       "      <th>StreamingMovies</th>\n",
       "    </tr>\n",
       "  </thead>\n",
       "  <tbody>\n",
       "    <tr>\n",
       "      <td>0</td>\n",
       "      <td>7590-VHVEG</td>\n",
       "      <td>DSL</td>\n",
       "      <td>No</td>\n",
       "      <td>Yes</td>\n",
       "      <td>No</td>\n",
       "      <td>No</td>\n",
       "      <td>No</td>\n",
       "      <td>No</td>\n",
       "    </tr>\n",
       "    <tr>\n",
       "      <td>1</td>\n",
       "      <td>5575-GNVDE</td>\n",
       "      <td>DSL</td>\n",
       "      <td>Yes</td>\n",
       "      <td>No</td>\n",
       "      <td>Yes</td>\n",
       "      <td>No</td>\n",
       "      <td>No</td>\n",
       "      <td>No</td>\n",
       "    </tr>\n",
       "    <tr>\n",
       "      <td>2</td>\n",
       "      <td>3668-QPYBK</td>\n",
       "      <td>DSL</td>\n",
       "      <td>Yes</td>\n",
       "      <td>Yes</td>\n",
       "      <td>No</td>\n",
       "      <td>No</td>\n",
       "      <td>No</td>\n",
       "      <td>No</td>\n",
       "    </tr>\n",
       "    <tr>\n",
       "      <td>3</td>\n",
       "      <td>7795-CFOCW</td>\n",
       "      <td>DSL</td>\n",
       "      <td>Yes</td>\n",
       "      <td>No</td>\n",
       "      <td>Yes</td>\n",
       "      <td>Yes</td>\n",
       "      <td>No</td>\n",
       "      <td>No</td>\n",
       "    </tr>\n",
       "    <tr>\n",
       "      <td>4</td>\n",
       "      <td>9237-HQITU</td>\n",
       "      <td>Fiber optic</td>\n",
       "      <td>No</td>\n",
       "      <td>No</td>\n",
       "      <td>No</td>\n",
       "      <td>No</td>\n",
       "      <td>No</td>\n",
       "      <td>No</td>\n",
       "    </tr>\n",
       "  </tbody>\n",
       "</table>\n",
       "</div>"
      ],
      "text/plain": [
       "   customerID InternetService OnlineSecurity OnlineBackup DeviceProtection  \\\n",
       "0  7590-VHVEG             DSL             No          Yes               No   \n",
       "1  5575-GNVDE             DSL            Yes           No              Yes   \n",
       "2  3668-QPYBK             DSL            Yes          Yes               No   \n",
       "3  7795-CFOCW             DSL            Yes           No              Yes   \n",
       "4  9237-HQITU     Fiber optic             No           No               No   \n",
       "\n",
       "  TechSupport StreamingTV StreamingMovies  \n",
       "0          No          No              No  \n",
       "1          No          No              No  \n",
       "2          No          No              No  \n",
       "3         Yes          No              No  \n",
       "4          No          No              No  "
      ]
     },
     "execution_count": 9,
     "metadata": {},
     "output_type": "execute_result"
    }
   ],
   "source": [
    "df_internet.head()"
   ]
  },
  {
   "cell_type": "code",
   "execution_count": 10,
   "metadata": {},
   "outputs": [
    {
     "name": "stdout",
     "output_type": "stream",
     "text": [
      "<class 'pandas.core.frame.DataFrame'>\n",
      "RangeIndex: 5517 entries, 0 to 5516\n",
      "Data columns (total 8 columns):\n",
      "customerID          5517 non-null object\n",
      "InternetService     5517 non-null object\n",
      "OnlineSecurity      5517 non-null object\n",
      "OnlineBackup        5517 non-null object\n",
      "DeviceProtection    5517 non-null object\n",
      "TechSupport         5517 non-null object\n",
      "StreamingTV         5517 non-null object\n",
      "StreamingMovies     5517 non-null object\n",
      "dtypes: object(8)\n",
      "memory usage: 344.9+ KB\n"
     ]
    }
   ],
   "source": [
    "df_internet.info()"
   ]
  },
  {
   "cell_type": "markdown",
   "metadata": {},
   "source": [
    "Информация об услугах телефонии:"
   ]
  },
  {
   "cell_type": "code",
   "execution_count": 11,
   "metadata": {},
   "outputs": [],
   "source": [
    "df_phone = pd.read_csv('/datasets/final_provider/phone.csv')"
   ]
  },
  {
   "cell_type": "code",
   "execution_count": 12,
   "metadata": {},
   "outputs": [
    {
     "data": {
      "text/html": [
       "<div>\n",
       "<style scoped>\n",
       "    .dataframe tbody tr th:only-of-type {\n",
       "        vertical-align: middle;\n",
       "    }\n",
       "\n",
       "    .dataframe tbody tr th {\n",
       "        vertical-align: top;\n",
       "    }\n",
       "\n",
       "    .dataframe thead th {\n",
       "        text-align: right;\n",
       "    }\n",
       "</style>\n",
       "<table border=\"1\" class=\"dataframe\">\n",
       "  <thead>\n",
       "    <tr style=\"text-align: right;\">\n",
       "      <th></th>\n",
       "      <th>customerID</th>\n",
       "      <th>MultipleLines</th>\n",
       "    </tr>\n",
       "  </thead>\n",
       "  <tbody>\n",
       "    <tr>\n",
       "      <td>0</td>\n",
       "      <td>5575-GNVDE</td>\n",
       "      <td>No</td>\n",
       "    </tr>\n",
       "    <tr>\n",
       "      <td>1</td>\n",
       "      <td>3668-QPYBK</td>\n",
       "      <td>No</td>\n",
       "    </tr>\n",
       "    <tr>\n",
       "      <td>2</td>\n",
       "      <td>9237-HQITU</td>\n",
       "      <td>No</td>\n",
       "    </tr>\n",
       "    <tr>\n",
       "      <td>3</td>\n",
       "      <td>9305-CDSKC</td>\n",
       "      <td>Yes</td>\n",
       "    </tr>\n",
       "    <tr>\n",
       "      <td>4</td>\n",
       "      <td>1452-KIOVK</td>\n",
       "      <td>Yes</td>\n",
       "    </tr>\n",
       "  </tbody>\n",
       "</table>\n",
       "</div>"
      ],
      "text/plain": [
       "   customerID MultipleLines\n",
       "0  5575-GNVDE            No\n",
       "1  3668-QPYBK            No\n",
       "2  9237-HQITU            No\n",
       "3  9305-CDSKC           Yes\n",
       "4  1452-KIOVK           Yes"
      ]
     },
     "execution_count": 12,
     "metadata": {},
     "output_type": "execute_result"
    }
   ],
   "source": [
    "df_phone.head()"
   ]
  },
  {
   "cell_type": "code",
   "execution_count": 13,
   "metadata": {},
   "outputs": [
    {
     "name": "stdout",
     "output_type": "stream",
     "text": [
      "<class 'pandas.core.frame.DataFrame'>\n",
      "RangeIndex: 6361 entries, 0 to 6360\n",
      "Data columns (total 2 columns):\n",
      "customerID       6361 non-null object\n",
      "MultipleLines    6361 non-null object\n",
      "dtypes: object(2)\n",
      "memory usage: 99.5+ KB\n"
     ]
    }
   ],
   "source": [
    "df_phone.info()"
   ]
  },
  {
   "cell_type": "markdown",
   "metadata": {},
   "source": [
    "Соединим данные из разных источников в одну таблицу:"
   ]
  },
  {
   "cell_type": "code",
   "execution_count": 14,
   "metadata": {},
   "outputs": [],
   "source": [
    "df = df_contract.merge(df_personal, on='customerID', how='left')"
   ]
  },
  {
   "cell_type": "code",
   "execution_count": 15,
   "metadata": {},
   "outputs": [],
   "source": [
    "df = df.merge(df_internet, on='customerID', how='left')"
   ]
  },
  {
   "cell_type": "code",
   "execution_count": 16,
   "metadata": {},
   "outputs": [],
   "source": [
    "df = df.merge(df_phone, on='customerID', how='left')"
   ]
  },
  {
   "cell_type": "code",
   "execution_count": 17,
   "metadata": {},
   "outputs": [
    {
     "data": {
      "text/html": [
       "<div>\n",
       "<style scoped>\n",
       "    .dataframe tbody tr th:only-of-type {\n",
       "        vertical-align: middle;\n",
       "    }\n",
       "\n",
       "    .dataframe tbody tr th {\n",
       "        vertical-align: top;\n",
       "    }\n",
       "\n",
       "    .dataframe thead th {\n",
       "        text-align: right;\n",
       "    }\n",
       "</style>\n",
       "<table border=\"1\" class=\"dataframe\">\n",
       "  <thead>\n",
       "    <tr style=\"text-align: right;\">\n",
       "      <th></th>\n",
       "      <th>customerID</th>\n",
       "      <th>BeginDate</th>\n",
       "      <th>EndDate</th>\n",
       "      <th>Type</th>\n",
       "      <th>PaperlessBilling</th>\n",
       "      <th>PaymentMethod</th>\n",
       "      <th>MonthlyCharges</th>\n",
       "      <th>TotalCharges</th>\n",
       "      <th>gender</th>\n",
       "      <th>SeniorCitizen</th>\n",
       "      <th>Partner</th>\n",
       "      <th>Dependents</th>\n",
       "      <th>InternetService</th>\n",
       "      <th>OnlineSecurity</th>\n",
       "      <th>OnlineBackup</th>\n",
       "      <th>DeviceProtection</th>\n",
       "      <th>TechSupport</th>\n",
       "      <th>StreamingTV</th>\n",
       "      <th>StreamingMovies</th>\n",
       "      <th>MultipleLines</th>\n",
       "    </tr>\n",
       "  </thead>\n",
       "  <tbody>\n",
       "    <tr>\n",
       "      <td>0</td>\n",
       "      <td>7590-VHVEG</td>\n",
       "      <td>2020-01-01</td>\n",
       "      <td>No</td>\n",
       "      <td>Month-to-month</td>\n",
       "      <td>Yes</td>\n",
       "      <td>Electronic check</td>\n",
       "      <td>29.85</td>\n",
       "      <td>29.85</td>\n",
       "      <td>Female</td>\n",
       "      <td>0</td>\n",
       "      <td>Yes</td>\n",
       "      <td>No</td>\n",
       "      <td>DSL</td>\n",
       "      <td>No</td>\n",
       "      <td>Yes</td>\n",
       "      <td>No</td>\n",
       "      <td>No</td>\n",
       "      <td>No</td>\n",
       "      <td>No</td>\n",
       "      <td>NaN</td>\n",
       "    </tr>\n",
       "    <tr>\n",
       "      <td>1</td>\n",
       "      <td>5575-GNVDE</td>\n",
       "      <td>2017-04-01</td>\n",
       "      <td>No</td>\n",
       "      <td>One year</td>\n",
       "      <td>No</td>\n",
       "      <td>Mailed check</td>\n",
       "      <td>56.95</td>\n",
       "      <td>1889.5</td>\n",
       "      <td>Male</td>\n",
       "      <td>0</td>\n",
       "      <td>No</td>\n",
       "      <td>No</td>\n",
       "      <td>DSL</td>\n",
       "      <td>Yes</td>\n",
       "      <td>No</td>\n",
       "      <td>Yes</td>\n",
       "      <td>No</td>\n",
       "      <td>No</td>\n",
       "      <td>No</td>\n",
       "      <td>No</td>\n",
       "    </tr>\n",
       "    <tr>\n",
       "      <td>2</td>\n",
       "      <td>3668-QPYBK</td>\n",
       "      <td>2019-10-01</td>\n",
       "      <td>2019-12-01 00:00:00</td>\n",
       "      <td>Month-to-month</td>\n",
       "      <td>Yes</td>\n",
       "      <td>Mailed check</td>\n",
       "      <td>53.85</td>\n",
       "      <td>108.15</td>\n",
       "      <td>Male</td>\n",
       "      <td>0</td>\n",
       "      <td>No</td>\n",
       "      <td>No</td>\n",
       "      <td>DSL</td>\n",
       "      <td>Yes</td>\n",
       "      <td>Yes</td>\n",
       "      <td>No</td>\n",
       "      <td>No</td>\n",
       "      <td>No</td>\n",
       "      <td>No</td>\n",
       "      <td>No</td>\n",
       "    </tr>\n",
       "    <tr>\n",
       "      <td>3</td>\n",
       "      <td>7795-CFOCW</td>\n",
       "      <td>2016-05-01</td>\n",
       "      <td>No</td>\n",
       "      <td>One year</td>\n",
       "      <td>No</td>\n",
       "      <td>Bank transfer (automatic)</td>\n",
       "      <td>42.30</td>\n",
       "      <td>1840.75</td>\n",
       "      <td>Male</td>\n",
       "      <td>0</td>\n",
       "      <td>No</td>\n",
       "      <td>No</td>\n",
       "      <td>DSL</td>\n",
       "      <td>Yes</td>\n",
       "      <td>No</td>\n",
       "      <td>Yes</td>\n",
       "      <td>Yes</td>\n",
       "      <td>No</td>\n",
       "      <td>No</td>\n",
       "      <td>NaN</td>\n",
       "    </tr>\n",
       "    <tr>\n",
       "      <td>4</td>\n",
       "      <td>9237-HQITU</td>\n",
       "      <td>2019-09-01</td>\n",
       "      <td>2019-11-01 00:00:00</td>\n",
       "      <td>Month-to-month</td>\n",
       "      <td>Yes</td>\n",
       "      <td>Electronic check</td>\n",
       "      <td>70.70</td>\n",
       "      <td>151.65</td>\n",
       "      <td>Female</td>\n",
       "      <td>0</td>\n",
       "      <td>No</td>\n",
       "      <td>No</td>\n",
       "      <td>Fiber optic</td>\n",
       "      <td>No</td>\n",
       "      <td>No</td>\n",
       "      <td>No</td>\n",
       "      <td>No</td>\n",
       "      <td>No</td>\n",
       "      <td>No</td>\n",
       "      <td>No</td>\n",
       "    </tr>\n",
       "  </tbody>\n",
       "</table>\n",
       "</div>"
      ],
      "text/plain": [
       "   customerID   BeginDate              EndDate            Type  \\\n",
       "0  7590-VHVEG  2020-01-01                   No  Month-to-month   \n",
       "1  5575-GNVDE  2017-04-01                   No        One year   \n",
       "2  3668-QPYBK  2019-10-01  2019-12-01 00:00:00  Month-to-month   \n",
       "3  7795-CFOCW  2016-05-01                   No        One year   \n",
       "4  9237-HQITU  2019-09-01  2019-11-01 00:00:00  Month-to-month   \n",
       "\n",
       "  PaperlessBilling              PaymentMethod  MonthlyCharges TotalCharges  \\\n",
       "0              Yes           Electronic check           29.85        29.85   \n",
       "1               No               Mailed check           56.95       1889.5   \n",
       "2              Yes               Mailed check           53.85       108.15   \n",
       "3               No  Bank transfer (automatic)           42.30      1840.75   \n",
       "4              Yes           Electronic check           70.70       151.65   \n",
       "\n",
       "   gender  SeniorCitizen Partner Dependents InternetService OnlineSecurity  \\\n",
       "0  Female              0     Yes         No             DSL             No   \n",
       "1    Male              0      No         No             DSL            Yes   \n",
       "2    Male              0      No         No             DSL            Yes   \n",
       "3    Male              0      No         No             DSL            Yes   \n",
       "4  Female              0      No         No     Fiber optic             No   \n",
       "\n",
       "  OnlineBackup DeviceProtection TechSupport StreamingTV StreamingMovies  \\\n",
       "0          Yes               No          No          No              No   \n",
       "1           No              Yes          No          No              No   \n",
       "2          Yes               No          No          No              No   \n",
       "3           No              Yes         Yes          No              No   \n",
       "4           No               No          No          No              No   \n",
       "\n",
       "  MultipleLines  \n",
       "0           NaN  \n",
       "1            No  \n",
       "2            No  \n",
       "3           NaN  \n",
       "4            No  "
      ]
     },
     "execution_count": 17,
     "metadata": {},
     "output_type": "execute_result"
    }
   ],
   "source": [
    "df.head()"
   ]
  },
  {
   "cell_type": "code",
   "execution_count": 18,
   "metadata": {},
   "outputs": [
    {
     "name": "stdout",
     "output_type": "stream",
     "text": [
      "<class 'pandas.core.frame.DataFrame'>\n",
      "Int64Index: 7043 entries, 0 to 7042\n",
      "Data columns (total 20 columns):\n",
      "customerID          7043 non-null object\n",
      "BeginDate           7043 non-null object\n",
      "EndDate             7043 non-null object\n",
      "Type                7043 non-null object\n",
      "PaperlessBilling    7043 non-null object\n",
      "PaymentMethod       7043 non-null object\n",
      "MonthlyCharges      7043 non-null float64\n",
      "TotalCharges        7043 non-null object\n",
      "gender              7043 non-null object\n",
      "SeniorCitizen       7043 non-null int64\n",
      "Partner             7043 non-null object\n",
      "Dependents          7043 non-null object\n",
      "InternetService     5517 non-null object\n",
      "OnlineSecurity      5517 non-null object\n",
      "OnlineBackup        5517 non-null object\n",
      "DeviceProtection    5517 non-null object\n",
      "TechSupport         5517 non-null object\n",
      "StreamingTV         5517 non-null object\n",
      "StreamingMovies     5517 non-null object\n",
      "MultipleLines       6361 non-null object\n",
      "dtypes: float64(1), int64(1), object(18)\n",
      "memory usage: 1.1+ MB\n"
     ]
    }
   ],
   "source": [
    "df.info()"
   ]
  },
  {
   "cell_type": "markdown",
   "metadata": {},
   "source": [
    "В объединенных данных появились пропуски, т.к. среди клиентов есть те, кто пользуется интернетом и не пользуется телефоном, и наоборот. Для того, чтобы не искажать и не потерять значительную часть данных, проведем техническое заполнение. Отсутствие услуги заполним как 'No service':"
   ]
  },
  {
   "cell_type": "code",
   "execution_count": 19,
   "metadata": {},
   "outputs": [],
   "source": [
    "df.fillna('No service', inplace=True)"
   ]
  },
  {
   "cell_type": "code",
   "execution_count": 20,
   "metadata": {},
   "outputs": [
    {
     "data": {
      "text/html": [
       "<div>\n",
       "<style scoped>\n",
       "    .dataframe tbody tr th:only-of-type {\n",
       "        vertical-align: middle;\n",
       "    }\n",
       "\n",
       "    .dataframe tbody tr th {\n",
       "        vertical-align: top;\n",
       "    }\n",
       "\n",
       "    .dataframe thead th {\n",
       "        text-align: right;\n",
       "    }\n",
       "</style>\n",
       "<table border=\"1\" class=\"dataframe\">\n",
       "  <thead>\n",
       "    <tr style=\"text-align: right;\">\n",
       "      <th></th>\n",
       "      <th>customerID</th>\n",
       "      <th>BeginDate</th>\n",
       "      <th>EndDate</th>\n",
       "      <th>Type</th>\n",
       "      <th>PaperlessBilling</th>\n",
       "      <th>PaymentMethod</th>\n",
       "      <th>MonthlyCharges</th>\n",
       "      <th>TotalCharges</th>\n",
       "      <th>gender</th>\n",
       "      <th>SeniorCitizen</th>\n",
       "      <th>Partner</th>\n",
       "      <th>Dependents</th>\n",
       "      <th>InternetService</th>\n",
       "      <th>OnlineSecurity</th>\n",
       "      <th>OnlineBackup</th>\n",
       "      <th>DeviceProtection</th>\n",
       "      <th>TechSupport</th>\n",
       "      <th>StreamingTV</th>\n",
       "      <th>StreamingMovies</th>\n",
       "      <th>MultipleLines</th>\n",
       "    </tr>\n",
       "  </thead>\n",
       "  <tbody>\n",
       "    <tr>\n",
       "      <td>0</td>\n",
       "      <td>7590-VHVEG</td>\n",
       "      <td>2020-01-01</td>\n",
       "      <td>No</td>\n",
       "      <td>Month-to-month</td>\n",
       "      <td>Yes</td>\n",
       "      <td>Electronic check</td>\n",
       "      <td>29.85</td>\n",
       "      <td>29.85</td>\n",
       "      <td>Female</td>\n",
       "      <td>0</td>\n",
       "      <td>Yes</td>\n",
       "      <td>No</td>\n",
       "      <td>DSL</td>\n",
       "      <td>No</td>\n",
       "      <td>Yes</td>\n",
       "      <td>No</td>\n",
       "      <td>No</td>\n",
       "      <td>No</td>\n",
       "      <td>No</td>\n",
       "      <td>No service</td>\n",
       "    </tr>\n",
       "    <tr>\n",
       "      <td>1</td>\n",
       "      <td>5575-GNVDE</td>\n",
       "      <td>2017-04-01</td>\n",
       "      <td>No</td>\n",
       "      <td>One year</td>\n",
       "      <td>No</td>\n",
       "      <td>Mailed check</td>\n",
       "      <td>56.95</td>\n",
       "      <td>1889.5</td>\n",
       "      <td>Male</td>\n",
       "      <td>0</td>\n",
       "      <td>No</td>\n",
       "      <td>No</td>\n",
       "      <td>DSL</td>\n",
       "      <td>Yes</td>\n",
       "      <td>No</td>\n",
       "      <td>Yes</td>\n",
       "      <td>No</td>\n",
       "      <td>No</td>\n",
       "      <td>No</td>\n",
       "      <td>No</td>\n",
       "    </tr>\n",
       "    <tr>\n",
       "      <td>2</td>\n",
       "      <td>3668-QPYBK</td>\n",
       "      <td>2019-10-01</td>\n",
       "      <td>2019-12-01 00:00:00</td>\n",
       "      <td>Month-to-month</td>\n",
       "      <td>Yes</td>\n",
       "      <td>Mailed check</td>\n",
       "      <td>53.85</td>\n",
       "      <td>108.15</td>\n",
       "      <td>Male</td>\n",
       "      <td>0</td>\n",
       "      <td>No</td>\n",
       "      <td>No</td>\n",
       "      <td>DSL</td>\n",
       "      <td>Yes</td>\n",
       "      <td>Yes</td>\n",
       "      <td>No</td>\n",
       "      <td>No</td>\n",
       "      <td>No</td>\n",
       "      <td>No</td>\n",
       "      <td>No</td>\n",
       "    </tr>\n",
       "    <tr>\n",
       "      <td>3</td>\n",
       "      <td>7795-CFOCW</td>\n",
       "      <td>2016-05-01</td>\n",
       "      <td>No</td>\n",
       "      <td>One year</td>\n",
       "      <td>No</td>\n",
       "      <td>Bank transfer (automatic)</td>\n",
       "      <td>42.30</td>\n",
       "      <td>1840.75</td>\n",
       "      <td>Male</td>\n",
       "      <td>0</td>\n",
       "      <td>No</td>\n",
       "      <td>No</td>\n",
       "      <td>DSL</td>\n",
       "      <td>Yes</td>\n",
       "      <td>No</td>\n",
       "      <td>Yes</td>\n",
       "      <td>Yes</td>\n",
       "      <td>No</td>\n",
       "      <td>No</td>\n",
       "      <td>No service</td>\n",
       "    </tr>\n",
       "    <tr>\n",
       "      <td>4</td>\n",
       "      <td>9237-HQITU</td>\n",
       "      <td>2019-09-01</td>\n",
       "      <td>2019-11-01 00:00:00</td>\n",
       "      <td>Month-to-month</td>\n",
       "      <td>Yes</td>\n",
       "      <td>Electronic check</td>\n",
       "      <td>70.70</td>\n",
       "      <td>151.65</td>\n",
       "      <td>Female</td>\n",
       "      <td>0</td>\n",
       "      <td>No</td>\n",
       "      <td>No</td>\n",
       "      <td>Fiber optic</td>\n",
       "      <td>No</td>\n",
       "      <td>No</td>\n",
       "      <td>No</td>\n",
       "      <td>No</td>\n",
       "      <td>No</td>\n",
       "      <td>No</td>\n",
       "      <td>No</td>\n",
       "    </tr>\n",
       "  </tbody>\n",
       "</table>\n",
       "</div>"
      ],
      "text/plain": [
       "   customerID   BeginDate              EndDate            Type  \\\n",
       "0  7590-VHVEG  2020-01-01                   No  Month-to-month   \n",
       "1  5575-GNVDE  2017-04-01                   No        One year   \n",
       "2  3668-QPYBK  2019-10-01  2019-12-01 00:00:00  Month-to-month   \n",
       "3  7795-CFOCW  2016-05-01                   No        One year   \n",
       "4  9237-HQITU  2019-09-01  2019-11-01 00:00:00  Month-to-month   \n",
       "\n",
       "  PaperlessBilling              PaymentMethod  MonthlyCharges TotalCharges  \\\n",
       "0              Yes           Electronic check           29.85        29.85   \n",
       "1               No               Mailed check           56.95       1889.5   \n",
       "2              Yes               Mailed check           53.85       108.15   \n",
       "3               No  Bank transfer (automatic)           42.30      1840.75   \n",
       "4              Yes           Electronic check           70.70       151.65   \n",
       "\n",
       "   gender  SeniorCitizen Partner Dependents InternetService OnlineSecurity  \\\n",
       "0  Female              0     Yes         No             DSL             No   \n",
       "1    Male              0      No         No             DSL            Yes   \n",
       "2    Male              0      No         No             DSL            Yes   \n",
       "3    Male              0      No         No             DSL            Yes   \n",
       "4  Female              0      No         No     Fiber optic             No   \n",
       "\n",
       "  OnlineBackup DeviceProtection TechSupport StreamingTV StreamingMovies  \\\n",
       "0          Yes               No          No          No              No   \n",
       "1           No              Yes          No          No              No   \n",
       "2          Yes               No          No          No              No   \n",
       "3           No              Yes         Yes          No              No   \n",
       "4           No               No          No          No              No   \n",
       "\n",
       "  MultipleLines  \n",
       "0    No service  \n",
       "1            No  \n",
       "2            No  \n",
       "3    No service  \n",
       "4            No  "
      ]
     },
     "execution_count": 20,
     "metadata": {},
     "output_type": "execute_result"
    }
   ],
   "source": [
    "df.head()"
   ]
  },
  {
   "cell_type": "code",
   "execution_count": 21,
   "metadata": {},
   "outputs": [
    {
     "name": "stdout",
     "output_type": "stream",
     "text": [
      "<class 'pandas.core.frame.DataFrame'>\n",
      "Int64Index: 7043 entries, 0 to 7042\n",
      "Data columns (total 20 columns):\n",
      "customerID          7043 non-null object\n",
      "BeginDate           7043 non-null object\n",
      "EndDate             7043 non-null object\n",
      "Type                7043 non-null object\n",
      "PaperlessBilling    7043 non-null object\n",
      "PaymentMethod       7043 non-null object\n",
      "MonthlyCharges      7043 non-null float64\n",
      "TotalCharges        7043 non-null object\n",
      "gender              7043 non-null object\n",
      "SeniorCitizen       7043 non-null int64\n",
      "Partner             7043 non-null object\n",
      "Dependents          7043 non-null object\n",
      "InternetService     7043 non-null object\n",
      "OnlineSecurity      7043 non-null object\n",
      "OnlineBackup        7043 non-null object\n",
      "DeviceProtection    7043 non-null object\n",
      "TechSupport         7043 non-null object\n",
      "StreamingTV         7043 non-null object\n",
      "StreamingMovies     7043 non-null object\n",
      "MultipleLines       7043 non-null object\n",
      "dtypes: float64(1), int64(1), object(18)\n",
      "memory usage: 1.1+ MB\n"
     ]
    }
   ],
   "source": [
    "df.info()"
   ]
  },
  {
   "cell_type": "markdown",
   "metadata": {},
   "source": [
    "Изменим тип данных для значений даты и времени:"
   ]
  },
  {
   "cell_type": "code",
   "execution_count": 22,
   "metadata": {},
   "outputs": [],
   "source": [
    "df['BeginDate'] = pd.to_datetime(df['BeginDate'], format='%Y-%m-%d')"
   ]
  },
  {
   "cell_type": "code",
   "execution_count": 23,
   "metadata": {},
   "outputs": [],
   "source": [
    "df['EndDate'] = pd.to_datetime(df['EndDate'], format='%Y-%m-%d %H:%M:%S', errors='coerce')"
   ]
  },
  {
   "cell_type": "markdown",
   "metadata": {},
   "source": [
    "Посмотрим максимальные и минимальные значения:"
   ]
  },
  {
   "cell_type": "code",
   "execution_count": 24,
   "metadata": {},
   "outputs": [
    {
     "data": {
      "text/plain": [
       "(Timestamp('2013-10-01 00:00:00'), Timestamp('2020-02-01 00:00:00'))"
      ]
     },
     "execution_count": 24,
     "metadata": {},
     "output_type": "execute_result"
    }
   ],
   "source": [
    "df['BeginDate'].min(), df['BeginDate'].max()"
   ]
  },
  {
   "cell_type": "code",
   "execution_count": 25,
   "metadata": {},
   "outputs": [
    {
     "data": {
      "text/plain": [
       "(Timestamp('2019-10-01 00:00:00'), Timestamp('2020-01-01 00:00:00'))"
      ]
     },
     "execution_count": 25,
     "metadata": {},
     "output_type": "execute_result"
    }
   ],
   "source": [
    "df['EndDate'].min(), df['EndDate'].max()"
   ]
  },
  {
   "cell_type": "markdown",
   "metadata": {},
   "source": [
    "Изменим тип данных на количественный:"
   ]
  },
  {
   "cell_type": "code",
   "execution_count": 26,
   "metadata": {},
   "outputs": [],
   "source": [
    "df['TotalCharges'] = pd.to_numeric(df['TotalCharges'], errors='coerce')"
   ]
  },
  {
   "cell_type": "code",
   "execution_count": 27,
   "metadata": {},
   "outputs": [
    {
     "data": {
      "text/html": [
       "<div>\n",
       "<style scoped>\n",
       "    .dataframe tbody tr th:only-of-type {\n",
       "        vertical-align: middle;\n",
       "    }\n",
       "\n",
       "    .dataframe tbody tr th {\n",
       "        vertical-align: top;\n",
       "    }\n",
       "\n",
       "    .dataframe thead th {\n",
       "        text-align: right;\n",
       "    }\n",
       "</style>\n",
       "<table border=\"1\" class=\"dataframe\">\n",
       "  <thead>\n",
       "    <tr style=\"text-align: right;\">\n",
       "      <th></th>\n",
       "      <th>customerID</th>\n",
       "      <th>BeginDate</th>\n",
       "      <th>EndDate</th>\n",
       "      <th>Type</th>\n",
       "      <th>PaperlessBilling</th>\n",
       "      <th>PaymentMethod</th>\n",
       "      <th>MonthlyCharges</th>\n",
       "      <th>TotalCharges</th>\n",
       "      <th>gender</th>\n",
       "      <th>SeniorCitizen</th>\n",
       "      <th>Partner</th>\n",
       "      <th>Dependents</th>\n",
       "      <th>InternetService</th>\n",
       "      <th>OnlineSecurity</th>\n",
       "      <th>OnlineBackup</th>\n",
       "      <th>DeviceProtection</th>\n",
       "      <th>TechSupport</th>\n",
       "      <th>StreamingTV</th>\n",
       "      <th>StreamingMovies</th>\n",
       "      <th>MultipleLines</th>\n",
       "    </tr>\n",
       "  </thead>\n",
       "  <tbody>\n",
       "    <tr>\n",
       "      <td>0</td>\n",
       "      <td>7590-VHVEG</td>\n",
       "      <td>2020-01-01</td>\n",
       "      <td>NaT</td>\n",
       "      <td>Month-to-month</td>\n",
       "      <td>Yes</td>\n",
       "      <td>Electronic check</td>\n",
       "      <td>29.85</td>\n",
       "      <td>29.85</td>\n",
       "      <td>Female</td>\n",
       "      <td>0</td>\n",
       "      <td>Yes</td>\n",
       "      <td>No</td>\n",
       "      <td>DSL</td>\n",
       "      <td>No</td>\n",
       "      <td>Yes</td>\n",
       "      <td>No</td>\n",
       "      <td>No</td>\n",
       "      <td>No</td>\n",
       "      <td>No</td>\n",
       "      <td>No service</td>\n",
       "    </tr>\n",
       "    <tr>\n",
       "      <td>1</td>\n",
       "      <td>5575-GNVDE</td>\n",
       "      <td>2017-04-01</td>\n",
       "      <td>NaT</td>\n",
       "      <td>One year</td>\n",
       "      <td>No</td>\n",
       "      <td>Mailed check</td>\n",
       "      <td>56.95</td>\n",
       "      <td>1889.50</td>\n",
       "      <td>Male</td>\n",
       "      <td>0</td>\n",
       "      <td>No</td>\n",
       "      <td>No</td>\n",
       "      <td>DSL</td>\n",
       "      <td>Yes</td>\n",
       "      <td>No</td>\n",
       "      <td>Yes</td>\n",
       "      <td>No</td>\n",
       "      <td>No</td>\n",
       "      <td>No</td>\n",
       "      <td>No</td>\n",
       "    </tr>\n",
       "    <tr>\n",
       "      <td>2</td>\n",
       "      <td>3668-QPYBK</td>\n",
       "      <td>2019-10-01</td>\n",
       "      <td>2019-12-01</td>\n",
       "      <td>Month-to-month</td>\n",
       "      <td>Yes</td>\n",
       "      <td>Mailed check</td>\n",
       "      <td>53.85</td>\n",
       "      <td>108.15</td>\n",
       "      <td>Male</td>\n",
       "      <td>0</td>\n",
       "      <td>No</td>\n",
       "      <td>No</td>\n",
       "      <td>DSL</td>\n",
       "      <td>Yes</td>\n",
       "      <td>Yes</td>\n",
       "      <td>No</td>\n",
       "      <td>No</td>\n",
       "      <td>No</td>\n",
       "      <td>No</td>\n",
       "      <td>No</td>\n",
       "    </tr>\n",
       "    <tr>\n",
       "      <td>3</td>\n",
       "      <td>7795-CFOCW</td>\n",
       "      <td>2016-05-01</td>\n",
       "      <td>NaT</td>\n",
       "      <td>One year</td>\n",
       "      <td>No</td>\n",
       "      <td>Bank transfer (automatic)</td>\n",
       "      <td>42.30</td>\n",
       "      <td>1840.75</td>\n",
       "      <td>Male</td>\n",
       "      <td>0</td>\n",
       "      <td>No</td>\n",
       "      <td>No</td>\n",
       "      <td>DSL</td>\n",
       "      <td>Yes</td>\n",
       "      <td>No</td>\n",
       "      <td>Yes</td>\n",
       "      <td>Yes</td>\n",
       "      <td>No</td>\n",
       "      <td>No</td>\n",
       "      <td>No service</td>\n",
       "    </tr>\n",
       "    <tr>\n",
       "      <td>4</td>\n",
       "      <td>9237-HQITU</td>\n",
       "      <td>2019-09-01</td>\n",
       "      <td>2019-11-01</td>\n",
       "      <td>Month-to-month</td>\n",
       "      <td>Yes</td>\n",
       "      <td>Electronic check</td>\n",
       "      <td>70.70</td>\n",
       "      <td>151.65</td>\n",
       "      <td>Female</td>\n",
       "      <td>0</td>\n",
       "      <td>No</td>\n",
       "      <td>No</td>\n",
       "      <td>Fiber optic</td>\n",
       "      <td>No</td>\n",
       "      <td>No</td>\n",
       "      <td>No</td>\n",
       "      <td>No</td>\n",
       "      <td>No</td>\n",
       "      <td>No</td>\n",
       "      <td>No</td>\n",
       "    </tr>\n",
       "  </tbody>\n",
       "</table>\n",
       "</div>"
      ],
      "text/plain": [
       "   customerID  BeginDate    EndDate            Type PaperlessBilling  \\\n",
       "0  7590-VHVEG 2020-01-01        NaT  Month-to-month              Yes   \n",
       "1  5575-GNVDE 2017-04-01        NaT        One year               No   \n",
       "2  3668-QPYBK 2019-10-01 2019-12-01  Month-to-month              Yes   \n",
       "3  7795-CFOCW 2016-05-01        NaT        One year               No   \n",
       "4  9237-HQITU 2019-09-01 2019-11-01  Month-to-month              Yes   \n",
       "\n",
       "               PaymentMethod  MonthlyCharges  TotalCharges  gender  \\\n",
       "0           Electronic check           29.85         29.85  Female   \n",
       "1               Mailed check           56.95       1889.50    Male   \n",
       "2               Mailed check           53.85        108.15    Male   \n",
       "3  Bank transfer (automatic)           42.30       1840.75    Male   \n",
       "4           Electronic check           70.70        151.65  Female   \n",
       "\n",
       "   SeniorCitizen Partner Dependents InternetService OnlineSecurity  \\\n",
       "0              0     Yes         No             DSL             No   \n",
       "1              0      No         No             DSL            Yes   \n",
       "2              0      No         No             DSL            Yes   \n",
       "3              0      No         No             DSL            Yes   \n",
       "4              0      No         No     Fiber optic             No   \n",
       "\n",
       "  OnlineBackup DeviceProtection TechSupport StreamingTV StreamingMovies  \\\n",
       "0          Yes               No          No          No              No   \n",
       "1           No              Yes          No          No              No   \n",
       "2          Yes               No          No          No              No   \n",
       "3           No              Yes         Yes          No              No   \n",
       "4           No               No          No          No              No   \n",
       "\n",
       "  MultipleLines  \n",
       "0    No service  \n",
       "1            No  \n",
       "2            No  \n",
       "3    No service  \n",
       "4            No  "
      ]
     },
     "execution_count": 27,
     "metadata": {},
     "output_type": "execute_result"
    }
   ],
   "source": [
    "df.head()"
   ]
  },
  {
   "cell_type": "code",
   "execution_count": 28,
   "metadata": {},
   "outputs": [
    {
     "name": "stdout",
     "output_type": "stream",
     "text": [
      "<class 'pandas.core.frame.DataFrame'>\n",
      "Int64Index: 7043 entries, 0 to 7042\n",
      "Data columns (total 20 columns):\n",
      "customerID          7043 non-null object\n",
      "BeginDate           7043 non-null datetime64[ns]\n",
      "EndDate             1869 non-null datetime64[ns]\n",
      "Type                7043 non-null object\n",
      "PaperlessBilling    7043 non-null object\n",
      "PaymentMethod       7043 non-null object\n",
      "MonthlyCharges      7043 non-null float64\n",
      "TotalCharges        7032 non-null float64\n",
      "gender              7043 non-null object\n",
      "SeniorCitizen       7043 non-null int64\n",
      "Partner             7043 non-null object\n",
      "Dependents          7043 non-null object\n",
      "InternetService     7043 non-null object\n",
      "OnlineSecurity      7043 non-null object\n",
      "OnlineBackup        7043 non-null object\n",
      "DeviceProtection    7043 non-null object\n",
      "TechSupport         7043 non-null object\n",
      "StreamingTV         7043 non-null object\n",
      "StreamingMovies     7043 non-null object\n",
      "MultipleLines       7043 non-null object\n",
      "dtypes: datetime64[ns](2), float64(2), int64(1), object(15)\n",
      "memory usage: 1.1+ MB\n"
     ]
    }
   ],
   "source": [
    "df.info()"
   ]
  },
  {
   "cell_type": "markdown",
   "metadata": {},
   "source": [
    "Количественные признаки не удалось преобразовать методом astype, скорее всего были строковые значения ' '. Посмотрим на пропуски:"
   ]
  },
  {
   "cell_type": "code",
   "execution_count": 29,
   "metadata": {},
   "outputs": [
    {
     "data": {
      "text/html": [
       "<div>\n",
       "<style scoped>\n",
       "    .dataframe tbody tr th:only-of-type {\n",
       "        vertical-align: middle;\n",
       "    }\n",
       "\n",
       "    .dataframe tbody tr th {\n",
       "        vertical-align: top;\n",
       "    }\n",
       "\n",
       "    .dataframe thead th {\n",
       "        text-align: right;\n",
       "    }\n",
       "</style>\n",
       "<table border=\"1\" class=\"dataframe\">\n",
       "  <thead>\n",
       "    <tr style=\"text-align: right;\">\n",
       "      <th></th>\n",
       "      <th>customerID</th>\n",
       "      <th>BeginDate</th>\n",
       "      <th>EndDate</th>\n",
       "      <th>Type</th>\n",
       "      <th>PaperlessBilling</th>\n",
       "      <th>PaymentMethod</th>\n",
       "      <th>MonthlyCharges</th>\n",
       "      <th>TotalCharges</th>\n",
       "      <th>gender</th>\n",
       "      <th>SeniorCitizen</th>\n",
       "      <th>Partner</th>\n",
       "      <th>Dependents</th>\n",
       "      <th>InternetService</th>\n",
       "      <th>OnlineSecurity</th>\n",
       "      <th>OnlineBackup</th>\n",
       "      <th>DeviceProtection</th>\n",
       "      <th>TechSupport</th>\n",
       "      <th>StreamingTV</th>\n",
       "      <th>StreamingMovies</th>\n",
       "      <th>MultipleLines</th>\n",
       "    </tr>\n",
       "  </thead>\n",
       "  <tbody>\n",
       "    <tr>\n",
       "      <td>488</td>\n",
       "      <td>4472-LVYGI</td>\n",
       "      <td>2020-02-01</td>\n",
       "      <td>NaT</td>\n",
       "      <td>Two year</td>\n",
       "      <td>Yes</td>\n",
       "      <td>Bank transfer (automatic)</td>\n",
       "      <td>52.55</td>\n",
       "      <td>NaN</td>\n",
       "      <td>Female</td>\n",
       "      <td>0</td>\n",
       "      <td>Yes</td>\n",
       "      <td>Yes</td>\n",
       "      <td>DSL</td>\n",
       "      <td>Yes</td>\n",
       "      <td>No</td>\n",
       "      <td>Yes</td>\n",
       "      <td>Yes</td>\n",
       "      <td>Yes</td>\n",
       "      <td>No</td>\n",
       "      <td>No service</td>\n",
       "    </tr>\n",
       "    <tr>\n",
       "      <td>753</td>\n",
       "      <td>3115-CZMZD</td>\n",
       "      <td>2020-02-01</td>\n",
       "      <td>NaT</td>\n",
       "      <td>Two year</td>\n",
       "      <td>No</td>\n",
       "      <td>Mailed check</td>\n",
       "      <td>20.25</td>\n",
       "      <td>NaN</td>\n",
       "      <td>Male</td>\n",
       "      <td>0</td>\n",
       "      <td>No</td>\n",
       "      <td>Yes</td>\n",
       "      <td>No service</td>\n",
       "      <td>No service</td>\n",
       "      <td>No service</td>\n",
       "      <td>No service</td>\n",
       "      <td>No service</td>\n",
       "      <td>No service</td>\n",
       "      <td>No service</td>\n",
       "      <td>No</td>\n",
       "    </tr>\n",
       "    <tr>\n",
       "      <td>936</td>\n",
       "      <td>5709-LVOEQ</td>\n",
       "      <td>2020-02-01</td>\n",
       "      <td>NaT</td>\n",
       "      <td>Two year</td>\n",
       "      <td>No</td>\n",
       "      <td>Mailed check</td>\n",
       "      <td>80.85</td>\n",
       "      <td>NaN</td>\n",
       "      <td>Female</td>\n",
       "      <td>0</td>\n",
       "      <td>Yes</td>\n",
       "      <td>Yes</td>\n",
       "      <td>DSL</td>\n",
       "      <td>Yes</td>\n",
       "      <td>Yes</td>\n",
       "      <td>Yes</td>\n",
       "      <td>No</td>\n",
       "      <td>Yes</td>\n",
       "      <td>Yes</td>\n",
       "      <td>No</td>\n",
       "    </tr>\n",
       "    <tr>\n",
       "      <td>1082</td>\n",
       "      <td>4367-NUYAO</td>\n",
       "      <td>2020-02-01</td>\n",
       "      <td>NaT</td>\n",
       "      <td>Two year</td>\n",
       "      <td>No</td>\n",
       "      <td>Mailed check</td>\n",
       "      <td>25.75</td>\n",
       "      <td>NaN</td>\n",
       "      <td>Male</td>\n",
       "      <td>0</td>\n",
       "      <td>Yes</td>\n",
       "      <td>Yes</td>\n",
       "      <td>No service</td>\n",
       "      <td>No service</td>\n",
       "      <td>No service</td>\n",
       "      <td>No service</td>\n",
       "      <td>No service</td>\n",
       "      <td>No service</td>\n",
       "      <td>No service</td>\n",
       "      <td>Yes</td>\n",
       "    </tr>\n",
       "    <tr>\n",
       "      <td>1340</td>\n",
       "      <td>1371-DWPAZ</td>\n",
       "      <td>2020-02-01</td>\n",
       "      <td>NaT</td>\n",
       "      <td>Two year</td>\n",
       "      <td>No</td>\n",
       "      <td>Credit card (automatic)</td>\n",
       "      <td>56.05</td>\n",
       "      <td>NaN</td>\n",
       "      <td>Female</td>\n",
       "      <td>0</td>\n",
       "      <td>Yes</td>\n",
       "      <td>Yes</td>\n",
       "      <td>DSL</td>\n",
       "      <td>Yes</td>\n",
       "      <td>Yes</td>\n",
       "      <td>Yes</td>\n",
       "      <td>Yes</td>\n",
       "      <td>Yes</td>\n",
       "      <td>No</td>\n",
       "      <td>No service</td>\n",
       "    </tr>\n",
       "    <tr>\n",
       "      <td>3331</td>\n",
       "      <td>7644-OMVMY</td>\n",
       "      <td>2020-02-01</td>\n",
       "      <td>NaT</td>\n",
       "      <td>Two year</td>\n",
       "      <td>No</td>\n",
       "      <td>Mailed check</td>\n",
       "      <td>19.85</td>\n",
       "      <td>NaN</td>\n",
       "      <td>Male</td>\n",
       "      <td>0</td>\n",
       "      <td>Yes</td>\n",
       "      <td>Yes</td>\n",
       "      <td>No service</td>\n",
       "      <td>No service</td>\n",
       "      <td>No service</td>\n",
       "      <td>No service</td>\n",
       "      <td>No service</td>\n",
       "      <td>No service</td>\n",
       "      <td>No service</td>\n",
       "      <td>No</td>\n",
       "    </tr>\n",
       "    <tr>\n",
       "      <td>3826</td>\n",
       "      <td>3213-VVOLG</td>\n",
       "      <td>2020-02-01</td>\n",
       "      <td>NaT</td>\n",
       "      <td>Two year</td>\n",
       "      <td>No</td>\n",
       "      <td>Mailed check</td>\n",
       "      <td>25.35</td>\n",
       "      <td>NaN</td>\n",
       "      <td>Male</td>\n",
       "      <td>0</td>\n",
       "      <td>Yes</td>\n",
       "      <td>Yes</td>\n",
       "      <td>No service</td>\n",
       "      <td>No service</td>\n",
       "      <td>No service</td>\n",
       "      <td>No service</td>\n",
       "      <td>No service</td>\n",
       "      <td>No service</td>\n",
       "      <td>No service</td>\n",
       "      <td>Yes</td>\n",
       "    </tr>\n",
       "    <tr>\n",
       "      <td>4380</td>\n",
       "      <td>2520-SGTTA</td>\n",
       "      <td>2020-02-01</td>\n",
       "      <td>NaT</td>\n",
       "      <td>Two year</td>\n",
       "      <td>No</td>\n",
       "      <td>Mailed check</td>\n",
       "      <td>20.00</td>\n",
       "      <td>NaN</td>\n",
       "      <td>Female</td>\n",
       "      <td>0</td>\n",
       "      <td>Yes</td>\n",
       "      <td>Yes</td>\n",
       "      <td>No service</td>\n",
       "      <td>No service</td>\n",
       "      <td>No service</td>\n",
       "      <td>No service</td>\n",
       "      <td>No service</td>\n",
       "      <td>No service</td>\n",
       "      <td>No service</td>\n",
       "      <td>No</td>\n",
       "    </tr>\n",
       "    <tr>\n",
       "      <td>5218</td>\n",
       "      <td>2923-ARZLG</td>\n",
       "      <td>2020-02-01</td>\n",
       "      <td>NaT</td>\n",
       "      <td>One year</td>\n",
       "      <td>Yes</td>\n",
       "      <td>Mailed check</td>\n",
       "      <td>19.70</td>\n",
       "      <td>NaN</td>\n",
       "      <td>Male</td>\n",
       "      <td>0</td>\n",
       "      <td>Yes</td>\n",
       "      <td>Yes</td>\n",
       "      <td>No service</td>\n",
       "      <td>No service</td>\n",
       "      <td>No service</td>\n",
       "      <td>No service</td>\n",
       "      <td>No service</td>\n",
       "      <td>No service</td>\n",
       "      <td>No service</td>\n",
       "      <td>No</td>\n",
       "    </tr>\n",
       "    <tr>\n",
       "      <td>6670</td>\n",
       "      <td>4075-WKNIU</td>\n",
       "      <td>2020-02-01</td>\n",
       "      <td>NaT</td>\n",
       "      <td>Two year</td>\n",
       "      <td>No</td>\n",
       "      <td>Mailed check</td>\n",
       "      <td>73.35</td>\n",
       "      <td>NaN</td>\n",
       "      <td>Female</td>\n",
       "      <td>0</td>\n",
       "      <td>Yes</td>\n",
       "      <td>Yes</td>\n",
       "      <td>DSL</td>\n",
       "      <td>No</td>\n",
       "      <td>Yes</td>\n",
       "      <td>Yes</td>\n",
       "      <td>Yes</td>\n",
       "      <td>Yes</td>\n",
       "      <td>No</td>\n",
       "      <td>Yes</td>\n",
       "    </tr>\n",
       "    <tr>\n",
       "      <td>6754</td>\n",
       "      <td>2775-SEFEE</td>\n",
       "      <td>2020-02-01</td>\n",
       "      <td>NaT</td>\n",
       "      <td>Two year</td>\n",
       "      <td>Yes</td>\n",
       "      <td>Bank transfer (automatic)</td>\n",
       "      <td>61.90</td>\n",
       "      <td>NaN</td>\n",
       "      <td>Male</td>\n",
       "      <td>0</td>\n",
       "      <td>No</td>\n",
       "      <td>Yes</td>\n",
       "      <td>DSL</td>\n",
       "      <td>Yes</td>\n",
       "      <td>Yes</td>\n",
       "      <td>No</td>\n",
       "      <td>Yes</td>\n",
       "      <td>No</td>\n",
       "      <td>No</td>\n",
       "      <td>Yes</td>\n",
       "    </tr>\n",
       "  </tbody>\n",
       "</table>\n",
       "</div>"
      ],
      "text/plain": [
       "      customerID  BeginDate EndDate      Type PaperlessBilling  \\\n",
       "488   4472-LVYGI 2020-02-01     NaT  Two year              Yes   \n",
       "753   3115-CZMZD 2020-02-01     NaT  Two year               No   \n",
       "936   5709-LVOEQ 2020-02-01     NaT  Two year               No   \n",
       "1082  4367-NUYAO 2020-02-01     NaT  Two year               No   \n",
       "1340  1371-DWPAZ 2020-02-01     NaT  Two year               No   \n",
       "3331  7644-OMVMY 2020-02-01     NaT  Two year               No   \n",
       "3826  3213-VVOLG 2020-02-01     NaT  Two year               No   \n",
       "4380  2520-SGTTA 2020-02-01     NaT  Two year               No   \n",
       "5218  2923-ARZLG 2020-02-01     NaT  One year              Yes   \n",
       "6670  4075-WKNIU 2020-02-01     NaT  Two year               No   \n",
       "6754  2775-SEFEE 2020-02-01     NaT  Two year              Yes   \n",
       "\n",
       "                  PaymentMethod  MonthlyCharges  TotalCharges  gender  \\\n",
       "488   Bank transfer (automatic)           52.55           NaN  Female   \n",
       "753                Mailed check           20.25           NaN    Male   \n",
       "936                Mailed check           80.85           NaN  Female   \n",
       "1082               Mailed check           25.75           NaN    Male   \n",
       "1340    Credit card (automatic)           56.05           NaN  Female   \n",
       "3331               Mailed check           19.85           NaN    Male   \n",
       "3826               Mailed check           25.35           NaN    Male   \n",
       "4380               Mailed check           20.00           NaN  Female   \n",
       "5218               Mailed check           19.70           NaN    Male   \n",
       "6670               Mailed check           73.35           NaN  Female   \n",
       "6754  Bank transfer (automatic)           61.90           NaN    Male   \n",
       "\n",
       "      SeniorCitizen Partner Dependents InternetService OnlineSecurity  \\\n",
       "488               0     Yes        Yes             DSL            Yes   \n",
       "753               0      No        Yes      No service     No service   \n",
       "936               0     Yes        Yes             DSL            Yes   \n",
       "1082              0     Yes        Yes      No service     No service   \n",
       "1340              0     Yes        Yes             DSL            Yes   \n",
       "3331              0     Yes        Yes      No service     No service   \n",
       "3826              0     Yes        Yes      No service     No service   \n",
       "4380              0     Yes        Yes      No service     No service   \n",
       "5218              0     Yes        Yes      No service     No service   \n",
       "6670              0     Yes        Yes             DSL             No   \n",
       "6754              0      No        Yes             DSL            Yes   \n",
       "\n",
       "     OnlineBackup DeviceProtection TechSupport StreamingTV StreamingMovies  \\\n",
       "488            No              Yes         Yes         Yes              No   \n",
       "753    No service       No service  No service  No service      No service   \n",
       "936           Yes              Yes          No         Yes             Yes   \n",
       "1082   No service       No service  No service  No service      No service   \n",
       "1340          Yes              Yes         Yes         Yes              No   \n",
       "3331   No service       No service  No service  No service      No service   \n",
       "3826   No service       No service  No service  No service      No service   \n",
       "4380   No service       No service  No service  No service      No service   \n",
       "5218   No service       No service  No service  No service      No service   \n",
       "6670          Yes              Yes         Yes         Yes              No   \n",
       "6754          Yes               No         Yes          No              No   \n",
       "\n",
       "     MultipleLines  \n",
       "488     No service  \n",
       "753             No  \n",
       "936             No  \n",
       "1082           Yes  \n",
       "1340    No service  \n",
       "3331            No  \n",
       "3826           Yes  \n",
       "4380            No  \n",
       "5218            No  \n",
       "6670           Yes  \n",
       "6754           Yes  "
      ]
     },
     "execution_count": 29,
     "metadata": {},
     "output_type": "execute_result"
    }
   ],
   "source": [
    "df.query('TotalCharges.isna()')"
   ]
  },
  {
   "cell_type": "markdown",
   "metadata": {},
   "source": [
    "Отфильтруем юзеров, которые начали пользоваться услугами компании в феврале 2020:"
   ]
  },
  {
   "cell_type": "code",
   "execution_count": 30,
   "metadata": {},
   "outputs": [
    {
     "data": {
      "text/html": [
       "<div>\n",
       "<style scoped>\n",
       "    .dataframe tbody tr th:only-of-type {\n",
       "        vertical-align: middle;\n",
       "    }\n",
       "\n",
       "    .dataframe tbody tr th {\n",
       "        vertical-align: top;\n",
       "    }\n",
       "\n",
       "    .dataframe thead th {\n",
       "        text-align: right;\n",
       "    }\n",
       "</style>\n",
       "<table border=\"1\" class=\"dataframe\">\n",
       "  <thead>\n",
       "    <tr style=\"text-align: right;\">\n",
       "      <th></th>\n",
       "      <th>customerID</th>\n",
       "      <th>BeginDate</th>\n",
       "      <th>EndDate</th>\n",
       "      <th>Type</th>\n",
       "      <th>PaperlessBilling</th>\n",
       "      <th>PaymentMethod</th>\n",
       "      <th>MonthlyCharges</th>\n",
       "      <th>TotalCharges</th>\n",
       "      <th>gender</th>\n",
       "      <th>SeniorCitizen</th>\n",
       "      <th>Partner</th>\n",
       "      <th>Dependents</th>\n",
       "      <th>InternetService</th>\n",
       "      <th>OnlineSecurity</th>\n",
       "      <th>OnlineBackup</th>\n",
       "      <th>DeviceProtection</th>\n",
       "      <th>TechSupport</th>\n",
       "      <th>StreamingTV</th>\n",
       "      <th>StreamingMovies</th>\n",
       "      <th>MultipleLines</th>\n",
       "    </tr>\n",
       "  </thead>\n",
       "  <tbody>\n",
       "    <tr>\n",
       "      <td>488</td>\n",
       "      <td>4472-LVYGI</td>\n",
       "      <td>2020-02-01</td>\n",
       "      <td>NaT</td>\n",
       "      <td>Two year</td>\n",
       "      <td>Yes</td>\n",
       "      <td>Bank transfer (automatic)</td>\n",
       "      <td>52.55</td>\n",
       "      <td>NaN</td>\n",
       "      <td>Female</td>\n",
       "      <td>0</td>\n",
       "      <td>Yes</td>\n",
       "      <td>Yes</td>\n",
       "      <td>DSL</td>\n",
       "      <td>Yes</td>\n",
       "      <td>No</td>\n",
       "      <td>Yes</td>\n",
       "      <td>Yes</td>\n",
       "      <td>Yes</td>\n",
       "      <td>No</td>\n",
       "      <td>No service</td>\n",
       "    </tr>\n",
       "    <tr>\n",
       "      <td>753</td>\n",
       "      <td>3115-CZMZD</td>\n",
       "      <td>2020-02-01</td>\n",
       "      <td>NaT</td>\n",
       "      <td>Two year</td>\n",
       "      <td>No</td>\n",
       "      <td>Mailed check</td>\n",
       "      <td>20.25</td>\n",
       "      <td>NaN</td>\n",
       "      <td>Male</td>\n",
       "      <td>0</td>\n",
       "      <td>No</td>\n",
       "      <td>Yes</td>\n",
       "      <td>No service</td>\n",
       "      <td>No service</td>\n",
       "      <td>No service</td>\n",
       "      <td>No service</td>\n",
       "      <td>No service</td>\n",
       "      <td>No service</td>\n",
       "      <td>No service</td>\n",
       "      <td>No</td>\n",
       "    </tr>\n",
       "    <tr>\n",
       "      <td>936</td>\n",
       "      <td>5709-LVOEQ</td>\n",
       "      <td>2020-02-01</td>\n",
       "      <td>NaT</td>\n",
       "      <td>Two year</td>\n",
       "      <td>No</td>\n",
       "      <td>Mailed check</td>\n",
       "      <td>80.85</td>\n",
       "      <td>NaN</td>\n",
       "      <td>Female</td>\n",
       "      <td>0</td>\n",
       "      <td>Yes</td>\n",
       "      <td>Yes</td>\n",
       "      <td>DSL</td>\n",
       "      <td>Yes</td>\n",
       "      <td>Yes</td>\n",
       "      <td>Yes</td>\n",
       "      <td>No</td>\n",
       "      <td>Yes</td>\n",
       "      <td>Yes</td>\n",
       "      <td>No</td>\n",
       "    </tr>\n",
       "    <tr>\n",
       "      <td>1082</td>\n",
       "      <td>4367-NUYAO</td>\n",
       "      <td>2020-02-01</td>\n",
       "      <td>NaT</td>\n",
       "      <td>Two year</td>\n",
       "      <td>No</td>\n",
       "      <td>Mailed check</td>\n",
       "      <td>25.75</td>\n",
       "      <td>NaN</td>\n",
       "      <td>Male</td>\n",
       "      <td>0</td>\n",
       "      <td>Yes</td>\n",
       "      <td>Yes</td>\n",
       "      <td>No service</td>\n",
       "      <td>No service</td>\n",
       "      <td>No service</td>\n",
       "      <td>No service</td>\n",
       "      <td>No service</td>\n",
       "      <td>No service</td>\n",
       "      <td>No service</td>\n",
       "      <td>Yes</td>\n",
       "    </tr>\n",
       "    <tr>\n",
       "      <td>1340</td>\n",
       "      <td>1371-DWPAZ</td>\n",
       "      <td>2020-02-01</td>\n",
       "      <td>NaT</td>\n",
       "      <td>Two year</td>\n",
       "      <td>No</td>\n",
       "      <td>Credit card (automatic)</td>\n",
       "      <td>56.05</td>\n",
       "      <td>NaN</td>\n",
       "      <td>Female</td>\n",
       "      <td>0</td>\n",
       "      <td>Yes</td>\n",
       "      <td>Yes</td>\n",
       "      <td>DSL</td>\n",
       "      <td>Yes</td>\n",
       "      <td>Yes</td>\n",
       "      <td>Yes</td>\n",
       "      <td>Yes</td>\n",
       "      <td>Yes</td>\n",
       "      <td>No</td>\n",
       "      <td>No service</td>\n",
       "    </tr>\n",
       "    <tr>\n",
       "      <td>3331</td>\n",
       "      <td>7644-OMVMY</td>\n",
       "      <td>2020-02-01</td>\n",
       "      <td>NaT</td>\n",
       "      <td>Two year</td>\n",
       "      <td>No</td>\n",
       "      <td>Mailed check</td>\n",
       "      <td>19.85</td>\n",
       "      <td>NaN</td>\n",
       "      <td>Male</td>\n",
       "      <td>0</td>\n",
       "      <td>Yes</td>\n",
       "      <td>Yes</td>\n",
       "      <td>No service</td>\n",
       "      <td>No service</td>\n",
       "      <td>No service</td>\n",
       "      <td>No service</td>\n",
       "      <td>No service</td>\n",
       "      <td>No service</td>\n",
       "      <td>No service</td>\n",
       "      <td>No</td>\n",
       "    </tr>\n",
       "    <tr>\n",
       "      <td>3826</td>\n",
       "      <td>3213-VVOLG</td>\n",
       "      <td>2020-02-01</td>\n",
       "      <td>NaT</td>\n",
       "      <td>Two year</td>\n",
       "      <td>No</td>\n",
       "      <td>Mailed check</td>\n",
       "      <td>25.35</td>\n",
       "      <td>NaN</td>\n",
       "      <td>Male</td>\n",
       "      <td>0</td>\n",
       "      <td>Yes</td>\n",
       "      <td>Yes</td>\n",
       "      <td>No service</td>\n",
       "      <td>No service</td>\n",
       "      <td>No service</td>\n",
       "      <td>No service</td>\n",
       "      <td>No service</td>\n",
       "      <td>No service</td>\n",
       "      <td>No service</td>\n",
       "      <td>Yes</td>\n",
       "    </tr>\n",
       "    <tr>\n",
       "      <td>4380</td>\n",
       "      <td>2520-SGTTA</td>\n",
       "      <td>2020-02-01</td>\n",
       "      <td>NaT</td>\n",
       "      <td>Two year</td>\n",
       "      <td>No</td>\n",
       "      <td>Mailed check</td>\n",
       "      <td>20.00</td>\n",
       "      <td>NaN</td>\n",
       "      <td>Female</td>\n",
       "      <td>0</td>\n",
       "      <td>Yes</td>\n",
       "      <td>Yes</td>\n",
       "      <td>No service</td>\n",
       "      <td>No service</td>\n",
       "      <td>No service</td>\n",
       "      <td>No service</td>\n",
       "      <td>No service</td>\n",
       "      <td>No service</td>\n",
       "      <td>No service</td>\n",
       "      <td>No</td>\n",
       "    </tr>\n",
       "    <tr>\n",
       "      <td>5218</td>\n",
       "      <td>2923-ARZLG</td>\n",
       "      <td>2020-02-01</td>\n",
       "      <td>NaT</td>\n",
       "      <td>One year</td>\n",
       "      <td>Yes</td>\n",
       "      <td>Mailed check</td>\n",
       "      <td>19.70</td>\n",
       "      <td>NaN</td>\n",
       "      <td>Male</td>\n",
       "      <td>0</td>\n",
       "      <td>Yes</td>\n",
       "      <td>Yes</td>\n",
       "      <td>No service</td>\n",
       "      <td>No service</td>\n",
       "      <td>No service</td>\n",
       "      <td>No service</td>\n",
       "      <td>No service</td>\n",
       "      <td>No service</td>\n",
       "      <td>No service</td>\n",
       "      <td>No</td>\n",
       "    </tr>\n",
       "    <tr>\n",
       "      <td>6670</td>\n",
       "      <td>4075-WKNIU</td>\n",
       "      <td>2020-02-01</td>\n",
       "      <td>NaT</td>\n",
       "      <td>Two year</td>\n",
       "      <td>No</td>\n",
       "      <td>Mailed check</td>\n",
       "      <td>73.35</td>\n",
       "      <td>NaN</td>\n",
       "      <td>Female</td>\n",
       "      <td>0</td>\n",
       "      <td>Yes</td>\n",
       "      <td>Yes</td>\n",
       "      <td>DSL</td>\n",
       "      <td>No</td>\n",
       "      <td>Yes</td>\n",
       "      <td>Yes</td>\n",
       "      <td>Yes</td>\n",
       "      <td>Yes</td>\n",
       "      <td>No</td>\n",
       "      <td>Yes</td>\n",
       "    </tr>\n",
       "    <tr>\n",
       "      <td>6754</td>\n",
       "      <td>2775-SEFEE</td>\n",
       "      <td>2020-02-01</td>\n",
       "      <td>NaT</td>\n",
       "      <td>Two year</td>\n",
       "      <td>Yes</td>\n",
       "      <td>Bank transfer (automatic)</td>\n",
       "      <td>61.90</td>\n",
       "      <td>NaN</td>\n",
       "      <td>Male</td>\n",
       "      <td>0</td>\n",
       "      <td>No</td>\n",
       "      <td>Yes</td>\n",
       "      <td>DSL</td>\n",
       "      <td>Yes</td>\n",
       "      <td>Yes</td>\n",
       "      <td>No</td>\n",
       "      <td>Yes</td>\n",
       "      <td>No</td>\n",
       "      <td>No</td>\n",
       "      <td>Yes</td>\n",
       "    </tr>\n",
       "  </tbody>\n",
       "</table>\n",
       "</div>"
      ],
      "text/plain": [
       "      customerID  BeginDate EndDate      Type PaperlessBilling  \\\n",
       "488   4472-LVYGI 2020-02-01     NaT  Two year              Yes   \n",
       "753   3115-CZMZD 2020-02-01     NaT  Two year               No   \n",
       "936   5709-LVOEQ 2020-02-01     NaT  Two year               No   \n",
       "1082  4367-NUYAO 2020-02-01     NaT  Two year               No   \n",
       "1340  1371-DWPAZ 2020-02-01     NaT  Two year               No   \n",
       "3331  7644-OMVMY 2020-02-01     NaT  Two year               No   \n",
       "3826  3213-VVOLG 2020-02-01     NaT  Two year               No   \n",
       "4380  2520-SGTTA 2020-02-01     NaT  Two year               No   \n",
       "5218  2923-ARZLG 2020-02-01     NaT  One year              Yes   \n",
       "6670  4075-WKNIU 2020-02-01     NaT  Two year               No   \n",
       "6754  2775-SEFEE 2020-02-01     NaT  Two year              Yes   \n",
       "\n",
       "                  PaymentMethod  MonthlyCharges  TotalCharges  gender  \\\n",
       "488   Bank transfer (automatic)           52.55           NaN  Female   \n",
       "753                Mailed check           20.25           NaN    Male   \n",
       "936                Mailed check           80.85           NaN  Female   \n",
       "1082               Mailed check           25.75           NaN    Male   \n",
       "1340    Credit card (automatic)           56.05           NaN  Female   \n",
       "3331               Mailed check           19.85           NaN    Male   \n",
       "3826               Mailed check           25.35           NaN    Male   \n",
       "4380               Mailed check           20.00           NaN  Female   \n",
       "5218               Mailed check           19.70           NaN    Male   \n",
       "6670               Mailed check           73.35           NaN  Female   \n",
       "6754  Bank transfer (automatic)           61.90           NaN    Male   \n",
       "\n",
       "      SeniorCitizen Partner Dependents InternetService OnlineSecurity  \\\n",
       "488               0     Yes        Yes             DSL            Yes   \n",
       "753               0      No        Yes      No service     No service   \n",
       "936               0     Yes        Yes             DSL            Yes   \n",
       "1082              0     Yes        Yes      No service     No service   \n",
       "1340              0     Yes        Yes             DSL            Yes   \n",
       "3331              0     Yes        Yes      No service     No service   \n",
       "3826              0     Yes        Yes      No service     No service   \n",
       "4380              0     Yes        Yes      No service     No service   \n",
       "5218              0     Yes        Yes      No service     No service   \n",
       "6670              0     Yes        Yes             DSL             No   \n",
       "6754              0      No        Yes             DSL            Yes   \n",
       "\n",
       "     OnlineBackup DeviceProtection TechSupport StreamingTV StreamingMovies  \\\n",
       "488            No              Yes         Yes         Yes              No   \n",
       "753    No service       No service  No service  No service      No service   \n",
       "936           Yes              Yes          No         Yes             Yes   \n",
       "1082   No service       No service  No service  No service      No service   \n",
       "1340          Yes              Yes         Yes         Yes              No   \n",
       "3331   No service       No service  No service  No service      No service   \n",
       "3826   No service       No service  No service  No service      No service   \n",
       "4380   No service       No service  No service  No service      No service   \n",
       "5218   No service       No service  No service  No service      No service   \n",
       "6670          Yes              Yes         Yes         Yes              No   \n",
       "6754          Yes               No         Yes          No              No   \n",
       "\n",
       "     MultipleLines  \n",
       "488     No service  \n",
       "753             No  \n",
       "936             No  \n",
       "1082           Yes  \n",
       "1340    No service  \n",
       "3331            No  \n",
       "3826           Yes  \n",
       "4380            No  \n",
       "5218            No  \n",
       "6670           Yes  \n",
       "6754           Yes  "
      ]
     },
     "execution_count": 30,
     "metadata": {},
     "output_type": "execute_result"
    }
   ],
   "source": [
    "df.query('BeginDate == \"2020-02-01\"')"
   ]
  },
  {
   "cell_type": "markdown",
   "metadata": {},
   "source": [
    "Все клиенты из данного среза пришли в компанию в феврале 2020. Т.к. выгрузка актуальна на 1 февраля 2020, общий платеж по этим клиентам скорее всего ещё не размечен системой. В таком случае заполним пропуски ежемесячным платежом:"
   ]
  },
  {
   "cell_type": "code",
   "execution_count": 31,
   "metadata": {},
   "outputs": [],
   "source": [
    "df['TotalCharges'] = df['TotalCharges'].fillna(df['MonthlyCharges'])"
   ]
  },
  {
   "cell_type": "markdown",
   "metadata": {},
   "source": [
    "Изменим тип данных на категориальный:"
   ]
  },
  {
   "cell_type": "code",
   "execution_count": 32,
   "metadata": {},
   "outputs": [],
   "source": [
    "df['SeniorCitizen'] = df['SeniorCitizen'].astype('object')"
   ]
  },
  {
   "cell_type": "markdown",
   "metadata": {},
   "source": [
    "Приведем данные к одному виду и заменим 1/0 на Yes/No:"
   ]
  },
  {
   "cell_type": "code",
   "execution_count": 33,
   "metadata": {},
   "outputs": [],
   "source": [
    "df.replace({'SeniorCitizen': {0:'No', 1:'Yes'}}, inplace=True)"
   ]
  },
  {
   "cell_type": "markdown",
   "metadata": {},
   "source": [
    "Посмотрим, что получилось:"
   ]
  },
  {
   "cell_type": "code",
   "execution_count": 34,
   "metadata": {},
   "outputs": [
    {
     "data": {
      "text/html": [
       "<div>\n",
       "<style scoped>\n",
       "    .dataframe tbody tr th:only-of-type {\n",
       "        vertical-align: middle;\n",
       "    }\n",
       "\n",
       "    .dataframe tbody tr th {\n",
       "        vertical-align: top;\n",
       "    }\n",
       "\n",
       "    .dataframe thead th {\n",
       "        text-align: right;\n",
       "    }\n",
       "</style>\n",
       "<table border=\"1\" class=\"dataframe\">\n",
       "  <thead>\n",
       "    <tr style=\"text-align: right;\">\n",
       "      <th></th>\n",
       "      <th>customerID</th>\n",
       "      <th>BeginDate</th>\n",
       "      <th>EndDate</th>\n",
       "      <th>Type</th>\n",
       "      <th>PaperlessBilling</th>\n",
       "      <th>PaymentMethod</th>\n",
       "      <th>MonthlyCharges</th>\n",
       "      <th>TotalCharges</th>\n",
       "      <th>gender</th>\n",
       "      <th>SeniorCitizen</th>\n",
       "      <th>Partner</th>\n",
       "      <th>Dependents</th>\n",
       "      <th>InternetService</th>\n",
       "      <th>OnlineSecurity</th>\n",
       "      <th>OnlineBackup</th>\n",
       "      <th>DeviceProtection</th>\n",
       "      <th>TechSupport</th>\n",
       "      <th>StreamingTV</th>\n",
       "      <th>StreamingMovies</th>\n",
       "      <th>MultipleLines</th>\n",
       "    </tr>\n",
       "  </thead>\n",
       "  <tbody>\n",
       "    <tr>\n",
       "      <td>0</td>\n",
       "      <td>7590-VHVEG</td>\n",
       "      <td>2020-01-01</td>\n",
       "      <td>NaT</td>\n",
       "      <td>Month-to-month</td>\n",
       "      <td>Yes</td>\n",
       "      <td>Electronic check</td>\n",
       "      <td>29.85</td>\n",
       "      <td>29.85</td>\n",
       "      <td>Female</td>\n",
       "      <td>No</td>\n",
       "      <td>Yes</td>\n",
       "      <td>No</td>\n",
       "      <td>DSL</td>\n",
       "      <td>No</td>\n",
       "      <td>Yes</td>\n",
       "      <td>No</td>\n",
       "      <td>No</td>\n",
       "      <td>No</td>\n",
       "      <td>No</td>\n",
       "      <td>No service</td>\n",
       "    </tr>\n",
       "    <tr>\n",
       "      <td>1</td>\n",
       "      <td>5575-GNVDE</td>\n",
       "      <td>2017-04-01</td>\n",
       "      <td>NaT</td>\n",
       "      <td>One year</td>\n",
       "      <td>No</td>\n",
       "      <td>Mailed check</td>\n",
       "      <td>56.95</td>\n",
       "      <td>1889.50</td>\n",
       "      <td>Male</td>\n",
       "      <td>No</td>\n",
       "      <td>No</td>\n",
       "      <td>No</td>\n",
       "      <td>DSL</td>\n",
       "      <td>Yes</td>\n",
       "      <td>No</td>\n",
       "      <td>Yes</td>\n",
       "      <td>No</td>\n",
       "      <td>No</td>\n",
       "      <td>No</td>\n",
       "      <td>No</td>\n",
       "    </tr>\n",
       "    <tr>\n",
       "      <td>2</td>\n",
       "      <td>3668-QPYBK</td>\n",
       "      <td>2019-10-01</td>\n",
       "      <td>2019-12-01</td>\n",
       "      <td>Month-to-month</td>\n",
       "      <td>Yes</td>\n",
       "      <td>Mailed check</td>\n",
       "      <td>53.85</td>\n",
       "      <td>108.15</td>\n",
       "      <td>Male</td>\n",
       "      <td>No</td>\n",
       "      <td>No</td>\n",
       "      <td>No</td>\n",
       "      <td>DSL</td>\n",
       "      <td>Yes</td>\n",
       "      <td>Yes</td>\n",
       "      <td>No</td>\n",
       "      <td>No</td>\n",
       "      <td>No</td>\n",
       "      <td>No</td>\n",
       "      <td>No</td>\n",
       "    </tr>\n",
       "    <tr>\n",
       "      <td>3</td>\n",
       "      <td>7795-CFOCW</td>\n",
       "      <td>2016-05-01</td>\n",
       "      <td>NaT</td>\n",
       "      <td>One year</td>\n",
       "      <td>No</td>\n",
       "      <td>Bank transfer (automatic)</td>\n",
       "      <td>42.30</td>\n",
       "      <td>1840.75</td>\n",
       "      <td>Male</td>\n",
       "      <td>No</td>\n",
       "      <td>No</td>\n",
       "      <td>No</td>\n",
       "      <td>DSL</td>\n",
       "      <td>Yes</td>\n",
       "      <td>No</td>\n",
       "      <td>Yes</td>\n",
       "      <td>Yes</td>\n",
       "      <td>No</td>\n",
       "      <td>No</td>\n",
       "      <td>No service</td>\n",
       "    </tr>\n",
       "    <tr>\n",
       "      <td>4</td>\n",
       "      <td>9237-HQITU</td>\n",
       "      <td>2019-09-01</td>\n",
       "      <td>2019-11-01</td>\n",
       "      <td>Month-to-month</td>\n",
       "      <td>Yes</td>\n",
       "      <td>Electronic check</td>\n",
       "      <td>70.70</td>\n",
       "      <td>151.65</td>\n",
       "      <td>Female</td>\n",
       "      <td>No</td>\n",
       "      <td>No</td>\n",
       "      <td>No</td>\n",
       "      <td>Fiber optic</td>\n",
       "      <td>No</td>\n",
       "      <td>No</td>\n",
       "      <td>No</td>\n",
       "      <td>No</td>\n",
       "      <td>No</td>\n",
       "      <td>No</td>\n",
       "      <td>No</td>\n",
       "    </tr>\n",
       "  </tbody>\n",
       "</table>\n",
       "</div>"
      ],
      "text/plain": [
       "   customerID  BeginDate    EndDate            Type PaperlessBilling  \\\n",
       "0  7590-VHVEG 2020-01-01        NaT  Month-to-month              Yes   \n",
       "1  5575-GNVDE 2017-04-01        NaT        One year               No   \n",
       "2  3668-QPYBK 2019-10-01 2019-12-01  Month-to-month              Yes   \n",
       "3  7795-CFOCW 2016-05-01        NaT        One year               No   \n",
       "4  9237-HQITU 2019-09-01 2019-11-01  Month-to-month              Yes   \n",
       "\n",
       "               PaymentMethod  MonthlyCharges  TotalCharges  gender  \\\n",
       "0           Electronic check           29.85         29.85  Female   \n",
       "1               Mailed check           56.95       1889.50    Male   \n",
       "2               Mailed check           53.85        108.15    Male   \n",
       "3  Bank transfer (automatic)           42.30       1840.75    Male   \n",
       "4           Electronic check           70.70        151.65  Female   \n",
       "\n",
       "  SeniorCitizen Partner Dependents InternetService OnlineSecurity  \\\n",
       "0            No     Yes         No             DSL             No   \n",
       "1            No      No         No             DSL            Yes   \n",
       "2            No      No         No             DSL            Yes   \n",
       "3            No      No         No             DSL            Yes   \n",
       "4            No      No         No     Fiber optic             No   \n",
       "\n",
       "  OnlineBackup DeviceProtection TechSupport StreamingTV StreamingMovies  \\\n",
       "0          Yes               No          No          No              No   \n",
       "1           No              Yes          No          No              No   \n",
       "2          Yes               No          No          No              No   \n",
       "3           No              Yes         Yes          No              No   \n",
       "4           No               No          No          No              No   \n",
       "\n",
       "  MultipleLines  \n",
       "0    No service  \n",
       "1            No  \n",
       "2            No  \n",
       "3    No service  \n",
       "4            No  "
      ]
     },
     "execution_count": 34,
     "metadata": {},
     "output_type": "execute_result"
    }
   ],
   "source": [
    "df.head()"
   ]
  },
  {
   "cell_type": "code",
   "execution_count": 35,
   "metadata": {},
   "outputs": [
    {
     "name": "stdout",
     "output_type": "stream",
     "text": [
      "<class 'pandas.core.frame.DataFrame'>\n",
      "Int64Index: 7043 entries, 0 to 7042\n",
      "Data columns (total 20 columns):\n",
      "customerID          7043 non-null object\n",
      "BeginDate           7043 non-null datetime64[ns]\n",
      "EndDate             1869 non-null datetime64[ns]\n",
      "Type                7043 non-null object\n",
      "PaperlessBilling    7043 non-null object\n",
      "PaymentMethod       7043 non-null object\n",
      "MonthlyCharges      7043 non-null float64\n",
      "TotalCharges        7043 non-null float64\n",
      "gender              7043 non-null object\n",
      "SeniorCitizen       7043 non-null object\n",
      "Partner             7043 non-null object\n",
      "Dependents          7043 non-null object\n",
      "InternetService     7043 non-null object\n",
      "OnlineSecurity      7043 non-null object\n",
      "OnlineBackup        7043 non-null object\n",
      "DeviceProtection    7043 non-null object\n",
      "TechSupport         7043 non-null object\n",
      "StreamingTV         7043 non-null object\n",
      "StreamingMovies     7043 non-null object\n",
      "MultipleLines       7043 non-null object\n",
      "dtypes: datetime64[ns](2), float64(2), object(16)\n",
      "memory usage: 1.1+ MB\n"
     ]
    }
   ],
   "source": [
    "df.info()"
   ]
  },
  {
   "cell_type": "markdown",
   "metadata": {},
   "source": [
    "Получим числовое описание данных:"
   ]
  },
  {
   "cell_type": "code",
   "execution_count": 36,
   "metadata": {},
   "outputs": [
    {
     "data": {
      "text/html": [
       "<div>\n",
       "<style scoped>\n",
       "    .dataframe tbody tr th:only-of-type {\n",
       "        vertical-align: middle;\n",
       "    }\n",
       "\n",
       "    .dataframe tbody tr th {\n",
       "        vertical-align: top;\n",
       "    }\n",
       "\n",
       "    .dataframe thead th {\n",
       "        text-align: right;\n",
       "    }\n",
       "</style>\n",
       "<table border=\"1\" class=\"dataframe\">\n",
       "  <thead>\n",
       "    <tr style=\"text-align: right;\">\n",
       "      <th></th>\n",
       "      <th>MonthlyCharges</th>\n",
       "      <th>TotalCharges</th>\n",
       "    </tr>\n",
       "  </thead>\n",
       "  <tbody>\n",
       "    <tr>\n",
       "      <td>count</td>\n",
       "      <td>7043.000000</td>\n",
       "      <td>7043.000000</td>\n",
       "    </tr>\n",
       "    <tr>\n",
       "      <td>mean</td>\n",
       "      <td>64.761692</td>\n",
       "      <td>2279.798992</td>\n",
       "    </tr>\n",
       "    <tr>\n",
       "      <td>std</td>\n",
       "      <td>30.090047</td>\n",
       "      <td>2266.730170</td>\n",
       "    </tr>\n",
       "    <tr>\n",
       "      <td>min</td>\n",
       "      <td>18.250000</td>\n",
       "      <td>18.800000</td>\n",
       "    </tr>\n",
       "    <tr>\n",
       "      <td>25%</td>\n",
       "      <td>35.500000</td>\n",
       "      <td>398.550000</td>\n",
       "    </tr>\n",
       "    <tr>\n",
       "      <td>50%</td>\n",
       "      <td>70.350000</td>\n",
       "      <td>1394.550000</td>\n",
       "    </tr>\n",
       "    <tr>\n",
       "      <td>75%</td>\n",
       "      <td>89.850000</td>\n",
       "      <td>3786.600000</td>\n",
       "    </tr>\n",
       "    <tr>\n",
       "      <td>max</td>\n",
       "      <td>118.750000</td>\n",
       "      <td>8684.800000</td>\n",
       "    </tr>\n",
       "  </tbody>\n",
       "</table>\n",
       "</div>"
      ],
      "text/plain": [
       "       MonthlyCharges  TotalCharges\n",
       "count     7043.000000   7043.000000\n",
       "mean        64.761692   2279.798992\n",
       "std         30.090047   2266.730170\n",
       "min         18.250000     18.800000\n",
       "25%         35.500000    398.550000\n",
       "50%         70.350000   1394.550000\n",
       "75%         89.850000   3786.600000\n",
       "max        118.750000   8684.800000"
      ]
     },
     "execution_count": 36,
     "metadata": {},
     "output_type": "execute_result"
    }
   ],
   "source": [
    "df.describe()"
   ]
  },
  {
   "cell_type": "markdown",
   "metadata": {},
   "source": [
    "Посмотрим уникальные значения в строках:"
   ]
  },
  {
   "cell_type": "code",
   "execution_count": 37,
   "metadata": {},
   "outputs": [
    {
     "data": {
      "text/plain": [
       "Month-to-month    3875\n",
       "Two year          1695\n",
       "One year          1473\n",
       "Name: Type, dtype: int64"
      ]
     },
     "execution_count": 37,
     "metadata": {},
     "output_type": "execute_result"
    }
   ],
   "source": [
    "df['Type'].value_counts()"
   ]
  },
  {
   "cell_type": "code",
   "execution_count": 38,
   "metadata": {},
   "outputs": [
    {
     "data": {
      "text/plain": [
       "Yes    4171\n",
       "No     2872\n",
       "Name: PaperlessBilling, dtype: int64"
      ]
     },
     "execution_count": 38,
     "metadata": {},
     "output_type": "execute_result"
    }
   ],
   "source": [
    "df['PaperlessBilling'].value_counts()"
   ]
  },
  {
   "cell_type": "code",
   "execution_count": 39,
   "metadata": {},
   "outputs": [
    {
     "data": {
      "text/plain": [
       "Electronic check             2365\n",
       "Mailed check                 1612\n",
       "Bank transfer (automatic)    1544\n",
       "Credit card (automatic)      1522\n",
       "Name: PaymentMethod, dtype: int64"
      ]
     },
     "execution_count": 39,
     "metadata": {},
     "output_type": "execute_result"
    }
   ],
   "source": [
    "df['PaymentMethod'].value_counts()"
   ]
  },
  {
   "cell_type": "code",
   "execution_count": 40,
   "metadata": {},
   "outputs": [
    {
     "data": {
      "text/plain": [
       "Male      3555\n",
       "Female    3488\n",
       "Name: gender, dtype: int64"
      ]
     },
     "execution_count": 40,
     "metadata": {},
     "output_type": "execute_result"
    }
   ],
   "source": [
    "df['gender'].value_counts()"
   ]
  },
  {
   "cell_type": "code",
   "execution_count": 41,
   "metadata": {},
   "outputs": [
    {
     "data": {
      "text/plain": [
       "No     5901\n",
       "Yes    1142\n",
       "Name: SeniorCitizen, dtype: int64"
      ]
     },
     "execution_count": 41,
     "metadata": {},
     "output_type": "execute_result"
    }
   ],
   "source": [
    "df['SeniorCitizen'].value_counts()"
   ]
  },
  {
   "cell_type": "code",
   "execution_count": 42,
   "metadata": {},
   "outputs": [
    {
     "data": {
      "text/plain": [
       "No     3641\n",
       "Yes    3402\n",
       "Name: Partner, dtype: int64"
      ]
     },
     "execution_count": 42,
     "metadata": {},
     "output_type": "execute_result"
    }
   ],
   "source": [
    "df['Partner'].value_counts()"
   ]
  },
  {
   "cell_type": "code",
   "execution_count": 43,
   "metadata": {},
   "outputs": [
    {
     "data": {
      "text/plain": [
       "No     4933\n",
       "Yes    2110\n",
       "Name: Dependents, dtype: int64"
      ]
     },
     "execution_count": 43,
     "metadata": {},
     "output_type": "execute_result"
    }
   ],
   "source": [
    "df['Dependents'].value_counts()"
   ]
  },
  {
   "cell_type": "code",
   "execution_count": 44,
   "metadata": {},
   "outputs": [
    {
     "data": {
      "text/plain": [
       "Fiber optic    3096\n",
       "DSL            2421\n",
       "No service     1526\n",
       "Name: InternetService, dtype: int64"
      ]
     },
     "execution_count": 44,
     "metadata": {},
     "output_type": "execute_result"
    }
   ],
   "source": [
    "df['InternetService'].value_counts()"
   ]
  },
  {
   "cell_type": "code",
   "execution_count": 45,
   "metadata": {},
   "outputs": [
    {
     "data": {
      "text/plain": [
       "No            3498\n",
       "Yes           2019\n",
       "No service    1526\n",
       "Name: OnlineSecurity, dtype: int64"
      ]
     },
     "execution_count": 45,
     "metadata": {},
     "output_type": "execute_result"
    }
   ],
   "source": [
    "df['OnlineSecurity'].value_counts()"
   ]
  },
  {
   "cell_type": "code",
   "execution_count": 46,
   "metadata": {},
   "outputs": [
    {
     "data": {
      "text/plain": [
       "No            3088\n",
       "Yes           2429\n",
       "No service    1526\n",
       "Name: OnlineBackup, dtype: int64"
      ]
     },
     "execution_count": 46,
     "metadata": {},
     "output_type": "execute_result"
    }
   ],
   "source": [
    "df['OnlineBackup'].value_counts()"
   ]
  },
  {
   "cell_type": "code",
   "execution_count": 47,
   "metadata": {},
   "outputs": [
    {
     "data": {
      "text/plain": [
       "No            3095\n",
       "Yes           2422\n",
       "No service    1526\n",
       "Name: DeviceProtection, dtype: int64"
      ]
     },
     "execution_count": 47,
     "metadata": {},
     "output_type": "execute_result"
    }
   ],
   "source": [
    "df['DeviceProtection'].value_counts()"
   ]
  },
  {
   "cell_type": "code",
   "execution_count": 48,
   "metadata": {},
   "outputs": [
    {
     "data": {
      "text/plain": [
       "No            3473\n",
       "Yes           2044\n",
       "No service    1526\n",
       "Name: TechSupport, dtype: int64"
      ]
     },
     "execution_count": 48,
     "metadata": {},
     "output_type": "execute_result"
    }
   ],
   "source": [
    "df['TechSupport'].value_counts()"
   ]
  },
  {
   "cell_type": "code",
   "execution_count": 49,
   "metadata": {},
   "outputs": [
    {
     "data": {
      "text/plain": [
       "No            2810\n",
       "Yes           2707\n",
       "No service    1526\n",
       "Name: StreamingTV, dtype: int64"
      ]
     },
     "execution_count": 49,
     "metadata": {},
     "output_type": "execute_result"
    }
   ],
   "source": [
    "df['StreamingTV'].value_counts()"
   ]
  },
  {
   "cell_type": "code",
   "execution_count": 50,
   "metadata": {},
   "outputs": [
    {
     "data": {
      "text/plain": [
       "No            2785\n",
       "Yes           2732\n",
       "No service    1526\n",
       "Name: StreamingMovies, dtype: int64"
      ]
     },
     "execution_count": 50,
     "metadata": {},
     "output_type": "execute_result"
    }
   ],
   "source": [
    "df['StreamingMovies'].value_counts()"
   ]
  },
  {
   "cell_type": "code",
   "execution_count": 51,
   "metadata": {},
   "outputs": [
    {
     "data": {
      "text/plain": [
       "No            3390\n",
       "Yes           2971\n",
       "No service     682\n",
       "Name: MultipleLines, dtype: int64"
      ]
     },
     "execution_count": 51,
     "metadata": {},
     "output_type": "execute_result"
    }
   ],
   "source": [
    "df['MultipleLines'].value_counts()"
   ]
  },
  {
   "cell_type": "markdown",
   "metadata": {},
   "source": [
    "Проверим данные на наличие дубликатов:"
   ]
  },
  {
   "cell_type": "code",
   "execution_count": 52,
   "metadata": {},
   "outputs": [
    {
     "data": {
      "text/plain": [
       "0"
      ]
     },
     "execution_count": 52,
     "metadata": {},
     "output_type": "execute_result"
    }
   ],
   "source": [
    "df.duplicated().sum()"
   ]
  },
  {
   "cell_type": "markdown",
   "metadata": {},
   "source": [
    "Создадим дополнительную фичу - срок \"жизни\" клиента. Т.к. максимальная дата ухода - январь 2020, пропуски можно заполнить актуальной датой и в дальнейшем считать, что актуальная дата в столбце 'EndDate' не является уходом клиента:"
   ]
  },
  {
   "cell_type": "code",
   "execution_count": 53,
   "metadata": {},
   "outputs": [],
   "source": [
    "df['EndDate'].fillna(datetime.datetime(2020, 2, 1), inplace=True)"
   ]
  },
  {
   "cell_type": "code",
   "execution_count": 54,
   "metadata": {},
   "outputs": [
    {
     "data": {
      "text/html": [
       "<div>\n",
       "<style scoped>\n",
       "    .dataframe tbody tr th:only-of-type {\n",
       "        vertical-align: middle;\n",
       "    }\n",
       "\n",
       "    .dataframe tbody tr th {\n",
       "        vertical-align: top;\n",
       "    }\n",
       "\n",
       "    .dataframe thead th {\n",
       "        text-align: right;\n",
       "    }\n",
       "</style>\n",
       "<table border=\"1\" class=\"dataframe\">\n",
       "  <thead>\n",
       "    <tr style=\"text-align: right;\">\n",
       "      <th></th>\n",
       "      <th>customerID</th>\n",
       "      <th>BeginDate</th>\n",
       "      <th>EndDate</th>\n",
       "      <th>Type</th>\n",
       "      <th>PaperlessBilling</th>\n",
       "      <th>PaymentMethod</th>\n",
       "      <th>MonthlyCharges</th>\n",
       "      <th>TotalCharges</th>\n",
       "      <th>gender</th>\n",
       "      <th>SeniorCitizen</th>\n",
       "      <th>Partner</th>\n",
       "      <th>Dependents</th>\n",
       "      <th>InternetService</th>\n",
       "      <th>OnlineSecurity</th>\n",
       "      <th>OnlineBackup</th>\n",
       "      <th>DeviceProtection</th>\n",
       "      <th>TechSupport</th>\n",
       "      <th>StreamingTV</th>\n",
       "      <th>StreamingMovies</th>\n",
       "      <th>MultipleLines</th>\n",
       "    </tr>\n",
       "  </thead>\n",
       "  <tbody>\n",
       "    <tr>\n",
       "      <td>0</td>\n",
       "      <td>7590-VHVEG</td>\n",
       "      <td>2020-01-01</td>\n",
       "      <td>2020-02-01</td>\n",
       "      <td>Month-to-month</td>\n",
       "      <td>Yes</td>\n",
       "      <td>Electronic check</td>\n",
       "      <td>29.85</td>\n",
       "      <td>29.85</td>\n",
       "      <td>Female</td>\n",
       "      <td>No</td>\n",
       "      <td>Yes</td>\n",
       "      <td>No</td>\n",
       "      <td>DSL</td>\n",
       "      <td>No</td>\n",
       "      <td>Yes</td>\n",
       "      <td>No</td>\n",
       "      <td>No</td>\n",
       "      <td>No</td>\n",
       "      <td>No</td>\n",
       "      <td>No service</td>\n",
       "    </tr>\n",
       "    <tr>\n",
       "      <td>1</td>\n",
       "      <td>5575-GNVDE</td>\n",
       "      <td>2017-04-01</td>\n",
       "      <td>2020-02-01</td>\n",
       "      <td>One year</td>\n",
       "      <td>No</td>\n",
       "      <td>Mailed check</td>\n",
       "      <td>56.95</td>\n",
       "      <td>1889.50</td>\n",
       "      <td>Male</td>\n",
       "      <td>No</td>\n",
       "      <td>No</td>\n",
       "      <td>No</td>\n",
       "      <td>DSL</td>\n",
       "      <td>Yes</td>\n",
       "      <td>No</td>\n",
       "      <td>Yes</td>\n",
       "      <td>No</td>\n",
       "      <td>No</td>\n",
       "      <td>No</td>\n",
       "      <td>No</td>\n",
       "    </tr>\n",
       "    <tr>\n",
       "      <td>2</td>\n",
       "      <td>3668-QPYBK</td>\n",
       "      <td>2019-10-01</td>\n",
       "      <td>2019-12-01</td>\n",
       "      <td>Month-to-month</td>\n",
       "      <td>Yes</td>\n",
       "      <td>Mailed check</td>\n",
       "      <td>53.85</td>\n",
       "      <td>108.15</td>\n",
       "      <td>Male</td>\n",
       "      <td>No</td>\n",
       "      <td>No</td>\n",
       "      <td>No</td>\n",
       "      <td>DSL</td>\n",
       "      <td>Yes</td>\n",
       "      <td>Yes</td>\n",
       "      <td>No</td>\n",
       "      <td>No</td>\n",
       "      <td>No</td>\n",
       "      <td>No</td>\n",
       "      <td>No</td>\n",
       "    </tr>\n",
       "    <tr>\n",
       "      <td>3</td>\n",
       "      <td>7795-CFOCW</td>\n",
       "      <td>2016-05-01</td>\n",
       "      <td>2020-02-01</td>\n",
       "      <td>One year</td>\n",
       "      <td>No</td>\n",
       "      <td>Bank transfer (automatic)</td>\n",
       "      <td>42.30</td>\n",
       "      <td>1840.75</td>\n",
       "      <td>Male</td>\n",
       "      <td>No</td>\n",
       "      <td>No</td>\n",
       "      <td>No</td>\n",
       "      <td>DSL</td>\n",
       "      <td>Yes</td>\n",
       "      <td>No</td>\n",
       "      <td>Yes</td>\n",
       "      <td>Yes</td>\n",
       "      <td>No</td>\n",
       "      <td>No</td>\n",
       "      <td>No service</td>\n",
       "    </tr>\n",
       "    <tr>\n",
       "      <td>4</td>\n",
       "      <td>9237-HQITU</td>\n",
       "      <td>2019-09-01</td>\n",
       "      <td>2019-11-01</td>\n",
       "      <td>Month-to-month</td>\n",
       "      <td>Yes</td>\n",
       "      <td>Electronic check</td>\n",
       "      <td>70.70</td>\n",
       "      <td>151.65</td>\n",
       "      <td>Female</td>\n",
       "      <td>No</td>\n",
       "      <td>No</td>\n",
       "      <td>No</td>\n",
       "      <td>Fiber optic</td>\n",
       "      <td>No</td>\n",
       "      <td>No</td>\n",
       "      <td>No</td>\n",
       "      <td>No</td>\n",
       "      <td>No</td>\n",
       "      <td>No</td>\n",
       "      <td>No</td>\n",
       "    </tr>\n",
       "  </tbody>\n",
       "</table>\n",
       "</div>"
      ],
      "text/plain": [
       "   customerID  BeginDate    EndDate            Type PaperlessBilling  \\\n",
       "0  7590-VHVEG 2020-01-01 2020-02-01  Month-to-month              Yes   \n",
       "1  5575-GNVDE 2017-04-01 2020-02-01        One year               No   \n",
       "2  3668-QPYBK 2019-10-01 2019-12-01  Month-to-month              Yes   \n",
       "3  7795-CFOCW 2016-05-01 2020-02-01        One year               No   \n",
       "4  9237-HQITU 2019-09-01 2019-11-01  Month-to-month              Yes   \n",
       "\n",
       "               PaymentMethod  MonthlyCharges  TotalCharges  gender  \\\n",
       "0           Electronic check           29.85         29.85  Female   \n",
       "1               Mailed check           56.95       1889.50    Male   \n",
       "2               Mailed check           53.85        108.15    Male   \n",
       "3  Bank transfer (automatic)           42.30       1840.75    Male   \n",
       "4           Electronic check           70.70        151.65  Female   \n",
       "\n",
       "  SeniorCitizen Partner Dependents InternetService OnlineSecurity  \\\n",
       "0            No     Yes         No             DSL             No   \n",
       "1            No      No         No             DSL            Yes   \n",
       "2            No      No         No             DSL            Yes   \n",
       "3            No      No         No             DSL            Yes   \n",
       "4            No      No         No     Fiber optic             No   \n",
       "\n",
       "  OnlineBackup DeviceProtection TechSupport StreamingTV StreamingMovies  \\\n",
       "0          Yes               No          No          No              No   \n",
       "1           No              Yes          No          No              No   \n",
       "2          Yes               No          No          No              No   \n",
       "3           No              Yes         Yes          No              No   \n",
       "4           No               No          No          No              No   \n",
       "\n",
       "  MultipleLines  \n",
       "0    No service  \n",
       "1            No  \n",
       "2            No  \n",
       "3    No service  \n",
       "4            No  "
      ]
     },
     "execution_count": 54,
     "metadata": {},
     "output_type": "execute_result"
    }
   ],
   "source": [
    "df.head()"
   ]
  },
  {
   "cell_type": "code",
   "execution_count": 55,
   "metadata": {},
   "outputs": [
    {
     "name": "stdout",
     "output_type": "stream",
     "text": [
      "<class 'pandas.core.frame.DataFrame'>\n",
      "Int64Index: 7043 entries, 0 to 7042\n",
      "Data columns (total 20 columns):\n",
      "customerID          7043 non-null object\n",
      "BeginDate           7043 non-null datetime64[ns]\n",
      "EndDate             7043 non-null datetime64[ns]\n",
      "Type                7043 non-null object\n",
      "PaperlessBilling    7043 non-null object\n",
      "PaymentMethod       7043 non-null object\n",
      "MonthlyCharges      7043 non-null float64\n",
      "TotalCharges        7043 non-null float64\n",
      "gender              7043 non-null object\n",
      "SeniorCitizen       7043 non-null object\n",
      "Partner             7043 non-null object\n",
      "Dependents          7043 non-null object\n",
      "InternetService     7043 non-null object\n",
      "OnlineSecurity      7043 non-null object\n",
      "OnlineBackup        7043 non-null object\n",
      "DeviceProtection    7043 non-null object\n",
      "TechSupport         7043 non-null object\n",
      "StreamingTV         7043 non-null object\n",
      "StreamingMovies     7043 non-null object\n",
      "MultipleLines       7043 non-null object\n",
      "dtypes: datetime64[ns](2), float64(2), object(16)\n",
      "memory usage: 1.1+ MB\n"
     ]
    }
   ],
   "source": [
    "df.info()"
   ]
  },
  {
   "cell_type": "markdown",
   "metadata": {},
   "source": [
    "Создадим фичу как разницу между актуальной датой/датой ухода клиента и датой заключения контракта в днях:"
   ]
  },
  {
   "cell_type": "code",
   "execution_count": 56,
   "metadata": {},
   "outputs": [],
   "source": [
    "df['total_days'] = (df['EndDate'] - df['BeginDate']).dt.days"
   ]
  },
  {
   "cell_type": "code",
   "execution_count": 57,
   "metadata": {},
   "outputs": [
    {
     "data": {
      "text/html": [
       "<div>\n",
       "<style scoped>\n",
       "    .dataframe tbody tr th:only-of-type {\n",
       "        vertical-align: middle;\n",
       "    }\n",
       "\n",
       "    .dataframe tbody tr th {\n",
       "        vertical-align: top;\n",
       "    }\n",
       "\n",
       "    .dataframe thead th {\n",
       "        text-align: right;\n",
       "    }\n",
       "</style>\n",
       "<table border=\"1\" class=\"dataframe\">\n",
       "  <thead>\n",
       "    <tr style=\"text-align: right;\">\n",
       "      <th></th>\n",
       "      <th>customerID</th>\n",
       "      <th>BeginDate</th>\n",
       "      <th>EndDate</th>\n",
       "      <th>Type</th>\n",
       "      <th>PaperlessBilling</th>\n",
       "      <th>PaymentMethod</th>\n",
       "      <th>MonthlyCharges</th>\n",
       "      <th>TotalCharges</th>\n",
       "      <th>gender</th>\n",
       "      <th>SeniorCitizen</th>\n",
       "      <th>...</th>\n",
       "      <th>Dependents</th>\n",
       "      <th>InternetService</th>\n",
       "      <th>OnlineSecurity</th>\n",
       "      <th>OnlineBackup</th>\n",
       "      <th>DeviceProtection</th>\n",
       "      <th>TechSupport</th>\n",
       "      <th>StreamingTV</th>\n",
       "      <th>StreamingMovies</th>\n",
       "      <th>MultipleLines</th>\n",
       "      <th>total_days</th>\n",
       "    </tr>\n",
       "  </thead>\n",
       "  <tbody>\n",
       "    <tr>\n",
       "      <td>0</td>\n",
       "      <td>7590-VHVEG</td>\n",
       "      <td>2020-01-01</td>\n",
       "      <td>2020-02-01</td>\n",
       "      <td>Month-to-month</td>\n",
       "      <td>Yes</td>\n",
       "      <td>Electronic check</td>\n",
       "      <td>29.85</td>\n",
       "      <td>29.85</td>\n",
       "      <td>Female</td>\n",
       "      <td>No</td>\n",
       "      <td>...</td>\n",
       "      <td>No</td>\n",
       "      <td>DSL</td>\n",
       "      <td>No</td>\n",
       "      <td>Yes</td>\n",
       "      <td>No</td>\n",
       "      <td>No</td>\n",
       "      <td>No</td>\n",
       "      <td>No</td>\n",
       "      <td>No service</td>\n",
       "      <td>31</td>\n",
       "    </tr>\n",
       "    <tr>\n",
       "      <td>1</td>\n",
       "      <td>5575-GNVDE</td>\n",
       "      <td>2017-04-01</td>\n",
       "      <td>2020-02-01</td>\n",
       "      <td>One year</td>\n",
       "      <td>No</td>\n",
       "      <td>Mailed check</td>\n",
       "      <td>56.95</td>\n",
       "      <td>1889.50</td>\n",
       "      <td>Male</td>\n",
       "      <td>No</td>\n",
       "      <td>...</td>\n",
       "      <td>No</td>\n",
       "      <td>DSL</td>\n",
       "      <td>Yes</td>\n",
       "      <td>No</td>\n",
       "      <td>Yes</td>\n",
       "      <td>No</td>\n",
       "      <td>No</td>\n",
       "      <td>No</td>\n",
       "      <td>No</td>\n",
       "      <td>1036</td>\n",
       "    </tr>\n",
       "    <tr>\n",
       "      <td>2</td>\n",
       "      <td>3668-QPYBK</td>\n",
       "      <td>2019-10-01</td>\n",
       "      <td>2019-12-01</td>\n",
       "      <td>Month-to-month</td>\n",
       "      <td>Yes</td>\n",
       "      <td>Mailed check</td>\n",
       "      <td>53.85</td>\n",
       "      <td>108.15</td>\n",
       "      <td>Male</td>\n",
       "      <td>No</td>\n",
       "      <td>...</td>\n",
       "      <td>No</td>\n",
       "      <td>DSL</td>\n",
       "      <td>Yes</td>\n",
       "      <td>Yes</td>\n",
       "      <td>No</td>\n",
       "      <td>No</td>\n",
       "      <td>No</td>\n",
       "      <td>No</td>\n",
       "      <td>No</td>\n",
       "      <td>61</td>\n",
       "    </tr>\n",
       "    <tr>\n",
       "      <td>3</td>\n",
       "      <td>7795-CFOCW</td>\n",
       "      <td>2016-05-01</td>\n",
       "      <td>2020-02-01</td>\n",
       "      <td>One year</td>\n",
       "      <td>No</td>\n",
       "      <td>Bank transfer (automatic)</td>\n",
       "      <td>42.30</td>\n",
       "      <td>1840.75</td>\n",
       "      <td>Male</td>\n",
       "      <td>No</td>\n",
       "      <td>...</td>\n",
       "      <td>No</td>\n",
       "      <td>DSL</td>\n",
       "      <td>Yes</td>\n",
       "      <td>No</td>\n",
       "      <td>Yes</td>\n",
       "      <td>Yes</td>\n",
       "      <td>No</td>\n",
       "      <td>No</td>\n",
       "      <td>No service</td>\n",
       "      <td>1371</td>\n",
       "    </tr>\n",
       "    <tr>\n",
       "      <td>4</td>\n",
       "      <td>9237-HQITU</td>\n",
       "      <td>2019-09-01</td>\n",
       "      <td>2019-11-01</td>\n",
       "      <td>Month-to-month</td>\n",
       "      <td>Yes</td>\n",
       "      <td>Electronic check</td>\n",
       "      <td>70.70</td>\n",
       "      <td>151.65</td>\n",
       "      <td>Female</td>\n",
       "      <td>No</td>\n",
       "      <td>...</td>\n",
       "      <td>No</td>\n",
       "      <td>Fiber optic</td>\n",
       "      <td>No</td>\n",
       "      <td>No</td>\n",
       "      <td>No</td>\n",
       "      <td>No</td>\n",
       "      <td>No</td>\n",
       "      <td>No</td>\n",
       "      <td>No</td>\n",
       "      <td>61</td>\n",
       "    </tr>\n",
       "  </tbody>\n",
       "</table>\n",
       "<p>5 rows × 21 columns</p>\n",
       "</div>"
      ],
      "text/plain": [
       "   customerID  BeginDate    EndDate            Type PaperlessBilling  \\\n",
       "0  7590-VHVEG 2020-01-01 2020-02-01  Month-to-month              Yes   \n",
       "1  5575-GNVDE 2017-04-01 2020-02-01        One year               No   \n",
       "2  3668-QPYBK 2019-10-01 2019-12-01  Month-to-month              Yes   \n",
       "3  7795-CFOCW 2016-05-01 2020-02-01        One year               No   \n",
       "4  9237-HQITU 2019-09-01 2019-11-01  Month-to-month              Yes   \n",
       "\n",
       "               PaymentMethod  MonthlyCharges  TotalCharges  gender  \\\n",
       "0           Electronic check           29.85         29.85  Female   \n",
       "1               Mailed check           56.95       1889.50    Male   \n",
       "2               Mailed check           53.85        108.15    Male   \n",
       "3  Bank transfer (automatic)           42.30       1840.75    Male   \n",
       "4           Electronic check           70.70        151.65  Female   \n",
       "\n",
       "  SeniorCitizen  ... Dependents InternetService OnlineSecurity OnlineBackup  \\\n",
       "0            No  ...         No             DSL             No          Yes   \n",
       "1            No  ...         No             DSL            Yes           No   \n",
       "2            No  ...         No             DSL            Yes          Yes   \n",
       "3            No  ...         No             DSL            Yes           No   \n",
       "4            No  ...         No     Fiber optic             No           No   \n",
       "\n",
       "  DeviceProtection TechSupport StreamingTV StreamingMovies MultipleLines  \\\n",
       "0               No          No          No              No    No service   \n",
       "1              Yes          No          No              No            No   \n",
       "2               No          No          No              No            No   \n",
       "3              Yes         Yes          No              No    No service   \n",
       "4               No          No          No              No            No   \n",
       "\n",
       "  total_days  \n",
       "0         31  \n",
       "1       1036  \n",
       "2         61  \n",
       "3       1371  \n",
       "4         61  \n",
       "\n",
       "[5 rows x 21 columns]"
      ]
     },
     "execution_count": 57,
     "metadata": {},
     "output_type": "execute_result"
    }
   ],
   "source": [
    "df.head()"
   ]
  },
  {
   "cell_type": "code",
   "execution_count": 58,
   "metadata": {},
   "outputs": [
    {
     "name": "stdout",
     "output_type": "stream",
     "text": [
      "<class 'pandas.core.frame.DataFrame'>\n",
      "Int64Index: 7043 entries, 0 to 7042\n",
      "Data columns (total 21 columns):\n",
      "customerID          7043 non-null object\n",
      "BeginDate           7043 non-null datetime64[ns]\n",
      "EndDate             7043 non-null datetime64[ns]\n",
      "Type                7043 non-null object\n",
      "PaperlessBilling    7043 non-null object\n",
      "PaymentMethod       7043 non-null object\n",
      "MonthlyCharges      7043 non-null float64\n",
      "TotalCharges        7043 non-null float64\n",
      "gender              7043 non-null object\n",
      "SeniorCitizen       7043 non-null object\n",
      "Partner             7043 non-null object\n",
      "Dependents          7043 non-null object\n",
      "InternetService     7043 non-null object\n",
      "OnlineSecurity      7043 non-null object\n",
      "OnlineBackup        7043 non-null object\n",
      "DeviceProtection    7043 non-null object\n",
      "TechSupport         7043 non-null object\n",
      "StreamingTV         7043 non-null object\n",
      "StreamingMovies     7043 non-null object\n",
      "MultipleLines       7043 non-null object\n",
      "total_days          7043 non-null int64\n",
      "dtypes: datetime64[ns](2), float64(2), int64(1), object(16)\n",
      "memory usage: 1.2+ MB\n"
     ]
    }
   ],
   "source": [
    "df.info()"
   ]
  },
  {
   "cell_type": "markdown",
   "metadata": {},
   "source": [
    "Проверим мультиколлинеарность признаков:"
   ]
  },
  {
   "cell_type": "code",
   "execution_count": 59,
   "metadata": {},
   "outputs": [
    {
     "data": {
      "image/png": "[encoded data removed]",
      "text/plain": [
       "<Figure size 432x288 with 2 Axes>"
      ]
     },
     "metadata": {
      "needs_background": "light"
     },
     "output_type": "display_data"
    }
   ],
   "source": [
    "corr_matrix=df.corr()\n",
    "sns.heatmap(corr_matrix, annot=True)\n",
    "plt.xticks(rotation=90)\n",
    "plt.yticks(rotation=360)\n",
    "plt.title('Корреляционная матрица зависимости признаков')\n",
    "plt.show()"
   ]
  },
  {
   "cell_type": "markdown",
   "metadata": {},
   "source": [
    "Создадим таргет:"
   ]
  },
  {
   "cell_type": "code",
   "execution_count": 60,
   "metadata": {},
   "outputs": [],
   "source": [
    "df['target'] = (df['EndDate'] != '2020-02-01') * 1"
   ]
  },
  {
   "cell_type": "code",
   "execution_count": 61,
   "metadata": {},
   "outputs": [
    {
     "data": {
      "text/html": [
       "<div>\n",
       "<style scoped>\n",
       "    .dataframe tbody tr th:only-of-type {\n",
       "        vertical-align: middle;\n",
       "    }\n",
       "\n",
       "    .dataframe tbody tr th {\n",
       "        vertical-align: top;\n",
       "    }\n",
       "\n",
       "    .dataframe thead th {\n",
       "        text-align: right;\n",
       "    }\n",
       "</style>\n",
       "<table border=\"1\" class=\"dataframe\">\n",
       "  <thead>\n",
       "    <tr style=\"text-align: right;\">\n",
       "      <th></th>\n",
       "      <th>customerID</th>\n",
       "      <th>BeginDate</th>\n",
       "      <th>EndDate</th>\n",
       "      <th>Type</th>\n",
       "      <th>PaperlessBilling</th>\n",
       "      <th>PaymentMethod</th>\n",
       "      <th>MonthlyCharges</th>\n",
       "      <th>TotalCharges</th>\n",
       "      <th>gender</th>\n",
       "      <th>SeniorCitizen</th>\n",
       "      <th>...</th>\n",
       "      <th>InternetService</th>\n",
       "      <th>OnlineSecurity</th>\n",
       "      <th>OnlineBackup</th>\n",
       "      <th>DeviceProtection</th>\n",
       "      <th>TechSupport</th>\n",
       "      <th>StreamingTV</th>\n",
       "      <th>StreamingMovies</th>\n",
       "      <th>MultipleLines</th>\n",
       "      <th>total_days</th>\n",
       "      <th>target</th>\n",
       "    </tr>\n",
       "  </thead>\n",
       "  <tbody>\n",
       "    <tr>\n",
       "      <td>0</td>\n",
       "      <td>7590-VHVEG</td>\n",
       "      <td>2020-01-01</td>\n",
       "      <td>2020-02-01</td>\n",
       "      <td>Month-to-month</td>\n",
       "      <td>Yes</td>\n",
       "      <td>Electronic check</td>\n",
       "      <td>29.85</td>\n",
       "      <td>29.85</td>\n",
       "      <td>Female</td>\n",
       "      <td>No</td>\n",
       "      <td>...</td>\n",
       "      <td>DSL</td>\n",
       "      <td>No</td>\n",
       "      <td>Yes</td>\n",
       "      <td>No</td>\n",
       "      <td>No</td>\n",
       "      <td>No</td>\n",
       "      <td>No</td>\n",
       "      <td>No service</td>\n",
       "      <td>31</td>\n",
       "      <td>0</td>\n",
       "    </tr>\n",
       "    <tr>\n",
       "      <td>1</td>\n",
       "      <td>5575-GNVDE</td>\n",
       "      <td>2017-04-01</td>\n",
       "      <td>2020-02-01</td>\n",
       "      <td>One year</td>\n",
       "      <td>No</td>\n",
       "      <td>Mailed check</td>\n",
       "      <td>56.95</td>\n",
       "      <td>1889.50</td>\n",
       "      <td>Male</td>\n",
       "      <td>No</td>\n",
       "      <td>...</td>\n",
       "      <td>DSL</td>\n",
       "      <td>Yes</td>\n",
       "      <td>No</td>\n",
       "      <td>Yes</td>\n",
       "      <td>No</td>\n",
       "      <td>No</td>\n",
       "      <td>No</td>\n",
       "      <td>No</td>\n",
       "      <td>1036</td>\n",
       "      <td>0</td>\n",
       "    </tr>\n",
       "    <tr>\n",
       "      <td>2</td>\n",
       "      <td>3668-QPYBK</td>\n",
       "      <td>2019-10-01</td>\n",
       "      <td>2019-12-01</td>\n",
       "      <td>Month-to-month</td>\n",
       "      <td>Yes</td>\n",
       "      <td>Mailed check</td>\n",
       "      <td>53.85</td>\n",
       "      <td>108.15</td>\n",
       "      <td>Male</td>\n",
       "      <td>No</td>\n",
       "      <td>...</td>\n",
       "      <td>DSL</td>\n",
       "      <td>Yes</td>\n",
       "      <td>Yes</td>\n",
       "      <td>No</td>\n",
       "      <td>No</td>\n",
       "      <td>No</td>\n",
       "      <td>No</td>\n",
       "      <td>No</td>\n",
       "      <td>61</td>\n",
       "      <td>1</td>\n",
       "    </tr>\n",
       "    <tr>\n",
       "      <td>3</td>\n",
       "      <td>7795-CFOCW</td>\n",
       "      <td>2016-05-01</td>\n",
       "      <td>2020-02-01</td>\n",
       "      <td>One year</td>\n",
       "      <td>No</td>\n",
       "      <td>Bank transfer (automatic)</td>\n",
       "      <td>42.30</td>\n",
       "      <td>1840.75</td>\n",
       "      <td>Male</td>\n",
       "      <td>No</td>\n",
       "      <td>...</td>\n",
       "      <td>DSL</td>\n",
       "      <td>Yes</td>\n",
       "      <td>No</td>\n",
       "      <td>Yes</td>\n",
       "      <td>Yes</td>\n",
       "      <td>No</td>\n",
       "      <td>No</td>\n",
       "      <td>No service</td>\n",
       "      <td>1371</td>\n",
       "      <td>0</td>\n",
       "    </tr>\n",
       "    <tr>\n",
       "      <td>4</td>\n",
       "      <td>9237-HQITU</td>\n",
       "      <td>2019-09-01</td>\n",
       "      <td>2019-11-01</td>\n",
       "      <td>Month-to-month</td>\n",
       "      <td>Yes</td>\n",
       "      <td>Electronic check</td>\n",
       "      <td>70.70</td>\n",
       "      <td>151.65</td>\n",
       "      <td>Female</td>\n",
       "      <td>No</td>\n",
       "      <td>...</td>\n",
       "      <td>Fiber optic</td>\n",
       "      <td>No</td>\n",
       "      <td>No</td>\n",
       "      <td>No</td>\n",
       "      <td>No</td>\n",
       "      <td>No</td>\n",
       "      <td>No</td>\n",
       "      <td>No</td>\n",
       "      <td>61</td>\n",
       "      <td>1</td>\n",
       "    </tr>\n",
       "  </tbody>\n",
       "</table>\n",
       "<p>5 rows × 22 columns</p>\n",
       "</div>"
      ],
      "text/plain": [
       "   customerID  BeginDate    EndDate            Type PaperlessBilling  \\\n",
       "0  7590-VHVEG 2020-01-01 2020-02-01  Month-to-month              Yes   \n",
       "1  5575-GNVDE 2017-04-01 2020-02-01        One year               No   \n",
       "2  3668-QPYBK 2019-10-01 2019-12-01  Month-to-month              Yes   \n",
       "3  7795-CFOCW 2016-05-01 2020-02-01        One year               No   \n",
       "4  9237-HQITU 2019-09-01 2019-11-01  Month-to-month              Yes   \n",
       "\n",
       "               PaymentMethod  MonthlyCharges  TotalCharges  gender  \\\n",
       "0           Electronic check           29.85         29.85  Female   \n",
       "1               Mailed check           56.95       1889.50    Male   \n",
       "2               Mailed check           53.85        108.15    Male   \n",
       "3  Bank transfer (automatic)           42.30       1840.75    Male   \n",
       "4           Electronic check           70.70        151.65  Female   \n",
       "\n",
       "  SeniorCitizen  ... InternetService OnlineSecurity OnlineBackup  \\\n",
       "0            No  ...             DSL             No          Yes   \n",
       "1            No  ...             DSL            Yes           No   \n",
       "2            No  ...             DSL            Yes          Yes   \n",
       "3            No  ...             DSL            Yes           No   \n",
       "4            No  ...     Fiber optic             No           No   \n",
       "\n",
       "  DeviceProtection TechSupport StreamingTV StreamingMovies MultipleLines  \\\n",
       "0               No          No          No              No    No service   \n",
       "1              Yes          No          No              No            No   \n",
       "2               No          No          No              No            No   \n",
       "3              Yes         Yes          No              No    No service   \n",
       "4               No          No          No              No            No   \n",
       "\n",
       "  total_days target  \n",
       "0         31      0  \n",
       "1       1036      0  \n",
       "2         61      1  \n",
       "3       1371      0  \n",
       "4         61      1  \n",
       "\n",
       "[5 rows x 22 columns]"
      ]
     },
     "execution_count": 61,
     "metadata": {},
     "output_type": "execute_result"
    }
   ],
   "source": [
    "df.head()"
   ]
  },
  {
   "cell_type": "code",
   "execution_count": 62,
   "metadata": {},
   "outputs": [
    {
     "name": "stdout",
     "output_type": "stream",
     "text": [
      "<class 'pandas.core.frame.DataFrame'>\n",
      "Int64Index: 7043 entries, 0 to 7042\n",
      "Data columns (total 22 columns):\n",
      "customerID          7043 non-null object\n",
      "BeginDate           7043 non-null datetime64[ns]\n",
      "EndDate             7043 non-null datetime64[ns]\n",
      "Type                7043 non-null object\n",
      "PaperlessBilling    7043 non-null object\n",
      "PaymentMethod       7043 non-null object\n",
      "MonthlyCharges      7043 non-null float64\n",
      "TotalCharges        7043 non-null float64\n",
      "gender              7043 non-null object\n",
      "SeniorCitizen       7043 non-null object\n",
      "Partner             7043 non-null object\n",
      "Dependents          7043 non-null object\n",
      "InternetService     7043 non-null object\n",
      "OnlineSecurity      7043 non-null object\n",
      "OnlineBackup        7043 non-null object\n",
      "DeviceProtection    7043 non-null object\n",
      "TechSupport         7043 non-null object\n",
      "StreamingTV         7043 non-null object\n",
      "StreamingMovies     7043 non-null object\n",
      "MultipleLines       7043 non-null object\n",
      "total_days          7043 non-null int64\n",
      "target              7043 non-null int64\n",
      "dtypes: datetime64[ns](2), float64(2), int64(2), object(16)\n",
      "memory usage: 1.2+ MB\n"
     ]
    }
   ],
   "source": [
    "df.info()"
   ]
  },
  {
   "cell_type": "markdown",
   "metadata": {},
   "source": [
    "Посмотрим баланс классов:"
   ]
  },
  {
   "cell_type": "code",
   "execution_count": 63,
   "metadata": {},
   "outputs": [
    {
     "data": {
      "text/plain": [
       "0    0.73463\n",
       "1    0.26537\n",
       "Name: target, dtype: float64"
      ]
     },
     "execution_count": 63,
     "metadata": {},
     "output_type": "execute_result"
    }
   ],
   "source": [
    "df['target'].value_counts(normalize=True)"
   ]
  },
  {
   "cell_type": "markdown",
   "metadata": {},
   "source": [
    "**Вывод:**\n",
    "\n",
    "Провели замену типов данных и техническое заполнение пропусков значением 'No service' в случаях, когда клиент не использует одну из услуг.\n",
    "\n",
    "Пропуски по общим платежам заполнены значениями текущих платежей, т.к. эти пропуски есть только у тех клиентов, которые пришли в феврале 2020 и совершили один ежемесячный платеж соответственно. \n",
    "\n",
    "Аномалий и дубликатов в данных нет.\n",
    "\n",
    "Классы не сбалансированны.\n",
    "\n",
    "Высокая корреляционная зависимость между общим платежом по клиенту и общим сроком \"жизни\" клиента, при обучении моделей будем использовать только дополнительную фичу. Чтобы не допустить утечки целевого признака при обучении моделей не будем использовать даты заключения и расторжения договора. Код клиента не несет информативной нагрузки и к признакам так же не относится."
   ]
  },
  {
   "cell_type": "markdown",
   "metadata": {},
   "source": [
    "# Подготовка обучающих данных"
   ]
  },
  {
   "cell_type": "markdown",
   "metadata": {},
   "source": [
    "Разделим данные на обучающую, валидационную и тестовую выборки в соотношении 60:20:20:"
   ]
  },
  {
   "cell_type": "code",
   "execution_count": 64,
   "metadata": {},
   "outputs": [],
   "source": [
    "train, test = train_test_split(df, test_size=0.2, random_state=42, stratify=df['target'])"
   ]
  },
  {
   "cell_type": "code",
   "execution_count": 65,
   "metadata": {},
   "outputs": [],
   "source": [
    "train, valid = train_test_split(train, test_size=0.25, random_state=42, stratify=train['target'])"
   ]
  },
  {
   "cell_type": "markdown",
   "metadata": {},
   "source": [
    "Проверим размеры данных и баланс классов:"
   ]
  },
  {
   "cell_type": "code",
   "execution_count": 66,
   "metadata": {},
   "outputs": [
    {
     "data": {
      "text/plain": [
       "((4225, 22), (1409, 22), (1409, 22))"
      ]
     },
     "execution_count": 66,
     "metadata": {},
     "output_type": "execute_result"
    }
   ],
   "source": [
    "train.shape, valid.shape, test.shape"
   ]
  },
  {
   "cell_type": "code",
   "execution_count": 67,
   "metadata": {},
   "outputs": [
    {
     "data": {
      "text/plain": [
       "0    0.734675\n",
       "1    0.265325\n",
       "Name: target, dtype: float64"
      ]
     },
     "execution_count": 67,
     "metadata": {},
     "output_type": "execute_result"
    }
   ],
   "source": [
    "train['target'].value_counts(normalize=True)"
   ]
  },
  {
   "cell_type": "code",
   "execution_count": 68,
   "metadata": {},
   "outputs": [
    {
     "data": {
      "text/plain": [
       "0    0.734564\n",
       "1    0.265436\n",
       "Name: target, dtype: float64"
      ]
     },
     "execution_count": 68,
     "metadata": {},
     "output_type": "execute_result"
    }
   ],
   "source": [
    "valid['target'].value_counts(normalize=True)"
   ]
  },
  {
   "cell_type": "code",
   "execution_count": 69,
   "metadata": {},
   "outputs": [
    {
     "data": {
      "text/plain": [
       "0    0.734564\n",
       "1    0.265436\n",
       "Name: target, dtype: float64"
      ]
     },
     "execution_count": 69,
     "metadata": {},
     "output_type": "execute_result"
    }
   ],
   "source": [
    "test['target'].value_counts(normalize=True)"
   ]
  },
  {
   "cell_type": "markdown",
   "metadata": {},
   "source": [
    "Определим признаки и целелевой признак:"
   ]
  },
  {
   "cell_type": "code",
   "execution_count": 70,
   "metadata": {},
   "outputs": [],
   "source": [
    "features_train = train.drop(['customerID', 'BeginDate', 'EndDate', 'TotalCharges', 'target'], axis=1)"
   ]
  },
  {
   "cell_type": "code",
   "execution_count": 71,
   "metadata": {},
   "outputs": [],
   "source": [
    "features_valid = valid.drop(['customerID', 'BeginDate', 'EndDate', 'TotalCharges', 'target'], axis=1)"
   ]
  },
  {
   "cell_type": "code",
   "execution_count": 72,
   "metadata": {},
   "outputs": [],
   "source": [
    "features_test = test.drop(['customerID', 'BeginDate', 'EndDate', 'TotalCharges', 'target'], axis=1)"
   ]
  },
  {
   "cell_type": "code",
   "execution_count": 73,
   "metadata": {},
   "outputs": [],
   "source": [
    "target_train = train['target']"
   ]
  },
  {
   "cell_type": "code",
   "execution_count": 74,
   "metadata": {},
   "outputs": [],
   "source": [
    "target_valid = valid['target']"
   ]
  },
  {
   "cell_type": "code",
   "execution_count": 75,
   "metadata": {},
   "outputs": [],
   "source": [
    "target_test = test['target']"
   ]
  },
  {
   "cell_type": "markdown",
   "metadata": {},
   "source": [
    "Определим категориальные признаки:"
   ]
  },
  {
   "cell_type": "code",
   "execution_count": 76,
   "metadata": {},
   "outputs": [],
   "source": [
    "cat_features = ['Type', 'PaperlessBilling', 'PaymentMethod', 'gender','SeniorCitizen',\n",
    "                'Partner', 'Dependents', 'InternetService',\n",
    "                'OnlineSecurity', 'OnlineBackup', 'DeviceProtection', 'TechSupport',\n",
    "                'StreamingTV', 'StreamingMovies', 'MultipleLines']"
   ]
  },
  {
   "cell_type": "markdown",
   "metadata": {},
   "source": [
    "Определим количественные признаки и масштабируем их:"
   ]
  },
  {
   "cell_type": "code",
   "execution_count": 77,
   "metadata": {},
   "outputs": [],
   "source": [
    "numeric = ['MonthlyCharges', 'total_days']"
   ]
  },
  {
   "cell_type": "code",
   "execution_count": 78,
   "metadata": {},
   "outputs": [],
   "source": [
    "scaler = StandardScaler()"
   ]
  },
  {
   "cell_type": "code",
   "execution_count": 79,
   "metadata": {},
   "outputs": [],
   "source": [
    "scaler.fit(features_train[numeric])\n",
    "pd.options.mode.chained_assignment = None"
   ]
  },
  {
   "cell_type": "code",
   "execution_count": 80,
   "metadata": {},
   "outputs": [],
   "source": [
    "features_train[numeric] = scaler.transform(features_train[numeric])"
   ]
  },
  {
   "cell_type": "code",
   "execution_count": 81,
   "metadata": {},
   "outputs": [],
   "source": [
    "features_valid[numeric] = scaler.transform(features_valid[numeric])"
   ]
  },
  {
   "cell_type": "code",
   "execution_count": 82,
   "metadata": {},
   "outputs": [],
   "source": [
    "features_test[numeric] = scaler.transform(features_test[numeric])"
   ]
  },
  {
   "cell_type": "markdown",
   "metadata": {},
   "source": [
    "**Вывод:**\n",
    "\n",
    "Данные разделены на обучающую, валидационную и тестовую выборки в соотношении 60:20:20, выборки стратифицированны, т.к. классы не сбалансированны. Определены признаки и целевой признак. Количественные признаки масштабированы с помощью структуры для стандартизации данных StandardScaler."
   ]
  },
  {
   "cell_type": "markdown",
   "metadata": {},
   "source": [
    "# Обучение модели"
   ]
  },
  {
   "cell_type": "markdown",
   "metadata": {},
   "source": [
    "Подберем оптимальные гиперпараметры модели:"
   ]
  },
  {
   "cell_type": "code",
   "execution_count": 83,
   "metadata": {},
   "outputs": [],
   "source": [
    "model = CatBoostClassifier(loss_function='Logloss', random_seed=42, cat_features=cat_features) "
   ]
  },
  {
   "cell_type": "code",
   "execution_count": 84,
   "metadata": {},
   "outputs": [],
   "source": [
    "grid = {'iterations' : [100, 150, 300, 500, 1000],\n",
    "         'learning_rate' : [0.03, 0.1, 0.5, 1],\n",
    "         'depth' : [2, 4, 6, 10]}"
   ]
  },
  {
   "cell_type": "code",
   "execution_count": 85,
   "metadata": {},
   "outputs": [
    {
     "name": "stdout",
     "output_type": "stream",
     "text": [
      "0:\tloss: 0.4093088\tbest: 0.4093088 (0)\ttotal: 3.53s\tremaining: 4m 38s\n",
      "10:\tloss: 0.3068226\tbest: 0.3019333 (7)\ttotal: 43.9s\tremaining: 4m 35s\n",
      "20:\tloss: 0.4018543\tbest: 0.2903579 (15)\ttotal: 3m 21s\tremaining: 9m 26s\n",
      "30:\tloss: 0.3331014\tbest: 0.2903579 (15)\ttotal: 4m 19s\tremaining: 6m 50s\n",
      "40:\tloss: 0.3993101\tbest: 0.2903579 (15)\ttotal: 9m 28s\tremaining: 9m\n",
      "50:\tloss: 0.3470011\tbest: 0.2903579 (15)\ttotal: 11m 12s\tremaining: 6m 22s\n",
      "60:\tloss: 0.4014733\tbest: 0.2903579 (15)\ttotal: 19m 20s\tremaining: 6m 1s\n",
      "70:\tloss: 0.4087341\tbest: 0.2903579 (15)\ttotal: 22m 48s\tremaining: 2m 53s\n",
      "79:\tloss: 0.4551462\tbest: 0.2903579 (15)\ttotal: 41m 35s\tremaining: 0us\n",
      "Estimating final quality...\n",
      "CPU times: user 36min 48s, sys: 5min 44s, total: 42min 32s\n",
      "Wall time: 43min 18s\n"
     ]
    }
   ],
   "source": [
    "%%time\n",
    "result = model.grid_search(grid, X=features_train, y=target_train, cv=5, verbose=10)"
   ]
  },
  {
   "cell_type": "code",
   "execution_count": 86,
   "metadata": {},
   "outputs": [
    {
     "data": {
      "text/plain": [
       "{'loss_function': 'Logloss',\n",
       " 'random_seed': 42,\n",
       " 'cat_features': ['Type',\n",
       "  'PaperlessBilling',\n",
       "  'PaymentMethod',\n",
       "  'gender',\n",
       "  'SeniorCitizen',\n",
       "  'Partner',\n",
       "  'Dependents',\n",
       "  'InternetService',\n",
       "  'OnlineSecurity',\n",
       "  'OnlineBackup',\n",
       "  'DeviceProtection',\n",
       "  'TechSupport',\n",
       "  'StreamingTV',\n",
       "  'StreamingMovies',\n",
       "  'MultipleLines'],\n",
       " 'depth': 2,\n",
       " 'learning_rate': 1,\n",
       " 'iterations': 500}"
      ]
     },
     "execution_count": 86,
     "metadata": {},
     "output_type": "execute_result"
    }
   ],
   "source": [
    "model.get_params()"
   ]
  },
  {
   "cell_type": "markdown",
   "metadata": {},
   "source": [
    "Посмотрим метрики на валидационной выборке:"
   ]
  },
  {
   "cell_type": "code",
   "execution_count": 87,
   "metadata": {},
   "outputs": [
    {
     "data": {
      "text/plain": [
       "0.9252344416027282"
      ]
     },
     "execution_count": 87,
     "metadata": {},
     "output_type": "execute_result"
    }
   ],
   "source": [
    "roc_auc_score(target_valid, model.predict_proba(features_valid)[:, 1])"
   ]
  },
  {
   "cell_type": "code",
   "execution_count": 88,
   "metadata": {},
   "outputs": [
    {
     "name": "stdout",
     "output_type": "stream",
     "text": [
      "              precision    recall  f1-score   support\n",
      "\n",
      "           0       0.91      0.93      0.92      1035\n",
      "           1       0.79      0.74      0.76       374\n",
      "\n",
      "    accuracy                           0.88      1409\n",
      "   macro avg       0.85      0.83      0.84      1409\n",
      "weighted avg       0.88      0.88      0.88      1409\n",
      "\n"
     ]
    }
   ],
   "source": [
    "print(classification_report(target_valid, model.predict(features_valid)))"
   ]
  },
  {
   "cell_type": "markdown",
   "metadata": {},
   "source": [
    "Определим важные признаки:"
   ]
  },
  {
   "cell_type": "code",
   "execution_count": 89,
   "metadata": {},
   "outputs": [
    {
     "data": {
      "image/png": "[encoded data removed]",
      "text/plain": [
       "<Figure size 864x432 with 1 Axes>"
      ]
     },
     "metadata": {
      "needs_background": "light"
     },
     "output_type": "display_data"
    }
   ],
   "source": [
    "data = {'feature_names':np.array(features_train.columns),\n",
    "        'feature_importance':np.array(model.get_feature_importance())}\n",
    "data = pd.DataFrame(data)\n",
    "data.sort_values(by=['feature_importance'], ascending=False, inplace=True)\n",
    "plt.figure(figsize=(12,6))\n",
    "sns.barplot(x=data['feature_importance'], y=data['feature_names'])\n",
    "plt.title('Catboost feature importance')\n",
    "plt.xlabel('Feature importance')\n",
    "plt.ylabel('Feature names')\n",
    "plt.show()"
   ]
  },
  {
   "cell_type": "markdown",
   "metadata": {},
   "source": [
    "Скорректируем признаки согласно графику:"
   ]
  },
  {
   "cell_type": "code",
   "execution_count": 90,
   "metadata": {},
   "outputs": [],
   "source": [
    "features_train = features_train.drop(['PaperlessBilling',\n",
    "                                      'gender',\n",
    "                                      'SeniorCitizen',\n",
    "                                      'Partner',\n",
    "                                      'Dependents',\n",
    "                                      'InternetService',\n",
    "                                      'OnlineSecurity',\n",
    "                                      'OnlineBackup',\n",
    "                                      'DeviceProtection',\n",
    "                                      'TechSupport',\n",
    "                                      'StreamingTV',\n",
    "                                      'StreamingMovies'], axis=1)"
   ]
  },
  {
   "cell_type": "code",
   "execution_count": 91,
   "metadata": {},
   "outputs": [],
   "source": [
    "features_valid = features_valid.drop(['PaperlessBilling',\n",
    "                                      'gender',\n",
    "                                      'SeniorCitizen',\n",
    "                                      'Partner',\n",
    "                                      'Dependents',\n",
    "                                      'InternetService',\n",
    "                                      'OnlineSecurity',\n",
    "                                      'OnlineBackup',\n",
    "                                      'DeviceProtection',\n",
    "                                      'TechSupport',\n",
    "                                      'StreamingTV',\n",
    "                                      'StreamingMovies'], axis=1)"
   ]
  },
  {
   "cell_type": "code",
   "execution_count": 92,
   "metadata": {},
   "outputs": [],
   "source": [
    "features_test = features_test.drop(['PaperlessBilling',\n",
    "                                    'gender',\n",
    "                                    'SeniorCitizen',\n",
    "                                    'Partner',\n",
    "                                    'Dependents',\n",
    "                                    'InternetService',\n",
    "                                    'OnlineSecurity',\n",
    "                                    'OnlineBackup',\n",
    "                                    'DeviceProtection',\n",
    "                                    'TechSupport',\n",
    "                                    'StreamingTV',\n",
    "                                    'StreamingMovies'], axis=1)"
   ]
  },
  {
   "cell_type": "code",
   "execution_count": 93,
   "metadata": {},
   "outputs": [],
   "source": [
    "cat_features = ['Type', 'PaymentMethod', 'MultipleLines']"
   ]
  },
  {
   "cell_type": "markdown",
   "metadata": {},
   "source": [
    "Заново инициализируем модель, т.к. изменились категориальные признаки:"
   ]
  },
  {
   "cell_type": "code",
   "execution_count": 94,
   "metadata": {},
   "outputs": [],
   "source": [
    "model = CatBoostClassifier(loss_function='Logloss', random_seed=42, cat_features=cat_features) "
   ]
  },
  {
   "cell_type": "code",
   "execution_count": 95,
   "metadata": {},
   "outputs": [],
   "source": [
    "grid = {'iterations' : [100, 150, 300, 500, 1000],\n",
    "         'learning_rate' : [0.03, 0.1, 0.5, 1],\n",
    "         'depth' : [2, 4, 6, 10]}"
   ]
  },
  {
   "cell_type": "code",
   "execution_count": 96,
   "metadata": {},
   "outputs": [
    {
     "name": "stdout",
     "output_type": "stream",
     "text": [
      "0:\tloss: 0.4148862\tbest: 0.4148862 (0)\ttotal: 2.5s\tremaining: 3m 17s\n",
      "10:\tloss: 0.3001678\tbest: 0.2897152 (7)\ttotal: 31.1s\tremaining: 3m 15s\n",
      "20:\tloss: 0.4054546\tbest: 0.2705717 (18)\ttotal: 2m 21s\tremaining: 6m 36s\n",
      "30:\tloss: 0.2965784\tbest: 0.2705717 (18)\ttotal: 3m 12s\tremaining: 5m 4s\n",
      "40:\tloss: 0.4024048\tbest: 0.2705717 (18)\ttotal: 6m 23s\tremaining: 6m 4s\n",
      "50:\tloss: 0.3304245\tbest: 0.2705717 (18)\ttotal: 7m 22s\tremaining: 4m 11s\n",
      "60:\tloss: 0.3997001\tbest: 0.2705717 (18)\ttotal: 11m 57s\tremaining: 3m 43s\n",
      "70:\tloss: 0.3805406\tbest: 0.2705717 (18)\ttotal: 13m 45s\tremaining: 1m 44s\n",
      "79:\tloss: 0.3989483\tbest: 0.2705717 (18)\ttotal: 22m 33s\tremaining: 0us\n",
      "Estimating final quality...\n",
      "CPU times: user 20min 24s, sys: 3min 53s, total: 24min 17s\n",
      "Wall time: 25min 54s\n"
     ]
    }
   ],
   "source": [
    "%%time\n",
    "result = model.grid_search(grid, X=features_train, y=target_train, cv=5, verbose=10)"
   ]
  },
  {
   "cell_type": "code",
   "execution_count": 97,
   "metadata": {},
   "outputs": [
    {
     "data": {
      "text/plain": [
       "{'loss_function': 'Logloss',\n",
       " 'random_seed': 42,\n",
       " 'cat_features': ['Type', 'PaymentMethod', 'MultipleLines'],\n",
       " 'depth': 2,\n",
       " 'iterations': 1000,\n",
       " 'learning_rate': 0.5}"
      ]
     },
     "execution_count": 97,
     "metadata": {},
     "output_type": "execute_result"
    }
   ],
   "source": [
    "model.get_params()"
   ]
  },
  {
   "cell_type": "markdown",
   "metadata": {},
   "source": [
    "Посмотрим метрики на валидационной выборке:"
   ]
  },
  {
   "cell_type": "code",
   "execution_count": 98,
   "metadata": {},
   "outputs": [
    {
     "data": {
      "text/plain": [
       "0.93377121599628"
      ]
     },
     "execution_count": 98,
     "metadata": {},
     "output_type": "execute_result"
    }
   ],
   "source": [
    "roc_auc_score(target_valid, model.predict_proba(features_valid)[:, 1])"
   ]
  },
  {
   "cell_type": "code",
   "execution_count": 99,
   "metadata": {},
   "outputs": [
    {
     "name": "stdout",
     "output_type": "stream",
     "text": [
      "              precision    recall  f1-score   support\n",
      "\n",
      "           0       0.91      0.96      0.93      1035\n",
      "           1       0.87      0.73      0.79       374\n",
      "\n",
      "    accuracy                           0.90      1409\n",
      "   macro avg       0.89      0.85      0.86      1409\n",
      "weighted avg       0.90      0.90      0.90      1409\n",
      "\n"
     ]
    }
   ],
   "source": [
    "print(classification_report(target_valid, model.predict(features_valid)))"
   ]
  },
  {
   "cell_type": "markdown",
   "metadata": {},
   "source": [
    "Объединим тренировочную и валидационную выборки, чтобы не терять часть обучающих данных:"
   ]
  },
  {
   "cell_type": "code",
   "execution_count": 100,
   "metadata": {},
   "outputs": [],
   "source": [
    "features_train = pd.concat([features_train, features_valid])"
   ]
  },
  {
   "cell_type": "code",
   "execution_count": 101,
   "metadata": {},
   "outputs": [],
   "source": [
    "target_train = pd.concat([target_train, target_valid])"
   ]
  },
  {
   "cell_type": "markdown",
   "metadata": {},
   "source": [
    "Перемешаем данные:"
   ]
  },
  {
   "cell_type": "code",
   "execution_count": 102,
   "metadata": {},
   "outputs": [],
   "source": [
    "features_train, target_train = shuffle(features_train, target_train, random_state=42)"
   ]
  },
  {
   "cell_type": "markdown",
   "metadata": {},
   "source": [
    "Проверим размеры и баланс классов:"
   ]
  },
  {
   "cell_type": "code",
   "execution_count": 103,
   "metadata": {},
   "outputs": [
    {
     "data": {
      "text/plain": [
       "((5634, 5), (5634,))"
      ]
     },
     "execution_count": 103,
     "metadata": {},
     "output_type": "execute_result"
    }
   ],
   "source": [
    "features_train.shape, target_train.shape"
   ]
  },
  {
   "cell_type": "code",
   "execution_count": 104,
   "metadata": {},
   "outputs": [
    {
     "data": {
      "text/plain": [
       "0    0.734647\n",
       "1    0.265353\n",
       "Name: target, dtype: float64"
      ]
     },
     "execution_count": 104,
     "metadata": {},
     "output_type": "execute_result"
    }
   ],
   "source": [
    "target_train.value_counts(normalize=True)"
   ]
  },
  {
   "cell_type": "markdown",
   "metadata": {},
   "source": [
    "Обучим модель на объединенных данных:"
   ]
  },
  {
   "cell_type": "code",
   "execution_count": 105,
   "metadata": {},
   "outputs": [
    {
     "name": "stdout",
     "output_type": "stream",
     "text": [
      "0:\tlearn: 0.5268292\ttotal: 6.88ms\tremaining: 6.88s\n",
      "100:\tlearn: 0.2964695\ttotal: 2s\tremaining: 17.8s\n",
      "200:\tlearn: 0.2471336\ttotal: 3.94s\tremaining: 15.6s\n",
      "300:\tlearn: 0.2223599\ttotal: 5.78s\tremaining: 13.4s\n",
      "400:\tlearn: 0.2116644\ttotal: 7.63s\tremaining: 11.4s\n",
      "500:\tlearn: 0.2018751\ttotal: 9.42s\tremaining: 9.38s\n",
      "600:\tlearn: 0.1955624\ttotal: 11.3s\tremaining: 7.53s\n",
      "700:\tlearn: 0.1892494\ttotal: 13.4s\tremaining: 5.71s\n",
      "800:\tlearn: 0.1847892\ttotal: 15.4s\tremaining: 3.83s\n",
      "900:\tlearn: 0.1811895\ttotal: 17.3s\tremaining: 1.9s\n",
      "999:\tlearn: 0.1778669\ttotal: 19.2s\tremaining: 0us\n"
     ]
    },
    {
     "data": {
      "text/plain": [
       "<catboost.core.CatBoostClassifier at 0x7fa0ab1e7510>"
      ]
     },
     "execution_count": 105,
     "metadata": {},
     "output_type": "execute_result"
    }
   ],
   "source": [
    "model.fit(features_train, target_train, verbose=100)"
   ]
  },
  {
   "cell_type": "markdown",
   "metadata": {},
   "source": [
    "**Вывод:**\n",
    "\n",
    "Наболее значимыми признаками явялются:    \n",
    "* срок \"жизни\" клиента\n",
    "* ежемесячный платёж по тарифу\n",
    "* тип оплаты (ежемесячная/договор на 1-2 года)\n",
    "* подключение телефонного аппарата к нескольким линиям одновременно\n",
    "* способ расчёта\n",
    "     \n",
    "Оптимальные гиперпараметры модели с учетом наболее важных признаков:\n",
    "* 'depth': 2\n",
    "* 'iterations': 1000\n",
    "* 'learning_rate': 0.5\n",
    "\n",
    "Итоговая модель обучена на объединенном наборе данных обучающий + валидационный, для того чтобы не терять часть обучающих данных."
   ]
  },
  {
   "cell_type": "markdown",
   "metadata": {},
   "source": [
    "# Тестирование модели"
   ]
  },
  {
   "cell_type": "markdown",
   "metadata": {},
   "source": [
    "Рассчитаем итоговую AUC-ROC:"
   ]
  },
  {
   "cell_type": "code",
   "execution_count": 106,
   "metadata": {},
   "outputs": [
    {
     "data": {
      "text/plain": [
       "0.9407385879252887"
      ]
     },
     "execution_count": 106,
     "metadata": {},
     "output_type": "execute_result"
    }
   ],
   "source": [
    "roc_auc_score(target_test, model.predict_proba(features_test)[:, 1])"
   ]
  },
  {
   "cell_type": "markdown",
   "metadata": {},
   "source": [
    "Рассчитаем доли положительных ответов и пороги:"
   ]
  },
  {
   "cell_type": "code",
   "execution_count": 107,
   "metadata": {},
   "outputs": [],
   "source": [
    "fpr, tpr, tresholds = roc_curve(target_test, model.predict_proba(features_test)[:, 1])"
   ]
  },
  {
   "cell_type": "markdown",
   "metadata": {},
   "source": [
    "Посмотрим ROC-кривую на графике:"
   ]
  },
  {
   "cell_type": "code",
   "execution_count": 108,
   "metadata": {},
   "outputs": [
    {
     "data": {
      "image/png": "[encoded data removed]",
      "text/plain": [
       "<Figure size 864x432 with 1 Axes>"
      ]
     },
     "metadata": {
      "needs_background": "light"
     },
     "output_type": "display_data"
    }
   ],
   "source": [
    "plt.figure(figsize=(12,6))\n",
    "plt.plot(fpr, tpr, color='red', label='CatBoost')\n",
    "plt.plot([0, 1], [0, 1], linestyle='--', color='blue')\n",
    "plt.xlim([0.0, 1.0])\n",
    "plt.ylim([0.0, 1.0])\n",
    "plt.xlabel('False Positive Rate')\n",
    "plt.ylabel('True Positive Rate')\n",
    "plt.title('ROC-кривая')\n",
    "plt.legend(loc='upper left')\n",
    "plt.grid(True)\n",
    "plt.show()"
   ]
  },
  {
   "cell_type": "markdown",
   "metadata": {},
   "source": [
    "Рассчитаем итоговые метрики:"
   ]
  },
  {
   "cell_type": "code",
   "execution_count": 109,
   "metadata": {},
   "outputs": [
    {
     "name": "stdout",
     "output_type": "stream",
     "text": [
      "              precision    recall  f1-score   support\n",
      "\n",
      "           0       0.89      0.96      0.93      1035\n",
      "           1       0.87      0.68      0.76       374\n",
      "\n",
      "    accuracy                           0.89      1409\n",
      "   macro avg       0.88      0.82      0.84      1409\n",
      "weighted avg       0.89      0.89      0.88      1409\n",
      "\n"
     ]
    }
   ],
   "source": [
    "print(classification_report(target_test, model.predict(features_test)))"
   ]
  },
  {
   "cell_type": "markdown",
   "metadata": {},
   "source": [
    "Сравним с константной моделью:"
   ]
  },
  {
   "cell_type": "code",
   "execution_count": 110,
   "metadata": {},
   "outputs": [
    {
     "data": {
      "text/plain": [
       "0.7345635202271115"
      ]
     },
     "execution_count": 110,
     "metadata": {},
     "output_type": "execute_result"
    }
   ],
   "source": [
    "dummy = DummyClassifier(strategy='most_frequent')\n",
    "dummy.fit(features_train, target_train)\n",
    "accuracy_score(target_test, dummy.predict(features_test))"
   ]
  },
  {
   "cell_type": "markdown",
   "metadata": {},
   "source": [
    "**Вывод:**\n",
    "\n",
    "Итоговые метрики на тесте:\n",
    "* AUC-ROC 0.94\n",
    "* accuracy 0.89\n",
    "* precision 0.87\n",
    "* recall 0.68\n",
    "     \n",
    "Модель проверена на адекватность с помощью константной модели, точность константной модели равна доле большего класса.\n",
    "\n",
    "Задача бизнеса - прогнозирование оттока клиентов - выполнена. Модель работает с высокой точностью, т.е. предсказанным уходящим клиентам можно с уверенностью предлагать специальные условия."
   ]
  }
 ],
 "metadata": {
  "ExecuteTimeLog": [
   {
    "duration": 635,
    "start_time": "2021-10-19T12:21:10.990Z"
   },
   {
    "duration": 4552,
    "start_time": "2021-10-19T12:21:23.859Z"
   },
   {
    "duration": 3099,
    "start_time": "2021-10-19T12:22:07.241Z"
   },
   {
    "duration": 3414,
    "start_time": "2021-10-19T12:23:29.900Z"
   },
   {
    "duration": 40,
    "start_time": "2021-10-19T12:25:46.302Z"
   },
   {
    "duration": 3,
    "start_time": "2021-10-19T12:27:22.862Z"
   },
   {
    "duration": 38,
    "start_time": "2021-10-19T12:27:23.878Z"
   },
   {
    "duration": 22,
    "start_time": "2021-10-19T12:27:24.812Z"
   },
   {
    "duration": 33,
    "start_time": "2021-10-19T12:27:27.101Z"
   },
   {
    "duration": 29,
    "start_time": "2021-10-19T12:27:28.251Z"
   },
   {
    "duration": 276,
    "start_time": "2021-10-19T12:27:35.318Z"
   },
   {
    "duration": 38,
    "start_time": "2021-10-19T12:27:56.968Z"
   },
   {
    "duration": 21,
    "start_time": "2021-10-19T12:27:59.730Z"
   },
   {
    "duration": 10,
    "start_time": "2021-10-19T12:28:08.523Z"
   },
   {
    "duration": 8,
    "start_time": "2021-10-19T12:28:35.277Z"
   },
   {
    "duration": 11,
    "start_time": "2021-10-19T12:28:54.804Z"
   },
   {
    "duration": 6,
    "start_time": "2021-10-19T12:29:12.759Z"
   },
   {
    "duration": 8,
    "start_time": "2021-10-19T12:50:32.873Z"
   },
   {
    "duration": 12,
    "start_time": "2021-10-19T12:51:58.464Z"
   },
   {
    "duration": 7,
    "start_time": "2021-10-19T12:53:43.480Z"
   },
   {
    "duration": 7,
    "start_time": "2021-10-19T12:54:24.257Z"
   },
   {
    "duration": 292,
    "start_time": "2021-10-19T12:54:59.943Z"
   },
   {
    "duration": 6,
    "start_time": "2021-10-19T12:55:07.091Z"
   },
   {
    "duration": 12,
    "start_time": "2021-10-19T13:59:43.513Z"
   },
   {
    "duration": 14,
    "start_time": "2021-10-19T14:04:47.260Z"
   },
   {
    "duration": 11,
    "start_time": "2021-10-19T14:04:48.095Z"
   },
   {
    "duration": 11,
    "start_time": "2021-10-19T14:04:49.063Z"
   },
   {
    "duration": 17,
    "start_time": "2021-10-19T14:04:57.918Z"
   },
   {
    "duration": 13,
    "start_time": "2021-10-19T14:05:10.273Z"
   },
   {
    "duration": 1995,
    "start_time": "2021-10-19T14:15:01.127Z"
   },
   {
    "duration": 7912,
    "start_time": "2021-10-19T14:15:45.483Z"
   },
   {
    "duration": 6,
    "start_time": "2021-10-19T14:16:03.956Z"
   },
   {
    "duration": 15,
    "start_time": "2021-10-19T14:16:12.251Z"
   },
   {
    "duration": 288,
    "start_time": "2021-10-19T14:16:59.675Z"
   },
   {
    "duration": 22,
    "start_time": "2021-10-19T14:17:10.375Z"
   },
   {
    "duration": 5,
    "start_time": "2021-10-19T14:18:49.392Z"
   },
   {
    "duration": 25,
    "start_time": "2021-10-19T14:19:19.614Z"
   },
   {
    "duration": 92,
    "start_time": "2021-10-19T14:19:54.890Z"
   },
   {
    "duration": 20,
    "start_time": "2021-10-19T14:20:07.766Z"
   },
   {
    "duration": 11,
    "start_time": "2021-10-19T14:20:38.069Z"
   },
   {
    "duration": 20,
    "start_time": "2021-10-19T14:21:13.749Z"
   },
   {
    "duration": 4,
    "start_time": "2021-10-19T14:22:56.619Z"
   },
   {
    "duration": 17,
    "start_time": "2021-10-19T14:23:04.929Z"
   },
   {
    "duration": 18,
    "start_time": "2021-10-19T14:23:24.208Z"
   },
   {
    "duration": 5,
    "start_time": "2021-10-19T14:24:57.718Z"
   },
   {
    "duration": 6,
    "start_time": "2021-10-19T14:25:30.902Z"
   },
   {
    "duration": 294,
    "start_time": "2021-10-19T14:28:52.535Z"
   },
   {
    "duration": 2072,
    "start_time": "2021-10-19T14:30:06.459Z"
   },
   {
    "duration": 6,
    "start_time": "2021-10-19T14:30:25.105Z"
   },
   {
    "duration": 7,
    "start_time": "2021-10-19T14:33:10.303Z"
   },
   {
    "duration": 5,
    "start_time": "2021-10-19T14:33:12.176Z"
   },
   {
    "duration": 17,
    "start_time": "2021-10-19T14:34:15.397Z"
   },
   {
    "duration": 3,
    "start_time": "2021-10-19T14:36:26.410Z"
   },
   {
    "duration": 20,
    "start_time": "2021-10-19T14:36:41.103Z"
   },
   {
    "duration": 11,
    "start_time": "2021-10-19T14:37:25.871Z"
   },
   {
    "duration": 4,
    "start_time": "2021-10-19T14:38:01.063Z"
   },
   {
    "duration": 24,
    "start_time": "2021-10-19T14:38:02.094Z"
   },
   {
    "duration": 3,
    "start_time": "2021-10-19T14:38:56.316Z"
   },
   {
    "duration": 23,
    "start_time": "2021-10-19T14:38:57.981Z"
   },
   {
    "duration": 3,
    "start_time": "2021-10-19T14:40:33.746Z"
   },
   {
    "duration": 20,
    "start_time": "2021-10-19T14:40:34.696Z"
   },
   {
    "duration": 11,
    "start_time": "2021-10-19T14:40:56.964Z"
   },
   {
    "duration": 629,
    "start_time": "2021-10-19T14:41:21.301Z"
   },
   {
    "duration": 43,
    "start_time": "2021-10-19T14:41:21.932Z"
   },
   {
    "duration": 18,
    "start_time": "2021-10-19T14:41:21.977Z"
   },
   {
    "duration": 9,
    "start_time": "2021-10-19T14:41:21.996Z"
   },
   {
    "duration": 24,
    "start_time": "2021-10-19T14:41:22.007Z"
   },
   {
    "duration": 9,
    "start_time": "2021-10-19T14:41:22.033Z"
   },
   {
    "duration": 10,
    "start_time": "2021-10-19T14:41:22.043Z"
   },
   {
    "duration": 23,
    "start_time": "2021-10-19T14:41:22.056Z"
   },
   {
    "duration": 11,
    "start_time": "2021-10-19T14:41:22.082Z"
   },
   {
    "duration": 15,
    "start_time": "2021-10-19T14:41:22.095Z"
   },
   {
    "duration": 21,
    "start_time": "2021-10-19T14:41:22.113Z"
   },
   {
    "duration": 12,
    "start_time": "2021-10-19T14:41:22.136Z"
   },
   {
    "duration": 8,
    "start_time": "2021-10-19T14:41:22.150Z"
   },
   {
    "duration": 17,
    "start_time": "2021-10-19T14:41:22.160Z"
   },
   {
    "duration": 11,
    "start_time": "2021-10-19T14:41:22.179Z"
   },
   {
    "duration": 12,
    "start_time": "2021-10-19T14:41:22.192Z"
   },
   {
    "duration": 49,
    "start_time": "2021-10-19T14:41:22.206Z"
   },
   {
    "duration": 15,
    "start_time": "2021-10-19T14:41:22.257Z"
   },
   {
    "duration": 6,
    "start_time": "2021-10-19T14:41:22.274Z"
   },
   {
    "duration": 17,
    "start_time": "2021-10-19T14:41:22.282Z"
   },
   {
    "duration": 55,
    "start_time": "2021-10-19T14:41:22.301Z"
   },
   {
    "duration": 4,
    "start_time": "2021-10-19T14:41:22.358Z"
   },
   {
    "duration": 24,
    "start_time": "2021-10-19T14:41:22.365Z"
   },
   {
    "duration": 13,
    "start_time": "2021-10-19T14:41:22.390Z"
   },
   {
    "duration": 47,
    "start_time": "2021-10-19T14:41:22.405Z"
   },
   {
    "duration": 3,
    "start_time": "2021-10-19T14:41:22.454Z"
   },
   {
    "duration": 20,
    "start_time": "2021-10-19T14:41:22.458Z"
   },
   {
    "duration": 20,
    "start_time": "2021-10-19T14:41:22.480Z"
   },
   {
    "duration": 7,
    "start_time": "2021-10-19T14:41:22.501Z"
   },
   {
    "duration": 34,
    "start_time": "2021-10-19T14:41:22.510Z"
   },
   {
    "duration": 8,
    "start_time": "2021-10-19T14:41:22.546Z"
   },
   {
    "duration": 5,
    "start_time": "2021-10-19T14:41:22.556Z"
   },
   {
    "duration": 22,
    "start_time": "2021-10-19T14:41:22.563Z"
   },
   {
    "duration": 6,
    "start_time": "2021-10-19T14:41:22.587Z"
   },
   {
    "duration": 24,
    "start_time": "2021-10-19T14:41:22.594Z"
   },
   {
    "duration": 13,
    "start_time": "2021-10-19T14:41:22.644Z"
   },
   {
    "duration": 4,
    "start_time": "2021-10-19T14:42:15.964Z"
   },
   {
    "duration": 28,
    "start_time": "2021-10-19T14:42:17.187Z"
   },
   {
    "duration": 5,
    "start_time": "2021-10-19T14:42:35.195Z"
   },
   {
    "duration": 21,
    "start_time": "2021-10-19T14:42:35.761Z"
   },
   {
    "duration": 7,
    "start_time": "2021-10-19T14:43:26.099Z"
   },
   {
    "duration": 5,
    "start_time": "2021-10-19T14:43:35.469Z"
   },
   {
    "duration": 6,
    "start_time": "2021-10-19T14:44:42.222Z"
   },
   {
    "duration": 964,
    "start_time": "2021-10-19T14:45:30.887Z"
   },
   {
    "duration": 17,
    "start_time": "2021-10-19T14:45:36.388Z"
   },
   {
    "duration": 6,
    "start_time": "2021-10-19T14:47:10.606Z"
   },
   {
    "duration": 6,
    "start_time": "2021-10-19T14:48:07.097Z"
   },
   {
    "duration": 5,
    "start_time": "2021-10-19T14:48:19.066Z"
   },
   {
    "duration": 6,
    "start_time": "2021-10-19T14:48:44.577Z"
   },
   {
    "duration": 6,
    "start_time": "2021-10-19T14:49:04.093Z"
   },
   {
    "duration": 6,
    "start_time": "2021-10-19T14:49:16.561Z"
   },
   {
    "duration": 6,
    "start_time": "2021-10-19T14:49:28.035Z"
   },
   {
    "duration": 72,
    "start_time": "2021-10-19T14:49:54.397Z"
   },
   {
    "duration": 6,
    "start_time": "2021-10-19T14:49:57.683Z"
   },
   {
    "duration": 7,
    "start_time": "2021-10-19T14:50:13.843Z"
   },
   {
    "duration": 7,
    "start_time": "2021-10-19T14:50:28.232Z"
   },
   {
    "duration": 6,
    "start_time": "2021-10-19T14:51:44.167Z"
   },
   {
    "duration": 6,
    "start_time": "2021-10-19T14:51:57.599Z"
   },
   {
    "duration": 6,
    "start_time": "2021-10-19T14:52:12.602Z"
   },
   {
    "duration": 6,
    "start_time": "2021-10-19T14:52:36.404Z"
   },
   {
    "duration": 7,
    "start_time": "2021-10-19T14:52:54.107Z"
   },
   {
    "duration": 47,
    "start_time": "2021-10-19T14:54:22.042Z"
   },
   {
    "duration": 21,
    "start_time": "2021-10-19T14:54:30.734Z"
   },
   {
    "duration": 15,
    "start_time": "2021-10-19T14:54:49.459Z"
   },
   {
    "duration": 74,
    "start_time": "2021-10-19T16:36:11.778Z"
   },
   {
    "duration": 485,
    "start_time": "2021-10-19T16:36:52.016Z"
   },
   {
    "duration": 312,
    "start_time": "2021-10-19T16:37:10.279Z"
   },
   {
    "duration": 39,
    "start_time": "2021-10-19T17:42:04.151Z"
   },
   {
    "duration": 1113,
    "start_time": "2021-10-20T11:45:17.568Z"
   },
   {
    "duration": 38,
    "start_time": "2021-10-20T11:45:18.683Z"
   },
   {
    "duration": 13,
    "start_time": "2021-10-20T11:45:18.723Z"
   },
   {
    "duration": 15,
    "start_time": "2021-10-20T11:45:18.738Z"
   },
   {
    "duration": 359,
    "start_time": "2021-10-20T11:45:18.754Z"
   },
   {
    "duration": 765,
    "start_time": "2021-10-20T11:45:18.352Z"
   },
   {
    "duration": 763,
    "start_time": "2021-10-20T11:45:18.354Z"
   },
   {
    "duration": 757,
    "start_time": "2021-10-20T11:45:18.361Z"
   },
   {
    "duration": 754,
    "start_time": "2021-10-20T11:45:18.365Z"
   },
   {
    "duration": 734,
    "start_time": "2021-10-20T11:45:18.386Z"
   },
   {
    "duration": 731,
    "start_time": "2021-10-20T11:45:18.390Z"
   },
   {
    "duration": 726,
    "start_time": "2021-10-20T11:45:18.395Z"
   },
   {
    "duration": 721,
    "start_time": "2021-10-20T11:45:18.401Z"
   },
   {
    "duration": 717,
    "start_time": "2021-10-20T11:45:18.406Z"
   },
   {
    "duration": 716,
    "start_time": "2021-10-20T11:45:18.408Z"
   },
   {
    "duration": 715,
    "start_time": "2021-10-20T11:45:18.410Z"
   },
   {
    "duration": 706,
    "start_time": "2021-10-20T11:45:18.419Z"
   },
   {
    "duration": 701,
    "start_time": "2021-10-20T11:45:18.425Z"
   },
   {
    "duration": 699,
    "start_time": "2021-10-20T11:45:18.428Z"
   },
   {
    "duration": 697,
    "start_time": "2021-10-20T11:45:18.431Z"
   },
   {
    "duration": 695,
    "start_time": "2021-10-20T11:45:18.433Z"
   },
   {
    "duration": 695,
    "start_time": "2021-10-20T11:45:18.434Z"
   },
   {
    "duration": 694,
    "start_time": "2021-10-20T11:45:18.437Z"
   },
   {
    "duration": 692,
    "start_time": "2021-10-20T11:45:18.440Z"
   },
   {
    "duration": 691,
    "start_time": "2021-10-20T11:45:18.442Z"
   },
   {
    "duration": 690,
    "start_time": "2021-10-20T11:45:18.444Z"
   },
   {
    "duration": 689,
    "start_time": "2021-10-20T11:45:18.446Z"
   },
   {
    "duration": 689,
    "start_time": "2021-10-20T11:45:18.447Z"
   },
   {
    "duration": 687,
    "start_time": "2021-10-20T11:45:18.449Z"
   },
   {
    "duration": 685,
    "start_time": "2021-10-20T11:45:18.452Z"
   },
   {
    "duration": 683,
    "start_time": "2021-10-20T11:45:18.455Z"
   },
   {
    "duration": 682,
    "start_time": "2021-10-20T11:45:18.457Z"
   },
   {
    "duration": 681,
    "start_time": "2021-10-20T11:45:18.458Z"
   },
   {
    "duration": 680,
    "start_time": "2021-10-20T11:45:18.460Z"
   },
   {
    "duration": 680,
    "start_time": "2021-10-20T11:45:18.461Z"
   },
   {
    "duration": 679,
    "start_time": "2021-10-20T11:45:18.463Z"
   },
   {
    "duration": 677,
    "start_time": "2021-10-20T11:45:18.465Z"
   },
   {
    "duration": 677,
    "start_time": "2021-10-20T11:45:18.466Z"
   },
   {
    "duration": 677,
    "start_time": "2021-10-20T11:45:18.467Z"
   },
   {
    "duration": 676,
    "start_time": "2021-10-20T11:45:18.469Z"
   },
   {
    "duration": 675,
    "start_time": "2021-10-20T11:45:18.471Z"
   },
   {
    "duration": 675,
    "start_time": "2021-10-20T11:45:18.472Z"
   },
   {
    "duration": 674,
    "start_time": "2021-10-20T11:45:18.474Z"
   },
   {
    "duration": 672,
    "start_time": "2021-10-20T11:45:18.476Z"
   },
   {
    "duration": 671,
    "start_time": "2021-10-20T11:45:18.478Z"
   },
   {
    "duration": 671,
    "start_time": "2021-10-20T11:45:18.479Z"
   },
   {
    "duration": 670,
    "start_time": "2021-10-20T11:45:18.481Z"
   },
   {
    "duration": 670,
    "start_time": "2021-10-20T11:45:18.482Z"
   },
   {
    "duration": 667,
    "start_time": "2021-10-20T11:45:18.485Z"
   },
   {
    "duration": 666,
    "start_time": "2021-10-20T11:45:18.487Z"
   },
   {
    "duration": 664,
    "start_time": "2021-10-20T11:45:18.490Z"
   },
   {
    "duration": 663,
    "start_time": "2021-10-20T11:45:18.492Z"
   },
   {
    "duration": 656,
    "start_time": "2021-10-20T11:45:18.500Z"
   },
   {
    "duration": 655,
    "start_time": "2021-10-20T11:45:18.502Z"
   },
   {
    "duration": 652,
    "start_time": "2021-10-20T11:45:18.506Z"
   },
   {
    "duration": 651,
    "start_time": "2021-10-20T11:45:18.508Z"
   },
   {
    "duration": 651,
    "start_time": "2021-10-20T11:45:18.509Z"
   },
   {
    "duration": 650,
    "start_time": "2021-10-20T11:45:18.511Z"
   },
   {
    "duration": 649,
    "start_time": "2021-10-20T11:45:18.513Z"
   },
   {
    "duration": 17,
    "start_time": "2021-10-20T11:45:42.285Z"
   },
   {
    "duration": 33,
    "start_time": "2021-10-20T11:47:22.086Z"
   },
   {
    "duration": 8,
    "start_time": "2021-10-20T11:47:23.958Z"
   },
   {
    "duration": 7,
    "start_time": "2021-10-20T11:47:26.756Z"
   },
   {
    "duration": 33,
    "start_time": "2021-10-20T11:47:29.880Z"
   },
   {
    "duration": 9,
    "start_time": "2021-10-20T11:47:32.211Z"
   },
   {
    "duration": 8,
    "start_time": "2021-10-20T11:47:33.826Z"
   },
   {
    "duration": 30,
    "start_time": "2021-10-20T11:47:38.435Z"
   },
   {
    "duration": 7,
    "start_time": "2021-10-20T11:47:40.007Z"
   },
   {
    "duration": 5,
    "start_time": "2021-10-20T11:47:41.869Z"
   },
   {
    "duration": 12,
    "start_time": "2021-10-20T11:47:46.825Z"
   },
   {
    "duration": 12,
    "start_time": "2021-10-20T11:47:48.115Z"
   },
   {
    "duration": 12,
    "start_time": "2021-10-20T11:47:49.141Z"
   },
   {
    "duration": 18,
    "start_time": "2021-10-20T11:47:50.059Z"
   },
   {
    "duration": 12,
    "start_time": "2021-10-20T11:47:53.231Z"
   },
   {
    "duration": 6,
    "start_time": "2021-10-20T11:48:25.256Z"
   },
   {
    "duration": 5,
    "start_time": "2021-10-20T11:49:11.001Z"
   },
   {
    "duration": 6,
    "start_time": "2021-10-20T11:49:12.195Z"
   },
   {
    "duration": 6,
    "start_time": "2021-10-20T11:50:42.900Z"
   },
   {
    "duration": 3,
    "start_time": "2021-10-20T11:51:19.538Z"
   },
   {
    "duration": 1095,
    "start_time": "2021-10-20T11:53:54.189Z"
   },
   {
    "duration": 39,
    "start_time": "2021-10-20T11:53:55.286Z"
   },
   {
    "duration": 12,
    "start_time": "2021-10-20T11:53:55.326Z"
   },
   {
    "duration": 10,
    "start_time": "2021-10-20T11:53:55.340Z"
   },
   {
    "duration": 23,
    "start_time": "2021-10-20T11:53:55.352Z"
   },
   {
    "duration": 8,
    "start_time": "2021-10-20T11:53:55.376Z"
   },
   {
    "duration": 16,
    "start_time": "2021-10-20T11:53:55.385Z"
   },
   {
    "duration": 22,
    "start_time": "2021-10-20T11:53:55.403Z"
   },
   {
    "duration": 9,
    "start_time": "2021-10-20T11:53:55.426Z"
   },
   {
    "duration": 13,
    "start_time": "2021-10-20T11:53:55.437Z"
   },
   {
    "duration": 22,
    "start_time": "2021-10-20T11:53:55.452Z"
   },
   {
    "duration": 8,
    "start_time": "2021-10-20T11:53:55.476Z"
   },
   {
    "duration": 13,
    "start_time": "2021-10-20T11:53:55.486Z"
   },
   {
    "duration": 14,
    "start_time": "2021-10-20T11:53:55.501Z"
   },
   {
    "duration": 12,
    "start_time": "2021-10-20T11:53:55.516Z"
   },
   {
    "duration": 9,
    "start_time": "2021-10-20T11:53:55.530Z"
   },
   {
    "duration": 22,
    "start_time": "2021-10-20T11:53:55.540Z"
   },
   {
    "duration": 17,
    "start_time": "2021-10-20T11:53:55.563Z"
   },
   {
    "duration": 345,
    "start_time": "2021-10-20T11:53:55.582Z"
   },
   {
    "duration": 623,
    "start_time": "2021-10-20T11:53:55.307Z"
   },
   {
    "duration": 617,
    "start_time": "2021-10-20T11:53:55.314Z"
   },
   {
    "duration": 616,
    "start_time": "2021-10-20T11:53:55.316Z"
   },
   {
    "duration": 614,
    "start_time": "2021-10-20T11:53:55.319Z"
   },
   {
    "duration": 614,
    "start_time": "2021-10-20T11:53:55.320Z"
   },
   {
    "duration": 611,
    "start_time": "2021-10-20T11:53:55.324Z"
   },
   {
    "duration": 607,
    "start_time": "2021-10-20T11:53:55.329Z"
   },
   {
    "duration": 605,
    "start_time": "2021-10-20T11:53:55.332Z"
   },
   {
    "duration": 604,
    "start_time": "2021-10-20T11:53:55.334Z"
   },
   {
    "duration": 603,
    "start_time": "2021-10-20T11:53:55.336Z"
   },
   {
    "duration": 603,
    "start_time": "2021-10-20T11:53:55.337Z"
   },
   {
    "duration": 600,
    "start_time": "2021-10-20T11:53:55.341Z"
   },
   {
    "duration": 597,
    "start_time": "2021-10-20T11:53:55.345Z"
   },
   {
    "duration": 596,
    "start_time": "2021-10-20T11:53:55.347Z"
   },
   {
    "duration": 595,
    "start_time": "2021-10-20T11:53:55.349Z"
   },
   {
    "duration": 595,
    "start_time": "2021-10-20T11:53:55.350Z"
   },
   {
    "duration": 594,
    "start_time": "2021-10-20T11:53:55.352Z"
   },
   {
    "duration": 594,
    "start_time": "2021-10-20T11:53:55.353Z"
   },
   {
    "duration": 594,
    "start_time": "2021-10-20T11:53:55.354Z"
   },
   {
    "duration": 590,
    "start_time": "2021-10-20T11:53:55.359Z"
   },
   {
    "duration": 588,
    "start_time": "2021-10-20T11:53:55.362Z"
   },
   {
    "duration": 587,
    "start_time": "2021-10-20T11:53:55.364Z"
   },
   {
    "duration": 587,
    "start_time": "2021-10-20T11:53:55.365Z"
   },
   {
    "duration": 587,
    "start_time": "2021-10-20T11:53:55.366Z"
   },
   {
    "duration": 586,
    "start_time": "2021-10-20T11:53:55.368Z"
   },
   {
    "duration": 586,
    "start_time": "2021-10-20T11:53:55.369Z"
   },
   {
    "duration": 586,
    "start_time": "2021-10-20T11:53:55.370Z"
   },
   {
    "duration": 583,
    "start_time": "2021-10-20T11:53:55.374Z"
   },
   {
    "duration": 559,
    "start_time": "2021-10-20T11:53:55.399Z"
   },
   {
    "duration": 554,
    "start_time": "2021-10-20T11:53:55.405Z"
   },
   {
    "duration": 550,
    "start_time": "2021-10-20T11:53:55.410Z"
   },
   {
    "duration": 547,
    "start_time": "2021-10-20T11:53:55.414Z"
   },
   {
    "duration": 545,
    "start_time": "2021-10-20T11:53:55.417Z"
   },
   {
    "duration": 545,
    "start_time": "2021-10-20T11:53:55.418Z"
   },
   {
    "duration": 544,
    "start_time": "2021-10-20T11:53:55.420Z"
   },
   {
    "duration": 544,
    "start_time": "2021-10-20T11:53:55.421Z"
   },
   {
    "duration": 541,
    "start_time": "2021-10-20T11:53:55.425Z"
   },
   {
    "duration": 539,
    "start_time": "2021-10-20T11:53:55.428Z"
   },
   {
    "duration": 537,
    "start_time": "2021-10-20T11:53:55.431Z"
   },
   {
    "duration": 12,
    "start_time": "2021-10-20T12:01:25.368Z"
   },
   {
    "duration": 18,
    "start_time": "2021-10-20T12:02:16.452Z"
   },
   {
    "duration": 11,
    "start_time": "2021-10-20T12:02:33.641Z"
   },
   {
    "duration": 999,
    "start_time": "2021-10-21T11:22:33.250Z"
   },
   {
    "duration": 42,
    "start_time": "2021-10-21T11:22:37.309Z"
   },
   {
    "duration": 14,
    "start_time": "2021-10-21T11:22:38.790Z"
   },
   {
    "duration": 8,
    "start_time": "2021-10-21T11:22:41.803Z"
   },
   {
    "duration": 34,
    "start_time": "2021-10-21T11:22:45.708Z"
   },
   {
    "duration": 9,
    "start_time": "2021-10-21T11:22:46.952Z"
   },
   {
    "duration": 8,
    "start_time": "2021-10-21T11:22:49.621Z"
   },
   {
    "duration": 34,
    "start_time": "2021-10-21T11:22:52.663Z"
   },
   {
    "duration": 10,
    "start_time": "2021-10-21T11:22:53.777Z"
   },
   {
    "duration": 9,
    "start_time": "2021-10-21T11:22:56.353Z"
   },
   {
    "duration": 30,
    "start_time": "2021-10-21T11:22:59.309Z"
   },
   {
    "duration": 7,
    "start_time": "2021-10-21T11:23:00.664Z"
   },
   {
    "duration": 6,
    "start_time": "2021-10-21T11:23:03.198Z"
   },
   {
    "duration": 12,
    "start_time": "2021-10-21T11:23:06.658Z"
   },
   {
    "duration": 12,
    "start_time": "2021-10-21T11:23:08.265Z"
   },
   {
    "duration": 11,
    "start_time": "2021-10-21T11:23:09.027Z"
   },
   {
    "duration": 19,
    "start_time": "2021-10-21T11:23:09.979Z"
   },
   {
    "duration": 15,
    "start_time": "2021-10-21T11:23:10.980Z"
   },
   {
    "duration": 12,
    "start_time": "2021-10-21T11:23:31.091Z"
   },
   {
    "duration": 17,
    "start_time": "2021-10-21T11:23:32.049Z"
   },
   {
    "duration": 12,
    "start_time": "2021-10-21T11:23:32.989Z"
   },
   {
    "duration": 7,
    "start_time": "2021-10-21T11:24:48.359Z"
   },
   {
    "duration": 7,
    "start_time": "2021-10-21T11:24:49.445Z"
   },
   {
    "duration": 6,
    "start_time": "2021-10-21T11:25:39.529Z"
   },
   {
    "duration": 6,
    "start_time": "2021-10-21T11:25:44.377Z"
   },
   {
    "duration": 7,
    "start_time": "2021-10-21T11:27:16.504Z"
   },
   {
    "duration": 18,
    "start_time": "2021-10-21T11:27:44.462Z"
   },
   {
    "duration": 11,
    "start_time": "2021-10-21T11:27:52.842Z"
   },
   {
    "duration": 23,
    "start_time": "2021-10-21T11:29:14.808Z"
   },
   {
    "duration": 22,
    "start_time": "2021-10-21T11:30:29.991Z"
   },
   {
    "duration": 4,
    "start_time": "2021-10-21T11:37:02.884Z"
   },
   {
    "duration": 60,
    "start_time": "2021-10-21T11:52:16.736Z"
   },
   {
    "duration": 4,
    "start_time": "2021-10-21T11:52:25.524Z"
   },
   {
    "duration": 4,
    "start_time": "2021-10-21T11:54:47.288Z"
   },
   {
    "duration": 17,
    "start_time": "2021-10-21T11:54:56.701Z"
   },
   {
    "duration": 13,
    "start_time": "2021-10-21T11:55:15.144Z"
   },
   {
    "duration": 4,
    "start_time": "2021-10-21T11:57:07.980Z"
   },
   {
    "duration": 18,
    "start_time": "2021-10-21T11:57:09.200Z"
   },
   {
    "duration": 6,
    "start_time": "2021-10-21T11:57:32.273Z"
   },
   {
    "duration": 17,
    "start_time": "2021-10-21T11:57:33.084Z"
   },
   {
    "duration": 12,
    "start_time": "2021-10-21T11:57:44.956Z"
   },
   {
    "duration": 17,
    "start_time": "2021-10-21T12:03:29.311Z"
   },
   {
    "duration": 7,
    "start_time": "2021-10-21T12:06:21.451Z"
   },
   {
    "duration": 7,
    "start_time": "2021-10-21T12:06:25.424Z"
   },
   {
    "duration": 6,
    "start_time": "2021-10-21T12:06:28.034Z"
   },
   {
    "duration": 6,
    "start_time": "2021-10-21T12:06:32.233Z"
   },
   {
    "duration": 7,
    "start_time": "2021-10-21T12:06:34.300Z"
   },
   {
    "duration": 7,
    "start_time": "2021-10-21T12:06:36.357Z"
   },
   {
    "duration": 6,
    "start_time": "2021-10-21T12:06:38.302Z"
   },
   {
    "duration": 6,
    "start_time": "2021-10-21T12:06:40.445Z"
   },
   {
    "duration": 7,
    "start_time": "2021-10-21T12:06:43.283Z"
   },
   {
    "duration": 7,
    "start_time": "2021-10-21T12:06:46.907Z"
   },
   {
    "duration": 7,
    "start_time": "2021-10-21T12:06:49.358Z"
   },
   {
    "duration": 6,
    "start_time": "2021-10-21T12:06:51.747Z"
   },
   {
    "duration": 6,
    "start_time": "2021-10-21T12:06:53.875Z"
   },
   {
    "duration": 7,
    "start_time": "2021-10-21T12:06:55.887Z"
   },
   {
    "duration": 6,
    "start_time": "2021-10-21T12:06:57.932Z"
   },
   {
    "duration": 5,
    "start_time": "2021-10-21T12:07:00.078Z"
   },
   {
    "duration": 6,
    "start_time": "2021-10-21T12:09:41.480Z"
   },
   {
    "duration": 17,
    "start_time": "2021-10-21T12:10:52.805Z"
   },
   {
    "duration": 1031,
    "start_time": "2021-10-21T12:11:10.508Z"
   },
   {
    "duration": 40,
    "start_time": "2021-10-21T12:11:11.541Z"
   },
   {
    "duration": 15,
    "start_time": "2021-10-21T12:11:11.583Z"
   },
   {
    "duration": 10,
    "start_time": "2021-10-21T12:11:11.601Z"
   },
   {
    "duration": 23,
    "start_time": "2021-10-21T12:11:11.613Z"
   },
   {
    "duration": 8,
    "start_time": "2021-10-21T12:11:11.638Z"
   },
   {
    "duration": 7,
    "start_time": "2021-10-21T12:11:11.648Z"
   },
   {
    "duration": 22,
    "start_time": "2021-10-21T12:11:11.656Z"
   },
   {
    "duration": 19,
    "start_time": "2021-10-21T12:11:11.680Z"
   },
   {
    "duration": 6,
    "start_time": "2021-10-21T12:11:11.701Z"
   },
   {
    "duration": 20,
    "start_time": "2021-10-21T12:11:11.709Z"
   },
   {
    "duration": 6,
    "start_time": "2021-10-21T12:11:11.730Z"
   },
   {
    "duration": 8,
    "start_time": "2021-10-21T12:11:11.738Z"
   },
   {
    "duration": 13,
    "start_time": "2021-10-21T12:11:11.748Z"
   },
   {
    "duration": 31,
    "start_time": "2021-10-21T12:11:11.763Z"
   },
   {
    "duration": 10,
    "start_time": "2021-10-21T12:11:11.796Z"
   },
   {
    "duration": 17,
    "start_time": "2021-10-21T12:11:11.808Z"
   },
   {
    "duration": 13,
    "start_time": "2021-10-21T12:11:11.826Z"
   },
   {
    "duration": 12,
    "start_time": "2021-10-21T12:11:11.840Z"
   },
   {
    "duration": 47,
    "start_time": "2021-10-21T12:11:11.853Z"
   },
   {
    "duration": 11,
    "start_time": "2021-10-21T12:11:11.901Z"
   },
   {
    "duration": 8,
    "start_time": "2021-10-21T12:11:11.914Z"
   },
   {
    "duration": 6,
    "start_time": "2021-10-21T12:11:11.923Z"
   },
   {
    "duration": 12,
    "start_time": "2021-10-21T12:11:11.931Z"
   },
   {
    "duration": 6,
    "start_time": "2021-10-21T12:11:11.944Z"
   },
   {
    "duration": 7,
    "start_time": "2021-10-21T12:11:11.951Z"
   },
   {
    "duration": 44,
    "start_time": "2021-10-21T12:11:11.961Z"
   },
   {
    "duration": 11,
    "start_time": "2021-10-21T12:11:12.007Z"
   },
   {
    "duration": 22,
    "start_time": "2021-10-21T12:11:12.019Z"
   },
   {
    "duration": 21,
    "start_time": "2021-10-21T12:11:12.043Z"
   },
   {
    "duration": 28,
    "start_time": "2021-10-21T12:11:12.066Z"
   },
   {
    "duration": 5,
    "start_time": "2021-10-21T12:11:12.096Z"
   },
   {
    "duration": 6,
    "start_time": "2021-10-21T12:11:12.103Z"
   },
   {
    "duration": 17,
    "start_time": "2021-10-21T12:11:12.111Z"
   },
   {
    "duration": 12,
    "start_time": "2021-10-21T12:11:12.130Z"
   },
   {
    "duration": 54,
    "start_time": "2021-10-21T12:11:12.143Z"
   },
   {
    "duration": 6,
    "start_time": "2021-10-21T12:11:12.198Z"
   },
   {
    "duration": 7,
    "start_time": "2021-10-21T12:11:12.206Z"
   },
   {
    "duration": 9,
    "start_time": "2021-10-21T12:11:12.215Z"
   },
   {
    "duration": 6,
    "start_time": "2021-10-21T12:11:12.226Z"
   },
   {
    "duration": 6,
    "start_time": "2021-10-21T12:11:12.234Z"
   },
   {
    "duration": 6,
    "start_time": "2021-10-21T12:11:12.242Z"
   },
   {
    "duration": 6,
    "start_time": "2021-10-21T12:11:12.249Z"
   },
   {
    "duration": 39,
    "start_time": "2021-10-21T12:11:12.257Z"
   },
   {
    "duration": 6,
    "start_time": "2021-10-21T12:11:12.298Z"
   },
   {
    "duration": 7,
    "start_time": "2021-10-21T12:11:12.306Z"
   },
   {
    "duration": 7,
    "start_time": "2021-10-21T12:11:12.315Z"
   },
   {
    "duration": 12,
    "start_time": "2021-10-21T12:11:12.324Z"
   },
   {
    "duration": 13,
    "start_time": "2021-10-21T12:11:12.338Z"
   },
   {
    "duration": 12,
    "start_time": "2021-10-21T12:11:12.352Z"
   },
   {
    "duration": 26,
    "start_time": "2021-10-21T12:11:12.366Z"
   },
   {
    "duration": 17,
    "start_time": "2021-10-21T12:11:12.394Z"
   },
   {
    "duration": 259,
    "start_time": "2021-10-21T12:11:12.412Z"
   },
   {
    "duration": 1305,
    "start_time": "2021-10-21T12:11:11.368Z"
   },
   {
    "duration": 1301,
    "start_time": "2021-10-21T12:11:11.372Z"
   },
   {
    "duration": 1299,
    "start_time": "2021-10-21T12:11:11.375Z"
   },
   {
    "duration": 1298,
    "start_time": "2021-10-21T12:11:11.377Z"
   },
   {
    "duration": 1298,
    "start_time": "2021-10-21T12:11:11.378Z"
   },
   {
    "duration": 1297,
    "start_time": "2021-10-21T12:11:11.380Z"
   },
   {
    "duration": 1295,
    "start_time": "2021-10-21T12:11:11.383Z"
   },
   {
    "duration": 172,
    "start_time": "2021-10-21T13:19:24.865Z"
   },
   {
    "duration": 3,
    "start_time": "2021-10-21T13:21:11.395Z"
   },
   {
    "duration": 4,
    "start_time": "2021-10-21T13:21:22.001Z"
   },
   {
    "duration": 18,
    "start_time": "2021-10-21T13:21:29.429Z"
   },
   {
    "duration": 11,
    "start_time": "2021-10-21T13:21:51.625Z"
   },
   {
    "duration": 220,
    "start_time": "2021-10-21T13:32:34.150Z"
   },
   {
    "duration": 7,
    "start_time": "2021-10-21T13:36:20.898Z"
   },
   {
    "duration": 22,
    "start_time": "2021-10-21T13:36:31.750Z"
   },
   {
    "duration": 5,
    "start_time": "2021-10-21T13:37:04.806Z"
   },
   {
    "duration": 32,
    "start_time": "2021-10-21T13:37:06.081Z"
   },
   {
    "duration": 193,
    "start_time": "2021-10-21T13:37:32.178Z"
   },
   {
    "duration": 6,
    "start_time": "2021-10-21T13:39:40.612Z"
   },
   {
    "duration": 23,
    "start_time": "2021-10-21T13:39:41.433Z"
   },
   {
    "duration": 6,
    "start_time": "2021-10-21T13:41:55.236Z"
   },
   {
    "duration": 30,
    "start_time": "2021-10-21T13:41:56.499Z"
   },
   {
    "duration": 323,
    "start_time": "2021-10-21T13:42:32.747Z"
   },
   {
    "duration": 13,
    "start_time": "2021-10-21T13:48:00.307Z"
   },
   {
    "duration": 5485,
    "start_time": "2021-10-21T14:01:00.947Z"
   },
   {
    "duration": 4913,
    "start_time": "2021-10-21T14:02:00.481Z"
   },
   {
    "duration": 6,
    "start_time": "2021-10-21T14:02:21.131Z"
   },
   {
    "duration": 23,
    "start_time": "2021-10-21T14:02:28.115Z"
   },
   {
    "duration": 65,
    "start_time": "2021-10-21T14:03:15.893Z"
   },
   {
    "duration": 23,
    "start_time": "2021-10-21T14:03:22.175Z"
   },
   {
    "duration": 5303,
    "start_time": "2021-10-21T14:03:57.879Z"
   },
   {
    "duration": 198,
    "start_time": "2021-10-21T14:04:35.616Z"
   },
   {
    "duration": 180,
    "start_time": "2021-10-21T14:05:18.375Z"
   },
   {
    "duration": 82,
    "start_time": "2021-10-21T14:06:01.133Z"
   },
   {
    "duration": 210,
    "start_time": "2021-10-21T14:06:21.260Z"
   },
   {
    "duration": 35,
    "start_time": "2021-10-21T14:06:38.957Z"
   },
   {
    "duration": 5,
    "start_time": "2021-10-21T14:08:33.789Z"
   },
   {
    "duration": 23,
    "start_time": "2021-10-21T14:08:35.561Z"
   },
   {
    "duration": 12,
    "start_time": "2021-10-21T14:08:55.024Z"
   },
   {
    "duration": 7,
    "start_time": "2021-10-21T14:09:02.308Z"
   },
   {
    "duration": 1102,
    "start_time": "2021-10-21T14:09:35.377Z"
   },
   {
    "duration": 41,
    "start_time": "2021-10-21T14:09:36.481Z"
   },
   {
    "duration": 14,
    "start_time": "2021-10-21T14:09:36.524Z"
   },
   {
    "duration": 10,
    "start_time": "2021-10-21T14:09:36.541Z"
   },
   {
    "duration": 23,
    "start_time": "2021-10-21T14:09:36.553Z"
   },
   {
    "duration": 7,
    "start_time": "2021-10-21T14:09:36.578Z"
   },
   {
    "duration": 10,
    "start_time": "2021-10-21T14:09:36.587Z"
   },
   {
    "duration": 25,
    "start_time": "2021-10-21T14:09:36.599Z"
   },
   {
    "duration": 9,
    "start_time": "2021-10-21T14:09:36.626Z"
   },
   {
    "duration": 14,
    "start_time": "2021-10-21T14:09:36.636Z"
   },
   {
    "duration": 23,
    "start_time": "2021-10-21T14:09:36.652Z"
   },
   {
    "duration": 6,
    "start_time": "2021-10-21T14:09:36.677Z"
   },
   {
    "duration": 10,
    "start_time": "2021-10-21T14:09:36.684Z"
   },
   {
    "duration": 13,
    "start_time": "2021-10-21T14:09:36.696Z"
   },
   {
    "duration": 11,
    "start_time": "2021-10-21T14:09:36.711Z"
   },
   {
    "duration": 10,
    "start_time": "2021-10-21T14:09:36.723Z"
   },
   {
    "duration": 16,
    "start_time": "2021-10-21T14:09:36.735Z"
   },
   {
    "duration": 38,
    "start_time": "2021-10-21T14:09:36.753Z"
   },
   {
    "duration": 10,
    "start_time": "2021-10-21T14:09:36.793Z"
   },
   {
    "duration": 17,
    "start_time": "2021-10-21T14:09:36.805Z"
   },
   {
    "duration": 13,
    "start_time": "2021-10-21T14:09:36.824Z"
   },
   {
    "duration": 6,
    "start_time": "2021-10-21T14:09:36.838Z"
   },
   {
    "duration": 6,
    "start_time": "2021-10-21T14:09:36.848Z"
   },
   {
    "duration": 37,
    "start_time": "2021-10-21T14:09:36.856Z"
   },
   {
    "duration": 6,
    "start_time": "2021-10-21T14:09:36.894Z"
   },
   {
    "duration": 7,
    "start_time": "2021-10-21T14:09:36.901Z"
   },
   {
    "duration": 20,
    "start_time": "2021-10-21T14:09:36.910Z"
   },
   {
    "duration": 14,
    "start_time": "2021-10-21T14:09:36.931Z"
   },
   {
    "duration": 45,
    "start_time": "2021-10-21T14:09:36.947Z"
   },
   {
    "duration": 21,
    "start_time": "2021-10-21T14:09:36.994Z"
   },
   {
    "duration": 6,
    "start_time": "2021-10-21T14:09:37.017Z"
   },
   {
    "duration": 6,
    "start_time": "2021-10-21T14:09:37.025Z"
   },
   {
    "duration": 10,
    "start_time": "2021-10-21T14:09:37.033Z"
   },
   {
    "duration": 17,
    "start_time": "2021-10-21T14:09:37.045Z"
   },
   {
    "duration": 12,
    "start_time": "2021-10-21T14:09:37.091Z"
   },
   {
    "duration": 17,
    "start_time": "2021-10-21T14:09:37.105Z"
   },
   {
    "duration": 7,
    "start_time": "2021-10-21T14:09:37.124Z"
   },
   {
    "duration": 8,
    "start_time": "2021-10-21T14:09:37.133Z"
   },
   {
    "duration": 7,
    "start_time": "2021-10-21T14:09:37.142Z"
   },
   {
    "duration": 43,
    "start_time": "2021-10-21T14:09:37.151Z"
   },
   {
    "duration": 5,
    "start_time": "2021-10-21T14:09:37.196Z"
   },
   {
    "duration": 10,
    "start_time": "2021-10-21T14:09:37.203Z"
   },
   {
    "duration": 8,
    "start_time": "2021-10-21T14:09:37.215Z"
   },
   {
    "duration": 6,
    "start_time": "2021-10-21T14:09:37.225Z"
   },
   {
    "duration": 8,
    "start_time": "2021-10-21T14:09:37.233Z"
   },
   {
    "duration": 7,
    "start_time": "2021-10-21T14:09:37.243Z"
   },
   {
    "duration": 41,
    "start_time": "2021-10-21T14:09:37.252Z"
   },
   {
    "duration": 9,
    "start_time": "2021-10-21T14:09:37.294Z"
   },
   {
    "duration": 10,
    "start_time": "2021-10-21T14:09:37.305Z"
   },
   {
    "duration": 7,
    "start_time": "2021-10-21T14:09:37.317Z"
   },
   {
    "duration": 10,
    "start_time": "2021-10-21T14:09:37.326Z"
   },
   {
    "duration": 17,
    "start_time": "2021-10-21T14:09:37.338Z"
   },
   {
    "duration": 4,
    "start_time": "2021-10-21T14:09:37.357Z"
   },
   {
    "duration": 18,
    "start_time": "2021-10-21T14:09:37.393Z"
   },
   {
    "duration": 13,
    "start_time": "2021-10-21T14:09:37.413Z"
   },
   {
    "duration": 6,
    "start_time": "2021-10-21T14:09:37.428Z"
   },
   {
    "duration": 20,
    "start_time": "2021-10-21T14:09:37.435Z"
   },
   {
    "duration": 46,
    "start_time": "2021-10-21T14:09:37.456Z"
   },
   {
    "duration": 324,
    "start_time": "2021-10-21T14:09:37.505Z"
   },
   {
    "duration": 5,
    "start_time": "2021-10-21T14:09:37.831Z"
   },
   {
    "duration": 21,
    "start_time": "2021-10-21T14:09:37.838Z"
   },
   {
    "duration": 32,
    "start_time": "2021-10-21T14:09:37.861Z"
   },
   {
    "duration": 7,
    "start_time": "2021-10-21T14:09:37.895Z"
   },
   {
    "duration": 1076,
    "start_time": "2021-10-21T14:54:32.840Z"
   },
   {
    "duration": 42,
    "start_time": "2021-10-21T14:54:33.917Z"
   },
   {
    "duration": 14,
    "start_time": "2021-10-21T14:54:33.961Z"
   },
   {
    "duration": 9,
    "start_time": "2021-10-21T14:54:33.977Z"
   },
   {
    "duration": 22,
    "start_time": "2021-10-21T14:54:33.988Z"
   },
   {
    "duration": 8,
    "start_time": "2021-10-21T14:54:34.012Z"
   },
   {
    "duration": 8,
    "start_time": "2021-10-21T14:54:34.022Z"
   },
   {
    "duration": 22,
    "start_time": "2021-10-21T14:54:34.033Z"
   },
   {
    "duration": 10,
    "start_time": "2021-10-21T14:54:34.057Z"
   },
   {
    "duration": 23,
    "start_time": "2021-10-21T14:54:34.069Z"
   },
   {
    "duration": 18,
    "start_time": "2021-10-21T14:54:34.094Z"
   },
   {
    "duration": 6,
    "start_time": "2021-10-21T14:54:34.113Z"
   },
   {
    "duration": 6,
    "start_time": "2021-10-21T14:54:34.121Z"
   },
   {
    "duration": 13,
    "start_time": "2021-10-21T14:54:34.129Z"
   },
   {
    "duration": 10,
    "start_time": "2021-10-21T14:54:34.144Z"
   },
   {
    "duration": 9,
    "start_time": "2021-10-21T14:54:34.155Z"
   },
   {
    "duration": 35,
    "start_time": "2021-10-21T14:54:34.166Z"
   },
   {
    "duration": 13,
    "start_time": "2021-10-21T14:54:34.203Z"
   },
   {
    "duration": 12,
    "start_time": "2021-10-21T14:54:34.217Z"
   },
   {
    "duration": 15,
    "start_time": "2021-10-21T14:54:34.231Z"
   },
   {
    "duration": 12,
    "start_time": "2021-10-21T14:54:34.248Z"
   },
   {
    "duration": 34,
    "start_time": "2021-10-21T14:54:34.261Z"
   },
   {
    "duration": 6,
    "start_time": "2021-10-21T14:54:34.299Z"
   },
   {
    "duration": 8,
    "start_time": "2021-10-21T14:54:34.307Z"
   },
   {
    "duration": 6,
    "start_time": "2021-10-21T14:54:34.316Z"
   },
   {
    "duration": 9,
    "start_time": "2021-10-21T14:54:34.324Z"
   },
   {
    "duration": 22,
    "start_time": "2021-10-21T14:54:34.335Z"
   },
   {
    "duration": 33,
    "start_time": "2021-10-21T14:54:34.359Z"
   },
   {
    "duration": 23,
    "start_time": "2021-10-21T14:54:34.393Z"
   },
   {
    "duration": 20,
    "start_time": "2021-10-21T14:54:34.418Z"
   },
   {
    "duration": 4,
    "start_time": "2021-10-21T14:54:34.439Z"
   },
   {
    "duration": 5,
    "start_time": "2021-10-21T14:54:34.444Z"
   },
   {
    "duration": 8,
    "start_time": "2021-10-21T14:54:34.450Z"
   },
   {
    "duration": 41,
    "start_time": "2021-10-21T14:54:34.460Z"
   },
   {
    "duration": 18,
    "start_time": "2021-10-21T14:54:34.502Z"
   },
   {
    "duration": 16,
    "start_time": "2021-10-21T14:54:34.522Z"
   },
   {
    "duration": 5,
    "start_time": "2021-10-21T14:54:34.540Z"
   },
   {
    "duration": 6,
    "start_time": "2021-10-21T14:54:34.547Z"
   },
   {
    "duration": 7,
    "start_time": "2021-10-21T14:54:34.555Z"
   },
   {
    "duration": 32,
    "start_time": "2021-10-21T14:54:34.564Z"
   },
   {
    "duration": 18,
    "start_time": "2021-10-21T14:54:34.597Z"
   },
   {
    "duration": 10,
    "start_time": "2021-10-21T14:54:34.616Z"
   },
   {
    "duration": 25,
    "start_time": "2021-10-21T14:54:34.628Z"
   },
   {
    "duration": 17,
    "start_time": "2021-10-21T14:54:34.655Z"
   },
   {
    "duration": 11,
    "start_time": "2021-10-21T14:54:34.673Z"
   },
   {
    "duration": 13,
    "start_time": "2021-10-21T14:54:34.685Z"
   },
   {
    "duration": 12,
    "start_time": "2021-10-21T14:54:34.700Z"
   },
   {
    "duration": 12,
    "start_time": "2021-10-21T14:54:34.714Z"
   },
   {
    "duration": 17,
    "start_time": "2021-10-21T14:54:34.728Z"
   },
   {
    "duration": 10,
    "start_time": "2021-10-21T14:54:34.746Z"
   },
   {
    "duration": 21,
    "start_time": "2021-10-21T14:54:34.758Z"
   },
   {
    "duration": 34,
    "start_time": "2021-10-21T14:54:34.780Z"
   },
   {
    "duration": 5,
    "start_time": "2021-10-21T14:54:34.815Z"
   },
   {
    "duration": 26,
    "start_time": "2021-10-21T14:54:34.821Z"
   },
   {
    "duration": 13,
    "start_time": "2021-10-21T14:54:34.848Z"
   },
   {
    "duration": 5,
    "start_time": "2021-10-21T14:54:34.862Z"
   },
   {
    "duration": 23,
    "start_time": "2021-10-21T14:54:34.868Z"
   },
   {
    "duration": 11,
    "start_time": "2021-10-21T14:54:34.892Z"
   },
   {
    "duration": 338,
    "start_time": "2021-10-21T14:54:34.904Z"
   },
   {
    "duration": 5,
    "start_time": "2021-10-21T14:54:35.243Z"
   },
   {
    "duration": 24,
    "start_time": "2021-10-21T14:54:35.249Z"
   },
   {
    "duration": 26,
    "start_time": "2021-10-21T14:54:35.274Z"
   },
   {
    "duration": 5,
    "start_time": "2021-10-21T14:54:35.302Z"
   },
   {
    "duration": 24,
    "start_time": "2021-10-21T15:41:07.605Z"
   },
   {
    "duration": 1121,
    "start_time": "2021-10-21T15:41:29.274Z"
   },
   {
    "duration": 41,
    "start_time": "2021-10-21T15:41:30.399Z"
   },
   {
    "duration": 15,
    "start_time": "2021-10-21T15:41:30.443Z"
   },
   {
    "duration": 12,
    "start_time": "2021-10-21T15:41:30.460Z"
   },
   {
    "duration": 43,
    "start_time": "2021-10-21T15:41:30.474Z"
   },
   {
    "duration": 11,
    "start_time": "2021-10-21T15:41:30.519Z"
   },
   {
    "duration": 20,
    "start_time": "2021-10-21T15:41:30.532Z"
   },
   {
    "duration": 36,
    "start_time": "2021-10-21T15:41:30.554Z"
   },
   {
    "duration": 23,
    "start_time": "2021-10-21T15:41:30.594Z"
   },
   {
    "duration": 12,
    "start_time": "2021-10-21T15:41:30.619Z"
   },
   {
    "duration": 23,
    "start_time": "2021-10-21T15:41:30.632Z"
   },
   {
    "duration": 6,
    "start_time": "2021-10-21T15:41:30.657Z"
   },
   {
    "duration": 11,
    "start_time": "2021-10-21T15:41:30.664Z"
   },
   {
    "duration": 19,
    "start_time": "2021-10-21T15:41:30.677Z"
   },
   {
    "duration": 14,
    "start_time": "2021-10-21T15:41:30.699Z"
   },
   {
    "duration": 11,
    "start_time": "2021-10-21T15:41:30.715Z"
   },
   {
    "duration": 21,
    "start_time": "2021-10-21T15:41:30.728Z"
   },
   {
    "duration": 13,
    "start_time": "2021-10-21T15:41:30.750Z"
   },
   {
    "duration": 31,
    "start_time": "2021-10-21T15:41:30.765Z"
   },
   {
    "duration": 25,
    "start_time": "2021-10-21T15:41:30.798Z"
   },
   {
    "duration": 17,
    "start_time": "2021-10-21T15:41:30.825Z"
   },
   {
    "duration": 6,
    "start_time": "2021-10-21T15:41:30.844Z"
   },
   {
    "duration": 8,
    "start_time": "2021-10-21T15:41:30.852Z"
   },
   {
    "duration": 6,
    "start_time": "2021-10-21T15:41:30.861Z"
   },
   {
    "duration": 27,
    "start_time": "2021-10-21T15:41:30.868Z"
   },
   {
    "duration": 13,
    "start_time": "2021-10-21T15:41:30.898Z"
   },
   {
    "duration": 18,
    "start_time": "2021-10-21T15:41:30.916Z"
   },
   {
    "duration": 22,
    "start_time": "2021-10-21T15:41:30.937Z"
   },
   {
    "duration": 40,
    "start_time": "2021-10-21T15:41:30.961Z"
   },
   {
    "duration": 28,
    "start_time": "2021-10-21T15:41:31.003Z"
   },
   {
    "duration": 23,
    "start_time": "2021-10-21T15:41:31.032Z"
   },
   {
    "duration": 3,
    "start_time": "2021-10-21T15:41:31.057Z"
   },
   {
    "duration": 6,
    "start_time": "2021-10-21T15:41:31.062Z"
   },
   {
    "duration": 22,
    "start_time": "2021-10-21T15:41:31.069Z"
   },
   {
    "duration": 21,
    "start_time": "2021-10-21T15:41:31.093Z"
   },
   {
    "duration": 17,
    "start_time": "2021-10-21T15:41:31.116Z"
   },
   {
    "duration": 18,
    "start_time": "2021-10-21T15:41:31.134Z"
   },
   {
    "duration": 6,
    "start_time": "2021-10-21T15:41:31.154Z"
   },
   {
    "duration": 35,
    "start_time": "2021-10-21T15:41:31.161Z"
   },
   {
    "duration": 8,
    "start_time": "2021-10-21T15:41:31.198Z"
   },
   {
    "duration": 14,
    "start_time": "2021-10-21T15:41:31.208Z"
   },
   {
    "duration": 16,
    "start_time": "2021-10-21T15:41:31.223Z"
   },
   {
    "duration": 7,
    "start_time": "2021-10-21T15:41:31.241Z"
   },
   {
    "duration": 11,
    "start_time": "2021-10-21T15:41:31.250Z"
   },
   {
    "duration": 11,
    "start_time": "2021-10-21T15:41:31.262Z"
   },
   {
    "duration": 21,
    "start_time": "2021-10-21T15:41:31.274Z"
   },
   {
    "duration": 9,
    "start_time": "2021-10-21T15:41:31.298Z"
   },
   {
    "duration": 11,
    "start_time": "2021-10-21T15:41:31.309Z"
   },
   {
    "duration": 8,
    "start_time": "2021-10-21T15:41:31.322Z"
   },
   {
    "duration": 8,
    "start_time": "2021-10-21T15:41:31.331Z"
   },
   {
    "duration": 7,
    "start_time": "2021-10-21T15:41:31.341Z"
   },
   {
    "duration": 10,
    "start_time": "2021-10-21T15:41:31.350Z"
   },
   {
    "duration": 40,
    "start_time": "2021-10-21T15:41:31.362Z"
   },
   {
    "duration": 4,
    "start_time": "2021-10-21T15:41:31.405Z"
   },
   {
    "duration": 23,
    "start_time": "2021-10-21T15:41:31.411Z"
   },
   {
    "duration": 12,
    "start_time": "2021-10-21T15:41:31.436Z"
   },
   {
    "duration": 4,
    "start_time": "2021-10-21T15:41:31.450Z"
   },
   {
    "duration": 46,
    "start_time": "2021-10-21T15:41:31.456Z"
   },
   {
    "duration": 20,
    "start_time": "2021-10-21T15:41:31.505Z"
   },
   {
    "duration": 315,
    "start_time": "2021-10-21T15:41:31.526Z"
   },
   {
    "duration": 5,
    "start_time": "2021-10-21T15:41:31.843Z"
   },
   {
    "duration": 24,
    "start_time": "2021-10-21T15:41:31.849Z"
   },
   {
    "duration": 26,
    "start_time": "2021-10-21T15:41:31.875Z"
   },
   {
    "duration": 7,
    "start_time": "2021-10-21T15:41:31.904Z"
   },
   {
    "duration": 1228,
    "start_time": "2021-10-21T15:42:11.074Z"
   },
   {
    "duration": 41,
    "start_time": "2021-10-21T15:42:12.304Z"
   },
   {
    "duration": 12,
    "start_time": "2021-10-21T15:42:12.347Z"
   },
   {
    "duration": 9,
    "start_time": "2021-10-21T15:42:12.361Z"
   },
   {
    "duration": 28,
    "start_time": "2021-10-21T15:42:12.371Z"
   },
   {
    "duration": 9,
    "start_time": "2021-10-21T15:42:12.402Z"
   },
   {
    "duration": 8,
    "start_time": "2021-10-21T15:42:12.413Z"
   },
   {
    "duration": 21,
    "start_time": "2021-10-21T15:42:12.423Z"
   },
   {
    "duration": 9,
    "start_time": "2021-10-21T15:42:12.447Z"
   },
   {
    "duration": 8,
    "start_time": "2021-10-21T15:42:12.458Z"
   },
   {
    "duration": 40,
    "start_time": "2021-10-21T15:42:12.468Z"
   },
   {
    "duration": 8,
    "start_time": "2021-10-21T15:42:12.510Z"
   },
   {
    "duration": 5,
    "start_time": "2021-10-21T15:42:12.520Z"
   },
   {
    "duration": 12,
    "start_time": "2021-10-21T15:42:12.527Z"
   },
   {
    "duration": 11,
    "start_time": "2021-10-21T15:42:12.541Z"
   },
   {
    "duration": 10,
    "start_time": "2021-10-21T15:42:12.553Z"
   },
   {
    "duration": 39,
    "start_time": "2021-10-21T15:42:12.564Z"
   },
   {
    "duration": 15,
    "start_time": "2021-10-21T15:42:12.605Z"
   },
   {
    "duration": 10,
    "start_time": "2021-10-21T15:42:12.622Z"
   },
   {
    "duration": 16,
    "start_time": "2021-10-21T15:42:12.633Z"
   },
   {
    "duration": 11,
    "start_time": "2021-10-21T15:42:12.650Z"
   },
   {
    "duration": 12,
    "start_time": "2021-10-21T15:42:12.691Z"
   },
   {
    "duration": 7,
    "start_time": "2021-10-21T15:42:12.705Z"
   },
   {
    "duration": 6,
    "start_time": "2021-10-21T15:42:12.714Z"
   },
   {
    "duration": 4,
    "start_time": "2021-10-21T15:42:12.722Z"
   },
   {
    "duration": 24,
    "start_time": "2021-10-21T15:42:12.728Z"
   },
   {
    "duration": 5,
    "start_time": "2021-10-21T15:42:12.756Z"
   },
   {
    "duration": 47,
    "start_time": "2021-10-21T15:42:12.763Z"
   },
   {
    "duration": 11,
    "start_time": "2021-10-21T15:42:12.812Z"
   },
   {
    "duration": 22,
    "start_time": "2021-10-21T15:42:12.825Z"
   },
   {
    "duration": 46,
    "start_time": "2021-10-21T15:42:12.849Z"
   },
   {
    "duration": 4,
    "start_time": "2021-10-21T15:42:12.897Z"
   },
   {
    "duration": 10,
    "start_time": "2021-10-21T15:42:12.903Z"
   },
   {
    "duration": 10,
    "start_time": "2021-10-21T15:42:12.914Z"
   },
   {
    "duration": 18,
    "start_time": "2021-10-21T15:42:12.925Z"
   },
   {
    "duration": 12,
    "start_time": "2021-10-21T15:42:12.945Z"
   },
   {
    "duration": 45,
    "start_time": "2021-10-21T15:42:12.959Z"
   },
   {
    "duration": 9,
    "start_time": "2021-10-21T15:42:13.006Z"
   },
   {
    "duration": 7,
    "start_time": "2021-10-21T15:42:13.016Z"
   },
   {
    "duration": 6,
    "start_time": "2021-10-21T15:42:13.025Z"
   },
   {
    "duration": 7,
    "start_time": "2021-10-21T15:42:13.033Z"
   },
   {
    "duration": 8,
    "start_time": "2021-10-21T15:42:13.041Z"
   },
   {
    "duration": 7,
    "start_time": "2021-10-21T15:42:13.050Z"
   },
   {
    "duration": 9,
    "start_time": "2021-10-21T15:42:13.091Z"
   },
   {
    "duration": 10,
    "start_time": "2021-10-21T15:42:13.102Z"
   },
   {
    "duration": 13,
    "start_time": "2021-10-21T15:42:13.113Z"
   },
   {
    "duration": 8,
    "start_time": "2021-10-21T15:42:13.127Z"
   },
   {
    "duration": 12,
    "start_time": "2021-10-21T15:42:13.136Z"
   },
   {
    "duration": 7,
    "start_time": "2021-10-21T15:42:13.149Z"
   },
   {
    "duration": 7,
    "start_time": "2021-10-21T15:42:13.158Z"
   },
   {
    "duration": 10,
    "start_time": "2021-10-21T15:42:13.191Z"
   },
   {
    "duration": 9,
    "start_time": "2021-10-21T15:42:13.203Z"
   },
   {
    "duration": 17,
    "start_time": "2021-10-21T15:42:13.214Z"
   },
   {
    "duration": 4,
    "start_time": "2021-10-21T15:42:13.234Z"
   },
   {
    "duration": 21,
    "start_time": "2021-10-21T15:42:13.240Z"
   },
   {
    "duration": 38,
    "start_time": "2021-10-21T15:42:13.263Z"
   },
   {
    "duration": 6,
    "start_time": "2021-10-21T15:42:13.304Z"
   },
   {
    "duration": 19,
    "start_time": "2021-10-21T15:42:13.312Z"
   },
   {
    "duration": 9,
    "start_time": "2021-10-21T15:42:13.333Z"
   },
   {
    "duration": 358,
    "start_time": "2021-10-21T15:42:13.344Z"
   },
   {
    "duration": 5,
    "start_time": "2021-10-21T15:42:13.705Z"
   },
   {
    "duration": 22,
    "start_time": "2021-10-21T15:42:13.712Z"
   },
   {
    "duration": 12,
    "start_time": "2021-10-21T15:42:13.736Z"
   },
   {
    "duration": 7,
    "start_time": "2021-10-21T15:42:13.750Z"
   },
   {
    "duration": 1175,
    "start_time": "2021-10-21T15:43:02.873Z"
   },
   {
    "duration": 40,
    "start_time": "2021-10-21T15:43:04.050Z"
   },
   {
    "duration": 18,
    "start_time": "2021-10-21T15:43:04.093Z"
   },
   {
    "duration": 11,
    "start_time": "2021-10-21T15:43:04.114Z"
   },
   {
    "duration": 22,
    "start_time": "2021-10-21T15:43:04.126Z"
   },
   {
    "duration": 7,
    "start_time": "2021-10-21T15:43:04.149Z"
   },
   {
    "duration": 9,
    "start_time": "2021-10-21T15:43:04.157Z"
   },
   {
    "duration": 27,
    "start_time": "2021-10-21T15:43:04.168Z"
   },
   {
    "duration": 12,
    "start_time": "2021-10-21T15:43:04.197Z"
   },
   {
    "duration": 11,
    "start_time": "2021-10-21T15:43:04.211Z"
   },
   {
    "duration": 20,
    "start_time": "2021-10-21T15:43:04.224Z"
   },
   {
    "duration": 6,
    "start_time": "2021-10-21T15:43:04.246Z"
   },
   {
    "duration": 6,
    "start_time": "2021-10-21T15:43:04.254Z"
   },
   {
    "duration": 14,
    "start_time": "2021-10-21T15:43:04.262Z"
   },
   {
    "duration": 26,
    "start_time": "2021-10-21T15:43:04.278Z"
   },
   {
    "duration": 12,
    "start_time": "2021-10-21T15:43:04.306Z"
   },
   {
    "duration": 16,
    "start_time": "2021-10-21T15:43:04.319Z"
   },
   {
    "duration": 14,
    "start_time": "2021-10-21T15:43:04.336Z"
   },
   {
    "duration": 41,
    "start_time": "2021-10-21T15:43:04.351Z"
   },
   {
    "duration": 19,
    "start_time": "2021-10-21T15:43:04.395Z"
   },
   {
    "duration": 13,
    "start_time": "2021-10-21T15:43:04.416Z"
   },
   {
    "duration": 5,
    "start_time": "2021-10-21T15:43:04.430Z"
   },
   {
    "duration": 8,
    "start_time": "2021-10-21T15:43:04.439Z"
   },
   {
    "duration": 5,
    "start_time": "2021-10-21T15:43:04.449Z"
   },
   {
    "duration": 6,
    "start_time": "2021-10-21T15:43:04.455Z"
   },
   {
    "duration": 33,
    "start_time": "2021-10-21T15:43:04.463Z"
   },
   {
    "duration": 20,
    "start_time": "2021-10-21T15:43:04.498Z"
   },
   {
    "duration": 14,
    "start_time": "2021-10-21T15:43:04.520Z"
   },
   {
    "duration": 22,
    "start_time": "2021-10-21T15:43:04.536Z"
   },
   {
    "duration": 44,
    "start_time": "2021-10-21T15:43:04.560Z"
   },
   {
    "duration": 5,
    "start_time": "2021-10-21T15:43:04.606Z"
   },
   {
    "duration": 5,
    "start_time": "2021-10-21T15:43:04.613Z"
   },
   {
    "duration": 7,
    "start_time": "2021-10-21T15:43:04.620Z"
   },
   {
    "duration": 17,
    "start_time": "2021-10-21T15:43:04.629Z"
   },
   {
    "duration": 12,
    "start_time": "2021-10-21T15:43:04.647Z"
   },
   {
    "duration": 43,
    "start_time": "2021-10-21T15:43:04.660Z"
   },
   {
    "duration": 6,
    "start_time": "2021-10-21T15:43:04.704Z"
   },
   {
    "duration": 8,
    "start_time": "2021-10-21T15:43:04.712Z"
   },
   {
    "duration": 8,
    "start_time": "2021-10-21T15:43:04.721Z"
   },
   {
    "duration": 7,
    "start_time": "2021-10-21T15:43:04.731Z"
   },
   {
    "duration": 7,
    "start_time": "2021-10-21T15:43:04.740Z"
   },
   {
    "duration": 6,
    "start_time": "2021-10-21T15:43:04.749Z"
   },
   {
    "duration": 39,
    "start_time": "2021-10-21T15:43:04.757Z"
   },
   {
    "duration": 9,
    "start_time": "2021-10-21T15:43:04.798Z"
   },
   {
    "duration": 8,
    "start_time": "2021-10-21T15:43:04.808Z"
   },
   {
    "duration": 7,
    "start_time": "2021-10-21T15:43:04.818Z"
   },
   {
    "duration": 8,
    "start_time": "2021-10-21T15:43:04.826Z"
   },
   {
    "duration": 9,
    "start_time": "2021-10-21T15:43:04.836Z"
   },
   {
    "duration": 7,
    "start_time": "2021-10-21T15:43:04.846Z"
   },
   {
    "duration": 8,
    "start_time": "2021-10-21T15:43:04.854Z"
   },
   {
    "duration": 30,
    "start_time": "2021-10-21T15:43:04.864Z"
   },
   {
    "duration": 19,
    "start_time": "2021-10-21T15:43:04.895Z"
   },
   {
    "duration": 3,
    "start_time": "2021-10-21T15:43:04.916Z"
   },
   {
    "duration": 25,
    "start_time": "2021-10-21T15:43:04.920Z"
   },
   {
    "duration": 13,
    "start_time": "2021-10-21T15:43:04.946Z"
   },
   {
    "duration": 7,
    "start_time": "2021-10-21T15:43:04.960Z"
   },
   {
    "duration": 28,
    "start_time": "2021-10-21T15:43:04.968Z"
   },
   {
    "duration": 12,
    "start_time": "2021-10-21T15:43:04.998Z"
   },
   {
    "duration": 323,
    "start_time": "2021-10-21T15:43:05.012Z"
   },
   {
    "duration": 4,
    "start_time": "2021-10-21T15:43:05.337Z"
   },
   {
    "duration": 22,
    "start_time": "2021-10-21T15:43:05.343Z"
   },
   {
    "duration": 28,
    "start_time": "2021-10-21T15:43:05.367Z"
   },
   {
    "duration": 7,
    "start_time": "2021-10-21T15:43:05.397Z"
   },
   {
    "duration": 1973,
    "start_time": "2021-10-23T07:58:24.742Z"
   },
   {
    "duration": 49,
    "start_time": "2021-10-23T07:58:26.718Z"
   },
   {
    "duration": 21,
    "start_time": "2021-10-23T07:58:26.770Z"
   },
   {
    "duration": 12,
    "start_time": "2021-10-23T07:58:26.793Z"
   },
   {
    "duration": 51,
    "start_time": "2021-10-23T07:58:26.808Z"
   },
   {
    "duration": 11,
    "start_time": "2021-10-23T07:58:26.861Z"
   },
   {
    "duration": 10,
    "start_time": "2021-10-23T07:58:26.875Z"
   },
   {
    "duration": 27,
    "start_time": "2021-10-23T07:58:26.889Z"
   },
   {
    "duration": 44,
    "start_time": "2021-10-23T07:58:26.919Z"
   },
   {
    "duration": 13,
    "start_time": "2021-10-23T07:58:26.965Z"
   },
   {
    "duration": 23,
    "start_time": "2021-10-23T07:58:26.980Z"
   },
   {
    "duration": 9,
    "start_time": "2021-10-23T07:58:27.006Z"
   },
   {
    "duration": 43,
    "start_time": "2021-10-23T07:58:27.018Z"
   },
   {
    "duration": 19,
    "start_time": "2021-10-23T07:58:27.064Z"
   },
   {
    "duration": 17,
    "start_time": "2021-10-23T07:58:27.086Z"
   },
   {
    "duration": 57,
    "start_time": "2021-10-23T07:58:27.105Z"
   },
   {
    "duration": 33,
    "start_time": "2021-10-23T07:58:27.164Z"
   },
   {
    "duration": 23,
    "start_time": "2021-10-23T07:58:27.200Z"
   },
   {
    "duration": 41,
    "start_time": "2021-10-23T07:58:27.226Z"
   },
   {
    "duration": 28,
    "start_time": "2021-10-23T07:58:27.269Z"
   },
   {
    "duration": 17,
    "start_time": "2021-10-23T07:58:27.299Z"
   },
   {
    "duration": 46,
    "start_time": "2021-10-23T07:58:27.319Z"
   },
   {
    "duration": 10,
    "start_time": "2021-10-23T07:58:27.371Z"
   },
   {
    "duration": 7,
    "start_time": "2021-10-23T07:58:27.384Z"
   },
   {
    "duration": 7,
    "start_time": "2021-10-23T07:58:27.393Z"
   },
   {
    "duration": 9,
    "start_time": "2021-10-23T07:58:27.402Z"
   },
   {
    "duration": 68,
    "start_time": "2021-10-23T07:58:27.413Z"
   },
   {
    "duration": 22,
    "start_time": "2021-10-23T07:58:27.484Z"
   },
   {
    "duration": 77,
    "start_time": "2021-10-23T07:58:27.509Z"
   },
   {
    "duration": 68,
    "start_time": "2021-10-23T07:58:27.589Z"
   },
   {
    "duration": 7,
    "start_time": "2021-10-23T07:58:27.661Z"
   },
   {
    "duration": 7,
    "start_time": "2021-10-23T07:58:27.671Z"
   },
   {
    "duration": 11,
    "start_time": "2021-10-23T07:58:27.681Z"
   },
   {
    "duration": 76,
    "start_time": "2021-10-23T07:58:27.695Z"
   },
   {
    "duration": 15,
    "start_time": "2021-10-23T07:58:27.774Z"
   },
   {
    "duration": 24,
    "start_time": "2021-10-23T07:58:27.791Z"
   },
   {
    "duration": 7,
    "start_time": "2021-10-23T07:58:27.817Z"
   },
   {
    "duration": 8,
    "start_time": "2021-10-23T07:58:27.858Z"
   },
   {
    "duration": 15,
    "start_time": "2021-10-23T07:58:27.868Z"
   },
   {
    "duration": 10,
    "start_time": "2021-10-23T07:58:27.885Z"
   },
   {
    "duration": 13,
    "start_time": "2021-10-23T07:58:27.897Z"
   },
   {
    "duration": 45,
    "start_time": "2021-10-23T07:58:27.912Z"
   },
   {
    "duration": 8,
    "start_time": "2021-10-23T07:58:27.960Z"
   },
   {
    "duration": 12,
    "start_time": "2021-10-23T07:58:27.972Z"
   },
   {
    "duration": 12,
    "start_time": "2021-10-23T07:58:27.987Z"
   },
   {
    "duration": 12,
    "start_time": "2021-10-23T07:58:28.002Z"
   },
   {
    "duration": 47,
    "start_time": "2021-10-23T07:58:28.017Z"
   },
   {
    "duration": 9,
    "start_time": "2021-10-23T07:58:28.066Z"
   },
   {
    "duration": 15,
    "start_time": "2021-10-23T07:58:28.077Z"
   },
   {
    "duration": 14,
    "start_time": "2021-10-23T07:58:28.095Z"
   },
   {
    "duration": 10,
    "start_time": "2021-10-23T07:58:28.111Z"
   },
   {
    "duration": 54,
    "start_time": "2021-10-23T07:58:28.123Z"
   },
   {
    "duration": 5,
    "start_time": "2021-10-23T07:58:28.179Z"
   },
   {
    "duration": 28,
    "start_time": "2021-10-23T07:58:28.186Z"
   },
   {
    "duration": 47,
    "start_time": "2021-10-23T07:58:28.217Z"
   },
   {
    "duration": 6,
    "start_time": "2021-10-23T07:58:28.267Z"
   },
   {
    "duration": 34,
    "start_time": "2021-10-23T07:58:28.275Z"
   },
   {
    "duration": 47,
    "start_time": "2021-10-23T07:58:28.311Z"
   },
   {
    "duration": 407,
    "start_time": "2021-10-23T07:58:28.361Z"
   },
   {
    "duration": 7,
    "start_time": "2021-10-23T07:58:28.770Z"
   },
   {
    "duration": 36,
    "start_time": "2021-10-23T07:58:28.779Z"
   },
   {
    "duration": 45,
    "start_time": "2021-10-23T07:58:28.818Z"
   },
   {
    "duration": 9,
    "start_time": "2021-10-23T07:58:28.866Z"
   },
   {
    "duration": 1450,
    "start_time": "2021-10-24T12:41:46.652Z"
   },
   {
    "duration": 48,
    "start_time": "2021-10-24T12:41:48.104Z"
   },
   {
    "duration": 18,
    "start_time": "2021-10-24T12:41:48.155Z"
   },
   {
    "duration": 10,
    "start_time": "2021-10-24T12:41:48.176Z"
   },
   {
    "duration": 27,
    "start_time": "2021-10-24T12:41:48.189Z"
   },
   {
    "duration": 28,
    "start_time": "2021-10-24T12:41:48.218Z"
   },
   {
    "duration": 12,
    "start_time": "2021-10-24T12:41:48.248Z"
   },
   {
    "duration": 24,
    "start_time": "2021-10-24T12:41:48.266Z"
   },
   {
    "duration": 11,
    "start_time": "2021-10-24T12:41:48.293Z"
   },
   {
    "duration": 8,
    "start_time": "2021-10-24T12:41:48.307Z"
   },
   {
    "duration": 34,
    "start_time": "2021-10-24T12:41:48.317Z"
   },
   {
    "duration": 10,
    "start_time": "2021-10-24T12:41:48.354Z"
   },
   {
    "duration": 10,
    "start_time": "2021-10-24T12:41:48.372Z"
   },
   {
    "duration": 18,
    "start_time": "2021-10-24T12:41:48.384Z"
   },
   {
    "duration": 15,
    "start_time": "2021-10-24T12:41:48.404Z"
   },
   {
    "duration": 39,
    "start_time": "2021-10-24T12:41:48.421Z"
   },
   {
    "duration": 25,
    "start_time": "2021-10-24T12:41:48.462Z"
   },
   {
    "duration": 15,
    "start_time": "2021-10-24T12:41:48.489Z"
   },
   {
    "duration": 41,
    "start_time": "2021-10-24T12:41:48.506Z"
   },
   {
    "duration": 24,
    "start_time": "2021-10-24T12:41:48.550Z"
   },
   {
    "duration": 11,
    "start_time": "2021-10-24T12:41:48.576Z"
   },
   {
    "duration": 6,
    "start_time": "2021-10-24T12:41:48.589Z"
   },
   {
    "duration": 8,
    "start_time": "2021-10-24T12:41:48.597Z"
   },
   {
    "duration": 6,
    "start_time": "2021-10-24T12:41:48.607Z"
   },
   {
    "duration": 6,
    "start_time": "2021-10-24T12:41:48.656Z"
   },
   {
    "duration": 14,
    "start_time": "2021-10-24T12:41:48.664Z"
   },
   {
    "duration": 17,
    "start_time": "2021-10-24T12:41:48.684Z"
   },
   {
    "duration": 12,
    "start_time": "2021-10-24T12:41:48.704Z"
   },
   {
    "duration": 65,
    "start_time": "2021-10-24T12:41:48.717Z"
   },
   {
    "duration": 32,
    "start_time": "2021-10-24T12:41:48.784Z"
   },
   {
    "duration": 5,
    "start_time": "2021-10-24T12:41:48.818Z"
   },
   {
    "duration": 26,
    "start_time": "2021-10-24T12:41:48.825Z"
   },
   {
    "duration": 15,
    "start_time": "2021-10-24T12:41:48.853Z"
   },
   {
    "duration": 22,
    "start_time": "2021-10-24T12:41:48.871Z"
   },
   {
    "duration": 27,
    "start_time": "2021-10-24T12:41:48.895Z"
   },
   {
    "duration": 22,
    "start_time": "2021-10-24T12:41:48.924Z"
   },
   {
    "duration": 10,
    "start_time": "2021-10-24T12:41:48.948Z"
   },
   {
    "duration": 17,
    "start_time": "2021-10-24T12:41:48.960Z"
   },
   {
    "duration": 35,
    "start_time": "2021-10-24T12:41:48.979Z"
   },
   {
    "duration": 14,
    "start_time": "2021-10-24T12:41:49.016Z"
   },
   {
    "duration": 36,
    "start_time": "2021-10-24T12:41:49.032Z"
   },
   {
    "duration": 23,
    "start_time": "2021-10-24T12:41:49.069Z"
   },
   {
    "duration": 23,
    "start_time": "2021-10-24T12:41:49.095Z"
   },
   {
    "duration": 18,
    "start_time": "2021-10-24T12:41:49.120Z"
   },
   {
    "duration": 18,
    "start_time": "2021-10-24T12:41:49.141Z"
   },
   {
    "duration": 21,
    "start_time": "2021-10-24T12:41:49.161Z"
   },
   {
    "duration": 31,
    "start_time": "2021-10-24T12:41:49.185Z"
   },
   {
    "duration": 25,
    "start_time": "2021-10-24T12:41:49.218Z"
   },
   {
    "duration": 19,
    "start_time": "2021-10-24T12:41:49.248Z"
   },
   {
    "duration": 26,
    "start_time": "2021-10-24T12:41:49.269Z"
   },
   {
    "duration": 11,
    "start_time": "2021-10-24T12:41:49.298Z"
   },
   {
    "duration": 32,
    "start_time": "2021-10-24T12:41:49.311Z"
   },
   {
    "duration": 5,
    "start_time": "2021-10-24T12:41:49.345Z"
   },
   {
    "duration": 28,
    "start_time": "2021-10-24T12:41:49.352Z"
   },
   {
    "duration": 23,
    "start_time": "2021-10-24T12:41:49.382Z"
   },
   {
    "duration": 15,
    "start_time": "2021-10-24T12:41:49.407Z"
   },
   {
    "duration": 68,
    "start_time": "2021-10-24T12:41:49.424Z"
   },
   {
    "duration": 17,
    "start_time": "2021-10-24T12:41:49.495Z"
   },
   {
    "duration": 349,
    "start_time": "2021-10-24T12:41:49.514Z"
   },
   {
    "duration": 9,
    "start_time": "2021-10-24T12:41:49.865Z"
   },
   {
    "duration": 29,
    "start_time": "2021-10-24T12:41:49.876Z"
   },
   {
    "duration": 28,
    "start_time": "2021-10-24T12:41:49.907Z"
   },
   {
    "duration": 14,
    "start_time": "2021-10-24T12:41:49.937Z"
   },
   {
    "duration": 100,
    "start_time": "2021-10-24T12:41:49.953Z"
   },
   {
    "duration": 10,
    "start_time": "2021-10-24T12:44:31.435Z"
   },
   {
    "duration": 4,
    "start_time": "2021-10-24T12:44:42.725Z"
   },
   {
    "duration": 8,
    "start_time": "2021-10-24T12:46:29.202Z"
   },
   {
    "duration": 8,
    "start_time": "2021-10-24T12:46:39.268Z"
   },
   {
    "duration": 4,
    "start_time": "2021-10-24T13:06:54.889Z"
   },
   {
    "duration": 6,
    "start_time": "2021-10-24T13:08:52.844Z"
   },
   {
    "duration": 4,
    "start_time": "2021-10-24T13:09:22.160Z"
   },
   {
    "duration": 3,
    "start_time": "2021-10-24T13:09:37.688Z"
   },
   {
    "duration": 2,
    "start_time": "2021-10-24T13:09:46.330Z"
   },
   {
    "duration": 514,
    "start_time": "2021-10-24T13:18:20.512Z"
   },
   {
    "duration": 3,
    "start_time": "2021-10-24T13:18:39.837Z"
   },
   {
    "duration": 299,
    "start_time": "2021-10-24T13:18:47.193Z"
   },
   {
    "duration": 4,
    "start_time": "2021-10-24T13:19:07.118Z"
   },
   {
    "duration": 4,
    "start_time": "2021-10-24T13:21:24.887Z"
   },
   {
    "duration": 5,
    "start_time": "2021-10-24T13:23:22.364Z"
   },
   {
    "duration": 3,
    "start_time": "2021-10-24T13:23:31.722Z"
   },
   {
    "duration": 3,
    "start_time": "2021-10-24T13:24:45.280Z"
   },
   {
    "duration": 284,
    "start_time": "2021-10-24T13:25:03.270Z"
   },
   {
    "duration": 312,
    "start_time": "2021-10-24T13:25:09.183Z"
   },
   {
    "duration": 4,
    "start_time": "2021-10-24T13:26:38.858Z"
   },
   {
    "duration": 3,
    "start_time": "2021-10-24T13:26:56.624Z"
   },
   {
    "duration": 6,
    "start_time": "2021-10-24T13:27:23.676Z"
   },
   {
    "duration": 8,
    "start_time": "2021-10-24T13:28:06.069Z"
   },
   {
    "duration": 6,
    "start_time": "2021-10-24T13:28:32.799Z"
   },
   {
    "duration": 11,
    "start_time": "2021-10-24T13:28:56.251Z"
   },
   {
    "duration": 22,
    "start_time": "2021-10-24T13:31:10.822Z"
   },
   {
    "duration": 3,
    "start_time": "2021-10-24T13:36:34.086Z"
   },
   {
    "duration": 285,
    "start_time": "2021-10-24T13:40:06.328Z"
   },
   {
    "duration": 3,
    "start_time": "2021-10-24T13:40:19.623Z"
   },
   {
    "duration": 306,
    "start_time": "2021-10-24T13:40:20.432Z"
   },
   {
    "duration": 754,
    "start_time": "2021-10-24T13:40:49.846Z"
   },
   {
    "duration": 3,
    "start_time": "2021-10-24T13:50:56.392Z"
   },
   {
    "duration": 4,
    "start_time": "2021-10-24T13:50:57.544Z"
   },
   {
    "duration": 151758,
    "start_time": "2021-10-24T13:50:58.695Z"
   },
   {
    "duration": 288,
    "start_time": "2021-10-24T13:55:54.753Z"
   },
   {
    "duration": 3,
    "start_time": "2021-10-24T13:56:07.717Z"
   },
   {
    "duration": 4,
    "start_time": "2021-10-24T13:56:57.234Z"
   },
   {
    "duration": 287,
    "start_time": "2021-10-24T13:57:42.857Z"
   },
   {
    "duration": 337,
    "start_time": "2021-10-24T13:58:09.152Z"
   },
   {
    "duration": 4,
    "start_time": "2021-10-24T13:58:14.430Z"
   },
   {
    "duration": 6,
    "start_time": "2021-10-24T14:03:01.408Z"
   },
   {
    "duration": 273,
    "start_time": "2021-10-24T14:03:42.933Z"
   },
   {
    "duration": 3,
    "start_time": "2021-10-24T14:08:57.324Z"
   },
   {
    "duration": 4,
    "start_time": "2021-10-24T14:08:58.952Z"
   },
   {
    "duration": 153155,
    "start_time": "2021-10-24T14:09:10.072Z"
   },
   {
    "duration": 4,
    "start_time": "2021-10-24T14:19:18.919Z"
   },
   {
    "duration": 5,
    "start_time": "2021-10-24T14:19:28.423Z"
   },
   {
    "duration": 3,
    "start_time": "2021-10-24T14:26:35.169Z"
   },
   {
    "duration": 279,
    "start_time": "2021-10-24T14:26:45.274Z"
   },
   {
    "duration": 305,
    "start_time": "2021-10-24T14:26:57.809Z"
   },
   {
    "duration": 511,
    "start_time": "2021-10-24T14:37:31.262Z"
   },
   {
    "duration": 22,
    "start_time": "2021-10-24T14:37:39.595Z"
   },
   {
    "duration": 3,
    "start_time": "2021-10-24T14:40:37.977Z"
   },
   {
    "duration": 4,
    "start_time": "2021-10-24T14:40:48.918Z"
   },
   {
    "duration": 7,
    "start_time": "2021-10-24T14:41:31.493Z"
   },
   {
    "duration": 28,
    "start_time": "2021-10-24T14:42:01.893Z"
   },
   {
    "duration": 3,
    "start_time": "2021-10-24T14:42:02.784Z"
   },
   {
    "duration": 6,
    "start_time": "2021-10-24T14:42:03.577Z"
   },
   {
    "duration": 284,
    "start_time": "2021-10-24T14:48:17.165Z"
   },
   {
    "duration": 5,
    "start_time": "2021-10-24T14:48:27.465Z"
   },
   {
    "duration": 5,
    "start_time": "2021-10-24T14:48:44.151Z"
   },
   {
    "duration": 5,
    "start_time": "2021-10-24T14:49:06.225Z"
   },
   {
    "duration": 639,
    "start_time": "2021-10-24T14:51:09.915Z"
   },
   {
    "duration": 2,
    "start_time": "2021-10-24T14:53:08.491Z"
   },
   {
    "duration": 642,
    "start_time": "2021-10-24T14:53:09.371Z"
   },
   {
    "duration": 4,
    "start_time": "2021-10-24T14:53:29.427Z"
   },
   {
    "duration": 4,
    "start_time": "2021-10-24T14:53:30.799Z"
   },
   {
    "duration": 4,
    "start_time": "2021-10-24T14:53:34.115Z"
   },
   {
    "duration": 706,
    "start_time": "2021-10-24T14:53:39.067Z"
   },
   {
    "duration": 3,
    "start_time": "2021-10-24T14:54:27.790Z"
   },
   {
    "duration": 48929,
    "start_time": "2021-10-24T14:54:40.154Z"
   },
   {
    "duration": 8169,
    "start_time": "2021-10-24T14:56:03.459Z"
   },
   {
    "duration": 4,
    "start_time": "2021-10-24T15:07:51.588Z"
   },
   {
    "duration": 16,
    "start_time": "2021-10-24T15:08:05.560Z"
   },
   {
    "duration": 3,
    "start_time": "2021-10-24T15:08:07.238Z"
   },
   {
    "duration": 6,
    "start_time": "2021-10-24T15:08:08.201Z"
   },
   {
    "duration": 296,
    "start_time": "2021-10-24T15:12:46.599Z"
   },
   {
    "duration": 6,
    "start_time": "2021-10-24T15:13:45.744Z"
   },
   {
    "duration": 288,
    "start_time": "2021-10-24T15:14:03.905Z"
   },
   {
    "duration": 5,
    "start_time": "2021-10-24T15:14:21.502Z"
   },
   {
    "duration": 9,
    "start_time": "2021-10-24T17:17:08.721Z"
   },
   {
    "duration": 13,
    "start_time": "2021-10-24T17:18:55.323Z"
   },
   {
    "duration": 12,
    "start_time": "2021-10-24T17:18:56.862Z"
   },
   {
    "duration": 4,
    "start_time": "2021-10-24T17:19:08.031Z"
   },
   {
    "duration": 6,
    "start_time": "2021-10-24T17:19:55.206Z"
   },
   {
    "duration": 7,
    "start_time": "2021-10-24T17:19:59.615Z"
   },
   {
    "duration": 6,
    "start_time": "2021-10-24T17:20:01.309Z"
   },
   {
    "duration": 8,
    "start_time": "2021-10-24T17:20:05.048Z"
   },
   {
    "duration": 5,
    "start_time": "2021-10-24T17:20:59.763Z"
   },
   {
    "duration": 4,
    "start_time": "2021-10-24T17:21:00.329Z"
   },
   {
    "duration": 9,
    "start_time": "2021-10-24T17:21:00.845Z"
   },
   {
    "duration": 4,
    "start_time": "2021-10-24T17:21:24.461Z"
   },
   {
    "duration": 3,
    "start_time": "2021-10-24T17:21:24.929Z"
   },
   {
    "duration": 2,
    "start_time": "2021-10-24T17:21:25.363Z"
   },
   {
    "duration": 3,
    "start_time": "2021-10-24T17:21:29.353Z"
   },
   {
    "duration": 3,
    "start_time": "2021-10-24T17:21:31.550Z"
   },
   {
    "duration": 3,
    "start_time": "2021-10-24T17:21:33.151Z"
   },
   {
    "duration": 7,
    "start_time": "2021-10-24T17:21:34.337Z"
   },
   {
    "duration": 8,
    "start_time": "2021-10-24T17:22:14.538Z"
   },
   {
    "duration": 6,
    "start_time": "2021-10-24T17:22:15.014Z"
   },
   {
    "duration": 7,
    "start_time": "2021-10-24T17:22:15.431Z"
   },
   {
    "duration": 2,
    "start_time": "2021-10-24T17:22:28.025Z"
   },
   {
    "duration": 3,
    "start_time": "2021-10-24T17:22:36.239Z"
   },
   {
    "duration": 4,
    "start_time": "2021-10-24T17:26:41.554Z"
   },
   {
    "duration": 2,
    "start_time": "2021-10-24T17:26:42.480Z"
   },
   {
    "duration": 164698,
    "start_time": "2021-10-24T17:26:43.412Z"
   },
   {
    "duration": 282,
    "start_time": "2021-10-24T17:29:28.112Z"
   },
   {
    "duration": 288,
    "start_time": "2021-10-24T17:29:43.473Z"
   },
   {
    "duration": 273,
    "start_time": "2021-10-24T17:29:49.810Z"
   },
   {
    "duration": 283,
    "start_time": "2021-10-24T17:32:11.465Z"
   },
   {
    "duration": 681,
    "start_time": "2021-10-24T17:32:26.098Z"
   },
   {
    "duration": 353,
    "start_time": "2021-10-24T17:32:48.332Z"
   },
   {
    "duration": 278,
    "start_time": "2021-10-24T17:33:20.535Z"
   },
   {
    "duration": 5,
    "start_time": "2021-10-24T17:45:48.717Z"
   },
   {
    "duration": 315,
    "start_time": "2021-10-24T17:46:14.365Z"
   },
   {
    "duration": 5,
    "start_time": "2021-10-24T17:46:18.792Z"
   },
   {
    "duration": 477,
    "start_time": "2021-10-24T17:47:16.856Z"
   },
   {
    "duration": 4,
    "start_time": "2021-10-24T17:48:21.487Z"
   },
   {
    "duration": 4,
    "start_time": "2021-10-24T17:48:28.380Z"
   },
   {
    "duration": 11,
    "start_time": "2021-10-24T17:50:05.298Z"
   },
   {
    "duration": 287,
    "start_time": "2021-10-24T17:50:10.083Z"
   },
   {
    "duration": 6,
    "start_time": "2021-10-24T17:50:25.652Z"
   },
   {
    "duration": 268,
    "start_time": "2021-10-24T17:51:38.366Z"
   },
   {
    "duration": 310,
    "start_time": "2021-10-24T17:52:26.562Z"
   },
   {
    "duration": 278,
    "start_time": "2021-10-24T18:04:45.524Z"
   },
   {
    "duration": 285,
    "start_time": "2021-10-24T18:04:52.699Z"
   },
   {
    "duration": 303,
    "start_time": "2021-10-24T18:06:04.048Z"
   },
   {
    "duration": 4284,
    "start_time": "2021-10-24T18:06:26.155Z"
   },
   {
    "duration": 11,
    "start_time": "2021-10-24T18:07:04.814Z"
   },
   {
    "duration": 1615,
    "start_time": "2021-10-25T07:53:06.983Z"
   },
   {
    "duration": 46,
    "start_time": "2021-10-25T07:53:08.600Z"
   },
   {
    "duration": 19,
    "start_time": "2021-10-25T07:53:08.649Z"
   },
   {
    "duration": 14,
    "start_time": "2021-10-25T07:53:08.671Z"
   },
   {
    "duration": 29,
    "start_time": "2021-10-25T07:53:08.688Z"
   },
   {
    "duration": 38,
    "start_time": "2021-10-25T07:53:08.719Z"
   },
   {
    "duration": 12,
    "start_time": "2021-10-25T07:53:08.760Z"
   },
   {
    "duration": 27,
    "start_time": "2021-10-25T07:53:08.778Z"
   },
   {
    "duration": 15,
    "start_time": "2021-10-25T07:53:08.808Z"
   },
   {
    "duration": 38,
    "start_time": "2021-10-25T07:53:08.825Z"
   },
   {
    "duration": 21,
    "start_time": "2021-10-25T07:53:08.865Z"
   },
   {
    "duration": 10,
    "start_time": "2021-10-25T07:53:08.889Z"
   },
   {
    "duration": 10,
    "start_time": "2021-10-25T07:53:08.901Z"
   },
   {
    "duration": 51,
    "start_time": "2021-10-25T07:53:08.913Z"
   },
   {
    "duration": 17,
    "start_time": "2021-10-25T07:53:08.966Z"
   },
   {
    "duration": 17,
    "start_time": "2021-10-25T07:53:08.985Z"
   },
   {
    "duration": 28,
    "start_time": "2021-10-25T07:53:09.004Z"
   },
   {
    "duration": 21,
    "start_time": "2021-10-25T07:53:09.059Z"
   },
   {
    "duration": 17,
    "start_time": "2021-10-25T07:53:09.082Z"
   },
   {
    "duration": 67,
    "start_time": "2021-10-25T07:53:09.102Z"
   },
   {
    "duration": 17,
    "start_time": "2021-10-25T07:53:09.171Z"
   },
   {
    "duration": 9,
    "start_time": "2021-10-25T07:53:09.190Z"
   },
   {
    "duration": 11,
    "start_time": "2021-10-25T07:53:09.205Z"
   },
   {
    "duration": 42,
    "start_time": "2021-10-25T07:53:09.220Z"
   },
   {
    "duration": 7,
    "start_time": "2021-10-25T07:53:09.265Z"
   },
   {
    "duration": 9,
    "start_time": "2021-10-25T07:53:09.275Z"
   },
   {
    "duration": 33,
    "start_time": "2021-10-25T07:53:09.287Z"
   },
   {
    "duration": 45,
    "start_time": "2021-10-25T07:53:09.323Z"
   },
   {
    "duration": 41,
    "start_time": "2021-10-25T07:53:09.371Z"
   },
   {
    "duration": 62,
    "start_time": "2021-10-25T07:53:09.415Z"
   },
   {
    "duration": 5,
    "start_time": "2021-10-25T07:53:09.480Z"
   },
   {
    "duration": 6,
    "start_time": "2021-10-25T07:53:09.487Z"
   },
   {
    "duration": 11,
    "start_time": "2021-10-25T07:53:09.495Z"
   },
   {
    "duration": 72,
    "start_time": "2021-10-25T07:53:09.508Z"
   },
   {
    "duration": 30,
    "start_time": "2021-10-25T07:53:09.583Z"
   },
   {
    "duration": 51,
    "start_time": "2021-10-25T07:53:09.616Z"
   },
   {
    "duration": 12,
    "start_time": "2021-10-25T07:53:09.670Z"
   },
   {
    "duration": 18,
    "start_time": "2021-10-25T07:53:09.685Z"
   },
   {
    "duration": 18,
    "start_time": "2021-10-25T07:53:09.706Z"
   },
   {
    "duration": 40,
    "start_time": "2021-10-25T07:53:09.728Z"
   },
   {
    "duration": 15,
    "start_time": "2021-10-25T07:53:09.771Z"
   },
   {
    "duration": 12,
    "start_time": "2021-10-25T07:53:09.789Z"
   },
   {
    "duration": 53,
    "start_time": "2021-10-25T07:53:09.804Z"
   },
   {
    "duration": 10,
    "start_time": "2021-10-25T07:53:09.860Z"
   },
   {
    "duration": 17,
    "start_time": "2021-10-25T07:53:09.872Z"
   },
   {
    "duration": 8,
    "start_time": "2021-10-25T07:53:09.891Z"
   },
   {
    "duration": 13,
    "start_time": "2021-10-25T07:53:09.902Z"
   },
   {
    "duration": 45,
    "start_time": "2021-10-25T07:53:09.918Z"
   },
   {
    "duration": 12,
    "start_time": "2021-10-25T07:53:09.966Z"
   },
   {
    "duration": 12,
    "start_time": "2021-10-25T07:53:09.980Z"
   },
   {
    "duration": 10,
    "start_time": "2021-10-25T07:53:09.995Z"
   },
   {
    "duration": 53,
    "start_time": "2021-10-25T07:53:10.008Z"
   },
   {
    "duration": 7,
    "start_time": "2021-10-25T07:53:10.064Z"
   },
   {
    "duration": 46,
    "start_time": "2021-10-25T07:53:10.074Z"
   },
   {
    "duration": 48,
    "start_time": "2021-10-25T07:53:10.124Z"
   },
   {
    "duration": 10,
    "start_time": "2021-10-25T07:53:10.175Z"
   },
   {
    "duration": 79,
    "start_time": "2021-10-25T07:53:10.189Z"
   },
   {
    "duration": 25,
    "start_time": "2021-10-25T07:53:10.271Z"
   },
   {
    "duration": 453,
    "start_time": "2021-10-25T07:53:10.299Z"
   },
   {
    "duration": 6,
    "start_time": "2021-10-25T07:53:10.758Z"
   },
   {
    "duration": 39,
    "start_time": "2021-10-25T07:53:10.766Z"
   },
   {
    "duration": 26,
    "start_time": "2021-10-25T07:53:10.807Z"
   },
   {
    "duration": 9,
    "start_time": "2021-10-25T07:53:10.858Z"
   },
   {
    "duration": 5,
    "start_time": "2021-10-25T07:53:10.870Z"
   },
   {
    "duration": 308,
    "start_time": "2021-10-25T07:53:10.877Z"
   },
   {
    "duration": 35,
    "start_time": "2021-10-25T07:53:11.187Z"
   },
   {
    "duration": 46,
    "start_time": "2021-10-25T07:53:11.224Z"
   },
   {
    "duration": 14,
    "start_time": "2021-10-25T07:53:11.278Z"
   },
   {
    "duration": 12,
    "start_time": "2021-10-25T07:53:11.295Z"
   },
   {
    "duration": 5,
    "start_time": "2021-10-25T07:53:11.309Z"
   },
   {
    "duration": 50,
    "start_time": "2021-10-25T07:53:11.316Z"
   },
   {
    "duration": 9,
    "start_time": "2021-10-25T07:53:11.369Z"
   },
   {
    "duration": 13,
    "start_time": "2021-10-25T07:53:11.381Z"
   },
   {
    "duration": 11,
    "start_time": "2021-10-25T07:53:11.396Z"
   },
   {
    "duration": 10,
    "start_time": "2021-10-25T07:53:11.409Z"
   },
   {
    "duration": 6,
    "start_time": "2021-10-25T07:53:11.458Z"
   },
   {
    "duration": 15,
    "start_time": "2021-10-25T07:53:11.467Z"
   },
   {
    "duration": 13,
    "start_time": "2021-10-25T07:53:11.484Z"
   },
   {
    "duration": 9,
    "start_time": "2021-10-25T07:53:11.500Z"
   },
   {
    "duration": 6,
    "start_time": "2021-10-25T07:53:11.511Z"
   },
   {
    "duration": 4,
    "start_time": "2021-10-25T07:53:11.519Z"
   },
   {
    "duration": 7,
    "start_time": "2021-10-25T07:53:11.526Z"
   },
   {
    "duration": 22,
    "start_time": "2021-10-25T07:53:11.536Z"
   },
   {
    "duration": 17,
    "start_time": "2021-10-25T07:53:11.561Z"
   },
   {
    "duration": 10,
    "start_time": "2021-10-25T07:53:11.581Z"
   },
   {
    "duration": 12,
    "start_time": "2021-10-25T07:53:11.593Z"
   },
   {
    "duration": 5,
    "start_time": "2021-10-25T07:53:11.607Z"
   },
   {
    "duration": 13,
    "start_time": "2021-10-25T07:53:11.614Z"
   },
   {
    "duration": 12256,
    "start_time": "2021-10-25T07:53:11.658Z"
   },
   {
    "duration": 339,
    "start_time": "2021-10-25T07:53:23.917Z"
   },
   {
    "duration": -61,
    "start_time": "2021-10-25T07:53:24.320Z"
   },
   {
    "duration": -66,
    "start_time": "2021-10-25T07:53:24.326Z"
   },
   {
    "duration": -67,
    "start_time": "2021-10-25T07:53:24.328Z"
   },
   {
    "duration": -108,
    "start_time": "2021-10-25T07:53:24.371Z"
   },
   {
    "duration": -110,
    "start_time": "2021-10-25T07:53:24.374Z"
   },
   {
    "duration": -111,
    "start_time": "2021-10-25T07:53:24.377Z"
   },
   {
    "duration": -113,
    "start_time": "2021-10-25T07:53:24.380Z"
   },
   {
    "duration": 6,
    "start_time": "2021-10-25T08:04:01.422Z"
   },
   {
    "duration": 33,
    "start_time": "2021-10-25T08:04:12.086Z"
   },
   {
    "duration": 108,
    "start_time": "2021-10-25T08:04:39.563Z"
   },
   {
    "duration": 50,
    "start_time": "2021-10-25T08:05:27.264Z"
   },
   {
    "duration": 4,
    "start_time": "2021-10-25T08:06:03.207Z"
   },
   {
    "duration": 4,
    "start_time": "2021-10-25T08:06:07.935Z"
   },
   {
    "duration": 4,
    "start_time": "2021-10-25T08:06:08.534Z"
   },
   {
    "duration": 212589,
    "start_time": "2021-10-25T08:06:09.543Z"
   },
   {
    "duration": 6,
    "start_time": "2021-10-25T08:09:42.134Z"
   },
   {
    "duration": 20,
    "start_time": "2021-10-25T08:09:54.511Z"
   },
   {
    "duration": 358,
    "start_time": "2021-10-25T08:09:55.398Z"
   },
   {
    "duration": 10,
    "start_time": "2021-10-25T08:10:17.775Z"
   },
   {
    "duration": 529,
    "start_time": "2021-10-25T08:10:22.510Z"
   },
   {
    "duration": 1617,
    "start_time": "2021-10-25T08:12:51.979Z"
   },
   {
    "duration": 44,
    "start_time": "2021-10-25T08:12:53.599Z"
   },
   {
    "duration": 20,
    "start_time": "2021-10-25T08:12:53.646Z"
   },
   {
    "duration": 22,
    "start_time": "2021-10-25T08:12:53.669Z"
   },
   {
    "duration": 30,
    "start_time": "2021-10-25T08:12:53.693Z"
   },
   {
    "duration": 16,
    "start_time": "2021-10-25T08:12:53.725Z"
   },
   {
    "duration": 19,
    "start_time": "2021-10-25T08:12:53.744Z"
   },
   {
    "duration": 29,
    "start_time": "2021-10-25T08:12:53.766Z"
   },
   {
    "duration": 15,
    "start_time": "2021-10-25T08:12:53.798Z"
   },
   {
    "duration": 14,
    "start_time": "2021-10-25T08:12:53.816Z"
   },
   {
    "duration": 33,
    "start_time": "2021-10-25T08:12:53.832Z"
   },
   {
    "duration": 9,
    "start_time": "2021-10-25T08:12:53.868Z"
   },
   {
    "duration": 9,
    "start_time": "2021-10-25T08:12:53.881Z"
   },
   {
    "duration": 22,
    "start_time": "2021-10-25T08:12:53.892Z"
   },
   {
    "duration": 53,
    "start_time": "2021-10-25T08:12:53.917Z"
   },
   {
    "duration": 18,
    "start_time": "2021-10-25T08:12:53.972Z"
   },
   {
    "duration": 26,
    "start_time": "2021-10-25T08:12:53.993Z"
   },
   {
    "duration": 53,
    "start_time": "2021-10-25T08:12:54.022Z"
   },
   {
    "duration": 15,
    "start_time": "2021-10-25T08:12:54.078Z"
   },
   {
    "duration": 27,
    "start_time": "2021-10-25T08:12:54.096Z"
   },
   {
    "duration": 41,
    "start_time": "2021-10-25T08:12:54.126Z"
   },
   {
    "duration": 9,
    "start_time": "2021-10-25T08:12:54.170Z"
   },
   {
    "duration": 14,
    "start_time": "2021-10-25T08:12:54.185Z"
   },
   {
    "duration": 12,
    "start_time": "2021-10-25T08:12:54.202Z"
   },
   {
    "duration": 43,
    "start_time": "2021-10-25T08:12:54.216Z"
   },
   {
    "duration": 9,
    "start_time": "2021-10-25T08:12:54.262Z"
   },
   {
    "duration": 30,
    "start_time": "2021-10-25T08:12:54.274Z"
   },
   {
    "duration": 53,
    "start_time": "2021-10-25T08:12:54.306Z"
   },
   {
    "duration": 38,
    "start_time": "2021-10-25T08:12:54.362Z"
   },
   {
    "duration": 56,
    "start_time": "2021-10-25T08:12:54.403Z"
   },
   {
    "duration": 5,
    "start_time": "2021-10-25T08:12:54.462Z"
   },
   {
    "duration": 5,
    "start_time": "2021-10-25T08:12:54.470Z"
   },
   {
    "duration": 9,
    "start_time": "2021-10-25T08:12:54.477Z"
   },
   {
    "duration": 72,
    "start_time": "2021-10-25T08:12:54.489Z"
   },
   {
    "duration": 16,
    "start_time": "2021-10-25T08:12:54.564Z"
   },
   {
    "duration": 25,
    "start_time": "2021-10-25T08:12:54.582Z"
   },
   {
    "duration": 47,
    "start_time": "2021-10-25T08:12:54.610Z"
   },
   {
    "duration": 8,
    "start_time": "2021-10-25T08:12:54.660Z"
   },
   {
    "duration": 10,
    "start_time": "2021-10-25T08:12:54.671Z"
   },
   {
    "duration": 9,
    "start_time": "2021-10-25T08:12:54.683Z"
   },
   {
    "duration": 11,
    "start_time": "2021-10-25T08:12:54.694Z"
   },
   {
    "duration": 8,
    "start_time": "2021-10-25T08:12:54.758Z"
   },
   {
    "duration": 9,
    "start_time": "2021-10-25T08:12:54.768Z"
   },
   {
    "duration": 10,
    "start_time": "2021-10-25T08:12:54.780Z"
   },
   {
    "duration": 10,
    "start_time": "2021-10-25T08:12:54.792Z"
   },
   {
    "duration": 59,
    "start_time": "2021-10-25T08:12:54.805Z"
   },
   {
    "duration": 10,
    "start_time": "2021-10-25T08:12:54.866Z"
   },
   {
    "duration": 8,
    "start_time": "2021-10-25T08:12:54.879Z"
   },
   {
    "duration": 9,
    "start_time": "2021-10-25T08:12:54.890Z"
   },
   {
    "duration": 61,
    "start_time": "2021-10-25T08:12:54.902Z"
   },
   {
    "duration": 12,
    "start_time": "2021-10-25T08:12:54.965Z"
   },
   {
    "duration": 24,
    "start_time": "2021-10-25T08:12:54.979Z"
   },
   {
    "duration": 6,
    "start_time": "2021-10-25T08:12:55.005Z"
   },
   {
    "duration": 65,
    "start_time": "2021-10-25T08:12:55.014Z"
   },
   {
    "duration": 16,
    "start_time": "2021-10-25T08:12:55.083Z"
   },
   {
    "duration": 9,
    "start_time": "2021-10-25T08:12:55.102Z"
   },
   {
    "duration": 72,
    "start_time": "2021-10-25T08:12:55.114Z"
   },
   {
    "duration": 17,
    "start_time": "2021-10-25T08:12:55.189Z"
   },
   {
    "duration": 448,
    "start_time": "2021-10-25T08:12:55.209Z"
   },
   {
    "duration": 6,
    "start_time": "2021-10-25T08:12:55.660Z"
   },
   {
    "duration": 37,
    "start_time": "2021-10-25T08:12:55.668Z"
   },
   {
    "duration": 54,
    "start_time": "2021-10-25T08:12:55.707Z"
   },
   {
    "duration": 9,
    "start_time": "2021-10-25T08:12:55.764Z"
   },
   {
    "duration": 17,
    "start_time": "2021-10-25T08:12:55.776Z"
   },
   {
    "duration": 14,
    "start_time": "2021-10-25T08:12:55.796Z"
   },
   {
    "duration": 6,
    "start_time": "2021-10-25T08:12:55.812Z"
   },
   {
    "duration": 43,
    "start_time": "2021-10-25T08:12:55.821Z"
   },
   {
    "duration": 9,
    "start_time": "2021-10-25T08:12:55.873Z"
   },
   {
    "duration": 11,
    "start_time": "2021-10-25T08:12:55.885Z"
   },
   {
    "duration": 6,
    "start_time": "2021-10-25T08:12:55.899Z"
   },
   {
    "duration": 51,
    "start_time": "2021-10-25T08:12:55.908Z"
   },
   {
    "duration": 6,
    "start_time": "2021-10-25T08:12:55.962Z"
   },
   {
    "duration": 7,
    "start_time": "2021-10-25T08:12:55.971Z"
   },
   {
    "duration": 5,
    "start_time": "2021-10-25T08:12:55.981Z"
   },
   {
    "duration": 7,
    "start_time": "2021-10-25T08:12:55.989Z"
   },
   {
    "duration": 5,
    "start_time": "2021-10-25T08:12:55.999Z"
   },
   {
    "duration": 5,
    "start_time": "2021-10-25T08:12:56.006Z"
   },
   {
    "duration": 45,
    "start_time": "2021-10-25T08:12:56.013Z"
   },
   {
    "duration": 13,
    "start_time": "2021-10-25T08:12:56.060Z"
   },
   {
    "duration": 10,
    "start_time": "2021-10-25T08:12:56.076Z"
   },
   {
    "duration": 11,
    "start_time": "2021-10-25T08:12:56.089Z"
   },
   {
    "duration": 11,
    "start_time": "2021-10-25T08:12:56.103Z"
   },
   {
    "duration": 4,
    "start_time": "2021-10-25T08:12:56.157Z"
   },
   {
    "duration": 5,
    "start_time": "2021-10-25T08:12:56.163Z"
   },
   {
    "duration": 212479,
    "start_time": "2021-10-25T08:12:56.171Z"
   },
   {
    "duration": 29,
    "start_time": "2021-10-25T08:16:28.661Z"
   },
   {
    "duration": 20,
    "start_time": "2021-10-25T08:16:28.692Z"
   },
   {
    "duration": 517,
    "start_time": "2021-10-25T08:16:28.716Z"
   },
   {
    "duration": 484,
    "start_time": "2021-10-25T08:16:29.236Z"
   },
   {
    "duration": -63,
    "start_time": "2021-10-25T08:16:29.786Z"
   },
   {
    "duration": -64,
    "start_time": "2021-10-25T08:16:29.788Z"
   },
   {
    "duration": -65,
    "start_time": "2021-10-25T08:16:29.791Z"
   },
   {
    "duration": -66,
    "start_time": "2021-10-25T08:16:29.794Z"
   },
   {
    "duration": 6,
    "start_time": "2021-10-25T08:20:03.422Z"
   },
   {
    "duration": 377,
    "start_time": "2021-10-25T08:21:35.677Z"
   },
   {
    "duration": 7,
    "start_time": "2021-10-25T08:21:51.535Z"
   },
   {
    "duration": 7,
    "start_time": "2021-10-25T08:22:45.104Z"
   },
   {
    "duration": 7,
    "start_time": "2021-10-25T08:22:58.672Z"
   },
   {
    "duration": 384,
    "start_time": "2021-10-25T08:23:28.309Z"
   },
   {
    "duration": 6,
    "start_time": "2021-10-25T08:29:44.869Z"
   },
   {
    "duration": 6025,
    "start_time": "2021-10-25T08:30:14.377Z"
   },
   {
    "duration": 6435,
    "start_time": "2021-10-25T08:30:36.873Z"
   },
   {
    "duration": 29,
    "start_time": "2021-10-25T08:31:31.877Z"
   },
   {
    "duration": 17,
    "start_time": "2021-10-25T08:31:32.605Z"
   },
   {
    "duration": 11,
    "start_time": "2021-10-25T08:31:33.894Z"
   },
   {
    "duration": 1649,
    "start_time": "2021-10-25T08:46:41.793Z"
   },
   {
    "duration": 46,
    "start_time": "2021-10-25T08:46:43.445Z"
   },
   {
    "duration": 20,
    "start_time": "2021-10-25T08:46:43.494Z"
   },
   {
    "duration": 14,
    "start_time": "2021-10-25T08:46:43.516Z"
   },
   {
    "duration": 29,
    "start_time": "2021-10-25T08:46:43.533Z"
   },
   {
    "duration": 13,
    "start_time": "2021-10-25T08:46:43.564Z"
   },
   {
    "duration": 11,
    "start_time": "2021-10-25T08:46:43.580Z"
   },
   {
    "duration": 30,
    "start_time": "2021-10-25T08:46:43.593Z"
   },
   {
    "duration": 44,
    "start_time": "2021-10-25T08:46:43.627Z"
   },
   {
    "duration": 12,
    "start_time": "2021-10-25T08:46:43.675Z"
   },
   {
    "duration": 27,
    "start_time": "2021-10-25T08:46:43.690Z"
   },
   {
    "duration": 41,
    "start_time": "2021-10-25T08:46:43.719Z"
   },
   {
    "duration": 11,
    "start_time": "2021-10-25T08:46:43.763Z"
   },
   {
    "duration": 20,
    "start_time": "2021-10-25T08:46:43.777Z"
   },
   {
    "duration": 17,
    "start_time": "2021-10-25T08:46:43.799Z"
   },
   {
    "duration": 52,
    "start_time": "2021-10-25T08:46:43.818Z"
   },
   {
    "duration": 28,
    "start_time": "2021-10-25T08:46:43.872Z"
   },
   {
    "duration": 21,
    "start_time": "2021-10-25T08:46:43.902Z"
   },
   {
    "duration": 18,
    "start_time": "2021-10-25T08:46:43.959Z"
   },
   {
    "duration": 30,
    "start_time": "2021-10-25T08:46:43.979Z"
   },
   {
    "duration": 53,
    "start_time": "2021-10-25T08:46:44.012Z"
   },
   {
    "duration": 12,
    "start_time": "2021-10-25T08:46:44.068Z"
   },
   {
    "duration": 17,
    "start_time": "2021-10-25T08:46:44.083Z"
   },
   {
    "duration": 14,
    "start_time": "2021-10-25T08:46:44.102Z"
   },
   {
    "duration": 19,
    "start_time": "2021-10-25T08:46:44.119Z"
   },
   {
    "duration": 11,
    "start_time": "2021-10-25T08:46:44.158Z"
   },
   {
    "duration": 39,
    "start_time": "2021-10-25T08:46:44.179Z"
   },
   {
    "duration": 41,
    "start_time": "2021-10-25T08:46:44.223Z"
   },
   {
    "duration": 41,
    "start_time": "2021-10-25T08:46:44.267Z"
   },
   {
    "duration": 74,
    "start_time": "2021-10-25T08:46:44.311Z"
   },
   {
    "duration": 11,
    "start_time": "2021-10-25T08:46:44.388Z"
   },
   {
    "duration": 23,
    "start_time": "2021-10-25T08:46:44.401Z"
   },
   {
    "duration": 29,
    "start_time": "2021-10-25T08:46:44.426Z"
   },
   {
    "duration": 43,
    "start_time": "2021-10-25T08:46:44.459Z"
   },
   {
    "duration": 23,
    "start_time": "2021-10-25T08:46:44.505Z"
   },
   {
    "duration": 40,
    "start_time": "2021-10-25T08:46:44.559Z"
   },
   {
    "duration": 12,
    "start_time": "2021-10-25T08:46:44.602Z"
   },
   {
    "duration": 42,
    "start_time": "2021-10-25T08:46:44.618Z"
   },
   {
    "duration": 14,
    "start_time": "2021-10-25T08:46:44.663Z"
   },
   {
    "duration": 13,
    "start_time": "2021-10-25T08:46:44.680Z"
   },
   {
    "duration": 13,
    "start_time": "2021-10-25T08:46:44.696Z"
   },
   {
    "duration": 47,
    "start_time": "2021-10-25T08:46:44.713Z"
   },
   {
    "duration": 10,
    "start_time": "2021-10-25T08:46:44.763Z"
   },
   {
    "duration": 17,
    "start_time": "2021-10-25T08:46:44.775Z"
   },
   {
    "duration": 11,
    "start_time": "2021-10-25T08:46:44.795Z"
   },
   {
    "duration": 13,
    "start_time": "2021-10-25T08:46:44.808Z"
   },
   {
    "duration": 9,
    "start_time": "2021-10-25T08:46:44.858Z"
   },
   {
    "duration": 12,
    "start_time": "2021-10-25T08:46:44.870Z"
   },
   {
    "duration": 11,
    "start_time": "2021-10-25T08:46:44.885Z"
   },
   {
    "duration": 12,
    "start_time": "2021-10-25T08:46:44.899Z"
   },
   {
    "duration": 10,
    "start_time": "2021-10-25T08:46:44.959Z"
   },
   {
    "duration": 25,
    "start_time": "2021-10-25T08:46:44.973Z"
   },
   {
    "duration": 7,
    "start_time": "2021-10-25T08:46:45.001Z"
   },
   {
    "duration": 70,
    "start_time": "2021-10-25T08:46:45.011Z"
   },
   {
    "duration": 29,
    "start_time": "2021-10-25T08:46:45.085Z"
   },
   {
    "duration": 8,
    "start_time": "2021-10-25T08:46:45.117Z"
   },
   {
    "duration": 60,
    "start_time": "2021-10-25T08:46:45.128Z"
   },
   {
    "duration": 17,
    "start_time": "2021-10-25T08:46:45.190Z"
   },
   {
    "duration": 446,
    "start_time": "2021-10-25T08:46:45.210Z"
   },
   {
    "duration": 6,
    "start_time": "2021-10-25T08:46:45.659Z"
   },
   {
    "duration": 41,
    "start_time": "2021-10-25T08:46:45.667Z"
   },
   {
    "duration": 17,
    "start_time": "2021-10-25T08:46:45.711Z"
   },
   {
    "duration": 33,
    "start_time": "2021-10-25T08:46:45.730Z"
   },
   {
    "duration": 15,
    "start_time": "2021-10-25T08:46:45.766Z"
   },
   {
    "duration": 13,
    "start_time": "2021-10-25T08:46:45.784Z"
   },
   {
    "duration": 5,
    "start_time": "2021-10-25T08:46:45.800Z"
   },
   {
    "duration": 54,
    "start_time": "2021-10-25T08:46:45.807Z"
   },
   {
    "duration": 24,
    "start_time": "2021-10-25T08:46:45.863Z"
   },
   {
    "duration": 13,
    "start_time": "2021-10-25T08:46:45.889Z"
   },
   {
    "duration": 6,
    "start_time": "2021-10-25T08:46:45.905Z"
   },
   {
    "duration": 8,
    "start_time": "2021-10-25T08:46:45.913Z"
   },
   {
    "duration": 34,
    "start_time": "2021-10-25T08:46:45.924Z"
   },
   {
    "duration": 13,
    "start_time": "2021-10-25T08:46:45.961Z"
   },
   {
    "duration": 11,
    "start_time": "2021-10-25T08:46:45.976Z"
   },
   {
    "duration": 17,
    "start_time": "2021-10-25T08:46:45.990Z"
   },
   {
    "duration": 8,
    "start_time": "2021-10-25T08:46:46.009Z"
   },
   {
    "duration": 12,
    "start_time": "2021-10-25T08:46:46.019Z"
   },
   {
    "duration": 15,
    "start_time": "2021-10-25T08:46:46.033Z"
   },
   {
    "duration": 23,
    "start_time": "2021-10-25T08:46:46.051Z"
   },
   {
    "duration": 27,
    "start_time": "2021-10-25T08:46:46.077Z"
   },
   {
    "duration": 9,
    "start_time": "2021-10-25T08:46:46.115Z"
   },
   {
    "duration": 19,
    "start_time": "2021-10-25T08:46:46.127Z"
   },
   {
    "duration": 25,
    "start_time": "2021-10-25T08:46:46.149Z"
   },
   {
    "duration": 14,
    "start_time": "2021-10-25T08:46:46.177Z"
   },
   {
    "duration": 5744,
    "start_time": "2021-10-25T08:46:46.194Z"
   },
   {
    "duration": 5,
    "start_time": "2021-10-25T08:46:51.941Z"
   },
   {
    "duration": 424,
    "start_time": "2021-10-25T08:46:51.949Z"
   },
   {
    "duration": -99,
    "start_time": "2021-10-25T08:46:52.475Z"
   },
   {
    "duration": -101,
    "start_time": "2021-10-25T08:46:52.478Z"
   },
   {
    "duration": -102,
    "start_time": "2021-10-25T08:46:52.480Z"
   },
   {
    "duration": -102,
    "start_time": "2021-10-25T08:46:52.482Z"
   },
   {
    "duration": -103,
    "start_time": "2021-10-25T08:46:52.484Z"
   },
   {
    "duration": -104,
    "start_time": "2021-10-25T08:46:52.486Z"
   },
   {
    "duration": -105,
    "start_time": "2021-10-25T08:46:52.488Z"
   },
   {
    "duration": -105,
    "start_time": "2021-10-25T08:46:52.490Z"
   },
   {
    "duration": -106,
    "start_time": "2021-10-25T08:46:52.492Z"
   },
   {
    "duration": 2243,
    "start_time": "2021-10-25T11:07:57.580Z"
   },
   {
    "duration": 85,
    "start_time": "2021-10-25T11:07:59.825Z"
   },
   {
    "duration": 30,
    "start_time": "2021-10-25T11:07:59.914Z"
   },
   {
    "duration": 19,
    "start_time": "2021-10-25T11:08:00.003Z"
   },
   {
    "duration": 26,
    "start_time": "2021-10-25T11:08:00.025Z"
   },
   {
    "duration": 50,
    "start_time": "2021-10-25T11:08:00.054Z"
   },
   {
    "duration": 24,
    "start_time": "2021-10-25T11:08:00.107Z"
   },
   {
    "duration": 33,
    "start_time": "2021-10-25T11:08:00.134Z"
   },
   {
    "duration": 32,
    "start_time": "2021-10-25T11:08:00.171Z"
   },
   {
    "duration": 11,
    "start_time": "2021-10-25T11:08:00.206Z"
   },
   {
    "duration": 47,
    "start_time": "2021-10-25T11:08:00.219Z"
   },
   {
    "duration": 40,
    "start_time": "2021-10-25T11:08:00.269Z"
   },
   {
    "duration": 13,
    "start_time": "2021-10-25T11:08:00.312Z"
   },
   {
    "duration": 28,
    "start_time": "2021-10-25T11:08:00.329Z"
   },
   {
    "duration": 20,
    "start_time": "2021-10-25T11:08:00.360Z"
   },
   {
    "duration": 21,
    "start_time": "2021-10-25T11:08:00.401Z"
   },
   {
    "duration": 33,
    "start_time": "2021-10-25T11:08:00.425Z"
   },
   {
    "duration": 20,
    "start_time": "2021-10-25T11:08:00.501Z"
   },
   {
    "duration": 17,
    "start_time": "2021-10-25T11:08:00.523Z"
   },
   {
    "duration": 58,
    "start_time": "2021-10-25T11:08:00.543Z"
   },
   {
    "duration": 46,
    "start_time": "2021-10-25T11:08:00.604Z"
   },
   {
    "duration": 18,
    "start_time": "2021-10-25T11:08:00.652Z"
   },
   {
    "duration": 26,
    "start_time": "2021-10-25T11:08:00.676Z"
   },
   {
    "duration": 7,
    "start_time": "2021-10-25T11:08:00.706Z"
   },
   {
    "duration": 12,
    "start_time": "2021-10-25T11:08:00.715Z"
   },
   {
    "duration": 73,
    "start_time": "2021-10-25T11:08:00.729Z"
   },
   {
    "duration": 44,
    "start_time": "2021-10-25T11:08:00.805Z"
   },
   {
    "duration": 66,
    "start_time": "2021-10-25T11:08:00.852Z"
   },
   {
    "duration": 84,
    "start_time": "2021-10-25T11:08:00.920Z"
   },
   {
    "duration": 94,
    "start_time": "2021-10-25T11:08:01.007Z"
   },
   {
    "duration": 7,
    "start_time": "2021-10-25T11:08:01.104Z"
   },
   {
    "duration": 26,
    "start_time": "2021-10-25T11:08:01.113Z"
   },
   {
    "duration": 35,
    "start_time": "2021-10-25T11:08:01.141Z"
   },
   {
    "duration": 36,
    "start_time": "2021-10-25T11:08:01.178Z"
   },
   {
    "duration": 27,
    "start_time": "2021-10-25T11:08:01.217Z"
   },
   {
    "duration": 33,
    "start_time": "2021-10-25T11:08:01.247Z"
   },
   {
    "duration": 24,
    "start_time": "2021-10-25T11:08:01.283Z"
   },
   {
    "duration": 22,
    "start_time": "2021-10-25T11:08:01.310Z"
   },
   {
    "duration": 32,
    "start_time": "2021-10-25T11:08:01.335Z"
   },
   {
    "duration": 50,
    "start_time": "2021-10-25T11:08:01.370Z"
   },
   {
    "duration": 29,
    "start_time": "2021-10-25T11:08:01.423Z"
   },
   {
    "duration": 31,
    "start_time": "2021-10-25T11:08:01.455Z"
   },
   {
    "duration": 35,
    "start_time": "2021-10-25T11:08:01.489Z"
   },
   {
    "duration": 29,
    "start_time": "2021-10-25T11:08:01.527Z"
   },
   {
    "duration": 19,
    "start_time": "2021-10-25T11:08:01.559Z"
   },
   {
    "duration": 29,
    "start_time": "2021-10-25T11:08:01.581Z"
   },
   {
    "duration": 23,
    "start_time": "2021-10-25T11:08:01.612Z"
   },
   {
    "duration": 47,
    "start_time": "2021-10-25T11:08:01.638Z"
   },
   {
    "duration": 26,
    "start_time": "2021-10-25T11:08:01.687Z"
   },
   {
    "duration": 30,
    "start_time": "2021-10-25T11:08:01.715Z"
   },
   {
    "duration": 15,
    "start_time": "2021-10-25T11:08:01.748Z"
   },
   {
    "duration": 30,
    "start_time": "2021-10-25T11:08:01.766Z"
   },
   {
    "duration": 4,
    "start_time": "2021-10-25T11:08:01.799Z"
   },
   {
    "duration": 37,
    "start_time": "2021-10-25T11:08:01.806Z"
   },
   {
    "duration": 18,
    "start_time": "2021-10-25T11:08:01.846Z"
   },
   {
    "duration": 33,
    "start_time": "2021-10-25T11:08:01.867Z"
   },
   {
    "duration": 35,
    "start_time": "2021-10-25T11:08:01.903Z"
   },
   {
    "duration": 20,
    "start_time": "2021-10-25T11:08:01.941Z"
   },
   {
    "duration": 548,
    "start_time": "2021-10-25T11:08:01.964Z"
   },
   {
    "duration": 7,
    "start_time": "2021-10-25T11:08:02.514Z"
   },
   {
    "duration": 35,
    "start_time": "2021-10-25T11:08:02.524Z"
   },
   {
    "duration": 47,
    "start_time": "2021-10-25T11:08:02.562Z"
   },
   {
    "duration": 11,
    "start_time": "2021-10-25T11:08:02.612Z"
   },
   {
    "duration": 17,
    "start_time": "2021-10-25T11:08:02.626Z"
   },
   {
    "duration": 15,
    "start_time": "2021-10-25T11:08:02.645Z"
   },
   {
    "duration": 40,
    "start_time": "2021-10-25T11:08:02.663Z"
   },
   {
    "duration": 16,
    "start_time": "2021-10-25T11:08:02.705Z"
   },
   {
    "duration": 9,
    "start_time": "2021-10-25T11:08:02.731Z"
   },
   {
    "duration": 12,
    "start_time": "2021-10-25T11:08:02.744Z"
   },
   {
    "duration": 45,
    "start_time": "2021-10-25T11:08:02.759Z"
   },
   {
    "duration": 9,
    "start_time": "2021-10-25T11:08:02.806Z"
   },
   {
    "duration": 9,
    "start_time": "2021-10-25T11:08:02.825Z"
   },
   {
    "duration": 4,
    "start_time": "2021-10-25T11:08:02.838Z"
   },
   {
    "duration": 6,
    "start_time": "2021-10-25T11:08:02.845Z"
   },
   {
    "duration": 45,
    "start_time": "2021-10-25T11:08:02.855Z"
   },
   {
    "duration": 18,
    "start_time": "2021-10-25T11:08:02.903Z"
   },
   {
    "duration": 17,
    "start_time": "2021-10-25T11:08:02.924Z"
   },
   {
    "duration": 12,
    "start_time": "2021-10-25T11:08:02.944Z"
   },
   {
    "duration": 10,
    "start_time": "2021-10-25T11:08:02.958Z"
   },
   {
    "duration": 15,
    "start_time": "2021-10-25T11:08:02.971Z"
   },
   {
    "duration": 22,
    "start_time": "2021-10-25T11:08:02.989Z"
   },
   {
    "duration": 12,
    "start_time": "2021-10-25T11:08:03.014Z"
   },
   {
    "duration": 9,
    "start_time": "2021-10-25T11:08:03.028Z"
   },
   {
    "duration": 10,
    "start_time": "2021-10-25T11:08:03.040Z"
   },
   {
    "duration": 214781,
    "start_time": "2021-10-25T11:08:03.052Z"
   },
   {
    "duration": 6,
    "start_time": "2021-10-25T11:11:37.835Z"
   },
   {
    "duration": 33,
    "start_time": "2021-10-25T11:11:37.843Z"
   },
   {
    "duration": 35,
    "start_time": "2021-10-25T11:11:37.879Z"
   },
   {
    "duration": 11,
    "start_time": "2021-10-25T11:11:37.917Z"
   },
   {
    "duration": 13,
    "start_time": "2021-10-25T11:11:37.931Z"
   },
   {
    "duration": 804,
    "start_time": "2021-10-25T11:11:37.947Z"
   },
   {
    "duration": 9,
    "start_time": "2021-10-25T11:11:38.754Z"
   },
   {
    "duration": 15,
    "start_time": "2021-10-25T11:11:38.766Z"
   },
   {
    "duration": 8,
    "start_time": "2021-10-25T11:11:38.799Z"
   },
   {
    "duration": 10,
    "start_time": "2021-10-25T11:11:38.810Z"
   },
   {
    "duration": 515,
    "start_time": "2021-10-25T11:11:38.823Z"
   },
   {
    "duration": -1761,
    "start_time": "2021-10-25T11:11:41.102Z"
   },
   {
    "duration": -1764,
    "start_time": "2021-10-25T11:11:41.106Z"
   },
   {
    "duration": -1766,
    "start_time": "2021-10-25T11:11:41.110Z"
   },
   {
    "duration": -1769,
    "start_time": "2021-10-25T11:11:41.114Z"
   },
   {
    "duration": -1771,
    "start_time": "2021-10-25T11:11:41.117Z"
   },
   {
    "duration": 365,
    "start_time": "2021-10-25T11:12:26.725Z"
   },
   {
    "duration": 337,
    "start_time": "2021-10-25T11:12:39.439Z"
   },
   {
    "duration": 5,
    "start_time": "2021-10-25T11:13:40.638Z"
   },
   {
    "duration": 339,
    "start_time": "2021-10-25T11:14:14.181Z"
   },
   {
    "duration": 1660,
    "start_time": "2021-10-25T11:14:45.779Z"
   },
   {
    "duration": 52,
    "start_time": "2021-10-25T11:14:47.442Z"
   },
   {
    "duration": 21,
    "start_time": "2021-10-25T11:14:47.497Z"
   },
   {
    "duration": 15,
    "start_time": "2021-10-25T11:14:47.521Z"
   },
   {
    "duration": 25,
    "start_time": "2021-10-25T11:14:47.538Z"
   },
   {
    "duration": 13,
    "start_time": "2021-10-25T11:14:47.566Z"
   },
   {
    "duration": 10,
    "start_time": "2021-10-25T11:14:47.601Z"
   },
   {
    "duration": 30,
    "start_time": "2021-10-25T11:14:47.615Z"
   },
   {
    "duration": 15,
    "start_time": "2021-10-25T11:14:47.649Z"
   },
   {
    "duration": 10,
    "start_time": "2021-10-25T11:14:47.667Z"
   },
   {
    "duration": 20,
    "start_time": "2021-10-25T11:14:47.702Z"
   },
   {
    "duration": 10,
    "start_time": "2021-10-25T11:14:47.725Z"
   },
   {
    "duration": 14,
    "start_time": "2021-10-25T11:14:47.738Z"
   },
   {
    "duration": 50,
    "start_time": "2021-10-25T11:14:47.755Z"
   },
   {
    "duration": 20,
    "start_time": "2021-10-25T11:14:47.809Z"
   },
   {
    "duration": 19,
    "start_time": "2021-10-25T11:14:47.832Z"
   },
   {
    "duration": 62,
    "start_time": "2021-10-25T11:14:47.854Z"
   },
   {
    "duration": 26,
    "start_time": "2021-10-25T11:14:47.919Z"
   },
   {
    "duration": 23,
    "start_time": "2021-10-25T11:14:47.948Z"
   },
   {
    "duration": 28,
    "start_time": "2021-10-25T11:14:48.000Z"
   },
   {
    "duration": 15,
    "start_time": "2021-10-25T11:14:48.031Z"
   },
   {
    "duration": 8,
    "start_time": "2021-10-25T11:14:48.049Z"
   },
   {
    "duration": 10,
    "start_time": "2021-10-25T11:14:48.100Z"
   },
   {
    "duration": 7,
    "start_time": "2021-10-25T11:14:48.113Z"
   },
   {
    "duration": 7,
    "start_time": "2021-10-25T11:14:48.122Z"
   },
   {
    "duration": 8,
    "start_time": "2021-10-25T11:14:48.132Z"
   },
   {
    "duration": 78,
    "start_time": "2021-10-25T11:14:48.142Z"
   },
   {
    "duration": 17,
    "start_time": "2021-10-25T11:14:48.223Z"
   },
   {
    "duration": 68,
    "start_time": "2021-10-25T11:14:48.242Z"
   },
   {
    "duration": 33,
    "start_time": "2021-10-25T11:14:48.313Z"
   },
   {
    "duration": 7,
    "start_time": "2021-10-25T11:14:48.349Z"
   },
   {
    "duration": 7,
    "start_time": "2021-10-25T11:14:48.358Z"
   },
   {
    "duration": 8,
    "start_time": "2021-10-25T11:14:48.401Z"
   },
   {
    "duration": 30,
    "start_time": "2021-10-25T11:14:48.411Z"
   },
   {
    "duration": 17,
    "start_time": "2021-10-25T11:14:48.444Z"
   },
   {
    "duration": 58,
    "start_time": "2021-10-25T11:14:48.464Z"
   },
   {
    "duration": 9,
    "start_time": "2021-10-25T11:14:48.525Z"
   },
   {
    "duration": 16,
    "start_time": "2021-10-25T11:14:48.536Z"
   },
   {
    "duration": 16,
    "start_time": "2021-10-25T11:14:48.555Z"
   },
   {
    "duration": 9,
    "start_time": "2021-10-25T11:14:48.601Z"
   },
   {
    "duration": 11,
    "start_time": "2021-10-25T11:14:48.614Z"
   },
   {
    "duration": 13,
    "start_time": "2021-10-25T11:14:48.628Z"
   },
   {
    "duration": 12,
    "start_time": "2021-10-25T11:14:48.644Z"
   },
   {
    "duration": 47,
    "start_time": "2021-10-25T11:14:48.659Z"
   },
   {
    "duration": 9,
    "start_time": "2021-10-25T11:14:48.709Z"
   },
   {
    "duration": 9,
    "start_time": "2021-10-25T11:14:48.720Z"
   },
   {
    "duration": 9,
    "start_time": "2021-10-25T11:14:48.731Z"
   },
   {
    "duration": 9,
    "start_time": "2021-10-25T11:14:48.743Z"
   },
   {
    "duration": 51,
    "start_time": "2021-10-25T11:14:48.754Z"
   },
   {
    "duration": 11,
    "start_time": "2021-10-25T11:14:48.807Z"
   },
   {
    "duration": 10,
    "start_time": "2021-10-25T11:14:48.820Z"
   },
   {
    "duration": 28,
    "start_time": "2021-10-25T11:14:48.832Z"
   },
   {
    "duration": 39,
    "start_time": "2021-10-25T11:14:48.862Z"
   },
   {
    "duration": 32,
    "start_time": "2021-10-25T11:14:48.903Z"
   },
   {
    "duration": 16,
    "start_time": "2021-10-25T11:14:48.937Z"
   },
   {
    "duration": 45,
    "start_time": "2021-10-25T11:14:48.955Z"
   },
   {
    "duration": 33,
    "start_time": "2021-10-25T11:14:49.003Z"
   },
   {
    "duration": 18,
    "start_time": "2021-10-25T11:14:49.038Z"
   },
   {
    "duration": 439,
    "start_time": "2021-10-25T11:14:49.059Z"
   },
   {
    "duration": 8,
    "start_time": "2021-10-25T11:14:49.502Z"
   },
   {
    "duration": 55,
    "start_time": "2021-10-25T11:14:49.512Z"
   },
   {
    "duration": 49,
    "start_time": "2021-10-25T11:14:49.570Z"
   },
   {
    "duration": 12,
    "start_time": "2021-10-25T11:14:49.622Z"
   },
   {
    "duration": 22,
    "start_time": "2021-10-25T11:14:49.637Z"
   },
   {
    "duration": 43,
    "start_time": "2021-10-25T11:14:49.662Z"
   },
   {
    "duration": 7,
    "start_time": "2021-10-25T11:14:49.709Z"
   },
   {
    "duration": 11,
    "start_time": "2021-10-25T11:14:49.719Z"
   },
   {
    "duration": 8,
    "start_time": "2021-10-25T11:14:49.739Z"
   },
   {
    "duration": 9,
    "start_time": "2021-10-25T11:14:49.750Z"
   },
   {
    "duration": 6,
    "start_time": "2021-10-25T11:14:49.801Z"
   },
   {
    "duration": 9,
    "start_time": "2021-10-25T11:14:49.809Z"
   },
   {
    "duration": 8,
    "start_time": "2021-10-25T11:14:49.820Z"
   },
   {
    "duration": 6,
    "start_time": "2021-10-25T11:14:49.830Z"
   },
   {
    "duration": 7,
    "start_time": "2021-10-25T11:14:49.838Z"
   },
   {
    "duration": 9,
    "start_time": "2021-10-25T11:14:49.847Z"
   },
   {
    "duration": 41,
    "start_time": "2021-10-25T11:14:49.859Z"
   },
   {
    "duration": 3,
    "start_time": "2021-10-25T11:14:49.904Z"
   },
   {
    "duration": 8,
    "start_time": "2021-10-25T11:14:49.910Z"
   },
   {
    "duration": 12,
    "start_time": "2021-10-25T11:14:49.920Z"
   },
   {
    "duration": 14,
    "start_time": "2021-10-25T11:14:49.934Z"
   },
   {
    "duration": 13,
    "start_time": "2021-10-25T11:14:49.951Z"
   },
   {
    "duration": 38,
    "start_time": "2021-10-25T11:14:49.966Z"
   },
   {
    "duration": 4,
    "start_time": "2021-10-25T11:14:50.007Z"
   },
   {
    "duration": 13,
    "start_time": "2021-10-25T11:14:50.014Z"
   },
   {
    "duration": 213520,
    "start_time": "2021-10-25T11:14:50.030Z"
   },
   {
    "duration": 8,
    "start_time": "2021-10-25T11:18:23.553Z"
   },
   {
    "duration": 606,
    "start_time": "2021-10-25T11:18:23.563Z"
   },
   {
    "duration": -565,
    "start_time": "2021-10-25T11:18:24.738Z"
   },
   {
    "duration": -568,
    "start_time": "2021-10-25T11:18:24.743Z"
   },
   {
    "duration": -572,
    "start_time": "2021-10-25T11:18:24.749Z"
   },
   {
    "duration": -573,
    "start_time": "2021-10-25T11:18:24.752Z"
   },
   {
    "duration": -574,
    "start_time": "2021-10-25T11:18:24.755Z"
   },
   {
    "duration": -574,
    "start_time": "2021-10-25T11:18:24.757Z"
   },
   {
    "duration": -575,
    "start_time": "2021-10-25T11:18:24.760Z"
   },
   {
    "duration": -578,
    "start_time": "2021-10-25T11:18:24.765Z"
   },
   {
    "duration": -711,
    "start_time": "2021-10-25T11:18:24.900Z"
   },
   {
    "duration": -717,
    "start_time": "2021-10-25T11:18:24.909Z"
   },
   {
    "duration": -722,
    "start_time": "2021-10-25T11:18:24.916Z"
   },
   {
    "duration": -723,
    "start_time": "2021-10-25T11:18:24.919Z"
   },
   {
    "duration": -724,
    "start_time": "2021-10-25T11:18:24.922Z"
   },
   {
    "duration": -725,
    "start_time": "2021-10-25T11:18:24.925Z"
   },
   {
    "duration": -726,
    "start_time": "2021-10-25T11:18:24.928Z"
   },
   {
    "duration": 32,
    "start_time": "2021-10-25T11:20:46.598Z"
   },
   {
    "duration": 26,
    "start_time": "2021-10-25T11:20:50.386Z"
   },
   {
    "duration": 30,
    "start_time": "2021-10-25T11:21:03.366Z"
   },
   {
    "duration": 781,
    "start_time": "2021-10-25T11:22:10.214Z"
   },
   {
    "duration": 10,
    "start_time": "2021-10-25T11:22:22.647Z"
   },
   {
    "duration": 10,
    "start_time": "2021-10-25T11:22:23.813Z"
   },
   {
    "duration": 9,
    "start_time": "2021-10-25T11:22:24.790Z"
   },
   {
    "duration": 4,
    "start_time": "2021-10-25T11:22:25.794Z"
   },
   {
    "duration": 364,
    "start_time": "2021-10-25T11:22:32.132Z"
   },
   {
    "duration": 372,
    "start_time": "2021-10-25T11:23:34.991Z"
   },
   {
    "duration": 1630,
    "start_time": "2021-10-25T11:24:58.954Z"
   },
   {
    "duration": 45,
    "start_time": "2021-10-25T11:25:00.587Z"
   },
   {
    "duration": 21,
    "start_time": "2021-10-25T11:25:00.635Z"
   },
   {
    "duration": 19,
    "start_time": "2021-10-25T11:25:00.660Z"
   },
   {
    "duration": 36,
    "start_time": "2021-10-25T11:25:00.682Z"
   },
   {
    "duration": 13,
    "start_time": "2021-10-25T11:25:00.721Z"
   },
   {
    "duration": 18,
    "start_time": "2021-10-25T11:25:00.737Z"
   },
   {
    "duration": 44,
    "start_time": "2021-10-25T11:25:00.758Z"
   },
   {
    "duration": 16,
    "start_time": "2021-10-25T11:25:00.806Z"
   },
   {
    "duration": 14,
    "start_time": "2021-10-25T11:25:00.825Z"
   },
   {
    "duration": 28,
    "start_time": "2021-10-25T11:25:00.841Z"
   },
   {
    "duration": 28,
    "start_time": "2021-10-25T11:25:00.872Z"
   },
   {
    "duration": 12,
    "start_time": "2021-10-25T11:25:00.904Z"
   },
   {
    "duration": 29,
    "start_time": "2021-10-25T11:25:00.919Z"
   },
   {
    "duration": 50,
    "start_time": "2021-10-25T11:25:00.951Z"
   },
   {
    "duration": 18,
    "start_time": "2021-10-25T11:25:01.004Z"
   },
   {
    "duration": 33,
    "start_time": "2021-10-25T11:25:01.025Z"
   },
   {
    "duration": 61,
    "start_time": "2021-10-25T11:25:01.061Z"
   },
   {
    "duration": 18,
    "start_time": "2021-10-25T11:25:01.125Z"
   },
   {
    "duration": 65,
    "start_time": "2021-10-25T11:25:01.145Z"
   },
   {
    "duration": 45,
    "start_time": "2021-10-25T11:25:01.212Z"
   },
   {
    "duration": 16,
    "start_time": "2021-10-25T11:25:01.260Z"
   },
   {
    "duration": 38,
    "start_time": "2021-10-25T11:25:01.279Z"
   },
   {
    "duration": 20,
    "start_time": "2021-10-25T11:25:01.320Z"
   },
   {
    "duration": 18,
    "start_time": "2021-10-25T11:25:01.343Z"
   },
   {
    "duration": 26,
    "start_time": "2021-10-25T11:25:01.364Z"
   },
   {
    "duration": 33,
    "start_time": "2021-10-25T11:25:01.398Z"
   },
   {
    "duration": 17,
    "start_time": "2021-10-25T11:25:01.435Z"
   },
   {
    "duration": 111,
    "start_time": "2021-10-25T11:25:01.454Z"
   },
   {
    "duration": 53,
    "start_time": "2021-10-25T11:25:01.567Z"
   },
   {
    "duration": 15,
    "start_time": "2021-10-25T11:25:01.623Z"
   },
   {
    "duration": 12,
    "start_time": "2021-10-25T11:25:01.642Z"
   },
   {
    "duration": 20,
    "start_time": "2021-10-25T11:25:01.657Z"
   },
   {
    "duration": 39,
    "start_time": "2021-10-25T11:25:01.680Z"
   },
   {
    "duration": 29,
    "start_time": "2021-10-25T11:25:01.721Z"
   },
   {
    "duration": 42,
    "start_time": "2021-10-25T11:25:01.753Z"
   },
   {
    "duration": 14,
    "start_time": "2021-10-25T11:25:01.797Z"
   },
   {
    "duration": 48,
    "start_time": "2021-10-25T11:25:01.813Z"
   },
   {
    "duration": 19,
    "start_time": "2021-10-25T11:25:01.864Z"
   },
   {
    "duration": 19,
    "start_time": "2021-10-25T11:25:01.886Z"
   },
   {
    "duration": 33,
    "start_time": "2021-10-25T11:25:01.908Z"
   },
   {
    "duration": 30,
    "start_time": "2021-10-25T11:25:01.944Z"
   },
   {
    "duration": 29,
    "start_time": "2021-10-25T11:25:01.976Z"
   },
   {
    "duration": 31,
    "start_time": "2021-10-25T11:25:02.008Z"
   },
   {
    "duration": 39,
    "start_time": "2021-10-25T11:25:02.042Z"
   },
   {
    "duration": 41,
    "start_time": "2021-10-25T11:25:02.084Z"
   },
   {
    "duration": 21,
    "start_time": "2021-10-25T11:25:02.128Z"
   },
   {
    "duration": 13,
    "start_time": "2021-10-25T11:25:02.153Z"
   },
   {
    "duration": 24,
    "start_time": "2021-10-25T11:25:02.169Z"
   },
   {
    "duration": 16,
    "start_time": "2021-10-25T11:25:02.196Z"
   },
   {
    "duration": 27,
    "start_time": "2021-10-25T11:25:02.215Z"
   },
   {
    "duration": 46,
    "start_time": "2021-10-25T11:25:02.245Z"
   },
   {
    "duration": 6,
    "start_time": "2021-10-25T11:25:02.293Z"
   },
   {
    "duration": 38,
    "start_time": "2021-10-25T11:25:02.301Z"
   },
   {
    "duration": 26,
    "start_time": "2021-10-25T11:25:02.341Z"
   },
   {
    "duration": 15,
    "start_time": "2021-10-25T11:25:02.369Z"
   },
   {
    "duration": 45,
    "start_time": "2021-10-25T11:25:02.387Z"
   },
   {
    "duration": 17,
    "start_time": "2021-10-25T11:25:02.435Z"
   },
   {
    "duration": 555,
    "start_time": "2021-10-25T11:25:02.455Z"
   },
   {
    "duration": 6,
    "start_time": "2021-10-25T11:25:03.013Z"
   },
   {
    "duration": 42,
    "start_time": "2021-10-25T11:25:03.022Z"
   },
   {
    "duration": 49,
    "start_time": "2021-10-25T11:25:03.066Z"
   },
   {
    "duration": 9,
    "start_time": "2021-10-25T11:25:03.118Z"
   },
   {
    "duration": 20,
    "start_time": "2021-10-25T11:25:03.129Z"
   },
   {
    "duration": 14,
    "start_time": "2021-10-25T11:25:03.151Z"
   },
   {
    "duration": 6,
    "start_time": "2021-10-25T11:25:03.199Z"
   },
   {
    "duration": 37,
    "start_time": "2021-10-25T11:25:03.208Z"
   },
   {
    "duration": 15,
    "start_time": "2021-10-25T11:25:03.247Z"
   },
   {
    "duration": 13,
    "start_time": "2021-10-25T11:25:03.264Z"
   },
   {
    "duration": 21,
    "start_time": "2021-10-25T11:25:03.279Z"
   },
   {
    "duration": 13,
    "start_time": "2021-10-25T11:25:03.303Z"
   },
   {
    "duration": 33,
    "start_time": "2021-10-25T11:25:03.319Z"
   },
   {
    "duration": 19,
    "start_time": "2021-10-25T11:25:03.355Z"
   },
   {
    "duration": 10,
    "start_time": "2021-10-25T11:25:03.377Z"
   },
   {
    "duration": 10,
    "start_time": "2021-10-25T11:25:03.391Z"
   },
   {
    "duration": 14,
    "start_time": "2021-10-25T11:25:03.404Z"
   },
   {
    "duration": 10,
    "start_time": "2021-10-25T11:25:03.421Z"
   },
   {
    "duration": 9,
    "start_time": "2021-10-25T11:25:03.434Z"
   },
   {
    "duration": 17,
    "start_time": "2021-10-25T11:25:03.446Z"
   },
   {
    "duration": 22,
    "start_time": "2021-10-25T11:25:03.466Z"
   },
   {
    "duration": 12,
    "start_time": "2021-10-25T11:25:03.511Z"
   },
   {
    "duration": 15,
    "start_time": "2021-10-25T11:25:03.526Z"
   },
   {
    "duration": 9,
    "start_time": "2021-10-25T11:25:03.543Z"
   },
   {
    "duration": 10,
    "start_time": "2021-10-25T11:25:03.554Z"
   },
   {
    "duration": 208091,
    "start_time": "2021-10-25T11:25:03.566Z"
   },
   {
    "duration": 6,
    "start_time": "2021-10-25T11:28:31.660Z"
   },
   {
    "duration": 37,
    "start_time": "2021-10-25T11:28:31.668Z"
   },
   {
    "duration": 608,
    "start_time": "2021-10-25T11:28:31.708Z"
   },
   {
    "duration": -675,
    "start_time": "2021-10-25T11:28:32.993Z"
   },
   {
    "duration": -677,
    "start_time": "2021-10-25T11:28:32.997Z"
   },
   {
    "duration": -679,
    "start_time": "2021-10-25T11:28:33.000Z"
   },
   {
    "duration": -681,
    "start_time": "2021-10-25T11:28:33.004Z"
   },
   {
    "duration": -685,
    "start_time": "2021-10-25T11:28:33.010Z"
   },
   {
    "duration": -687,
    "start_time": "2021-10-25T11:28:33.013Z"
   },
   {
    "duration": -688,
    "start_time": "2021-10-25T11:28:33.016Z"
   },
   {
    "duration": -691,
    "start_time": "2021-10-25T11:28:33.020Z"
   },
   {
    "duration": -694,
    "start_time": "2021-10-25T11:28:33.024Z"
   },
   {
    "duration": -727,
    "start_time": "2021-10-25T11:28:33.059Z"
   },
   {
    "duration": -734,
    "start_time": "2021-10-25T11:28:33.067Z"
   },
   {
    "duration": -741,
    "start_time": "2021-10-25T11:28:33.075Z"
   },
   {
    "duration": 34,
    "start_time": "2021-10-25T11:29:27.433Z"
   },
   {
    "duration": 519,
    "start_time": "2021-10-25T11:29:33.874Z"
   },
   {
    "duration": 415,
    "start_time": "2021-10-25T11:29:41.264Z"
   },
   {
    "duration": 7,
    "start_time": "2021-10-25T11:29:53.112Z"
   },
   {
    "duration": 329,
    "start_time": "2021-10-25T11:29:55.928Z"
   },
   {
    "duration": 7,
    "start_time": "2021-10-25T11:30:10.781Z"
   },
   {
    "duration": 7,
    "start_time": "2021-10-25T11:30:15.450Z"
   },
   {
    "duration": 4,
    "start_time": "2021-10-25T11:30:21.235Z"
   },
   {
    "duration": 362,
    "start_time": "2021-10-25T11:30:24.593Z"
   },
   {
    "duration": 5,
    "start_time": "2021-10-25T11:31:48.214Z"
   },
   {
    "duration": 62495,
    "start_time": "2021-10-25T11:31:55.142Z"
   },
   {
    "duration": 5,
    "start_time": "2021-10-25T11:36:37.655Z"
   },
   {
    "duration": 3995,
    "start_time": "2021-10-25T11:36:38.896Z"
   },
   {
    "duration": 4,
    "start_time": "2021-10-25T11:39:21.217Z"
   },
   {
    "duration": 4,
    "start_time": "2021-10-25T11:39:22.152Z"
   },
   {
    "duration": 93017,
    "start_time": "2021-10-25T11:39:23.099Z"
   },
   {
    "duration": 1814,
    "start_time": "2021-10-25T11:41:11.714Z"
   },
   {
    "duration": 55,
    "start_time": "2021-10-25T11:41:13.532Z"
   },
   {
    "duration": 20,
    "start_time": "2021-10-25T11:41:13.590Z"
   },
   {
    "duration": 69,
    "start_time": "2021-10-25T11:41:13.614Z"
   },
   {
    "duration": 36,
    "start_time": "2021-10-25T11:41:13.686Z"
   },
   {
    "duration": 12,
    "start_time": "2021-10-25T11:41:13.724Z"
   },
   {
    "duration": 15,
    "start_time": "2021-10-25T11:41:13.738Z"
   },
   {
    "duration": 28,
    "start_time": "2021-10-25T11:41:13.757Z"
   },
   {
    "duration": 26,
    "start_time": "2021-10-25T11:41:13.789Z"
   },
   {
    "duration": 22,
    "start_time": "2021-10-25T11:41:13.818Z"
   },
   {
    "duration": 30,
    "start_time": "2021-10-25T11:41:13.842Z"
   },
   {
    "duration": 11,
    "start_time": "2021-10-25T11:41:13.875Z"
   },
   {
    "duration": 16,
    "start_time": "2021-10-25T11:41:13.889Z"
   },
   {
    "duration": 25,
    "start_time": "2021-10-25T11:41:13.907Z"
   },
   {
    "duration": 21,
    "start_time": "2021-10-25T11:41:13.935Z"
   },
   {
    "duration": 18,
    "start_time": "2021-10-25T11:41:13.958Z"
   },
   {
    "duration": 29,
    "start_time": "2021-10-25T11:41:14.001Z"
   },
   {
    "duration": 21,
    "start_time": "2021-10-25T11:41:14.033Z"
   },
   {
    "duration": 46,
    "start_time": "2021-10-25T11:41:14.058Z"
   },
   {
    "duration": 41,
    "start_time": "2021-10-25T11:41:14.107Z"
   },
   {
    "duration": 17,
    "start_time": "2021-10-25T11:41:14.151Z"
   },
   {
    "duration": 33,
    "start_time": "2021-10-25T11:41:14.171Z"
   },
   {
    "duration": 9,
    "start_time": "2021-10-25T11:41:14.213Z"
   },
   {
    "duration": 7,
    "start_time": "2021-10-25T11:41:14.228Z"
   },
   {
    "duration": 9,
    "start_time": "2021-10-25T11:41:14.238Z"
   },
   {
    "duration": 53,
    "start_time": "2021-10-25T11:41:14.250Z"
   },
   {
    "duration": 39,
    "start_time": "2021-10-25T11:41:14.307Z"
   },
   {
    "duration": 28,
    "start_time": "2021-10-25T11:41:14.349Z"
   },
   {
    "duration": 58,
    "start_time": "2021-10-25T11:41:14.380Z"
   },
   {
    "duration": 35,
    "start_time": "2021-10-25T11:41:14.440Z"
   },
   {
    "duration": 6,
    "start_time": "2021-10-25T11:41:14.501Z"
   },
   {
    "duration": 13,
    "start_time": "2021-10-25T11:41:14.509Z"
   },
   {
    "duration": 11,
    "start_time": "2021-10-25T11:41:14.524Z"
   },
   {
    "duration": 26,
    "start_time": "2021-10-25T11:41:14.538Z"
   },
   {
    "duration": 45,
    "start_time": "2021-10-25T11:41:14.567Z"
   },
   {
    "duration": 28,
    "start_time": "2021-10-25T11:41:14.614Z"
   },
   {
    "duration": 12,
    "start_time": "2021-10-25T11:41:14.645Z"
   },
   {
    "duration": 46,
    "start_time": "2021-10-25T11:41:14.659Z"
   },
   {
    "duration": 8,
    "start_time": "2021-10-25T11:41:14.708Z"
   },
   {
    "duration": 18,
    "start_time": "2021-10-25T11:41:14.718Z"
   },
   {
    "duration": 11,
    "start_time": "2021-10-25T11:41:14.739Z"
   },
   {
    "duration": 50,
    "start_time": "2021-10-25T11:41:14.752Z"
   },
   {
    "duration": 13,
    "start_time": "2021-10-25T11:41:14.805Z"
   },
   {
    "duration": 13,
    "start_time": "2021-10-25T11:41:14.821Z"
   },
   {
    "duration": 10,
    "start_time": "2021-10-25T11:41:14.837Z"
   },
   {
    "duration": 50,
    "start_time": "2021-10-25T11:41:14.850Z"
   },
   {
    "duration": 20,
    "start_time": "2021-10-25T11:41:14.904Z"
   },
   {
    "duration": 18,
    "start_time": "2021-10-25T11:41:14.926Z"
   },
   {
    "duration": 12,
    "start_time": "2021-10-25T11:41:14.947Z"
   },
   {
    "duration": 19,
    "start_time": "2021-10-25T11:41:14.963Z"
   },
   {
    "duration": 9,
    "start_time": "2021-10-25T11:41:15.000Z"
   },
   {
    "duration": 46,
    "start_time": "2021-10-25T11:41:15.012Z"
   },
   {
    "duration": 6,
    "start_time": "2021-10-25T11:41:15.060Z"
   },
   {
    "duration": 48,
    "start_time": "2021-10-25T11:41:15.068Z"
   },
   {
    "duration": 18,
    "start_time": "2021-10-25T11:41:15.119Z"
   },
   {
    "duration": 16,
    "start_time": "2021-10-25T11:41:15.140Z"
   },
   {
    "duration": 63,
    "start_time": "2021-10-25T11:41:15.158Z"
   },
   {
    "duration": 16,
    "start_time": "2021-10-25T11:41:15.224Z"
   },
   {
    "duration": 461,
    "start_time": "2021-10-25T11:41:15.242Z"
   },
   {
    "duration": 6,
    "start_time": "2021-10-25T11:41:15.705Z"
   },
   {
    "duration": 43,
    "start_time": "2021-10-25T11:41:15.714Z"
   },
   {
    "duration": 48,
    "start_time": "2021-10-25T11:41:15.760Z"
   },
   {
    "duration": 9,
    "start_time": "2021-10-25T11:41:15.811Z"
   },
   {
    "duration": 16,
    "start_time": "2021-10-25T11:41:15.823Z"
   },
   {
    "duration": 15,
    "start_time": "2021-10-25T11:41:15.842Z"
   },
   {
    "duration": 41,
    "start_time": "2021-10-25T11:41:15.859Z"
   },
   {
    "duration": 8,
    "start_time": "2021-10-25T11:41:15.903Z"
   },
   {
    "duration": 9,
    "start_time": "2021-10-25T11:41:15.919Z"
   },
   {
    "duration": 11,
    "start_time": "2021-10-25T11:41:15.932Z"
   },
   {
    "duration": 7,
    "start_time": "2021-10-25T11:41:15.945Z"
   },
   {
    "duration": 47,
    "start_time": "2021-10-25T11:41:15.954Z"
   },
   {
    "duration": 6,
    "start_time": "2021-10-25T11:41:16.003Z"
   },
   {
    "duration": 6,
    "start_time": "2021-10-25T11:41:16.012Z"
   },
   {
    "duration": 6,
    "start_time": "2021-10-25T11:41:16.020Z"
   },
   {
    "duration": 7,
    "start_time": "2021-10-25T11:41:16.028Z"
   },
   {
    "duration": 8,
    "start_time": "2021-10-25T11:41:16.038Z"
   },
   {
    "duration": 9,
    "start_time": "2021-10-25T11:41:16.048Z"
   },
   {
    "duration": 41,
    "start_time": "2021-10-25T11:41:16.059Z"
   },
   {
    "duration": 9,
    "start_time": "2021-10-25T11:41:16.103Z"
   },
   {
    "duration": 16,
    "start_time": "2021-10-25T11:41:16.115Z"
   },
   {
    "duration": 16,
    "start_time": "2021-10-25T11:41:16.134Z"
   },
   {
    "duration": 14,
    "start_time": "2021-10-25T11:41:16.152Z"
   },
   {
    "duration": 32,
    "start_time": "2021-10-25T11:41:16.168Z"
   },
   {
    "duration": 4,
    "start_time": "2021-10-25T11:41:16.202Z"
   },
   {
    "duration": 2600419,
    "start_time": "2021-10-25T11:41:16.208Z"
   },
   {
    "duration": 518,
    "start_time": "2021-10-25T12:24:36.629Z"
   },
   {
    "duration": -85841,
    "start_time": "2021-10-25T12:26:02.990Z"
   },
   {
    "duration": -85855,
    "start_time": "2021-10-25T12:26:03.006Z"
   },
   {
    "duration": -85859,
    "start_time": "2021-10-25T12:26:03.011Z"
   },
   {
    "duration": -85861,
    "start_time": "2021-10-25T12:26:03.015Z"
   },
   {
    "duration": -85866,
    "start_time": "2021-10-25T12:26:03.021Z"
   },
   {
    "duration": -85870,
    "start_time": "2021-10-25T12:26:03.026Z"
   },
   {
    "duration": -85871,
    "start_time": "2021-10-25T12:26:03.029Z"
   },
   {
    "duration": -85874,
    "start_time": "2021-10-25T12:26:03.033Z"
   },
   {
    "duration": -85878,
    "start_time": "2021-10-25T12:26:03.039Z"
   },
   {
    "duration": -85879,
    "start_time": "2021-10-25T12:26:03.042Z"
   },
   {
    "duration": -85882,
    "start_time": "2021-10-25T12:26:03.047Z"
   },
   {
    "duration": -85883,
    "start_time": "2021-10-25T12:26:03.050Z"
   },
   {
    "duration": -85888,
    "start_time": "2021-10-25T12:26:03.057Z"
   },
   {
    "duration": -85892,
    "start_time": "2021-10-25T12:26:03.063Z"
   },
   {
    "duration": 6,
    "start_time": "2021-10-25T12:26:13.099Z"
   },
   {
    "duration": 21,
    "start_time": "2021-10-25T12:26:18.545Z"
   },
   {
    "duration": 26,
    "start_time": "2021-10-25T12:26:19.697Z"
   },
   {
    "duration": 499,
    "start_time": "2021-10-25T12:26:25.277Z"
   },
   {
    "duration": 7,
    "start_time": "2021-10-25T12:41:21.314Z"
   },
   {
    "duration": 7,
    "start_time": "2021-10-25T12:41:22.346Z"
   },
   {
    "duration": 7,
    "start_time": "2021-10-25T12:41:26.957Z"
   },
   {
    "duration": 4,
    "start_time": "2021-10-25T12:41:29.112Z"
   },
   {
    "duration": 6,
    "start_time": "2021-10-25T12:41:32.266Z"
   },
   {
    "duration": 5,
    "start_time": "2021-10-25T12:41:34.324Z"
   },
   {
    "duration": 1482991,
    "start_time": "2021-10-25T12:41:36.058Z"
   },
   {
    "duration": 7,
    "start_time": "2021-10-25T15:20:13.207Z"
   },
   {
    "duration": 15,
    "start_time": "2021-10-25T15:20:20.407Z"
   },
   {
    "duration": 18,
    "start_time": "2021-10-25T15:20:23.419Z"
   },
   {
    "duration": 10,
    "start_time": "2021-10-25T15:20:40.810Z"
   },
   {
    "duration": 4,
    "start_time": "2021-10-25T15:20:43.319Z"
   },
   {
    "duration": 9,
    "start_time": "2021-10-25T15:20:45.093Z"
   },
   {
    "duration": 6,
    "start_time": "2021-10-25T15:23:28.509Z"
   },
   {
    "duration": 377,
    "start_time": "2021-10-25T15:23:59.778Z"
   },
   {
    "duration": 10,
    "start_time": "2021-10-25T15:24:07.229Z"
   },
   {
    "duration": 11759,
    "start_time": "2021-10-25T15:24:11.157Z"
   },
   {
    "duration": 11149,
    "start_time": "2021-10-25T15:24:51.461Z"
   },
   {
    "duration": 13,
    "start_time": "2021-10-25T15:25:07.177Z"
   },
   {
    "duration": 28,
    "start_time": "2021-10-25T15:25:28.175Z"
   },
   {
    "duration": 15,
    "start_time": "2021-10-25T15:25:48.440Z"
   },
   {
    "duration": 381,
    "start_time": "2021-10-25T15:25:58.212Z"
   },
   {
    "duration": 6,
    "start_time": "2021-10-25T15:31:05.036Z"
   },
   {
    "duration": 5,
    "start_time": "2021-10-25T15:33:22.077Z"
   },
   {
    "duration": 10,
    "start_time": "2021-10-25T15:34:23.131Z"
   },
   {
    "duration": 11,
    "start_time": "2021-10-25T15:34:44.228Z"
   },
   {
    "duration": 9,
    "start_time": "2021-10-25T15:35:03.113Z"
   },
   {
    "duration": 8,
    "start_time": "2021-10-25T15:36:11.573Z"
   },
   {
    "duration": 10,
    "start_time": "2021-10-25T15:36:29.749Z"
   },
   {
    "duration": 28,
    "start_time": "2021-10-25T16:19:56.329Z"
   },
   {
    "duration": 14,
    "start_time": "2021-10-25T16:20:26.641Z"
   },
   {
    "duration": 1592,
    "start_time": "2021-10-25T16:33:28.352Z"
   },
   {
    "duration": 49,
    "start_time": "2021-10-25T16:33:29.946Z"
   },
   {
    "duration": 24,
    "start_time": "2021-10-25T16:33:29.998Z"
   },
   {
    "duration": 16,
    "start_time": "2021-10-25T16:33:30.025Z"
   },
   {
    "duration": 35,
    "start_time": "2021-10-25T16:33:30.044Z"
   },
   {
    "duration": 25,
    "start_time": "2021-10-25T16:33:30.082Z"
   },
   {
    "duration": 24,
    "start_time": "2021-10-25T16:33:30.109Z"
   },
   {
    "duration": 37,
    "start_time": "2021-10-25T16:33:30.137Z"
   },
   {
    "duration": 19,
    "start_time": "2021-10-25T16:33:30.178Z"
   },
   {
    "duration": 23,
    "start_time": "2021-10-25T16:33:30.199Z"
   },
   {
    "duration": 37,
    "start_time": "2021-10-25T16:33:30.224Z"
   },
   {
    "duration": 18,
    "start_time": "2021-10-25T16:33:30.263Z"
   },
   {
    "duration": 20,
    "start_time": "2021-10-25T16:33:30.283Z"
   },
   {
    "duration": 30,
    "start_time": "2021-10-25T16:33:30.305Z"
   },
   {
    "duration": 20,
    "start_time": "2021-10-25T16:33:30.337Z"
   },
   {
    "duration": 17,
    "start_time": "2021-10-25T16:33:30.360Z"
   },
   {
    "duration": 38,
    "start_time": "2021-10-25T16:33:30.380Z"
   },
   {
    "duration": 21,
    "start_time": "2021-10-25T16:33:30.420Z"
   },
   {
    "duration": 17,
    "start_time": "2021-10-25T16:33:30.444Z"
   },
   {
    "duration": 61,
    "start_time": "2021-10-25T16:33:30.463Z"
   },
   {
    "duration": 21,
    "start_time": "2021-10-25T16:33:30.526Z"
   },
   {
    "duration": 17,
    "start_time": "2021-10-25T16:33:30.550Z"
   },
   {
    "duration": 29,
    "start_time": "2021-10-25T16:33:30.573Z"
   },
   {
    "duration": 23,
    "start_time": "2021-10-25T16:33:30.606Z"
   },
   {
    "duration": 28,
    "start_time": "2021-10-25T16:33:30.632Z"
   },
   {
    "duration": 24,
    "start_time": "2021-10-25T16:33:30.663Z"
   },
   {
    "duration": 43,
    "start_time": "2021-10-25T16:33:30.690Z"
   },
   {
    "duration": 31,
    "start_time": "2021-10-25T16:33:30.735Z"
   },
   {
    "duration": 62,
    "start_time": "2021-10-25T16:33:30.768Z"
   },
   {
    "duration": 34,
    "start_time": "2021-10-25T16:33:30.832Z"
   },
   {
    "duration": 32,
    "start_time": "2021-10-25T16:33:30.868Z"
   },
   {
    "duration": 18,
    "start_time": "2021-10-25T16:33:30.903Z"
   },
   {
    "duration": 17,
    "start_time": "2021-10-25T16:33:30.924Z"
   },
   {
    "duration": 36,
    "start_time": "2021-10-25T16:33:30.943Z"
   },
   {
    "duration": 31,
    "start_time": "2021-10-25T16:33:30.981Z"
   },
   {
    "duration": 36,
    "start_time": "2021-10-25T16:33:31.015Z"
   },
   {
    "duration": 9,
    "start_time": "2021-10-25T16:33:31.053Z"
   },
   {
    "duration": 30,
    "start_time": "2021-10-25T16:33:31.064Z"
   },
   {
    "duration": 18,
    "start_time": "2021-10-25T16:33:31.100Z"
   },
   {
    "duration": 23,
    "start_time": "2021-10-25T16:33:31.120Z"
   },
   {
    "duration": 18,
    "start_time": "2021-10-25T16:33:31.146Z"
   },
   {
    "duration": 16,
    "start_time": "2021-10-25T16:33:31.166Z"
   },
   {
    "duration": 23,
    "start_time": "2021-10-25T16:33:31.184Z"
   },
   {
    "duration": 24,
    "start_time": "2021-10-25T16:33:31.209Z"
   },
   {
    "duration": 29,
    "start_time": "2021-10-25T16:33:31.236Z"
   },
   {
    "duration": 12,
    "start_time": "2021-10-25T16:33:31.267Z"
   },
   {
    "duration": 14,
    "start_time": "2021-10-25T16:33:31.281Z"
   },
   {
    "duration": 19,
    "start_time": "2021-10-25T16:33:31.298Z"
   },
   {
    "duration": 18,
    "start_time": "2021-10-25T16:33:31.319Z"
   },
   {
    "duration": 18,
    "start_time": "2021-10-25T16:33:31.340Z"
   },
   {
    "duration": 18,
    "start_time": "2021-10-25T16:33:31.361Z"
   },
   {
    "duration": 32,
    "start_time": "2021-10-25T16:33:31.381Z"
   },
   {
    "duration": 5,
    "start_time": "2021-10-25T16:33:31.415Z"
   },
   {
    "duration": 51,
    "start_time": "2021-10-25T16:33:31.422Z"
   },
   {
    "duration": 34,
    "start_time": "2021-10-25T16:33:31.476Z"
   },
   {
    "duration": 14,
    "start_time": "2021-10-25T16:33:31.513Z"
   },
   {
    "duration": 42,
    "start_time": "2021-10-25T16:33:31.529Z"
   },
   {
    "duration": 36,
    "start_time": "2021-10-25T16:33:31.574Z"
   },
   {
    "duration": 406,
    "start_time": "2021-10-25T16:33:31.613Z"
   },
   {
    "duration": 7,
    "start_time": "2021-10-25T16:33:32.023Z"
   },
   {
    "duration": 37,
    "start_time": "2021-10-25T16:33:32.033Z"
   },
   {
    "duration": 44,
    "start_time": "2021-10-25T16:33:32.073Z"
   },
   {
    "duration": 9,
    "start_time": "2021-10-25T16:33:32.120Z"
   },
   {
    "duration": 16,
    "start_time": "2021-10-25T16:33:32.132Z"
   },
   {
    "duration": 57,
    "start_time": "2021-10-25T16:33:32.150Z"
   },
   {
    "duration": 5,
    "start_time": "2021-10-25T16:33:32.209Z"
   },
   {
    "duration": 12,
    "start_time": "2021-10-25T16:33:32.217Z"
   },
   {
    "duration": 9,
    "start_time": "2021-10-25T16:33:32.238Z"
   },
   {
    "duration": 14,
    "start_time": "2021-10-25T16:33:32.250Z"
   },
   {
    "duration": 6,
    "start_time": "2021-10-25T16:33:32.300Z"
   },
   {
    "duration": 8,
    "start_time": "2021-10-25T16:33:32.309Z"
   },
   {
    "duration": 10,
    "start_time": "2021-10-25T16:33:32.320Z"
   },
   {
    "duration": 8,
    "start_time": "2021-10-25T16:33:32.333Z"
   },
   {
    "duration": 9,
    "start_time": "2021-10-25T16:33:32.344Z"
   },
   {
    "duration": 5,
    "start_time": "2021-10-25T16:33:32.355Z"
   },
   {
    "duration": 11,
    "start_time": "2021-10-25T16:33:32.363Z"
   },
   {
    "duration": 4,
    "start_time": "2021-10-25T16:33:32.401Z"
   },
   {
    "duration": 10,
    "start_time": "2021-10-25T16:33:32.407Z"
   },
   {
    "duration": 13,
    "start_time": "2021-10-25T16:33:32.420Z"
   },
   {
    "duration": 15,
    "start_time": "2021-10-25T16:33:32.436Z"
   },
   {
    "duration": 16,
    "start_time": "2021-10-25T16:33:32.453Z"
   },
   {
    "duration": 12,
    "start_time": "2021-10-25T16:33:32.471Z"
   },
   {
    "duration": 17,
    "start_time": "2021-10-25T16:33:32.485Z"
   },
   {
    "duration": 8,
    "start_time": "2021-10-25T16:33:32.504Z"
   },
   {
    "duration": 2598095,
    "start_time": "2021-10-25T16:33:32.515Z"
   },
   {
    "duration": 6,
    "start_time": "2021-10-25T17:16:50.612Z"
   },
   {
    "duration": 29,
    "start_time": "2021-10-25T17:16:50.621Z"
   },
   {
    "duration": 57,
    "start_time": "2021-10-25T17:16:50.654Z"
   },
   {
    "duration": 530,
    "start_time": "2021-10-25T17:16:50.714Z"
   },
   {
    "duration": 6,
    "start_time": "2021-10-25T17:16:51.247Z"
   },
   {
    "duration": 30,
    "start_time": "2021-10-25T17:16:51.256Z"
   },
   {
    "duration": 22,
    "start_time": "2021-10-25T17:16:51.288Z"
   },
   {
    "duration": 12,
    "start_time": "2021-10-25T17:16:51.313Z"
   },
   {
    "duration": 11,
    "start_time": "2021-10-25T17:16:51.327Z"
   },
   {
    "duration": 15,
    "start_time": "2021-10-25T17:16:51.341Z"
   },
   {
    "duration": 1554667,
    "start_time": "2021-10-25T17:16:51.359Z"
   },
   {
    "duration": 5,
    "start_time": "2021-10-25T17:42:46.029Z"
   },
   {
    "duration": 18,
    "start_time": "2021-10-25T17:42:46.036Z"
   },
   {
    "duration": 62,
    "start_time": "2021-10-25T17:42:46.056Z"
   },
   {
    "duration": 8,
    "start_time": "2021-10-25T17:42:46.120Z"
   },
   {
    "duration": 9,
    "start_time": "2021-10-25T17:42:46.130Z"
   },
   {
    "duration": 10,
    "start_time": "2021-10-25T17:42:46.141Z"
   },
   {
    "duration": 7,
    "start_time": "2021-10-25T17:42:46.153Z"
   },
   {
    "duration": 50,
    "start_time": "2021-10-25T17:42:46.162Z"
   },
   {
    "duration": 21643,
    "start_time": "2021-10-25T17:42:46.215Z"
   },
   {
    "duration": 14,
    "start_time": "2021-10-25T17:43:07.860Z"
   },
   {
    "duration": 10,
    "start_time": "2021-10-25T17:43:07.876Z"
   },
   {
    "duration": 482,
    "start_time": "2021-10-25T17:43:07.888Z"
   },
   {
    "duration": 43,
    "start_time": "2021-10-25T17:43:08.372Z"
   },
   {
    "duration": 9,
    "start_time": "2021-10-25T17:43:08.418Z"
   },
   {
    "duration": 1497,
    "start_time": "2021-10-25T22:15:12.543Z"
   },
   {
    "duration": 49,
    "start_time": "2021-10-25T22:15:14.043Z"
   },
   {
    "duration": 20,
    "start_time": "2021-10-25T22:15:14.094Z"
   },
   {
    "duration": 11,
    "start_time": "2021-10-25T22:15:14.117Z"
   },
   {
    "duration": 41,
    "start_time": "2021-10-25T22:15:15.608Z"
   },
   {
    "duration": 12,
    "start_time": "2021-10-25T22:15:15.789Z"
   },
   {
    "duration": 11,
    "start_time": "2021-10-25T22:15:15.935Z"
   },
   {
    "duration": 32,
    "start_time": "2021-10-25T22:15:16.273Z"
   },
   {
    "duration": 16,
    "start_time": "2021-10-25T22:15:16.454Z"
   },
   {
    "duration": 10,
    "start_time": "2021-10-25T22:15:16.606Z"
   },
   {
    "duration": 37,
    "start_time": "2021-10-25T22:15:16.959Z"
   },
   {
    "duration": 10,
    "start_time": "2021-10-25T22:15:17.120Z"
   },
   {
    "duration": 9,
    "start_time": "2021-10-25T22:15:17.287Z"
   },
   {
    "duration": 18,
    "start_time": "2021-10-25T22:15:17.610Z"
   },
   {
    "duration": 19,
    "start_time": "2021-10-25T22:15:17.819Z"
   },
   {
    "duration": 18,
    "start_time": "2021-10-25T22:15:17.968Z"
   },
   {
    "duration": 28,
    "start_time": "2021-10-25T22:15:18.142Z"
   },
   {
    "duration": 20,
    "start_time": "2021-10-25T22:15:18.315Z"
   },
   {
    "duration": 17,
    "start_time": "2021-10-25T22:15:18.710Z"
   },
   {
    "duration": 26,
    "start_time": "2021-10-25T22:15:19.030Z"
   },
   {
    "duration": 16,
    "start_time": "2021-10-25T22:15:19.194Z"
   },
   {
    "duration": 9,
    "start_time": "2021-10-25T22:15:19.527Z"
   },
   {
    "duration": 8,
    "start_time": "2021-10-25T22:15:19.718Z"
   },
   {
    "duration": 7,
    "start_time": "2021-10-25T22:15:20.066Z"
   },
   {
    "duration": 8,
    "start_time": "2021-10-25T22:15:20.217Z"
   },
   {
    "duration": 9,
    "start_time": "2021-10-25T22:15:20.556Z"
   },
   {
    "duration": 29,
    "start_time": "2021-10-25T22:15:20.731Z"
   },
   {
    "duration": 18,
    "start_time": "2021-10-25T22:15:20.913Z"
   },
   {
    "duration": 41,
    "start_time": "2021-10-25T22:15:21.223Z"
   },
   {
    "duration": 33,
    "start_time": "2021-10-25T22:15:22.119Z"
   },
   {
    "duration": 5,
    "start_time": "2021-10-25T22:15:22.481Z"
   },
   {
    "duration": 5,
    "start_time": "2021-10-25T22:15:22.815Z"
   },
   {
    "duration": 8,
    "start_time": "2021-10-25T22:15:23.123Z"
   },
   {
    "duration": 29,
    "start_time": "2021-10-25T22:15:23.456Z"
   },
   {
    "duration": 17,
    "start_time": "2021-10-25T22:15:23.608Z"
   },
   {
    "duration": 26,
    "start_time": "2021-10-25T22:15:23.939Z"
   },
   {
    "duration": 9,
    "start_time": "2021-10-25T22:15:24.279Z"
   },
   {
    "duration": 9,
    "start_time": "2021-10-25T22:15:24.436Z"
   },
   {
    "duration": 9,
    "start_time": "2021-10-25T22:15:24.607Z"
   },
   {
    "duration": 8,
    "start_time": "2021-10-25T22:15:24.762Z"
   },
   {
    "duration": 8,
    "start_time": "2021-10-25T22:15:24.936Z"
   },
   {
    "duration": 9,
    "start_time": "2021-10-25T22:15:25.086Z"
   },
   {
    "duration": 9,
    "start_time": "2021-10-25T22:15:25.246Z"
   },
   {
    "duration": 9,
    "start_time": "2021-10-25T22:15:25.403Z"
   },
   {
    "duration": 8,
    "start_time": "2021-10-25T22:15:25.603Z"
   },
   {
    "duration": 8,
    "start_time": "2021-10-25T22:15:25.748Z"
   },
   {
    "duration": 10,
    "start_time": "2021-10-25T22:15:25.920Z"
   },
   {
    "duration": 10,
    "start_time": "2021-10-25T22:15:26.096Z"
   },
   {
    "duration": 9,
    "start_time": "2021-10-25T22:15:26.287Z"
   },
   {
    "duration": 8,
    "start_time": "2021-10-25T22:15:26.605Z"
   },
   {
    "duration": 10,
    "start_time": "2021-10-25T22:15:26.804Z"
   },
   {
    "duration": 23,
    "start_time": "2021-10-25T22:15:27.155Z"
   },
   {
    "duration": 5,
    "start_time": "2021-10-25T22:15:27.518Z"
   },
   {
    "duration": 28,
    "start_time": "2021-10-25T22:15:27.691Z"
   },
   {
    "duration": 16,
    "start_time": "2021-10-25T22:15:27.883Z"
   },
   {
    "duration": 7,
    "start_time": "2021-10-25T22:15:28.229Z"
   },
   {
    "duration": 35,
    "start_time": "2021-10-25T22:15:28.414Z"
   },
   {
    "duration": 16,
    "start_time": "2021-10-25T22:15:28.586Z"
   },
   {
    "duration": 400,
    "start_time": "2021-10-25T22:15:28.958Z"
   },
   {
    "duration": 7,
    "start_time": "2021-10-25T22:15:29.585Z"
   },
   {
    "duration": 34,
    "start_time": "2021-10-25T22:15:29.752Z"
   },
   {
    "duration": 17,
    "start_time": "2021-10-25T22:15:29.934Z"
   },
   {
    "duration": 9,
    "start_time": "2021-10-25T22:15:30.281Z"
   },
   {
    "duration": 14,
    "start_time": "2021-10-25T22:25:23.772Z"
   },
   {
    "duration": 13,
    "start_time": "2021-10-25T22:25:24.442Z"
   },
   {
    "duration": 7,
    "start_time": "2021-10-25T22:25:25.948Z"
   },
   {
    "duration": 8,
    "start_time": "2021-10-25T22:25:26.813Z"
   },
   {
    "duration": 9,
    "start_time": "2021-10-25T22:25:27.267Z"
   },
   {
    "duration": 9,
    "start_time": "2021-10-25T22:25:27.471Z"
   },
   {
    "duration": 6,
    "start_time": "2021-10-25T22:25:30.266Z"
   },
   {
    "duration": 5,
    "start_time": "2021-10-25T22:25:32.111Z"
   },
   {
    "duration": 6,
    "start_time": "2021-10-25T22:25:32.972Z"
   },
   {
    "duration": 3,
    "start_time": "2021-10-25T22:25:34.876Z"
   },
   {
    "duration": 3,
    "start_time": "2021-10-25T22:25:35.738Z"
   },
   {
    "duration": 4,
    "start_time": "2021-10-25T22:25:37.160Z"
   },
   {
    "duration": 5,
    "start_time": "2021-10-25T22:25:38.320Z"
   },
   {
    "duration": 3,
    "start_time": "2021-10-25T22:25:39.904Z"
   },
   {
    "duration": 4,
    "start_time": "2021-10-25T22:25:43.410Z"
   },
   {
    "duration": 9,
    "start_time": "2021-10-25T22:25:43.766Z"
   },
   {
    "duration": 10,
    "start_time": "2021-10-25T22:25:43.943Z"
   },
   {
    "duration": 8,
    "start_time": "2021-10-25T22:25:44.259Z"
   },
   {
    "duration": 9,
    "start_time": "2021-10-25T22:25:44.479Z"
   },
   {
    "duration": 3,
    "start_time": "2021-10-25T22:26:59.842Z"
   },
   {
    "duration": 4,
    "start_time": "2021-10-25T22:27:01.334Z"
   }
  ],
  "kernelspec": {
   "display_name": "Python 3",
   "language": "python",
   "name": "python3"
  },
  "language_info": {
   "codemirror_mode": {
    "name": "ipython",
    "version": 3
   },
   "file_extension": ".py",
   "mimetype": "text/x-python",
   "name": "python",
   "nbconvert_exporter": "python",
   "pygments_lexer": "ipython3",
   "version": "3.7.8"
  },
  "toc": {
   "base_numbering": 1,
   "nav_menu": {},
   "number_sections": true,
   "sideBar": true,
   "skip_h1_title": true,
   "title_cell": "Table of Contents",
   "title_sidebar": "Contents",
   "toc_cell": false,
   "toc_position": {},
   "toc_section_display": true,
   "toc_window_display": false
  }
 },
 "nbformat": 4,
 "nbformat_minor": 2
}
